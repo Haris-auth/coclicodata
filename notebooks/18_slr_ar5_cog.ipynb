{
 "cells": [
  {
   "cell_type": "markdown",
   "id": "c91b40e6",
   "metadata": {},
   "source": [
    "# Sea Level Rise AR5\n",
    "Migrate AR5 Sea Level Rise to Cloud Optimized GeoTIFFs"
   ]
  },
  {
   "cell_type": "code",
   "execution_count": 1,
   "id": "f1aef40e",
   "metadata": {},
   "outputs": [
    {
     "data": {
      "application/javascript": "\n            setTimeout(function() {\n                var nbb_cell_id = 1;\n                var nbb_unformatted_code = \"# Code formatter, installed as jupyter notebook extension\\n%load_ext nb_black\";\n                var nbb_formatted_code = \"# Code formatter, installed as jupyter notebook extension\\n%load_ext nb_black\";\n                var nbb_cells = Jupyter.notebook.get_cells();\n                for (var i = 0; i < nbb_cells.length; ++i) {\n                    if (nbb_cells[i].input_prompt_number == nbb_cell_id) {\n                        if (nbb_cells[i].get_text() == nbb_unformatted_code) {\n                             nbb_cells[i].set_text(nbb_formatted_code);\n                        }\n                        break;\n                    }\n                }\n            }, 500);\n            ",
      "text/plain": [
       "<IPython.core.display.Javascript object>"
      ]
     },
     "metadata": {},
     "output_type": "display_data"
    }
   ],
   "source": [
    "# Code formatter, installed as jupyter notebook extension\n",
    "%load_ext nb_black"
   ]
  },
  {
   "cell_type": "markdown",
   "id": "f3f67518",
   "metadata": {},
   "source": [
    "### Configure OS independent paths"
   ]
  },
  {
   "cell_type": "code",
   "execution_count": 65,
   "id": "77b089ea",
   "metadata": {},
   "outputs": [
    {
     "data": {
      "application/javascript": "\n            setTimeout(function() {\n                var nbb_cell_id = 65;\n                var nbb_unformatted_code = \"# Import standard packages\\nimport os\\nimport pathlib\\nimport sys\\nimport numpy as np\\nimport geopandas as gpd\\nimport pandas as pd\\nimport rasterio\\nimport rioxarray as rio\\nimport xarray as xr\\n\\n# make root directories importable by appending root to path\\ncwd = pathlib.Path().resolve()\\nsys.path.append(os.path.dirname(cwd))\\n\\n# should be imported after cwd is appended to path\\nfrom etl import p_drive\\n\\n# define local directories\\nhome = pathlib.Path().home()\\ntmp_dir = home.joinpath(\\\"data\\\", \\\"tmp\\\")\\n\\n# remote p drive\\ncoclico_data_dir = p_drive.joinpath(\\\"11205479-coclico\\\", \\\"data\\\")\\n\\n# use local or remote data dir\\nuse_local_data = True\\nds_dirname = \\\"18_AR5_SLP_IPCC\\\"\\n\\nif use_local_data: \\n    ds_dir = tmp_dir.joinpath(ds_dirname)\\nelse: \\n    ds_dir = coclico_data_dir.joinpath(ds_dirname)\\n\\nif not ds_dir.exists():\\n    raise FileNotFoundError(\\\"Directory with data does not exist.\\\")\\n\\n# directory to export result (make if not exists)\\ncog_dir = ds_dir.joinpath(\\\"cog\\\")\\ncog_dir.mkdir(parents=True, exist_ok=True)\\n\\n# data paths\\nds_rcp26_fp = ds_dir.joinpath(\\\"total-ens-slr-26-5.nc\\\")\\nds_rcp45_fp = ds_dir.joinpath(\\\"total-ens-slr-45-5.nc\\\")\\nds_rcp85_fp = ds_dir.joinpath(\\\"totslr-rcp85-4.nc\\\")\";\n                var nbb_formatted_code = \"# Import standard packages\\nimport os\\nimport pathlib\\nimport sys\\nimport numpy as np\\nimport geopandas as gpd\\nimport pandas as pd\\nimport rasterio\\nimport rioxarray as rio\\nimport xarray as xr\\n\\n# make root directories importable by appending root to path\\ncwd = pathlib.Path().resolve()\\nsys.path.append(os.path.dirname(cwd))\\n\\n# should be imported after cwd is appended to path\\nfrom etl import p_drive\\n\\n# define local directories\\nhome = pathlib.Path().home()\\ntmp_dir = home.joinpath(\\\"data\\\", \\\"tmp\\\")\\n\\n# remote p drive\\ncoclico_data_dir = p_drive.joinpath(\\\"11205479-coclico\\\", \\\"data\\\")\\n\\n# use local or remote data dir\\nuse_local_data = True\\nds_dirname = \\\"18_AR5_SLP_IPCC\\\"\\n\\nif use_local_data:\\n    ds_dir = tmp_dir.joinpath(ds_dirname)\\nelse:\\n    ds_dir = coclico_data_dir.joinpath(ds_dirname)\\n\\nif not ds_dir.exists():\\n    raise FileNotFoundError(\\\"Directory with data does not exist.\\\")\\n\\n# directory to export result (make if not exists)\\ncog_dir = ds_dir.joinpath(\\\"cog\\\")\\ncog_dir.mkdir(parents=True, exist_ok=True)\\n\\n# data paths\\nds_rcp26_fp = ds_dir.joinpath(\\\"total-ens-slr-26-5.nc\\\")\\nds_rcp45_fp = ds_dir.joinpath(\\\"total-ens-slr-45-5.nc\\\")\\nds_rcp85_fp = ds_dir.joinpath(\\\"totslr-rcp85-4.nc\\\")\";\n                var nbb_cells = Jupyter.notebook.get_cells();\n                for (var i = 0; i < nbb_cells.length; ++i) {\n                    if (nbb_cells[i].input_prompt_number == nbb_cell_id) {\n                        if (nbb_cells[i].get_text() == nbb_unformatted_code) {\n                             nbb_cells[i].set_text(nbb_formatted_code);\n                        }\n                        break;\n                    }\n                }\n            }, 500);\n            ",
      "text/plain": [
       "<IPython.core.display.Javascript object>"
      ]
     },
     "metadata": {},
     "output_type": "display_data"
    }
   ],
   "source": [
    "# Import standard packages\n",
    "import os\n",
    "import pathlib\n",
    "import sys\n",
    "import numpy as np\n",
    "import geopandas as gpd\n",
    "import pandas as pd\n",
    "import rasterio\n",
    "import rioxarray as rio\n",
    "import xarray as xr\n",
    "\n",
    "# make root directories importable by appending root to path\n",
    "cwd = pathlib.Path().resolve()\n",
    "sys.path.append(os.path.dirname(cwd))\n",
    "\n",
    "# should be imported after cwd is appended to path\n",
    "from etl import p_drive\n",
    "\n",
    "# define local directories\n",
    "home = pathlib.Path().home()\n",
    "tmp_dir = home.joinpath(\"data\", \"tmp\")\n",
    "\n",
    "# remote p drive\n",
    "coclico_data_dir = p_drive.joinpath(\"11205479-coclico\", \"data\")\n",
    "\n",
    "# use local or remote data dir\n",
    "use_local_data = True\n",
    "ds_dirname = \"18_AR5_SLP_IPCC\"\n",
    "\n",
    "if use_local_data: \n",
    "    ds_dir = tmp_dir.joinpath(ds_dirname)\n",
    "else: \n",
    "    ds_dir = coclico_data_dir.joinpath(ds_dirname)\n",
    "\n",
    "if not ds_dir.exists():\n",
    "    raise FileNotFoundError(\"Directory with data does not exist.\")\n",
    "\n",
    "# directory to export result (make if not exists)\n",
    "cog_dir = ds_dir.joinpath(\"cog\")\n",
    "cog_dir.mkdir(parents=True, exist_ok=True)\n"
   ]
  },
  {
   "cell_type": "code",
   "execution_count": 74,
   "id": "d713c7a4",
   "metadata": {},
   "outputs": [
    {
     "name": "stderr",
     "output_type": "stream",
     "text": [
      "/Users/calkoen/miniconda3/envs/coclico/lib/python3.10/site-packages/xarray/conventions.py:521: SerializationWarning: variable 'totslr_ens' has multiple fill values {1e+20, 1e+20}, decoding all values to NaN.\n",
      "  new_vars[k] = decode_cf_variable(\n",
      "/Users/calkoen/miniconda3/envs/coclico/lib/python3.10/site-packages/xarray/conventions.py:521: SerializationWarning: variable 'totslr' has multiple fill values {1e+20, 1e+20}, decoding all values to NaN.\n",
      "  new_vars[k] = decode_cf_variable(\n",
      "/Users/calkoen/miniconda3/envs/coclico/lib/python3.10/site-packages/xarray/conventions.py:521: SerializationWarning: variable 'loerr' has multiple fill values {1e+20, 1e+20}, decoding all values to NaN.\n",
      "  new_vars[k] = decode_cf_variable(\n",
      "/Users/calkoen/miniconda3/envs/coclico/lib/python3.10/site-packages/xarray/conventions.py:521: SerializationWarning: variable 'hierr' has multiple fill values {1e+20, 1e+20}, decoding all values to NaN.\n",
      "  new_vars[k] = decode_cf_variable(\n"
     ]
    },
    {
     "data": {
      "application/javascript": "\n            setTimeout(function() {\n                var nbb_cell_id = 74;\n                var nbb_unformatted_code = \"import rasterio\\nimport xarray as xr\\n\\nBOUNDS = 0\\nENSEMBLE = 1\\nTIME = 0\\nVARIABLE = \\\"totslr_ens\\\"\\nRCP = \\\"45\\\"\\n\\ndef get_data_fp(data_dir, rcp_scenario):\\n    return data_dir.joinpath(f\\\"total-ens-slr-{rcp_scenario}-5.nc\\\")\\n\\n\\nds_fp = get_data_fp(ds_dir, RCP)\\nds = xr.open_dataset(ds_fp)\\nrds = ds.sel({\\\"ens\\\": ENSEMBLE, \\\"bnds\\\":BOUNDS}).isel(time=TIME)[VARIABLE]\\nrds.rio.set_spatial_dims(x_dim=\\\"lon\\\", y_dim=\\\"lat\\\")\\nif not rds.rio.crs:\\n    rds = rds.rio.write_crs(\\\"EPSG:4326\\\")\\n\\nfname = f\\\"{VARIABLE}_rcp{RCP}_bnds{BOUNDS}_ens{ENSEMBLE}_time{TIME}.GeoTiff\\\"\\noutpath = cog_dir.joinpath(fname)\\nrds.rio.to_raster(outpath, driver=\\\"GTiff\\\")\";\n                var nbb_formatted_code = \"import rasterio\\nimport xarray as xr\\n\\nBOUNDS = 0\\nENSEMBLE = 1\\nTIME = 0\\nVARIABLE = \\\"totslr_ens\\\"\\nRCP = \\\"45\\\"\\n\\n\\ndef get_data_fp(data_dir, rcp_scenario):\\n    return data_dir.joinpath(f\\\"total-ens-slr-{rcp_scenario}-5.nc\\\")\\n\\n\\nds_fp = get_data_fp(ds_dir, RCP)\\nds = xr.open_dataset(ds_fp)\\nrds = ds.sel({\\\"ens\\\": ENSEMBLE, \\\"bnds\\\": BOUNDS}).isel(time=TIME)[VARIABLE]\\nrds.rio.set_spatial_dims(x_dim=\\\"lon\\\", y_dim=\\\"lat\\\")\\nif not rds.rio.crs:\\n    rds = rds.rio.write_crs(\\\"EPSG:4326\\\")\\n\\nfname = f\\\"{VARIABLE}_rcp{RCP}_bnds{BOUNDS}_ens{ENSEMBLE}_time{TIME}.GeoTiff\\\"\\noutpath = cog_dir.joinpath(fname)\\nrds.rio.to_raster(outpath, driver=\\\"GTiff\\\")\";\n                var nbb_cells = Jupyter.notebook.get_cells();\n                for (var i = 0; i < nbb_cells.length; ++i) {\n                    if (nbb_cells[i].input_prompt_number == nbb_cell_id) {\n                        if (nbb_cells[i].get_text() == nbb_unformatted_code) {\n                             nbb_cells[i].set_text(nbb_formatted_code);\n                        }\n                        break;\n                    }\n                }\n            }, 500);\n            ",
      "text/plain": [
       "<IPython.core.display.Javascript object>"
      ]
     },
     "metadata": {},
     "output_type": "display_data"
    }
   ],
   "source": [
    "import rasterio\n",
    "import xarray as xr\n",
    "\n",
    "BOUNDS = 0\n",
    "ENSEMBLE = 1\n",
    "TIME = 0\n",
    "VARIABLE = \"totslr_ens\"\n",
    "RCP = \"45\"\n",
    "\n",
    "def get_data_fp(data_dir, rcp_scenario):\n",
    "    \"\"\"Function to get the netcdf dataset fp to also keep track of rcp scenario used. \"\"\"\n",
    "    return data_dir.joinpath(f\"total-ens-slr-{rcp_scenario}-5.nc\")\n",
    "\n",
    "ds_fp = get_data_fp(ds_dir, RCP)\n",
    "ds = xr.open_dataset(ds_fp)\n",
    "\n",
    "# make array 2d \n",
    "rds = ds.sel({\"ens\": ENSEMBLE, \"bnds\":BOUNDS}).isel(time=TIME)[VARIABLE]\n",
    "rds.rio.set_spatial_dims(x_dim=\"lon\", y_dim=\"lat\")\n",
    "if not rds.rio.crs:\n",
    "    rds = rds.rio.write_crs(\"EPSG:4326\")\n",
    "\n",
    "fname = f\"{VARIABLE}_rcp{RCP}_bnds{BOUNDS}_ens{ENSEMBLE}_time{TIME}.GeoTiff\"\n",
    "outpath = cog_dir.joinpath(fname)\n",
    "rds.rio.to_raster(outpath, driver=\"GTiff\")"
   ]
  },
  {
   "cell_type": "code",
   "execution_count": 81,
   "id": "6f19072c",
   "metadata": {},
   "outputs": [
    {
     "data": {
      "text/plain": [
       "<matplotlib.collections.QuadMesh at 0x28c54da80>"
      ]
     },
     "execution_count": 81,
     "metadata": {},
     "output_type": "execute_result"
    },
    {
     "data": {
      "image/png": "[encoded data removed]",
      "text/plain": [
       "<Figure size 640x480 with 2 Axes>"
      ]
     },
     "metadata": {},
     "output_type": "display_data"
    },
    {
     "data": {
      "application/javascript": "\n            setTimeout(function() {\n                var nbb_cell_id = 81;\n                var nbb_unformatted_code = \"import rioxarray as rio\\ndata = rio.open_rasterio(outpath, masked=True)\\nrds.plot()\";\n                var nbb_formatted_code = \"import rioxarray as rio\\n\\ndata = rio.open_rasterio(outpath, masked=True)\\nrds.plot()\";\n                var nbb_cells = Jupyter.notebook.get_cells();\n                for (var i = 0; i < nbb_cells.length; ++i) {\n                    if (nbb_cells[i].input_prompt_number == nbb_cell_id) {\n                        if (nbb_cells[i].get_text() == nbb_unformatted_code) {\n                             nbb_cells[i].set_text(nbb_formatted_code);\n                        }\n                        break;\n                    }\n                }\n            }, 500);\n            ",
      "text/plain": [
       "<IPython.core.display.Javascript object>"
      ]
     },
     "metadata": {},
     "output_type": "display_data"
    }
   ],
   "source": [
    "import rioxarray as rio\n",
    "data = rio.open_rasterio(outpath, masked=True)\n",
    "rds.plot()"
   ]
  },
  {
   "cell_type": "code",
   "execution_count": 78,
   "id": "f0011863",
   "metadata": {},
   "outputs": [
    {
     "data": {
      "text/plain": [
       "<matplotlib.collections.QuadMesh at 0x28c33b310>"
      ]
     },
     "execution_count": 78,
     "metadata": {},
     "output_type": "execute_result"
    },
    {
     "data": {
      "image/png": "[encoded data removed]",
      "text/plain": [
       "<Figure size 640x480 with 2 Axes>"
      ]
     },
     "metadata": {},
     "output_type": "display_data"
    },
    {
     "data": {
      "application/javascript": "\n            setTimeout(function() {\n                var nbb_cell_id = 78;\n                var nbb_unformatted_code = \"rds.plot()\";\n                var nbb_formatted_code = \"rds.plot()\";\n                var nbb_cells = Jupyter.notebook.get_cells();\n                for (var i = 0; i < nbb_cells.length; ++i) {\n                    if (nbb_cells[i].input_prompt_number == nbb_cell_id) {\n                        if (nbb_cells[i].get_text() == nbb_unformatted_code) {\n                             nbb_cells[i].set_text(nbb_formatted_code);\n                        }\n                        break;\n                    }\n                }\n            }, 500);\n            ",
      "text/plain": [
       "<IPython.core.display.Javascript object>"
      ]
     },
     "metadata": {},
     "output_type": "display_data"
    }
   ],
   "source": []
  },
  {
   "cell_type": "code",
   "execution_count": 77,
   "id": "3ebe98cb",
   "metadata": {},
   "outputs": [
    {
     "data": {
      "text/plain": [
       "<matplotlib.collections.QuadMesh at 0x28c164b80>"
      ]
     },
     "execution_count": 77,
     "metadata": {},
     "output_type": "execute_result"
    },
    {
     "data": {
      "image/png": "[encoded data removed]",
      "text/plain": [
       "<Figure size 640x480 with 2 Axes>"
      ]
     },
     "metadata": {},
     "output_type": "display_data"
    },
    {
     "data": {
      "application/javascript": "\n            setTimeout(function() {\n                var nbb_cell_id = 77;\n                var nbb_unformatted_code = \"data.plot()\";\n                var nbb_formatted_code = \"data.plot()\";\n                var nbb_cells = Jupyter.notebook.get_cells();\n                for (var i = 0; i < nbb_cells.length; ++i) {\n                    if (nbb_cells[i].input_prompt_number == nbb_cell_id) {\n                        if (nbb_cells[i].get_text() == nbb_unformatted_code) {\n                             nbb_cells[i].set_text(nbb_formatted_code);\n                        }\n                        break;\n                    }\n                }\n            }, 500);\n            ",
      "text/plain": [
       "<IPython.core.display.Javascript object>"
      ]
     },
     "metadata": {},
     "output_type": "display_data"
    }
   ],
   "source": [
    "data.plot()"
   ]
  },
  {
   "cell_type": "code",
   "execution_count": 39,
   "id": "f7f7bf6a",
   "metadata": {},
   "outputs": [
    {
     "name": "stdout",
     "output_type": "stream",
     "text": [
      "['time', 'bnds', 'lat', 'lon', 'ens']\n",
      "['time', 'lat', 'lon']\n",
      "['time', 'time_bnds', 'lat', 'lon', 'totslr_ens', 'totslr', 'loerr', 'hierr', 'modelname']\n"
     ]
    },
    {
     "name": "stderr",
     "output_type": "stream",
     "text": [
      "/Users/calkoen/miniconda3/envs/coclico/lib/python3.10/site-packages/rasterio/__init__.py:277: NotGeoreferencedWarning: Dataset has no geotransform, gcps, or rpcs. The identity matrix will be returned.\n",
      "  dataset = DatasetReader(path, driver=driver, sharing=sharing, **kwargs)\n",
      "/Users/calkoen/miniconda3/envs/coclico/lib/python3.10/site-packages/rasterio/__init__.py:277: NotGeoreferencedWarning: Dataset has no geotransform, gcps, or rpcs. The identity matrix will be returned.\n",
      "  dataset = DatasetReader(path, driver=driver, sharing=sharing, **kwargs)\n"
     ]
    },
    {
     "ename": "ValueError",
     "evalue": "conflicting sizes for dimension 'time': length 1504 on the data but length 94 on coordinate 'time'",
     "output_type": "error",
     "traceback": [
      "\u001b[0;31m---------------------------------------------------------------------------\u001b[0m",
      "\u001b[0;31mValueError\u001b[0m                                Traceback (most recent call last)",
      "\u001b[1;32m/Users/calkoen/dev/coclicodata/notebooks/18_slr_ar5_cog.ipynb Cell 6\u001b[0m in \u001b[0;36m<cell line: 10>\u001b[0;34m()\u001b[0m\n\u001b[1;32m      <a href='vscode-notebook-cell:/Users/calkoen/dev/coclicodata/notebooks/18_slr_ar5_cog.ipynb#X60sZmlsZQ%3D%3D?line=6'>7</a>\u001b[0m \u001b[39mprint\u001b[39m(\u001b[39mlist\u001b[39m(ds\u001b[39m.\u001b[39mcoords))\n\u001b[1;32m      <a href='vscode-notebook-cell:/Users/calkoen/dev/coclicodata/notebooks/18_slr_ar5_cog.ipynb#X60sZmlsZQ%3D%3D?line=7'>8</a>\u001b[0m \u001b[39mprint\u001b[39m(\u001b[39mlist\u001b[39m(ds\u001b[39m.\u001b[39mvariables))\n\u001b[0;32m---> <a href='vscode-notebook-cell:/Users/calkoen/dev/coclicodata/notebooks/18_slr_ar5_cog.ipynb#X60sZmlsZQ%3D%3D?line=9'>10</a>\u001b[0m ds_rio \u001b[39m=\u001b[39m rio\u001b[39m.\u001b[39;49mopen_rasterio(ds_dir\u001b[39m.\u001b[39;49mjoinpath(\u001b[39m\"\u001b[39;49m\u001b[39mtotal-ens-slr-26-5.nc\u001b[39;49m\u001b[39m\"\u001b[39;49m))\n",
      "File \u001b[0;32m~/miniconda3/envs/coclico/lib/python3.10/site-packages/rioxarray/_io.py:855\u001b[0m, in \u001b[0;36mopen_rasterio\u001b[0;34m(filename, parse_coordinates, chunks, cache, lock, masked, mask_and_scale, variable, group, default_name, decode_times, decode_timedelta, **open_kwargs)\u001b[0m\n\u001b[1;32m    853\u001b[0m \u001b[39m# open the subdatasets if they exist\u001b[39;00m\n\u001b[1;32m    854\u001b[0m \u001b[39mif\u001b[39;00m riods\u001b[39m.\u001b[39msubdatasets:\n\u001b[0;32m--> 855\u001b[0m     \u001b[39mreturn\u001b[39;00m _load_subdatasets(\n\u001b[1;32m    856\u001b[0m         riods\u001b[39m=\u001b[39;49mriods,\n\u001b[1;32m    857\u001b[0m         group\u001b[39m=\u001b[39;49mgroup,\n\u001b[1;32m    858\u001b[0m         variable\u001b[39m=\u001b[39;49mvariable,\n\u001b[1;32m    859\u001b[0m         parse_coordinates\u001b[39m=\u001b[39;49mparse_coordinates,\n\u001b[1;32m    860\u001b[0m         chunks\u001b[39m=\u001b[39;49mchunks,\n\u001b[1;32m    861\u001b[0m         cache\u001b[39m=\u001b[39;49mcache,\n\u001b[1;32m    862\u001b[0m         lock\u001b[39m=\u001b[39;49mlock,\n\u001b[1;32m    863\u001b[0m         masked\u001b[39m=\u001b[39;49mmasked,\n\u001b[1;32m    864\u001b[0m         mask_and_scale\u001b[39m=\u001b[39;49mmask_and_scale,\n\u001b[1;32m    865\u001b[0m         decode_times\u001b[39m=\u001b[39;49mdecode_times,\n\u001b[1;32m    866\u001b[0m         decode_timedelta\u001b[39m=\u001b[39;49mdecode_timedelta,\n\u001b[1;32m    867\u001b[0m         \u001b[39m*\u001b[39;49m\u001b[39m*\u001b[39;49mopen_kwargs,\n\u001b[1;32m    868\u001b[0m     )\n\u001b[1;32m    870\u001b[0m \u001b[39mif\u001b[39;00m vrt_params \u001b[39mis\u001b[39;00m \u001b[39mnot\u001b[39;00m \u001b[39mNone\u001b[39;00m:\n\u001b[1;32m    871\u001b[0m     riods \u001b[39m=\u001b[39m WarpedVRT(riods, \u001b[39m*\u001b[39m\u001b[39m*\u001b[39mvrt_params)\n",
      "File \u001b[0;32m~/miniconda3/envs/coclico/lib/python3.10/site-packages/rioxarray/_io.py:621\u001b[0m, in \u001b[0;36m_load_subdatasets\u001b[0;34m(riods, group, variable, parse_coordinates, chunks, cache, lock, masked, mask_and_scale, decode_times, decode_timedelta, **open_kwargs)\u001b[0m\n\u001b[1;32m    619\u001b[0m \u001b[39mwith\u001b[39;00m rasterio\u001b[39m.\u001b[39mopen(subdataset) \u001b[39mas\u001b[39;00m rds:\n\u001b[1;32m    620\u001b[0m     shape \u001b[39m=\u001b[39m rds\u001b[39m.\u001b[39mshape\n\u001b[0;32m--> 621\u001b[0m rioda: DataArray \u001b[39m=\u001b[39m open_rasterio(  \u001b[39m# type: ignore\u001b[39;49;00m\n\u001b[1;32m    622\u001b[0m     subdataset,\n\u001b[1;32m    623\u001b[0m     parse_coordinates\u001b[39m=\u001b[39;49mshape \u001b[39mnot\u001b[39;49;00m \u001b[39min\u001b[39;49;00m dim_groups \u001b[39mand\u001b[39;49;00m parse_coordinates,\n\u001b[1;32m    624\u001b[0m     chunks\u001b[39m=\u001b[39;49mchunks,\n\u001b[1;32m    625\u001b[0m     cache\u001b[39m=\u001b[39;49mcache,\n\u001b[1;32m    626\u001b[0m     lock\u001b[39m=\u001b[39;49mlock,\n\u001b[1;32m    627\u001b[0m     masked\u001b[39m=\u001b[39;49mmasked,\n\u001b[1;32m    628\u001b[0m     mask_and_scale\u001b[39m=\u001b[39;49mmask_and_scale,\n\u001b[1;32m    629\u001b[0m     default_name\u001b[39m=\u001b[39;49msubdataset\u001b[39m.\u001b[39;49msplit(\u001b[39m\"\u001b[39;49m\u001b[39m:\u001b[39;49m\u001b[39m\"\u001b[39;49m)[\u001b[39m-\u001b[39;49m\u001b[39m1\u001b[39;49m]\u001b[39m.\u001b[39;49mlstrip(\u001b[39m\"\u001b[39;49m\u001b[39m/\u001b[39;49m\u001b[39m\"\u001b[39;49m)\u001b[39m.\u001b[39;49mreplace(\u001b[39m\"\u001b[39;49m\u001b[39m/\u001b[39;49m\u001b[39m\"\u001b[39;49m, \u001b[39m\"\u001b[39;49m\u001b[39m_\u001b[39;49m\u001b[39m\"\u001b[39;49m),\n\u001b[1;32m    630\u001b[0m     decode_times\u001b[39m=\u001b[39;49mdecode_times,\n\u001b[1;32m    631\u001b[0m     decode_timedelta\u001b[39m=\u001b[39;49mdecode_timedelta,\n\u001b[1;32m    632\u001b[0m     \u001b[39m*\u001b[39;49m\u001b[39m*\u001b[39;49mopen_kwargs,\n\u001b[1;32m    633\u001b[0m )\n\u001b[1;32m    634\u001b[0m \u001b[39mif\u001b[39;00m shape \u001b[39mnot\u001b[39;00m \u001b[39min\u001b[39;00m dim_groups:\n\u001b[1;32m    635\u001b[0m     dim_groups[shape] \u001b[39m=\u001b[39m {rioda\u001b[39m.\u001b[39mname: rioda}\n",
      "File \u001b[0;32m~/miniconda3/envs/coclico/lib/python3.10/site-packages/rioxarray/_io.py:929\u001b[0m, in \u001b[0;36mopen_rasterio\u001b[0;34m(filename, parse_coordinates, chunks, cache, lock, masked, mask_and_scale, variable, group, default_name, decode_times, decode_timedelta, **open_kwargs)\u001b[0m\n\u001b[1;32m    926\u001b[0m \u001b[39mif\u001b[39;00m cache \u001b[39mand\u001b[39;00m chunks \u001b[39mis\u001b[39;00m \u001b[39mNone\u001b[39;00m:\n\u001b[1;32m    927\u001b[0m     data \u001b[39m=\u001b[39m indexing\u001b[39m.\u001b[39mMemoryCachedArray(data)\n\u001b[0;32m--> 929\u001b[0m result \u001b[39m=\u001b[39m DataArray(\n\u001b[1;32m    930\u001b[0m     data\u001b[39m=\u001b[39;49mdata, dims\u001b[39m=\u001b[39;49m(coord_name, \u001b[39m\"\u001b[39;49m\u001b[39my\u001b[39;49m\u001b[39m\"\u001b[39;49m, \u001b[39m\"\u001b[39;49m\u001b[39mx\u001b[39;49m\u001b[39m\"\u001b[39;49m), coords\u001b[39m=\u001b[39;49mcoords, attrs\u001b[39m=\u001b[39;49mattrs, name\u001b[39m=\u001b[39;49mda_name\n\u001b[1;32m    931\u001b[0m )\n\u001b[1;32m    932\u001b[0m result\u001b[39m.\u001b[39mencoding \u001b[39m=\u001b[39m encoding\n\u001b[1;32m    934\u001b[0m \u001b[39m# update attributes from NetCDF attributess\u001b[39;00m\n",
      "File \u001b[0;32m~/miniconda3/envs/coclico/lib/python3.10/site-packages/xarray/core/dataarray.py:412\u001b[0m, in \u001b[0;36mDataArray.__init__\u001b[0;34m(self, data, coords, dims, name, attrs, indexes, fastpath)\u001b[0m\n\u001b[1;32m    410\u001b[0m data \u001b[39m=\u001b[39m _check_data_shape(data, coords, dims)\n\u001b[1;32m    411\u001b[0m data \u001b[39m=\u001b[39m as_compatible_data(data)\n\u001b[0;32m--> 412\u001b[0m coords, dims \u001b[39m=\u001b[39m _infer_coords_and_dims(data\u001b[39m.\u001b[39;49mshape, coords, dims)\n\u001b[1;32m    413\u001b[0m variable \u001b[39m=\u001b[39m Variable(dims, data, attrs, fastpath\u001b[39m=\u001b[39m\u001b[39mTrue\u001b[39;00m)\n\u001b[1;32m    414\u001b[0m indexes, coords \u001b[39m=\u001b[39m _create_indexes_from_coords(coords)\n",
      "File \u001b[0;32m~/miniconda3/envs/coclico/lib/python3.10/site-packages/xarray/core/dataarray.py:160\u001b[0m, in \u001b[0;36m_infer_coords_and_dims\u001b[0;34m(shape, coords, dims)\u001b[0m\n\u001b[1;32m    158\u001b[0m \u001b[39mfor\u001b[39;00m d, s \u001b[39min\u001b[39;00m \u001b[39mzip\u001b[39m(v\u001b[39m.\u001b[39mdims, v\u001b[39m.\u001b[39mshape):\n\u001b[1;32m    159\u001b[0m     \u001b[39mif\u001b[39;00m s \u001b[39m!=\u001b[39m sizes[d]:\n\u001b[0;32m--> 160\u001b[0m         \u001b[39mraise\u001b[39;00m \u001b[39mValueError\u001b[39;00m(\n\u001b[1;32m    161\u001b[0m             \u001b[39mf\u001b[39m\u001b[39m\"\u001b[39m\u001b[39mconflicting sizes for dimension \u001b[39m\u001b[39m{\u001b[39;00md\u001b[39m!r}\u001b[39;00m\u001b[39m: \u001b[39m\u001b[39m\"\u001b[39m\n\u001b[1;32m    162\u001b[0m             \u001b[39mf\u001b[39m\u001b[39m\"\u001b[39m\u001b[39mlength \u001b[39m\u001b[39m{\u001b[39;00msizes[d]\u001b[39m}\u001b[39;00m\u001b[39m on the data but length \u001b[39m\u001b[39m{\u001b[39;00ms\u001b[39m}\u001b[39;00m\u001b[39m on \u001b[39m\u001b[39m\"\u001b[39m\n\u001b[1;32m    163\u001b[0m             \u001b[39mf\u001b[39m\u001b[39m\"\u001b[39m\u001b[39mcoordinate \u001b[39m\u001b[39m{\u001b[39;00mk\u001b[39m!r}\u001b[39;00m\u001b[39m\"\u001b[39m\n\u001b[1;32m    164\u001b[0m         )\n\u001b[1;32m    166\u001b[0m \u001b[39mif\u001b[39;00m k \u001b[39min\u001b[39;00m sizes \u001b[39mand\u001b[39;00m v\u001b[39m.\u001b[39mshape \u001b[39m!=\u001b[39m (sizes[k],):\n\u001b[1;32m    167\u001b[0m     \u001b[39mraise\u001b[39;00m \u001b[39mValueError\u001b[39;00m(\n\u001b[1;32m    168\u001b[0m         \u001b[39mf\u001b[39m\u001b[39m\"\u001b[39m\u001b[39mcoordinate \u001b[39m\u001b[39m{\u001b[39;00mk\u001b[39m!r}\u001b[39;00m\u001b[39m is a DataArray dimension, but \u001b[39m\u001b[39m\"\u001b[39m\n\u001b[1;32m    169\u001b[0m         \u001b[39mf\u001b[39m\u001b[39m\"\u001b[39m\u001b[39mit has shape \u001b[39m\u001b[39m{\u001b[39;00mv\u001b[39m.\u001b[39mshape\u001b[39m!r}\u001b[39;00m\u001b[39m rather than expected shape \u001b[39m\u001b[39m{\u001b[39;00msizes[k]\u001b[39m!r}\u001b[39;00m\u001b[39m \u001b[39m\u001b[39m\"\u001b[39m\n\u001b[1;32m    170\u001b[0m         \u001b[39m\"\u001b[39m\u001b[39mmatching the dimension size\u001b[39m\u001b[39m\"\u001b[39m\n\u001b[1;32m    171\u001b[0m     )\n",
      "\u001b[0;31mValueError\u001b[0m: conflicting sizes for dimension 'time': length 1504 on the data but length 94 on coordinate 'time'"
     ]
    },
    {
     "data": {
      "application/javascript": "\n            setTimeout(function() {\n                var nbb_cell_id = 39;\n                var nbb_unformatted_code = \"import xarray as xr\\nimport rioxarray as rio\\n\\n# data can be downloaded here: https://icdc.cen.uni-hamburg.de/thredds/catalog/ftpthredds/ar5_sea_level_rise/catalog.html?dataset=ftpthreddsscan/ar5_sea_level_rise/total-ens-slr-26-5.nc\\nds_xr = xr.open_dataset(ds_dir.joinpath(\\\"total-ens-slr-26-5.nc\\\"))\\nprint(list(ds.dims))\\nprint(list(ds.coords))\\nprint(list(ds.variables))\\n\\nds_rio = rio.open_rasterio(ds_dir.joinpath(\\\"total-ens-slr-26-5.nc\\\"))\";\n                var nbb_formatted_code = \"import xarray as xr\\nimport rioxarray as rio\\n\\n# data can be downloaded here: https://icdc.cen.uni-hamburg.de/thredds/catalog/ftpthredds/ar5_sea_level_rise/catalog.html?dataset=ftpthreddsscan/ar5_sea_level_rise/total-ens-slr-26-5.nc\\nds_xr = xr.open_dataset(ds_dir.joinpath(\\\"total-ens-slr-26-5.nc\\\"))\\nprint(list(ds.dims))\\nprint(list(ds.coords))\\nprint(list(ds.variables))\\n\\nds_rio = rio.open_rasterio(ds_dir.joinpath(\\\"total-ens-slr-26-5.nc\\\"))\";\n                var nbb_cells = Jupyter.notebook.get_cells();\n                for (var i = 0; i < nbb_cells.length; ++i) {\n                    if (nbb_cells[i].input_prompt_number == nbb_cell_id) {\n                        if (nbb_cells[i].get_text() == nbb_unformatted_code) {\n                             nbb_cells[i].set_text(nbb_formatted_code);\n                        }\n                        break;\n                    }\n                }\n            }, 500);\n            ",
      "text/plain": [
       "<IPython.core.display.Javascript object>"
      ]
     },
     "metadata": {},
     "output_type": "display_data"
    }
   ],
   "source": [
    "import xarray as xr\n",
    "import rioxarray as rio\n",
    "\n",
    "# data can be downloaded here: https://icdc.cen.uni-hamburg.de/thredds/catalog/ftpthredds/ar5_sea_level_rise/catalog.html?dataset=ftpthreddsscan/ar5_sea_level_rise/total-ens-slr-26-5.nc\n",
    "ds_xr = xr.open_dataset(ds_dir.joinpath(\"total-ens-slr-26-5.nc\"))\n",
    "print(list(ds.dims))\n",
    "print(list(ds.coords))\n",
    "print(list(ds.variables))\n",
    "\n",
    "ds_rio = rio.open_rasterio(ds_dir.joinpath(\"total-ens-slr-26-5.nc\"))"
   ]
  },
  {
   "cell_type": "code",
   "execution_count": 31,
   "id": "5946c4d1",
   "metadata": {},
   "outputs": [
    {
     "data": {
      "text/html": [
       "<div><svg style=\"position: absolute; width: 0; height: 0; overflow: hidden\">\n",
       "<defs>\n",
       "<symbol id=\"icon-database\" viewBox=\"0 0 32 32\">\n",
       "<path d=\"M16 0c-8.837 0-16 2.239-16 5v4c0 2.761 7.163 5 16 5s16-2.239 16-5v-4c0-2.761-7.163-5-16-5z\"></path>\n",
       "<path d=\"M16 17c-8.837 0-16-2.239-16-5v6c0 2.761 7.163 5 16 5s16-2.239 16-5v-6c0 2.761-7.163 5-16 5z\"></path>\n",
       "<path d=\"M16 26c-8.837 0-16-2.239-16-5v6c0 2.761 7.163 5 16 5s16-2.239 16-5v-6c0 2.761-7.163 5-16 5z\"></path>\n",
       "</symbol>\n",
       "<symbol id=\"icon-file-text2\" viewBox=\"0 0 32 32\">\n",
       "<path d=\"M28.681 7.159c-0.694-0.947-1.662-2.053-2.724-3.116s-2.169-2.030-3.116-2.724c-1.612-1.182-2.393-1.319-2.841-1.319h-15.5c-1.378 0-2.5 1.121-2.5 2.5v27c0 1.378 1.122 2.5 2.5 2.5h23c1.378 0 2.5-1.122 2.5-2.5v-19.5c0-0.448-0.137-1.23-1.319-2.841zM24.543 5.457c0.959 0.959 1.712 1.825 2.268 2.543h-4.811v-4.811c0.718 0.556 1.584 1.309 2.543 2.268zM28 29.5c0 0.271-0.229 0.5-0.5 0.5h-23c-0.271 0-0.5-0.229-0.5-0.5v-27c0-0.271 0.229-0.5 0.5-0.5 0 0 15.499-0 15.5 0v7c0 0.552 0.448 1 1 1h7v19.5z\"></path>\n",
       "<path d=\"M23 26h-14c-0.552 0-1-0.448-1-1s0.448-1 1-1h14c0.552 0 1 0.448 1 1s-0.448 1-1 1z\"></path>\n",
       "<path d=\"M23 22h-14c-0.552 0-1-0.448-1-1s0.448-1 1-1h14c0.552 0 1 0.448 1 1s-0.448 1-1 1z\"></path>\n",
       "<path d=\"M23 18h-14c-0.552 0-1-0.448-1-1s0.448-1 1-1h14c0.552 0 1 0.448 1 1s-0.448 1-1 1z\"></path>\n",
       "</symbol>\n",
       "</defs>\n",
       "</svg>\n",
       "<style>/* CSS stylesheet for displaying xarray objects in jupyterlab.\n",
       " *\n",
       " */\n",
       "\n",
       ":root {\n",
       "  --xr-font-color0: var(--jp-content-font-color0, rgba(0, 0, 0, 1));\n",
       "  --xr-font-color2: var(--jp-content-font-color2, rgba(0, 0, 0, 0.54));\n",
       "  --xr-font-color3: var(--jp-content-font-color3, rgba(0, 0, 0, 0.38));\n",
       "  --xr-border-color: var(--jp-border-color2, #e0e0e0);\n",
       "  --xr-disabled-color: var(--jp-layout-color3, #bdbdbd);\n",
       "  --xr-background-color: var(--jp-layout-color0, white);\n",
       "  --xr-background-color-row-even: var(--jp-layout-color1, white);\n",
       "  --xr-background-color-row-odd: var(--jp-layout-color2, #eeeeee);\n",
       "}\n",
       "\n",
       "html[theme=dark],\n",
       "body[data-theme=dark],\n",
       "body.vscode-dark {\n",
       "  --xr-font-color0: rgba(255, 255, 255, 1);\n",
       "  --xr-font-color2: rgba(255, 255, 255, 0.54);\n",
       "  --xr-font-color3: rgba(255, 255, 255, 0.38);\n",
       "  --xr-border-color: #1F1F1F;\n",
       "  --xr-disabled-color: #515151;\n",
       "  --xr-background-color: #111111;\n",
       "  --xr-background-color-row-even: #111111;\n",
       "  --xr-background-color-row-odd: #313131;\n",
       "}\n",
       "\n",
       ".xr-wrap {\n",
       "  display: block !important;\n",
       "  min-width: 300px;\n",
       "  max-width: 700px;\n",
       "}\n",
       "\n",
       ".xr-text-repr-fallback {\n",
       "  /* fallback to plain text repr when CSS is not injected (untrusted notebook) */\n",
       "  display: none;\n",
       "}\n",
       "\n",
       ".xr-header {\n",
       "  padding-top: 6px;\n",
       "  padding-bottom: 6px;\n",
       "  margin-bottom: 4px;\n",
       "  border-bottom: solid 1px var(--xr-border-color);\n",
       "}\n",
       "\n",
       ".xr-header > div,\n",
       ".xr-header > ul {\n",
       "  display: inline;\n",
       "  margin-top: 0;\n",
       "  margin-bottom: 0;\n",
       "}\n",
       "\n",
       ".xr-obj-type,\n",
       ".xr-array-name {\n",
       "  margin-left: 2px;\n",
       "  margin-right: 10px;\n",
       "}\n",
       "\n",
       ".xr-obj-type {\n",
       "  color: var(--xr-font-color2);\n",
       "}\n",
       "\n",
       ".xr-sections {\n",
       "  padding-left: 0 !important;\n",
       "  display: grid;\n",
       "  grid-template-columns: 150px auto auto 1fr 20px 20px;\n",
       "}\n",
       "\n",
       ".xr-section-item {\n",
       "  display: contents;\n",
       "}\n",
       "\n",
       ".xr-section-item input {\n",
       "  display: none;\n",
       "}\n",
       "\n",
       ".xr-section-item input + label {\n",
       "  color: var(--xr-disabled-color);\n",
       "}\n",
       "\n",
       ".xr-section-item input:enabled + label {\n",
       "  cursor: pointer;\n",
       "  color: var(--xr-font-color2);\n",
       "}\n",
       "\n",
       ".xr-section-item input:enabled + label:hover {\n",
       "  color: var(--xr-font-color0);\n",
       "}\n",
       "\n",
       ".xr-section-summary {\n",
       "  grid-column: 1;\n",
       "  color: var(--xr-font-color2);\n",
       "  font-weight: 500;\n",
       "}\n",
       "\n",
       ".xr-section-summary > span {\n",
       "  display: inline-block;\n",
       "  padding-left: 0.5em;\n",
       "}\n",
       "\n",
       ".xr-section-summary-in:disabled + label {\n",
       "  color: var(--xr-font-color2);\n",
       "}\n",
       "\n",
       ".xr-section-summary-in + label:before {\n",
       "  display: inline-block;\n",
       "  content: '►';\n",
       "  font-size: 11px;\n",
       "  width: 15px;\n",
       "  text-align: center;\n",
       "}\n",
       "\n",
       ".xr-section-summary-in:disabled + label:before {\n",
       "  color: var(--xr-disabled-color);\n",
       "}\n",
       "\n",
       ".xr-section-summary-in:checked + label:before {\n",
       "  content: '▼';\n",
       "}\n",
       "\n",
       ".xr-section-summary-in:checked + label > span {\n",
       "  display: none;\n",
       "}\n",
       "\n",
       ".xr-section-summary,\n",
       ".xr-section-inline-details {\n",
       "  padding-top: 4px;\n",
       "  padding-bottom: 4px;\n",
       "}\n",
       "\n",
       ".xr-section-inline-details {\n",
       "  grid-column: 2 / -1;\n",
       "}\n",
       "\n",
       ".xr-section-details {\n",
       "  display: none;\n",
       "  grid-column: 1 / -1;\n",
       "  margin-bottom: 5px;\n",
       "}\n",
       "\n",
       ".xr-section-summary-in:checked ~ .xr-section-details {\n",
       "  display: contents;\n",
       "}\n",
       "\n",
       ".xr-array-wrap {\n",
       "  grid-column: 1 / -1;\n",
       "  display: grid;\n",
       "  grid-template-columns: 20px auto;\n",
       "}\n",
       "\n",
       ".xr-array-wrap > label {\n",
       "  grid-column: 1;\n",
       "  vertical-align: top;\n",
       "}\n",
       "\n",
       ".xr-preview {\n",
       "  color: var(--xr-font-color3);\n",
       "}\n",
       "\n",
       ".xr-array-preview,\n",
       ".xr-array-data {\n",
       "  padding: 0 5px !important;\n",
       "  grid-column: 2;\n",
       "}\n",
       "\n",
       ".xr-array-data,\n",
       ".xr-array-in:checked ~ .xr-array-preview {\n",
       "  display: none;\n",
       "}\n",
       "\n",
       ".xr-array-in:checked ~ .xr-array-data,\n",
       ".xr-array-preview {\n",
       "  display: inline-block;\n",
       "}\n",
       "\n",
       ".xr-dim-list {\n",
       "  display: inline-block !important;\n",
       "  list-style: none;\n",
       "  padding: 0 !important;\n",
       "  margin: 0;\n",
       "}\n",
       "\n",
       ".xr-dim-list li {\n",
       "  display: inline-block;\n",
       "  padding: 0;\n",
       "  margin: 0;\n",
       "}\n",
       "\n",
       ".xr-dim-list:before {\n",
       "  content: '(';\n",
       "}\n",
       "\n",
       ".xr-dim-list:after {\n",
       "  content: ')';\n",
       "}\n",
       "\n",
       ".xr-dim-list li:not(:last-child):after {\n",
       "  content: ',';\n",
       "  padding-right: 5px;\n",
       "}\n",
       "\n",
       ".xr-has-index {\n",
       "  font-weight: bold;\n",
       "}\n",
       "\n",
       ".xr-var-list,\n",
       ".xr-var-item {\n",
       "  display: contents;\n",
       "}\n",
       "\n",
       ".xr-var-item > div,\n",
       ".xr-var-item label,\n",
       ".xr-var-item > .xr-var-name span {\n",
       "  background-color: var(--xr-background-color-row-even);\n",
       "  margin-bottom: 0;\n",
       "}\n",
       "\n",
       ".xr-var-item > .xr-var-name:hover span {\n",
       "  padding-right: 5px;\n",
       "}\n",
       "\n",
       ".xr-var-list > li:nth-child(odd) > div,\n",
       ".xr-var-list > li:nth-child(odd) > label,\n",
       ".xr-var-list > li:nth-child(odd) > .xr-var-name span {\n",
       "  background-color: var(--xr-background-color-row-odd);\n",
       "}\n",
       "\n",
       ".xr-var-name {\n",
       "  grid-column: 1;\n",
       "}\n",
       "\n",
       ".xr-var-dims {\n",
       "  grid-column: 2;\n",
       "}\n",
       "\n",
       ".xr-var-dtype {\n",
       "  grid-column: 3;\n",
       "  text-align: right;\n",
       "  color: var(--xr-font-color2);\n",
       "}\n",
       "\n",
       ".xr-var-preview {\n",
       "  grid-column: 4;\n",
       "}\n",
       "\n",
       ".xr-var-name,\n",
       ".xr-var-dims,\n",
       ".xr-var-dtype,\n",
       ".xr-preview,\n",
       ".xr-attrs dt {\n",
       "  white-space: nowrap;\n",
       "  overflow: hidden;\n",
       "  text-overflow: ellipsis;\n",
       "  padding-right: 10px;\n",
       "}\n",
       "\n",
       ".xr-var-name:hover,\n",
       ".xr-var-dims:hover,\n",
       ".xr-var-dtype:hover,\n",
       ".xr-attrs dt:hover {\n",
       "  overflow: visible;\n",
       "  width: auto;\n",
       "  z-index: 1;\n",
       "}\n",
       "\n",
       ".xr-var-attrs,\n",
       ".xr-var-data {\n",
       "  display: none;\n",
       "  background-color: var(--xr-background-color) !important;\n",
       "  padding-bottom: 5px !important;\n",
       "}\n",
       "\n",
       ".xr-var-attrs-in:checked ~ .xr-var-attrs,\n",
       ".xr-var-data-in:checked ~ .xr-var-data {\n",
       "  display: block;\n",
       "}\n",
       "\n",
       ".xr-var-data > table {\n",
       "  float: right;\n",
       "}\n",
       "\n",
       ".xr-var-name span,\n",
       ".xr-var-data,\n",
       ".xr-attrs {\n",
       "  padding-left: 25px !important;\n",
       "}\n",
       "\n",
       ".xr-attrs,\n",
       ".xr-var-attrs,\n",
       ".xr-var-data {\n",
       "  grid-column: 1 / -1;\n",
       "}\n",
       "\n",
       "dl.xr-attrs {\n",
       "  padding: 0;\n",
       "  margin: 0;\n",
       "  display: grid;\n",
       "  grid-template-columns: 125px auto;\n",
       "}\n",
       "\n",
       ".xr-attrs dt,\n",
       ".xr-attrs dd {\n",
       "  padding: 0;\n",
       "  margin: 0;\n",
       "  float: left;\n",
       "  padding-right: 10px;\n",
       "  width: auto;\n",
       "}\n",
       "\n",
       ".xr-attrs dt {\n",
       "  font-weight: normal;\n",
       "  grid-column: 1;\n",
       "}\n",
       "\n",
       ".xr-attrs dt:hover span {\n",
       "  display: inline-block;\n",
       "  background: var(--xr-background-color);\n",
       "  padding-right: 10px;\n",
       "}\n",
       "\n",
       ".xr-attrs dd {\n",
       "  grid-column: 2;\n",
       "  white-space: pre-wrap;\n",
       "  word-break: break-all;\n",
       "}\n",
       "\n",
       ".xr-icon-database,\n",
       ".xr-icon-file-text2 {\n",
       "  display: inline-block;\n",
       "  vertical-align: middle;\n",
       "  width: 1em;\n",
       "  height: 1.5em !important;\n",
       "  stroke-width: 0;\n",
       "  stroke: currentColor;\n",
       "  fill: currentColor;\n",
       "}\n",
       "</style><pre class='xr-text-repr-fallback'>&lt;xarray.Dataset&gt;\n",
       "Dimensions:     (time: 94, bnds: 2, lat: 180, lon: 360, ens: 16)\n",
       "Coordinates:\n",
       "  * time        (time) object 2007-07-02 12:00:00 ... 2100-07-02 12:00:00\n",
       "  * lat         (lat) float64 -89.5 -88.5 -87.5 -86.5 ... 86.5 87.5 88.5 89.5\n",
       "  * lon         (lon) float64 0.5 1.5 2.5 3.5 4.5 ... 356.5 357.5 358.5 359.5\n",
       "Dimensions without coordinates: bnds, ens\n",
       "Data variables:\n",
       "    time_bnds   (time, bnds) object 2007-01-01 00:00:00 ... 2101-01-01 00:00:00\n",
       "    totslr_ens  (ens, time, lat, lon) float32 ...\n",
       "    totslr      (time, lat, lon) float32 ...\n",
       "    loerr       (time, lat, lon) float32 ...\n",
       "    hierr       (time, lat, lon) float32 ...\n",
       "    modelname   (ens) |S16 b&#x27;       GISS-E2-R&#x27; ... b&#x27;      BCC-CSM1-1&#x27;\n",
       "Attributes:\n",
       "    history:     version 5, 27-March-2014\n",
       "    contact:     mark.carson@zmaw.de\n",
       "    references:  IPCC AR5 WGI, Chapter 13, and Chapter 13: Supplementary Mate...</pre><div class='xr-wrap' style='display:none'><div class='xr-header'><div class='xr-obj-type'>xarray.Dataset</div></div><ul class='xr-sections'><li class='xr-section-item'><input id='section-25acc2f2-f56a-4ec4-8b51-fd86bd7e855e' class='xr-section-summary-in' type='checkbox' disabled ><label for='section-25acc2f2-f56a-4ec4-8b51-fd86bd7e855e' class='xr-section-summary'  title='Expand/collapse section'>Dimensions:</label><div class='xr-section-inline-details'><ul class='xr-dim-list'><li><span class='xr-has-index'>time</span>: 94</li><li><span>bnds</span>: 2</li><li><span class='xr-has-index'>lat</span>: 180</li><li><span class='xr-has-index'>lon</span>: 360</li><li><span>ens</span>: 16</li></ul></div><div class='xr-section-details'></div></li><li class='xr-section-item'><input id='section-a0e26b7c-0c15-400e-a8f4-d7c6291389ac' class='xr-section-summary-in' type='checkbox'  checked><label for='section-a0e26b7c-0c15-400e-a8f4-d7c6291389ac' class='xr-section-summary' >Coordinates: <span>(3)</span></label><div class='xr-section-inline-details'></div><div class='xr-section-details'><ul class='xr-var-list'><li class='xr-var-item'><div class='xr-var-name'><span class='xr-has-index'>time</span></div><div class='xr-var-dims'>(time)</div><div class='xr-var-dtype'>object</div><div class='xr-var-preview xr-preview'>2007-07-02 12:00:00 ... 2100-07-...</div><input id='attrs-56325147-731d-43fb-9545-57bee7e1f57c' class='xr-var-attrs-in' type='checkbox' ><label for='attrs-56325147-731d-43fb-9545-57bee7e1f57c' title='Show/Hide attributes'><svg class='icon xr-icon-file-text2'><use xlink:href='#icon-file-text2'></use></svg></label><input id='data-8274e1a8-98fb-4350-ac08-60e05b058a9f' class='xr-var-data-in' type='checkbox'><label for='data-8274e1a8-98fb-4350-ac08-60e05b058a9f' title='Show/Hide data repr'><svg class='icon xr-icon-database'><use xlink:href='#icon-database'></use></svg></label><div class='xr-var-attrs'><dl class='xr-attrs'><dt><span>long_name :</span></dt><dd>time</dd><dt><span>bounds :</span></dt><dd>time_bnds</dd><dt><span>axis :</span></dt><dd>T</dd></dl></div><div class='xr-var-data'><pre>array([cftime.DatetimeNoLeap(2007, 7, 2, 12, 0, 0, 0, has_year_zero=True),\n",
       "       cftime.DatetimeNoLeap(2008, 7, 2, 0, 0, 0, 0, has_year_zero=True),\n",
       "       cftime.DatetimeNoLeap(2009, 7, 2, 12, 0, 0, 0, has_year_zero=True),\n",
       "       cftime.DatetimeNoLeap(2010, 7, 2, 12, 0, 0, 0, has_year_zero=True),\n",
       "       cftime.DatetimeNoLeap(2011, 7, 2, 12, 0, 0, 0, has_year_zero=True),\n",
       "       cftime.DatetimeNoLeap(2012, 7, 2, 0, 0, 0, 0, has_year_zero=True),\n",
       "       cftime.DatetimeNoLeap(2013, 7, 2, 12, 0, 0, 0, has_year_zero=True),\n",
       "       cftime.DatetimeNoLeap(2014, 7, 2, 12, 0, 0, 0, has_year_zero=True),\n",
       "       cftime.DatetimeNoLeap(2015, 7, 2, 12, 0, 0, 0, has_year_zero=True),\n",
       "       cftime.DatetimeNoLeap(2016, 7, 2, 0, 0, 0, 0, has_year_zero=True),\n",
       "       cftime.DatetimeNoLeap(2017, 7, 2, 12, 0, 0, 0, has_year_zero=True),\n",
       "       cftime.DatetimeNoLeap(2018, 7, 2, 12, 0, 0, 0, has_year_zero=True),\n",
       "       cftime.DatetimeNoLeap(2019, 7, 2, 12, 0, 0, 0, has_year_zero=True),\n",
       "       cftime.DatetimeNoLeap(2020, 7, 2, 0, 0, 0, 0, has_year_zero=True),\n",
       "       cftime.DatetimeNoLeap(2021, 7, 2, 12, 0, 0, 0, has_year_zero=True),\n",
       "       cftime.DatetimeNoLeap(2022, 7, 2, 12, 0, 0, 0, has_year_zero=True),\n",
       "       cftime.DatetimeNoLeap(2023, 7, 2, 12, 0, 0, 0, has_year_zero=True),\n",
       "       cftime.DatetimeNoLeap(2024, 7, 2, 0, 0, 0, 0, has_year_zero=True),\n",
       "       cftime.DatetimeNoLeap(2025, 7, 2, 12, 0, 0, 0, has_year_zero=True),\n",
       "       cftime.DatetimeNoLeap(2026, 7, 2, 12, 0, 0, 0, has_year_zero=True),\n",
       "       cftime.DatetimeNoLeap(2027, 7, 2, 12, 0, 0, 0, has_year_zero=True),\n",
       "       cftime.DatetimeNoLeap(2028, 7, 2, 0, 0, 0, 0, has_year_zero=True),\n",
       "       cftime.DatetimeNoLeap(2029, 7, 2, 12, 0, 0, 0, has_year_zero=True),\n",
       "       cftime.DatetimeNoLeap(2030, 7, 2, 12, 0, 0, 0, has_year_zero=True),\n",
       "       cftime.DatetimeNoLeap(2031, 7, 2, 12, 0, 0, 0, has_year_zero=True),\n",
       "       cftime.DatetimeNoLeap(2032, 7, 2, 0, 0, 0, 0, has_year_zero=True),\n",
       "       cftime.DatetimeNoLeap(2033, 7, 2, 12, 0, 0, 0, has_year_zero=True),\n",
       "       cftime.DatetimeNoLeap(2034, 7, 2, 12, 0, 0, 0, has_year_zero=True),\n",
       "       cftime.DatetimeNoLeap(2035, 7, 2, 12, 0, 0, 0, has_year_zero=True),\n",
       "       cftime.DatetimeNoLeap(2036, 7, 2, 0, 0, 0, 0, has_year_zero=True),\n",
       "       cftime.DatetimeNoLeap(2037, 7, 2, 12, 0, 0, 0, has_year_zero=True),\n",
       "       cftime.DatetimeNoLeap(2038, 7, 2, 12, 0, 0, 0, has_year_zero=True),\n",
       "       cftime.DatetimeNoLeap(2039, 7, 2, 12, 0, 0, 0, has_year_zero=True),\n",
       "       cftime.DatetimeNoLeap(2040, 7, 2, 0, 0, 0, 0, has_year_zero=True),\n",
       "       cftime.DatetimeNoLeap(2041, 7, 2, 12, 0, 0, 0, has_year_zero=True),\n",
       "       cftime.DatetimeNoLeap(2042, 7, 2, 12, 0, 0, 0, has_year_zero=True),\n",
       "       cftime.DatetimeNoLeap(2043, 7, 2, 12, 0, 0, 0, has_year_zero=True),\n",
       "       cftime.DatetimeNoLeap(2044, 7, 2, 0, 0, 0, 0, has_year_zero=True),\n",
       "       cftime.DatetimeNoLeap(2045, 7, 2, 12, 0, 0, 0, has_year_zero=True),\n",
       "       cftime.DatetimeNoLeap(2046, 7, 2, 12, 0, 0, 0, has_year_zero=True),\n",
       "       cftime.DatetimeNoLeap(2047, 7, 2, 12, 0, 0, 0, has_year_zero=True),\n",
       "       cftime.DatetimeNoLeap(2048, 7, 2, 0, 0, 0, 0, has_year_zero=True),\n",
       "       cftime.DatetimeNoLeap(2049, 7, 2, 12, 0, 0, 0, has_year_zero=True),\n",
       "       cftime.DatetimeNoLeap(2050, 7, 2, 12, 0, 0, 0, has_year_zero=True),\n",
       "       cftime.DatetimeNoLeap(2051, 7, 2, 12, 0, 0, 0, has_year_zero=True),\n",
       "       cftime.DatetimeNoLeap(2052, 7, 2, 0, 0, 0, 0, has_year_zero=True),\n",
       "       cftime.DatetimeNoLeap(2053, 7, 2, 12, 0, 0, 0, has_year_zero=True),\n",
       "       cftime.DatetimeNoLeap(2054, 7, 2, 12, 0, 0, 0, has_year_zero=True),\n",
       "       cftime.DatetimeNoLeap(2055, 7, 2, 12, 0, 0, 0, has_year_zero=True),\n",
       "       cftime.DatetimeNoLeap(2056, 7, 2, 0, 0, 0, 0, has_year_zero=True),\n",
       "       cftime.DatetimeNoLeap(2057, 7, 2, 12, 0, 0, 0, has_year_zero=True),\n",
       "       cftime.DatetimeNoLeap(2058, 7, 2, 12, 0, 0, 0, has_year_zero=True),\n",
       "       cftime.DatetimeNoLeap(2059, 7, 2, 12, 0, 0, 0, has_year_zero=True),\n",
       "       cftime.DatetimeNoLeap(2060, 7, 2, 0, 0, 0, 0, has_year_zero=True),\n",
       "       cftime.DatetimeNoLeap(2061, 7, 2, 12, 0, 0, 0, has_year_zero=True),\n",
       "       cftime.DatetimeNoLeap(2062, 7, 2, 12, 0, 0, 0, has_year_zero=True),\n",
       "       cftime.DatetimeNoLeap(2063, 7, 2, 12, 0, 0, 0, has_year_zero=True),\n",
       "       cftime.DatetimeNoLeap(2064, 7, 2, 0, 0, 0, 0, has_year_zero=True),\n",
       "       cftime.DatetimeNoLeap(2065, 7, 2, 12, 0, 0, 0, has_year_zero=True),\n",
       "       cftime.DatetimeNoLeap(2066, 7, 2, 12, 0, 0, 0, has_year_zero=True),\n",
       "       cftime.DatetimeNoLeap(2067, 7, 2, 12, 0, 0, 0, has_year_zero=True),\n",
       "       cftime.DatetimeNoLeap(2068, 7, 2, 0, 0, 0, 0, has_year_zero=True),\n",
       "       cftime.DatetimeNoLeap(2069, 7, 2, 12, 0, 0, 0, has_year_zero=True),\n",
       "       cftime.DatetimeNoLeap(2070, 7, 2, 12, 0, 0, 0, has_year_zero=True),\n",
       "       cftime.DatetimeNoLeap(2071, 7, 2, 12, 0, 0, 0, has_year_zero=True),\n",
       "       cftime.DatetimeNoLeap(2072, 7, 2, 0, 0, 0, 0, has_year_zero=True),\n",
       "       cftime.DatetimeNoLeap(2073, 7, 2, 12, 0, 0, 0, has_year_zero=True),\n",
       "       cftime.DatetimeNoLeap(2074, 7, 2, 12, 0, 0, 0, has_year_zero=True),\n",
       "       cftime.DatetimeNoLeap(2075, 7, 2, 12, 0, 0, 0, has_year_zero=True),\n",
       "       cftime.DatetimeNoLeap(2076, 7, 2, 0, 0, 0, 0, has_year_zero=True),\n",
       "       cftime.DatetimeNoLeap(2077, 7, 2, 12, 0, 0, 0, has_year_zero=True),\n",
       "       cftime.DatetimeNoLeap(2078, 7, 2, 12, 0, 0, 0, has_year_zero=True),\n",
       "       cftime.DatetimeNoLeap(2079, 7, 2, 12, 0, 0, 0, has_year_zero=True),\n",
       "       cftime.DatetimeNoLeap(2080, 7, 2, 0, 0, 0, 0, has_year_zero=True),\n",
       "       cftime.DatetimeNoLeap(2081, 7, 2, 12, 0, 0, 0, has_year_zero=True),\n",
       "       cftime.DatetimeNoLeap(2082, 7, 2, 12, 0, 0, 0, has_year_zero=True),\n",
       "       cftime.DatetimeNoLeap(2083, 7, 2, 12, 0, 0, 0, has_year_zero=True),\n",
       "       cftime.DatetimeNoLeap(2084, 7, 2, 0, 0, 0, 0, has_year_zero=True),\n",
       "       cftime.DatetimeNoLeap(2085, 7, 2, 12, 0, 0, 0, has_year_zero=True),\n",
       "       cftime.DatetimeNoLeap(2086, 7, 2, 12, 0, 0, 0, has_year_zero=True),\n",
       "       cftime.DatetimeNoLeap(2087, 7, 2, 12, 0, 0, 0, has_year_zero=True),\n",
       "       cftime.DatetimeNoLeap(2088, 7, 2, 0, 0, 0, 0, has_year_zero=True),\n",
       "       cftime.DatetimeNoLeap(2089, 7, 2, 12, 0, 0, 0, has_year_zero=True),\n",
       "       cftime.DatetimeNoLeap(2090, 7, 2, 12, 0, 0, 0, has_year_zero=True),\n",
       "       cftime.DatetimeNoLeap(2091, 7, 2, 12, 0, 0, 0, has_year_zero=True),\n",
       "       cftime.DatetimeNoLeap(2092, 7, 2, 0, 0, 0, 0, has_year_zero=True),\n",
       "       cftime.DatetimeNoLeap(2093, 7, 2, 12, 0, 0, 0, has_year_zero=True),\n",
       "       cftime.DatetimeNoLeap(2094, 7, 2, 12, 0, 0, 0, has_year_zero=True),\n",
       "       cftime.DatetimeNoLeap(2095, 7, 2, 12, 0, 0, 0, has_year_zero=True),\n",
       "       cftime.DatetimeNoLeap(2096, 7, 2, 0, 0, 0, 0, has_year_zero=True),\n",
       "       cftime.DatetimeNoLeap(2097, 7, 2, 12, 0, 0, 0, has_year_zero=True),\n",
       "       cftime.DatetimeNoLeap(2098, 7, 2, 12, 0, 0, 0, has_year_zero=True),\n",
       "       cftime.DatetimeNoLeap(2099, 7, 2, 12, 0, 0, 0, has_year_zero=True),\n",
       "       cftime.DatetimeNoLeap(2100, 7, 2, 12, 0, 0, 0, has_year_zero=True)],\n",
       "      dtype=object)</pre></div></li><li class='xr-var-item'><div class='xr-var-name'><span class='xr-has-index'>lat</span></div><div class='xr-var-dims'>(lat)</div><div class='xr-var-dtype'>float64</div><div class='xr-var-preview xr-preview'>-89.5 -88.5 -87.5 ... 88.5 89.5</div><input id='attrs-8d83360e-acfa-412d-bd5b-aa31dcd7cd8b' class='xr-var-attrs-in' type='checkbox' ><label for='attrs-8d83360e-acfa-412d-bd5b-aa31dcd7cd8b' title='Show/Hide attributes'><svg class='icon xr-icon-file-text2'><use xlink:href='#icon-file-text2'></use></svg></label><input id='data-b945561a-a771-44f3-9760-1d78ce8b327c' class='xr-var-data-in' type='checkbox'><label for='data-b945561a-a771-44f3-9760-1d78ce8b327c' title='Show/Hide data repr'><svg class='icon xr-icon-database'><use xlink:href='#icon-database'></use></svg></label><div class='xr-var-attrs'><dl class='xr-attrs'><dt><span>standard_name :</span></dt><dd>latitude</dd><dt><span>long_name :</span></dt><dd>latitude coordinate</dd><dt><span>units :</span></dt><dd>degrees_north</dd><dt><span>axis :</span></dt><dd>Y</dd></dl></div><div class='xr-var-data'><pre>array([-89.5, -88.5, -87.5, -86.5, -85.5, -84.5, -83.5, -82.5, -81.5, -80.5,\n",
       "       -79.5, -78.5, -77.5, -76.5, -75.5, -74.5, -73.5, -72.5, -71.5, -70.5,\n",
       "       -69.5, -68.5, -67.5, -66.5, -65.5, -64.5, -63.5, -62.5, -61.5, -60.5,\n",
       "       -59.5, -58.5, -57.5, -56.5, -55.5, -54.5, -53.5, -52.5, -51.5, -50.5,\n",
       "       -49.5, -48.5, -47.5, -46.5, -45.5, -44.5, -43.5, -42.5, -41.5, -40.5,\n",
       "       -39.5, -38.5, -37.5, -36.5, -35.5, -34.5, -33.5, -32.5, -31.5, -30.5,\n",
       "       -29.5, -28.5, -27.5, -26.5, -25.5, -24.5, -23.5, -22.5, -21.5, -20.5,\n",
       "       -19.5, -18.5, -17.5, -16.5, -15.5, -14.5, -13.5, -12.5, -11.5, -10.5,\n",
       "        -9.5,  -8.5,  -7.5,  -6.5,  -5.5,  -4.5,  -3.5,  -2.5,  -1.5,  -0.5,\n",
       "         0.5,   1.5,   2.5,   3.5,   4.5,   5.5,   6.5,   7.5,   8.5,   9.5,\n",
       "        10.5,  11.5,  12.5,  13.5,  14.5,  15.5,  16.5,  17.5,  18.5,  19.5,\n",
       "        20.5,  21.5,  22.5,  23.5,  24.5,  25.5,  26.5,  27.5,  28.5,  29.5,\n",
       "        30.5,  31.5,  32.5,  33.5,  34.5,  35.5,  36.5,  37.5,  38.5,  39.5,\n",
       "        40.5,  41.5,  42.5,  43.5,  44.5,  45.5,  46.5,  47.5,  48.5,  49.5,\n",
       "        50.5,  51.5,  52.5,  53.5,  54.5,  55.5,  56.5,  57.5,  58.5,  59.5,\n",
       "        60.5,  61.5,  62.5,  63.5,  64.5,  65.5,  66.5,  67.5,  68.5,  69.5,\n",
       "        70.5,  71.5,  72.5,  73.5,  74.5,  75.5,  76.5,  77.5,  78.5,  79.5,\n",
       "        80.5,  81.5,  82.5,  83.5,  84.5,  85.5,  86.5,  87.5,  88.5,  89.5])</pre></div></li><li class='xr-var-item'><div class='xr-var-name'><span class='xr-has-index'>lon</span></div><div class='xr-var-dims'>(lon)</div><div class='xr-var-dtype'>float64</div><div class='xr-var-preview xr-preview'>0.5 1.5 2.5 ... 357.5 358.5 359.5</div><input id='attrs-8528597d-3f28-4f4e-bd26-f7a72d63579a' class='xr-var-attrs-in' type='checkbox' ><label for='attrs-8528597d-3f28-4f4e-bd26-f7a72d63579a' title='Show/Hide attributes'><svg class='icon xr-icon-file-text2'><use xlink:href='#icon-file-text2'></use></svg></label><input id='data-3ba38e32-23c7-4880-a799-8936e64c15d3' class='xr-var-data-in' type='checkbox'><label for='data-3ba38e32-23c7-4880-a799-8936e64c15d3' title='Show/Hide data repr'><svg class='icon xr-icon-database'><use xlink:href='#icon-database'></use></svg></label><div class='xr-var-attrs'><dl class='xr-attrs'><dt><span>standard_name :</span></dt><dd>longitude</dd><dt><span>long_name :</span></dt><dd>longitude coordinate</dd><dt><span>units :</span></dt><dd>degrees_east</dd><dt><span>axis :</span></dt><dd>X</dd></dl></div><div class='xr-var-data'><pre>array([  0.5,   1.5,   2.5, ..., 357.5, 358.5, 359.5])</pre></div></li></ul></div></li><li class='xr-section-item'><input id='section-abd629f1-93d1-4478-bbb6-1437cb27335a' class='xr-section-summary-in' type='checkbox'  checked><label for='section-abd629f1-93d1-4478-bbb6-1437cb27335a' class='xr-section-summary' >Data variables: <span>(6)</span></label><div class='xr-section-inline-details'></div><div class='xr-section-details'><ul class='xr-var-list'><li class='xr-var-item'><div class='xr-var-name'><span>time_bnds</span></div><div class='xr-var-dims'>(time, bnds)</div><div class='xr-var-dtype'>object</div><div class='xr-var-preview xr-preview'>...</div><input id='attrs-30f13dd5-6229-45ac-b537-0567222bbe5b' class='xr-var-attrs-in' type='checkbox' disabled><label for='attrs-30f13dd5-6229-45ac-b537-0567222bbe5b' title='Show/Hide attributes'><svg class='icon xr-icon-file-text2'><use xlink:href='#icon-file-text2'></use></svg></label><input id='data-9f83a432-7389-40ab-bd86-dcc48bb06a77' class='xr-var-data-in' type='checkbox'><label for='data-9f83a432-7389-40ab-bd86-dcc48bb06a77' title='Show/Hide data repr'><svg class='icon xr-icon-database'><use xlink:href='#icon-database'></use></svg></label><div class='xr-var-attrs'><dl class='xr-attrs'></dl></div><div class='xr-var-data'><pre>array([[cftime.DatetimeNoLeap(2007, 1, 1, 0, 0, 0, 0, has_year_zero=True),\n",
       "        cftime.DatetimeNoLeap(2008, 1, 1, 0, 0, 0, 0, has_year_zero=True)],\n",
       "       [cftime.DatetimeNoLeap(2008, 1, 1, 0, 0, 0, 0, has_year_zero=True),\n",
       "        cftime.DatetimeNoLeap(2009, 1, 1, 0, 0, 0, 0, has_year_zero=True)],\n",
       "       [cftime.DatetimeNoLeap(2009, 1, 1, 0, 0, 0, 0, has_year_zero=True),\n",
       "        cftime.DatetimeNoLeap(2010, 1, 1, 0, 0, 0, 0, has_year_zero=True)],\n",
       "       [cftime.DatetimeNoLeap(2010, 1, 1, 0, 0, 0, 0, has_year_zero=True),\n",
       "        cftime.DatetimeNoLeap(2011, 1, 1, 0, 0, 0, 0, has_year_zero=True)],\n",
       "       [cftime.DatetimeNoLeap(2011, 1, 1, 0, 0, 0, 0, has_year_zero=True),\n",
       "        cftime.DatetimeNoLeap(2012, 1, 1, 0, 0, 0, 0, has_year_zero=True)],\n",
       "       [cftime.DatetimeNoLeap(2012, 1, 1, 0, 0, 0, 0, has_year_zero=True),\n",
       "        cftime.DatetimeNoLeap(2013, 1, 1, 0, 0, 0, 0, has_year_zero=True)],\n",
       "       [cftime.DatetimeNoLeap(2013, 1, 1, 0, 0, 0, 0, has_year_zero=True),\n",
       "        cftime.DatetimeNoLeap(2014, 1, 1, 0, 0, 0, 0, has_year_zero=True)],\n",
       "       [cftime.DatetimeNoLeap(2014, 1, 1, 0, 0, 0, 0, has_year_zero=True),\n",
       "        cftime.DatetimeNoLeap(2015, 1, 1, 0, 0, 0, 0, has_year_zero=True)],\n",
       "       [cftime.DatetimeNoLeap(2015, 1, 1, 0, 0, 0, 0, has_year_zero=True),\n",
       "        cftime.DatetimeNoLeap(2016, 1, 1, 0, 0, 0, 0, has_year_zero=True)],\n",
       "       [cftime.DatetimeNoLeap(2016, 1, 1, 0, 0, 0, 0, has_year_zero=True),\n",
       "        cftime.DatetimeNoLeap(2017, 1, 1, 0, 0, 0, 0, has_year_zero=True)],\n",
       "       [cftime.DatetimeNoLeap(2017, 1, 1, 0, 0, 0, 0, has_year_zero=True),\n",
       "        cftime.DatetimeNoLeap(2018, 1, 1, 0, 0, 0, 0, has_year_zero=True)],\n",
       "       [cftime.DatetimeNoLeap(2018, 1, 1, 0, 0, 0, 0, has_year_zero=True),\n",
       "        cftime.DatetimeNoLeap(2019, 1, 1, 0, 0, 0, 0, has_year_zero=True)],\n",
       "       [cftime.DatetimeNoLeap(2019, 1, 1, 0, 0, 0, 0, has_year_zero=True),\n",
       "        cftime.DatetimeNoLeap(2020, 1, 1, 0, 0, 0, 0, has_year_zero=True)],\n",
       "       [cftime.DatetimeNoLeap(2020, 1, 1, 0, 0, 0, 0, has_year_zero=True),\n",
       "        cftime.DatetimeNoLeap(2021, 1, 1, 0, 0, 0, 0, has_year_zero=True)],\n",
       "       [cftime.DatetimeNoLeap(2021, 1, 1, 0, 0, 0, 0, has_year_zero=True),\n",
       "        cftime.DatetimeNoLeap(2022, 1, 1, 0, 0, 0, 0, has_year_zero=True)],\n",
       "       [cftime.DatetimeNoLeap(2022, 1, 1, 0, 0, 0, 0, has_year_zero=True),\n",
       "        cftime.DatetimeNoLeap(2023, 1, 1, 0, 0, 0, 0, has_year_zero=True)],\n",
       "       [cftime.DatetimeNoLeap(2023, 1, 1, 0, 0, 0, 0, has_year_zero=True),\n",
       "        cftime.DatetimeNoLeap(2024, 1, 1, 0, 0, 0, 0, has_year_zero=True)],\n",
       "       [cftime.DatetimeNoLeap(2024, 1, 1, 0, 0, 0, 0, has_year_zero=True),\n",
       "        cftime.DatetimeNoLeap(2025, 1, 1, 0, 0, 0, 0, has_year_zero=True)],\n",
       "       [cftime.DatetimeNoLeap(2025, 1, 1, 0, 0, 0, 0, has_year_zero=True),\n",
       "        cftime.DatetimeNoLeap(2026, 1, 1, 0, 0, 0, 0, has_year_zero=True)],\n",
       "       [cftime.DatetimeNoLeap(2026, 1, 1, 0, 0, 0, 0, has_year_zero=True),\n",
       "        cftime.DatetimeNoLeap(2027, 1, 1, 0, 0, 0, 0, has_year_zero=True)],\n",
       "       [cftime.DatetimeNoLeap(2027, 1, 1, 0, 0, 0, 0, has_year_zero=True),\n",
       "        cftime.DatetimeNoLeap(2028, 1, 1, 0, 0, 0, 0, has_year_zero=True)],\n",
       "       [cftime.DatetimeNoLeap(2028, 1, 1, 0, 0, 0, 0, has_year_zero=True),\n",
       "        cftime.DatetimeNoLeap(2029, 1, 1, 0, 0, 0, 0, has_year_zero=True)],\n",
       "       [cftime.DatetimeNoLeap(2029, 1, 1, 0, 0, 0, 0, has_year_zero=True),\n",
       "        cftime.DatetimeNoLeap(2030, 1, 1, 0, 0, 0, 0, has_year_zero=True)],\n",
       "       [cftime.DatetimeNoLeap(2030, 1, 1, 0, 0, 0, 0, has_year_zero=True),\n",
       "        cftime.DatetimeNoLeap(2031, 1, 1, 0, 0, 0, 0, has_year_zero=True)],\n",
       "       [cftime.DatetimeNoLeap(2031, 1, 1, 0, 0, 0, 0, has_year_zero=True),\n",
       "        cftime.DatetimeNoLeap(2032, 1, 1, 0, 0, 0, 0, has_year_zero=True)],\n",
       "       [cftime.DatetimeNoLeap(2032, 1, 1, 0, 0, 0, 0, has_year_zero=True),\n",
       "        cftime.DatetimeNoLeap(2033, 1, 1, 0, 0, 0, 0, has_year_zero=True)],\n",
       "       [cftime.DatetimeNoLeap(2033, 1, 1, 0, 0, 0, 0, has_year_zero=True),\n",
       "        cftime.DatetimeNoLeap(2034, 1, 1, 0, 0, 0, 0, has_year_zero=True)],\n",
       "       [cftime.DatetimeNoLeap(2034, 1, 1, 0, 0, 0, 0, has_year_zero=True),\n",
       "        cftime.DatetimeNoLeap(2035, 1, 1, 0, 0, 0, 0, has_year_zero=True)],\n",
       "       [cftime.DatetimeNoLeap(2035, 1, 1, 0, 0, 0, 0, has_year_zero=True),\n",
       "        cftime.DatetimeNoLeap(2036, 1, 1, 0, 0, 0, 0, has_year_zero=True)],\n",
       "       [cftime.DatetimeNoLeap(2036, 1, 1, 0, 0, 0, 0, has_year_zero=True),\n",
       "        cftime.DatetimeNoLeap(2037, 1, 1, 0, 0, 0, 0, has_year_zero=True)],\n",
       "       [cftime.DatetimeNoLeap(2037, 1, 1, 0, 0, 0, 0, has_year_zero=True),\n",
       "        cftime.DatetimeNoLeap(2038, 1, 1, 0, 0, 0, 0, has_year_zero=True)],\n",
       "       [cftime.DatetimeNoLeap(2038, 1, 1, 0, 0, 0, 0, has_year_zero=True),\n",
       "        cftime.DatetimeNoLeap(2039, 1, 1, 0, 0, 0, 0, has_year_zero=True)],\n",
       "       [cftime.DatetimeNoLeap(2039, 1, 1, 0, 0, 0, 0, has_year_zero=True),\n",
       "        cftime.DatetimeNoLeap(2040, 1, 1, 0, 0, 0, 0, has_year_zero=True)],\n",
       "       [cftime.DatetimeNoLeap(2040, 1, 1, 0, 0, 0, 0, has_year_zero=True),\n",
       "        cftime.DatetimeNoLeap(2041, 1, 1, 0, 0, 0, 0, has_year_zero=True)],\n",
       "       [cftime.DatetimeNoLeap(2041, 1, 1, 0, 0, 0, 0, has_year_zero=True),\n",
       "        cftime.DatetimeNoLeap(2042, 1, 1, 0, 0, 0, 0, has_year_zero=True)],\n",
       "       [cftime.DatetimeNoLeap(2042, 1, 1, 0, 0, 0, 0, has_year_zero=True),\n",
       "        cftime.DatetimeNoLeap(2043, 1, 1, 0, 0, 0, 0, has_year_zero=True)],\n",
       "       [cftime.DatetimeNoLeap(2043, 1, 1, 0, 0, 0, 0, has_year_zero=True),\n",
       "        cftime.DatetimeNoLeap(2044, 1, 1, 0, 0, 0, 0, has_year_zero=True)],\n",
       "       [cftime.DatetimeNoLeap(2044, 1, 1, 0, 0, 0, 0, has_year_zero=True),\n",
       "        cftime.DatetimeNoLeap(2045, 1, 1, 0, 0, 0, 0, has_year_zero=True)],\n",
       "       [cftime.DatetimeNoLeap(2045, 1, 1, 0, 0, 0, 0, has_year_zero=True),\n",
       "        cftime.DatetimeNoLeap(2046, 1, 1, 0, 0, 0, 0, has_year_zero=True)],\n",
       "       [cftime.DatetimeNoLeap(2046, 1, 1, 0, 0, 0, 0, has_year_zero=True),\n",
       "        cftime.DatetimeNoLeap(2047, 1, 1, 0, 0, 0, 0, has_year_zero=True)],\n",
       "       [cftime.DatetimeNoLeap(2047, 1, 1, 0, 0, 0, 0, has_year_zero=True),\n",
       "        cftime.DatetimeNoLeap(2048, 1, 1, 0, 0, 0, 0, has_year_zero=True)],\n",
       "       [cftime.DatetimeNoLeap(2048, 1, 1, 0, 0, 0, 0, has_year_zero=True),\n",
       "        cftime.DatetimeNoLeap(2049, 1, 1, 0, 0, 0, 0, has_year_zero=True)],\n",
       "       [cftime.DatetimeNoLeap(2049, 1, 1, 0, 0, 0, 0, has_year_zero=True),\n",
       "        cftime.DatetimeNoLeap(2050, 1, 1, 0, 0, 0, 0, has_year_zero=True)],\n",
       "       [cftime.DatetimeNoLeap(2050, 1, 1, 0, 0, 0, 0, has_year_zero=True),\n",
       "        cftime.DatetimeNoLeap(2051, 1, 1, 0, 0, 0, 0, has_year_zero=True)],\n",
       "       [cftime.DatetimeNoLeap(2051, 1, 1, 0, 0, 0, 0, has_year_zero=True),\n",
       "        cftime.DatetimeNoLeap(2052, 1, 1, 0, 0, 0, 0, has_year_zero=True)],\n",
       "       [cftime.DatetimeNoLeap(2052, 1, 1, 0, 0, 0, 0, has_year_zero=True),\n",
       "        cftime.DatetimeNoLeap(2053, 1, 1, 0, 0, 0, 0, has_year_zero=True)],\n",
       "       [cftime.DatetimeNoLeap(2053, 1, 1, 0, 0, 0, 0, has_year_zero=True),\n",
       "        cftime.DatetimeNoLeap(2054, 1, 1, 0, 0, 0, 0, has_year_zero=True)],\n",
       "       [cftime.DatetimeNoLeap(2054, 1, 1, 0, 0, 0, 0, has_year_zero=True),\n",
       "        cftime.DatetimeNoLeap(2055, 1, 1, 0, 0, 0, 0, has_year_zero=True)],\n",
       "       [cftime.DatetimeNoLeap(2055, 1, 1, 0, 0, 0, 0, has_year_zero=True),\n",
       "        cftime.DatetimeNoLeap(2056, 1, 1, 0, 0, 0, 0, has_year_zero=True)],\n",
       "       [cftime.DatetimeNoLeap(2056, 1, 1, 0, 0, 0, 0, has_year_zero=True),\n",
       "        cftime.DatetimeNoLeap(2057, 1, 1, 0, 0, 0, 0, has_year_zero=True)],\n",
       "       [cftime.DatetimeNoLeap(2057, 1, 1, 0, 0, 0, 0, has_year_zero=True),\n",
       "        cftime.DatetimeNoLeap(2058, 1, 1, 0, 0, 0, 0, has_year_zero=True)],\n",
       "       [cftime.DatetimeNoLeap(2058, 1, 1, 0, 0, 0, 0, has_year_zero=True),\n",
       "        cftime.DatetimeNoLeap(2059, 1, 1, 0, 0, 0, 0, has_year_zero=True)],\n",
       "       [cftime.DatetimeNoLeap(2059, 1, 1, 0, 0, 0, 0, has_year_zero=True),\n",
       "        cftime.DatetimeNoLeap(2060, 1, 1, 0, 0, 0, 0, has_year_zero=True)],\n",
       "       [cftime.DatetimeNoLeap(2060, 1, 1, 0, 0, 0, 0, has_year_zero=True),\n",
       "        cftime.DatetimeNoLeap(2061, 1, 1, 0, 0, 0, 0, has_year_zero=True)],\n",
       "       [cftime.DatetimeNoLeap(2061, 1, 1, 0, 0, 0, 0, has_year_zero=True),\n",
       "        cftime.DatetimeNoLeap(2062, 1, 1, 0, 0, 0, 0, has_year_zero=True)],\n",
       "       [cftime.DatetimeNoLeap(2062, 1, 1, 0, 0, 0, 0, has_year_zero=True),\n",
       "        cftime.DatetimeNoLeap(2063, 1, 1, 0, 0, 0, 0, has_year_zero=True)],\n",
       "       [cftime.DatetimeNoLeap(2063, 1, 1, 0, 0, 0, 0, has_year_zero=True),\n",
       "        cftime.DatetimeNoLeap(2064, 1, 1, 0, 0, 0, 0, has_year_zero=True)],\n",
       "       [cftime.DatetimeNoLeap(2064, 1, 1, 0, 0, 0, 0, has_year_zero=True),\n",
       "        cftime.DatetimeNoLeap(2065, 1, 1, 0, 0, 0, 0, has_year_zero=True)],\n",
       "       [cftime.DatetimeNoLeap(2065, 1, 1, 0, 0, 0, 0, has_year_zero=True),\n",
       "        cftime.DatetimeNoLeap(2066, 1, 1, 0, 0, 0, 0, has_year_zero=True)],\n",
       "       [cftime.DatetimeNoLeap(2066, 1, 1, 0, 0, 0, 0, has_year_zero=True),\n",
       "        cftime.DatetimeNoLeap(2067, 1, 1, 0, 0, 0, 0, has_year_zero=True)],\n",
       "       [cftime.DatetimeNoLeap(2067, 1, 1, 0, 0, 0, 0, has_year_zero=True),\n",
       "        cftime.DatetimeNoLeap(2068, 1, 1, 0, 0, 0, 0, has_year_zero=True)],\n",
       "       [cftime.DatetimeNoLeap(2068, 1, 1, 0, 0, 0, 0, has_year_zero=True),\n",
       "        cftime.DatetimeNoLeap(2069, 1, 1, 0, 0, 0, 0, has_year_zero=True)],\n",
       "       [cftime.DatetimeNoLeap(2069, 1, 1, 0, 0, 0, 0, has_year_zero=True),\n",
       "        cftime.DatetimeNoLeap(2070, 1, 1, 0, 0, 0, 0, has_year_zero=True)],\n",
       "       [cftime.DatetimeNoLeap(2070, 1, 1, 0, 0, 0, 0, has_year_zero=True),\n",
       "        cftime.DatetimeNoLeap(2071, 1, 1, 0, 0, 0, 0, has_year_zero=True)],\n",
       "       [cftime.DatetimeNoLeap(2071, 1, 1, 0, 0, 0, 0, has_year_zero=True),\n",
       "        cftime.DatetimeNoLeap(2072, 1, 1, 0, 0, 0, 0, has_year_zero=True)],\n",
       "       [cftime.DatetimeNoLeap(2072, 1, 1, 0, 0, 0, 0, has_year_zero=True),\n",
       "        cftime.DatetimeNoLeap(2073, 1, 1, 0, 0, 0, 0, has_year_zero=True)],\n",
       "       [cftime.DatetimeNoLeap(2073, 1, 1, 0, 0, 0, 0, has_year_zero=True),\n",
       "        cftime.DatetimeNoLeap(2074, 1, 1, 0, 0, 0, 0, has_year_zero=True)],\n",
       "       [cftime.DatetimeNoLeap(2074, 1, 1, 0, 0, 0, 0, has_year_zero=True),\n",
       "        cftime.DatetimeNoLeap(2075, 1, 1, 0, 0, 0, 0, has_year_zero=True)],\n",
       "       [cftime.DatetimeNoLeap(2075, 1, 1, 0, 0, 0, 0, has_year_zero=True),\n",
       "        cftime.DatetimeNoLeap(2076, 1, 1, 0, 0, 0, 0, has_year_zero=True)],\n",
       "       [cftime.DatetimeNoLeap(2076, 1, 1, 0, 0, 0, 0, has_year_zero=True),\n",
       "        cftime.DatetimeNoLeap(2077, 1, 1, 0, 0, 0, 0, has_year_zero=True)],\n",
       "       [cftime.DatetimeNoLeap(2077, 1, 1, 0, 0, 0, 0, has_year_zero=True),\n",
       "        cftime.DatetimeNoLeap(2078, 1, 1, 0, 0, 0, 0, has_year_zero=True)],\n",
       "       [cftime.DatetimeNoLeap(2078, 1, 1, 0, 0, 0, 0, has_year_zero=True),\n",
       "        cftime.DatetimeNoLeap(2079, 1, 1, 0, 0, 0, 0, has_year_zero=True)],\n",
       "       [cftime.DatetimeNoLeap(2079, 1, 1, 0, 0, 0, 0, has_year_zero=True),\n",
       "        cftime.DatetimeNoLeap(2080, 1, 1, 0, 0, 0, 0, has_year_zero=True)],\n",
       "       [cftime.DatetimeNoLeap(2080, 1, 1, 0, 0, 0, 0, has_year_zero=True),\n",
       "        cftime.DatetimeNoLeap(2081, 1, 1, 0, 0, 0, 0, has_year_zero=True)],\n",
       "       [cftime.DatetimeNoLeap(2081, 1, 1, 0, 0, 0, 0, has_year_zero=True),\n",
       "        cftime.DatetimeNoLeap(2082, 1, 1, 0, 0, 0, 0, has_year_zero=True)],\n",
       "       [cftime.DatetimeNoLeap(2082, 1, 1, 0, 0, 0, 0, has_year_zero=True),\n",
       "        cftime.DatetimeNoLeap(2083, 1, 1, 0, 0, 0, 0, has_year_zero=True)],\n",
       "       [cftime.DatetimeNoLeap(2083, 1, 1, 0, 0, 0, 0, has_year_zero=True),\n",
       "        cftime.DatetimeNoLeap(2084, 1, 1, 0, 0, 0, 0, has_year_zero=True)],\n",
       "       [cftime.DatetimeNoLeap(2084, 1, 1, 0, 0, 0, 0, has_year_zero=True),\n",
       "        cftime.DatetimeNoLeap(2085, 1, 1, 0, 0, 0, 0, has_year_zero=True)],\n",
       "       [cftime.DatetimeNoLeap(2085, 1, 1, 0, 0, 0, 0, has_year_zero=True),\n",
       "        cftime.DatetimeNoLeap(2086, 1, 1, 0, 0, 0, 0, has_year_zero=True)],\n",
       "       [cftime.DatetimeNoLeap(2086, 1, 1, 0, 0, 0, 0, has_year_zero=True),\n",
       "        cftime.DatetimeNoLeap(2087, 1, 1, 0, 0, 0, 0, has_year_zero=True)],\n",
       "       [cftime.DatetimeNoLeap(2087, 1, 1, 0, 0, 0, 0, has_year_zero=True),\n",
       "        cftime.DatetimeNoLeap(2088, 1, 1, 0, 0, 0, 0, has_year_zero=True)],\n",
       "       [cftime.DatetimeNoLeap(2088, 1, 1, 0, 0, 0, 0, has_year_zero=True),\n",
       "        cftime.DatetimeNoLeap(2089, 1, 1, 0, 0, 0, 0, has_year_zero=True)],\n",
       "       [cftime.DatetimeNoLeap(2089, 1, 1, 0, 0, 0, 0, has_year_zero=True),\n",
       "        cftime.DatetimeNoLeap(2090, 1, 1, 0, 0, 0, 0, has_year_zero=True)],\n",
       "       [cftime.DatetimeNoLeap(2090, 1, 1, 0, 0, 0, 0, has_year_zero=True),\n",
       "        cftime.DatetimeNoLeap(2091, 1, 1, 0, 0, 0, 0, has_year_zero=True)],\n",
       "       [cftime.DatetimeNoLeap(2091, 1, 1, 0, 0, 0, 0, has_year_zero=True),\n",
       "        cftime.DatetimeNoLeap(2092, 1, 1, 0, 0, 0, 0, has_year_zero=True)],\n",
       "       [cftime.DatetimeNoLeap(2092, 1, 1, 0, 0, 0, 0, has_year_zero=True),\n",
       "        cftime.DatetimeNoLeap(2093, 1, 1, 0, 0, 0, 0, has_year_zero=True)],\n",
       "       [cftime.DatetimeNoLeap(2093, 1, 1, 0, 0, 0, 0, has_year_zero=True),\n",
       "        cftime.DatetimeNoLeap(2094, 1, 1, 0, 0, 0, 0, has_year_zero=True)],\n",
       "       [cftime.DatetimeNoLeap(2094, 1, 1, 0, 0, 0, 0, has_year_zero=True),\n",
       "        cftime.DatetimeNoLeap(2095, 1, 1, 0, 0, 0, 0, has_year_zero=True)],\n",
       "       [cftime.DatetimeNoLeap(2095, 1, 1, 0, 0, 0, 0, has_year_zero=True),\n",
       "        cftime.DatetimeNoLeap(2096, 1, 1, 0, 0, 0, 0, has_year_zero=True)],\n",
       "       [cftime.DatetimeNoLeap(2096, 1, 1, 0, 0, 0, 0, has_year_zero=True),\n",
       "        cftime.DatetimeNoLeap(2097, 1, 1, 0, 0, 0, 0, has_year_zero=True)],\n",
       "       [cftime.DatetimeNoLeap(2097, 1, 1, 0, 0, 0, 0, has_year_zero=True),\n",
       "        cftime.DatetimeNoLeap(2098, 1, 1, 0, 0, 0, 0, has_year_zero=True)],\n",
       "       [cftime.DatetimeNoLeap(2098, 1, 1, 0, 0, 0, 0, has_year_zero=True),\n",
       "        cftime.DatetimeNoLeap(2099, 1, 1, 0, 0, 0, 0, has_year_zero=True)],\n",
       "       [cftime.DatetimeNoLeap(2099, 1, 1, 0, 0, 0, 0, has_year_zero=True),\n",
       "        cftime.DatetimeNoLeap(2100, 1, 1, 0, 0, 0, 0, has_year_zero=True)],\n",
       "       [cftime.DatetimeNoLeap(2100, 1, 1, 0, 0, 0, 0, has_year_zero=True),\n",
       "        cftime.DatetimeNoLeap(2101, 1, 1, 0, 0, 0, 0, has_year_zero=True)]],\n",
       "      dtype=object)</pre></div></li><li class='xr-var-item'><div class='xr-var-name'><span>totslr_ens</span></div><div class='xr-var-dims'>(ens, time, lat, lon)</div><div class='xr-var-dtype'>float32</div><div class='xr-var-preview xr-preview'>...</div><input id='attrs-5705a9c9-5a00-4d06-a2c6-c46a39d45298' class='xr-var-attrs-in' type='checkbox' ><label for='attrs-5705a9c9-5a00-4d06-a2c6-c46a39d45298' title='Show/Hide attributes'><svg class='icon xr-icon-file-text2'><use xlink:href='#icon-file-text2'></use></svg></label><input id='data-b71fc06d-45fe-404a-976f-9f1c63ad3689' class='xr-var-data-in' type='checkbox'><label for='data-b71fc06d-45fe-404a-976f-9f1c63ad3689' title='Show/Hide data repr'><svg class='icon xr-icon-database'><use xlink:href='#icon-database'></use></svg></label><div class='xr-var-attrs'><dl class='xr-attrs'><dt><span>long_name :</span></dt><dd>RCP2.6 ensemble ssh ts</dd><dt><span>units :</span></dt><dd>m</dd><dt><span>comment :</span></dt><dd>orig. global mean removed; zossga, historical added back in; ocean-only data + jmg ice and groundwater</dd></dl></div><div class='xr-var-data'><pre>[97459200 values with dtype=float32]</pre></div></li><li class='xr-var-item'><div class='xr-var-name'><span>totslr</span></div><div class='xr-var-dims'>(time, lat, lon)</div><div class='xr-var-dtype'>float32</div><div class='xr-var-preview xr-preview'>...</div><input id='attrs-cc45c650-81d1-4271-a328-d1f841fdc284' class='xr-var-attrs-in' type='checkbox' ><label for='attrs-cc45c650-81d1-4271-a328-d1f841fdc284' title='Show/Hide attributes'><svg class='icon xr-icon-file-text2'><use xlink:href='#icon-file-text2'></use></svg></label><input id='data-a7a4cd25-9d6d-4712-a9f7-4f853cda6b4f' class='xr-var-data-in' type='checkbox'><label for='data-a7a4cd25-9d6d-4712-a9f7-4f853cda6b4f' title='Show/Hide data repr'><svg class='icon xr-icon-database'><use xlink:href='#icon-database'></use></svg></label><div class='xr-var-attrs'><dl class='xr-attrs'><dt><span>long_name :</span></dt><dd>total RCP2.6 ensemble mean ssh ts</dd><dt><span>units :</span></dt><dd>m</dd><dt><span>comment :</span></dt><dd>orig. global mean removed; zossga, historical added back in; ocean-only data + jmg ice and groundwater</dd></dl></div><div class='xr-var-data'><pre>[6091200 values with dtype=float32]</pre></div></li><li class='xr-var-item'><div class='xr-var-name'><span>loerr</span></div><div class='xr-var-dims'>(time, lat, lon)</div><div class='xr-var-dtype'>float32</div><div class='xr-var-preview xr-preview'>...</div><input id='attrs-39e74371-7e2b-49b0-81b9-67f0c707abc1' class='xr-var-attrs-in' type='checkbox' ><label for='attrs-39e74371-7e2b-49b0-81b9-67f0c707abc1' title='Show/Hide attributes'><svg class='icon xr-icon-file-text2'><use xlink:href='#icon-file-text2'></use></svg></label><input id='data-3c6ada99-fb02-461a-8bb6-3c4e71779a8b' class='xr-var-data-in' type='checkbox'><label for='data-3c6ada99-fb02-461a-8bb6-3c4e71779a8b' title='Show/Hide data repr'><svg class='icon xr-icon-database'><use xlink:href='#icon-database'></use></svg></label><div class='xr-var-attrs'><dl class='xr-attrs'><dt><span>long_name :</span></dt><dd>RCP2.6 5% uncertainty ssh ts</dd><dt><span>units :</span></dt><dd>m</dd><dt><span>comment :</span></dt><dd>orig. global mean removed; zossga, historical added back in; ocean-only data + jmg ice and groundwater</dd></dl></div><div class='xr-var-data'><pre>[6091200 values with dtype=float32]</pre></div></li><li class='xr-var-item'><div class='xr-var-name'><span>hierr</span></div><div class='xr-var-dims'>(time, lat, lon)</div><div class='xr-var-dtype'>float32</div><div class='xr-var-preview xr-preview'>...</div><input id='attrs-ce78e024-619f-4d71-9b9a-e2a70e704c2e' class='xr-var-attrs-in' type='checkbox' ><label for='attrs-ce78e024-619f-4d71-9b9a-e2a70e704c2e' title='Show/Hide attributes'><svg class='icon xr-icon-file-text2'><use xlink:href='#icon-file-text2'></use></svg></label><input id='data-33401404-9509-475c-b6ad-9a37e12f10a6' class='xr-var-data-in' type='checkbox'><label for='data-33401404-9509-475c-b6ad-9a37e12f10a6' title='Show/Hide data repr'><svg class='icon xr-icon-database'><use xlink:href='#icon-database'></use></svg></label><div class='xr-var-attrs'><dl class='xr-attrs'><dt><span>long_name :</span></dt><dd>RCP2.6 95% uncertainty ssh ts</dd><dt><span>units :</span></dt><dd>m</dd><dt><span>comment :</span></dt><dd>orig. global mean removed; zossga, historical added back in; ocean-only data + jmg ice and groundwater</dd></dl></div><div class='xr-var-data'><pre>[6091200 values with dtype=float32]</pre></div></li><li class='xr-var-item'><div class='xr-var-name'><span>modelname</span></div><div class='xr-var-dims'>(ens)</div><div class='xr-var-dtype'>|S16</div><div class='xr-var-preview xr-preview'>...</div><input id='attrs-102787b3-04d4-4905-8693-398bd830f823' class='xr-var-attrs-in' type='checkbox' ><label for='attrs-102787b3-04d4-4905-8693-398bd830f823' title='Show/Hide attributes'><svg class='icon xr-icon-file-text2'><use xlink:href='#icon-file-text2'></use></svg></label><input id='data-429f5e0c-326d-4a42-b8a3-d48dd191a975' class='xr-var-data-in' type='checkbox'><label for='data-429f5e0c-326d-4a42-b8a3-d48dd191a975' title='Show/Hide data repr'><svg class='icon xr-icon-database'><use xlink:href='#icon-database'></use></svg></label><div class='xr-var-attrs'><dl class='xr-attrs'><dt><span>long_name :</span></dt><dd>Model names in the same order as in totslr_ens var</dd></dl></div><div class='xr-var-data'><pre>array([b&#x27;       GISS-E2-R&#x27;, b&#x27;       NorESM1-M&#x27;, b&#x27;      MPI-ESM-LR&#x27;,\n",
       "       b&#x27;      GFDL-ESM2M&#x27;, b&#x27;       MIROC-ESM&#x27;, b&#x27;      HadGEM2-ES&#x27;,\n",
       "       b&#x27;      NorESM1-ME&#x27;, b&#x27;    IPSL-CM5A-LR&#x27;, b&#x27;   CSIRO-Mk3-6-0&#x27;,\n",
       "       b&#x27;  MIROC-ESM-CHEM&#x27;, b&#x27;      GFDL-ESM2G&#x27;, b&#x27;      MPI-ESM-MR&#x27;,\n",
       "       b&#x27;    IPSL-CM5A-MR&#x27;, b&#x27;       MRI-CGCM3&#x27;, b&#x27;          MIROC5&#x27;,\n",
       "       b&#x27;      BCC-CSM1-1&#x27;], dtype=&#x27;|S16&#x27;)</pre></div></li></ul></div></li><li class='xr-section-item'><input id='section-3e0e4b50-55fb-439a-9321-cef2265611ec' class='xr-section-summary-in' type='checkbox'  checked><label for='section-3e0e4b50-55fb-439a-9321-cef2265611ec' class='xr-section-summary' >Attributes: <span>(3)</span></label><div class='xr-section-inline-details'></div><div class='xr-section-details'><dl class='xr-attrs'><dt><span>history :</span></dt><dd>version 5, 27-March-2014</dd><dt><span>contact :</span></dt><dd>mark.carson@zmaw.de</dd><dt><span>references :</span></dt><dd>IPCC AR5 WGI, Chapter 13, and Chapter 13: Supplementary Material; www.climatechange2013.org</dd></dl></div></li></ul></div></div>"
      ],
      "text/plain": [
       "<xarray.Dataset>\n",
       "Dimensions:     (time: 94, bnds: 2, lat: 180, lon: 360, ens: 16)\n",
       "Coordinates:\n",
       "  * time        (time) object 2007-07-02 12:00:00 ... 2100-07-02 12:00:00\n",
       "  * lat         (lat) float64 -89.5 -88.5 -87.5 -86.5 ... 86.5 87.5 88.5 89.5\n",
       "  * lon         (lon) float64 0.5 1.5 2.5 3.5 4.5 ... 356.5 357.5 358.5 359.5\n",
       "Dimensions without coordinates: bnds, ens\n",
       "Data variables:\n",
       "    time_bnds   (time, bnds) object ...\n",
       "    totslr_ens  (ens, time, lat, lon) float32 ...\n",
       "    totslr      (time, lat, lon) float32 ...\n",
       "    loerr       (time, lat, lon) float32 ...\n",
       "    hierr       (time, lat, lon) float32 ...\n",
       "    modelname   (ens) |S16 ...\n",
       "Attributes:\n",
       "    history:     version 5, 27-March-2014\n",
       "    contact:     mark.carson@zmaw.de\n",
       "    references:  IPCC AR5 WGI, Chapter 13, and Chapter 13: Supplementary Mate..."
      ]
     },
     "execution_count": 31,
     "metadata": {},
     "output_type": "execute_result"
    },
    {
     "data": {
      "application/javascript": "\n            setTimeout(function() {\n                var nbb_cell_id = 31;\n                var nbb_unformatted_code = \"ds\";\n                var nbb_formatted_code = \"ds\";\n                var nbb_cells = Jupyter.notebook.get_cells();\n                for (var i = 0; i < nbb_cells.length; ++i) {\n                    if (nbb_cells[i].input_prompt_number == nbb_cell_id) {\n                        if (nbb_cells[i].get_text() == nbb_unformatted_code) {\n                             nbb_cells[i].set_text(nbb_formatted_code);\n                        }\n                        break;\n                    }\n                }\n            }, 500);\n            ",
      "text/plain": [
       "<IPython.core.display.Javascript object>"
      ]
     },
     "metadata": {},
     "output_type": "display_data"
    }
   ],
   "source": [
    "kkds"
   ]
  },
  {
   "cell_type": "code",
   "execution_count": 26,
   "id": "56f3c1f5",
   "metadata": {},
   "outputs": [
    {
     "data": {
      "text/plain": [
       "94"
      ]
     },
     "execution_count": 26,
     "metadata": {},
     "output_type": "execute_result"
    },
    {
     "data": {
      "application/javascript": "\n            setTimeout(function() {\n                var nbb_cell_id = 26;\n                var nbb_unformatted_code = \"len(ds.time.values)\";\n                var nbb_formatted_code = \"len(ds.time.values)\";\n                var nbb_cells = Jupyter.notebook.get_cells();\n                for (var i = 0; i < nbb_cells.length; ++i) {\n                    if (nbb_cells[i].input_prompt_number == nbb_cell_id) {\n                        if (nbb_cells[i].get_text() == nbb_unformatted_code) {\n                             nbb_cells[i].set_text(nbb_formatted_code);\n                        }\n                        break;\n                    }\n                }\n            }, 500);\n            ",
      "text/plain": [
       "<IPython.core.display.Javascript object>"
      ]
     },
     "metadata": {},
     "output_type": "display_data"
    }
   ],
   "source": [
    "len(ds.time.values)"
   ]
  },
  {
   "cell_type": "code",
   "execution_count": 13,
   "id": "4e88de5e",
   "metadata": {},
   "outputs": [
    {
     "name": "stderr",
     "output_type": "stream",
     "text": [
      "/Users/calkoen/miniconda3/envs/coclico/lib/python3.10/site-packages/rasterio/__init__.py:277: NotGeoreferencedWarning: Dataset has no geotransform, gcps, or rpcs. The identity matrix will be returned.\n",
      "  dataset = DatasetReader(path, driver=driver, sharing=sharing, **kwargs)\n",
      "/Users/calkoen/miniconda3/envs/coclico/lib/python3.10/site-packages/rioxarray/_io.py:851: NotGeoreferencedWarning: Dataset has no geotransform, gcps, or rpcs. The identity matrix will be returned.\n",
      "  warnings.warn(str(rio_warning.message), type(rio_warning.message))  # type: ignore\n",
      "/Users/calkoen/miniconda3/envs/coclico/lib/python3.10/site-packages/rasterio/__init__.py:277: NotGeoreferencedWarning: Dataset has no geotransform, gcps, or rpcs. The identity matrix will be returned.\n",
      "  dataset = DatasetReader(path, driver=driver, sharing=sharing, **kwargs)\n",
      "/Users/calkoen/miniconda3/envs/coclico/lib/python3.10/site-packages/rioxarray/_io.py:851: NotGeoreferencedWarning: Dataset has no geotransform, gcps, or rpcs. The identity matrix will be returned.\n",
      "  warnings.warn(str(rio_warning.message), type(rio_warning.message))  # type: ignore\n"
     ]
    },
    {
     "ename": "ValueError",
     "evalue": "conflicting sizes for dimension 'time': length 1504 on the data but length 94 on coordinate 'time'",
     "output_type": "error",
     "traceback": [
      "\u001b[0;31m---------------------------------------------------------------------------\u001b[0m",
      "\u001b[0;31mValueError\u001b[0m                                Traceback (most recent call last)",
      "\u001b[1;32m/Users/calkoen/dev/coclicodata/notebooks/18_slr_ar5_cog.ipynb Cell 6\u001b[0m in \u001b[0;36m<cell line: 2>\u001b[0;34m()\u001b[0m\n\u001b[1;32m      <a href='vscode-notebook-cell:/Users/calkoen/dev/coclicodata/notebooks/18_slr_ar5_cog.ipynb#W6sZmlsZQ%3D%3D?line=0'>1</a>\u001b[0m \u001b[39m# open datasets\u001b[39;00m\n\u001b[0;32m----> <a href='vscode-notebook-cell:/Users/calkoen/dev/coclicodata/notebooks/18_slr_ar5_cog.ipynb#W6sZmlsZQ%3D%3D?line=1'>2</a>\u001b[0m ds_26rcp \u001b[39m=\u001b[39m rio\u001b[39m.\u001b[39;49mopen_rasterio(ds_rcp26_fp)\n",
      "File \u001b[0;32m~/miniconda3/envs/coclico/lib/python3.10/site-packages/rioxarray/_io.py:855\u001b[0m, in \u001b[0;36mopen_rasterio\u001b[0;34m(filename, parse_coordinates, chunks, cache, lock, masked, mask_and_scale, variable, group, default_name, decode_times, decode_timedelta, **open_kwargs)\u001b[0m\n\u001b[1;32m    853\u001b[0m \u001b[39m# open the subdatasets if they exist\u001b[39;00m\n\u001b[1;32m    854\u001b[0m \u001b[39mif\u001b[39;00m riods\u001b[39m.\u001b[39msubdatasets:\n\u001b[0;32m--> 855\u001b[0m     \u001b[39mreturn\u001b[39;00m _load_subdatasets(\n\u001b[1;32m    856\u001b[0m         riods\u001b[39m=\u001b[39;49mriods,\n\u001b[1;32m    857\u001b[0m         group\u001b[39m=\u001b[39;49mgroup,\n\u001b[1;32m    858\u001b[0m         variable\u001b[39m=\u001b[39;49mvariable,\n\u001b[1;32m    859\u001b[0m         parse_coordinates\u001b[39m=\u001b[39;49mparse_coordinates,\n\u001b[1;32m    860\u001b[0m         chunks\u001b[39m=\u001b[39;49mchunks,\n\u001b[1;32m    861\u001b[0m         cache\u001b[39m=\u001b[39;49mcache,\n\u001b[1;32m    862\u001b[0m         lock\u001b[39m=\u001b[39;49mlock,\n\u001b[1;32m    863\u001b[0m         masked\u001b[39m=\u001b[39;49mmasked,\n\u001b[1;32m    864\u001b[0m         mask_and_scale\u001b[39m=\u001b[39;49mmask_and_scale,\n\u001b[1;32m    865\u001b[0m         decode_times\u001b[39m=\u001b[39;49mdecode_times,\n\u001b[1;32m    866\u001b[0m         decode_timedelta\u001b[39m=\u001b[39;49mdecode_timedelta,\n\u001b[1;32m    867\u001b[0m         \u001b[39m*\u001b[39;49m\u001b[39m*\u001b[39;49mopen_kwargs,\n\u001b[1;32m    868\u001b[0m     )\n\u001b[1;32m    870\u001b[0m \u001b[39mif\u001b[39;00m vrt_params \u001b[39mis\u001b[39;00m \u001b[39mnot\u001b[39;00m \u001b[39mNone\u001b[39;00m:\n\u001b[1;32m    871\u001b[0m     riods \u001b[39m=\u001b[39m WarpedVRT(riods, \u001b[39m*\u001b[39m\u001b[39m*\u001b[39mvrt_params)\n",
      "File \u001b[0;32m~/miniconda3/envs/coclico/lib/python3.10/site-packages/rioxarray/_io.py:621\u001b[0m, in \u001b[0;36m_load_subdatasets\u001b[0;34m(riods, group, variable, parse_coordinates, chunks, cache, lock, masked, mask_and_scale, decode_times, decode_timedelta, **open_kwargs)\u001b[0m\n\u001b[1;32m    619\u001b[0m \u001b[39mwith\u001b[39;00m rasterio\u001b[39m.\u001b[39mopen(subdataset) \u001b[39mas\u001b[39;00m rds:\n\u001b[1;32m    620\u001b[0m     shape \u001b[39m=\u001b[39m rds\u001b[39m.\u001b[39mshape\n\u001b[0;32m--> 621\u001b[0m rioda: DataArray \u001b[39m=\u001b[39m open_rasterio(  \u001b[39m# type: ignore\u001b[39;49;00m\n\u001b[1;32m    622\u001b[0m     subdataset,\n\u001b[1;32m    623\u001b[0m     parse_coordinates\u001b[39m=\u001b[39;49mshape \u001b[39mnot\u001b[39;49;00m \u001b[39min\u001b[39;49;00m dim_groups \u001b[39mand\u001b[39;49;00m parse_coordinates,\n\u001b[1;32m    624\u001b[0m     chunks\u001b[39m=\u001b[39;49mchunks,\n\u001b[1;32m    625\u001b[0m     cache\u001b[39m=\u001b[39;49mcache,\n\u001b[1;32m    626\u001b[0m     lock\u001b[39m=\u001b[39;49mlock,\n\u001b[1;32m    627\u001b[0m     masked\u001b[39m=\u001b[39;49mmasked,\n\u001b[1;32m    628\u001b[0m     mask_and_scale\u001b[39m=\u001b[39;49mmask_and_scale,\n\u001b[1;32m    629\u001b[0m     default_name\u001b[39m=\u001b[39;49msubdataset\u001b[39m.\u001b[39;49msplit(\u001b[39m\"\u001b[39;49m\u001b[39m:\u001b[39;49m\u001b[39m\"\u001b[39;49m)[\u001b[39m-\u001b[39;49m\u001b[39m1\u001b[39;49m]\u001b[39m.\u001b[39;49mlstrip(\u001b[39m\"\u001b[39;49m\u001b[39m/\u001b[39;49m\u001b[39m\"\u001b[39;49m)\u001b[39m.\u001b[39;49mreplace(\u001b[39m\"\u001b[39;49m\u001b[39m/\u001b[39;49m\u001b[39m\"\u001b[39;49m, \u001b[39m\"\u001b[39;49m\u001b[39m_\u001b[39;49m\u001b[39m\"\u001b[39;49m),\n\u001b[1;32m    630\u001b[0m     decode_times\u001b[39m=\u001b[39;49mdecode_times,\n\u001b[1;32m    631\u001b[0m     decode_timedelta\u001b[39m=\u001b[39;49mdecode_timedelta,\n\u001b[1;32m    632\u001b[0m     \u001b[39m*\u001b[39;49m\u001b[39m*\u001b[39;49mopen_kwargs,\n\u001b[1;32m    633\u001b[0m )\n\u001b[1;32m    634\u001b[0m \u001b[39mif\u001b[39;00m shape \u001b[39mnot\u001b[39;00m \u001b[39min\u001b[39;00m dim_groups:\n\u001b[1;32m    635\u001b[0m     dim_groups[shape] \u001b[39m=\u001b[39m {rioda\u001b[39m.\u001b[39mname: rioda}\n",
      "File \u001b[0;32m~/miniconda3/envs/coclico/lib/python3.10/site-packages/rioxarray/_io.py:929\u001b[0m, in \u001b[0;36mopen_rasterio\u001b[0;34m(filename, parse_coordinates, chunks, cache, lock, masked, mask_and_scale, variable, group, default_name, decode_times, decode_timedelta, **open_kwargs)\u001b[0m\n\u001b[1;32m    926\u001b[0m \u001b[39mif\u001b[39;00m cache \u001b[39mand\u001b[39;00m chunks \u001b[39mis\u001b[39;00m \u001b[39mNone\u001b[39;00m:\n\u001b[1;32m    927\u001b[0m     data \u001b[39m=\u001b[39m indexing\u001b[39m.\u001b[39mMemoryCachedArray(data)\n\u001b[0;32m--> 929\u001b[0m result \u001b[39m=\u001b[39m DataArray(\n\u001b[1;32m    930\u001b[0m     data\u001b[39m=\u001b[39;49mdata, dims\u001b[39m=\u001b[39;49m(coord_name, \u001b[39m\"\u001b[39;49m\u001b[39my\u001b[39;49m\u001b[39m\"\u001b[39;49m, \u001b[39m\"\u001b[39;49m\u001b[39mx\u001b[39;49m\u001b[39m\"\u001b[39;49m), coords\u001b[39m=\u001b[39;49mcoords, attrs\u001b[39m=\u001b[39;49mattrs, name\u001b[39m=\u001b[39;49mda_name\n\u001b[1;32m    931\u001b[0m )\n\u001b[1;32m    932\u001b[0m result\u001b[39m.\u001b[39mencoding \u001b[39m=\u001b[39m encoding\n\u001b[1;32m    934\u001b[0m \u001b[39m# update attributes from NetCDF attributess\u001b[39;00m\n",
      "File \u001b[0;32m~/miniconda3/envs/coclico/lib/python3.10/site-packages/xarray/core/dataarray.py:412\u001b[0m, in \u001b[0;36mDataArray.__init__\u001b[0;34m(self, data, coords, dims, name, attrs, indexes, fastpath)\u001b[0m\n\u001b[1;32m    410\u001b[0m data \u001b[39m=\u001b[39m _check_data_shape(data, coords, dims)\n\u001b[1;32m    411\u001b[0m data \u001b[39m=\u001b[39m as_compatible_data(data)\n\u001b[0;32m--> 412\u001b[0m coords, dims \u001b[39m=\u001b[39m _infer_coords_and_dims(data\u001b[39m.\u001b[39;49mshape, coords, dims)\n\u001b[1;32m    413\u001b[0m variable \u001b[39m=\u001b[39m Variable(dims, data, attrs, fastpath\u001b[39m=\u001b[39m\u001b[39mTrue\u001b[39;00m)\n\u001b[1;32m    414\u001b[0m indexes, coords \u001b[39m=\u001b[39m _create_indexes_from_coords(coords)\n",
      "File \u001b[0;32m~/miniconda3/envs/coclico/lib/python3.10/site-packages/xarray/core/dataarray.py:160\u001b[0m, in \u001b[0;36m_infer_coords_and_dims\u001b[0;34m(shape, coords, dims)\u001b[0m\n\u001b[1;32m    158\u001b[0m \u001b[39mfor\u001b[39;00m d, s \u001b[39min\u001b[39;00m \u001b[39mzip\u001b[39m(v\u001b[39m.\u001b[39mdims, v\u001b[39m.\u001b[39mshape):\n\u001b[1;32m    159\u001b[0m     \u001b[39mif\u001b[39;00m s \u001b[39m!=\u001b[39m sizes[d]:\n\u001b[0;32m--> 160\u001b[0m         \u001b[39mraise\u001b[39;00m \u001b[39mValueError\u001b[39;00m(\n\u001b[1;32m    161\u001b[0m             \u001b[39mf\u001b[39m\u001b[39m\"\u001b[39m\u001b[39mconflicting sizes for dimension \u001b[39m\u001b[39m{\u001b[39;00md\u001b[39m!r}\u001b[39;00m\u001b[39m: \u001b[39m\u001b[39m\"\u001b[39m\n\u001b[1;32m    162\u001b[0m             \u001b[39mf\u001b[39m\u001b[39m\"\u001b[39m\u001b[39mlength \u001b[39m\u001b[39m{\u001b[39;00msizes[d]\u001b[39m}\u001b[39;00m\u001b[39m on the data but length \u001b[39m\u001b[39m{\u001b[39;00ms\u001b[39m}\u001b[39;00m\u001b[39m on \u001b[39m\u001b[39m\"\u001b[39m\n\u001b[1;32m    163\u001b[0m             \u001b[39mf\u001b[39m\u001b[39m\"\u001b[39m\u001b[39mcoordinate \u001b[39m\u001b[39m{\u001b[39;00mk\u001b[39m!r}\u001b[39;00m\u001b[39m\"\u001b[39m\n\u001b[1;32m    164\u001b[0m         )\n\u001b[1;32m    166\u001b[0m \u001b[39mif\u001b[39;00m k \u001b[39min\u001b[39;00m sizes \u001b[39mand\u001b[39;00m v\u001b[39m.\u001b[39mshape \u001b[39m!=\u001b[39m (sizes[k],):\n\u001b[1;32m    167\u001b[0m     \u001b[39mraise\u001b[39;00m \u001b[39mValueError\u001b[39;00m(\n\u001b[1;32m    168\u001b[0m         \u001b[39mf\u001b[39m\u001b[39m\"\u001b[39m\u001b[39mcoordinate \u001b[39m\u001b[39m{\u001b[39;00mk\u001b[39m!r}\u001b[39;00m\u001b[39m is a DataArray dimension, but \u001b[39m\u001b[39m\"\u001b[39m\n\u001b[1;32m    169\u001b[0m         \u001b[39mf\u001b[39m\u001b[39m\"\u001b[39m\u001b[39mit has shape \u001b[39m\u001b[39m{\u001b[39;00mv\u001b[39m.\u001b[39mshape\u001b[39m!r}\u001b[39;00m\u001b[39m rather than expected shape \u001b[39m\u001b[39m{\u001b[39;00msizes[k]\u001b[39m!r}\u001b[39;00m\u001b[39m \u001b[39m\u001b[39m\"\u001b[39m\n\u001b[1;32m    170\u001b[0m         \u001b[39m\"\u001b[39m\u001b[39mmatching the dimension size\u001b[39m\u001b[39m\"\u001b[39m\n\u001b[1;32m    171\u001b[0m     )\n",
      "\u001b[0;31mValueError\u001b[0m: conflicting sizes for dimension 'time': length 1504 on the data but length 94 on coordinate 'time'"
     ]
    },
    {
     "data": {
      "application/javascript": "\n            setTimeout(function() {\n                var nbb_cell_id = 13;\n                var nbb_unformatted_code = \"# open datasets\\nds_26rcp = rio.open_rasterio(ds_rcp26_fp)\\n# ds_45rcp = xr.open_dataset(ds_rcp45_fp)\\n# ds_85rcp = xr.open_dataset(ds_rcp85_fp)\";\n                var nbb_formatted_code = \"# open datasets\\nds_26rcp = rio.open_rasterio(ds_rcp26_fp)\\n# ds_45rcp = xr.open_dataset(ds_rcp45_fp)\\n# ds_85rcp = xr.open_dataset(ds_rcp85_fp)\";\n                var nbb_cells = Jupyter.notebook.get_cells();\n                for (var i = 0; i < nbb_cells.length; ++i) {\n                    if (nbb_cells[i].input_prompt_number == nbb_cell_id) {\n                        if (nbb_cells[i].get_text() == nbb_unformatted_code) {\n                             nbb_cells[i].set_text(nbb_formatted_code);\n                        }\n                        break;\n                    }\n                }\n            }, 500);\n            ",
      "text/plain": [
       "<IPython.core.display.Javascript object>"
      ]
     },
     "metadata": {},
     "output_type": "display_data"
    }
   ],
   "source": [
    "# open datasets\n",
    "ds_26rcp = rio.open_rasterio(ds_rcp26_fp)\n",
    "# ds_45rcp = xr.open_dataset(ds_rcp45_fp)\n",
    "# ds_85rcp = xr.open_dataset(ds_rcp85_fp)"
   ]
  },
  {
   "cell_type": "code",
   "execution_count": 11,
   "id": "9a6502af",
   "metadata": {},
   "outputs": [
    {
     "name": "stdout",
     "output_type": "stream",
     "text": [
      "['time', 'bnds', 'lat', 'lon', 'ens']\n",
      "['time', 'lat', 'lon']\n",
      "['time', 'time_bnds', 'lat', 'lon', 'totslr_ens', 'totslr', 'loerr', 'hierr', 'modelname']\n"
     ]
    },
    {
     "data": {
      "application/javascript": "\n            setTimeout(function() {\n                var nbb_cell_id = 11;\n                var nbb_unformatted_code = \"print(list(ds_26rcp.dims))\\nprint(list(ds_26rcp.coords))\\nprint(list(ds_26rcp.variables))\";\n                var nbb_formatted_code = \"print(list(ds_26rcp.dims))\\nprint(list(ds_26rcp.coords))\\nprint(list(ds_26rcp.variables))\";\n                var nbb_cells = Jupyter.notebook.get_cells();\n                for (var i = 0; i < nbb_cells.length; ++i) {\n                    if (nbb_cells[i].input_prompt_number == nbb_cell_id) {\n                        if (nbb_cells[i].get_text() == nbb_unformatted_code) {\n                             nbb_cells[i].set_text(nbb_formatted_code);\n                        }\n                        break;\n                    }\n                }\n            }, 500);\n            ",
      "text/plain": [
       "<IPython.core.display.Javascript object>"
      ]
     },
     "metadata": {},
     "output_type": "display_data"
    }
   ],
   "source": [
    "print(list(ds_26rcp.dims))\n",
    "print(list(ds_26rcp.coords))\n",
    "print(list(ds_26rcp.variables))"
   ]
  },
  {
   "cell_type": "code",
   "execution_count": null,
   "id": "37eaec2c",
   "metadata": {},
   "outputs": [],
   "source": [
    "import rasterio as "
   ]
  },
  {
   "cell_type": "code",
   "execution_count": 5,
   "id": "d19468d7",
   "metadata": {},
   "outputs": [
    {
     "data": {
      "application/javascript": "\n            setTimeout(function() {\n                var nbb_cell_id = 5;\n                var nbb_unformatted_code = \"%%capture cap --no-stderr\\n# check original CF compliancy\\n\\ncheck_compliancy(testfile=ds_rcp26_path, working_dir=CF_dir)\";\n                var nbb_formatted_code = \"%%capture cap --no-stderr\\n# check original CF compliancy\\n\\ncheck_compliancy(testfile=ds_rcp26_path, working_dir=CF_dir)\";\n                var nbb_cells = Jupyter.notebook.get_cells();\n                for (var i = 0; i < nbb_cells.length; ++i) {\n                    if (nbb_cells[i].input_prompt_number == nbb_cell_id) {\n                        if (nbb_cells[i].get_text() == nbb_unformatted_code) {\n                             nbb_cells[i].set_text(nbb_formatted_code);\n                        }\n                        break;\n                    }\n                }\n            }, 500);\n            ",
      "text/plain": [
       "<IPython.core.display.Javascript object>"
      ]
     },
     "metadata": {},
     "output_type": "display_data"
    }
   ],
   "source": [
    "%%capture cap --no-stderr\n",
    "# check original CF compliancy\n",
    "\n",
    "check_compliancy(testfile=ds_rcp26_path, working_dir=CF_dir)"
   ]
  },
  {
   "cell_type": "code",
   "execution_count": 6,
   "id": "71a038bc",
   "metadata": {},
   "outputs": [
    {
     "name": "stdout",
     "output_type": "stream",
     "text": [
      "{'P:\\\\11205479-coclico\\\\data\\\\18_AR5_SLP_IPCC\\\\total-ens-slr-26-5.nc': {'warnings': '1', 'errors': '0'}}\n"
     ]
    },
    {
     "data": {
      "application/javascript": "\n            setTimeout(function() {\n                var nbb_cell_id = 6;\n                var nbb_unformatted_code = \"# save original CF compliancy\\nsave_compliancy(cap, testfile=ds_rcp26_path, working_dir=CF_dir)\";\n                var nbb_formatted_code = \"# save original CF compliancy\\nsave_compliancy(cap, testfile=ds_rcp26_path, working_dir=CF_dir)\";\n                var nbb_cells = Jupyter.notebook.get_cells();\n                for (var i = 0; i < nbb_cells.length; ++i) {\n                    if (nbb_cells[i].input_prompt_number == nbb_cell_id) {\n                        if (nbb_cells[i].get_text() == nbb_unformatted_code) {\n                             nbb_cells[i].set_text(nbb_formatted_code);\n                        }\n                        break;\n                    }\n                }\n            }, 500);\n            ",
      "text/plain": [
       "<IPython.core.display.Javascript object>"
      ]
     },
     "metadata": {},
     "output_type": "display_data"
    }
   ],
   "source": [
    "# save original CF compliancy\n",
    "save_compliancy(cap, testfile=ds_rcp26_path, working_dir=CF_dir)"
   ]
  },
  {
   "cell_type": "code",
   "execution_count": 7,
   "id": "238f34a2",
   "metadata": {},
   "outputs": [
    {
     "data": {
      "application/javascript": "\n            setTimeout(function() {\n                var nbb_cell_id = 7;\n                var nbb_unformatted_code = \"%%capture cap --no-stderr\\n# check original CF compliancy\\n\\ncheck_compliancy(testfile=ds_rcp45_path, working_dir=CF_dir)\";\n                var nbb_formatted_code = \"%%capture cap --no-stderr\\n# check original CF compliancy\\n\\ncheck_compliancy(testfile=ds_rcp45_path, working_dir=CF_dir)\";\n                var nbb_cells = Jupyter.notebook.get_cells();\n                for (var i = 0; i < nbb_cells.length; ++i) {\n                    if (nbb_cells[i].input_prompt_number == nbb_cell_id) {\n                        if (nbb_cells[i].get_text() == nbb_unformatted_code) {\n                             nbb_cells[i].set_text(nbb_formatted_code);\n                        }\n                        break;\n                    }\n                }\n            }, 500);\n            ",
      "text/plain": [
       "<IPython.core.display.Javascript object>"
      ]
     },
     "metadata": {},
     "output_type": "display_data"
    }
   ],
   "source": [
    "%%capture cap --no-stderr\n",
    "# check original CF compliancy\n",
    "\n",
    "check_compliancy(testfile=ds_rcp45_path, working_dir=CF_dir)"
   ]
  },
  {
   "cell_type": "code",
   "execution_count": 8,
   "id": "9cadb3d4",
   "metadata": {},
   "outputs": [
    {
     "name": "stdout",
     "output_type": "stream",
     "text": [
      "{'P:\\\\11205479-coclico\\\\data\\\\18_AR5_SLP_IPCC\\\\total-ens-slr-45-5.nc': {'warnings': '5', 'errors': '4'}}\n"
     ]
    },
    {
     "data": {
      "application/javascript": "\n            setTimeout(function() {\n                var nbb_cell_id = 8;\n                var nbb_unformatted_code = \"# save original CF compliancy\\nsave_compliancy(cap, testfile=ds_rcp45_path, working_dir=CF_dir)\";\n                var nbb_formatted_code = \"# save original CF compliancy\\nsave_compliancy(cap, testfile=ds_rcp45_path, working_dir=CF_dir)\";\n                var nbb_cells = Jupyter.notebook.get_cells();\n                for (var i = 0; i < nbb_cells.length; ++i) {\n                    if (nbb_cells[i].input_prompt_number == nbb_cell_id) {\n                        if (nbb_cells[i].get_text() == nbb_unformatted_code) {\n                             nbb_cells[i].set_text(nbb_formatted_code);\n                        }\n                        break;\n                    }\n                }\n            }, 500);\n            ",
      "text/plain": [
       "<IPython.core.display.Javascript object>"
      ]
     },
     "metadata": {},
     "output_type": "display_data"
    }
   ],
   "source": [
    "# save original CF compliancy\n",
    "save_compliancy(cap, testfile=ds_rcp45_path, working_dir=CF_dir)"
   ]
  },
  {
   "cell_type": "code",
   "execution_count": 9,
   "id": "8720145b",
   "metadata": {},
   "outputs": [
    {
     "data": {
      "application/javascript": "\n            setTimeout(function() {\n                var nbb_cell_id = 9;\n                var nbb_unformatted_code = \"%%capture cap --no-stderr\\n# check original CF compliancy\\n\\ncheck_compliancy(testfile=ds_rcp85_path, working_dir=CF_dir)\";\n                var nbb_formatted_code = \"%%capture cap --no-stderr\\n# check original CF compliancy\\n\\ncheck_compliancy(testfile=ds_rcp85_path, working_dir=CF_dir)\";\n                var nbb_cells = Jupyter.notebook.get_cells();\n                for (var i = 0; i < nbb_cells.length; ++i) {\n                    if (nbb_cells[i].input_prompt_number == nbb_cell_id) {\n                        if (nbb_cells[i].get_text() == nbb_unformatted_code) {\n                             nbb_cells[i].set_text(nbb_formatted_code);\n                        }\n                        break;\n                    }\n                }\n            }, 500);\n            ",
      "text/plain": [
       "<IPython.core.display.Javascript object>"
      ]
     },
     "metadata": {},
     "output_type": "display_data"
    }
   ],
   "source": [
    "%%capture cap --no-stderr\n",
    "# check original CF compliancy\n",
    "\n",
    "check_compliancy(testfile=ds_rcp85_path, working_dir=CF_dir)"
   ]
  },
  {
   "cell_type": "code",
   "execution_count": 10,
   "id": "c310346a",
   "metadata": {},
   "outputs": [
    {
     "name": "stdout",
     "output_type": "stream",
     "text": [
      "{'P:\\\\11205479-coclico\\\\data\\\\18_AR5_SLP_IPCC\\\\total-ens-slr-85-5.nc': {'warnings': '5', 'errors': '4'}}\n"
     ]
    },
    {
     "data": {
      "application/javascript": "\n            setTimeout(function() {\n                var nbb_cell_id = 10;\n                var nbb_unformatted_code = \"# save original CF compliancy\\nsave_compliancy(cap, testfile=ds_rcp85_path, working_dir=CF_dir)\";\n                var nbb_formatted_code = \"# save original CF compliancy\\nsave_compliancy(cap, testfile=ds_rcp85_path, working_dir=CF_dir)\";\n                var nbb_cells = Jupyter.notebook.get_cells();\n                for (var i = 0; i < nbb_cells.length; ++i) {\n                    if (nbb_cells[i].input_prompt_number == nbb_cell_id) {\n                        if (nbb_cells[i].get_text() == nbb_unformatted_code) {\n                             nbb_cells[i].set_text(nbb_formatted_code);\n                        }\n                        break;\n                    }\n                }\n            }, 500);\n            ",
      "text/plain": [
       "<IPython.core.display.Javascript object>"
      ]
     },
     "metadata": {},
     "output_type": "display_data"
    }
   ],
   "source": [
    "# save original CF compliancy\n",
    "save_compliancy(cap, testfile=ds_rcp85_path, working_dir=CF_dir)"
   ]
  },
  {
   "cell_type": "markdown",
   "id": "0c557e90",
   "metadata": {},
   "source": [
    "### Make CF compliant alterations to the NetCDF files (dataset dependent)"
   ]
  },
  {
   "cell_type": "code",
   "execution_count": 32,
   "id": "2e406b6a",
   "metadata": {},
   "outputs": [
    {
     "data": {
      "application/javascript": "\n            setTimeout(function() {\n                var nbb_cell_id = 32;\n                var nbb_unformatted_code = \"# NetCDF attribute alterations\\n\\n# # add global attributes\\nds_26rcp.attrs[\\\"Conventions\\\"] = \\\"CF-1.8\\\"\\nds_45rcp.attrs[\\\"Conventions\\\"] = \\\"CF-1.8\\\"\\nds_85rcp.attrs[\\\"Conventions\\\"] = \\\"CF-1.8\\\"\";\n                var nbb_formatted_code = \"# NetCDF attribute alterations\\n\\n# # add global attributes\\nds_26rcp.attrs[\\\"Conventions\\\"] = \\\"CF-1.8\\\"\\nds_45rcp.attrs[\\\"Conventions\\\"] = \\\"CF-1.8\\\"\\nds_85rcp.attrs[\\\"Conventions\\\"] = \\\"CF-1.8\\\"\";\n                var nbb_cells = Jupyter.notebook.get_cells();\n                for (var i = 0; i < nbb_cells.length; ++i) {\n                    if (nbb_cells[i].input_prompt_number == nbb_cell_id) {\n                        if (nbb_cells[i].get_text() == nbb_unformatted_code) {\n                             nbb_cells[i].set_text(nbb_formatted_code);\n                        }\n                        break;\n                    }\n                }\n            }, 500);\n            ",
      "text/plain": [
       "<IPython.core.display.Javascript object>"
      ]
     },
     "metadata": {},
     "output_type": "display_data"
    }
   ],
   "source": [
    "# NetCDF attribute alterations\n",
    "\n",
    "# # add global attributes\n",
    "ds_26rcp.attrs[\"Conventions\"] = \"CF-1.8\"\n",
    "ds_45rcp.attrs[\"Conventions\"] = \"CF-1.8\"\n",
    "ds_85rcp.attrs[\"Conventions\"] = \"CF-1.8\""
   ]
  },
  {
   "cell_type": "code",
   "execution_count": 33,
   "id": "51642e7d",
   "metadata": {},
   "outputs": [
    {
     "data": {
      "application/javascript": "\n            setTimeout(function() {\n                var nbb_cell_id = 33;\n                var nbb_unformatted_code = \"# NetCDF variable and dimension alterations\\n\\n# rename or swap dimension names, the latter in case the name already exists as coordinate\\nds_26rcp = ds_26rcp.rename_dims(\\n    {\\\"ens\\\": \\\"nensemble\\\", \\\"bnds\\\": \\\"nv\\\"}  # nv = number of vertices\\n)\\nds_45rcp = ds_45rcp.rename_dims({\\\"ens\\\": \\\"nensemble\\\", \\\"bnds\\\": \\\"nv\\\"})\\nds_85rcp = ds_85rcp.rename_dims({\\\"ens\\\": \\\"nensemble\\\", \\\"bnds\\\": \\\"nv\\\"})\\n\\n# # rename variables, if necessary\\nds_26rcp = ds_26rcp.rename_vars({\\\"modelname\\\": \\\"ensemble\\\"})\\nds_45rcp = ds_45rcp.rename_vars({\\\"modelname\\\": \\\"ensemble\\\"})\\nds_85rcp = ds_85rcp.rename_vars({\\\"modelname\\\": \\\"ensemble\\\"})\\n\\n# # set some data variables to coordinates to avoid duplication of dimensions in later stage\\nds_26rcp = ds_26rcp.set_coords([\\\"ensemble\\\", \\\"time_bnds\\\"])\\nds_45rcp = ds_45rcp.set_coords([\\\"ensemble\\\", \\\"time_bnds\\\"])\\nds_85rcp = ds_85rcp.set_coords([\\\"ensemble\\\", \\\"time_bnds\\\"])\\n\\n# encoding settings\\nds_26rcp.time_bnds.encoding[\\n    \\\"_FillValue\\\"\\n] = None  # xarray sets _FillValue automatically to None for float types, prevent this when needed\\nds_45rcp.time_bnds.encoding[\\n    \\\"_FillValue\\\"\\n] = None  # xarray sets _FillValue automatically to None for float types, prevent this when needed\\nds_85rcp.time_bnds.encoding[\\n    \\\"_FillValue\\\"\\n] = None  # xarray sets _FillValue automatically to None for float types, prevent this when needed\\n\\n# construct equal dimensions in ensembles\\n# note, has to be partly manual as nensemble has to be indexed by ensemble strings\\nstrip_ensembles = list(\\n    set([s.strip() for s in ds_85rcp[\\\"ensemble\\\"].astype(str).values]).difference(\\n        [s.strip() for s in ds_26rcp[\\\"ensemble\\\"].astype(str).values]\\n    )\\n)  # remove these at correct positions in the data from RCP45 & RCP85\\nstrip_ensembles_idx = [\\n    idx\\n    for idx, j in enumerate(\\n        [s.strip() for s in ds_85rcp[\\\"ensemble\\\"].astype(str).values]\\n    )\\n    if j in strip_ensembles\\n]\\nds_45rcp = ds_45rcp.drop_sel(\\n    nensemble=strip_ensembles_idx\\n)  # remove indixed ensembles from RCP45\\nds_85rcp = ds_85rcp.drop_sel(\\n    nensemble=strip_ensembles_idx\\n)  # remove indixed ensembles from RCP85\\n\\n# rework ensemble lists to get rid of excessive spaces\\nds_26rcp[\\\"ensemble\\\"] = np.array(\\n    [s.strip() for s in ds_26rcp[\\\"ensemble\\\"].astype(str).values], dtype=\\\"S\\\"\\n)\\nds_26rcp = ds_26rcp.swap_dims({\\\"ensemble\\\": \\\"nensemble\\\"})\\nds_45rcp[\\\"ensemble\\\"] = np.array(\\n    [s.strip() for s in ds_45rcp[\\\"ensemble\\\"].astype(str).values], dtype=\\\"S\\\"\\n)\\nds_45rcp = ds_45rcp.swap_dims({\\\"ensemble\\\": \\\"nensemble\\\"})\\nds_85rcp[\\\"ensemble\\\"] = np.array(\\n    [s.strip() for s in ds_85rcp[\\\"ensemble\\\"].astype(str).values], dtype=\\\"S\\\"\\n)\\nds_85rcp = ds_85rcp.swap_dims({\\\"ensemble\\\": \\\"nensemble\\\"})\\nds_26rcp[\\\"ensemble\\\"].attrs['long_name'] = 'Model names in the same order as in totslr_ens var'\\nds_45rcp[\\\"ensemble\\\"].attrs['long_name'] = 'Model names in the same order as in totslr_ens var'\\nds_85rcp[\\\"ensemble\\\"].attrs['long_name'] = 'Model names in the same order as in totslr_ens var'\\n\\n# info on all attributes\\n# !ncinfo -v totslr {ds_rcp26_path}\";\n                var nbb_formatted_code = \"# NetCDF variable and dimension alterations\\n\\n# rename or swap dimension names, the latter in case the name already exists as coordinate\\nds_26rcp = ds_26rcp.rename_dims(\\n    {\\\"ens\\\": \\\"nensemble\\\", \\\"bnds\\\": \\\"nv\\\"}  # nv = number of vertices\\n)\\nds_45rcp = ds_45rcp.rename_dims({\\\"ens\\\": \\\"nensemble\\\", \\\"bnds\\\": \\\"nv\\\"})\\nds_85rcp = ds_85rcp.rename_dims({\\\"ens\\\": \\\"nensemble\\\", \\\"bnds\\\": \\\"nv\\\"})\\n\\n# # rename variables, if necessary\\nds_26rcp = ds_26rcp.rename_vars({\\\"modelname\\\": \\\"ensemble\\\"})\\nds_45rcp = ds_45rcp.rename_vars({\\\"modelname\\\": \\\"ensemble\\\"})\\nds_85rcp = ds_85rcp.rename_vars({\\\"modelname\\\": \\\"ensemble\\\"})\\n\\n# # set some data variables to coordinates to avoid duplication of dimensions in later stage\\nds_26rcp = ds_26rcp.set_coords([\\\"ensemble\\\", \\\"time_bnds\\\"])\\nds_45rcp = ds_45rcp.set_coords([\\\"ensemble\\\", \\\"time_bnds\\\"])\\nds_85rcp = ds_85rcp.set_coords([\\\"ensemble\\\", \\\"time_bnds\\\"])\\n\\n# encoding settings\\nds_26rcp.time_bnds.encoding[\\n    \\\"_FillValue\\\"\\n] = None  # xarray sets _FillValue automatically to None for float types, prevent this when needed\\nds_45rcp.time_bnds.encoding[\\n    \\\"_FillValue\\\"\\n] = None  # xarray sets _FillValue automatically to None for float types, prevent this when needed\\nds_85rcp.time_bnds.encoding[\\n    \\\"_FillValue\\\"\\n] = None  # xarray sets _FillValue automatically to None for float types, prevent this when needed\\n\\n# construct equal dimensions in ensembles\\n# note, has to be partly manual as nensemble has to be indexed by ensemble strings\\nstrip_ensembles = list(\\n    set([s.strip() for s in ds_85rcp[\\\"ensemble\\\"].astype(str).values]).difference(\\n        [s.strip() for s in ds_26rcp[\\\"ensemble\\\"].astype(str).values]\\n    )\\n)  # remove these at correct positions in the data from RCP45 & RCP85\\nstrip_ensembles_idx = [\\n    idx\\n    for idx, j in enumerate(\\n        [s.strip() for s in ds_85rcp[\\\"ensemble\\\"].astype(str).values]\\n    )\\n    if j in strip_ensembles\\n]\\nds_45rcp = ds_45rcp.drop_sel(\\n    nensemble=strip_ensembles_idx\\n)  # remove indixed ensembles from RCP45\\nds_85rcp = ds_85rcp.drop_sel(\\n    nensemble=strip_ensembles_idx\\n)  # remove indixed ensembles from RCP85\\n\\n# rework ensemble lists to get rid of excessive spaces\\nds_26rcp[\\\"ensemble\\\"] = np.array(\\n    [s.strip() for s in ds_26rcp[\\\"ensemble\\\"].astype(str).values], dtype=\\\"S\\\"\\n)\\nds_26rcp = ds_26rcp.swap_dims({\\\"ensemble\\\": \\\"nensemble\\\"})\\nds_45rcp[\\\"ensemble\\\"] = np.array(\\n    [s.strip() for s in ds_45rcp[\\\"ensemble\\\"].astype(str).values], dtype=\\\"S\\\"\\n)\\nds_45rcp = ds_45rcp.swap_dims({\\\"ensemble\\\": \\\"nensemble\\\"})\\nds_85rcp[\\\"ensemble\\\"] = np.array(\\n    [s.strip() for s in ds_85rcp[\\\"ensemble\\\"].astype(str).values], dtype=\\\"S\\\"\\n)\\nds_85rcp = ds_85rcp.swap_dims({\\\"ensemble\\\": \\\"nensemble\\\"})\\nds_26rcp[\\\"ensemble\\\"].attrs[\\n    \\\"long_name\\\"\\n] = \\\"Model names in the same order as in totslr_ens var\\\"\\nds_45rcp[\\\"ensemble\\\"].attrs[\\n    \\\"long_name\\\"\\n] = \\\"Model names in the same order as in totslr_ens var\\\"\\nds_85rcp[\\\"ensemble\\\"].attrs[\\n    \\\"long_name\\\"\\n] = \\\"Model names in the same order as in totslr_ens var\\\"\\n\\n# info on all attributes\\n# !ncinfo -v totslr {ds_rcp26_path}\";\n                var nbb_cells = Jupyter.notebook.get_cells();\n                for (var i = 0; i < nbb_cells.length; ++i) {\n                    if (nbb_cells[i].input_prompt_number == nbb_cell_id) {\n                        if (nbb_cells[i].get_text() == nbb_unformatted_code) {\n                             nbb_cells[i].set_text(nbb_formatted_code);\n                        }\n                        break;\n                    }\n                }\n            }, 500);\n            ",
      "text/plain": [
       "<IPython.core.display.Javascript object>"
      ]
     },
     "metadata": {},
     "output_type": "display_data"
    }
   ],
   "source": [
    "# NetCDF variable and dimension alterations\n",
    "\n",
    "# rename or swap dimension names, the latter in case the name already exists as coordinate\n",
    "ds_26rcp = ds_26rcp.rename_dims(\n",
    "    {\"ens\": \"nensemble\", \"bnds\": \"nv\"}  # nv = number of vertices\n",
    ")\n",
    "ds_45rcp = ds_45rcp.rename_dims({\"ens\": \"nensemble\", \"bnds\": \"nv\"})\n",
    "ds_85rcp = ds_85rcp.rename_dims({\"ens\": \"nensemble\", \"bnds\": \"nv\"})\n",
    "\n",
    "# # rename variables, if necessary\n",
    "ds_26rcp = ds_26rcp.rename_vars({\"modelname\": \"ensemble\"})\n",
    "ds_45rcp = ds_45rcp.rename_vars({\"modelname\": \"ensemble\"})\n",
    "ds_85rcp = ds_85rcp.rename_vars({\"modelname\": \"ensemble\"})\n",
    "\n",
    "# # set some data variables to coordinates to avoid duplication of dimensions in later stage\n",
    "ds_26rcp = ds_26rcp.set_coords([\"ensemble\", \"time_bnds\"])\n",
    "ds_45rcp = ds_45rcp.set_coords([\"ensemble\", \"time_bnds\"])\n",
    "ds_85rcp = ds_85rcp.set_coords([\"ensemble\", \"time_bnds\"])\n",
    "\n",
    "# encoding settings\n",
    "ds_26rcp.time_bnds.encoding[\n",
    "    \"_FillValue\"\n",
    "] = None  # xarray sets _FillValue automatically to None for float types, prevent this when needed\n",
    "ds_45rcp.time_bnds.encoding[\n",
    "    \"_FillValue\"\n",
    "] = None  # xarray sets _FillValue automatically to None for float types, prevent this when needed\n",
    "ds_85rcp.time_bnds.encoding[\n",
    "    \"_FillValue\"\n",
    "] = None  # xarray sets _FillValue automatically to None for float types, prevent this when needed\n",
    "\n",
    "# construct equal dimensions in ensembles\n",
    "# note, has to be partly manual as nensemble has to be indexed by ensemble strings\n",
    "strip_ensembles = list(\n",
    "    set([s.strip() for s in ds_85rcp[\"ensemble\"].astype(str).values]).difference(\n",
    "        [s.strip() for s in ds_26rcp[\"ensemble\"].astype(str).values]\n",
    "    )\n",
    ")  # remove these at correct positions in the data from RCP45 & RCP85\n",
    "strip_ensembles_idx = [\n",
    "    idx\n",
    "    for idx, j in enumerate(\n",
    "        [s.strip() for s in ds_85rcp[\"ensemble\"].astype(str).values]\n",
    "    )\n",
    "    if j in strip_ensembles\n",
    "]\n",
    "ds_45rcp = ds_45rcp.drop_sel(\n",
    "    nensemble=strip_ensembles_idx\n",
    ")  # remove indixed ensembles from RCP45\n",
    "ds_85rcp = ds_85rcp.drop_sel(\n",
    "    nensemble=strip_ensembles_idx\n",
    ")  # remove indixed ensembles from RCP85\n",
    "\n",
    "# rework ensemble lists to get rid of excessive spaces\n",
    "ds_26rcp[\"ensemble\"] = np.array(\n",
    "    [s.strip() for s in ds_26rcp[\"ensemble\"].astype(str).values], dtype=\"S\"\n",
    ")\n",
    "ds_26rcp = ds_26rcp.swap_dims({\"ensemble\": \"nensemble\"})\n",
    "ds_45rcp[\"ensemble\"] = np.array(\n",
    "    [s.strip() for s in ds_45rcp[\"ensemble\"].astype(str).values], dtype=\"S\"\n",
    ")\n",
    "ds_45rcp = ds_45rcp.swap_dims({\"ensemble\": \"nensemble\"})\n",
    "ds_85rcp[\"ensemble\"] = np.array(\n",
    "    [s.strip() for s in ds_85rcp[\"ensemble\"].astype(str).values], dtype=\"S\"\n",
    ")\n",
    "ds_85rcp = ds_85rcp.swap_dims({\"ensemble\": \"nensemble\"})\n",
    "ds_26rcp[\"ensemble\"].attrs[\n",
    "    \"long_name\"\n",
    "] = \"Model names in the same order as in totslr_ens var\"\n",
    "ds_45rcp[\"ensemble\"].attrs[\n",
    "    \"long_name\"\n",
    "] = \"Model names in the same order as in totslr_ens var\"\n",
    "ds_85rcp[\"ensemble\"].attrs[\n",
    "    \"long_name\"\n",
    "] = \"Model names in the same order as in totslr_ens var\"\n",
    "\n",
    "# info on all attributes\n",
    "# !ncinfo -v totslr {ds_rcp26_path}"
   ]
  },
  {
   "cell_type": "code",
   "execution_count": 36,
   "id": "00c63076",
   "metadata": {},
   "outputs": [
    {
     "data": {
      "application/javascript": "\n            setTimeout(function() {\n                var nbb_cell_id = 36;\n                var nbb_unformatted_code = \"# concat datasets along new dimension with index values and name derived from pandas index object, if necessary\\ndataset = xr.concat([ds_26rcp, ds_45rcp, ds_85rcp], dim=\\\"nscenarios\\\")\\ndataset = dataset.assign_coords(\\n    scenarios=(\\\"nscenarios\\\", np.array([\\\"RCP26\\\", \\\"RCP45\\\", \\\"RCP85\\\"], dtype=\\\"S\\\"))\\n)\\n\\n# dataset = xr.concat(\\n#     [dataset_historical, dataset_45rcp, dataset_85rcp],\\n#     pd.Index([\\\"historical\\\", \\\"rcp45\\\", \\\"rcp85\\\"], name=\\\"scenarios\\\"),\\n# )\\n\\n# dataset[\\\"scenarios\\\"].values.astype(\\\"U\\\") # retrieve scenarios as string\";\n                var nbb_formatted_code = \"# concat datasets along new dimension with index values and name derived from pandas index object, if necessary\\ndataset = xr.concat([ds_26rcp, ds_45rcp, ds_85rcp], dim=\\\"nscenarios\\\")\\ndataset = dataset.assign_coords(\\n    scenarios=(\\\"nscenarios\\\", np.array([\\\"RCP26\\\", \\\"RCP45\\\", \\\"RCP85\\\"], dtype=\\\"S\\\"))\\n)\\n\\n# dataset = xr.concat(\\n#     [dataset_historical, dataset_45rcp, dataset_85rcp],\\n#     pd.Index([\\\"historical\\\", \\\"rcp45\\\", \\\"rcp85\\\"], name=\\\"scenarios\\\"),\\n# )\\n\\n# dataset[\\\"scenarios\\\"].values.astype(\\\"U\\\") # retrieve scenarios as string\";\n                var nbb_cells = Jupyter.notebook.get_cells();\n                for (var i = 0; i < nbb_cells.length; ++i) {\n                    if (nbb_cells[i].input_prompt_number == nbb_cell_id) {\n                        if (nbb_cells[i].get_text() == nbb_unformatted_code) {\n                             nbb_cells[i].set_text(nbb_formatted_code);\n                        }\n                        break;\n                    }\n                }\n            }, 500);\n            ",
      "text/plain": [
       "<IPython.core.display.Javascript object>"
      ]
     },
     "metadata": {},
     "output_type": "display_data"
    }
   ],
   "source": [
    "# concat datasets along new dimension with index values and name derived from pandas index object, if necessary\n",
    "dataset = xr.concat([ds_26rcp, ds_45rcp, ds_85rcp], dim=\"nscenarios\")\n",
    "dataset = dataset.assign_coords(\n",
    "    scenarios=(\"nscenarios\", np.array([\"RCP26\", \"RCP45\", \"RCP85\"], dtype=\"S\"))\n",
    ")\n",
    "\n",
    "# dataset = xr.concat(\n",
    "#     [dataset_historical, dataset_45rcp, dataset_85rcp],\n",
    "#     pd.Index([\"historical\", \"rcp45\", \"rcp85\"], name=\"scenarios\"),\n",
    "# )\n",
    "\n",
    "# dataset[\"scenarios\"].values.astype(\"U\") # retrieve scenarios as string"
   ]
  },
  {
   "cell_type": "code",
   "execution_count": 49,
   "id": "d46c44d5",
   "metadata": {},
   "outputs": [
    {
     "data": {
      "application/javascript": "\n            setTimeout(function() {\n                var nbb_cell_id = 49;\n                var nbb_unformatted_code = \"# re-order shape of the data variables\\nds_26rcp = ds_26rcp.transpose(\\\"time\\\", \\\"lat\\\", \\\"lon\\\", \\\"nv\\\", \\\"nensemble\\\")\\nds_45rcp = ds_45rcp.transpose(\\\"time\\\", \\\"lat\\\", \\\"lon\\\", \\\"nv\\\", \\\"nensemble\\\")\\nds_85rcp = ds_85rcp.transpose(\\\"time\\\", \\\"lat\\\", \\\"lon\\\", \\\"nv\\\", \\\"nensemble\\\")\\ndataset = dataset.transpose(\\\"nscenarios\\\", \\\"time\\\", \\\"lat\\\", \\\"lon\\\", \\\"nv\\\", \\\"nensemble\\\")\\n\\n# add or change certain variable / coordinate attributes\\ndataset_attributes = {\\n    \\\"scenarios\\\": {\\\"long_name\\\": \\\"climate scenarios\\\"},\\n    \\\"ensemble\\\": {\\\"long_name\\\":\\\"Model names in the same order as in totslr_ens var\\\"}\\n}  # specify custom (CF convention) attributes\\n\\n# add / overwrite attributes\\nfor k, v in dataset_attributes.items():\\n    try:\\n        dataset[k].attrs = dataset_attributes[k]\\n    except:\\n        continue\\n\\n# add epsg\\nds_26rcp.attrs[\\\"crs\\\"] = 4326\\nds_45rcp.attrs[\\\"crs\\\"] = 4326\\nds_85rcp.attrs[\\\"crs\\\"] = 4326\\ndataset.attrs[\\\"crs\\\"] = 4326\\n\\n# add additional info\\ndataset.attrs[\\\"title\\\"] = \\\"Sea level rise from AR5\\\"\\ndataset.attrs[\\\"institution\\\"] = \\\"Institute of Oceanography / CEN / University of Hamburg\\\"\\ndataset.attrs[\\\"comment\\\"] = (\\n    \\\"Here are the files which contain the ocean and ice components, sums and\\\"\\n    \\\" uncertainties as used in preparing the IPCC AR5 report (2014), with some\\\"\\n    \\\" slight modifications.  One small choice I made here was to combine the ocean\\\"\\n    \\\" and inverse barometer effect into one field, both for the mean and the\\\"\\n    \\\" uncertainty.  I also have provided better smoothed maps for the *time series*\\\"\\n    \\\" (the 20-mean-difference maps are the same as in the report).  This actually\\\"\\n    \\\" shouldn't be the cause for any difference in the report figures, as I didn't\\\"\\n    \\\" use this field for anything but the coastal stations in Fig. 13.23, and they\\\"\\n    \\\" have the same interpolation scheme at the coast now, just a better\\\"\\n    \\\" interpolation scheme in the open ocean (bilinear; not shown in any figure in\\\"\\n    \\\" the report). \\\"\\n    \\\"\\\\n\\\"\\n    \\\"One thing to note: I made a choice as to how to provide the 5%\\\"\\n    \\\" and 95% (upper and lower 90 %% confidence interval) uncertainty estimates for\\\"\\n    \\\" the various fields.  I have provided the maps of these similar to the way\\\"\\n    \\\" Jonathan Gregory provided the time series to me, as the individual component\\\"\\n    \\\" upper and lower bounds. However, to combine these errors in the same way as\\\"\\n    \\\" in the report, you will need to take the difference between the upper bound\\\"\\n    \\\" and the middle value (for combining the upper uncertainty total estimate) or\\\"\\n    \\\" the lower bound and middle value (for combining the lower uncertainty total\\\"\\n    \\\" estimate), and use the formula shown in the Supplementary Material for\\\"\\n    \\\" Chapter 13 of the AR5 (SM13) - minus the IBE which is combined with the ocean\\\"\\n    \\\" field here.\\\"\\n)\\ndataset.attrs[\\\"references\\\"] = (\\n    \\\"Chapter 13 paper: Church, J. A., P. Clark, A. Cazenave, J. Gregory, S.\\\"\\n    \\\" Jevrejeva, A. Levermann, M. Merrifield, G. Milne, R.S.Nerem, P. Nunn, A.\\\"\\n    \\\" Payne, W. Pfeffer, D. Stammer, and A. Unnikrishnan (2013), Sea level change,\\\"\\n    \\\" in Climate Change 2013: The Physical Science Basis, edited by T. F. Stocker,\\\"\\n    \\\" D. Qin, G.-K. Plattner, M. Tignor, S. Allen, J. Boschung, A. Nauels, Y. Xia,\\\"\\n    \\\" V. Bex, and P. Midgley, Cambridge University Press, Cambridge, UK and New\\\"\\n    \\\" York, NY. USA.\\\"\\n)\";\n                var nbb_formatted_code = \"# re-order shape of the data variables\\nds_26rcp = ds_26rcp.transpose(\\\"time\\\", \\\"lat\\\", \\\"lon\\\", \\\"nv\\\", \\\"nensemble\\\")\\nds_45rcp = ds_45rcp.transpose(\\\"time\\\", \\\"lat\\\", \\\"lon\\\", \\\"nv\\\", \\\"nensemble\\\")\\nds_85rcp = ds_85rcp.transpose(\\\"time\\\", \\\"lat\\\", \\\"lon\\\", \\\"nv\\\", \\\"nensemble\\\")\\ndataset = dataset.transpose(\\\"nscenarios\\\", \\\"time\\\", \\\"lat\\\", \\\"lon\\\", \\\"nv\\\", \\\"nensemble\\\")\\n\\n# add or change certain variable / coordinate attributes\\ndataset_attributes = {\\n    \\\"scenarios\\\": {\\\"long_name\\\": \\\"climate scenarios\\\"},\\n    \\\"ensemble\\\": {\\\"long_name\\\": \\\"Model names in the same order as in totslr_ens var\\\"},\\n}  # specify custom (CF convention) attributes\\n\\n# add / overwrite attributes\\nfor k, v in dataset_attributes.items():\\n    try:\\n        dataset[k].attrs = dataset_attributes[k]\\n    except:\\n        continue\\n\\n# add epsg\\nds_26rcp.attrs[\\\"crs\\\"] = 4326\\nds_45rcp.attrs[\\\"crs\\\"] = 4326\\nds_85rcp.attrs[\\\"crs\\\"] = 4326\\ndataset.attrs[\\\"crs\\\"] = 4326\\n\\n# add additional info\\ndataset.attrs[\\\"title\\\"] = \\\"Sea level rise from AR5\\\"\\ndataset.attrs[\\\"institution\\\"] = \\\"Institute of Oceanography / CEN / University of Hamburg\\\"\\ndataset.attrs[\\\"comment\\\"] = (\\n    \\\"Here are the files which contain the ocean and ice components, sums and\\\"\\n    \\\" uncertainties as used in preparing the IPCC AR5 report (2014), with some\\\"\\n    \\\" slight modifications.  One small choice I made here was to combine the ocean\\\"\\n    \\\" and inverse barometer effect into one field, both for the mean and the\\\"\\n    \\\" uncertainty.  I also have provided better smoothed maps for the *time series*\\\"\\n    \\\" (the 20-mean-difference maps are the same as in the report).  This actually\\\"\\n    \\\" shouldn't be the cause for any difference in the report figures, as I didn't\\\"\\n    \\\" use this field for anything but the coastal stations in Fig. 13.23, and they\\\"\\n    \\\" have the same interpolation scheme at the coast now, just a better\\\"\\n    \\\" interpolation scheme in the open ocean (bilinear; not shown in any figure in\\\"\\n    \\\" the report). \\\"\\n    \\\"\\\\n\\\"\\n    \\\"One thing to note: I made a choice as to how to provide the 5%\\\"\\n    \\\" and 95% (upper and lower 90 %% confidence interval) uncertainty estimates for\\\"\\n    \\\" the various fields.  I have provided the maps of these similar to the way\\\"\\n    \\\" Jonathan Gregory provided the time series to me, as the individual component\\\"\\n    \\\" upper and lower bounds. However, to combine these errors in the same way as\\\"\\n    \\\" in the report, you will need to take the difference between the upper bound\\\"\\n    \\\" and the middle value (for combining the upper uncertainty total estimate) or\\\"\\n    \\\" the lower bound and middle value (for combining the lower uncertainty total\\\"\\n    \\\" estimate), and use the formula shown in the Supplementary Material for\\\"\\n    \\\" Chapter 13 of the AR5 (SM13) - minus the IBE which is combined with the ocean\\\"\\n    \\\" field here.\\\"\\n)\\ndataset.attrs[\\\"references\\\"] = (\\n    \\\"Chapter 13 paper: Church, J. A., P. Clark, A. Cazenave, J. Gregory, S.\\\"\\n    \\\" Jevrejeva, A. Levermann, M. Merrifield, G. Milne, R.S.Nerem, P. Nunn, A.\\\"\\n    \\\" Payne, W. Pfeffer, D. Stammer, and A. Unnikrishnan (2013), Sea level change,\\\"\\n    \\\" in Climate Change 2013: The Physical Science Basis, edited by T. F. Stocker,\\\"\\n    \\\" D. Qin, G.-K. Plattner, M. Tignor, S. Allen, J. Boschung, A. Nauels, Y. Xia,\\\"\\n    \\\" V. Bex, and P. Midgley, Cambridge University Press, Cambridge, UK and New\\\"\\n    \\\" York, NY. USA.\\\"\\n)\";\n                var nbb_cells = Jupyter.notebook.get_cells();\n                for (var i = 0; i < nbb_cells.length; ++i) {\n                    if (nbb_cells[i].input_prompt_number == nbb_cell_id) {\n                        if (nbb_cells[i].get_text() == nbb_unformatted_code) {\n                             nbb_cells[i].set_text(nbb_formatted_code);\n                        }\n                        break;\n                    }\n                }\n            }, 500);\n            ",
      "text/plain": [
       "<IPython.core.display.Javascript object>"
      ]
     },
     "metadata": {},
     "output_type": "display_data"
    }
   ],
   "source": [
    "# re-order shape of the data variables\n",
    "ds_26rcp = ds_26rcp.transpose(\"time\", \"lat\", \"lon\", \"nv\", \"nensemble\")\n",
    "ds_45rcp = ds_45rcp.transpose(\"time\", \"lat\", \"lon\", \"nv\", \"nensemble\")\n",
    "ds_85rcp = ds_85rcp.transpose(\"time\", \"lat\", \"lon\", \"nv\", \"nensemble\")\n",
    "dataset = dataset.transpose(\"nscenarios\", \"time\", \"lat\", \"lon\", \"nv\", \"nensemble\")\n",
    "\n",
    "# add or change certain variable / coordinate attributes\n",
    "dataset_attributes = {\n",
    "    \"scenarios\": {\"long_name\": \"climate scenarios\"},\n",
    "    \"ensemble\": {\"long_name\": \"Model names in the same order as in totslr_ens var\"},\n",
    "}  # specify custom (CF convention) attributes\n",
    "\n",
    "# add / overwrite attributes\n",
    "for k, v in dataset_attributes.items():\n",
    "    try:\n",
    "        dataset[k].attrs = dataset_attributes[k]\n",
    "    except:\n",
    "        continue\n",
    "\n",
    "# add epsg\n",
    "ds_26rcp.attrs[\"crs\"] = 4326\n",
    "ds_45rcp.attrs[\"crs\"] = 4326\n",
    "ds_85rcp.attrs[\"crs\"] = 4326\n",
    "dataset.attrs[\"crs\"] = 4326\n",
    "\n",
    "# add additional info\n",
    "dataset.attrs[\"title\"] = \"Sea level rise from AR5\"\n",
    "dataset.attrs[\"institution\"] = \"Institute of Oceanography / CEN / University of Hamburg\"\n",
    "dataset.attrs[\"comment\"] = (\n",
    "    \"Here are the files which contain the ocean and ice components, sums and\"\n",
    "    \" uncertainties as used in preparing the IPCC AR5 report (2014), with some\"\n",
    "    \" slight modifications.  One small choice I made here was to combine the ocean\"\n",
    "    \" and inverse barometer effect into one field, both for the mean and the\"\n",
    "    \" uncertainty.  I also have provided better smoothed maps for the *time series*\"\n",
    "    \" (the 20-mean-difference maps are the same as in the report).  This actually\"\n",
    "    \" shouldn't be the cause for any difference in the report figures, as I didn't\"\n",
    "    \" use this field for anything but the coastal stations in Fig. 13.23, and they\"\n",
    "    \" have the same interpolation scheme at the coast now, just a better\"\n",
    "    \" interpolation scheme in the open ocean (bilinear; not shown in any figure in\"\n",
    "    \" the report). \"\n",
    "    \"\\n\"\n",
    "    \"One thing to note: I made a choice as to how to provide the 5%\"\n",
    "    \" and 95% (upper and lower 90 %% confidence interval) uncertainty estimates for\"\n",
    "    \" the various fields.  I have provided the maps of these similar to the way\"\n",
    "    \" Jonathan Gregory provided the time series to me, as the individual component\"\n",
    "    \" upper and lower bounds. However, to combine these errors in the same way as\"\n",
    "    \" in the report, you will need to take the difference between the upper bound\"\n",
    "    \" and the middle value (for combining the upper uncertainty total estimate) or\"\n",
    "    \" the lower bound and middle value (for combining the lower uncertainty total\"\n",
    "    \" estimate), and use the formula shown in the Supplementary Material for\"\n",
    "    \" Chapter 13 of the AR5 (SM13) - minus the IBE which is combined with the ocean\"\n",
    "    \" field here.\"\n",
    ")\n",
    "dataset.attrs[\"references\"] = (\n",
    "    \"Chapter 13 paper: Church, J. A., P. Clark, A. Cazenave, J. Gregory, S.\"\n",
    "    \" Jevrejeva, A. Levermann, M. Merrifield, G. Milne, R.S.Nerem, P. Nunn, A.\"\n",
    "    \" Payne, W. Pfeffer, D. Stammer, and A. Unnikrishnan (2013), Sea level change,\"\n",
    "    \" in Climate Change 2013: The Physical Science Basis, edited by T. F. Stocker,\"\n",
    "    \" D. Qin, G.-K. Plattner, M. Tignor, S. Allen, J. Boschung, A. Nauels, Y. Xia,\"\n",
    "    \" V. Bex, and P. Midgley, Cambridge University Press, Cambridge, UK and New\"\n",
    "    \" York, NY. USA.\"\n",
    ")"
   ]
  },
  {
   "cell_type": "code",
   "execution_count": 51,
   "id": "9fbc61af",
   "metadata": {},
   "outputs": [
    {
     "data": {
      "text/html": [
       "<div><svg style=\"position: absolute; width: 0; height: 0; overflow: hidden\">\n",
       "<defs>\n",
       "<symbol id=\"icon-database\" viewBox=\"0 0 32 32\">\n",
       "<path d=\"M16 0c-8.837 0-16 2.239-16 5v4c0 2.761 7.163 5 16 5s16-2.239 16-5v-4c0-2.761-7.163-5-16-5z\"></path>\n",
       "<path d=\"M16 17c-8.837 0-16-2.239-16-5v6c0 2.761 7.163 5 16 5s16-2.239 16-5v-6c0 2.761-7.163 5-16 5z\"></path>\n",
       "<path d=\"M16 26c-8.837 0-16-2.239-16-5v6c0 2.761 7.163 5 16 5s16-2.239 16-5v-6c0 2.761-7.163 5-16 5z\"></path>\n",
       "</symbol>\n",
       "<symbol id=\"icon-file-text2\" viewBox=\"0 0 32 32\">\n",
       "<path d=\"M28.681 7.159c-0.694-0.947-1.662-2.053-2.724-3.116s-2.169-2.030-3.116-2.724c-1.612-1.182-2.393-1.319-2.841-1.319h-15.5c-1.378 0-2.5 1.121-2.5 2.5v27c0 1.378 1.122 2.5 2.5 2.5h23c1.378 0 2.5-1.122 2.5-2.5v-19.5c0-0.448-0.137-1.23-1.319-2.841zM24.543 5.457c0.959 0.959 1.712 1.825 2.268 2.543h-4.811v-4.811c0.718 0.556 1.584 1.309 2.543 2.268zM28 29.5c0 0.271-0.229 0.5-0.5 0.5h-23c-0.271 0-0.5-0.229-0.5-0.5v-27c0-0.271 0.229-0.5 0.5-0.5 0 0 15.499-0 15.5 0v7c0 0.552 0.448 1 1 1h7v19.5z\"></path>\n",
       "<path d=\"M23 26h-14c-0.552 0-1-0.448-1-1s0.448-1 1-1h14c0.552 0 1 0.448 1 1s-0.448 1-1 1z\"></path>\n",
       "<path d=\"M23 22h-14c-0.552 0-1-0.448-1-1s0.448-1 1-1h14c0.552 0 1 0.448 1 1s-0.448 1-1 1z\"></path>\n",
       "<path d=\"M23 18h-14c-0.552 0-1-0.448-1-1s0.448-1 1-1h14c0.552 0 1 0.448 1 1s-0.448 1-1 1z\"></path>\n",
       "</symbol>\n",
       "</defs>\n",
       "</svg>\n",
       "<style>/* CSS stylesheet for displaying xarray objects in jupyterlab.\n",
       " *\n",
       " */\n",
       "\n",
       ":root {\n",
       "  --xr-font-color0: var(--jp-content-font-color0, rgba(0, 0, 0, 1));\n",
       "  --xr-font-color2: var(--jp-content-font-color2, rgba(0, 0, 0, 0.54));\n",
       "  --xr-font-color3: var(--jp-content-font-color3, rgba(0, 0, 0, 0.38));\n",
       "  --xr-border-color: var(--jp-border-color2, #e0e0e0);\n",
       "  --xr-disabled-color: var(--jp-layout-color3, #bdbdbd);\n",
       "  --xr-background-color: var(--jp-layout-color0, white);\n",
       "  --xr-background-color-row-even: var(--jp-layout-color1, white);\n",
       "  --xr-background-color-row-odd: var(--jp-layout-color2, #eeeeee);\n",
       "}\n",
       "\n",
       "html[theme=dark],\n",
       "body.vscode-dark {\n",
       "  --xr-font-color0: rgba(255, 255, 255, 1);\n",
       "  --xr-font-color2: rgba(255, 255, 255, 0.54);\n",
       "  --xr-font-color3: rgba(255, 255, 255, 0.38);\n",
       "  --xr-border-color: #1F1F1F;\n",
       "  --xr-disabled-color: #515151;\n",
       "  --xr-background-color: #111111;\n",
       "  --xr-background-color-row-even: #111111;\n",
       "  --xr-background-color-row-odd: #313131;\n",
       "}\n",
       "\n",
       ".xr-wrap {\n",
       "  display: block !important;\n",
       "  min-width: 300px;\n",
       "  max-width: 700px;\n",
       "}\n",
       "\n",
       ".xr-text-repr-fallback {\n",
       "  /* fallback to plain text repr when CSS is not injected (untrusted notebook) */\n",
       "  display: none;\n",
       "}\n",
       "\n",
       ".xr-header {\n",
       "  padding-top: 6px;\n",
       "  padding-bottom: 6px;\n",
       "  margin-bottom: 4px;\n",
       "  border-bottom: solid 1px var(--xr-border-color);\n",
       "}\n",
       "\n",
       ".xr-header > div,\n",
       ".xr-header > ul {\n",
       "  display: inline;\n",
       "  margin-top: 0;\n",
       "  margin-bottom: 0;\n",
       "}\n",
       "\n",
       ".xr-obj-type,\n",
       ".xr-array-name {\n",
       "  margin-left: 2px;\n",
       "  margin-right: 10px;\n",
       "}\n",
       "\n",
       ".xr-obj-type {\n",
       "  color: var(--xr-font-color2);\n",
       "}\n",
       "\n",
       ".xr-sections {\n",
       "  padding-left: 0 !important;\n",
       "  display: grid;\n",
       "  grid-template-columns: 150px auto auto 1fr 20px 20px;\n",
       "}\n",
       "\n",
       ".xr-section-item {\n",
       "  display: contents;\n",
       "}\n",
       "\n",
       ".xr-section-item input {\n",
       "  display: none;\n",
       "}\n",
       "\n",
       ".xr-section-item input + label {\n",
       "  color: var(--xr-disabled-color);\n",
       "}\n",
       "\n",
       ".xr-section-item input:enabled + label {\n",
       "  cursor: pointer;\n",
       "  color: var(--xr-font-color2);\n",
       "}\n",
       "\n",
       ".xr-section-item input:enabled + label:hover {\n",
       "  color: var(--xr-font-color0);\n",
       "}\n",
       "\n",
       ".xr-section-summary {\n",
       "  grid-column: 1;\n",
       "  color: var(--xr-font-color2);\n",
       "  font-weight: 500;\n",
       "}\n",
       "\n",
       ".xr-section-summary > span {\n",
       "  display: inline-block;\n",
       "  padding-left: 0.5em;\n",
       "}\n",
       "\n",
       ".xr-section-summary-in:disabled + label {\n",
       "  color: var(--xr-font-color2);\n",
       "}\n",
       "\n",
       ".xr-section-summary-in + label:before {\n",
       "  display: inline-block;\n",
       "  content: '►';\n",
       "  font-size: 11px;\n",
       "  width: 15px;\n",
       "  text-align: center;\n",
       "}\n",
       "\n",
       ".xr-section-summary-in:disabled + label:before {\n",
       "  color: var(--xr-disabled-color);\n",
       "}\n",
       "\n",
       ".xr-section-summary-in:checked + label:before {\n",
       "  content: '▼';\n",
       "}\n",
       "\n",
       ".xr-section-summary-in:checked + label > span {\n",
       "  display: none;\n",
       "}\n",
       "\n",
       ".xr-section-summary,\n",
       ".xr-section-inline-details {\n",
       "  padding-top: 4px;\n",
       "  padding-bottom: 4px;\n",
       "}\n",
       "\n",
       ".xr-section-inline-details {\n",
       "  grid-column: 2 / -1;\n",
       "}\n",
       "\n",
       ".xr-section-details {\n",
       "  display: none;\n",
       "  grid-column: 1 / -1;\n",
       "  margin-bottom: 5px;\n",
       "}\n",
       "\n",
       ".xr-section-summary-in:checked ~ .xr-section-details {\n",
       "  display: contents;\n",
       "}\n",
       "\n",
       ".xr-array-wrap {\n",
       "  grid-column: 1 / -1;\n",
       "  display: grid;\n",
       "  grid-template-columns: 20px auto;\n",
       "}\n",
       "\n",
       ".xr-array-wrap > label {\n",
       "  grid-column: 1;\n",
       "  vertical-align: top;\n",
       "}\n",
       "\n",
       ".xr-preview {\n",
       "  color: var(--xr-font-color3);\n",
       "}\n",
       "\n",
       ".xr-array-preview,\n",
       ".xr-array-data {\n",
       "  padding: 0 5px !important;\n",
       "  grid-column: 2;\n",
       "}\n",
       "\n",
       ".xr-array-data,\n",
       ".xr-array-in:checked ~ .xr-array-preview {\n",
       "  display: none;\n",
       "}\n",
       "\n",
       ".xr-array-in:checked ~ .xr-array-data,\n",
       ".xr-array-preview {\n",
       "  display: inline-block;\n",
       "}\n",
       "\n",
       ".xr-dim-list {\n",
       "  display: inline-block !important;\n",
       "  list-style: none;\n",
       "  padding: 0 !important;\n",
       "  margin: 0;\n",
       "}\n",
       "\n",
       ".xr-dim-list li {\n",
       "  display: inline-block;\n",
       "  padding: 0;\n",
       "  margin: 0;\n",
       "}\n",
       "\n",
       ".xr-dim-list:before {\n",
       "  content: '(';\n",
       "}\n",
       "\n",
       ".xr-dim-list:after {\n",
       "  content: ')';\n",
       "}\n",
       "\n",
       ".xr-dim-list li:not(:last-child):after {\n",
       "  content: ',';\n",
       "  padding-right: 5px;\n",
       "}\n",
       "\n",
       ".xr-has-index {\n",
       "  font-weight: bold;\n",
       "}\n",
       "\n",
       ".xr-var-list,\n",
       ".xr-var-item {\n",
       "  display: contents;\n",
       "}\n",
       "\n",
       ".xr-var-item > div,\n",
       ".xr-var-item label,\n",
       ".xr-var-item > .xr-var-name span {\n",
       "  background-color: var(--xr-background-color-row-even);\n",
       "  margin-bottom: 0;\n",
       "}\n",
       "\n",
       ".xr-var-item > .xr-var-name:hover span {\n",
       "  padding-right: 5px;\n",
       "}\n",
       "\n",
       ".xr-var-list > li:nth-child(odd) > div,\n",
       ".xr-var-list > li:nth-child(odd) > label,\n",
       ".xr-var-list > li:nth-child(odd) > .xr-var-name span {\n",
       "  background-color: var(--xr-background-color-row-odd);\n",
       "}\n",
       "\n",
       ".xr-var-name {\n",
       "  grid-column: 1;\n",
       "}\n",
       "\n",
       ".xr-var-dims {\n",
       "  grid-column: 2;\n",
       "}\n",
       "\n",
       ".xr-var-dtype {\n",
       "  grid-column: 3;\n",
       "  text-align: right;\n",
       "  color: var(--xr-font-color2);\n",
       "}\n",
       "\n",
       ".xr-var-preview {\n",
       "  grid-column: 4;\n",
       "}\n",
       "\n",
       ".xr-var-name,\n",
       ".xr-var-dims,\n",
       ".xr-var-dtype,\n",
       ".xr-preview,\n",
       ".xr-attrs dt {\n",
       "  white-space: nowrap;\n",
       "  overflow: hidden;\n",
       "  text-overflow: ellipsis;\n",
       "  padding-right: 10px;\n",
       "}\n",
       "\n",
       ".xr-var-name:hover,\n",
       ".xr-var-dims:hover,\n",
       ".xr-var-dtype:hover,\n",
       ".xr-attrs dt:hover {\n",
       "  overflow: visible;\n",
       "  width: auto;\n",
       "  z-index: 1;\n",
       "}\n",
       "\n",
       ".xr-var-attrs,\n",
       ".xr-var-data {\n",
       "  display: none;\n",
       "  background-color: var(--xr-background-color) !important;\n",
       "  padding-bottom: 5px !important;\n",
       "}\n",
       "\n",
       ".xr-var-attrs-in:checked ~ .xr-var-attrs,\n",
       ".xr-var-data-in:checked ~ .xr-var-data {\n",
       "  display: block;\n",
       "}\n",
       "\n",
       ".xr-var-data > table {\n",
       "  float: right;\n",
       "}\n",
       "\n",
       ".xr-var-name span,\n",
       ".xr-var-data,\n",
       ".xr-attrs {\n",
       "  padding-left: 25px !important;\n",
       "}\n",
       "\n",
       ".xr-attrs,\n",
       ".xr-var-attrs,\n",
       ".xr-var-data {\n",
       "  grid-column: 1 / -1;\n",
       "}\n",
       "\n",
       "dl.xr-attrs {\n",
       "  padding: 0;\n",
       "  margin: 0;\n",
       "  display: grid;\n",
       "  grid-template-columns: 125px auto;\n",
       "}\n",
       "\n",
       ".xr-attrs dt,\n",
       ".xr-attrs dd {\n",
       "  padding: 0;\n",
       "  margin: 0;\n",
       "  float: left;\n",
       "  padding-right: 10px;\n",
       "  width: auto;\n",
       "}\n",
       "\n",
       ".xr-attrs dt {\n",
       "  font-weight: normal;\n",
       "  grid-column: 1;\n",
       "}\n",
       "\n",
       ".xr-attrs dt:hover span {\n",
       "  display: inline-block;\n",
       "  background: var(--xr-background-color);\n",
       "  padding-right: 10px;\n",
       "}\n",
       "\n",
       ".xr-attrs dd {\n",
       "  grid-column: 2;\n",
       "  white-space: pre-wrap;\n",
       "  word-break: break-all;\n",
       "}\n",
       "\n",
       ".xr-icon-database,\n",
       ".xr-icon-file-text2 {\n",
       "  display: inline-block;\n",
       "  vertical-align: middle;\n",
       "  width: 1em;\n",
       "  height: 1.5em !important;\n",
       "  stroke-width: 0;\n",
       "  stroke: currentColor;\n",
       "  fill: currentColor;\n",
       "}\n",
       "</style><pre class='xr-text-repr-fallback'>&lt;xarray.Dataset&gt;\n",
       "Dimensions:     (time: 94, nv: 2, lat: 180, lon: 360, nscenarios: 3,\n",
       "                 nensemble: 16)\n",
       "Coordinates:\n",
       "  * time        (time) object 2007-07-02 12:00:00 ... 2100-07-02 12:00:00\n",
       "    time_bnds   (time, nv) object 2007-01-01 00:00:00 ... 2101-01-01 00:00:00\n",
       "  * lat         (lat) float64 -89.5 -88.5 -87.5 -86.5 ... 86.5 87.5 88.5 89.5\n",
       "  * lon         (lon) float64 0.5 1.5 2.5 3.5 4.5 ... 356.5 357.5 358.5 359.5\n",
       "    ensemble    (nensemble) |S14 b&#x27;GISS-E2-R&#x27; b&#x27;NorESM1-M&#x27; ... b&#x27;BCC-CSM1-1&#x27;\n",
       "    scenarios   (nscenarios) |S5 b&#x27;RCP26&#x27; b&#x27;RCP45&#x27; b&#x27;RCP85&#x27;\n",
       "Dimensions without coordinates: nv, nscenarios, nensemble\n",
       "Data variables:\n",
       "    totslr_ens  (nscenarios, time, lat, lon, nensemble) float32 nan nan ... nan\n",
       "    totslr      (nscenarios, time, lat, lon) float32 nan nan nan ... nan nan nan\n",
       "    loerr       (nscenarios, time, lat, lon) float32 nan nan nan ... nan nan nan\n",
       "    hierr       (nscenarios, time, lat, lon) float32 nan nan nan ... nan nan nan\n",
       "Attributes:\n",
       "    history:      version 5, 27-March-2014\n",
       "    contact:      mark.carson@zmaw.de\n",
       "    references:   Chapter 13 paper: Church, J. A., P. Clark, A. Cazenave, J. ...\n",
       "    Conventions:  CF-1.8\n",
       "    crs:          4326\n",
       "    title:        Sea level rise from AR5\n",
       "    institution:  Institute of Oceanography / CEN / University of Hamburg\n",
       "    comment:      Here are the files which contain the ocean and ice componen...</pre><div class='xr-wrap' style='display:none'><div class='xr-header'><div class='xr-obj-type'>xarray.Dataset</div></div><ul class='xr-sections'><li class='xr-section-item'><input id='section-17b69195-b41f-48d2-8fa8-84356c544aef' class='xr-section-summary-in' type='checkbox' disabled ><label for='section-17b69195-b41f-48d2-8fa8-84356c544aef' class='xr-section-summary'  title='Expand/collapse section'>Dimensions:</label><div class='xr-section-inline-details'><ul class='xr-dim-list'><li><span class='xr-has-index'>time</span>: 94</li><li><span>nv</span>: 2</li><li><span class='xr-has-index'>lat</span>: 180</li><li><span class='xr-has-index'>lon</span>: 360</li><li><span>nscenarios</span>: 3</li><li><span>nensemble</span>: 16</li></ul></div><div class='xr-section-details'></div></li><li class='xr-section-item'><input id='section-d95559e7-c41f-441f-94e7-5c48eb4e36d9' class='xr-section-summary-in' type='checkbox'  checked><label for='section-d95559e7-c41f-441f-94e7-5c48eb4e36d9' class='xr-section-summary' >Coordinates: <span>(6)</span></label><div class='xr-section-inline-details'></div><div class='xr-section-details'><ul class='xr-var-list'><li class='xr-var-item'><div class='xr-var-name'><span class='xr-has-index'>time</span></div><div class='xr-var-dims'>(time)</div><div class='xr-var-dtype'>object</div><div class='xr-var-preview xr-preview'>2007-07-02 12:00:00 ... 2100-07-...</div><input id='attrs-de3644f4-ea36-4e87-8001-3e160de7cb24' class='xr-var-attrs-in' type='checkbox' ><label for='attrs-de3644f4-ea36-4e87-8001-3e160de7cb24' title='Show/Hide attributes'><svg class='icon xr-icon-file-text2'><use xlink:href='#icon-file-text2'></use></svg></label><input id='data-b61974f2-77e7-4bed-bcca-d7a6db300cfb' class='xr-var-data-in' type='checkbox'><label for='data-b61974f2-77e7-4bed-bcca-d7a6db300cfb' title='Show/Hide data repr'><svg class='icon xr-icon-database'><use xlink:href='#icon-database'></use></svg></label><div class='xr-var-attrs'><dl class='xr-attrs'><dt><span>long_name :</span></dt><dd>time</dd><dt><span>bounds :</span></dt><dd>time_bnds</dd><dt><span>axis :</span></dt><dd>T</dd></dl></div><div class='xr-var-data'><pre>array([cftime.DatetimeNoLeap(2007, 7, 2, 12, 0, 0, 0, has_year_zero=True),\n",
       "       cftime.DatetimeNoLeap(2008, 7, 2, 0, 0, 0, 0, has_year_zero=True),\n",
       "       cftime.DatetimeNoLeap(2009, 7, 2, 12, 0, 0, 0, has_year_zero=True),\n",
       "       cftime.DatetimeNoLeap(2010, 7, 2, 12, 0, 0, 0, has_year_zero=True),\n",
       "       cftime.DatetimeNoLeap(2011, 7, 2, 12, 0, 0, 0, has_year_zero=True),\n",
       "       cftime.DatetimeNoLeap(2012, 7, 2, 0, 0, 0, 0, has_year_zero=True),\n",
       "       cftime.DatetimeNoLeap(2013, 7, 2, 12, 0, 0, 0, has_year_zero=True),\n",
       "       cftime.DatetimeNoLeap(2014, 7, 2, 12, 0, 0, 0, has_year_zero=True),\n",
       "       cftime.DatetimeNoLeap(2015, 7, 2, 12, 0, 0, 0, has_year_zero=True),\n",
       "       cftime.DatetimeNoLeap(2016, 7, 2, 0, 0, 0, 0, has_year_zero=True),\n",
       "       cftime.DatetimeNoLeap(2017, 7, 2, 12, 0, 0, 0, has_year_zero=True),\n",
       "       cftime.DatetimeNoLeap(2018, 7, 2, 12, 0, 0, 0, has_year_zero=True),\n",
       "       cftime.DatetimeNoLeap(2019, 7, 2, 12, 0, 0, 0, has_year_zero=True),\n",
       "       cftime.DatetimeNoLeap(2020, 7, 2, 0, 0, 0, 0, has_year_zero=True),\n",
       "       cftime.DatetimeNoLeap(2021, 7, 2, 12, 0, 0, 0, has_year_zero=True),\n",
       "       cftime.DatetimeNoLeap(2022, 7, 2, 12, 0, 0, 0, has_year_zero=True),\n",
       "       cftime.DatetimeNoLeap(2023, 7, 2, 12, 0, 0, 0, has_year_zero=True),\n",
       "       cftime.DatetimeNoLeap(2024, 7, 2, 0, 0, 0, 0, has_year_zero=True),\n",
       "       cftime.DatetimeNoLeap(2025, 7, 2, 12, 0, 0, 0, has_year_zero=True),\n",
       "       cftime.DatetimeNoLeap(2026, 7, 2, 12, 0, 0, 0, has_year_zero=True),\n",
       "       cftime.DatetimeNoLeap(2027, 7, 2, 12, 0, 0, 0, has_year_zero=True),\n",
       "       cftime.DatetimeNoLeap(2028, 7, 2, 0, 0, 0, 0, has_year_zero=True),\n",
       "       cftime.DatetimeNoLeap(2029, 7, 2, 12, 0, 0, 0, has_year_zero=True),\n",
       "       cftime.DatetimeNoLeap(2030, 7, 2, 12, 0, 0, 0, has_year_zero=True),\n",
       "       cftime.DatetimeNoLeap(2031, 7, 2, 12, 0, 0, 0, has_year_zero=True),\n",
       "       cftime.DatetimeNoLeap(2032, 7, 2, 0, 0, 0, 0, has_year_zero=True),\n",
       "       cftime.DatetimeNoLeap(2033, 7, 2, 12, 0, 0, 0, has_year_zero=True),\n",
       "       cftime.DatetimeNoLeap(2034, 7, 2, 12, 0, 0, 0, has_year_zero=True),\n",
       "       cftime.DatetimeNoLeap(2035, 7, 2, 12, 0, 0, 0, has_year_zero=True),\n",
       "       cftime.DatetimeNoLeap(2036, 7, 2, 0, 0, 0, 0, has_year_zero=True),\n",
       "       cftime.DatetimeNoLeap(2037, 7, 2, 12, 0, 0, 0, has_year_zero=True),\n",
       "       cftime.DatetimeNoLeap(2038, 7, 2, 12, 0, 0, 0, has_year_zero=True),\n",
       "       cftime.DatetimeNoLeap(2039, 7, 2, 12, 0, 0, 0, has_year_zero=True),\n",
       "       cftime.DatetimeNoLeap(2040, 7, 2, 0, 0, 0, 0, has_year_zero=True),\n",
       "       cftime.DatetimeNoLeap(2041, 7, 2, 12, 0, 0, 0, has_year_zero=True),\n",
       "       cftime.DatetimeNoLeap(2042, 7, 2, 12, 0, 0, 0, has_year_zero=True),\n",
       "       cftime.DatetimeNoLeap(2043, 7, 2, 12, 0, 0, 0, has_year_zero=True),\n",
       "       cftime.DatetimeNoLeap(2044, 7, 2, 0, 0, 0, 0, has_year_zero=True),\n",
       "       cftime.DatetimeNoLeap(2045, 7, 2, 12, 0, 0, 0, has_year_zero=True),\n",
       "       cftime.DatetimeNoLeap(2046, 7, 2, 12, 0, 0, 0, has_year_zero=True),\n",
       "       cftime.DatetimeNoLeap(2047, 7, 2, 12, 0, 0, 0, has_year_zero=True),\n",
       "       cftime.DatetimeNoLeap(2048, 7, 2, 0, 0, 0, 0, has_year_zero=True),\n",
       "       cftime.DatetimeNoLeap(2049, 7, 2, 12, 0, 0, 0, has_year_zero=True),\n",
       "       cftime.DatetimeNoLeap(2050, 7, 2, 12, 0, 0, 0, has_year_zero=True),\n",
       "       cftime.DatetimeNoLeap(2051, 7, 2, 12, 0, 0, 0, has_year_zero=True),\n",
       "       cftime.DatetimeNoLeap(2052, 7, 2, 0, 0, 0, 0, has_year_zero=True),\n",
       "       cftime.DatetimeNoLeap(2053, 7, 2, 12, 0, 0, 0, has_year_zero=True),\n",
       "       cftime.DatetimeNoLeap(2054, 7, 2, 12, 0, 0, 0, has_year_zero=True),\n",
       "       cftime.DatetimeNoLeap(2055, 7, 2, 12, 0, 0, 0, has_year_zero=True),\n",
       "       cftime.DatetimeNoLeap(2056, 7, 2, 0, 0, 0, 0, has_year_zero=True),\n",
       "       cftime.DatetimeNoLeap(2057, 7, 2, 12, 0, 0, 0, has_year_zero=True),\n",
       "       cftime.DatetimeNoLeap(2058, 7, 2, 12, 0, 0, 0, has_year_zero=True),\n",
       "       cftime.DatetimeNoLeap(2059, 7, 2, 12, 0, 0, 0, has_year_zero=True),\n",
       "       cftime.DatetimeNoLeap(2060, 7, 2, 0, 0, 0, 0, has_year_zero=True),\n",
       "       cftime.DatetimeNoLeap(2061, 7, 2, 12, 0, 0, 0, has_year_zero=True),\n",
       "       cftime.DatetimeNoLeap(2062, 7, 2, 12, 0, 0, 0, has_year_zero=True),\n",
       "       cftime.DatetimeNoLeap(2063, 7, 2, 12, 0, 0, 0, has_year_zero=True),\n",
       "       cftime.DatetimeNoLeap(2064, 7, 2, 0, 0, 0, 0, has_year_zero=True),\n",
       "       cftime.DatetimeNoLeap(2065, 7, 2, 12, 0, 0, 0, has_year_zero=True),\n",
       "       cftime.DatetimeNoLeap(2066, 7, 2, 12, 0, 0, 0, has_year_zero=True),\n",
       "       cftime.DatetimeNoLeap(2067, 7, 2, 12, 0, 0, 0, has_year_zero=True),\n",
       "       cftime.DatetimeNoLeap(2068, 7, 2, 0, 0, 0, 0, has_year_zero=True),\n",
       "       cftime.DatetimeNoLeap(2069, 7, 2, 12, 0, 0, 0, has_year_zero=True),\n",
       "       cftime.DatetimeNoLeap(2070, 7, 2, 12, 0, 0, 0, has_year_zero=True),\n",
       "       cftime.DatetimeNoLeap(2071, 7, 2, 12, 0, 0, 0, has_year_zero=True),\n",
       "       cftime.DatetimeNoLeap(2072, 7, 2, 0, 0, 0, 0, has_year_zero=True),\n",
       "       cftime.DatetimeNoLeap(2073, 7, 2, 12, 0, 0, 0, has_year_zero=True),\n",
       "       cftime.DatetimeNoLeap(2074, 7, 2, 12, 0, 0, 0, has_year_zero=True),\n",
       "       cftime.DatetimeNoLeap(2075, 7, 2, 12, 0, 0, 0, has_year_zero=True),\n",
       "       cftime.DatetimeNoLeap(2076, 7, 2, 0, 0, 0, 0, has_year_zero=True),\n",
       "       cftime.DatetimeNoLeap(2077, 7, 2, 12, 0, 0, 0, has_year_zero=True),\n",
       "       cftime.DatetimeNoLeap(2078, 7, 2, 12, 0, 0, 0, has_year_zero=True),\n",
       "       cftime.DatetimeNoLeap(2079, 7, 2, 12, 0, 0, 0, has_year_zero=True),\n",
       "       cftime.DatetimeNoLeap(2080, 7, 2, 0, 0, 0, 0, has_year_zero=True),\n",
       "       cftime.DatetimeNoLeap(2081, 7, 2, 12, 0, 0, 0, has_year_zero=True),\n",
       "       cftime.DatetimeNoLeap(2082, 7, 2, 12, 0, 0, 0, has_year_zero=True),\n",
       "       cftime.DatetimeNoLeap(2083, 7, 2, 12, 0, 0, 0, has_year_zero=True),\n",
       "       cftime.DatetimeNoLeap(2084, 7, 2, 0, 0, 0, 0, has_year_zero=True),\n",
       "       cftime.DatetimeNoLeap(2085, 7, 2, 12, 0, 0, 0, has_year_zero=True),\n",
       "       cftime.DatetimeNoLeap(2086, 7, 2, 12, 0, 0, 0, has_year_zero=True),\n",
       "       cftime.DatetimeNoLeap(2087, 7, 2, 12, 0, 0, 0, has_year_zero=True),\n",
       "       cftime.DatetimeNoLeap(2088, 7, 2, 0, 0, 0, 0, has_year_zero=True),\n",
       "       cftime.DatetimeNoLeap(2089, 7, 2, 12, 0, 0, 0, has_year_zero=True),\n",
       "       cftime.DatetimeNoLeap(2090, 7, 2, 12, 0, 0, 0, has_year_zero=True),\n",
       "       cftime.DatetimeNoLeap(2091, 7, 2, 12, 0, 0, 0, has_year_zero=True),\n",
       "       cftime.DatetimeNoLeap(2092, 7, 2, 0, 0, 0, 0, has_year_zero=True),\n",
       "       cftime.DatetimeNoLeap(2093, 7, 2, 12, 0, 0, 0, has_year_zero=True),\n",
       "       cftime.DatetimeNoLeap(2094, 7, 2, 12, 0, 0, 0, has_year_zero=True),\n",
       "       cftime.DatetimeNoLeap(2095, 7, 2, 12, 0, 0, 0, has_year_zero=True),\n",
       "       cftime.DatetimeNoLeap(2096, 7, 2, 0, 0, 0, 0, has_year_zero=True),\n",
       "       cftime.DatetimeNoLeap(2097, 7, 2, 12, 0, 0, 0, has_year_zero=True),\n",
       "       cftime.DatetimeNoLeap(2098, 7, 2, 12, 0, 0, 0, has_year_zero=True),\n",
       "       cftime.DatetimeNoLeap(2099, 7, 2, 12, 0, 0, 0, has_year_zero=True),\n",
       "       cftime.DatetimeNoLeap(2100, 7, 2, 12, 0, 0, 0, has_year_zero=True)],\n",
       "      dtype=object)</pre></div></li><li class='xr-var-item'><div class='xr-var-name'><span>time_bnds</span></div><div class='xr-var-dims'>(time, nv)</div><div class='xr-var-dtype'>object</div><div class='xr-var-preview xr-preview'>2007-01-01 00:00:00 ... 2101-01-...</div><input id='attrs-611ff843-f469-49fa-b6e7-f544a0d43289' class='xr-var-attrs-in' type='checkbox' disabled><label for='attrs-611ff843-f469-49fa-b6e7-f544a0d43289' title='Show/Hide attributes'><svg class='icon xr-icon-file-text2'><use xlink:href='#icon-file-text2'></use></svg></label><input id='data-4aa1f624-7dcb-4f12-a47c-92f57952803d' class='xr-var-data-in' type='checkbox'><label for='data-4aa1f624-7dcb-4f12-a47c-92f57952803d' title='Show/Hide data repr'><svg class='icon xr-icon-database'><use xlink:href='#icon-database'></use></svg></label><div class='xr-var-attrs'><dl class='xr-attrs'></dl></div><div class='xr-var-data'><pre>array([[cftime.DatetimeNoLeap(2007, 1, 1, 0, 0, 0, 0, has_year_zero=True),\n",
       "        cftime.DatetimeNoLeap(2008, 1, 1, 0, 0, 0, 0, has_year_zero=True)],\n",
       "       [cftime.DatetimeNoLeap(2008, 1, 1, 0, 0, 0, 0, has_year_zero=True),\n",
       "        cftime.DatetimeNoLeap(2009, 1, 1, 0, 0, 0, 0, has_year_zero=True)],\n",
       "       [cftime.DatetimeNoLeap(2009, 1, 1, 0, 0, 0, 0, has_year_zero=True),\n",
       "        cftime.DatetimeNoLeap(2010, 1, 1, 0, 0, 0, 0, has_year_zero=True)],\n",
       "       [cftime.DatetimeNoLeap(2010, 1, 1, 0, 0, 0, 0, has_year_zero=True),\n",
       "        cftime.DatetimeNoLeap(2011, 1, 1, 0, 0, 0, 0, has_year_zero=True)],\n",
       "       [cftime.DatetimeNoLeap(2011, 1, 1, 0, 0, 0, 0, has_year_zero=True),\n",
       "        cftime.DatetimeNoLeap(2012, 1, 1, 0, 0, 0, 0, has_year_zero=True)],\n",
       "       [cftime.DatetimeNoLeap(2012, 1, 1, 0, 0, 0, 0, has_year_zero=True),\n",
       "        cftime.DatetimeNoLeap(2013, 1, 1, 0, 0, 0, 0, has_year_zero=True)],\n",
       "       [cftime.DatetimeNoLeap(2013, 1, 1, 0, 0, 0, 0, has_year_zero=True),\n",
       "        cftime.DatetimeNoLeap(2014, 1, 1, 0, 0, 0, 0, has_year_zero=True)],\n",
       "       [cftime.DatetimeNoLeap(2014, 1, 1, 0, 0, 0, 0, has_year_zero=True),\n",
       "        cftime.DatetimeNoLeap(2015, 1, 1, 0, 0, 0, 0, has_year_zero=True)],\n",
       "       [cftime.DatetimeNoLeap(2015, 1, 1, 0, 0, 0, 0, has_year_zero=True),\n",
       "        cftime.DatetimeNoLeap(2016, 1, 1, 0, 0, 0, 0, has_year_zero=True)],\n",
       "       [cftime.DatetimeNoLeap(2016, 1, 1, 0, 0, 0, 0, has_year_zero=True),\n",
       "        cftime.DatetimeNoLeap(2017, 1, 1, 0, 0, 0, 0, has_year_zero=True)],\n",
       "...\n",
       "        cftime.DatetimeNoLeap(2092, 1, 1, 0, 0, 0, 0, has_year_zero=True)],\n",
       "       [cftime.DatetimeNoLeap(2092, 1, 1, 0, 0, 0, 0, has_year_zero=True),\n",
       "        cftime.DatetimeNoLeap(2093, 1, 1, 0, 0, 0, 0, has_year_zero=True)],\n",
       "       [cftime.DatetimeNoLeap(2093, 1, 1, 0, 0, 0, 0, has_year_zero=True),\n",
       "        cftime.DatetimeNoLeap(2094, 1, 1, 0, 0, 0, 0, has_year_zero=True)],\n",
       "       [cftime.DatetimeNoLeap(2094, 1, 1, 0, 0, 0, 0, has_year_zero=True),\n",
       "        cftime.DatetimeNoLeap(2095, 1, 1, 0, 0, 0, 0, has_year_zero=True)],\n",
       "       [cftime.DatetimeNoLeap(2095, 1, 1, 0, 0, 0, 0, has_year_zero=True),\n",
       "        cftime.DatetimeNoLeap(2096, 1, 1, 0, 0, 0, 0, has_year_zero=True)],\n",
       "       [cftime.DatetimeNoLeap(2096, 1, 1, 0, 0, 0, 0, has_year_zero=True),\n",
       "        cftime.DatetimeNoLeap(2097, 1, 1, 0, 0, 0, 0, has_year_zero=True)],\n",
       "       [cftime.DatetimeNoLeap(2097, 1, 1, 0, 0, 0, 0, has_year_zero=True),\n",
       "        cftime.DatetimeNoLeap(2098, 1, 1, 0, 0, 0, 0, has_year_zero=True)],\n",
       "       [cftime.DatetimeNoLeap(2098, 1, 1, 0, 0, 0, 0, has_year_zero=True),\n",
       "        cftime.DatetimeNoLeap(2099, 1, 1, 0, 0, 0, 0, has_year_zero=True)],\n",
       "       [cftime.DatetimeNoLeap(2099, 1, 1, 0, 0, 0, 0, has_year_zero=True),\n",
       "        cftime.DatetimeNoLeap(2100, 1, 1, 0, 0, 0, 0, has_year_zero=True)],\n",
       "       [cftime.DatetimeNoLeap(2100, 1, 1, 0, 0, 0, 0, has_year_zero=True),\n",
       "        cftime.DatetimeNoLeap(2101, 1, 1, 0, 0, 0, 0, has_year_zero=True)]],\n",
       "      dtype=object)</pre></div></li><li class='xr-var-item'><div class='xr-var-name'><span class='xr-has-index'>lat</span></div><div class='xr-var-dims'>(lat)</div><div class='xr-var-dtype'>float64</div><div class='xr-var-preview xr-preview'>-89.5 -88.5 -87.5 ... 88.5 89.5</div><input id='attrs-c5fd9c4f-3731-4f86-b8f1-ebddb8600df8' class='xr-var-attrs-in' type='checkbox' ><label for='attrs-c5fd9c4f-3731-4f86-b8f1-ebddb8600df8' title='Show/Hide attributes'><svg class='icon xr-icon-file-text2'><use xlink:href='#icon-file-text2'></use></svg></label><input id='data-882879e0-f113-491e-b404-f5fb454519fb' class='xr-var-data-in' type='checkbox'><label for='data-882879e0-f113-491e-b404-f5fb454519fb' title='Show/Hide data repr'><svg class='icon xr-icon-database'><use xlink:href='#icon-database'></use></svg></label><div class='xr-var-attrs'><dl class='xr-attrs'><dt><span>standard_name :</span></dt><dd>latitude</dd><dt><span>long_name :</span></dt><dd>latitude coordinate</dd><dt><span>units :</span></dt><dd>degrees_north</dd><dt><span>axis :</span></dt><dd>Y</dd></dl></div><div class='xr-var-data'><pre>array([-89.5, -88.5, -87.5, -86.5, -85.5, -84.5, -83.5, -82.5, -81.5, -80.5,\n",
       "       -79.5, -78.5, -77.5, -76.5, -75.5, -74.5, -73.5, -72.5, -71.5, -70.5,\n",
       "       -69.5, -68.5, -67.5, -66.5, -65.5, -64.5, -63.5, -62.5, -61.5, -60.5,\n",
       "       -59.5, -58.5, -57.5, -56.5, -55.5, -54.5, -53.5, -52.5, -51.5, -50.5,\n",
       "       -49.5, -48.5, -47.5, -46.5, -45.5, -44.5, -43.5, -42.5, -41.5, -40.5,\n",
       "       -39.5, -38.5, -37.5, -36.5, -35.5, -34.5, -33.5, -32.5, -31.5, -30.5,\n",
       "       -29.5, -28.5, -27.5, -26.5, -25.5, -24.5, -23.5, -22.5, -21.5, -20.5,\n",
       "       -19.5, -18.5, -17.5, -16.5, -15.5, -14.5, -13.5, -12.5, -11.5, -10.5,\n",
       "        -9.5,  -8.5,  -7.5,  -6.5,  -5.5,  -4.5,  -3.5,  -2.5,  -1.5,  -0.5,\n",
       "         0.5,   1.5,   2.5,   3.5,   4.5,   5.5,   6.5,   7.5,   8.5,   9.5,\n",
       "        10.5,  11.5,  12.5,  13.5,  14.5,  15.5,  16.5,  17.5,  18.5,  19.5,\n",
       "        20.5,  21.5,  22.5,  23.5,  24.5,  25.5,  26.5,  27.5,  28.5,  29.5,\n",
       "        30.5,  31.5,  32.5,  33.5,  34.5,  35.5,  36.5,  37.5,  38.5,  39.5,\n",
       "        40.5,  41.5,  42.5,  43.5,  44.5,  45.5,  46.5,  47.5,  48.5,  49.5,\n",
       "        50.5,  51.5,  52.5,  53.5,  54.5,  55.5,  56.5,  57.5,  58.5,  59.5,\n",
       "        60.5,  61.5,  62.5,  63.5,  64.5,  65.5,  66.5,  67.5,  68.5,  69.5,\n",
       "        70.5,  71.5,  72.5,  73.5,  74.5,  75.5,  76.5,  77.5,  78.5,  79.5,\n",
       "        80.5,  81.5,  82.5,  83.5,  84.5,  85.5,  86.5,  87.5,  88.5,  89.5])</pre></div></li><li class='xr-var-item'><div class='xr-var-name'><span class='xr-has-index'>lon</span></div><div class='xr-var-dims'>(lon)</div><div class='xr-var-dtype'>float64</div><div class='xr-var-preview xr-preview'>0.5 1.5 2.5 ... 357.5 358.5 359.5</div><input id='attrs-5de5835a-ca62-444c-a95f-ed2c9d5059fc' class='xr-var-attrs-in' type='checkbox' ><label for='attrs-5de5835a-ca62-444c-a95f-ed2c9d5059fc' title='Show/Hide attributes'><svg class='icon xr-icon-file-text2'><use xlink:href='#icon-file-text2'></use></svg></label><input id='data-bbdec12e-3b2a-40ea-8397-0c7716b9aad1' class='xr-var-data-in' type='checkbox'><label for='data-bbdec12e-3b2a-40ea-8397-0c7716b9aad1' title='Show/Hide data repr'><svg class='icon xr-icon-database'><use xlink:href='#icon-database'></use></svg></label><div class='xr-var-attrs'><dl class='xr-attrs'><dt><span>standard_name :</span></dt><dd>longitude</dd><dt><span>long_name :</span></dt><dd>longitude coordinate</dd><dt><span>units :</span></dt><dd>degrees_east</dd><dt><span>axis :</span></dt><dd>X</dd></dl></div><div class='xr-var-data'><pre>array([  0.5,   1.5,   2.5, ..., 357.5, 358.5, 359.5])</pre></div></li><li class='xr-var-item'><div class='xr-var-name'><span>ensemble</span></div><div class='xr-var-dims'>(nensemble)</div><div class='xr-var-dtype'>|S14</div><div class='xr-var-preview xr-preview'>b&#x27;GISS-E2-R&#x27; ... b&#x27;BCC-CSM1-1&#x27;</div><input id='attrs-b9a18fcc-63aa-4791-a5cd-4d0bfb165d85' class='xr-var-attrs-in' type='checkbox' ><label for='attrs-b9a18fcc-63aa-4791-a5cd-4d0bfb165d85' title='Show/Hide attributes'><svg class='icon xr-icon-file-text2'><use xlink:href='#icon-file-text2'></use></svg></label><input id='data-3b720e8d-0d50-46a9-aeb2-eabcaba119c1' class='xr-var-data-in' type='checkbox'><label for='data-3b720e8d-0d50-46a9-aeb2-eabcaba119c1' title='Show/Hide data repr'><svg class='icon xr-icon-database'><use xlink:href='#icon-database'></use></svg></label><div class='xr-var-attrs'><dl class='xr-attrs'><dt><span>long_name :</span></dt><dd>Model names in the same order as in totslr_ens var</dd></dl></div><div class='xr-var-data'><pre>array([b&#x27;GISS-E2-R&#x27;, b&#x27;NorESM1-M&#x27;, b&#x27;MPI-ESM-LR&#x27;, b&#x27;GFDL-ESM2M&#x27;,\n",
       "       b&#x27;MIROC-ESM&#x27;, b&#x27;HadGEM2-ES&#x27;, b&#x27;NorESM1-ME&#x27;, b&#x27;IPSL-CM5A-LR&#x27;,\n",
       "       b&#x27;CSIRO-Mk3-6-0&#x27;, b&#x27;MIROC-ESM-CHEM&#x27;, b&#x27;GFDL-ESM2G&#x27;, b&#x27;MPI-ESM-MR&#x27;,\n",
       "       b&#x27;IPSL-CM5A-MR&#x27;, b&#x27;MRI-CGCM3&#x27;, b&#x27;MIROC5&#x27;, b&#x27;BCC-CSM1-1&#x27;],\n",
       "      dtype=&#x27;|S14&#x27;)</pre></div></li><li class='xr-var-item'><div class='xr-var-name'><span>scenarios</span></div><div class='xr-var-dims'>(nscenarios)</div><div class='xr-var-dtype'>|S5</div><div class='xr-var-preview xr-preview'>b&#x27;RCP26&#x27; b&#x27;RCP45&#x27; b&#x27;RCP85&#x27;</div><input id='attrs-aa330829-f4ac-4298-b0e4-c0ae4383f231' class='xr-var-attrs-in' type='checkbox' ><label for='attrs-aa330829-f4ac-4298-b0e4-c0ae4383f231' title='Show/Hide attributes'><svg class='icon xr-icon-file-text2'><use xlink:href='#icon-file-text2'></use></svg></label><input id='data-2bdd60bc-9861-4c71-b48c-4254a2227fbf' class='xr-var-data-in' type='checkbox'><label for='data-2bdd60bc-9861-4c71-b48c-4254a2227fbf' title='Show/Hide data repr'><svg class='icon xr-icon-database'><use xlink:href='#icon-database'></use></svg></label><div class='xr-var-attrs'><dl class='xr-attrs'><dt><span>long_name :</span></dt><dd>climate scenarios</dd></dl></div><div class='xr-var-data'><pre>array([b&#x27;RCP26&#x27;, b&#x27;RCP45&#x27;, b&#x27;RCP85&#x27;], dtype=&#x27;|S5&#x27;)</pre></div></li></ul></div></li><li class='xr-section-item'><input id='section-3673a252-fede-4dc3-899d-176f83f8d781' class='xr-section-summary-in' type='checkbox'  checked><label for='section-3673a252-fede-4dc3-899d-176f83f8d781' class='xr-section-summary' >Data variables: <span>(4)</span></label><div class='xr-section-inline-details'></div><div class='xr-section-details'><ul class='xr-var-list'><li class='xr-var-item'><div class='xr-var-name'><span>totslr_ens</span></div><div class='xr-var-dims'>(nscenarios, time, lat, lon, nensemble)</div><div class='xr-var-dtype'>float32</div><div class='xr-var-preview xr-preview'>nan nan nan nan ... nan nan nan nan</div><input id='attrs-c1665637-796f-4d7b-82f3-751ecad51878' class='xr-var-attrs-in' type='checkbox' ><label for='attrs-c1665637-796f-4d7b-82f3-751ecad51878' title='Show/Hide attributes'><svg class='icon xr-icon-file-text2'><use xlink:href='#icon-file-text2'></use></svg></label><input id='data-4a943168-d58e-474c-a685-764aa2de05ac' class='xr-var-data-in' type='checkbox'><label for='data-4a943168-d58e-474c-a685-764aa2de05ac' title='Show/Hide data repr'><svg class='icon xr-icon-database'><use xlink:href='#icon-database'></use></svg></label><div class='xr-var-attrs'><dl class='xr-attrs'><dt><span>long_name :</span></dt><dd>RCP2.6 ensemble ssh ts</dd><dt><span>units :</span></dt><dd>m</dd><dt><span>comment :</span></dt><dd>orig. global mean removed; zossga, historical added back in; ocean-only data + jmg ice and groundwater</dd></dl></div><div class='xr-var-data'><pre>array([[[[[            nan,             nan,             nan, ...,\n",
       "                       nan,             nan,             nan],\n",
       "          [            nan,             nan,             nan, ...,\n",
       "                       nan,             nan,             nan],\n",
       "          [            nan,             nan,             nan, ...,\n",
       "                       nan,             nan,             nan],\n",
       "          ...,\n",
       "          [            nan,             nan,             nan, ...,\n",
       "                       nan,             nan,             nan],\n",
       "          [            nan,             nan,             nan, ...,\n",
       "                       nan,             nan,             nan],\n",
       "          [            nan,             nan,             nan, ...,\n",
       "                       nan,             nan,             nan]],\n",
       "\n",
       "         [[            nan,             nan,             nan, ...,\n",
       "                       nan,             nan,             nan],\n",
       "          [            nan,             nan,             nan, ...,\n",
       "                       nan,             nan,             nan],\n",
       "          [            nan,             nan,             nan, ...,\n",
       "                       nan,             nan,             nan],\n",
       "...\n",
       "            3.49677593e-01,  3.26468885e-01,  4.29675698e-01],\n",
       "          [ 3.17555219e-01,  4.48137134e-01,  5.69718957e-01, ...,\n",
       "            3.50716114e-01,  3.27854037e-01,  4.30383533e-01],\n",
       "          [ 3.19531828e-01,  4.49600488e-01,  5.72545350e-01, ...,\n",
       "            3.52161288e-01,  3.29641581e-01,  4.31451857e-01]],\n",
       "\n",
       "         [[            nan,             nan,             nan, ...,\n",
       "                       nan,             nan,             nan],\n",
       "          [            nan,             nan,             nan, ...,\n",
       "                       nan,             nan,             nan],\n",
       "          [            nan,             nan,             nan, ...,\n",
       "                       nan,             nan,             nan],\n",
       "          ...,\n",
       "          [            nan,             nan,             nan, ...,\n",
       "                       nan,             nan,             nan],\n",
       "          [            nan,             nan,             nan, ...,\n",
       "                       nan,             nan,             nan],\n",
       "          [            nan,             nan,             nan, ...,\n",
       "                       nan,             nan,             nan]]]]],\n",
       "      dtype=float32)</pre></div></li><li class='xr-var-item'><div class='xr-var-name'><span>totslr</span></div><div class='xr-var-dims'>(nscenarios, time, lat, lon)</div><div class='xr-var-dtype'>float32</div><div class='xr-var-preview xr-preview'>nan nan nan nan ... nan nan nan nan</div><input id='attrs-2e219f09-3c5a-4568-81ed-89e404560a72' class='xr-var-attrs-in' type='checkbox' ><label for='attrs-2e219f09-3c5a-4568-81ed-89e404560a72' title='Show/Hide attributes'><svg class='icon xr-icon-file-text2'><use xlink:href='#icon-file-text2'></use></svg></label><input id='data-f4ace4e1-c954-4c25-b217-dcae616aa5a6' class='xr-var-data-in' type='checkbox'><label for='data-f4ace4e1-c954-4c25-b217-dcae616aa5a6' title='Show/Hide data repr'><svg class='icon xr-icon-database'><use xlink:href='#icon-database'></use></svg></label><div class='xr-var-attrs'><dl class='xr-attrs'><dt><span>long_name :</span></dt><dd>total RCP2.6 ensemble mean ssh ts</dd><dt><span>units :</span></dt><dd>m</dd><dt><span>comment :</span></dt><dd>orig. global mean removed; zossga, historical added back in; ocean-only data + jmg ice and groundwater</dd></dl></div><div class='xr-var-data'><pre>array([[[[       nan,        nan,        nan, ...,        nan,\n",
       "                 nan,        nan],\n",
       "         [       nan,        nan,        nan, ...,        nan,\n",
       "                 nan,        nan],\n",
       "         [       nan,        nan,        nan, ...,        nan,\n",
       "                 nan,        nan],\n",
       "         ...,\n",
       "         [0.0455741 , 0.04561494, 0.04557919, ..., 0.04549273,\n",
       "          0.04558763, 0.04566004],\n",
       "         [0.04155973, 0.04145543, 0.04129333, ..., 0.04188512,\n",
       "          0.04189255, 0.04188345],\n",
       "         [       nan,        nan,        nan, ...,        nan,\n",
       "                 nan,        nan]],\n",
       "\n",
       "        [[       nan,        nan,        nan, ...,        nan,\n",
       "                 nan,        nan],\n",
       "         [       nan,        nan,        nan, ...,        nan,\n",
       "                 nan,        nan],\n",
       "         [       nan,        nan,        nan, ...,        nan,\n",
       "                 nan,        nan],\n",
       "...\n",
       "         [0.437698  , 0.43822518, 0.4391967 , ..., 0.43433833,\n",
       "          0.43529534, 0.43739384],\n",
       "         [0.46138722, 0.46094495, 0.4598778 , ..., 0.45952588,\n",
       "          0.46010062, 0.46137086],\n",
       "         [       nan,        nan,        nan, ...,        nan,\n",
       "                 nan,        nan]],\n",
       "\n",
       "        [[       nan,        nan,        nan, ...,        nan,\n",
       "                 nan,        nan],\n",
       "         [       nan,        nan,        nan, ...,        nan,\n",
       "                 nan,        nan],\n",
       "         [       nan,        nan,        nan, ...,        nan,\n",
       "                 nan,        nan],\n",
       "         ...,\n",
       "         [0.44341448, 0.44424272, 0.44541386, ..., 0.4389884 ,\n",
       "          0.4407277 , 0.44346845],\n",
       "         [0.4657502 , 0.4656641 , 0.4641501 , ..., 0.46423078,\n",
       "          0.46502608, 0.46626613],\n",
       "         [       nan,        nan,        nan, ...,        nan,\n",
       "                 nan,        nan]]]], dtype=float32)</pre></div></li><li class='xr-var-item'><div class='xr-var-name'><span>loerr</span></div><div class='xr-var-dims'>(nscenarios, time, lat, lon)</div><div class='xr-var-dtype'>float32</div><div class='xr-var-preview xr-preview'>nan nan nan nan ... nan nan nan nan</div><input id='attrs-ced783cc-ae3c-4c04-8c28-f48e9a61fd94' class='xr-var-attrs-in' type='checkbox' ><label for='attrs-ced783cc-ae3c-4c04-8c28-f48e9a61fd94' title='Show/Hide attributes'><svg class='icon xr-icon-file-text2'><use xlink:href='#icon-file-text2'></use></svg></label><input id='data-e2772b64-0824-4232-9865-92c593825cb2' class='xr-var-data-in' type='checkbox'><label for='data-e2772b64-0824-4232-9865-92c593825cb2' title='Show/Hide data repr'><svg class='icon xr-icon-database'><use xlink:href='#icon-database'></use></svg></label><div class='xr-var-attrs'><dl class='xr-attrs'><dt><span>long_name :</span></dt><dd>RCP2.6 5% uncertainty ssh ts</dd><dt><span>units :</span></dt><dd>m</dd><dt><span>comment :</span></dt><dd>orig. global mean removed; zossga, historical added back in; ocean-only data + jmg ice and groundwater</dd></dl></div><div class='xr-var-data'><pre>array([[[[        nan,         nan,         nan, ...,         nan,\n",
       "                  nan,         nan],\n",
       "         [        nan,         nan,         nan, ...,         nan,\n",
       "                  nan,         nan],\n",
       "         [        nan,         nan,         nan, ...,         nan,\n",
       "                  nan,         nan],\n",
       "         ...,\n",
       "         [-0.02127824, -0.0213043 , -0.0215933 , ..., -0.0204746 ,\n",
       "          -0.02056034, -0.02054567],\n",
       "         [-0.01991306, -0.01986303, -0.01999669, ..., -0.01964312,\n",
       "          -0.01956466, -0.01954124],\n",
       "         [        nan,         nan,         nan, ...,         nan,\n",
       "                  nan,         nan]],\n",
       "\n",
       "        [[        nan,         nan,         nan, ...,         nan,\n",
       "                  nan,         nan],\n",
       "         [        nan,         nan,         nan, ...,         nan,\n",
       "                  nan,         nan],\n",
       "         [        nan,         nan,         nan, ...,         nan,\n",
       "                  nan,         nan],\n",
       "...\n",
       "         [-0.16672309, -0.16522394, -0.16431972, ..., -0.16992873,\n",
       "          -0.1684951 , -0.16589403],\n",
       "         [-0.15230508, -0.15196171, -0.15268528, ..., -0.15407372,\n",
       "          -0.15314344, -0.15175788],\n",
       "         [        nan,         nan,         nan, ...,         nan,\n",
       "                  nan,         nan]],\n",
       "\n",
       "        [[        nan,         nan,         nan, ...,         nan,\n",
       "                  nan,         nan],\n",
       "         [        nan,         nan,         nan, ...,         nan,\n",
       "                  nan,         nan],\n",
       "         [        nan,         nan,         nan, ...,         nan,\n",
       "                  nan,         nan],\n",
       "         ...,\n",
       "         [-0.19636966, -0.1953231 , -0.19421747, ..., -0.20074144,\n",
       "          -0.19888225, -0.19568194],\n",
       "         [-0.17892346, -0.1786893 , -0.1801046 , ..., -0.18064229,\n",
       "          -0.17976928, -0.17844707],\n",
       "         [        nan,         nan,         nan, ...,         nan,\n",
       "                  nan,         nan]]]], dtype=float32)</pre></div></li><li class='xr-var-item'><div class='xr-var-name'><span>hierr</span></div><div class='xr-var-dims'>(nscenarios, time, lat, lon)</div><div class='xr-var-dtype'>float32</div><div class='xr-var-preview xr-preview'>nan nan nan nan ... nan nan nan nan</div><input id='attrs-b443991b-adf8-4bee-a301-36a543ab2cdc' class='xr-var-attrs-in' type='checkbox' ><label for='attrs-b443991b-adf8-4bee-a301-36a543ab2cdc' title='Show/Hide attributes'><svg class='icon xr-icon-file-text2'><use xlink:href='#icon-file-text2'></use></svg></label><input id='data-e1dbc2a0-87bb-4f79-93e3-64e8dc5336cf' class='xr-var-data-in' type='checkbox'><label for='data-e1dbc2a0-87bb-4f79-93e3-64e8dc5336cf' title='Show/Hide data repr'><svg class='icon xr-icon-database'><use xlink:href='#icon-database'></use></svg></label><div class='xr-var-attrs'><dl class='xr-attrs'><dt><span>long_name :</span></dt><dd>RCP2.6 95% uncertainty ssh ts</dd><dt><span>units :</span></dt><dd>m</dd><dt><span>comment :</span></dt><dd>orig. global mean removed; zossga, historical added back in; ocean-only data + jmg ice and groundwater</dd></dl></div><div class='xr-var-data'><pre>array([[[[       nan,        nan,        nan, ...,        nan,\n",
       "                 nan,        nan],\n",
       "         [       nan,        nan,        nan, ...,        nan,\n",
       "                 nan,        nan],\n",
       "         [       nan,        nan,        nan, ...,        nan,\n",
       "                 nan,        nan],\n",
       "         ...,\n",
       "         [0.11252499, 0.11263151, 0.11284778, ..., 0.11156213,\n",
       "          0.11183652, 0.1119655 ],\n",
       "         [0.10311058, 0.10285143, 0.10266031, ..., 0.10349306,\n",
       "          0.10342892, 0.10338674],\n",
       "         [       nan,        nan,        nan, ...,        nan,\n",
       "                 nan,        nan]],\n",
       "\n",
       "        [[       nan,        nan,        nan, ...,        nan,\n",
       "                 nan,        nan],\n",
       "         [       nan,        nan,        nan, ...,        nan,\n",
       "                 nan,        nan],\n",
       "         [       nan,        nan,        nan, ...,        nan,\n",
       "                 nan,        nan],\n",
       "...\n",
       "         [1.1418867 , 1.1405321 , 1.140659  , ..., 1.1410086 ,\n",
       "          1.1406195 , 1.1413287 ],\n",
       "         [1.1591828 , 1.157534  , 1.1556998 , ..., 1.1584815 ,\n",
       "          1.1582817 , 1.1590093 ],\n",
       "         [       nan,        nan,        nan, ...,        nan,\n",
       "                 nan,        nan]],\n",
       "\n",
       "        [[       nan,        nan,        nan, ...,        nan,\n",
       "                 nan,        nan],\n",
       "         [       nan,        nan,        nan, ...,        nan,\n",
       "                 nan,        nan],\n",
       "         [       nan,        nan,        nan, ...,        nan,\n",
       "                 nan,        nan],\n",
       "         ...,\n",
       "         [1.186549  , 1.1862228 , 1.186516  , ..., 1.1847955 ,\n",
       "          1.1855184 , 1.1868833 ],\n",
       "         [1.1975597 , 1.1967202 , 1.1946703 , ..., 1.1975368 ,\n",
       "          1.1978233 , 1.1985402 ],\n",
       "         [       nan,        nan,        nan, ...,        nan,\n",
       "                 nan,        nan]]]], dtype=float32)</pre></div></li></ul></div></li><li class='xr-section-item'><input id='section-77bd55b3-0822-48db-9123-a96e5854b281' class='xr-section-summary-in' type='checkbox'  checked><label for='section-77bd55b3-0822-48db-9123-a96e5854b281' class='xr-section-summary' >Attributes: <span>(8)</span></label><div class='xr-section-inline-details'></div><div class='xr-section-details'><dl class='xr-attrs'><dt><span>history :</span></dt><dd>version 5, 27-March-2014</dd><dt><span>contact :</span></dt><dd>mark.carson@zmaw.de</dd><dt><span>references :</span></dt><dd>Chapter 13 paper: Church, J. A., P. Clark, A. Cazenave, J. Gregory, S. Jevrejeva, A. Levermann, M. Merrifield, G. Milne, R.S.Nerem, P. Nunn, A. Payne, W. Pfeffer, D. Stammer, and A. Unnikrishnan (2013), Sea level change, in Climate Change 2013: The Physical Science Basis, edited by T. F. Stocker, D. Qin, G.-K. Plattner, M. Tignor, S. Allen, J. Boschung, A. Nauels, Y. Xia, V. Bex, and P. Midgley, Cambridge University Press, Cambridge, UK and New York, NY. USA.</dd><dt><span>Conventions :</span></dt><dd>CF-1.8</dd><dt><span>crs :</span></dt><dd>4326</dd><dt><span>title :</span></dt><dd>Sea level rise from AR5</dd><dt><span>institution :</span></dt><dd>Institute of Oceanography / CEN / University of Hamburg</dd><dt><span>comment :</span></dt><dd>Here are the files which contain the ocean and ice components, sums and uncertainties as used in preparing the IPCC AR5 report (2014), with some slight modifications.  One small choice I made here was to combine the ocean and inverse barometer effect into one field, both for the mean and the uncertainty.  I also have provided better smoothed maps for the *time series* (the 20-mean-difference maps are the same as in the report).  This actually shouldn&#x27;t be the cause for any difference in the report figures, as I didn&#x27;t use this field for anything but the coastal stations in Fig. 13.23, and they have the same interpolation scheme at the coast now, just a better interpolation scheme in the open ocean (bilinear; not shown in any figure in the report). \n",
       "One thing to note: I made a choice as to how to provide the 5% and 95% (upper and lower 90 %% confidence interval) uncertainty estimates for the various fields.  I have provided the maps of these similar to the way Jonathan Gregory provided the time series to me, as the individual component upper and lower bounds. However, to combine these errors in the same way as in the report, you will need to take the difference between the upper bound and the middle value (for combining the upper uncertainty total estimate) or the lower bound and middle value (for combining the lower uncertainty total estimate), and use the formula shown in the Supplementary Material for Chapter 13 of the AR5 (SM13) - minus the IBE which is combined with the ocean field here.</dd></dl></div></li></ul></div></div>"
      ],
      "text/plain": [
       "<xarray.Dataset>\n",
       "Dimensions:     (time: 94, nv: 2, lat: 180, lon: 360, nscenarios: 3,\n",
       "                 nensemble: 16)\n",
       "Coordinates:\n",
       "  * time        (time) object 2007-07-02 12:00:00 ... 2100-07-02 12:00:00\n",
       "    time_bnds   (time, nv) object 2007-01-01 00:00:00 ... 2101-01-01 00:00:00\n",
       "  * lat         (lat) float64 -89.5 -88.5 -87.5 -86.5 ... 86.5 87.5 88.5 89.5\n",
       "  * lon         (lon) float64 0.5 1.5 2.5 3.5 4.5 ... 356.5 357.5 358.5 359.5\n",
       "    ensemble    (nensemble) |S14 b'GISS-E2-R' b'NorESM1-M' ... b'BCC-CSM1-1'\n",
       "    scenarios   (nscenarios) |S5 b'RCP26' b'RCP45' b'RCP85'\n",
       "Dimensions without coordinates: nv, nscenarios, nensemble\n",
       "Data variables:\n",
       "    totslr_ens  (nscenarios, time, lat, lon, nensemble) float32 nan nan ... nan\n",
       "    totslr      (nscenarios, time, lat, lon) float32 nan nan nan ... nan nan nan\n",
       "    loerr       (nscenarios, time, lat, lon) float32 nan nan nan ... nan nan nan\n",
       "    hierr       (nscenarios, time, lat, lon) float32 nan nan nan ... nan nan nan\n",
       "Attributes:\n",
       "    history:      version 5, 27-March-2014\n",
       "    contact:      mark.carson@zmaw.de\n",
       "    references:   Chapter 13 paper: Church, J. A., P. Clark, A. Cazenave, J. ...\n",
       "    Conventions:  CF-1.8\n",
       "    crs:          4326\n",
       "    title:        Sea level rise from AR5\n",
       "    institution:  Institute of Oceanography / CEN / University of Hamburg\n",
       "    comment:      Here are the files which contain the ocean and ice componen..."
      ]
     },
     "execution_count": 51,
     "metadata": {},
     "output_type": "execute_result"
    },
    {
     "data": {
      "application/javascript": "\n            setTimeout(function() {\n                var nbb_cell_id = 51;\n                var nbb_unformatted_code = \"# check the xarray dataset, best practice is to have as many as possible bold dimensions (dimension == coordinate name).\\n# in this way, the Front-End can access the variable directly without having to index the variable first\\n\\ndataset\\n# dataset[\\\"nscenarios\\\"]\";\n                var nbb_formatted_code = \"# check the xarray dataset, best practice is to have as many as possible bold dimensions (dimension == coordinate name).\\n# in this way, the Front-End can access the variable directly without having to index the variable first\\n\\ndataset\\n# dataset[\\\"nscenarios\\\"]\";\n                var nbb_cells = Jupyter.notebook.get_cells();\n                for (var i = 0; i < nbb_cells.length; ++i) {\n                    if (nbb_cells[i].input_prompt_number == nbb_cell_id) {\n                        if (nbb_cells[i].get_text() == nbb_unformatted_code) {\n                             nbb_cells[i].set_text(nbb_formatted_code);\n                        }\n                        break;\n                    }\n                }\n            }, 500);\n            ",
      "text/plain": [
       "<IPython.core.display.Javascript object>"
      ]
     },
     "metadata": {},
     "output_type": "display_data"
    }
   ],
   "source": [
    "# check the xarray dataset, best practice is to have as many as possible bold dimensions (dimension == coordinate name).\n",
    "# in this way, the Front-End can access the variable directly without having to index the variable first\n",
    "\n",
    "dataset\n",
    "# dataset[\"nscenarios\"]"
   ]
  },
  {
   "cell_type": "code",
   "execution_count": 52,
   "id": "54b51c64",
   "metadata": {},
   "outputs": [
    {
     "data": {
      "application/javascript": "\n            setTimeout(function() {\n                var nbb_cell_id = 52;\n                var nbb_unformatted_code = \"# save new .nc files\\n#ds_26rcp.to_netcdf(path=str(ds_rcp26_path).replace(\\\".nc\\\", \\\"_CF.nc\\\"))\\n#ds_45rcp.to_netcdf(path=str(ds_rcp45_path).replace(\\\".nc\\\", \\\"_CF.nc\\\"))\\n#ds_85rcp.to_netcdf(path=str(ds_rcp85_path).replace(\\\".nc\\\", \\\"_CF.nc\\\"))\\ndataset.to_netcdf(path=ds_dir.joinpath(ds_out_file + \\\"_CF.nc\\\"))\";\n                var nbb_formatted_code = \"# save new .nc files\\n# ds_26rcp.to_netcdf(path=str(ds_rcp26_path).replace(\\\".nc\\\", \\\"_CF.nc\\\"))\\n# ds_45rcp.to_netcdf(path=str(ds_rcp45_path).replace(\\\".nc\\\", \\\"_CF.nc\\\"))\\n# ds_85rcp.to_netcdf(path=str(ds_rcp85_path).replace(\\\".nc\\\", \\\"_CF.nc\\\"))\\ndataset.to_netcdf(path=ds_dir.joinpath(ds_out_file + \\\"_CF.nc\\\"))\";\n                var nbb_cells = Jupyter.notebook.get_cells();\n                for (var i = 0; i < nbb_cells.length; ++i) {\n                    if (nbb_cells[i].input_prompt_number == nbb_cell_id) {\n                        if (nbb_cells[i].get_text() == nbb_unformatted_code) {\n                             nbb_cells[i].set_text(nbb_formatted_code);\n                        }\n                        break;\n                    }\n                }\n            }, 500);\n            ",
      "text/plain": [
       "<IPython.core.display.Javascript object>"
      ]
     },
     "metadata": {},
     "output_type": "display_data"
    }
   ],
   "source": [
    "# save new .nc files\n",
    "# ds_26rcp.to_netcdf(path=str(ds_rcp26_path).replace(\".nc\", \"_CF.nc\"))\n",
    "# ds_45rcp.to_netcdf(path=str(ds_rcp45_path).replace(\".nc\", \"_CF.nc\"))\n",
    "# ds_85rcp.to_netcdf(path=str(ds_rcp85_path).replace(\".nc\", \"_CF.nc\"))\n",
    "dataset.to_netcdf(path=ds_dir.joinpath(ds_out_file + \"_CF.nc\"))"
   ]
  },
  {
   "cell_type": "markdown",
   "id": "f4db3707",
   "metadata": {},
   "source": [
    "### Check CF compliancy altered NetCDF files"
   ]
  },
  {
   "cell_type": "code",
   "execution_count": 53,
   "id": "088dca7e",
   "metadata": {},
   "outputs": [
    {
     "data": {
      "application/javascript": "\n            setTimeout(function() {\n                var nbb_cell_id = 53;\n                var nbb_unformatted_code = \"%%capture cap --no-stderr\\n# check altered CF compliancy\\n\\ncheck_compliancy(testfile=str(ds_rcp26_path).replace(\\\".nc\\\", \\\"_CF.nc\\\"), working_dir=CF_dir)\";\n                var nbb_formatted_code = \"%%capture cap --no-stderr\\n# check altered CF compliancy\\n\\ncheck_compliancy(testfile=str(ds_rcp26_path).replace(\\\".nc\\\", \\\"_CF.nc\\\"), working_dir=CF_dir)\";\n                var nbb_cells = Jupyter.notebook.get_cells();\n                for (var i = 0; i < nbb_cells.length; ++i) {\n                    if (nbb_cells[i].input_prompt_number == nbb_cell_id) {\n                        if (nbb_cells[i].get_text() == nbb_unformatted_code) {\n                             nbb_cells[i].set_text(nbb_formatted_code);\n                        }\n                        break;\n                    }\n                }\n            }, 500);\n            ",
      "text/plain": [
       "<IPython.core.display.Javascript object>"
      ]
     },
     "metadata": {},
     "output_type": "display_data"
    }
   ],
   "source": [
    "%%capture cap --no-stderr\n",
    "# check altered CF compliancy\n",
    "\n",
    "check_compliancy(testfile=str(ds_rcp26_path).replace(\".nc\", \"_CF.nc\"), working_dir=CF_dir)"
   ]
  },
  {
   "cell_type": "code",
   "execution_count": 54,
   "id": "a9ab416b",
   "metadata": {},
   "outputs": [
    {
     "name": "stdout",
     "output_type": "stream",
     "text": [
      "{'P:\\\\11205479-coclico\\\\data\\\\18_AR5_SLP_IPCC\\\\total-ens-slr-26-5_CF.nc': {'warnings': '0', 'errors': '0'}}\n"
     ]
    },
    {
     "data": {
      "application/javascript": "\n            setTimeout(function() {\n                var nbb_cell_id = 54;\n                var nbb_unformatted_code = \"# save altered CF compliancy\\nsave_compliancy(\\n    cap, testfile=str(ds_rcp26_path).replace(\\\".nc\\\", \\\"_CF.nc\\\"), working_dir=CF_dir,\\n)\";\n                var nbb_formatted_code = \"# save altered CF compliancy\\nsave_compliancy(\\n    cap, testfile=str(ds_rcp26_path).replace(\\\".nc\\\", \\\"_CF.nc\\\"), working_dir=CF_dir,\\n)\";\n                var nbb_cells = Jupyter.notebook.get_cells();\n                for (var i = 0; i < nbb_cells.length; ++i) {\n                    if (nbb_cells[i].input_prompt_number == nbb_cell_id) {\n                        if (nbb_cells[i].get_text() == nbb_unformatted_code) {\n                             nbb_cells[i].set_text(nbb_formatted_code);\n                        }\n                        break;\n                    }\n                }\n            }, 500);\n            ",
      "text/plain": [
       "<IPython.core.display.Javascript object>"
      ]
     },
     "metadata": {},
     "output_type": "display_data"
    }
   ],
   "source": [
    "# save altered CF compliancy\n",
    "save_compliancy(\n",
    "    cap, testfile=str(ds_rcp26_path).replace(\".nc\", \"_CF.nc\"), working_dir=CF_dir,\n",
    ")"
   ]
  },
  {
   "cell_type": "code",
   "execution_count": 55,
   "id": "e95bd5b5",
   "metadata": {},
   "outputs": [
    {
     "data": {
      "application/javascript": "\n            setTimeout(function() {\n                var nbb_cell_id = 55;\n                var nbb_unformatted_code = \"%%capture cap --no-stderr\\n# check altered CF compliancy\\n\\ncheck_compliancy(testfile=str(ds_rcp45_path).replace(\\\".nc\\\", \\\"_CF.nc\\\"), working_dir=CF_dir)\";\n                var nbb_formatted_code = \"%%capture cap --no-stderr\\n# check altered CF compliancy\\n\\ncheck_compliancy(testfile=str(ds_rcp45_path).replace(\\\".nc\\\", \\\"_CF.nc\\\"), working_dir=CF_dir)\";\n                var nbb_cells = Jupyter.notebook.get_cells();\n                for (var i = 0; i < nbb_cells.length; ++i) {\n                    if (nbb_cells[i].input_prompt_number == nbb_cell_id) {\n                        if (nbb_cells[i].get_text() == nbb_unformatted_code) {\n                             nbb_cells[i].set_text(nbb_formatted_code);\n                        }\n                        break;\n                    }\n                }\n            }, 500);\n            ",
      "text/plain": [
       "<IPython.core.display.Javascript object>"
      ]
     },
     "metadata": {},
     "output_type": "display_data"
    }
   ],
   "source": [
    "%%capture cap --no-stderr\n",
    "# check altered CF compliancy\n",
    "\n",
    "check_compliancy(testfile=str(ds_rcp45_path).replace(\".nc\", \"_CF.nc\"), working_dir=CF_dir)"
   ]
  },
  {
   "cell_type": "code",
   "execution_count": 56,
   "id": "213576cb",
   "metadata": {},
   "outputs": [
    {
     "name": "stdout",
     "output_type": "stream",
     "text": [
      "{'P:\\\\11205479-coclico\\\\data\\\\18_AR5_SLP_IPCC\\\\total-ens-slr-45-5_CF.nc': {'warnings': '0', 'errors': '0'}}\n"
     ]
    },
    {
     "data": {
      "application/javascript": "\n            setTimeout(function() {\n                var nbb_cell_id = 56;\n                var nbb_unformatted_code = \"# save altered CF compliancy\\nsave_compliancy(\\n    cap, testfile=str(ds_rcp45_path).replace(\\\".nc\\\", \\\"_CF.nc\\\"), working_dir=CF_dir,\\n)\";\n                var nbb_formatted_code = \"# save altered CF compliancy\\nsave_compliancy(\\n    cap, testfile=str(ds_rcp45_path).replace(\\\".nc\\\", \\\"_CF.nc\\\"), working_dir=CF_dir,\\n)\";\n                var nbb_cells = Jupyter.notebook.get_cells();\n                for (var i = 0; i < nbb_cells.length; ++i) {\n                    if (nbb_cells[i].input_prompt_number == nbb_cell_id) {\n                        if (nbb_cells[i].get_text() == nbb_unformatted_code) {\n                             nbb_cells[i].set_text(nbb_formatted_code);\n                        }\n                        break;\n                    }\n                }\n            }, 500);\n            ",
      "text/plain": [
       "<IPython.core.display.Javascript object>"
      ]
     },
     "metadata": {},
     "output_type": "display_data"
    }
   ],
   "source": [
    "# save altered CF compliancy\n",
    "save_compliancy(\n",
    "    cap, testfile=str(ds_rcp45_path).replace(\".nc\", \"_CF.nc\"), working_dir=CF_dir,\n",
    ")"
   ]
  },
  {
   "cell_type": "code",
   "execution_count": 57,
   "id": "55fb58d8",
   "metadata": {},
   "outputs": [
    {
     "data": {
      "application/javascript": "\n            setTimeout(function() {\n                var nbb_cell_id = 57;\n                var nbb_unformatted_code = \"%%capture cap --no-stderr\\n# check altered CF compliancy\\n\\ncheck_compliancy(testfile=str(ds_rcp85_path).replace(\\\".nc\\\", \\\"_CF.nc\\\"), working_dir=CF_dir)\";\n                var nbb_formatted_code = \"%%capture cap --no-stderr\\n# check altered CF compliancy\\n\\ncheck_compliancy(testfile=str(ds_rcp85_path).replace(\\\".nc\\\", \\\"_CF.nc\\\"), working_dir=CF_dir)\";\n                var nbb_cells = Jupyter.notebook.get_cells();\n                for (var i = 0; i < nbb_cells.length; ++i) {\n                    if (nbb_cells[i].input_prompt_number == nbb_cell_id) {\n                        if (nbb_cells[i].get_text() == nbb_unformatted_code) {\n                             nbb_cells[i].set_text(nbb_formatted_code);\n                        }\n                        break;\n                    }\n                }\n            }, 500);\n            ",
      "text/plain": [
       "<IPython.core.display.Javascript object>"
      ]
     },
     "metadata": {},
     "output_type": "display_data"
    }
   ],
   "source": [
    "%%capture cap --no-stderr\n",
    "# check altered CF compliancy\n",
    "\n",
    "check_compliancy(testfile=str(ds_rcp85_path).replace(\".nc\", \"_CF.nc\"), working_dir=CF_dir)"
   ]
  },
  {
   "cell_type": "code",
   "execution_count": 58,
   "id": "f46a214b",
   "metadata": {},
   "outputs": [
    {
     "name": "stdout",
     "output_type": "stream",
     "text": [
      "{'P:\\\\11205479-coclico\\\\data\\\\18_AR5_SLP_IPCC\\\\total-ens-slr-85-5_CF.nc': {'warnings': '0', 'errors': '0'}}\n"
     ]
    },
    {
     "data": {
      "application/javascript": "\n            setTimeout(function() {\n                var nbb_cell_id = 58;\n                var nbb_unformatted_code = \"# save altered CF compliancy\\nsave_compliancy(\\n    cap, testfile=str(ds_rcp85_path).replace(\\\".nc\\\", \\\"_CF.nc\\\"), working_dir=CF_dir,\\n)\";\n                var nbb_formatted_code = \"# save altered CF compliancy\\nsave_compliancy(\\n    cap, testfile=str(ds_rcp85_path).replace(\\\".nc\\\", \\\"_CF.nc\\\"), working_dir=CF_dir,\\n)\";\n                var nbb_cells = Jupyter.notebook.get_cells();\n                for (var i = 0; i < nbb_cells.length; ++i) {\n                    if (nbb_cells[i].input_prompt_number == nbb_cell_id) {\n                        if (nbb_cells[i].get_text() == nbb_unformatted_code) {\n                             nbb_cells[i].set_text(nbb_formatted_code);\n                        }\n                        break;\n                    }\n                }\n            }, 500);\n            ",
      "text/plain": [
       "<IPython.core.display.Javascript object>"
      ]
     },
     "metadata": {},
     "output_type": "display_data"
    }
   ],
   "source": [
    "# save altered CF compliancy\n",
    "save_compliancy(\n",
    "    cap, testfile=str(ds_rcp85_path).replace(\".nc\", \"_CF.nc\"), working_dir=CF_dir,\n",
    ")"
   ]
  },
  {
   "cell_type": "code",
   "execution_count": 59,
   "id": "93338230",
   "metadata": {},
   "outputs": [
    {
     "data": {
      "application/javascript": "\n            setTimeout(function() {\n                var nbb_cell_id = 59;\n                var nbb_unformatted_code = \"%%capture cap --no-stderr\\n# check altered CF compliancy\\n\\ncheck_compliancy(testfile=ds_dir.joinpath(ds_out_file + \\\"_CF.nc\\\"), working_dir=CF_dir)\";\n                var nbb_formatted_code = \"%%capture cap --no-stderr\\n# check altered CF compliancy\\n\\ncheck_compliancy(testfile=ds_dir.joinpath(ds_out_file + \\\"_CF.nc\\\"), working_dir=CF_dir)\";\n                var nbb_cells = Jupyter.notebook.get_cells();\n                for (var i = 0; i < nbb_cells.length; ++i) {\n                    if (nbb_cells[i].input_prompt_number == nbb_cell_id) {\n                        if (nbb_cells[i].get_text() == nbb_unformatted_code) {\n                             nbb_cells[i].set_text(nbb_formatted_code);\n                        }\n                        break;\n                    }\n                }\n            }, 500);\n            ",
      "text/plain": [
       "<IPython.core.display.Javascript object>"
      ]
     },
     "metadata": {},
     "output_type": "display_data"
    }
   ],
   "source": [
    "%%capture cap --no-stderr\n",
    "# check altered CF compliancy\n",
    "\n",
    "check_compliancy(testfile=ds_dir.joinpath(ds_out_file + \"_CF.nc\"), working_dir=CF_dir)"
   ]
  },
  {
   "cell_type": "code",
   "execution_count": 60,
   "id": "7b988887",
   "metadata": {},
   "outputs": [
    {
     "name": "stdout",
     "output_type": "stream",
     "text": [
      "{'P:\\\\11205479-coclico\\\\data\\\\18_AR5_SLP_IPCC\\\\total-ens-slr_CF.nc': {'warnings': '0', 'errors': '0'}}\n"
     ]
    },
    {
     "data": {
      "application/javascript": "\n            setTimeout(function() {\n                var nbb_cell_id = 60;\n                var nbb_unformatted_code = \"# save altered CF compliancy\\nsave_compliancy(\\n    cap, testfile=ds_dir.joinpath(ds_out_file + \\\"_CF.nc\\\"), working_dir=CF_dir,\\n)\";\n                var nbb_formatted_code = \"# save altered CF compliancy\\nsave_compliancy(\\n    cap, testfile=ds_dir.joinpath(ds_out_file + \\\"_CF.nc\\\"), working_dir=CF_dir,\\n)\";\n                var nbb_cells = Jupyter.notebook.get_cells();\n                for (var i = 0; i < nbb_cells.length; ++i) {\n                    if (nbb_cells[i].input_prompt_number == nbb_cell_id) {\n                        if (nbb_cells[i].get_text() == nbb_unformatted_code) {\n                             nbb_cells[i].set_text(nbb_formatted_code);\n                        }\n                        break;\n                    }\n                }\n            }, 500);\n            ",
      "text/plain": [
       "<IPython.core.display.Javascript object>"
      ]
     },
     "metadata": {},
     "output_type": "display_data"
    }
   ],
   "source": [
    "# save altered CF compliancy\n",
    "save_compliancy(\n",
    "    cap, testfile=ds_dir.joinpath(ds_out_file + \"_CF.nc\"), working_dir=CF_dir,\n",
    ")"
   ]
  },
  {
   "cell_type": "markdown",
   "id": "beec081e",
   "metadata": {},
   "source": [
    "### write data to Zarr files"
   ]
  },
  {
   "cell_type": "code",
   "execution_count": 61,
   "id": "6ba75d19",
   "metadata": {},
   "outputs": [
    {
     "data": {
      "text/plain": [
       "<xarray.backends.zarr.ZarrStore at 0x2670016b580>"
      ]
     },
     "execution_count": 61,
     "metadata": {},
     "output_type": "execute_result"
    },
    {
     "data": {
      "application/javascript": "\n            setTimeout(function() {\n                var nbb_cell_id = 61;\n                var nbb_unformatted_code = \"# export to zarr in write mode (to overwrite if exists)\\ndataset.to_zarr(ds_dir.joinpath(\\\"%s.zarr\\\" % ds_out_file), mode=\\\"w\\\")\";\n                var nbb_formatted_code = \"# export to zarr in write mode (to overwrite if exists)\\ndataset.to_zarr(ds_dir.joinpath(\\\"%s.zarr\\\" % ds_out_file), mode=\\\"w\\\")\";\n                var nbb_cells = Jupyter.notebook.get_cells();\n                for (var i = 0; i < nbb_cells.length; ++i) {\n                    if (nbb_cells[i].input_prompt_number == nbb_cell_id) {\n                        if (nbb_cells[i].get_text() == nbb_unformatted_code) {\n                             nbb_cells[i].set_text(nbb_formatted_code);\n                        }\n                        break;\n                    }\n                }\n            }, 500);\n            ",
      "text/plain": [
       "<IPython.core.display.Javascript object>"
      ]
     },
     "metadata": {},
     "output_type": "display_data"
    }
   ],
   "source": [
    "# export to zarr in write mode (to overwrite if exists)\n",
    "dataset.to_zarr(ds_dir.joinpath(\"%s.zarr\" % ds_out_file), mode=\"w\")"
   ]
  },
  {
   "cell_type": "code",
   "execution_count": null,
   "id": "d9ce96dd",
   "metadata": {},
   "outputs": [],
   "source": []
  }
 ],
 "metadata": {
  "kernelspec": {
   "display_name": "Python 3.10.5 ('coclico')",
   "language": "python",
   "name": "python3"
  },
  "language_info": {
   "codemirror_mode": {
    "name": "ipython",
    "version": 3
   },
   "file_extension": ".py",
   "mimetype": "text/x-python",
   "name": "python",
   "nbconvert_exporter": "python",
   "pygments_lexer": "ipython3",
   "version": "3.10.5"
  },
  "vscode": {
   "interpreter": {
    "hash": "3a2a4a94e795379f92307fb340658e0aed35f812d5e1adc14dadff462db6811d"
   }
  }
 },
 "nbformat": 4,
 "nbformat_minor": 5
}
