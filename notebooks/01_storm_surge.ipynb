{
 "cells": [
  {
   "cell_type": "markdown",
   "id": "58b6628a",
   "metadata": {},
   "source": [
    "# Storm surge level\n",
    "\n",
    "Notebook environment to migrate netcdf files to CF compliant zarr"
   ]
  },
  {
   "cell_type": "code",
   "execution_count": 1,
   "id": "d213fe1c",
   "metadata": {},
   "outputs": [
    {
     "data": {
      "application/javascript": "\n            setTimeout(function() {\n                var nbb_cell_id = 1;\n                var nbb_unformatted_code = \"# Optional; code formatter, installed as jupyter lab extension\\n#%load_ext lab_black\\n# Optional; code formatter, installed as jupyter notebook extension\\n%load_ext nb_black\";\n                var nbb_formatted_code = \"# Optional; code formatter, installed as jupyter lab extension\\n#%load_ext lab_black\\n# Optional; code formatter, installed as jupyter notebook extension\\n%load_ext nb_black\";\n                var nbb_cells = Jupyter.notebook.get_cells();\n                for (var i = 0; i < nbb_cells.length; ++i) {\n                    if (nbb_cells[i].input_prompt_number == nbb_cell_id) {\n                        if (nbb_cells[i].get_text() == nbb_unformatted_code) {\n                             nbb_cells[i].set_text(nbb_formatted_code);\n                        }\n                        break;\n                    }\n                }\n            }, 500);\n            ",
      "text/plain": [
       "<IPython.core.display.Javascript object>"
      ]
     },
     "metadata": {},
     "output_type": "display_data"
    }
   ],
   "source": [
    "# Optional; code formatter, installed as jupyter lab extension\n",
    "#%load_ext lab_black\n",
    "# Optional; code formatter, installed as jupyter notebook extension\n",
    "%load_ext nb_black"
   ]
  },
  {
   "cell_type": "markdown",
   "id": "892785ae",
   "metadata": {},
   "source": [
    "### Configure OS independent paths"
   ]
  },
  {
   "cell_type": "code",
   "execution_count": 2,
   "id": "e200dc11",
   "metadata": {},
   "outputs": [
    {
     "name": "stderr",
     "output_type": "stream",
     "text": [
      "C:\\Users\\kras\\Anaconda3\\envs\\bathymetry_env\\lib\\site-packages\\xarray\\backends\\cfgrib_.py:27: UserWarning: Failed to load cfgrib - most likely there is a problem accessing the ecCodes library. Try `import cfgrib` to get the full error message\n",
      "  warnings.warn(\n"
     ]
    },
    {
     "data": {
      "application/javascript": "\n            setTimeout(function() {\n                var nbb_cell_id = 2;\n                var nbb_unformatted_code = \"# Import standard packages\\nimport os\\nimport pathlib\\nimport sys\\nimport numpy as np\\nimport geopandas as gpd\\nimport pandas as pd\\nimport matplotlib.pyplot as plt\\nimport xarray as xr\\n\\n# Make root directories importable by appending root to path\\ncwd = pathlib.Path().resolve()\\nsys.path.append(os.path.dirname(cwd))\\n\\n# Get root paths\\nhome = pathlib.Path().home()\\nroot = home.root\\n\\n# Import custom functionality\\nfrom etl import p_drive\\nfrom etl.CF_compliancy_checker import check_compliancy, save_compliancy\\n\\n# Define (local and) remote drives\\ncoclico_data_dir = p_drive.joinpath(\\\"11205479-coclico\\\", \\\"data\\\")\\n\\n# Workaround to the Windows OS (10) udunits error after installation of cfchecker: https://github.com/SciTools/iris/issues/404\\nos.environ[\\\"UDUNITS2_XML_PATH\\\"] = str(\\n    home.joinpath(  # change to the udunits2.xml file dir in your Python installation\\n        r\\\"Anaconda3\\\\pkgs\\\\udunits2-2.2.28-h892ecd3_0\\\\Library\\\\share\\\\udunits\\\\udunits2.xml\\\"\\n    )\\n)\";\n                var nbb_formatted_code = \"# Import standard packages\\nimport os\\nimport pathlib\\nimport sys\\nimport numpy as np\\nimport geopandas as gpd\\nimport pandas as pd\\nimport matplotlib.pyplot as plt\\nimport xarray as xr\\n\\n# Make root directories importable by appending root to path\\ncwd = pathlib.Path().resolve()\\nsys.path.append(os.path.dirname(cwd))\\n\\n# Get root paths\\nhome = pathlib.Path().home()\\nroot = home.root\\n\\n# Import custom functionality\\nfrom etl import p_drive\\nfrom etl.CF_compliancy_checker import check_compliancy, save_compliancy\\n\\n# Define (local and) remote drives\\ncoclico_data_dir = p_drive.joinpath(\\\"11205479-coclico\\\", \\\"data\\\")\\n\\n# Workaround to the Windows OS (10) udunits error after installation of cfchecker: https://github.com/SciTools/iris/issues/404\\nos.environ[\\\"UDUNITS2_XML_PATH\\\"] = str(\\n    home.joinpath(  # change to the udunits2.xml file dir in your Python installation\\n        r\\\"Anaconda3\\\\pkgs\\\\udunits2-2.2.28-h892ecd3_0\\\\Library\\\\share\\\\udunits\\\\udunits2.xml\\\"\\n    )\\n)\";\n                var nbb_cells = Jupyter.notebook.get_cells();\n                for (var i = 0; i < nbb_cells.length; ++i) {\n                    if (nbb_cells[i].input_prompt_number == nbb_cell_id) {\n                        if (nbb_cells[i].get_text() == nbb_unformatted_code) {\n                             nbb_cells[i].set_text(nbb_formatted_code);\n                        }\n                        break;\n                    }\n                }\n            }, 500);\n            ",
      "text/plain": [
       "<IPython.core.display.Javascript object>"
      ]
     },
     "metadata": {},
     "output_type": "display_data"
    }
   ],
   "source": [
    "# Import standard packages\n",
    "import os\n",
    "import pathlib\n",
    "import sys\n",
    "import numpy as np\n",
    "import geopandas as gpd\n",
    "import pandas as pd\n",
    "import matplotlib.pyplot as plt\n",
    "import xarray as xr\n",
    "\n",
    "# Make root directories importable by appending root to path\n",
    "cwd = pathlib.Path().resolve()\n",
    "sys.path.append(os.path.dirname(cwd))\n",
    "\n",
    "# Get root paths\n",
    "home = pathlib.Path().home()\n",
    "root = home.root\n",
    "\n",
    "# Import custom functionality\n",
    "from etl import p_drive\n",
    "from etl.CF_compliancy_checker import check_compliancy, save_compliancy\n",
    "\n",
    "# Define (local and) remote drives\n",
    "coclico_data_dir = p_drive.joinpath(\"11205479-coclico\", \"data\")\n",
    "\n",
    "# Workaround to the Windows OS (10) udunits error after installation of cfchecker: https://github.com/SciTools/iris/issues/404\n",
    "os.environ[\"UDUNITS2_XML_PATH\"] = str(\n",
    "    home.joinpath(  # change to the udunits2.xml file dir in your Python installation\n",
    "        r\"Anaconda3\\pkgs\\udunits2-2.2.28-h892ecd3_0\\Library\\share\\udunits\\udunits2.xml\"\n",
    "    )\n",
    ")"
   ]
  },
  {
   "cell_type": "code",
   "execution_count": 3,
   "id": "96c526d7",
   "metadata": {},
   "outputs": [
    {
     "data": {
      "application/javascript": "\n            setTimeout(function() {\n                var nbb_cell_id = 3;\n                var nbb_unformatted_code = \"# Project paths & files (manual input)\\ndataset_dir = coclico_data_dir.joinpath(\\\"01_storm_surge_jrc\\\")\\ndataset_historical_path = dataset_dir.joinpath(\\\"CoastAlRisk_Europe_EESSL_Historical.nc\\\")\\ndataset_rcp45_path = dataset_dir.joinpath(\\\"CoastAlRisk_Europe_EESSL_RCP45.nc\\\")\\ndataset_rcp85_path = dataset_dir.joinpath(\\\"CoastAlRisk_Europe_EESSL_RCP85.nc\\\")\\ndataset_out_file = \\\"CoastAlRisk_Europe_EESSL\\\"\\nCF_dir = coclico_data_dir.joinpath(r\\\"CF\\\")  # directory to save output CF check files\";\n                var nbb_formatted_code = \"# Project paths & files (manual input)\\ndataset_dir = coclico_data_dir.joinpath(\\\"01_storm_surge_jrc\\\")\\ndataset_historical_path = dataset_dir.joinpath(\\\"CoastAlRisk_Europe_EESSL_Historical.nc\\\")\\ndataset_rcp45_path = dataset_dir.joinpath(\\\"CoastAlRisk_Europe_EESSL_RCP45.nc\\\")\\ndataset_rcp85_path = dataset_dir.joinpath(\\\"CoastAlRisk_Europe_EESSL_RCP85.nc\\\")\\ndataset_out_file = \\\"CoastAlRisk_Europe_EESSL\\\"\\nCF_dir = coclico_data_dir.joinpath(r\\\"CF\\\")  # directory to save output CF check files\";\n                var nbb_cells = Jupyter.notebook.get_cells();\n                for (var i = 0; i < nbb_cells.length; ++i) {\n                    if (nbb_cells[i].input_prompt_number == nbb_cell_id) {\n                        if (nbb_cells[i].get_text() == nbb_unformatted_code) {\n                             nbb_cells[i].set_text(nbb_formatted_code);\n                        }\n                        break;\n                    }\n                }\n            }, 500);\n            ",
      "text/plain": [
       "<IPython.core.display.Javascript object>"
      ]
     },
     "metadata": {},
     "output_type": "display_data"
    }
   ],
   "source": [
    "# Project paths & files (manual input)\n",
    "dataset_dir = coclico_data_dir.joinpath(\"01_storm_surge_jrc\")\n",
    "dataset_historical_path = dataset_dir.joinpath(\"CoastAlRisk_Europe_EESSL_Historical.nc\")\n",
    "dataset_rcp45_path = dataset_dir.joinpath(\"CoastAlRisk_Europe_EESSL_RCP45.nc\")\n",
    "dataset_rcp85_path = dataset_dir.joinpath(\"CoastAlRisk_Europe_EESSL_RCP85.nc\")\n",
    "dataset_out_file = \"CoastAlRisk_Europe_EESSL\"\n",
    "CF_dir = coclico_data_dir.joinpath(r\"CF\")  # directory to save output CF check files"
   ]
  },
  {
   "cell_type": "markdown",
   "id": "f8d5c913",
   "metadata": {},
   "source": [
    "### Check CF compliancy original NetCDF files"
   ]
  },
  {
   "cell_type": "code",
   "execution_count": 4,
   "id": "7d9c6980",
   "metadata": {},
   "outputs": [
    {
     "name": "stderr",
     "output_type": "stream",
     "text": [
      "C:\\Users\\kras\\Anaconda3\\envs\\bathymetry_env\\lib\\site-packages\\xarray\\backends\\plugins.py:61: RuntimeWarning: Engine 'cfgrib' loading failed:\n",
      "Cannot find the ecCodes library\n",
      "  warnings.warn(f\"Engine {name!r} loading failed:\\n{ex}\", RuntimeWarning)\n"
     ]
    },
    {
     "data": {
      "text/html": [
       "<div><svg style=\"position: absolute; width: 0; height: 0; overflow: hidden\">\n",
       "<defs>\n",
       "<symbol id=\"icon-database\" viewBox=\"0 0 32 32\">\n",
       "<path d=\"M16 0c-8.837 0-16 2.239-16 5v4c0 2.761 7.163 5 16 5s16-2.239 16-5v-4c0-2.761-7.163-5-16-5z\"></path>\n",
       "<path d=\"M16 17c-8.837 0-16-2.239-16-5v6c0 2.761 7.163 5 16 5s16-2.239 16-5v-6c0 2.761-7.163 5-16 5z\"></path>\n",
       "<path d=\"M16 26c-8.837 0-16-2.239-16-5v6c0 2.761 7.163 5 16 5s16-2.239 16-5v-6c0 2.761-7.163 5-16 5z\"></path>\n",
       "</symbol>\n",
       "<symbol id=\"icon-file-text2\" viewBox=\"0 0 32 32\">\n",
       "<path d=\"M28.681 7.159c-0.694-0.947-1.662-2.053-2.724-3.116s-2.169-2.030-3.116-2.724c-1.612-1.182-2.393-1.319-2.841-1.319h-15.5c-1.378 0-2.5 1.121-2.5 2.5v27c0 1.378 1.122 2.5 2.5 2.5h23c1.378 0 2.5-1.122 2.5-2.5v-19.5c0-0.448-0.137-1.23-1.319-2.841zM24.543 5.457c0.959 0.959 1.712 1.825 2.268 2.543h-4.811v-4.811c0.718 0.556 1.584 1.309 2.543 2.268zM28 29.5c0 0.271-0.229 0.5-0.5 0.5h-23c-0.271 0-0.5-0.229-0.5-0.5v-27c0-0.271 0.229-0.5 0.5-0.5 0 0 15.499-0 15.5 0v7c0 0.552 0.448 1 1 1h7v19.5z\"></path>\n",
       "<path d=\"M23 26h-14c-0.552 0-1-0.448-1-1s0.448-1 1-1h14c0.552 0 1 0.448 1 1s-0.448 1-1 1z\"></path>\n",
       "<path d=\"M23 22h-14c-0.552 0-1-0.448-1-1s0.448-1 1-1h14c0.552 0 1 0.448 1 1s-0.448 1-1 1z\"></path>\n",
       "<path d=\"M23 18h-14c-0.552 0-1-0.448-1-1s0.448-1 1-1h14c0.552 0 1 0.448 1 1s-0.448 1-1 1z\"></path>\n",
       "</symbol>\n",
       "</defs>\n",
       "</svg>\n",
       "<style>/* CSS stylesheet for displaying xarray objects in jupyterlab.\n",
       " *\n",
       " */\n",
       "\n",
       ":root {\n",
       "  --xr-font-color0: var(--jp-content-font-color0, rgba(0, 0, 0, 1));\n",
       "  --xr-font-color2: var(--jp-content-font-color2, rgba(0, 0, 0, 0.54));\n",
       "  --xr-font-color3: var(--jp-content-font-color3, rgba(0, 0, 0, 0.38));\n",
       "  --xr-border-color: var(--jp-border-color2, #e0e0e0);\n",
       "  --xr-disabled-color: var(--jp-layout-color3, #bdbdbd);\n",
       "  --xr-background-color: var(--jp-layout-color0, white);\n",
       "  --xr-background-color-row-even: var(--jp-layout-color1, white);\n",
       "  --xr-background-color-row-odd: var(--jp-layout-color2, #eeeeee);\n",
       "}\n",
       "\n",
       "html[theme=dark],\n",
       "body.vscode-dark {\n",
       "  --xr-font-color0: rgba(255, 255, 255, 1);\n",
       "  --xr-font-color2: rgba(255, 255, 255, 0.54);\n",
       "  --xr-font-color3: rgba(255, 255, 255, 0.38);\n",
       "  --xr-border-color: #1F1F1F;\n",
       "  --xr-disabled-color: #515151;\n",
       "  --xr-background-color: #111111;\n",
       "  --xr-background-color-row-even: #111111;\n",
       "  --xr-background-color-row-odd: #313131;\n",
       "}\n",
       "\n",
       ".xr-wrap {\n",
       "  display: block !important;\n",
       "  min-width: 300px;\n",
       "  max-width: 700px;\n",
       "}\n",
       "\n",
       ".xr-text-repr-fallback {\n",
       "  /* fallback to plain text repr when CSS is not injected (untrusted notebook) */\n",
       "  display: none;\n",
       "}\n",
       "\n",
       ".xr-header {\n",
       "  padding-top: 6px;\n",
       "  padding-bottom: 6px;\n",
       "  margin-bottom: 4px;\n",
       "  border-bottom: solid 1px var(--xr-border-color);\n",
       "}\n",
       "\n",
       ".xr-header > div,\n",
       ".xr-header > ul {\n",
       "  display: inline;\n",
       "  margin-top: 0;\n",
       "  margin-bottom: 0;\n",
       "}\n",
       "\n",
       ".xr-obj-type,\n",
       ".xr-array-name {\n",
       "  margin-left: 2px;\n",
       "  margin-right: 10px;\n",
       "}\n",
       "\n",
       ".xr-obj-type {\n",
       "  color: var(--xr-font-color2);\n",
       "}\n",
       "\n",
       ".xr-sections {\n",
       "  padding-left: 0 !important;\n",
       "  display: grid;\n",
       "  grid-template-columns: 150px auto auto 1fr 20px 20px;\n",
       "}\n",
       "\n",
       ".xr-section-item {\n",
       "  display: contents;\n",
       "}\n",
       "\n",
       ".xr-section-item input {\n",
       "  display: none;\n",
       "}\n",
       "\n",
       ".xr-section-item input + label {\n",
       "  color: var(--xr-disabled-color);\n",
       "}\n",
       "\n",
       ".xr-section-item input:enabled + label {\n",
       "  cursor: pointer;\n",
       "  color: var(--xr-font-color2);\n",
       "}\n",
       "\n",
       ".xr-section-item input:enabled + label:hover {\n",
       "  color: var(--xr-font-color0);\n",
       "}\n",
       "\n",
       ".xr-section-summary {\n",
       "  grid-column: 1;\n",
       "  color: var(--xr-font-color2);\n",
       "  font-weight: 500;\n",
       "}\n",
       "\n",
       ".xr-section-summary > span {\n",
       "  display: inline-block;\n",
       "  padding-left: 0.5em;\n",
       "}\n",
       "\n",
       ".xr-section-summary-in:disabled + label {\n",
       "  color: var(--xr-font-color2);\n",
       "}\n",
       "\n",
       ".xr-section-summary-in + label:before {\n",
       "  display: inline-block;\n",
       "  content: '►';\n",
       "  font-size: 11px;\n",
       "  width: 15px;\n",
       "  text-align: center;\n",
       "}\n",
       "\n",
       ".xr-section-summary-in:disabled + label:before {\n",
       "  color: var(--xr-disabled-color);\n",
       "}\n",
       "\n",
       ".xr-section-summary-in:checked + label:before {\n",
       "  content: '▼';\n",
       "}\n",
       "\n",
       ".xr-section-summary-in:checked + label > span {\n",
       "  display: none;\n",
       "}\n",
       "\n",
       ".xr-section-summary,\n",
       ".xr-section-inline-details {\n",
       "  padding-top: 4px;\n",
       "  padding-bottom: 4px;\n",
       "}\n",
       "\n",
       ".xr-section-inline-details {\n",
       "  grid-column: 2 / -1;\n",
       "}\n",
       "\n",
       ".xr-section-details {\n",
       "  display: none;\n",
       "  grid-column: 1 / -1;\n",
       "  margin-bottom: 5px;\n",
       "}\n",
       "\n",
       ".xr-section-summary-in:checked ~ .xr-section-details {\n",
       "  display: contents;\n",
       "}\n",
       "\n",
       ".xr-array-wrap {\n",
       "  grid-column: 1 / -1;\n",
       "  display: grid;\n",
       "  grid-template-columns: 20px auto;\n",
       "}\n",
       "\n",
       ".xr-array-wrap > label {\n",
       "  grid-column: 1;\n",
       "  vertical-align: top;\n",
       "}\n",
       "\n",
       ".xr-preview {\n",
       "  color: var(--xr-font-color3);\n",
       "}\n",
       "\n",
       ".xr-array-preview,\n",
       ".xr-array-data {\n",
       "  padding: 0 5px !important;\n",
       "  grid-column: 2;\n",
       "}\n",
       "\n",
       ".xr-array-data,\n",
       ".xr-array-in:checked ~ .xr-array-preview {\n",
       "  display: none;\n",
       "}\n",
       "\n",
       ".xr-array-in:checked ~ .xr-array-data,\n",
       ".xr-array-preview {\n",
       "  display: inline-block;\n",
       "}\n",
       "\n",
       ".xr-dim-list {\n",
       "  display: inline-block !important;\n",
       "  list-style: none;\n",
       "  padding: 0 !important;\n",
       "  margin: 0;\n",
       "}\n",
       "\n",
       ".xr-dim-list li {\n",
       "  display: inline-block;\n",
       "  padding: 0;\n",
       "  margin: 0;\n",
       "}\n",
       "\n",
       ".xr-dim-list:before {\n",
       "  content: '(';\n",
       "}\n",
       "\n",
       ".xr-dim-list:after {\n",
       "  content: ')';\n",
       "}\n",
       "\n",
       ".xr-dim-list li:not(:last-child):after {\n",
       "  content: ',';\n",
       "  padding-right: 5px;\n",
       "}\n",
       "\n",
       ".xr-has-index {\n",
       "  font-weight: bold;\n",
       "}\n",
       "\n",
       ".xr-var-list,\n",
       ".xr-var-item {\n",
       "  display: contents;\n",
       "}\n",
       "\n",
       ".xr-var-item > div,\n",
       ".xr-var-item label,\n",
       ".xr-var-item > .xr-var-name span {\n",
       "  background-color: var(--xr-background-color-row-even);\n",
       "  margin-bottom: 0;\n",
       "}\n",
       "\n",
       ".xr-var-item > .xr-var-name:hover span {\n",
       "  padding-right: 5px;\n",
       "}\n",
       "\n",
       ".xr-var-list > li:nth-child(odd) > div,\n",
       ".xr-var-list > li:nth-child(odd) > label,\n",
       ".xr-var-list > li:nth-child(odd) > .xr-var-name span {\n",
       "  background-color: var(--xr-background-color-row-odd);\n",
       "}\n",
       "\n",
       ".xr-var-name {\n",
       "  grid-column: 1;\n",
       "}\n",
       "\n",
       ".xr-var-dims {\n",
       "  grid-column: 2;\n",
       "}\n",
       "\n",
       ".xr-var-dtype {\n",
       "  grid-column: 3;\n",
       "  text-align: right;\n",
       "  color: var(--xr-font-color2);\n",
       "}\n",
       "\n",
       ".xr-var-preview {\n",
       "  grid-column: 4;\n",
       "}\n",
       "\n",
       ".xr-var-name,\n",
       ".xr-var-dims,\n",
       ".xr-var-dtype,\n",
       ".xr-preview,\n",
       ".xr-attrs dt {\n",
       "  white-space: nowrap;\n",
       "  overflow: hidden;\n",
       "  text-overflow: ellipsis;\n",
       "  padding-right: 10px;\n",
       "}\n",
       "\n",
       ".xr-var-name:hover,\n",
       ".xr-var-dims:hover,\n",
       ".xr-var-dtype:hover,\n",
       ".xr-attrs dt:hover {\n",
       "  overflow: visible;\n",
       "  width: auto;\n",
       "  z-index: 1;\n",
       "}\n",
       "\n",
       ".xr-var-attrs,\n",
       ".xr-var-data {\n",
       "  display: none;\n",
       "  background-color: var(--xr-background-color) !important;\n",
       "  padding-bottom: 5px !important;\n",
       "}\n",
       "\n",
       ".xr-var-attrs-in:checked ~ .xr-var-attrs,\n",
       ".xr-var-data-in:checked ~ .xr-var-data {\n",
       "  display: block;\n",
       "}\n",
       "\n",
       ".xr-var-data > table {\n",
       "  float: right;\n",
       "}\n",
       "\n",
       ".xr-var-name span,\n",
       ".xr-var-data,\n",
       ".xr-attrs {\n",
       "  padding-left: 25px !important;\n",
       "}\n",
       "\n",
       ".xr-attrs,\n",
       ".xr-var-attrs,\n",
       ".xr-var-data {\n",
       "  grid-column: 1 / -1;\n",
       "}\n",
       "\n",
       "dl.xr-attrs {\n",
       "  padding: 0;\n",
       "  margin: 0;\n",
       "  display: grid;\n",
       "  grid-template-columns: 125px auto;\n",
       "}\n",
       "\n",
       ".xr-attrs dt,\n",
       ".xr-attrs dd {\n",
       "  padding: 0;\n",
       "  margin: 0;\n",
       "  float: left;\n",
       "  padding-right: 10px;\n",
       "  width: auto;\n",
       "}\n",
       "\n",
       ".xr-attrs dt {\n",
       "  font-weight: normal;\n",
       "  grid-column: 1;\n",
       "}\n",
       "\n",
       ".xr-attrs dt:hover span {\n",
       "  display: inline-block;\n",
       "  background: var(--xr-background-color);\n",
       "  padding-right: 10px;\n",
       "}\n",
       "\n",
       ".xr-attrs dd {\n",
       "  grid-column: 2;\n",
       "  white-space: pre-wrap;\n",
       "  word-break: break-all;\n",
       "}\n",
       "\n",
       ".xr-icon-database,\n",
       ".xr-icon-file-text2 {\n",
       "  display: inline-block;\n",
       "  vertical-align: middle;\n",
       "  width: 1em;\n",
       "  height: 1.5em !important;\n",
       "  stroke-width: 0;\n",
       "  stroke: currentColor;\n",
       "  fill: currentColor;\n",
       "}\n",
       "</style><pre class='xr-text-repr-fallback'>&lt;xarray.Dataset&gt;\n",
       "Dimensions:    (row: 2242, col: 8)\n",
       "Dimensions without coordinates: row, col\n",
       "Data variables:\n",
       "    longitude  (row) float64 -0.1 -0.1 -0.1 -0.1 -0.3 ... 9.9 9.9 9.9 9.9 9.9\n",
       "    latitude   (row) float64 36.1 39.3 49.7 54.3 36.1 ... 57.7 58.7 64.5 64.7\n",
       "    ssl        (row, col) float64 1.024 1.051 1.078 1.114 ... 2.499 2.605 2.675\n",
       "    RP         (col) float32 5.0 10.0 20.0 50.0 100.0 200.0 500.0 1e+03\n",
       "Attributes:\n",
       "    title:            European extreme storm surge level\n",
       "    Institution:      Joint European Research Center, Institute of Environmen...\n",
       "    Project Name:     Prototype of a first Global Integrated Coastal Impact-b...\n",
       "    Project Acronym:  CoastAlRisk\n",
       "    reference:        Vousdoukas MI, Voukouvalas E, Annunziato A, Giardino A,...\n",
       "    email:            michail.vousdoukas@ec.europa.eu\n",
       "    version:          1.0\n",
       "    terms_for_use:    European Union, 1995-2015.\\nReuse is authorised, provid...\n",
       "    disclaimer:       Unless the following would not be permitted or valid un...</pre><div class='xr-wrap' style='display:none'><div class='xr-header'><div class='xr-obj-type'>xarray.Dataset</div></div><ul class='xr-sections'><li class='xr-section-item'><input id='section-ad4a2d49-0e74-4b18-a1e8-83661e6f9dab' class='xr-section-summary-in' type='checkbox' disabled ><label for='section-ad4a2d49-0e74-4b18-a1e8-83661e6f9dab' class='xr-section-summary'  title='Expand/collapse section'>Dimensions:</label><div class='xr-section-inline-details'><ul class='xr-dim-list'><li><span>row</span>: 2242</li><li><span>col</span>: 8</li></ul></div><div class='xr-section-details'></div></li><li class='xr-section-item'><input id='section-bc5d547f-4e41-4395-94be-bd254bcea429' class='xr-section-summary-in' type='checkbox' disabled ><label for='section-bc5d547f-4e41-4395-94be-bd254bcea429' class='xr-section-summary'  title='Expand/collapse section'>Coordinates: <span>(0)</span></label><div class='xr-section-inline-details'></div><div class='xr-section-details'><ul class='xr-var-list'></ul></div></li><li class='xr-section-item'><input id='section-8c31797d-f463-436c-bf74-df862f3918fe' class='xr-section-summary-in' type='checkbox'  checked><label for='section-8c31797d-f463-436c-bf74-df862f3918fe' class='xr-section-summary' >Data variables: <span>(4)</span></label><div class='xr-section-inline-details'></div><div class='xr-section-details'><ul class='xr-var-list'><li class='xr-var-item'><div class='xr-var-name'><span>longitude</span></div><div class='xr-var-dims'>(row)</div><div class='xr-var-dtype'>float64</div><div class='xr-var-preview xr-preview'>...</div><input id='attrs-af494d22-2cbb-4bfd-bd1f-4a8d4b307386' class='xr-var-attrs-in' type='checkbox' ><label for='attrs-af494d22-2cbb-4bfd-bd1f-4a8d4b307386' title='Show/Hide attributes'><svg class='icon xr-icon-file-text2'><use xlink:href='#icon-file-text2'></use></svg></label><input id='data-d1c994e1-ad93-4313-a9fb-0378e9ef1087' class='xr-var-data-in' type='checkbox'><label for='data-d1c994e1-ad93-4313-a9fb-0378e9ef1087' title='Show/Hide data repr'><svg class='icon xr-icon-database'><use xlink:href='#icon-database'></use></svg></label><div class='xr-var-attrs'><dl class='xr-attrs'><dt><span>long_name :</span></dt><dd>longitude</dd><dt><span>units :</span></dt><dd>degrees_east</dd><dt><span>standard_name :</span></dt><dd>longitude</dd></dl></div><div class='xr-var-data'><pre>array([-0.1, -0.1, -0.1, ...,  9.9,  9.9,  9.9])</pre></div></li><li class='xr-var-item'><div class='xr-var-name'><span>latitude</span></div><div class='xr-var-dims'>(row)</div><div class='xr-var-dtype'>float64</div><div class='xr-var-preview xr-preview'>...</div><input id='attrs-2d930f10-409f-47ba-bf14-715031cc314f' class='xr-var-attrs-in' type='checkbox' ><label for='attrs-2d930f10-409f-47ba-bf14-715031cc314f' title='Show/Hide attributes'><svg class='icon xr-icon-file-text2'><use xlink:href='#icon-file-text2'></use></svg></label><input id='data-86b6d24a-9384-4849-b3ad-518cc15cd99e' class='xr-var-data-in' type='checkbox'><label for='data-86b6d24a-9384-4849-b3ad-518cc15cd99e' title='Show/Hide data repr'><svg class='icon xr-icon-database'><use xlink:href='#icon-database'></use></svg></label><div class='xr-var-attrs'><dl class='xr-attrs'><dt><span>long_name :</span></dt><dd>latitude</dd><dt><span>units :</span></dt><dd>degrees_north</dd><dt><span>standard_name :</span></dt><dd>latitude</dd></dl></div><div class='xr-var-data'><pre>array([36.1, 39.3, 49.7, ..., 58.7, 64.5, 64.7])</pre></div></li><li class='xr-var-item'><div class='xr-var-name'><span>ssl</span></div><div class='xr-var-dims'>(row, col)</div><div class='xr-var-dtype'>float64</div><div class='xr-var-preview xr-preview'>...</div><input id='attrs-3639c39c-49fc-4e1a-93f0-11025816a9f2' class='xr-var-attrs-in' type='checkbox' ><label for='attrs-3639c39c-49fc-4e1a-93f0-11025816a9f2' title='Show/Hide attributes'><svg class='icon xr-icon-file-text2'><use xlink:href='#icon-file-text2'></use></svg></label><input id='data-e79254f3-4322-49cd-94c4-dcd5fcc8f6b9' class='xr-var-data-in' type='checkbox'><label for='data-e79254f3-4322-49cd-94c4-dcd5fcc8f6b9' title='Show/Hide data repr'><svg class='icon xr-icon-database'><use xlink:href='#icon-database'></use></svg></label><div class='xr-var-attrs'><dl class='xr-attrs'><dt><span>long_name :</span></dt><dd>storm surge level</dd><dt><span>units :</span></dt><dd>m</dd></dl></div><div class='xr-var-data'><pre>array([[1.02407, 1.0509 , 1.0778 , ..., 1.16939, 1.20762, 1.23753],\n",
       "       [1.24336, 1.28508, 1.32805, ..., 1.4857 , 1.55811, 1.61812],\n",
       "       [1.95   , 2.08892, 2.20901, ..., 2.51257, 2.60544, 2.66859],\n",
       "       ...,\n",
       "       [2.05624, 2.20418, 2.33512, ..., 2.67975, 2.78853, 2.86284],\n",
       "       [1.86446, 2.02245, 2.16554, ..., 2.55166, 2.67389, 2.7566 ],\n",
       "       [1.87579, 2.02328, 2.1549 , ..., 2.49943, 2.60478, 2.67487]])</pre></div></li><li class='xr-var-item'><div class='xr-var-name'><span>RP</span></div><div class='xr-var-dims'>(col)</div><div class='xr-var-dtype'>float32</div><div class='xr-var-preview xr-preview'>...</div><input id='attrs-48236ca7-704b-4862-b4f3-fa33c3a66a01' class='xr-var-attrs-in' type='checkbox' ><label for='attrs-48236ca7-704b-4862-b4f3-fa33c3a66a01' title='Show/Hide attributes'><svg class='icon xr-icon-file-text2'><use xlink:href='#icon-file-text2'></use></svg></label><input id='data-54c98eb1-2d63-4119-b089-c2bf5e7d68e0' class='xr-var-data-in' type='checkbox'><label for='data-54c98eb1-2d63-4119-b089-c2bf5e7d68e0' title='Show/Hide data repr'><svg class='icon xr-icon-database'><use xlink:href='#icon-database'></use></svg></label><div class='xr-var-attrs'><dl class='xr-attrs'><dt><span>long_name :</span></dt><dd>return period</dd><dt><span>units :</span></dt><dd>yr</dd><dt><span>Contents :</span></dt><dd>The RPs have been estimated following the Peak Over Threshold Method (see reference below)</dd><dt><span>Starting date :</span></dt><dd>01-Dec-1969</dd><dt><span>End date :</span></dt><dd>30-Nov-2004 21:00:00</dd></dl></div><div class='xr-var-data'><pre>array([   5.,   10.,   20.,   50.,  100.,  200.,  500., 1000.], dtype=float32)</pre></div></li></ul></div></li><li class='xr-section-item'><input id='section-8a8b40b0-d458-41d1-996e-0808a3a21632' class='xr-section-summary-in' type='checkbox'  checked><label for='section-8a8b40b0-d458-41d1-996e-0808a3a21632' class='xr-section-summary' >Attributes: <span>(9)</span></label><div class='xr-section-inline-details'></div><div class='xr-section-details'><dl class='xr-attrs'><dt><span>title :</span></dt><dd>European extreme storm surge level</dd><dt><span>Institution :</span></dt><dd>Joint European Research Center, Institute of Environment and Sustainability, Via Enrico Fermi 2749, I-21027-Ispra</dd><dt><span>Project Name :</span></dt><dd>Prototype of a first Global Integrated Coastal Impact-based Flood Alert and Risk Assessment Tool</dd><dt><span>Project Acronym :</span></dt><dd>CoastAlRisk</dd><dt><span>reference :</span></dt><dd>Vousdoukas MI, Voukouvalas E, Annunziato A, Giardino A, Feyen L. Projections of extreme storm surge levels along Europe. Clim Dyn. February 2016. doi:10.1007/s00382-016-3019-5</dd><dt><span>email :</span></dt><dd>michail.vousdoukas@ec.europa.eu</dd><dt><span>version :</span></dt><dd>1.0</dd><dt><span>terms_for_use :</span></dt><dd>European Union, 1995-2015.\n",
       "Reuse is authorised, provided the source is acknowledged. The reuse policy of the European Commission is implemented by a Decision of 12 December 2011.</dd><dt><span>disclaimer :</span></dt><dd>Unless the following would not be permitted or valid under applicable law, the following applies to the data/information provided by the JRC:\n",
       "\n",
       "1. The JRC data are provided &quot;as is&quot; and &quot;as available&quot; without warranty of any kind, either express or implied, including, but not limited to, any implied warranty against infringement of third parties&#x27; property rights, or merchantability, integration, absence of latent or other defects, satisfactory quality and fitness for a particular purpose. The JRC data do not constitute professional or legal advice (if you need specific advice, you should always consult a suitably qualified professional).\n",
       "2. The JRC has no obligation to provide technical support or remedies for the data. The JRC does not represent or warrant that the data will be error free or uninterrupted, or that all non-conformities can or will be corrected, or that any data are accurate or complete, or that they are of a satisfactory technical or scientific quality.\n",
       "3. The JRC or as the case may be the European Commission shall not be held liable for any direct or indirect, incidental, consequential or other damages, including but not limited to the loss of data, loss of profits, or any other financial loss arising from the use of the JRC data, or inability to use them, even if the JRC is notified of the possibility of such damages.</dd></dl></div></li></ul></div></div>"
      ],
      "text/plain": [
       "<xarray.Dataset>\n",
       "Dimensions:    (row: 2242, col: 8)\n",
       "Dimensions without coordinates: row, col\n",
       "Data variables:\n",
       "    longitude  (row) float64 ...\n",
       "    latitude   (row) float64 ...\n",
       "    ssl        (row, col) float64 ...\n",
       "    RP         (col) float32 ...\n",
       "Attributes:\n",
       "    title:            European extreme storm surge level\n",
       "    Institution:      Joint European Research Center, Institute of Environmen...\n",
       "    Project Name:     Prototype of a first Global Integrated Coastal Impact-b...\n",
       "    Project Acronym:  CoastAlRisk\n",
       "    reference:        Vousdoukas MI, Voukouvalas E, Annunziato A, Giardino A,...\n",
       "    email:            michail.vousdoukas@ec.europa.eu\n",
       "    version:          1.0\n",
       "    terms_for_use:    European Union, 1995-2015.\\nReuse is authorised, provid...\n",
       "    disclaimer:       Unless the following would not be permitted or valid un..."
      ]
     },
     "execution_count": 4,
     "metadata": {},
     "output_type": "execute_result"
    },
    {
     "data": {
      "application/javascript": "\n            setTimeout(function() {\n                var nbb_cell_id = 4;\n                var nbb_unformatted_code = \"# open datasets\\ndataset_historical = xr.open_dataset(dataset_historical_path)\\ndataset_45rcp = xr.open_dataset(dataset_rcp45_path)\\ndataset_85rcp = xr.open_dataset(dataset_rcp85_path)\\n\\n# check original dataset\\ndataset_historical\";\n                var nbb_formatted_code = \"# open datasets\\ndataset_historical = xr.open_dataset(dataset_historical_path)\\ndataset_45rcp = xr.open_dataset(dataset_rcp45_path)\\ndataset_85rcp = xr.open_dataset(dataset_rcp85_path)\\n\\n# check original dataset\\ndataset_historical\";\n                var nbb_cells = Jupyter.notebook.get_cells();\n                for (var i = 0; i < nbb_cells.length; ++i) {\n                    if (nbb_cells[i].input_prompt_number == nbb_cell_id) {\n                        if (nbb_cells[i].get_text() == nbb_unformatted_code) {\n                             nbb_cells[i].set_text(nbb_formatted_code);\n                        }\n                        break;\n                    }\n                }\n            }, 500);\n            ",
      "text/plain": [
       "<IPython.core.display.Javascript object>"
      ]
     },
     "metadata": {},
     "output_type": "display_data"
    }
   ],
   "source": [
    "# open datasets\n",
    "dataset_historical = xr.open_dataset(dataset_historical_path)\n",
    "dataset_45rcp = xr.open_dataset(dataset_rcp45_path)\n",
    "dataset_85rcp = xr.open_dataset(dataset_rcp85_path)\n",
    "\n",
    "# check original dataset\n",
    "dataset_historical"
   ]
  },
  {
   "cell_type": "code",
   "execution_count": 5,
   "id": "5e0a7b33",
   "metadata": {},
   "outputs": [
    {
     "data": {
      "application/javascript": "\n            setTimeout(function() {\n                var nbb_cell_id = 5;\n                var nbb_unformatted_code = \"%%capture cap --no-stderr\\n# check original CF compliancy\\n\\ncheck_compliancy(testfile=dataset_historical_path, working_dir=CF_dir)\";\n                var nbb_formatted_code = \"%%capture cap --no-stderr\\n# check original CF compliancy\\n\\ncheck_compliancy(testfile=dataset_historical_path, working_dir=CF_dir)\";\n                var nbb_cells = Jupyter.notebook.get_cells();\n                for (var i = 0; i < nbb_cells.length; ++i) {\n                    if (nbb_cells[i].input_prompt_number == nbb_cell_id) {\n                        if (nbb_cells[i].get_text() == nbb_unformatted_code) {\n                             nbb_cells[i].set_text(nbb_formatted_code);\n                        }\n                        break;\n                    }\n                }\n            }, 500);\n            ",
      "text/plain": [
       "<IPython.core.display.Javascript object>"
      ]
     },
     "metadata": {},
     "output_type": "display_data"
    }
   ],
   "source": [
    "%%capture cap --no-stderr\n",
    "# check original CF compliancy\n",
    "\n",
    "check_compliancy(testfile=dataset_historical_path, working_dir=CF_dir)"
   ]
  },
  {
   "cell_type": "code",
   "execution_count": 6,
   "id": "f5550244",
   "metadata": {},
   "outputs": [
    {
     "name": "stdout",
     "output_type": "stream",
     "text": [
      "{'P:\\\\11205479-coclico\\\\data\\\\01_storm_surge_jrc\\\\CoastAlRisk_Europe_EESSL_Historical.nc': {'warnings': '3', 'errors': '2'}}\n"
     ]
    },
    {
     "data": {
      "application/javascript": "\n            setTimeout(function() {\n                var nbb_cell_id = 6;\n                var nbb_unformatted_code = \"# save original CF compliancy\\nsave_compliancy(cap, testfile=dataset_historical_path, working_dir=CF_dir)\";\n                var nbb_formatted_code = \"# save original CF compliancy\\nsave_compliancy(cap, testfile=dataset_historical_path, working_dir=CF_dir)\";\n                var nbb_cells = Jupyter.notebook.get_cells();\n                for (var i = 0; i < nbb_cells.length; ++i) {\n                    if (nbb_cells[i].input_prompt_number == nbb_cell_id) {\n                        if (nbb_cells[i].get_text() == nbb_unformatted_code) {\n                             nbb_cells[i].set_text(nbb_formatted_code);\n                        }\n                        break;\n                    }\n                }\n            }, 500);\n            ",
      "text/plain": [
       "<IPython.core.display.Javascript object>"
      ]
     },
     "metadata": {},
     "output_type": "display_data"
    }
   ],
   "source": [
    "# save original CF compliancy\n",
    "save_compliancy(cap, testfile=dataset_historical_path, working_dir=CF_dir)"
   ]
  },
  {
   "cell_type": "code",
   "execution_count": 7,
   "id": "ac6632d3",
   "metadata": {},
   "outputs": [
    {
     "data": {
      "application/javascript": "\n            setTimeout(function() {\n                var nbb_cell_id = 7;\n                var nbb_unformatted_code = \"%%capture cap --no-stderr\\n# check original CF compliancy\\n\\ncheck_compliancy(testfile=dataset_rcp45_path, working_dir=CF_dir)\";\n                var nbb_formatted_code = \"%%capture cap --no-stderr\\n# check original CF compliancy\\n\\ncheck_compliancy(testfile=dataset_rcp45_path, working_dir=CF_dir)\";\n                var nbb_cells = Jupyter.notebook.get_cells();\n                for (var i = 0; i < nbb_cells.length; ++i) {\n                    if (nbb_cells[i].input_prompt_number == nbb_cell_id) {\n                        if (nbb_cells[i].get_text() == nbb_unformatted_code) {\n                             nbb_cells[i].set_text(nbb_formatted_code);\n                        }\n                        break;\n                    }\n                }\n            }, 500);\n            ",
      "text/plain": [
       "<IPython.core.display.Javascript object>"
      ]
     },
     "metadata": {},
     "output_type": "display_data"
    }
   ],
   "source": [
    "%%capture cap --no-stderr\n",
    "# check original CF compliancy\n",
    "\n",
    "check_compliancy(testfile=dataset_rcp45_path, working_dir=CF_dir)"
   ]
  },
  {
   "cell_type": "code",
   "execution_count": 8,
   "id": "4f94a2e4",
   "metadata": {},
   "outputs": [
    {
     "name": "stdout",
     "output_type": "stream",
     "text": [
      "{'P:\\\\11205479-coclico\\\\data\\\\01_storm_surge_jrc\\\\CoastAlRisk_Europe_EESSL_RCP45.nc': {'warnings': '3', 'errors': '2'}}\n"
     ]
    },
    {
     "data": {
      "application/javascript": "\n            setTimeout(function() {\n                var nbb_cell_id = 8;\n                var nbb_unformatted_code = \"# save original CF compliancy\\nsave_compliancy(cap, testfile=dataset_rcp45_path, working_dir=CF_dir)\";\n                var nbb_formatted_code = \"# save original CF compliancy\\nsave_compliancy(cap, testfile=dataset_rcp45_path, working_dir=CF_dir)\";\n                var nbb_cells = Jupyter.notebook.get_cells();\n                for (var i = 0; i < nbb_cells.length; ++i) {\n                    if (nbb_cells[i].input_prompt_number == nbb_cell_id) {\n                        if (nbb_cells[i].get_text() == nbb_unformatted_code) {\n                             nbb_cells[i].set_text(nbb_formatted_code);\n                        }\n                        break;\n                    }\n                }\n            }, 500);\n            ",
      "text/plain": [
       "<IPython.core.display.Javascript object>"
      ]
     },
     "metadata": {},
     "output_type": "display_data"
    }
   ],
   "source": [
    "# save original CF compliancy\n",
    "save_compliancy(cap, testfile=dataset_rcp45_path, working_dir=CF_dir)"
   ]
  },
  {
   "cell_type": "code",
   "execution_count": 9,
   "id": "05e69f6a",
   "metadata": {},
   "outputs": [
    {
     "data": {
      "application/javascript": "\n            setTimeout(function() {\n                var nbb_cell_id = 9;\n                var nbb_unformatted_code = \"%%capture cap --no-stderr\\n# check original CF compliancy\\n\\ncheck_compliancy(testfile=dataset_rcp85_path, working_dir=CF_dir)\";\n                var nbb_formatted_code = \"%%capture cap --no-stderr\\n# check original CF compliancy\\n\\ncheck_compliancy(testfile=dataset_rcp85_path, working_dir=CF_dir)\";\n                var nbb_cells = Jupyter.notebook.get_cells();\n                for (var i = 0; i < nbb_cells.length; ++i) {\n                    if (nbb_cells[i].input_prompt_number == nbb_cell_id) {\n                        if (nbb_cells[i].get_text() == nbb_unformatted_code) {\n                             nbb_cells[i].set_text(nbb_formatted_code);\n                        }\n                        break;\n                    }\n                }\n            }, 500);\n            ",
      "text/plain": [
       "<IPython.core.display.Javascript object>"
      ]
     },
     "metadata": {},
     "output_type": "display_data"
    }
   ],
   "source": [
    "%%capture cap --no-stderr\n",
    "# check original CF compliancy\n",
    "\n",
    "check_compliancy(testfile=dataset_rcp85_path, working_dir=CF_dir)"
   ]
  },
  {
   "cell_type": "code",
   "execution_count": 10,
   "id": "d444ca8a",
   "metadata": {},
   "outputs": [
    {
     "name": "stdout",
     "output_type": "stream",
     "text": [
      "{'P:\\\\11205479-coclico\\\\data\\\\01_storm_surge_jrc\\\\CoastAlRisk_Europe_EESSL_RCP85.nc': {'warnings': '3', 'errors': '2'}}\n"
     ]
    },
    {
     "data": {
      "application/javascript": "\n            setTimeout(function() {\n                var nbb_cell_id = 10;\n                var nbb_unformatted_code = \"# save original CF compliancy\\nsave_compliancy(cap, testfile=dataset_rcp85_path, working_dir=CF_dir)\";\n                var nbb_formatted_code = \"# save original CF compliancy\\nsave_compliancy(cap, testfile=dataset_rcp85_path, working_dir=CF_dir)\";\n                var nbb_cells = Jupyter.notebook.get_cells();\n                for (var i = 0; i < nbb_cells.length; ++i) {\n                    if (nbb_cells[i].input_prompt_number == nbb_cell_id) {\n                        if (nbb_cells[i].get_text() == nbb_unformatted_code) {\n                             nbb_cells[i].set_text(nbb_formatted_code);\n                        }\n                        break;\n                    }\n                }\n            }, 500);\n            ",
      "text/plain": [
       "<IPython.core.display.Javascript object>"
      ]
     },
     "metadata": {},
     "output_type": "display_data"
    }
   ],
   "source": [
    "# save original CF compliancy\n",
    "save_compliancy(cap, testfile=dataset_rcp85_path, working_dir=CF_dir)"
   ]
  },
  {
   "cell_type": "markdown",
   "id": "8ba9aa6e",
   "metadata": {},
   "source": [
    "### Make CF compliant alterations to the NetCDF files (dataset dependent)"
   ]
  },
  {
   "cell_type": "code",
   "execution_count": 11,
   "id": "eb4aae89",
   "metadata": {},
   "outputs": [
    {
     "data": {
      "application/javascript": "\n            setTimeout(function() {\n                var nbb_cell_id = 11;\n                var nbb_unformatted_code = \"# NetCDF attribute alterations\\n\\n# rename global attribute names\\ndataset_historical.attrs[\\\"Project_Name\\\"] = dataset_historical.attrs.pop(\\\"Project Name\\\")\\ndataset_historical.attrs[\\\"Project_Acronym\\\"] = dataset_historical.attrs.pop(\\n    \\\"Project Acronym\\\"\\n)\\ndataset_45rcp.attrs[\\\"Project_Name\\\"] = dataset_45rcp.attrs.pop(\\\"Project Name\\\")\\ndataset_45rcp.attrs[\\\"Project_Acronym\\\"] = dataset_45rcp.attrs.pop(\\\"Project Acronym\\\")\\ndataset_85rcp.attrs[\\\"Project_Name\\\"] = dataset_85rcp.attrs.pop(\\\"Project Name\\\")\\ndataset_85rcp.attrs[\\\"Project_Acronym\\\"] = dataset_85rcp.attrs.pop(\\\"Project Acronym\\\")\\n\\n# add global attributes\\ndataset_historical.attrs[\\\"Conventions\\\"] = \\\"CF-1.8\\\"\\ndataset_45rcp.attrs[\\\"Conventions\\\"] = \\\"CF-1.8\\\"\\ndataset_85rcp.attrs[\\\"Conventions\\\"] = \\\"CF-1.8\\\"\\ndataset_historical.attrs[\\\"Starting_date\\\"] = \\\"01-Dec-1969\\\"\\ndataset_historical.attrs[\\\"End_date\\\"] = \\\"30-Nov-2004 21:00:00\\\"\\ndataset_45rcp.attrs[\\\"Starting_date\\\"] = \\\"01-Dec-2009\\\"\\ndataset_45rcp.attrs[\\\"End_date\\\"] = \\\"30-Nov-2099 21:00:00\\\"\\ndataset_85rcp.attrs[\\\"Starting_date\\\"] = \\\"01-Dec-2009\\\"\\ndataset_85rcp.attrs[\\\"End_date\\\"] = \\\"30-Nov-2099 21:00:00\\\"\\n\\n# remove certain variable attributes\\ndel dataset_historical[\\\"RP\\\"].attrs[\\\"Starting date\\\"]\\ndel dataset_historical[\\\"RP\\\"].attrs[\\\"End date\\\"]\\ndel dataset_45rcp[\\\"RP\\\"].attrs[\\\"Starting date\\\"]\\ndel dataset_45rcp[\\\"RP\\\"].attrs[\\\"End date\\\"]\\ndel dataset_85rcp[\\\"RP\\\"].attrs[\\\"Starting date\\\"]\\ndel dataset_85rcp[\\\"RP\\\"].attrs[\\\"End date\\\"]\";\n                var nbb_formatted_code = \"# NetCDF attribute alterations\\n\\n# rename global attribute names\\ndataset_historical.attrs[\\\"Project_Name\\\"] = dataset_historical.attrs.pop(\\\"Project Name\\\")\\ndataset_historical.attrs[\\\"Project_Acronym\\\"] = dataset_historical.attrs.pop(\\n    \\\"Project Acronym\\\"\\n)\\ndataset_45rcp.attrs[\\\"Project_Name\\\"] = dataset_45rcp.attrs.pop(\\\"Project Name\\\")\\ndataset_45rcp.attrs[\\\"Project_Acronym\\\"] = dataset_45rcp.attrs.pop(\\\"Project Acronym\\\")\\ndataset_85rcp.attrs[\\\"Project_Name\\\"] = dataset_85rcp.attrs.pop(\\\"Project Name\\\")\\ndataset_85rcp.attrs[\\\"Project_Acronym\\\"] = dataset_85rcp.attrs.pop(\\\"Project Acronym\\\")\\n\\n# add global attributes\\ndataset_historical.attrs[\\\"Conventions\\\"] = \\\"CF-1.8\\\"\\ndataset_45rcp.attrs[\\\"Conventions\\\"] = \\\"CF-1.8\\\"\\ndataset_85rcp.attrs[\\\"Conventions\\\"] = \\\"CF-1.8\\\"\\ndataset_historical.attrs[\\\"Starting_date\\\"] = \\\"01-Dec-1969\\\"\\ndataset_historical.attrs[\\\"End_date\\\"] = \\\"30-Nov-2004 21:00:00\\\"\\ndataset_45rcp.attrs[\\\"Starting_date\\\"] = \\\"01-Dec-2009\\\"\\ndataset_45rcp.attrs[\\\"End_date\\\"] = \\\"30-Nov-2099 21:00:00\\\"\\ndataset_85rcp.attrs[\\\"Starting_date\\\"] = \\\"01-Dec-2009\\\"\\ndataset_85rcp.attrs[\\\"End_date\\\"] = \\\"30-Nov-2099 21:00:00\\\"\\n\\n# remove certain variable attributes\\ndel dataset_historical[\\\"RP\\\"].attrs[\\\"Starting date\\\"]\\ndel dataset_historical[\\\"RP\\\"].attrs[\\\"End date\\\"]\\ndel dataset_45rcp[\\\"RP\\\"].attrs[\\\"Starting date\\\"]\\ndel dataset_45rcp[\\\"RP\\\"].attrs[\\\"End date\\\"]\\ndel dataset_85rcp[\\\"RP\\\"].attrs[\\\"Starting date\\\"]\\ndel dataset_85rcp[\\\"RP\\\"].attrs[\\\"End date\\\"]\";\n                var nbb_cells = Jupyter.notebook.get_cells();\n                for (var i = 0; i < nbb_cells.length; ++i) {\n                    if (nbb_cells[i].input_prompt_number == nbb_cell_id) {\n                        if (nbb_cells[i].get_text() == nbb_unformatted_code) {\n                             nbb_cells[i].set_text(nbb_formatted_code);\n                        }\n                        break;\n                    }\n                }\n            }, 500);\n            ",
      "text/plain": [
       "<IPython.core.display.Javascript object>"
      ]
     },
     "metadata": {},
     "output_type": "display_data"
    }
   ],
   "source": [
    "# NetCDF attribute alterations\n",
    "\n",
    "# rename global attribute names\n",
    "dataset_historical.attrs[\"Project_Name\"] = dataset_historical.attrs.pop(\"Project Name\")\n",
    "dataset_historical.attrs[\"Project_Acronym\"] = dataset_historical.attrs.pop(\n",
    "    \"Project Acronym\"\n",
    ")\n",
    "dataset_45rcp.attrs[\"Project_Name\"] = dataset_45rcp.attrs.pop(\"Project Name\")\n",
    "dataset_45rcp.attrs[\"Project_Acronym\"] = dataset_45rcp.attrs.pop(\"Project Acronym\")\n",
    "dataset_85rcp.attrs[\"Project_Name\"] = dataset_85rcp.attrs.pop(\"Project Name\")\n",
    "dataset_85rcp.attrs[\"Project_Acronym\"] = dataset_85rcp.attrs.pop(\"Project Acronym\")\n",
    "\n",
    "# add global attributes\n",
    "dataset_historical.attrs[\"Conventions\"] = \"CF-1.8\"\n",
    "dataset_45rcp.attrs[\"Conventions\"] = \"CF-1.8\"\n",
    "dataset_85rcp.attrs[\"Conventions\"] = \"CF-1.8\"\n",
    "dataset_historical.attrs[\"Starting_date\"] = \"01-Dec-1969\"\n",
    "dataset_historical.attrs[\"End_date\"] = \"30-Nov-2004 21:00:00\"\n",
    "dataset_45rcp.attrs[\"Starting_date\"] = \"01-Dec-2009\"\n",
    "dataset_45rcp.attrs[\"End_date\"] = \"30-Nov-2099 21:00:00\"\n",
    "dataset_85rcp.attrs[\"Starting_date\"] = \"01-Dec-2009\"\n",
    "dataset_85rcp.attrs[\"End_date\"] = \"30-Nov-2099 21:00:00\"\n",
    "\n",
    "# remove certain variable attributes\n",
    "del dataset_historical[\"RP\"].attrs[\"Starting date\"]\n",
    "del dataset_historical[\"RP\"].attrs[\"End date\"]\n",
    "del dataset_45rcp[\"RP\"].attrs[\"Starting date\"]\n",
    "del dataset_45rcp[\"RP\"].attrs[\"End date\"]\n",
    "del dataset_85rcp[\"RP\"].attrs[\"Starting date\"]\n",
    "del dataset_85rcp[\"RP\"].attrs[\"End date\"]"
   ]
  },
  {
   "cell_type": "code",
   "execution_count": 12,
   "id": "acf79ea1",
   "metadata": {},
   "outputs": [
    {
     "data": {
      "application/javascript": "\n            setTimeout(function() {\n                var nbb_cell_id = 12;\n                var nbb_unformatted_code = \"# NetCDF variable and dimension alterations\\n\\n# rename or swap dimension names, the latter in case the name already exists as coordinate\\ndataset_historical = dataset_historical.rename_dims({\\\"row\\\": \\\"stations\\\"})\\ndataset_45rcp = dataset_45rcp.rename_dims({\\\"row\\\": \\\"stations\\\"})\\ndataset_85rcp = dataset_85rcp.rename_dims({\\\"row\\\": \\\"stations\\\"})\\ndataset_historical = dataset_historical.swap_dims({\\\"col\\\": \\\"rp\\\"})\\ndataset_45rcp = dataset_45rcp.swap_dims({\\\"col\\\": \\\"rp\\\"})\\ndataset_85rcp = dataset_85rcp.swap_dims({\\\"col\\\": \\\"rp\\\"})\\n\\n# rename variables, if necessary\\ndataset_historical = dataset_historical.rename_vars(\\n    {\\\"RP\\\": \\\"rp\\\", \\\"longitude\\\": \\\"lon\\\", \\\"latitude\\\": \\\"lat\\\"}\\n)\\ndataset_45rcp = dataset_45rcp.rename_vars(\\n    {\\\"RP\\\": \\\"rp\\\", \\\"longitude\\\": \\\"lon\\\", \\\"latitude\\\": \\\"lat\\\"}\\n)\\ndataset_85rcp = dataset_85rcp.rename_vars(\\n    {\\\"RP\\\": \\\"rp\\\", \\\"longitude\\\": \\\"lon\\\", \\\"latitude\\\": \\\"lat\\\"}\\n)\\n\\n# set some data variables to coordinates to avoid duplication of dimensions in later stage\\ndataset_historical = dataset_historical.set_coords([\\\"lon\\\", \\\"lat\\\", \\\"rp\\\"])\\ndataset_45rcp = dataset_45rcp.set_coords([\\\"lon\\\", \\\"lat\\\", \\\"rp\\\"])\\ndataset_85rcp = dataset_85rcp.set_coords([\\\"lon\\\", \\\"lat\\\", \\\"rp\\\"])\";\n                var nbb_formatted_code = \"# NetCDF variable and dimension alterations\\n\\n# rename or swap dimension names, the latter in case the name already exists as coordinate\\ndataset_historical = dataset_historical.rename_dims({\\\"row\\\": \\\"stations\\\"})\\ndataset_45rcp = dataset_45rcp.rename_dims({\\\"row\\\": \\\"stations\\\"})\\ndataset_85rcp = dataset_85rcp.rename_dims({\\\"row\\\": \\\"stations\\\"})\\ndataset_historical = dataset_historical.swap_dims({\\\"col\\\": \\\"rp\\\"})\\ndataset_45rcp = dataset_45rcp.swap_dims({\\\"col\\\": \\\"rp\\\"})\\ndataset_85rcp = dataset_85rcp.swap_dims({\\\"col\\\": \\\"rp\\\"})\\n\\n# rename variables, if necessary\\ndataset_historical = dataset_historical.rename_vars(\\n    {\\\"RP\\\": \\\"rp\\\", \\\"longitude\\\": \\\"lon\\\", \\\"latitude\\\": \\\"lat\\\"}\\n)\\ndataset_45rcp = dataset_45rcp.rename_vars(\\n    {\\\"RP\\\": \\\"rp\\\", \\\"longitude\\\": \\\"lon\\\", \\\"latitude\\\": \\\"lat\\\"}\\n)\\ndataset_85rcp = dataset_85rcp.rename_vars(\\n    {\\\"RP\\\": \\\"rp\\\", \\\"longitude\\\": \\\"lon\\\", \\\"latitude\\\": \\\"lat\\\"}\\n)\\n\\n# set some data variables to coordinates to avoid duplication of dimensions in later stage\\ndataset_historical = dataset_historical.set_coords([\\\"lon\\\", \\\"lat\\\", \\\"rp\\\"])\\ndataset_45rcp = dataset_45rcp.set_coords([\\\"lon\\\", \\\"lat\\\", \\\"rp\\\"])\\ndataset_85rcp = dataset_85rcp.set_coords([\\\"lon\\\", \\\"lat\\\", \\\"rp\\\"])\";\n                var nbb_cells = Jupyter.notebook.get_cells();\n                for (var i = 0; i < nbb_cells.length; ++i) {\n                    if (nbb_cells[i].input_prompt_number == nbb_cell_id) {\n                        if (nbb_cells[i].get_text() == nbb_unformatted_code) {\n                             nbb_cells[i].set_text(nbb_formatted_code);\n                        }\n                        break;\n                    }\n                }\n            }, 500);\n            ",
      "text/plain": [
       "<IPython.core.display.Javascript object>"
      ]
     },
     "metadata": {},
     "output_type": "display_data"
    }
   ],
   "source": [
    "# NetCDF variable and dimension alterations\n",
    "\n",
    "# rename or swap dimension names, the latter in case the name already exists as coordinate\n",
    "dataset_historical = dataset_historical.rename_dims({\"row\": \"stations\"})\n",
    "dataset_45rcp = dataset_45rcp.rename_dims({\"row\": \"stations\"})\n",
    "dataset_85rcp = dataset_85rcp.rename_dims({\"row\": \"stations\"})\n",
    "dataset_historical = dataset_historical.swap_dims({\"col\": \"rp\"})\n",
    "dataset_45rcp = dataset_45rcp.swap_dims({\"col\": \"rp\"})\n",
    "dataset_85rcp = dataset_85rcp.swap_dims({\"col\": \"rp\"})\n",
    "\n",
    "# rename variables, if necessary\n",
    "dataset_historical = dataset_historical.rename_vars(\n",
    "    {\"RP\": \"rp\", \"longitude\": \"lon\", \"latitude\": \"lat\"}\n",
    ")\n",
    "dataset_45rcp = dataset_45rcp.rename_vars(\n",
    "    {\"RP\": \"rp\", \"longitude\": \"lon\", \"latitude\": \"lat\"}\n",
    ")\n",
    "dataset_85rcp = dataset_85rcp.rename_vars(\n",
    "    {\"RP\": \"rp\", \"longitude\": \"lon\", \"latitude\": \"lat\"}\n",
    ")\n",
    "\n",
    "# set some data variables to coordinates to avoid duplication of dimensions in later stage\n",
    "dataset_historical = dataset_historical.set_coords([\"lon\", \"lat\", \"rp\"])\n",
    "dataset_45rcp = dataset_45rcp.set_coords([\"lon\", \"lat\", \"rp\"])\n",
    "dataset_85rcp = dataset_85rcp.set_coords([\"lon\", \"lat\", \"rp\"])"
   ]
  },
  {
   "cell_type": "code",
   "execution_count": 13,
   "id": "2437c6d8",
   "metadata": {},
   "outputs": [
    {
     "data": {
      "application/javascript": "\n            setTimeout(function() {\n                var nbb_cell_id = 13;\n                var nbb_unformatted_code = \"# concat datasets along new dimension with index values and name derived from pandas index object, if necessary\\ndataset = xr.concat(\\n    [dataset_historical, dataset_45rcp, dataset_85rcp], dim=\\\"nscenarios\\\",\\n)\\ndataset = dataset.assign_coords(\\n    scenarios=(\\\"nscenarios\\\", np.array([\\\"Historical\\\", \\\"RCP45\\\", \\\"RCP85\\\"], dtype=\\\"S\\\"))\\n)\\n\\n# dataset = xr.concat(\\n#     [dataset_historical, dataset_45rcp, dataset_85rcp],\\n#     pd.Index([\\\"historical\\\", \\\"rcp45\\\", \\\"rcp85\\\"], name=\\\"scenarios\\\"),\\n# )\\n\\n# dataset[\\\"scenarios\\\"].values.astype(\\\"U\\\") # retrieve scenarios as string\";\n                var nbb_formatted_code = \"# concat datasets along new dimension with index values and name derived from pandas index object, if necessary\\ndataset = xr.concat(\\n    [dataset_historical, dataset_45rcp, dataset_85rcp], dim=\\\"nscenarios\\\",\\n)\\ndataset = dataset.assign_coords(\\n    scenarios=(\\\"nscenarios\\\", np.array([\\\"Historical\\\", \\\"RCP45\\\", \\\"RCP85\\\"], dtype=\\\"S\\\"))\\n)\\n\\n# dataset = xr.concat(\\n#     [dataset_historical, dataset_45rcp, dataset_85rcp],\\n#     pd.Index([\\\"historical\\\", \\\"rcp45\\\", \\\"rcp85\\\"], name=\\\"scenarios\\\"),\\n# )\\n\\n# dataset[\\\"scenarios\\\"].values.astype(\\\"U\\\") # retrieve scenarios as string\";\n                var nbb_cells = Jupyter.notebook.get_cells();\n                for (var i = 0; i < nbb_cells.length; ++i) {\n                    if (nbb_cells[i].input_prompt_number == nbb_cell_id) {\n                        if (nbb_cells[i].get_text() == nbb_unformatted_code) {\n                             nbb_cells[i].set_text(nbb_formatted_code);\n                        }\n                        break;\n                    }\n                }\n            }, 500);\n            ",
      "text/plain": [
       "<IPython.core.display.Javascript object>"
      ]
     },
     "metadata": {},
     "output_type": "display_data"
    }
   ],
   "source": [
    "# concat datasets along new dimension with index values and name derived from pandas index object, if necessary\n",
    "dataset = xr.concat(\n",
    "    [dataset_historical, dataset_45rcp, dataset_85rcp], dim=\"nscenarios\",\n",
    ")\n",
    "dataset = dataset.assign_coords(\n",
    "    scenarios=(\"nscenarios\", np.array([\"Historical\", \"RCP45\", \"RCP85\"], dtype=\"S\"))\n",
    ")\n",
    "\n",
    "# dataset = xr.concat(\n",
    "#     [dataset_historical, dataset_45rcp, dataset_85rcp],\n",
    "#     pd.Index([\"historical\", \"rcp45\", \"rcp85\"], name=\"scenarios\"),\n",
    "# )\n",
    "\n",
    "# dataset[\"scenarios\"].values.astype(\"U\") # retrieve scenarios as string"
   ]
  },
  {
   "cell_type": "code",
   "execution_count": 14,
   "id": "2b8a4ed1",
   "metadata": {},
   "outputs": [
    {
     "data": {
      "application/javascript": "\n            setTimeout(function() {\n                var nbb_cell_id = 14;\n                var nbb_unformatted_code = \"# re-order shape of the data variables\\ndataset_historical = dataset_historical.transpose(\\\"stations\\\", \\\"rp\\\")\\ndataset_45rcp = dataset_45rcp.transpose(\\\"stations\\\", \\\"rp\\\")\\ndataset_85rcp = dataset_85rcp.transpose(\\\"stations\\\", \\\"rp\\\")\\ndataset = dataset.transpose(\\\"nscenarios\\\", \\\"stations\\\", \\\"rp\\\")\\n\\n# add or change certain variable / coordinate attributes\\ndataset_attributes = {\\n    \\\"scenarios\\\": {\\\"long_name\\\": \\\"climate scenarios\\\"}\\n}  # specify custom (CF convention) attributes\\n\\n# add / overwrite attributes\\nfor k, v in dataset_attributes.items():\\n    try:\\n        dataset[k].attrs = dataset_attributes[k]\\n    except:\\n        continue\";\n                var nbb_formatted_code = \"# re-order shape of the data variables\\ndataset_historical = dataset_historical.transpose(\\\"stations\\\", \\\"rp\\\")\\ndataset_45rcp = dataset_45rcp.transpose(\\\"stations\\\", \\\"rp\\\")\\ndataset_85rcp = dataset_85rcp.transpose(\\\"stations\\\", \\\"rp\\\")\\ndataset = dataset.transpose(\\\"nscenarios\\\", \\\"stations\\\", \\\"rp\\\")\\n\\n# add or change certain variable / coordinate attributes\\ndataset_attributes = {\\n    \\\"scenarios\\\": {\\\"long_name\\\": \\\"climate scenarios\\\"}\\n}  # specify custom (CF convention) attributes\\n\\n# add / overwrite attributes\\nfor k, v in dataset_attributes.items():\\n    try:\\n        dataset[k].attrs = dataset_attributes[k]\\n    except:\\n        continue\";\n                var nbb_cells = Jupyter.notebook.get_cells();\n                for (var i = 0; i < nbb_cells.length; ++i) {\n                    if (nbb_cells[i].input_prompt_number == nbb_cell_id) {\n                        if (nbb_cells[i].get_text() == nbb_unformatted_code) {\n                             nbb_cells[i].set_text(nbb_formatted_code);\n                        }\n                        break;\n                    }\n                }\n            }, 500);\n            ",
      "text/plain": [
       "<IPython.core.display.Javascript object>"
      ]
     },
     "metadata": {},
     "output_type": "display_data"
    }
   ],
   "source": [
    "# re-order shape of the data variables\n",
    "dataset_historical = dataset_historical.transpose(\"stations\", \"rp\")\n",
    "dataset_45rcp = dataset_45rcp.transpose(\"stations\", \"rp\")\n",
    "dataset_85rcp = dataset_85rcp.transpose(\"stations\", \"rp\")\n",
    "dataset = dataset.transpose(\"nscenarios\", \"stations\", \"rp\")\n",
    "\n",
    "# add or change certain variable / coordinate attributes\n",
    "dataset_attributes = {\n",
    "    \"scenarios\": {\"long_name\": \"climate scenarios\"}\n",
    "}  # specify custom (CF convention) attributes\n",
    "\n",
    "# add / overwrite attributes\n",
    "for k, v in dataset_attributes.items():\n",
    "    try:\n",
    "        dataset[k].attrs = dataset_attributes[k]\n",
    "    except:\n",
    "        continue"
   ]
  },
  {
   "cell_type": "code",
   "execution_count": 15,
   "id": "8811d7db",
   "metadata": {},
   "outputs": [
    {
     "data": {
      "text/html": [
       "<div><svg style=\"position: absolute; width: 0; height: 0; overflow: hidden\">\n",
       "<defs>\n",
       "<symbol id=\"icon-database\" viewBox=\"0 0 32 32\">\n",
       "<path d=\"M16 0c-8.837 0-16 2.239-16 5v4c0 2.761 7.163 5 16 5s16-2.239 16-5v-4c0-2.761-7.163-5-16-5z\"></path>\n",
       "<path d=\"M16 17c-8.837 0-16-2.239-16-5v6c0 2.761 7.163 5 16 5s16-2.239 16-5v-6c0 2.761-7.163 5-16 5z\"></path>\n",
       "<path d=\"M16 26c-8.837 0-16-2.239-16-5v6c0 2.761 7.163 5 16 5s16-2.239 16-5v-6c0 2.761-7.163 5-16 5z\"></path>\n",
       "</symbol>\n",
       "<symbol id=\"icon-file-text2\" viewBox=\"0 0 32 32\">\n",
       "<path d=\"M28.681 7.159c-0.694-0.947-1.662-2.053-2.724-3.116s-2.169-2.030-3.116-2.724c-1.612-1.182-2.393-1.319-2.841-1.319h-15.5c-1.378 0-2.5 1.121-2.5 2.5v27c0 1.378 1.122 2.5 2.5 2.5h23c1.378 0 2.5-1.122 2.5-2.5v-19.5c0-0.448-0.137-1.23-1.319-2.841zM24.543 5.457c0.959 0.959 1.712 1.825 2.268 2.543h-4.811v-4.811c0.718 0.556 1.584 1.309 2.543 2.268zM28 29.5c0 0.271-0.229 0.5-0.5 0.5h-23c-0.271 0-0.5-0.229-0.5-0.5v-27c0-0.271 0.229-0.5 0.5-0.5 0 0 15.499-0 15.5 0v7c0 0.552 0.448 1 1 1h7v19.5z\"></path>\n",
       "<path d=\"M23 26h-14c-0.552 0-1-0.448-1-1s0.448-1 1-1h14c0.552 0 1 0.448 1 1s-0.448 1-1 1z\"></path>\n",
       "<path d=\"M23 22h-14c-0.552 0-1-0.448-1-1s0.448-1 1-1h14c0.552 0 1 0.448 1 1s-0.448 1-1 1z\"></path>\n",
       "<path d=\"M23 18h-14c-0.552 0-1-0.448-1-1s0.448-1 1-1h14c0.552 0 1 0.448 1 1s-0.448 1-1 1z\"></path>\n",
       "</symbol>\n",
       "</defs>\n",
       "</svg>\n",
       "<style>/* CSS stylesheet for displaying xarray objects in jupyterlab.\n",
       " *\n",
       " */\n",
       "\n",
       ":root {\n",
       "  --xr-font-color0: var(--jp-content-font-color0, rgba(0, 0, 0, 1));\n",
       "  --xr-font-color2: var(--jp-content-font-color2, rgba(0, 0, 0, 0.54));\n",
       "  --xr-font-color3: var(--jp-content-font-color3, rgba(0, 0, 0, 0.38));\n",
       "  --xr-border-color: var(--jp-border-color2, #e0e0e0);\n",
       "  --xr-disabled-color: var(--jp-layout-color3, #bdbdbd);\n",
       "  --xr-background-color: var(--jp-layout-color0, white);\n",
       "  --xr-background-color-row-even: var(--jp-layout-color1, white);\n",
       "  --xr-background-color-row-odd: var(--jp-layout-color2, #eeeeee);\n",
       "}\n",
       "\n",
       "html[theme=dark],\n",
       "body.vscode-dark {\n",
       "  --xr-font-color0: rgba(255, 255, 255, 1);\n",
       "  --xr-font-color2: rgba(255, 255, 255, 0.54);\n",
       "  --xr-font-color3: rgba(255, 255, 255, 0.38);\n",
       "  --xr-border-color: #1F1F1F;\n",
       "  --xr-disabled-color: #515151;\n",
       "  --xr-background-color: #111111;\n",
       "  --xr-background-color-row-even: #111111;\n",
       "  --xr-background-color-row-odd: #313131;\n",
       "}\n",
       "\n",
       ".xr-wrap {\n",
       "  display: block !important;\n",
       "  min-width: 300px;\n",
       "  max-width: 700px;\n",
       "}\n",
       "\n",
       ".xr-text-repr-fallback {\n",
       "  /* fallback to plain text repr when CSS is not injected (untrusted notebook) */\n",
       "  display: none;\n",
       "}\n",
       "\n",
       ".xr-header {\n",
       "  padding-top: 6px;\n",
       "  padding-bottom: 6px;\n",
       "  margin-bottom: 4px;\n",
       "  border-bottom: solid 1px var(--xr-border-color);\n",
       "}\n",
       "\n",
       ".xr-header > div,\n",
       ".xr-header > ul {\n",
       "  display: inline;\n",
       "  margin-top: 0;\n",
       "  margin-bottom: 0;\n",
       "}\n",
       "\n",
       ".xr-obj-type,\n",
       ".xr-array-name {\n",
       "  margin-left: 2px;\n",
       "  margin-right: 10px;\n",
       "}\n",
       "\n",
       ".xr-obj-type {\n",
       "  color: var(--xr-font-color2);\n",
       "}\n",
       "\n",
       ".xr-sections {\n",
       "  padding-left: 0 !important;\n",
       "  display: grid;\n",
       "  grid-template-columns: 150px auto auto 1fr 20px 20px;\n",
       "}\n",
       "\n",
       ".xr-section-item {\n",
       "  display: contents;\n",
       "}\n",
       "\n",
       ".xr-section-item input {\n",
       "  display: none;\n",
       "}\n",
       "\n",
       ".xr-section-item input + label {\n",
       "  color: var(--xr-disabled-color);\n",
       "}\n",
       "\n",
       ".xr-section-item input:enabled + label {\n",
       "  cursor: pointer;\n",
       "  color: var(--xr-font-color2);\n",
       "}\n",
       "\n",
       ".xr-section-item input:enabled + label:hover {\n",
       "  color: var(--xr-font-color0);\n",
       "}\n",
       "\n",
       ".xr-section-summary {\n",
       "  grid-column: 1;\n",
       "  color: var(--xr-font-color2);\n",
       "  font-weight: 500;\n",
       "}\n",
       "\n",
       ".xr-section-summary > span {\n",
       "  display: inline-block;\n",
       "  padding-left: 0.5em;\n",
       "}\n",
       "\n",
       ".xr-section-summary-in:disabled + label {\n",
       "  color: var(--xr-font-color2);\n",
       "}\n",
       "\n",
       ".xr-section-summary-in + label:before {\n",
       "  display: inline-block;\n",
       "  content: '►';\n",
       "  font-size: 11px;\n",
       "  width: 15px;\n",
       "  text-align: center;\n",
       "}\n",
       "\n",
       ".xr-section-summary-in:disabled + label:before {\n",
       "  color: var(--xr-disabled-color);\n",
       "}\n",
       "\n",
       ".xr-section-summary-in:checked + label:before {\n",
       "  content: '▼';\n",
       "}\n",
       "\n",
       ".xr-section-summary-in:checked + label > span {\n",
       "  display: none;\n",
       "}\n",
       "\n",
       ".xr-section-summary,\n",
       ".xr-section-inline-details {\n",
       "  padding-top: 4px;\n",
       "  padding-bottom: 4px;\n",
       "}\n",
       "\n",
       ".xr-section-inline-details {\n",
       "  grid-column: 2 / -1;\n",
       "}\n",
       "\n",
       ".xr-section-details {\n",
       "  display: none;\n",
       "  grid-column: 1 / -1;\n",
       "  margin-bottom: 5px;\n",
       "}\n",
       "\n",
       ".xr-section-summary-in:checked ~ .xr-section-details {\n",
       "  display: contents;\n",
       "}\n",
       "\n",
       ".xr-array-wrap {\n",
       "  grid-column: 1 / -1;\n",
       "  display: grid;\n",
       "  grid-template-columns: 20px auto;\n",
       "}\n",
       "\n",
       ".xr-array-wrap > label {\n",
       "  grid-column: 1;\n",
       "  vertical-align: top;\n",
       "}\n",
       "\n",
       ".xr-preview {\n",
       "  color: var(--xr-font-color3);\n",
       "}\n",
       "\n",
       ".xr-array-preview,\n",
       ".xr-array-data {\n",
       "  padding: 0 5px !important;\n",
       "  grid-column: 2;\n",
       "}\n",
       "\n",
       ".xr-array-data,\n",
       ".xr-array-in:checked ~ .xr-array-preview {\n",
       "  display: none;\n",
       "}\n",
       "\n",
       ".xr-array-in:checked ~ .xr-array-data,\n",
       ".xr-array-preview {\n",
       "  display: inline-block;\n",
       "}\n",
       "\n",
       ".xr-dim-list {\n",
       "  display: inline-block !important;\n",
       "  list-style: none;\n",
       "  padding: 0 !important;\n",
       "  margin: 0;\n",
       "}\n",
       "\n",
       ".xr-dim-list li {\n",
       "  display: inline-block;\n",
       "  padding: 0;\n",
       "  margin: 0;\n",
       "}\n",
       "\n",
       ".xr-dim-list:before {\n",
       "  content: '(';\n",
       "}\n",
       "\n",
       ".xr-dim-list:after {\n",
       "  content: ')';\n",
       "}\n",
       "\n",
       ".xr-dim-list li:not(:last-child):after {\n",
       "  content: ',';\n",
       "  padding-right: 5px;\n",
       "}\n",
       "\n",
       ".xr-has-index {\n",
       "  font-weight: bold;\n",
       "}\n",
       "\n",
       ".xr-var-list,\n",
       ".xr-var-item {\n",
       "  display: contents;\n",
       "}\n",
       "\n",
       ".xr-var-item > div,\n",
       ".xr-var-item label,\n",
       ".xr-var-item > .xr-var-name span {\n",
       "  background-color: var(--xr-background-color-row-even);\n",
       "  margin-bottom: 0;\n",
       "}\n",
       "\n",
       ".xr-var-item > .xr-var-name:hover span {\n",
       "  padding-right: 5px;\n",
       "}\n",
       "\n",
       ".xr-var-list > li:nth-child(odd) > div,\n",
       ".xr-var-list > li:nth-child(odd) > label,\n",
       ".xr-var-list > li:nth-child(odd) > .xr-var-name span {\n",
       "  background-color: var(--xr-background-color-row-odd);\n",
       "}\n",
       "\n",
       ".xr-var-name {\n",
       "  grid-column: 1;\n",
       "}\n",
       "\n",
       ".xr-var-dims {\n",
       "  grid-column: 2;\n",
       "}\n",
       "\n",
       ".xr-var-dtype {\n",
       "  grid-column: 3;\n",
       "  text-align: right;\n",
       "  color: var(--xr-font-color2);\n",
       "}\n",
       "\n",
       ".xr-var-preview {\n",
       "  grid-column: 4;\n",
       "}\n",
       "\n",
       ".xr-var-name,\n",
       ".xr-var-dims,\n",
       ".xr-var-dtype,\n",
       ".xr-preview,\n",
       ".xr-attrs dt {\n",
       "  white-space: nowrap;\n",
       "  overflow: hidden;\n",
       "  text-overflow: ellipsis;\n",
       "  padding-right: 10px;\n",
       "}\n",
       "\n",
       ".xr-var-name:hover,\n",
       ".xr-var-dims:hover,\n",
       ".xr-var-dtype:hover,\n",
       ".xr-attrs dt:hover {\n",
       "  overflow: visible;\n",
       "  width: auto;\n",
       "  z-index: 1;\n",
       "}\n",
       "\n",
       ".xr-var-attrs,\n",
       ".xr-var-data {\n",
       "  display: none;\n",
       "  background-color: var(--xr-background-color) !important;\n",
       "  padding-bottom: 5px !important;\n",
       "}\n",
       "\n",
       ".xr-var-attrs-in:checked ~ .xr-var-attrs,\n",
       ".xr-var-data-in:checked ~ .xr-var-data {\n",
       "  display: block;\n",
       "}\n",
       "\n",
       ".xr-var-data > table {\n",
       "  float: right;\n",
       "}\n",
       "\n",
       ".xr-var-name span,\n",
       ".xr-var-data,\n",
       ".xr-attrs {\n",
       "  padding-left: 25px !important;\n",
       "}\n",
       "\n",
       ".xr-attrs,\n",
       ".xr-var-attrs,\n",
       ".xr-var-data {\n",
       "  grid-column: 1 / -1;\n",
       "}\n",
       "\n",
       "dl.xr-attrs {\n",
       "  padding: 0;\n",
       "  margin: 0;\n",
       "  display: grid;\n",
       "  grid-template-columns: 125px auto;\n",
       "}\n",
       "\n",
       ".xr-attrs dt,\n",
       ".xr-attrs dd {\n",
       "  padding: 0;\n",
       "  margin: 0;\n",
       "  float: left;\n",
       "  padding-right: 10px;\n",
       "  width: auto;\n",
       "}\n",
       "\n",
       ".xr-attrs dt {\n",
       "  font-weight: normal;\n",
       "  grid-column: 1;\n",
       "}\n",
       "\n",
       ".xr-attrs dt:hover span {\n",
       "  display: inline-block;\n",
       "  background: var(--xr-background-color);\n",
       "  padding-right: 10px;\n",
       "}\n",
       "\n",
       ".xr-attrs dd {\n",
       "  grid-column: 2;\n",
       "  white-space: pre-wrap;\n",
       "  word-break: break-all;\n",
       "}\n",
       "\n",
       ".xr-icon-database,\n",
       ".xr-icon-file-text2 {\n",
       "  display: inline-block;\n",
       "  vertical-align: middle;\n",
       "  width: 1em;\n",
       "  height: 1.5em !important;\n",
       "  stroke-width: 0;\n",
       "  stroke: currentColor;\n",
       "  fill: currentColor;\n",
       "}\n",
       "</style><pre class='xr-text-repr-fallback'>&lt;xarray.Dataset&gt;\n",
       "Dimensions:    (stations: 2242, nscenarios: 3, rp: 8)\n",
       "Coordinates:\n",
       "    lon        (stations) float64 -0.1 -0.1 -0.1 -0.1 -0.3 ... 9.9 9.9 9.9 9.9\n",
       "    lat        (stations) float64 36.1 39.3 49.7 54.3 ... 57.7 58.7 64.5 64.7\n",
       "  * rp         (rp) float32 5.0 10.0 20.0 50.0 100.0 200.0 500.0 1e+03\n",
       "    scenarios  (nscenarios) |S10 b&#x27;Historical&#x27; b&#x27;RCP45&#x27; b&#x27;RCP85&#x27;\n",
       "Dimensions without coordinates: stations, nscenarios\n",
       "Data variables:\n",
       "    ssl        (nscenarios, stations, rp) float64 1.024 1.051 ... 2.712 2.805\n",
       "Attributes:\n",
       "    title:            European extreme storm surge level\n",
       "    Institution:      Joint European Research Center, Institute of Environmen...\n",
       "    reference:        Vousdoukas MI, Voukouvalas E, Annunziato A, Giardino A,...\n",
       "    email:            michail.vousdoukas@ec.europa.eu\n",
       "    version:          1.0\n",
       "    terms_for_use:    European Union, 1995-2015.\\nReuse is authorised, provid...\n",
       "    disclaimer:       Unless the following would not be permitted or valid un...\n",
       "    Project_Name:     Prototype of a first Global Integrated Coastal Impact-b...\n",
       "    Project_Acronym:  CoastAlRisk\n",
       "    Conventions:      CF-1.8\n",
       "    Starting_date:    01-Dec-1969\n",
       "    End_date:         30-Nov-2004 21:00:00</pre><div class='xr-wrap' style='display:none'><div class='xr-header'><div class='xr-obj-type'>xarray.Dataset</div></div><ul class='xr-sections'><li class='xr-section-item'><input id='section-fbba4f03-ecc4-48c1-82dd-6b5fb6cc340d' class='xr-section-summary-in' type='checkbox' disabled ><label for='section-fbba4f03-ecc4-48c1-82dd-6b5fb6cc340d' class='xr-section-summary'  title='Expand/collapse section'>Dimensions:</label><div class='xr-section-inline-details'><ul class='xr-dim-list'><li><span>stations</span>: 2242</li><li><span>nscenarios</span>: 3</li><li><span class='xr-has-index'>rp</span>: 8</li></ul></div><div class='xr-section-details'></div></li><li class='xr-section-item'><input id='section-88b92f29-d681-49f8-a5f9-22a18d0226e4' class='xr-section-summary-in' type='checkbox'  checked><label for='section-88b92f29-d681-49f8-a5f9-22a18d0226e4' class='xr-section-summary' >Coordinates: <span>(4)</span></label><div class='xr-section-inline-details'></div><div class='xr-section-details'><ul class='xr-var-list'><li class='xr-var-item'><div class='xr-var-name'><span>lon</span></div><div class='xr-var-dims'>(stations)</div><div class='xr-var-dtype'>float64</div><div class='xr-var-preview xr-preview'>-0.1 -0.1 -0.1 -0.1 ... 9.9 9.9 9.9</div><input id='attrs-b7ca9c98-28aa-444f-b326-d16ecfc970d9' class='xr-var-attrs-in' type='checkbox' ><label for='attrs-b7ca9c98-28aa-444f-b326-d16ecfc970d9' title='Show/Hide attributes'><svg class='icon xr-icon-file-text2'><use xlink:href='#icon-file-text2'></use></svg></label><input id='data-b2af0aee-9493-4364-a69e-b55df442a988' class='xr-var-data-in' type='checkbox'><label for='data-b2af0aee-9493-4364-a69e-b55df442a988' title='Show/Hide data repr'><svg class='icon xr-icon-database'><use xlink:href='#icon-database'></use></svg></label><div class='xr-var-attrs'><dl class='xr-attrs'><dt><span>long_name :</span></dt><dd>longitude</dd><dt><span>units :</span></dt><dd>degrees_east</dd><dt><span>standard_name :</span></dt><dd>longitude</dd></dl></div><div class='xr-var-data'><pre>array([-0.1, -0.1, -0.1, ...,  9.9,  9.9,  9.9])</pre></div></li><li class='xr-var-item'><div class='xr-var-name'><span>lat</span></div><div class='xr-var-dims'>(stations)</div><div class='xr-var-dtype'>float64</div><div class='xr-var-preview xr-preview'>36.1 39.3 49.7 ... 58.7 64.5 64.7</div><input id='attrs-ecadbff7-17ee-4448-af11-bd6c76b70b5d' class='xr-var-attrs-in' type='checkbox' ><label for='attrs-ecadbff7-17ee-4448-af11-bd6c76b70b5d' title='Show/Hide attributes'><svg class='icon xr-icon-file-text2'><use xlink:href='#icon-file-text2'></use></svg></label><input id='data-dba11ae9-2532-4dc6-ad0b-4c9d63e8285e' class='xr-var-data-in' type='checkbox'><label for='data-dba11ae9-2532-4dc6-ad0b-4c9d63e8285e' title='Show/Hide data repr'><svg class='icon xr-icon-database'><use xlink:href='#icon-database'></use></svg></label><div class='xr-var-attrs'><dl class='xr-attrs'><dt><span>long_name :</span></dt><dd>latitude</dd><dt><span>units :</span></dt><dd>degrees_north</dd><dt><span>standard_name :</span></dt><dd>latitude</dd></dl></div><div class='xr-var-data'><pre>array([36.1, 39.3, 49.7, ..., 58.7, 64.5, 64.7])</pre></div></li><li class='xr-var-item'><div class='xr-var-name'><span class='xr-has-index'>rp</span></div><div class='xr-var-dims'>(rp)</div><div class='xr-var-dtype'>float32</div><div class='xr-var-preview xr-preview'>5.0 10.0 20.0 ... 200.0 500.0 1e+03</div><input id='attrs-791faf43-1f09-47db-a9fd-cbe4f7731800' class='xr-var-attrs-in' type='checkbox' ><label for='attrs-791faf43-1f09-47db-a9fd-cbe4f7731800' title='Show/Hide attributes'><svg class='icon xr-icon-file-text2'><use xlink:href='#icon-file-text2'></use></svg></label><input id='data-fcce723c-573a-4300-83e7-82904a2d0e8e' class='xr-var-data-in' type='checkbox'><label for='data-fcce723c-573a-4300-83e7-82904a2d0e8e' title='Show/Hide data repr'><svg class='icon xr-icon-database'><use xlink:href='#icon-database'></use></svg></label><div class='xr-var-attrs'><dl class='xr-attrs'><dt><span>long_name :</span></dt><dd>return period</dd><dt><span>units :</span></dt><dd>yr</dd><dt><span>Contents :</span></dt><dd>The RPs have been estimated following the Peak Over Threshold Method (see reference below)</dd></dl></div><div class='xr-var-data'><pre>array([   5.,   10.,   20.,   50.,  100.,  200.,  500., 1000.], dtype=float32)</pre></div></li><li class='xr-var-item'><div class='xr-var-name'><span>scenarios</span></div><div class='xr-var-dims'>(nscenarios)</div><div class='xr-var-dtype'>|S10</div><div class='xr-var-preview xr-preview'>b&#x27;Historical&#x27; b&#x27;RCP45&#x27; b&#x27;RCP85&#x27;</div><input id='attrs-201285f9-700a-4afd-946f-d140f117e63d' class='xr-var-attrs-in' type='checkbox' ><label for='attrs-201285f9-700a-4afd-946f-d140f117e63d' title='Show/Hide attributes'><svg class='icon xr-icon-file-text2'><use xlink:href='#icon-file-text2'></use></svg></label><input id='data-ad862d97-7c89-4fe9-af9d-c92cbca559f6' class='xr-var-data-in' type='checkbox'><label for='data-ad862d97-7c89-4fe9-af9d-c92cbca559f6' title='Show/Hide data repr'><svg class='icon xr-icon-database'><use xlink:href='#icon-database'></use></svg></label><div class='xr-var-attrs'><dl class='xr-attrs'><dt><span>long_name :</span></dt><dd>climate scenarios</dd></dl></div><div class='xr-var-data'><pre>array([b&#x27;Historical&#x27;, b&#x27;RCP45&#x27;, b&#x27;RCP85&#x27;], dtype=&#x27;|S10&#x27;)</pre></div></li></ul></div></li><li class='xr-section-item'><input id='section-cb32b0f2-c761-4110-a7df-523f7c0329a3' class='xr-section-summary-in' type='checkbox'  checked><label for='section-cb32b0f2-c761-4110-a7df-523f7c0329a3' class='xr-section-summary' >Data variables: <span>(1)</span></label><div class='xr-section-inline-details'></div><div class='xr-section-details'><ul class='xr-var-list'><li class='xr-var-item'><div class='xr-var-name'><span>ssl</span></div><div class='xr-var-dims'>(nscenarios, stations, rp)</div><div class='xr-var-dtype'>float64</div><div class='xr-var-preview xr-preview'>1.024 1.051 1.078 ... 2.712 2.805</div><input id='attrs-8ef54ac0-c56c-41ba-bc36-ac07d55fc84d' class='xr-var-attrs-in' type='checkbox' ><label for='attrs-8ef54ac0-c56c-41ba-bc36-ac07d55fc84d' title='Show/Hide attributes'><svg class='icon xr-icon-file-text2'><use xlink:href='#icon-file-text2'></use></svg></label><input id='data-e2fb3274-f4d4-46ff-ad21-0e3963bfd2b8' class='xr-var-data-in' type='checkbox'><label for='data-e2fb3274-f4d4-46ff-ad21-0e3963bfd2b8' title='Show/Hide data repr'><svg class='icon xr-icon-database'><use xlink:href='#icon-database'></use></svg></label><div class='xr-var-attrs'><dl class='xr-attrs'><dt><span>long_name :</span></dt><dd>storm surge level</dd><dt><span>units :</span></dt><dd>m</dd></dl></div><div class='xr-var-data'><pre>array([[[1.02407, 1.0509 , 1.0778 , ..., 1.16939, 1.20762, 1.23753],\n",
       "        [1.24336, 1.28508, 1.32805, ..., 1.4857 , 1.55811, 1.61812],\n",
       "        [1.95   , 2.08892, 2.20901, ..., 2.51257, 2.60544, 2.66859],\n",
       "        ...,\n",
       "        [2.05624, 2.20418, 2.33512, ..., 2.67975, 2.78853, 2.86284],\n",
       "        [1.86446, 2.02245, 2.16554, ..., 2.55166, 2.67389, 2.7566 ],\n",
       "        [1.87579, 2.02328, 2.1549 , ..., 2.49943, 2.60478, 2.67487]],\n",
       "\n",
       "       [[1.03165, 1.05851, 1.08478, ..., 1.16899, 1.20167, 1.22622],\n",
       "        [1.23326, 1.27602, 1.32215, ..., 1.50603, 1.59589, 1.67189],\n",
       "        [1.97503, 2.12185, 2.25063, ..., 2.58303, 2.68587, 2.75567],\n",
       "        ...,\n",
       "        [2.11645, 2.25912, 2.38164, ..., 2.68137, 2.7671 , 2.82265],\n",
       "        [1.91546, 2.07808, 2.22304, ..., 2.60134, 2.71649, 2.79291],\n",
       "        [1.9071 , 2.05876, 2.19542, ..., 2.56052, 2.67487, 2.75187]],\n",
       "\n",
       "       [[1.03412, 1.06436, 1.09628, ..., 1.21896, 1.27761, 1.32699],\n",
       "        [1.22974, 1.2753 , 1.32831, ..., 1.5973 , 1.77785, 1.96619],\n",
       "        [1.985  , 2.12493, 2.24118, ..., 2.50843, 2.57984, 2.62478],\n",
       "        ...,\n",
       "        [2.10311, 2.24885, 2.37682, ..., 2.70514, 2.80472, 2.87116],\n",
       "        [1.92381, 2.08563, 2.23729, ..., 2.67873, 2.83175, 2.94024],\n",
       "        [1.89731, 2.04812, 2.18738, ..., 2.58059, 2.7125 , 2.80462]]])</pre></div></li></ul></div></li><li class='xr-section-item'><input id='section-528829e6-e519-4e62-8abc-9d82be97c843' class='xr-section-summary-in' type='checkbox'  ><label for='section-528829e6-e519-4e62-8abc-9d82be97c843' class='xr-section-summary' >Attributes: <span>(12)</span></label><div class='xr-section-inline-details'></div><div class='xr-section-details'><dl class='xr-attrs'><dt><span>title :</span></dt><dd>European extreme storm surge level</dd><dt><span>Institution :</span></dt><dd>Joint European Research Center, Institute of Environment and Sustainability, Via Enrico Fermi 2749, I-21027-Ispra</dd><dt><span>reference :</span></dt><dd>Vousdoukas MI, Voukouvalas E, Annunziato A, Giardino A, Feyen L. Projections of extreme storm surge levels along Europe. Clim Dyn. February 2016. doi:10.1007/s00382-016-3019-5</dd><dt><span>email :</span></dt><dd>michail.vousdoukas@ec.europa.eu</dd><dt><span>version :</span></dt><dd>1.0</dd><dt><span>terms_for_use :</span></dt><dd>European Union, 1995-2015.\n",
       "Reuse is authorised, provided the source is acknowledged. The reuse policy of the European Commission is implemented by a Decision of 12 December 2011.</dd><dt><span>disclaimer :</span></dt><dd>Unless the following would not be permitted or valid under applicable law, the following applies to the data/information provided by the JRC:\n",
       "\n",
       "1. The JRC data are provided &quot;as is&quot; and &quot;as available&quot; without warranty of any kind, either express or implied, including, but not limited to, any implied warranty against infringement of third parties&#x27; property rights, or merchantability, integration, absence of latent or other defects, satisfactory quality and fitness for a particular purpose. The JRC data do not constitute professional or legal advice (if you need specific advice, you should always consult a suitably qualified professional).\n",
       "2. The JRC has no obligation to provide technical support or remedies for the data. The JRC does not represent or warrant that the data will be error free or uninterrupted, or that all non-conformities can or will be corrected, or that any data are accurate or complete, or that they are of a satisfactory technical or scientific quality.\n",
       "3. The JRC or as the case may be the European Commission shall not be held liable for any direct or indirect, incidental, consequential or other damages, including but not limited to the loss of data, loss of profits, or any other financial loss arising from the use of the JRC data, or inability to use them, even if the JRC is notified of the possibility of such damages.</dd><dt><span>Project_Name :</span></dt><dd>Prototype of a first Global Integrated Coastal Impact-based Flood Alert and Risk Assessment Tool</dd><dt><span>Project_Acronym :</span></dt><dd>CoastAlRisk</dd><dt><span>Conventions :</span></dt><dd>CF-1.8</dd><dt><span>Starting_date :</span></dt><dd>01-Dec-1969</dd><dt><span>End_date :</span></dt><dd>30-Nov-2004 21:00:00</dd></dl></div></li></ul></div></div>"
      ],
      "text/plain": [
       "<xarray.Dataset>\n",
       "Dimensions:    (stations: 2242, nscenarios: 3, rp: 8)\n",
       "Coordinates:\n",
       "    lon        (stations) float64 -0.1 -0.1 -0.1 -0.1 -0.3 ... 9.9 9.9 9.9 9.9\n",
       "    lat        (stations) float64 36.1 39.3 49.7 54.3 ... 57.7 58.7 64.5 64.7\n",
       "  * rp         (rp) float32 5.0 10.0 20.0 50.0 100.0 200.0 500.0 1e+03\n",
       "    scenarios  (nscenarios) |S10 b'Historical' b'RCP45' b'RCP85'\n",
       "Dimensions without coordinates: stations, nscenarios\n",
       "Data variables:\n",
       "    ssl        (nscenarios, stations, rp) float64 1.024 1.051 ... 2.712 2.805\n",
       "Attributes:\n",
       "    title:            European extreme storm surge level\n",
       "    Institution:      Joint European Research Center, Institute of Environmen...\n",
       "    reference:        Vousdoukas MI, Voukouvalas E, Annunziato A, Giardino A,...\n",
       "    email:            michail.vousdoukas@ec.europa.eu\n",
       "    version:          1.0\n",
       "    terms_for_use:    European Union, 1995-2015.\\nReuse is authorised, provid...\n",
       "    disclaimer:       Unless the following would not be permitted or valid un...\n",
       "    Project_Name:     Prototype of a first Global Integrated Coastal Impact-b...\n",
       "    Project_Acronym:  CoastAlRisk\n",
       "    Conventions:      CF-1.8\n",
       "    Starting_date:    01-Dec-1969\n",
       "    End_date:         30-Nov-2004 21:00:00"
      ]
     },
     "execution_count": 15,
     "metadata": {},
     "output_type": "execute_result"
    },
    {
     "data": {
      "application/javascript": "\n            setTimeout(function() {\n                var nbb_cell_id = 15;\n                var nbb_unformatted_code = \"# check the xarray dataset, best practice is to have as many as possible bold dimensions (dimension == coordinate name).\\n# in this way, the Front-End can access the variable directly without having to index the variable first\\n\\ndataset\\n# dataset[\\\"scenarios\\\"]\";\n                var nbb_formatted_code = \"# check the xarray dataset, best practice is to have as many as possible bold dimensions (dimension == coordinate name).\\n# in this way, the Front-End can access the variable directly without having to index the variable first\\n\\ndataset\\n# dataset[\\\"scenarios\\\"]\";\n                var nbb_cells = Jupyter.notebook.get_cells();\n                for (var i = 0; i < nbb_cells.length; ++i) {\n                    if (nbb_cells[i].input_prompt_number == nbb_cell_id) {\n                        if (nbb_cells[i].get_text() == nbb_unformatted_code) {\n                             nbb_cells[i].set_text(nbb_formatted_code);\n                        }\n                        break;\n                    }\n                }\n            }, 500);\n            ",
      "text/plain": [
       "<IPython.core.display.Javascript object>"
      ]
     },
     "metadata": {},
     "output_type": "display_data"
    }
   ],
   "source": [
    "# check the xarray dataset, best practice is to have as many as possible bold dimensions (dimension == coordinate name).\n",
    "# in this way, the Front-End can access the variable directly without having to index the variable first\n",
    "\n",
    "dataset\n",
    "# dataset[\"scenarios\"]"
   ]
  },
  {
   "cell_type": "code",
   "execution_count": 16,
   "id": "ce9f59c5",
   "metadata": {},
   "outputs": [
    {
     "data": {
      "application/javascript": "\n            setTimeout(function() {\n                var nbb_cell_id = 16;\n                var nbb_unformatted_code = \"# save new .nc files\\ndataset_historical.to_netcdf(path=str(dataset_historical_path).replace(\\\".nc\\\", \\\"_CF.nc\\\"))\\ndataset_45rcp.to_netcdf(path=str(dataset_rcp45_path).replace(\\\".nc\\\", \\\"_CF.nc\\\"))\\ndataset_85rcp.to_netcdf(path=str(dataset_rcp85_path).replace(\\\".nc\\\", \\\"_CF.nc\\\"))\\ndataset.to_netcdf(path=dataset_dir.joinpath(dataset_out_file + \\\"_CF.nc\\\"))\";\n                var nbb_formatted_code = \"# save new .nc files\\ndataset_historical.to_netcdf(path=str(dataset_historical_path).replace(\\\".nc\\\", \\\"_CF.nc\\\"))\\ndataset_45rcp.to_netcdf(path=str(dataset_rcp45_path).replace(\\\".nc\\\", \\\"_CF.nc\\\"))\\ndataset_85rcp.to_netcdf(path=str(dataset_rcp85_path).replace(\\\".nc\\\", \\\"_CF.nc\\\"))\\ndataset.to_netcdf(path=dataset_dir.joinpath(dataset_out_file + \\\"_CF.nc\\\"))\";\n                var nbb_cells = Jupyter.notebook.get_cells();\n                for (var i = 0; i < nbb_cells.length; ++i) {\n                    if (nbb_cells[i].input_prompt_number == nbb_cell_id) {\n                        if (nbb_cells[i].get_text() == nbb_unformatted_code) {\n                             nbb_cells[i].set_text(nbb_formatted_code);\n                        }\n                        break;\n                    }\n                }\n            }, 500);\n            ",
      "text/plain": [
       "<IPython.core.display.Javascript object>"
      ]
     },
     "metadata": {},
     "output_type": "display_data"
    }
   ],
   "source": [
    "# save new .nc files\n",
    "dataset_historical.to_netcdf(path=str(dataset_historical_path).replace(\".nc\", \"_CF.nc\"))\n",
    "dataset_45rcp.to_netcdf(path=str(dataset_rcp45_path).replace(\".nc\", \"_CF.nc\"))\n",
    "dataset_85rcp.to_netcdf(path=str(dataset_rcp85_path).replace(\".nc\", \"_CF.nc\"))\n",
    "dataset.to_netcdf(path=dataset_dir.joinpath(dataset_out_file + \"_CF.nc\"))"
   ]
  },
  {
   "cell_type": "markdown",
   "id": "bb6b7ed5",
   "metadata": {},
   "source": [
    "### Check CF compliancy altered NetCDF files"
   ]
  },
  {
   "cell_type": "code",
   "execution_count": 17,
   "id": "ec2128ef",
   "metadata": {},
   "outputs": [
    {
     "data": {
      "application/javascript": "\n            setTimeout(function() {\n                var nbb_cell_id = 17;\n                var nbb_unformatted_code = \"%%capture cap --no-stderr\\n# check altered CF compliancy\\n\\ncheck_compliancy(testfile=str(dataset_historical_path).replace(\\\".nc\\\", \\\"_CF.nc\\\"), working_dir=CF_dir)\";\n                var nbb_formatted_code = \"%%capture cap --no-stderr\\n# check altered CF compliancy\\n\\ncheck_compliancy(testfile=str(dataset_historical_path).replace(\\\".nc\\\", \\\"_CF.nc\\\"), working_dir=CF_dir)\";\n                var nbb_cells = Jupyter.notebook.get_cells();\n                for (var i = 0; i < nbb_cells.length; ++i) {\n                    if (nbb_cells[i].input_prompt_number == nbb_cell_id) {\n                        if (nbb_cells[i].get_text() == nbb_unformatted_code) {\n                             nbb_cells[i].set_text(nbb_formatted_code);\n                        }\n                        break;\n                    }\n                }\n            }, 500);\n            ",
      "text/plain": [
       "<IPython.core.display.Javascript object>"
      ]
     },
     "metadata": {},
     "output_type": "display_data"
    }
   ],
   "source": [
    "%%capture cap --no-stderr\n",
    "# check altered CF compliancy\n",
    "\n",
    "check_compliancy(testfile=str(dataset_historical_path).replace(\".nc\", \"_CF.nc\"), working_dir=CF_dir)"
   ]
  },
  {
   "cell_type": "code",
   "execution_count": 18,
   "id": "d915cc04",
   "metadata": {},
   "outputs": [
    {
     "name": "stdout",
     "output_type": "stream",
     "text": [
      "{'P:\\\\11205479-coclico\\\\data\\\\01_storm_surge_jrc\\\\CoastAlRisk_Europe_EESSL_Historical_CF.nc': {'warnings': '0', 'errors': '0'}}\n"
     ]
    },
    {
     "data": {
      "application/javascript": "\n            setTimeout(function() {\n                var nbb_cell_id = 18;\n                var nbb_unformatted_code = \"# save altered CF compliancy\\nsave_compliancy(\\n    cap,\\n    testfile=str(dataset_historical_path).replace(\\\".nc\\\", \\\"_CF.nc\\\"),\\n    working_dir=CF_dir,\\n)\";\n                var nbb_formatted_code = \"# save altered CF compliancy\\nsave_compliancy(\\n    cap,\\n    testfile=str(dataset_historical_path).replace(\\\".nc\\\", \\\"_CF.nc\\\"),\\n    working_dir=CF_dir,\\n)\";\n                var nbb_cells = Jupyter.notebook.get_cells();\n                for (var i = 0; i < nbb_cells.length; ++i) {\n                    if (nbb_cells[i].input_prompt_number == nbb_cell_id) {\n                        if (nbb_cells[i].get_text() == nbb_unformatted_code) {\n                             nbb_cells[i].set_text(nbb_formatted_code);\n                        }\n                        break;\n                    }\n                }\n            }, 500);\n            ",
      "text/plain": [
       "<IPython.core.display.Javascript object>"
      ]
     },
     "metadata": {},
     "output_type": "display_data"
    }
   ],
   "source": [
    "# save altered CF compliancy\n",
    "save_compliancy(\n",
    "    cap,\n",
    "    testfile=str(dataset_historical_path).replace(\".nc\", \"_CF.nc\"),\n",
    "    working_dir=CF_dir,\n",
    ")"
   ]
  },
  {
   "cell_type": "code",
   "execution_count": 19,
   "id": "d5dd0614",
   "metadata": {},
   "outputs": [
    {
     "data": {
      "application/javascript": "\n            setTimeout(function() {\n                var nbb_cell_id = 19;\n                var nbb_unformatted_code = \"%%capture cap --no-stderr\\n# check altered CF compliancy\\n\\ncheck_compliancy(testfile=str(dataset_rcp45_path).replace(\\\".nc\\\", \\\"_CF.nc\\\"), working_dir=CF_dir)\";\n                var nbb_formatted_code = \"%%capture cap --no-stderr\\n# check altered CF compliancy\\n\\ncheck_compliancy(testfile=str(dataset_rcp45_path).replace(\\\".nc\\\", \\\"_CF.nc\\\"), working_dir=CF_dir)\";\n                var nbb_cells = Jupyter.notebook.get_cells();\n                for (var i = 0; i < nbb_cells.length; ++i) {\n                    if (nbb_cells[i].input_prompt_number == nbb_cell_id) {\n                        if (nbb_cells[i].get_text() == nbb_unformatted_code) {\n                             nbb_cells[i].set_text(nbb_formatted_code);\n                        }\n                        break;\n                    }\n                }\n            }, 500);\n            ",
      "text/plain": [
       "<IPython.core.display.Javascript object>"
      ]
     },
     "metadata": {},
     "output_type": "display_data"
    }
   ],
   "source": [
    "%%capture cap --no-stderr\n",
    "# check altered CF compliancy\n",
    "\n",
    "check_compliancy(testfile=str(dataset_rcp45_path).replace(\".nc\", \"_CF.nc\"), working_dir=CF_dir)"
   ]
  },
  {
   "cell_type": "code",
   "execution_count": 20,
   "id": "185059c8",
   "metadata": {},
   "outputs": [
    {
     "name": "stdout",
     "output_type": "stream",
     "text": [
      "{'P:\\\\11205479-coclico\\\\data\\\\01_storm_surge_jrc\\\\CoastAlRisk_Europe_EESSL_RCP45_CF.nc': {'warnings': '0', 'errors': '0'}}\n"
     ]
    },
    {
     "data": {
      "application/javascript": "\n            setTimeout(function() {\n                var nbb_cell_id = 20;\n                var nbb_unformatted_code = \"# save altered CF compliancy\\nsave_compliancy(\\n    cap, testfile=str(dataset_rcp45_path).replace(\\\".nc\\\", \\\"_CF.nc\\\"), working_dir=CF_dir,\\n)\";\n                var nbb_formatted_code = \"# save altered CF compliancy\\nsave_compliancy(\\n    cap, testfile=str(dataset_rcp45_path).replace(\\\".nc\\\", \\\"_CF.nc\\\"), working_dir=CF_dir,\\n)\";\n                var nbb_cells = Jupyter.notebook.get_cells();\n                for (var i = 0; i < nbb_cells.length; ++i) {\n                    if (nbb_cells[i].input_prompt_number == nbb_cell_id) {\n                        if (nbb_cells[i].get_text() == nbb_unformatted_code) {\n                             nbb_cells[i].set_text(nbb_formatted_code);\n                        }\n                        break;\n                    }\n                }\n            }, 500);\n            ",
      "text/plain": [
       "<IPython.core.display.Javascript object>"
      ]
     },
     "metadata": {},
     "output_type": "display_data"
    }
   ],
   "source": [
    "# save altered CF compliancy\n",
    "save_compliancy(\n",
    "    cap, testfile=str(dataset_rcp45_path).replace(\".nc\", \"_CF.nc\"), working_dir=CF_dir,\n",
    ")"
   ]
  },
  {
   "cell_type": "code",
   "execution_count": 21,
   "id": "c659d335",
   "metadata": {},
   "outputs": [
    {
     "data": {
      "application/javascript": "\n            setTimeout(function() {\n                var nbb_cell_id = 21;\n                var nbb_unformatted_code = \"%%capture cap --no-stderr\\n# check altered CF compliancy\\n\\ncheck_compliancy(testfile=str(dataset_rcp85_path).replace(\\\".nc\\\", \\\"_CF.nc\\\"), working_dir=CF_dir)\";\n                var nbb_formatted_code = \"%%capture cap --no-stderr\\n# check altered CF compliancy\\n\\ncheck_compliancy(testfile=str(dataset_rcp85_path).replace(\\\".nc\\\", \\\"_CF.nc\\\"), working_dir=CF_dir)\";\n                var nbb_cells = Jupyter.notebook.get_cells();\n                for (var i = 0; i < nbb_cells.length; ++i) {\n                    if (nbb_cells[i].input_prompt_number == nbb_cell_id) {\n                        if (nbb_cells[i].get_text() == nbb_unformatted_code) {\n                             nbb_cells[i].set_text(nbb_formatted_code);\n                        }\n                        break;\n                    }\n                }\n            }, 500);\n            ",
      "text/plain": [
       "<IPython.core.display.Javascript object>"
      ]
     },
     "metadata": {},
     "output_type": "display_data"
    }
   ],
   "source": [
    "%%capture cap --no-stderr\n",
    "# check altered CF compliancy\n",
    "\n",
    "check_compliancy(testfile=str(dataset_rcp85_path).replace(\".nc\", \"_CF.nc\"), working_dir=CF_dir)"
   ]
  },
  {
   "cell_type": "code",
   "execution_count": 22,
   "id": "916365dc",
   "metadata": {},
   "outputs": [
    {
     "name": "stdout",
     "output_type": "stream",
     "text": [
      "{'P:\\\\11205479-coclico\\\\data\\\\01_storm_surge_jrc\\\\CoastAlRisk_Europe_EESSL_RCP85_CF.nc': {'warnings': '0', 'errors': '0'}}\n"
     ]
    },
    {
     "data": {
      "application/javascript": "\n            setTimeout(function() {\n                var nbb_cell_id = 22;\n                var nbb_unformatted_code = \"# save altered CF compliancy\\nsave_compliancy(\\n    cap, testfile=str(dataset_rcp85_path).replace(\\\".nc\\\", \\\"_CF.nc\\\"), working_dir=CF_dir,\\n)\";\n                var nbb_formatted_code = \"# save altered CF compliancy\\nsave_compliancy(\\n    cap, testfile=str(dataset_rcp85_path).replace(\\\".nc\\\", \\\"_CF.nc\\\"), working_dir=CF_dir,\\n)\";\n                var nbb_cells = Jupyter.notebook.get_cells();\n                for (var i = 0; i < nbb_cells.length; ++i) {\n                    if (nbb_cells[i].input_prompt_number == nbb_cell_id) {\n                        if (nbb_cells[i].get_text() == nbb_unformatted_code) {\n                             nbb_cells[i].set_text(nbb_formatted_code);\n                        }\n                        break;\n                    }\n                }\n            }, 500);\n            ",
      "text/plain": [
       "<IPython.core.display.Javascript object>"
      ]
     },
     "metadata": {},
     "output_type": "display_data"
    }
   ],
   "source": [
    "# save altered CF compliancy\n",
    "save_compliancy(\n",
    "    cap, testfile=str(dataset_rcp85_path).replace(\".nc\", \"_CF.nc\"), working_dir=CF_dir,\n",
    ")"
   ]
  },
  {
   "cell_type": "code",
   "execution_count": 23,
   "id": "c045560e",
   "metadata": {},
   "outputs": [
    {
     "data": {
      "application/javascript": "\n            setTimeout(function() {\n                var nbb_cell_id = 23;\n                var nbb_unformatted_code = \"%%capture cap --no-stderr\\n# check altered CF compliancy\\n\\ncheck_compliancy(testfile=dataset_dir.joinpath(dataset_out_file + \\\"_CF.nc\\\"), working_dir=CF_dir)\";\n                var nbb_formatted_code = \"%%capture cap --no-stderr\\n# check altered CF compliancy\\n\\ncheck_compliancy(testfile=dataset_dir.joinpath(dataset_out_file + \\\"_CF.nc\\\"), working_dir=CF_dir)\";\n                var nbb_cells = Jupyter.notebook.get_cells();\n                for (var i = 0; i < nbb_cells.length; ++i) {\n                    if (nbb_cells[i].input_prompt_number == nbb_cell_id) {\n                        if (nbb_cells[i].get_text() == nbb_unformatted_code) {\n                             nbb_cells[i].set_text(nbb_formatted_code);\n                        }\n                        break;\n                    }\n                }\n            }, 500);\n            ",
      "text/plain": [
       "<IPython.core.display.Javascript object>"
      ]
     },
     "metadata": {},
     "output_type": "display_data"
    }
   ],
   "source": [
    "%%capture cap --no-stderr\n",
    "# check altered CF compliancy\n",
    "\n",
    "check_compliancy(testfile=dataset_dir.joinpath(dataset_out_file + \"_CF.nc\"), working_dir=CF_dir)"
   ]
  },
  {
   "cell_type": "code",
   "execution_count": 24,
   "id": "68a9450f",
   "metadata": {},
   "outputs": [
    {
     "name": "stdout",
     "output_type": "stream",
     "text": [
      "{'P:\\\\11205479-coclico\\\\data\\\\01_storm_surge_jrc\\\\CoastAlRisk_Europe_EESSL_CF.nc': {'warnings': '0', 'errors': '0'}}\n"
     ]
    },
    {
     "data": {
      "application/javascript": "\n            setTimeout(function() {\n                var nbb_cell_id = 24;\n                var nbb_unformatted_code = \"# save altered CF compliancy\\nsave_compliancy(\\n    cap, testfile=dataset_dir.joinpath(dataset_out_file + \\\"_CF.nc\\\"), working_dir=CF_dir,\\n)\";\n                var nbb_formatted_code = \"# save altered CF compliancy\\nsave_compliancy(\\n    cap, testfile=dataset_dir.joinpath(dataset_out_file + \\\"_CF.nc\\\"), working_dir=CF_dir,\\n)\";\n                var nbb_cells = Jupyter.notebook.get_cells();\n                for (var i = 0; i < nbb_cells.length; ++i) {\n                    if (nbb_cells[i].input_prompt_number == nbb_cell_id) {\n                        if (nbb_cells[i].get_text() == nbb_unformatted_code) {\n                             nbb_cells[i].set_text(nbb_formatted_code);\n                        }\n                        break;\n                    }\n                }\n            }, 500);\n            ",
      "text/plain": [
       "<IPython.core.display.Javascript object>"
      ]
     },
     "metadata": {},
     "output_type": "display_data"
    }
   ],
   "source": [
    "# save altered CF compliancy\n",
    "save_compliancy(\n",
    "    cap, testfile=dataset_dir.joinpath(dataset_out_file + \"_CF.nc\"), working_dir=CF_dir,\n",
    ")"
   ]
  },
  {
   "cell_type": "markdown",
   "id": "8155e887",
   "metadata": {},
   "source": [
    "### write data to Zarr files"
   ]
  },
  {
   "cell_type": "code",
   "execution_count": 25,
   "id": "46d91d1e",
   "metadata": {},
   "outputs": [
    {
     "data": {
      "text/plain": [
       "<xarray.backends.zarr.ZarrStore at 0x1d4f86c7c10>"
      ]
     },
     "execution_count": 25,
     "metadata": {},
     "output_type": "execute_result"
    },
    {
     "data": {
      "application/javascript": "\n            setTimeout(function() {\n                var nbb_cell_id = 25;\n                var nbb_unformatted_code = \"# export to zarr in write mode (to overwrite if exists)\\ndataset.to_zarr(dataset_dir.joinpath(\\\"%s.zarr\\\" % dataset_out_file), mode=\\\"w\\\")\";\n                var nbb_formatted_code = \"# export to zarr in write mode (to overwrite if exists)\\ndataset.to_zarr(dataset_dir.joinpath(\\\"%s.zarr\\\" % dataset_out_file), mode=\\\"w\\\")\";\n                var nbb_cells = Jupyter.notebook.get_cells();\n                for (var i = 0; i < nbb_cells.length; ++i) {\n                    if (nbb_cells[i].input_prompt_number == nbb_cell_id) {\n                        if (nbb_cells[i].get_text() == nbb_unformatted_code) {\n                             nbb_cells[i].set_text(nbb_formatted_code);\n                        }\n                        break;\n                    }\n                }\n            }, 500);\n            ",
      "text/plain": [
       "<IPython.core.display.Javascript object>"
      ]
     },
     "metadata": {},
     "output_type": "display_data"
    }
   ],
   "source": [
    "# export to zarr in write mode (to overwrite if exists)\n",
    "dataset.to_zarr(dataset_dir.joinpath(\"%s.zarr\" % dataset_out_file), mode=\"w\")"
   ]
  },
  {
   "cell_type": "code",
   "execution_count": null,
   "id": "88359b96",
   "metadata": {},
   "outputs": [],
   "source": []
  }
 ],
 "metadata": {
  "kernelspec": {
   "display_name": "Python 3.10.5",
   "language": "python",
   "name": "python3"
  },
  "language_info": {
   "codemirror_mode": {
    "name": "ipython",
    "version": 3
   },
   "file_extension": ".py",
   "mimetype": "text/x-python",
   "name": "python",
   "nbconvert_exporter": "python",
   "pygments_lexer": "ipython3",
   "version": "3.10.5"
  },
  "vscode": {
   "interpreter": {
    "hash": "4e277740310477740a11c44b0a05fbd165bd1cbdc6759834ddf3139937044c8d"
   }
  }
 },
 "nbformat": 4,
 "nbformat_minor": 5
}
