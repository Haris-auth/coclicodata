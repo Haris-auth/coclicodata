{
 "cells": [
  {
   "cell_type": "markdown",
   "id": "c91b40e6",
   "metadata": {},
   "source": [
    "# Shoreline Change\n",
    "Notebook environment to migrate netcdf files to CF compliant zarr"
   ]
  },
  {
   "cell_type": "code",
   "execution_count": 1,
   "id": "f1aef40e",
   "metadata": {},
   "outputs": [
    {
     "data": {
      "application/javascript": [
       "\n",
       "            setTimeout(function() {\n",
       "                var nbb_cell_id = 1;\n",
       "                var nbb_unformatted_code = \"# Optional; code formatter, installed as jupyter lab extension\\n#%load_ext lab_black\\n# Optional; code formatter, installed as jupyter notebook extension\\n%load_ext nb_black\";\n",
       "                var nbb_formatted_code = \"# Optional; code formatter, installed as jupyter lab extension\\n#%load_ext lab_black\\n# Optional; code formatter, installed as jupyter notebook extension\\n%load_ext nb_black\";\n",
       "                var nbb_cells = Jupyter.notebook.get_cells();\n",
       "                for (var i = 0; i < nbb_cells.length; ++i) {\n",
       "                    if (nbb_cells[i].input_prompt_number == nbb_cell_id) {\n",
       "                        if (nbb_cells[i].get_text() == nbb_unformatted_code) {\n",
       "                             nbb_cells[i].set_text(nbb_formatted_code);\n",
       "                        }\n",
       "                        break;\n",
       "                    }\n",
       "                }\n",
       "            }, 500);\n",
       "            "
      ],
      "text/plain": [
       "<IPython.core.display.Javascript object>"
      ]
     },
     "metadata": {},
     "output_type": "display_data"
    }
   ],
   "source": [
    "# Optional; code formatter, installed as jupyter lab extension\n",
    "#%load_ext lab_black\n",
    "# Optional; code formatter, installed as jupyter notebook extension\n",
    "%load_ext nb_black"
   ]
  },
  {
   "cell_type": "markdown",
   "id": "f3f67518",
   "metadata": {},
   "source": [
    "### Configure OS independent paths"
   ]
  },
  {
   "cell_type": "code",
   "execution_count": 2,
   "id": "77b089ea",
   "metadata": {},
   "outputs": [
    {
     "name": "stderr",
     "output_type": "stream",
     "text": [
      "C:\\Users\\kras\\Anaconda3\\envs\\bathymetry_env\\lib\\site-packages\\xarray\\backends\\cfgrib_.py:27: UserWarning: Failed to load cfgrib - most likely there is a problem accessing the ecCodes library. Try `import cfgrib` to get the full error message\n",
      "  warnings.warn(\n"
     ]
    },
    {
     "data": {
      "application/javascript": [
       "\n",
       "            setTimeout(function() {\n",
       "                var nbb_cell_id = 2;\n",
       "                var nbb_unformatted_code = \"# Import standard packages\\nimport os\\nimport pathlib\\nimport sys\\nimport numpy as np\\nimport geopandas as gpd\\nimport pandas as pd\\nimport matplotlib.pyplot as plt\\nimport xarray as xr\\nimport netCDF4 as nc\\nimport numpy.ma as ma\\n\\n# Make root directories importable by appending root to path\\ncwd = pathlib.Path().resolve()\\nsys.path.append(os.path.dirname(cwd))\\n\\n# Get root paths\\nhome = pathlib.Path().home()\\nroot = home.root\\n\\n# Import custom functionality\\nfrom etl import p_drive\\nfrom etl.CF_compliancy_checker import check_compliancy, save_compliancy\\n\\n# Define (local and) remote drives\\ncoclico_data_dir = p_drive.joinpath(\\\"11205479-coclico\\\", \\\"data\\\")\\n\\n# Workaround to the Windows OS (10) udunits error after installation of cfchecker: https://github.com/SciTools/iris/issues/404\\nos.environ[\\\"UDUNITS2_XML_PATH\\\"] = str(\\n    home.joinpath(  # change to the udunits2.xml file dir in your Python installation\\n        r\\\"Anaconda3\\\\pkgs\\\\udunits2-2.2.28-h892ecd3_0\\\\Library\\\\share\\\\udunits\\\\udunits2.xml\\\"\\n    )\\n)\";\n",
       "                var nbb_formatted_code = \"# Import standard packages\\nimport os\\nimport pathlib\\nimport sys\\nimport numpy as np\\nimport geopandas as gpd\\nimport pandas as pd\\nimport matplotlib.pyplot as plt\\nimport xarray as xr\\nimport netCDF4 as nc\\nimport numpy.ma as ma\\n\\n# Make root directories importable by appending root to path\\ncwd = pathlib.Path().resolve()\\nsys.path.append(os.path.dirname(cwd))\\n\\n# Get root paths\\nhome = pathlib.Path().home()\\nroot = home.root\\n\\n# Import custom functionality\\nfrom etl import p_drive\\nfrom etl.CF_compliancy_checker import check_compliancy, save_compliancy\\n\\n# Define (local and) remote drives\\ncoclico_data_dir = p_drive.joinpath(\\\"11205479-coclico\\\", \\\"data\\\")\\n\\n# Workaround to the Windows OS (10) udunits error after installation of cfchecker: https://github.com/SciTools/iris/issues/404\\nos.environ[\\\"UDUNITS2_XML_PATH\\\"] = str(\\n    home.joinpath(  # change to the udunits2.xml file dir in your Python installation\\n        r\\\"Anaconda3\\\\pkgs\\\\udunits2-2.2.28-h892ecd3_0\\\\Library\\\\share\\\\udunits\\\\udunits2.xml\\\"\\n    )\\n)\";\n",
       "                var nbb_cells = Jupyter.notebook.get_cells();\n",
       "                for (var i = 0; i < nbb_cells.length; ++i) {\n",
       "                    if (nbb_cells[i].input_prompt_number == nbb_cell_id) {\n",
       "                        if (nbb_cells[i].get_text() == nbb_unformatted_code) {\n",
       "                             nbb_cells[i].set_text(nbb_formatted_code);\n",
       "                        }\n",
       "                        break;\n",
       "                    }\n",
       "                }\n",
       "            }, 500);\n",
       "            "
      ],
      "text/plain": [
       "<IPython.core.display.Javascript object>"
      ]
     },
     "metadata": {},
     "output_type": "display_data"
    }
   ],
   "source": [
    "# Import standard packages\n",
    "import os\n",
    "import pathlib\n",
    "import sys\n",
    "import numpy as np\n",
    "import geopandas as gpd\n",
    "import pandas as pd\n",
    "import matplotlib.pyplot as plt\n",
    "import xarray as xr\n",
    "import netCDF4 as nc\n",
    "import numpy.ma as ma\n",
    "\n",
    "# Make root directories importable by appending root to path\n",
    "cwd = pathlib.Path().resolve()\n",
    "sys.path.append(os.path.dirname(cwd))\n",
    "\n",
    "# Get root paths\n",
    "home = pathlib.Path().home()\n",
    "root = home.root\n",
    "\n",
    "# Import custom functionality\n",
    "from etl import p_drive\n",
    "from etl.CF_compliancy_checker import check_compliancy, save_compliancy\n",
    "\n",
    "# Define (local and) remote drives\n",
    "coclico_data_dir = p_drive.joinpath(\"11205479-coclico\", \"data\")\n",
    "\n",
    "# Workaround to the Windows OS (10) udunits error after installation of cfchecker: https://github.com/SciTools/iris/issues/404\n",
    "os.environ[\"UDUNITS2_XML_PATH\"] = str(\n",
    "    home.joinpath(  # change to the udunits2.xml file dir in your Python installation\n",
    "        r\"Anaconda3\\pkgs\\udunits2-2.2.28-h892ecd3_0\\Library\\share\\udunits\\udunits2.xml\"\n",
    "    )\n",
    ")"
   ]
  },
  {
   "cell_type": "code",
   "execution_count": 3,
   "id": "aef15534",
   "metadata": {},
   "outputs": [
    {
     "data": {
      "application/javascript": [
       "\n",
       "            setTimeout(function() {\n",
       "                var nbb_cell_id = 3;\n",
       "                var nbb_unformatted_code = \"# Project paths & files (manual input)\\nds_dir = coclico_data_dir.joinpath(\\\"05_erosion_projections_jrc\\\")\\nds_rcp45_2050path = ds_dir.joinpath(\\\"globalErosionProjections_Long_Term_Change_RCP45_2050.nc\\\")\\nds_rcp45_2100path = ds_dir.joinpath(\\\"globalErosionProjections_Long_Term_Change_RCP45_2100.nc\\\")\\nds_rcp85_2050path = ds_dir.joinpath(\\\"globalErosionProjections_Long_Term_Change_RCP85_2050.nc\\\")\\nds_rcp85_2100path = ds_dir.joinpath(\\\"globalErosionProjections_Long_Term_Change_RCP85_2100.nc\\\")\\nds_out_file = \\\"globalErosionProjections_Long_Term_Change\\\"\\nCF_dir = coclico_data_dir.joinpath(r\\\"CF\\\")  # directory to save output CF check files\";\n",
       "                var nbb_formatted_code = \"# Project paths & files (manual input)\\nds_dir = coclico_data_dir.joinpath(\\\"05_erosion_projections_jrc\\\")\\nds_rcp45_2050path = ds_dir.joinpath(\\n    \\\"globalErosionProjections_Long_Term_Change_RCP45_2050.nc\\\"\\n)\\nds_rcp45_2100path = ds_dir.joinpath(\\n    \\\"globalErosionProjections_Long_Term_Change_RCP45_2100.nc\\\"\\n)\\nds_rcp85_2050path = ds_dir.joinpath(\\n    \\\"globalErosionProjections_Long_Term_Change_RCP85_2050.nc\\\"\\n)\\nds_rcp85_2100path = ds_dir.joinpath(\\n    \\\"globalErosionProjections_Long_Term_Change_RCP85_2100.nc\\\"\\n)\\nds_out_file = \\\"globalErosionProjections_Long_Term_Change\\\"\\nCF_dir = coclico_data_dir.joinpath(r\\\"CF\\\")  # directory to save output CF check files\";\n",
       "                var nbb_cells = Jupyter.notebook.get_cells();\n",
       "                for (var i = 0; i < nbb_cells.length; ++i) {\n",
       "                    if (nbb_cells[i].input_prompt_number == nbb_cell_id) {\n",
       "                        if (nbb_cells[i].get_text() == nbb_unformatted_code) {\n",
       "                             nbb_cells[i].set_text(nbb_formatted_code);\n",
       "                        }\n",
       "                        break;\n",
       "                    }\n",
       "                }\n",
       "            }, 500);\n",
       "            "
      ],
      "text/plain": [
       "<IPython.core.display.Javascript object>"
      ]
     },
     "metadata": {},
     "output_type": "display_data"
    }
   ],
   "source": [
    "# Project paths & files (manual input)\n",
    "ds_dir = coclico_data_dir.joinpath(\"05_erosion_projections_jrc\")\n",
    "ds_rcp45_2050path = ds_dir.joinpath(\n",
    "    \"globalErosionProjections_Long_Term_Change_RCP45_2050.nc\"\n",
    ")\n",
    "ds_rcp45_2100path = ds_dir.joinpath(\n",
    "    \"globalErosionProjections_Long_Term_Change_RCP45_2100.nc\"\n",
    ")\n",
    "ds_rcp85_2050path = ds_dir.joinpath(\n",
    "    \"globalErosionProjections_Long_Term_Change_RCP85_2050.nc\"\n",
    ")\n",
    "ds_rcp85_2100path = ds_dir.joinpath(\n",
    "    \"globalErosionProjections_Long_Term_Change_RCP85_2100.nc\"\n",
    ")\n",
    "ds_out_file = \"globalErosionProjections_Long_Term_Change\"\n",
    "CF_dir = coclico_data_dir.joinpath(r\"CF\")  # directory to save output CF check files"
   ]
  },
  {
   "cell_type": "markdown",
   "id": "4d9d1359",
   "metadata": {},
   "source": [
    "### Check CF compliancy original NetCDF files"
   ]
  },
  {
   "cell_type": "code",
   "execution_count": 158,
   "id": "4e88de5e",
   "metadata": {},
   "outputs": [
    {
     "data": {
      "text/html": [
       "<div><svg style=\"position: absolute; width: 0; height: 0; overflow: hidden\">\n",
       "<defs>\n",
       "<symbol id=\"icon-database\" viewBox=\"0 0 32 32\">\n",
       "<path d=\"M16 0c-8.837 0-16 2.239-16 5v4c0 2.761 7.163 5 16 5s16-2.239 16-5v-4c0-2.761-7.163-5-16-5z\"></path>\n",
       "<path d=\"M16 17c-8.837 0-16-2.239-16-5v6c0 2.761 7.163 5 16 5s16-2.239 16-5v-6c0 2.761-7.163 5-16 5z\"></path>\n",
       "<path d=\"M16 26c-8.837 0-16-2.239-16-5v6c0 2.761 7.163 5 16 5s16-2.239 16-5v-6c0 2.761-7.163 5-16 5z\"></path>\n",
       "</symbol>\n",
       "<symbol id=\"icon-file-text2\" viewBox=\"0 0 32 32\">\n",
       "<path d=\"M28.681 7.159c-0.694-0.947-1.662-2.053-2.724-3.116s-2.169-2.030-3.116-2.724c-1.612-1.182-2.393-1.319-2.841-1.319h-15.5c-1.378 0-2.5 1.121-2.5 2.5v27c0 1.378 1.122 2.5 2.5 2.5h23c1.378 0 2.5-1.122 2.5-2.5v-19.5c0-0.448-0.137-1.23-1.319-2.841zM24.543 5.457c0.959 0.959 1.712 1.825 2.268 2.543h-4.811v-4.811c0.718 0.556 1.584 1.309 2.543 2.268zM28 29.5c0 0.271-0.229 0.5-0.5 0.5h-23c-0.271 0-0.5-0.229-0.5-0.5v-27c0-0.271 0.229-0.5 0.5-0.5 0 0 15.499-0 15.5 0v7c0 0.552 0.448 1 1 1h7v19.5z\"></path>\n",
       "<path d=\"M23 26h-14c-0.552 0-1-0.448-1-1s0.448-1 1-1h14c0.552 0 1 0.448 1 1s-0.448 1-1 1z\"></path>\n",
       "<path d=\"M23 22h-14c-0.552 0-1-0.448-1-1s0.448-1 1-1h14c0.552 0 1 0.448 1 1s-0.448 1-1 1z\"></path>\n",
       "<path d=\"M23 18h-14c-0.552 0-1-0.448-1-1s0.448-1 1-1h14c0.552 0 1 0.448 1 1s-0.448 1-1 1z\"></path>\n",
       "</symbol>\n",
       "</defs>\n",
       "</svg>\n",
       "<style>/* CSS stylesheet for displaying xarray objects in jupyterlab.\n",
       " *\n",
       " */\n",
       "\n",
       ":root {\n",
       "  --xr-font-color0: var(--jp-content-font-color0, rgba(0, 0, 0, 1));\n",
       "  --xr-font-color2: var(--jp-content-font-color2, rgba(0, 0, 0, 0.54));\n",
       "  --xr-font-color3: var(--jp-content-font-color3, rgba(0, 0, 0, 0.38));\n",
       "  --xr-border-color: var(--jp-border-color2, #e0e0e0);\n",
       "  --xr-disabled-color: var(--jp-layout-color3, #bdbdbd);\n",
       "  --xr-background-color: var(--jp-layout-color0, white);\n",
       "  --xr-background-color-row-even: var(--jp-layout-color1, white);\n",
       "  --xr-background-color-row-odd: var(--jp-layout-color2, #eeeeee);\n",
       "}\n",
       "\n",
       "html[theme=dark],\n",
       "body.vscode-dark {\n",
       "  --xr-font-color0: rgba(255, 255, 255, 1);\n",
       "  --xr-font-color2: rgba(255, 255, 255, 0.54);\n",
       "  --xr-font-color3: rgba(255, 255, 255, 0.38);\n",
       "  --xr-border-color: #1F1F1F;\n",
       "  --xr-disabled-color: #515151;\n",
       "  --xr-background-color: #111111;\n",
       "  --xr-background-color-row-even: #111111;\n",
       "  --xr-background-color-row-odd: #313131;\n",
       "}\n",
       "\n",
       ".xr-wrap {\n",
       "  display: block !important;\n",
       "  min-width: 300px;\n",
       "  max-width: 700px;\n",
       "}\n",
       "\n",
       ".xr-text-repr-fallback {\n",
       "  /* fallback to plain text repr when CSS is not injected (untrusted notebook) */\n",
       "  display: none;\n",
       "}\n",
       "\n",
       ".xr-header {\n",
       "  padding-top: 6px;\n",
       "  padding-bottom: 6px;\n",
       "  margin-bottom: 4px;\n",
       "  border-bottom: solid 1px var(--xr-border-color);\n",
       "}\n",
       "\n",
       ".xr-header > div,\n",
       ".xr-header > ul {\n",
       "  display: inline;\n",
       "  margin-top: 0;\n",
       "  margin-bottom: 0;\n",
       "}\n",
       "\n",
       ".xr-obj-type,\n",
       ".xr-array-name {\n",
       "  margin-left: 2px;\n",
       "  margin-right: 10px;\n",
       "}\n",
       "\n",
       ".xr-obj-type {\n",
       "  color: var(--xr-font-color2);\n",
       "}\n",
       "\n",
       ".xr-sections {\n",
       "  padding-left: 0 !important;\n",
       "  display: grid;\n",
       "  grid-template-columns: 150px auto auto 1fr 20px 20px;\n",
       "}\n",
       "\n",
       ".xr-section-item {\n",
       "  display: contents;\n",
       "}\n",
       "\n",
       ".xr-section-item input {\n",
       "  display: none;\n",
       "}\n",
       "\n",
       ".xr-section-item input + label {\n",
       "  color: var(--xr-disabled-color);\n",
       "}\n",
       "\n",
       ".xr-section-item input:enabled + label {\n",
       "  cursor: pointer;\n",
       "  color: var(--xr-font-color2);\n",
       "}\n",
       "\n",
       ".xr-section-item input:enabled + label:hover {\n",
       "  color: var(--xr-font-color0);\n",
       "}\n",
       "\n",
       ".xr-section-summary {\n",
       "  grid-column: 1;\n",
       "  color: var(--xr-font-color2);\n",
       "  font-weight: 500;\n",
       "}\n",
       "\n",
       ".xr-section-summary > span {\n",
       "  display: inline-block;\n",
       "  padding-left: 0.5em;\n",
       "}\n",
       "\n",
       ".xr-section-summary-in:disabled + label {\n",
       "  color: var(--xr-font-color2);\n",
       "}\n",
       "\n",
       ".xr-section-summary-in + label:before {\n",
       "  display: inline-block;\n",
       "  content: '►';\n",
       "  font-size: 11px;\n",
       "  width: 15px;\n",
       "  text-align: center;\n",
       "}\n",
       "\n",
       ".xr-section-summary-in:disabled + label:before {\n",
       "  color: var(--xr-disabled-color);\n",
       "}\n",
       "\n",
       ".xr-section-summary-in:checked + label:before {\n",
       "  content: '▼';\n",
       "}\n",
       "\n",
       ".xr-section-summary-in:checked + label > span {\n",
       "  display: none;\n",
       "}\n",
       "\n",
       ".xr-section-summary,\n",
       ".xr-section-inline-details {\n",
       "  padding-top: 4px;\n",
       "  padding-bottom: 4px;\n",
       "}\n",
       "\n",
       ".xr-section-inline-details {\n",
       "  grid-column: 2 / -1;\n",
       "}\n",
       "\n",
       ".xr-section-details {\n",
       "  display: none;\n",
       "  grid-column: 1 / -1;\n",
       "  margin-bottom: 5px;\n",
       "}\n",
       "\n",
       ".xr-section-summary-in:checked ~ .xr-section-details {\n",
       "  display: contents;\n",
       "}\n",
       "\n",
       ".xr-array-wrap {\n",
       "  grid-column: 1 / -1;\n",
       "  display: grid;\n",
       "  grid-template-columns: 20px auto;\n",
       "}\n",
       "\n",
       ".xr-array-wrap > label {\n",
       "  grid-column: 1;\n",
       "  vertical-align: top;\n",
       "}\n",
       "\n",
       ".xr-preview {\n",
       "  color: var(--xr-font-color3);\n",
       "}\n",
       "\n",
       ".xr-array-preview,\n",
       ".xr-array-data {\n",
       "  padding: 0 5px !important;\n",
       "  grid-column: 2;\n",
       "}\n",
       "\n",
       ".xr-array-data,\n",
       ".xr-array-in:checked ~ .xr-array-preview {\n",
       "  display: none;\n",
       "}\n",
       "\n",
       ".xr-array-in:checked ~ .xr-array-data,\n",
       ".xr-array-preview {\n",
       "  display: inline-block;\n",
       "}\n",
       "\n",
       ".xr-dim-list {\n",
       "  display: inline-block !important;\n",
       "  list-style: none;\n",
       "  padding: 0 !important;\n",
       "  margin: 0;\n",
       "}\n",
       "\n",
       ".xr-dim-list li {\n",
       "  display: inline-block;\n",
       "  padding: 0;\n",
       "  margin: 0;\n",
       "}\n",
       "\n",
       ".xr-dim-list:before {\n",
       "  content: '(';\n",
       "}\n",
       "\n",
       ".xr-dim-list:after {\n",
       "  content: ')';\n",
       "}\n",
       "\n",
       ".xr-dim-list li:not(:last-child):after {\n",
       "  content: ',';\n",
       "  padding-right: 5px;\n",
       "}\n",
       "\n",
       ".xr-has-index {\n",
       "  font-weight: bold;\n",
       "}\n",
       "\n",
       ".xr-var-list,\n",
       ".xr-var-item {\n",
       "  display: contents;\n",
       "}\n",
       "\n",
       ".xr-var-item > div,\n",
       ".xr-var-item label,\n",
       ".xr-var-item > .xr-var-name span {\n",
       "  background-color: var(--xr-background-color-row-even);\n",
       "  margin-bottom: 0;\n",
       "}\n",
       "\n",
       ".xr-var-item > .xr-var-name:hover span {\n",
       "  padding-right: 5px;\n",
       "}\n",
       "\n",
       ".xr-var-list > li:nth-child(odd) > div,\n",
       ".xr-var-list > li:nth-child(odd) > label,\n",
       ".xr-var-list > li:nth-child(odd) > .xr-var-name span {\n",
       "  background-color: var(--xr-background-color-row-odd);\n",
       "}\n",
       "\n",
       ".xr-var-name {\n",
       "  grid-column: 1;\n",
       "}\n",
       "\n",
       ".xr-var-dims {\n",
       "  grid-column: 2;\n",
       "}\n",
       "\n",
       ".xr-var-dtype {\n",
       "  grid-column: 3;\n",
       "  text-align: right;\n",
       "  color: var(--xr-font-color2);\n",
       "}\n",
       "\n",
       ".xr-var-preview {\n",
       "  grid-column: 4;\n",
       "}\n",
       "\n",
       ".xr-var-name,\n",
       ".xr-var-dims,\n",
       ".xr-var-dtype,\n",
       ".xr-preview,\n",
       ".xr-attrs dt {\n",
       "  white-space: nowrap;\n",
       "  overflow: hidden;\n",
       "  text-overflow: ellipsis;\n",
       "  padding-right: 10px;\n",
       "}\n",
       "\n",
       ".xr-var-name:hover,\n",
       ".xr-var-dims:hover,\n",
       ".xr-var-dtype:hover,\n",
       ".xr-attrs dt:hover {\n",
       "  overflow: visible;\n",
       "  width: auto;\n",
       "  z-index: 1;\n",
       "}\n",
       "\n",
       ".xr-var-attrs,\n",
       ".xr-var-data {\n",
       "  display: none;\n",
       "  background-color: var(--xr-background-color) !important;\n",
       "  padding-bottom: 5px !important;\n",
       "}\n",
       "\n",
       ".xr-var-attrs-in:checked ~ .xr-var-attrs,\n",
       ".xr-var-data-in:checked ~ .xr-var-data {\n",
       "  display: block;\n",
       "}\n",
       "\n",
       ".xr-var-data > table {\n",
       "  float: right;\n",
       "}\n",
       "\n",
       ".xr-var-name span,\n",
       ".xr-var-data,\n",
       ".xr-attrs {\n",
       "  padding-left: 25px !important;\n",
       "}\n",
       "\n",
       ".xr-attrs,\n",
       ".xr-var-attrs,\n",
       ".xr-var-data {\n",
       "  grid-column: 1 / -1;\n",
       "}\n",
       "\n",
       "dl.xr-attrs {\n",
       "  padding: 0;\n",
       "  margin: 0;\n",
       "  display: grid;\n",
       "  grid-template-columns: 125px auto;\n",
       "}\n",
       "\n",
       ".xr-attrs dt,\n",
       ".xr-attrs dd {\n",
       "  padding: 0;\n",
       "  margin: 0;\n",
       "  float: left;\n",
       "  padding-right: 10px;\n",
       "  width: auto;\n",
       "}\n",
       "\n",
       ".xr-attrs dt {\n",
       "  font-weight: normal;\n",
       "  grid-column: 1;\n",
       "}\n",
       "\n",
       ".xr-attrs dt:hover span {\n",
       "  display: inline-block;\n",
       "  background: var(--xr-background-color);\n",
       "  padding-right: 10px;\n",
       "}\n",
       "\n",
       ".xr-attrs dd {\n",
       "  grid-column: 2;\n",
       "  white-space: pre-wrap;\n",
       "  word-break: break-all;\n",
       "}\n",
       "\n",
       ".xr-icon-database,\n",
       ".xr-icon-file-text2 {\n",
       "  display: inline-block;\n",
       "  vertical-align: middle;\n",
       "  width: 1em;\n",
       "  height: 1.5em !important;\n",
       "  stroke-width: 0;\n",
       "  stroke: currentColor;\n",
       "  fill: currentColor;\n",
       "}\n",
       "</style><pre class='xr-text-repr-fallback'>&lt;xarray.Dataset&gt;\n",
       "Dimensions:  (row: 518005)\n",
       "Dimensions without coordinates: row\n",
       "Data variables:\n",
       "    lat      (row) float64 ...\n",
       "    lon      (row) float64 ...\n",
       "    perc1    (row) float64 ...\n",
       "    perc5    (row) float64 ...\n",
       "    perc17   (row) float64 ...\n",
       "    perc50   (row) float64 ...\n",
       "    perc83   (row) float64 ...\n",
       "    perc95   (row) float64 ...\n",
       "    perc99   (row) float64 ...\n",
       "Attributes:\n",
       "    title:        Global shoreline change projections for the year 2050 under...\n",
       "    description:  Projections of global shoreline change in view of climate c...\n",
       "    source:       The procedure to produce the dataset and the findings are d...</pre><div class='xr-wrap' style='display:none'><div class='xr-header'><div class='xr-obj-type'>xarray.Dataset</div></div><ul class='xr-sections'><li class='xr-section-item'><input id='section-52117cc8-18b5-4bed-a199-57c68be29972' class='xr-section-summary-in' type='checkbox' disabled ><label for='section-52117cc8-18b5-4bed-a199-57c68be29972' class='xr-section-summary'  title='Expand/collapse section'>Dimensions:</label><div class='xr-section-inline-details'><ul class='xr-dim-list'><li><span>row</span>: 518005</li></ul></div><div class='xr-section-details'></div></li><li class='xr-section-item'><input id='section-48660eed-7913-4d34-8529-6d2604291f93' class='xr-section-summary-in' type='checkbox' disabled ><label for='section-48660eed-7913-4d34-8529-6d2604291f93' class='xr-section-summary'  title='Expand/collapse section'>Coordinates: <span>(0)</span></label><div class='xr-section-inline-details'></div><div class='xr-section-details'><ul class='xr-var-list'></ul></div></li><li class='xr-section-item'><input id='section-cd057bdd-1584-4791-adfb-4cfeaf531621' class='xr-section-summary-in' type='checkbox'  checked><label for='section-cd057bdd-1584-4791-adfb-4cfeaf531621' class='xr-section-summary' >Data variables: <span>(9)</span></label><div class='xr-section-inline-details'></div><div class='xr-section-details'><ul class='xr-var-list'><li class='xr-var-item'><div class='xr-var-name'><span>lat</span></div><div class='xr-var-dims'>(row)</div><div class='xr-var-dtype'>float64</div><div class='xr-var-preview xr-preview'>...</div><input id='attrs-e6f86b85-7854-4ab7-9f07-a3a65f31da6a' class='xr-var-attrs-in' type='checkbox' ><label for='attrs-e6f86b85-7854-4ab7-9f07-a3a65f31da6a' title='Show/Hide attributes'><svg class='icon xr-icon-file-text2'><use xlink:href='#icon-file-text2'></use></svg></label><input id='data-8399d190-cac4-444f-98bf-49f0683e730d' class='xr-var-data-in' type='checkbox'><label for='data-8399d190-cac4-444f-98bf-49f0683e730d' title='Show/Hide data repr'><svg class='icon xr-icon-database'><use xlink:href='#icon-database'></use></svg></label><div class='xr-var-attrs'><dl class='xr-attrs'><dt><span>units :</span></dt><dd>Degrees north</dd><dt><span>long_name :</span></dt><dd>latitude</dd><dt><span>standard_name :</span></dt><dd>latitude</dd></dl></div><div class='xr-var-data'><pre>[518005 values with dtype=float64]</pre></div></li><li class='xr-var-item'><div class='xr-var-name'><span>lon</span></div><div class='xr-var-dims'>(row)</div><div class='xr-var-dtype'>float64</div><div class='xr-var-preview xr-preview'>...</div><input id='attrs-4f7e47cc-ddf0-47a0-b180-a39a9941b2b6' class='xr-var-attrs-in' type='checkbox' ><label for='attrs-4f7e47cc-ddf0-47a0-b180-a39a9941b2b6' title='Show/Hide attributes'><svg class='icon xr-icon-file-text2'><use xlink:href='#icon-file-text2'></use></svg></label><input id='data-ee18f4e6-26b9-4cbd-b984-48bf66429a35' class='xr-var-data-in' type='checkbox'><label for='data-ee18f4e6-26b9-4cbd-b984-48bf66429a35' title='Show/Hide data repr'><svg class='icon xr-icon-database'><use xlink:href='#icon-database'></use></svg></label><div class='xr-var-attrs'><dl class='xr-attrs'><dt><span>units :</span></dt><dd>Degrees east</dd><dt><span>long_name :</span></dt><dd>longitude</dd><dt><span>standard_name :</span></dt><dd>longitude</dd></dl></div><div class='xr-var-data'><pre>[518005 values with dtype=float64]</pre></div></li><li class='xr-var-item'><div class='xr-var-name'><span>perc1</span></div><div class='xr-var-dims'>(row)</div><div class='xr-var-dtype'>float64</div><div class='xr-var-preview xr-preview'>...</div><input id='attrs-3f3cde75-f9e1-4064-ac85-d7b3e456f5cc' class='xr-var-attrs-in' type='checkbox' ><label for='attrs-3f3cde75-f9e1-4064-ac85-d7b3e456f5cc' title='Show/Hide attributes'><svg class='icon xr-icon-file-text2'><use xlink:href='#icon-file-text2'></use></svg></label><input id='data-4eef189c-77c3-40ab-81af-fbe6e15f6cd8' class='xr-var-data-in' type='checkbox'><label for='data-4eef189c-77c3-40ab-81af-fbe6e15f6cd8' title='Show/Hide data repr'><svg class='icon xr-icon-database'><use xlink:href='#icon-database'></use></svg></label><div class='xr-var-attrs'><dl class='xr-attrs'><dt><span>units :</span></dt><dd>m</dd><dt><span>long_name :</span></dt><dd>percentile 1%</dd><dt><span>contents :</span></dt><dd>Global average long-term shoreline change</dd></dl></div><div class='xr-var-data'><pre>[518005 values with dtype=float64]</pre></div></li><li class='xr-var-item'><div class='xr-var-name'><span>perc5</span></div><div class='xr-var-dims'>(row)</div><div class='xr-var-dtype'>float64</div><div class='xr-var-preview xr-preview'>...</div><input id='attrs-45f90557-a5de-4280-b1a1-9c2680aadffd' class='xr-var-attrs-in' type='checkbox' ><label for='attrs-45f90557-a5de-4280-b1a1-9c2680aadffd' title='Show/Hide attributes'><svg class='icon xr-icon-file-text2'><use xlink:href='#icon-file-text2'></use></svg></label><input id='data-f0503d68-d32b-47ec-a45b-138ac6c1d5bb' class='xr-var-data-in' type='checkbox'><label for='data-f0503d68-d32b-47ec-a45b-138ac6c1d5bb' title='Show/Hide data repr'><svg class='icon xr-icon-database'><use xlink:href='#icon-database'></use></svg></label><div class='xr-var-attrs'><dl class='xr-attrs'><dt><span>units :</span></dt><dd>m</dd><dt><span>long_name :</span></dt><dd>percentile 5%</dd><dt><span>contents :</span></dt><dd>Global average long-term shoreline change</dd></dl></div><div class='xr-var-data'><pre>[518005 values with dtype=float64]</pre></div></li><li class='xr-var-item'><div class='xr-var-name'><span>perc17</span></div><div class='xr-var-dims'>(row)</div><div class='xr-var-dtype'>float64</div><div class='xr-var-preview xr-preview'>...</div><input id='attrs-11e2fd07-4bd1-4147-ad80-9913ccab236f' class='xr-var-attrs-in' type='checkbox' ><label for='attrs-11e2fd07-4bd1-4147-ad80-9913ccab236f' title='Show/Hide attributes'><svg class='icon xr-icon-file-text2'><use xlink:href='#icon-file-text2'></use></svg></label><input id='data-6f236bbd-8777-47da-9196-7304f8bd9ebc' class='xr-var-data-in' type='checkbox'><label for='data-6f236bbd-8777-47da-9196-7304f8bd9ebc' title='Show/Hide data repr'><svg class='icon xr-icon-database'><use xlink:href='#icon-database'></use></svg></label><div class='xr-var-attrs'><dl class='xr-attrs'><dt><span>units :</span></dt><dd>m</dd><dt><span>long_name :</span></dt><dd>percentile 17%</dd><dt><span>contents :</span></dt><dd>Global average long-term shoreline change</dd></dl></div><div class='xr-var-data'><pre>[518005 values with dtype=float64]</pre></div></li><li class='xr-var-item'><div class='xr-var-name'><span>perc50</span></div><div class='xr-var-dims'>(row)</div><div class='xr-var-dtype'>float64</div><div class='xr-var-preview xr-preview'>...</div><input id='attrs-91495cd3-a3a0-42cd-b3a5-4f44e6eec105' class='xr-var-attrs-in' type='checkbox' ><label for='attrs-91495cd3-a3a0-42cd-b3a5-4f44e6eec105' title='Show/Hide attributes'><svg class='icon xr-icon-file-text2'><use xlink:href='#icon-file-text2'></use></svg></label><input id='data-d2edd637-cf68-4186-9a0d-4d4b38e26592' class='xr-var-data-in' type='checkbox'><label for='data-d2edd637-cf68-4186-9a0d-4d4b38e26592' title='Show/Hide data repr'><svg class='icon xr-icon-database'><use xlink:href='#icon-database'></use></svg></label><div class='xr-var-attrs'><dl class='xr-attrs'><dt><span>units :</span></dt><dd>m</dd><dt><span>long_name :</span></dt><dd>percentile 50%</dd><dt><span>contents :</span></dt><dd>Global average long-term shoreline change</dd></dl></div><div class='xr-var-data'><pre>[518005 values with dtype=float64]</pre></div></li><li class='xr-var-item'><div class='xr-var-name'><span>perc83</span></div><div class='xr-var-dims'>(row)</div><div class='xr-var-dtype'>float64</div><div class='xr-var-preview xr-preview'>...</div><input id='attrs-dff5da9e-ce86-41fd-9bf1-ebe4e596a64d' class='xr-var-attrs-in' type='checkbox' ><label for='attrs-dff5da9e-ce86-41fd-9bf1-ebe4e596a64d' title='Show/Hide attributes'><svg class='icon xr-icon-file-text2'><use xlink:href='#icon-file-text2'></use></svg></label><input id='data-90ae5098-151a-433c-b35b-f7423f8904d2' class='xr-var-data-in' type='checkbox'><label for='data-90ae5098-151a-433c-b35b-f7423f8904d2' title='Show/Hide data repr'><svg class='icon xr-icon-database'><use xlink:href='#icon-database'></use></svg></label><div class='xr-var-attrs'><dl class='xr-attrs'><dt><span>units :</span></dt><dd>m</dd><dt><span>long_name :</span></dt><dd>percentile 83%</dd><dt><span>contents :</span></dt><dd>Global average long-term shoreline change</dd></dl></div><div class='xr-var-data'><pre>[518005 values with dtype=float64]</pre></div></li><li class='xr-var-item'><div class='xr-var-name'><span>perc95</span></div><div class='xr-var-dims'>(row)</div><div class='xr-var-dtype'>float64</div><div class='xr-var-preview xr-preview'>...</div><input id='attrs-aef49916-33b8-4a07-b1dd-89ade9f58f15' class='xr-var-attrs-in' type='checkbox' ><label for='attrs-aef49916-33b8-4a07-b1dd-89ade9f58f15' title='Show/Hide attributes'><svg class='icon xr-icon-file-text2'><use xlink:href='#icon-file-text2'></use></svg></label><input id='data-e4b0ef5e-d40c-4e91-9af9-63d0f5dde80d' class='xr-var-data-in' type='checkbox'><label for='data-e4b0ef5e-d40c-4e91-9af9-63d0f5dde80d' title='Show/Hide data repr'><svg class='icon xr-icon-database'><use xlink:href='#icon-database'></use></svg></label><div class='xr-var-attrs'><dl class='xr-attrs'><dt><span>units :</span></dt><dd>m</dd><dt><span>long_name :</span></dt><dd>percentile 95%</dd><dt><span>contents :</span></dt><dd>Global average long-term shoreline change</dd></dl></div><div class='xr-var-data'><pre>[518005 values with dtype=float64]</pre></div></li><li class='xr-var-item'><div class='xr-var-name'><span>perc99</span></div><div class='xr-var-dims'>(row)</div><div class='xr-var-dtype'>float64</div><div class='xr-var-preview xr-preview'>...</div><input id='attrs-093fef55-3156-4702-bf66-0ad06211cba6' class='xr-var-attrs-in' type='checkbox' ><label for='attrs-093fef55-3156-4702-bf66-0ad06211cba6' title='Show/Hide attributes'><svg class='icon xr-icon-file-text2'><use xlink:href='#icon-file-text2'></use></svg></label><input id='data-135760bc-d880-4b1c-898d-ce0abcf3ed1b' class='xr-var-data-in' type='checkbox'><label for='data-135760bc-d880-4b1c-898d-ce0abcf3ed1b' title='Show/Hide data repr'><svg class='icon xr-icon-database'><use xlink:href='#icon-database'></use></svg></label><div class='xr-var-attrs'><dl class='xr-attrs'><dt><span>units :</span></dt><dd>m</dd><dt><span>long_name :</span></dt><dd>percentile 99%</dd><dt><span>contents :</span></dt><dd>Global average long-term shoreline change</dd></dl></div><div class='xr-var-data'><pre>[518005 values with dtype=float64]</pre></div></li></ul></div></li><li class='xr-section-item'><input id='section-1fddafa5-8801-4f80-92f0-9b4aae2a4d84' class='xr-section-summary-in' type='checkbox'  checked><label for='section-1fddafa5-8801-4f80-92f0-9b4aae2a4d84' class='xr-section-summary' >Attributes: <span>(3)</span></label><div class='xr-section-inline-details'></div><div class='xr-section-details'><dl class='xr-attrs'><dt><span>title :</span></dt><dd>Global shoreline change projections for the year 2050 under RCP4.5</dd><dt><span>description :</span></dt><dd>Projections of global shoreline change in view of climate change considering the combined effects of ambient change, sea level rise and storm driven erosion</dd><dt><span>source :</span></dt><dd>The procedure to produce the dataset and the findings are discussed in the paper: &quot;Vousdoukas, M.I., Ranasinghe, R., Mentaschi, L., Plomaritis, T.P., Athanasiou, P., Luijendijk, A., and Feyen, L. (2020). Sandy coastlines under threat of erosion. Nature Communications. https://www.nature.com/articles/s41558-020-0697-0,&quot;</dd></dl></div></li></ul></div></div>"
      ],
      "text/plain": [
       "<xarray.Dataset>\n",
       "Dimensions:  (row: 518005)\n",
       "Dimensions without coordinates: row\n",
       "Data variables:\n",
       "    lat      (row) float64 ...\n",
       "    lon      (row) float64 ...\n",
       "    perc1    (row) float64 ...\n",
       "    perc5    (row) float64 ...\n",
       "    perc17   (row) float64 ...\n",
       "    perc50   (row) float64 ...\n",
       "    perc83   (row) float64 ...\n",
       "    perc95   (row) float64 ...\n",
       "    perc99   (row) float64 ...\n",
       "Attributes:\n",
       "    title:        Global shoreline change projections for the year 2050 under...\n",
       "    description:  Projections of global shoreline change in view of climate c...\n",
       "    source:       The procedure to produce the dataset and the findings are d..."
      ]
     },
     "execution_count": 158,
     "metadata": {},
     "output_type": "execute_result"
    },
    {
     "data": {
      "application/javascript": [
       "\n",
       "            setTimeout(function() {\n",
       "                var nbb_cell_id = 158;\n",
       "                var nbb_unformatted_code = \"# open datasets\\nds_45rcp2050 = xr.open_dataset(ds_rcp45_2050path)\\nds_45rcp2100 = xr.open_dataset(ds_rcp45_2100path)\\nds_85rcp2050 = xr.open_dataset(ds_rcp85_2050path)\\nds_85rcp2100 = xr.open_dataset(ds_rcp85_2100path)\\n\\n# check original dataset\\nds_45rcp2050\";\n",
       "                var nbb_formatted_code = \"# open datasets\\nds_45rcp2050 = xr.open_dataset(ds_rcp45_2050path)\\nds_45rcp2100 = xr.open_dataset(ds_rcp45_2100path)\\nds_85rcp2050 = xr.open_dataset(ds_rcp85_2050path)\\nds_85rcp2100 = xr.open_dataset(ds_rcp85_2100path)\\n\\n# check original dataset\\nds_45rcp2050\";\n",
       "                var nbb_cells = Jupyter.notebook.get_cells();\n",
       "                for (var i = 0; i < nbb_cells.length; ++i) {\n",
       "                    if (nbb_cells[i].input_prompt_number == nbb_cell_id) {\n",
       "                        if (nbb_cells[i].get_text() == nbb_unformatted_code) {\n",
       "                             nbb_cells[i].set_text(nbb_formatted_code);\n",
       "                        }\n",
       "                        break;\n",
       "                    }\n",
       "                }\n",
       "            }, 500);\n",
       "            "
      ],
      "text/plain": [
       "<IPython.core.display.Javascript object>"
      ]
     },
     "metadata": {},
     "output_type": "display_data"
    }
   ],
   "source": [
    "# open datasets\n",
    "ds_45rcp2050 = xr.open_dataset(ds_rcp45_2050path)\n",
    "ds_45rcp2100 = xr.open_dataset(ds_rcp45_2100path)\n",
    "ds_85rcp2050 = xr.open_dataset(ds_rcp85_2050path)\n",
    "ds_85rcp2100 = xr.open_dataset(ds_rcp85_2100path)\n",
    "\n",
    "# check original dataset\n",
    "ds_45rcp2050"
   ]
  },
  {
   "cell_type": "code",
   "execution_count": 5,
   "id": "a4057296",
   "metadata": {},
   "outputs": [
    {
     "data": {
      "application/javascript": [
       "\n",
       "            setTimeout(function() {\n",
       "                var nbb_cell_id = 5;\n",
       "                var nbb_unformatted_code = \"%%capture cap --no-stderr\\n# check original CF compliancy\\n\\ncheck_compliancy(testfile=ds_rcp45_2050path, working_dir=CF_dir)\";\n",
       "                var nbb_formatted_code = \"%%capture cap --no-stderr\\n# check original CF compliancy\\n\\ncheck_compliancy(testfile=ds_rcp45_2050path, working_dir=CF_dir)\";\n",
       "                var nbb_cells = Jupyter.notebook.get_cells();\n",
       "                for (var i = 0; i < nbb_cells.length; ++i) {\n",
       "                    if (nbb_cells[i].input_prompt_number == nbb_cell_id) {\n",
       "                        if (nbb_cells[i].get_text() == nbb_unformatted_code) {\n",
       "                             nbb_cells[i].set_text(nbb_formatted_code);\n",
       "                        }\n",
       "                        break;\n",
       "                    }\n",
       "                }\n",
       "            }, 500);\n",
       "            "
      ],
      "text/plain": [
       "<IPython.core.display.Javascript object>"
      ]
     },
     "metadata": {},
     "output_type": "display_data"
    }
   ],
   "source": [
    "%%capture cap --no-stderr\n",
    "# check original CF compliancy\n",
    "\n",
    "check_compliancy(testfile=ds_rcp45_2050path, working_dir=CF_dir)"
   ]
  },
  {
   "cell_type": "code",
   "execution_count": 6,
   "id": "89ab2b07",
   "metadata": {},
   "outputs": [
    {
     "name": "stdout",
     "output_type": "stream",
     "text": [
      "{'P:\\\\11205479-coclico\\\\data\\\\05_erosion_projections_jrc\\\\globalErosionProjections_Long_Term_Change_RCP45_2050.nc': {'warnings': '1', 'errors': '2'}}\n"
     ]
    },
    {
     "data": {
      "application/javascript": [
       "\n",
       "            setTimeout(function() {\n",
       "                var nbb_cell_id = 6;\n",
       "                var nbb_unformatted_code = \"# save original CF compliancy\\nsave_compliancy(cap, testfile=ds_rcp45_2050path, working_dir=CF_dir)\";\n",
       "                var nbb_formatted_code = \"# save original CF compliancy\\nsave_compliancy(cap, testfile=ds_rcp45_2050path, working_dir=CF_dir)\";\n",
       "                var nbb_cells = Jupyter.notebook.get_cells();\n",
       "                for (var i = 0; i < nbb_cells.length; ++i) {\n",
       "                    if (nbb_cells[i].input_prompt_number == nbb_cell_id) {\n",
       "                        if (nbb_cells[i].get_text() == nbb_unformatted_code) {\n",
       "                             nbb_cells[i].set_text(nbb_formatted_code);\n",
       "                        }\n",
       "                        break;\n",
       "                    }\n",
       "                }\n",
       "            }, 500);\n",
       "            "
      ],
      "text/plain": [
       "<IPython.core.display.Javascript object>"
      ]
     },
     "metadata": {},
     "output_type": "display_data"
    }
   ],
   "source": [
    "# save original CF compliancy\n",
    "save_compliancy(cap, testfile=ds_rcp45_2050path, working_dir=CF_dir)"
   ]
  },
  {
   "cell_type": "code",
   "execution_count": 7,
   "id": "7f569418",
   "metadata": {},
   "outputs": [
    {
     "data": {
      "application/javascript": [
       "\n",
       "            setTimeout(function() {\n",
       "                var nbb_cell_id = 7;\n",
       "                var nbb_unformatted_code = \"%%capture cap --no-stderr\\n# check original CF compliancy\\n\\ncheck_compliancy(testfile=ds_rcp45_2100path, working_dir=CF_dir)\";\n",
       "                var nbb_formatted_code = \"%%capture cap --no-stderr\\n# check original CF compliancy\\n\\ncheck_compliancy(testfile=ds_rcp45_2100path, working_dir=CF_dir)\";\n",
       "                var nbb_cells = Jupyter.notebook.get_cells();\n",
       "                for (var i = 0; i < nbb_cells.length; ++i) {\n",
       "                    if (nbb_cells[i].input_prompt_number == nbb_cell_id) {\n",
       "                        if (nbb_cells[i].get_text() == nbb_unformatted_code) {\n",
       "                             nbb_cells[i].set_text(nbb_formatted_code);\n",
       "                        }\n",
       "                        break;\n",
       "                    }\n",
       "                }\n",
       "            }, 500);\n",
       "            "
      ],
      "text/plain": [
       "<IPython.core.display.Javascript object>"
      ]
     },
     "metadata": {},
     "output_type": "display_data"
    }
   ],
   "source": [
    "%%capture cap --no-stderr\n",
    "# check original CF compliancy\n",
    "\n",
    "check_compliancy(testfile=ds_rcp45_2100path, working_dir=CF_dir)"
   ]
  },
  {
   "cell_type": "code",
   "execution_count": 8,
   "id": "69d2e3fa",
   "metadata": {},
   "outputs": [
    {
     "name": "stdout",
     "output_type": "stream",
     "text": [
      "{'P:\\\\11205479-coclico\\\\data\\\\05_erosion_projections_jrc\\\\globalErosionProjections_Long_Term_Change_RCP45_2100.nc': {'warnings': '1', 'errors': '2'}}\n"
     ]
    },
    {
     "data": {
      "application/javascript": [
       "\n",
       "            setTimeout(function() {\n",
       "                var nbb_cell_id = 8;\n",
       "                var nbb_unformatted_code = \"# save original CF compliancy\\nsave_compliancy(cap, testfile=ds_rcp45_2100path, working_dir=CF_dir)\";\n",
       "                var nbb_formatted_code = \"# save original CF compliancy\\nsave_compliancy(cap, testfile=ds_rcp45_2100path, working_dir=CF_dir)\";\n",
       "                var nbb_cells = Jupyter.notebook.get_cells();\n",
       "                for (var i = 0; i < nbb_cells.length; ++i) {\n",
       "                    if (nbb_cells[i].input_prompt_number == nbb_cell_id) {\n",
       "                        if (nbb_cells[i].get_text() == nbb_unformatted_code) {\n",
       "                             nbb_cells[i].set_text(nbb_formatted_code);\n",
       "                        }\n",
       "                        break;\n",
       "                    }\n",
       "                }\n",
       "            }, 500);\n",
       "            "
      ],
      "text/plain": [
       "<IPython.core.display.Javascript object>"
      ]
     },
     "metadata": {},
     "output_type": "display_data"
    }
   ],
   "source": [
    "# save original CF compliancy\n",
    "save_compliancy(cap, testfile=ds_rcp45_2100path, working_dir=CF_dir)"
   ]
  },
  {
   "cell_type": "code",
   "execution_count": 9,
   "id": "c60b15e5",
   "metadata": {},
   "outputs": [
    {
     "data": {
      "application/javascript": [
       "\n",
       "            setTimeout(function() {\n",
       "                var nbb_cell_id = 9;\n",
       "                var nbb_unformatted_code = \"%%capture cap --no-stderr\\n# check original CF compliancy\\n\\ncheck_compliancy(testfile=ds_rcp85_2050path, working_dir=CF_dir)\";\n",
       "                var nbb_formatted_code = \"%%capture cap --no-stderr\\n# check original CF compliancy\\n\\ncheck_compliancy(testfile=ds_rcp85_2050path, working_dir=CF_dir)\";\n",
       "                var nbb_cells = Jupyter.notebook.get_cells();\n",
       "                for (var i = 0; i < nbb_cells.length; ++i) {\n",
       "                    if (nbb_cells[i].input_prompt_number == nbb_cell_id) {\n",
       "                        if (nbb_cells[i].get_text() == nbb_unformatted_code) {\n",
       "                             nbb_cells[i].set_text(nbb_formatted_code);\n",
       "                        }\n",
       "                        break;\n",
       "                    }\n",
       "                }\n",
       "            }, 500);\n",
       "            "
      ],
      "text/plain": [
       "<IPython.core.display.Javascript object>"
      ]
     },
     "metadata": {},
     "output_type": "display_data"
    }
   ],
   "source": [
    "%%capture cap --no-stderr\n",
    "# check original CF compliancy\n",
    "\n",
    "check_compliancy(testfile=ds_rcp85_2050path, working_dir=CF_dir)"
   ]
  },
  {
   "cell_type": "code",
   "execution_count": 10,
   "id": "978ae0cb",
   "metadata": {},
   "outputs": [
    {
     "name": "stdout",
     "output_type": "stream",
     "text": [
      "{'P:\\\\11205479-coclico\\\\data\\\\05_erosion_projections_jrc\\\\globalErosionProjections_Long_Term_Change_RCP85_2050.nc': {'warnings': '1', 'errors': '2'}}\n"
     ]
    },
    {
     "data": {
      "application/javascript": [
       "\n",
       "            setTimeout(function() {\n",
       "                var nbb_cell_id = 10;\n",
       "                var nbb_unformatted_code = \"# save original CF compliancy\\nsave_compliancy(cap, testfile=ds_rcp85_2050path, working_dir=CF_dir)\";\n",
       "                var nbb_formatted_code = \"# save original CF compliancy\\nsave_compliancy(cap, testfile=ds_rcp85_2050path, working_dir=CF_dir)\";\n",
       "                var nbb_cells = Jupyter.notebook.get_cells();\n",
       "                for (var i = 0; i < nbb_cells.length; ++i) {\n",
       "                    if (nbb_cells[i].input_prompt_number == nbb_cell_id) {\n",
       "                        if (nbb_cells[i].get_text() == nbb_unformatted_code) {\n",
       "                             nbb_cells[i].set_text(nbb_formatted_code);\n",
       "                        }\n",
       "                        break;\n",
       "                    }\n",
       "                }\n",
       "            }, 500);\n",
       "            "
      ],
      "text/plain": [
       "<IPython.core.display.Javascript object>"
      ]
     },
     "metadata": {},
     "output_type": "display_data"
    }
   ],
   "source": [
    "# save original CF compliancy\n",
    "save_compliancy(cap, testfile=ds_rcp85_2050path, working_dir=CF_dir)"
   ]
  },
  {
   "cell_type": "code",
   "execution_count": 11,
   "id": "6f44f94d",
   "metadata": {},
   "outputs": [
    {
     "data": {
      "application/javascript": [
       "\n",
       "            setTimeout(function() {\n",
       "                var nbb_cell_id = 11;\n",
       "                var nbb_unformatted_code = \"%%capture cap --no-stderr\\n# check original CF compliancy\\n\\ncheck_compliancy(testfile=ds_rcp85_2100path, working_dir=CF_dir)\";\n",
       "                var nbb_formatted_code = \"%%capture cap --no-stderr\\n# check original CF compliancy\\n\\ncheck_compliancy(testfile=ds_rcp85_2100path, working_dir=CF_dir)\";\n",
       "                var nbb_cells = Jupyter.notebook.get_cells();\n",
       "                for (var i = 0; i < nbb_cells.length; ++i) {\n",
       "                    if (nbb_cells[i].input_prompt_number == nbb_cell_id) {\n",
       "                        if (nbb_cells[i].get_text() == nbb_unformatted_code) {\n",
       "                             nbb_cells[i].set_text(nbb_formatted_code);\n",
       "                        }\n",
       "                        break;\n",
       "                    }\n",
       "                }\n",
       "            }, 500);\n",
       "            "
      ],
      "text/plain": [
       "<IPython.core.display.Javascript object>"
      ]
     },
     "metadata": {},
     "output_type": "display_data"
    }
   ],
   "source": [
    "%%capture cap --no-stderr\n",
    "# check original CF compliancy\n",
    "\n",
    "check_compliancy(testfile=ds_rcp85_2100path, working_dir=CF_dir)"
   ]
  },
  {
   "cell_type": "code",
   "execution_count": 12,
   "id": "e62ed675",
   "metadata": {},
   "outputs": [
    {
     "name": "stdout",
     "output_type": "stream",
     "text": [
      "{'P:\\\\11205479-coclico\\\\data\\\\05_erosion_projections_jrc\\\\globalErosionProjections_Long_Term_Change_RCP85_2100.nc': {'warnings': '1', 'errors': '2'}}\n"
     ]
    },
    {
     "data": {
      "application/javascript": [
       "\n",
       "            setTimeout(function() {\n",
       "                var nbb_cell_id = 12;\n",
       "                var nbb_unformatted_code = \"# save original CF compliancy\\nsave_compliancy(cap, testfile=ds_rcp85_2100path, working_dir=CF_dir)\";\n",
       "                var nbb_formatted_code = \"# save original CF compliancy\\nsave_compliancy(cap, testfile=ds_rcp85_2100path, working_dir=CF_dir)\";\n",
       "                var nbb_cells = Jupyter.notebook.get_cells();\n",
       "                for (var i = 0; i < nbb_cells.length; ++i) {\n",
       "                    if (nbb_cells[i].input_prompt_number == nbb_cell_id) {\n",
       "                        if (nbb_cells[i].get_text() == nbb_unformatted_code) {\n",
       "                             nbb_cells[i].set_text(nbb_formatted_code);\n",
       "                        }\n",
       "                        break;\n",
       "                    }\n",
       "                }\n",
       "            }, 500);\n",
       "            "
      ],
      "text/plain": [
       "<IPython.core.display.Javascript object>"
      ]
     },
     "metadata": {},
     "output_type": "display_data"
    }
   ],
   "source": [
    "# save original CF compliancy\n",
    "save_compliancy(cap, testfile=ds_rcp85_2100path, working_dir=CF_dir)"
   ]
  },
  {
   "cell_type": "markdown",
   "id": "77a9150b",
   "metadata": {},
   "source": [
    "### Make CF compliant alterations to the NetCDF files (dataset dependent)"
   ]
  },
  {
   "cell_type": "code",
   "execution_count": 159,
   "id": "41aebd95",
   "metadata": {},
   "outputs": [
    {
     "data": {
      "application/javascript": [
       "\n",
       "            setTimeout(function() {\n",
       "                var nbb_cell_id = 159;\n",
       "                var nbb_unformatted_code = \"# NetCDF attribute alterations\\n\\nds_45rcp2050.lat.attrs[\\\"units\\\"] = \\\"degrees_north\\\"\\nds_45rcp2050.lon.attrs[\\\"units\\\"] = \\\"degrees_east\\\"\\nds_45rcp2100.lat.attrs[\\\"units\\\"] = \\\"degrees_north\\\"\\nds_45rcp2100.lon.attrs[\\\"units\\\"] = \\\"degrees_east\\\"\\nds_85rcp2050.lat.attrs[\\\"units\\\"] = \\\"degrees_north\\\"\\nds_85rcp2050.lon.attrs[\\\"units\\\"] = \\\"degrees_east\\\"\\nds_85rcp2100.lat.attrs[\\\"units\\\"] = \\\"degrees_north\\\"\\nds_85rcp2100.lon.attrs[\\\"units\\\"] = \\\"degrees_east\\\"\";\n",
       "                var nbb_formatted_code = \"# NetCDF attribute alterations\\n\\nds_45rcp2050.lat.attrs[\\\"units\\\"] = \\\"degrees_north\\\"\\nds_45rcp2050.lon.attrs[\\\"units\\\"] = \\\"degrees_east\\\"\\nds_45rcp2100.lat.attrs[\\\"units\\\"] = \\\"degrees_north\\\"\\nds_45rcp2100.lon.attrs[\\\"units\\\"] = \\\"degrees_east\\\"\\nds_85rcp2050.lat.attrs[\\\"units\\\"] = \\\"degrees_north\\\"\\nds_85rcp2050.lon.attrs[\\\"units\\\"] = \\\"degrees_east\\\"\\nds_85rcp2100.lat.attrs[\\\"units\\\"] = \\\"degrees_north\\\"\\nds_85rcp2100.lon.attrs[\\\"units\\\"] = \\\"degrees_east\\\"\";\n",
       "                var nbb_cells = Jupyter.notebook.get_cells();\n",
       "                for (var i = 0; i < nbb_cells.length; ++i) {\n",
       "                    if (nbb_cells[i].input_prompt_number == nbb_cell_id) {\n",
       "                        if (nbb_cells[i].get_text() == nbb_unformatted_code) {\n",
       "                             nbb_cells[i].set_text(nbb_formatted_code);\n",
       "                        }\n",
       "                        break;\n",
       "                    }\n",
       "                }\n",
       "            }, 500);\n",
       "            "
      ],
      "text/plain": [
       "<IPython.core.display.Javascript object>"
      ]
     },
     "metadata": {},
     "output_type": "display_data"
    }
   ],
   "source": [
    "# NetCDF attribute alterations\n",
    "\n",
    "ds_45rcp2050.lat.attrs[\"units\"] = \"degrees_north\"\n",
    "ds_45rcp2050.lon.attrs[\"units\"] = \"degrees_east\"\n",
    "ds_45rcp2100.lat.attrs[\"units\"] = \"degrees_north\"\n",
    "ds_45rcp2100.lon.attrs[\"units\"] = \"degrees_east\"\n",
    "ds_85rcp2050.lat.attrs[\"units\"] = \"degrees_north\"\n",
    "ds_85rcp2050.lon.attrs[\"units\"] = \"degrees_east\"\n",
    "ds_85rcp2100.lat.attrs[\"units\"] = \"degrees_north\"\n",
    "ds_85rcp2100.lon.attrs[\"units\"] = \"degrees_east\""
   ]
  },
  {
   "cell_type": "code",
   "execution_count": 160,
   "id": "950d7cb2",
   "metadata": {},
   "outputs": [
    {
     "data": {
      "application/javascript": [
       "\n",
       "            setTimeout(function() {\n",
       "                var nbb_cell_id = 160;\n",
       "                var nbb_unformatted_code = \"# NetCDF variable and dimension alterations\\nds_45rcp2050 = ds_45rcp2050.set_coords([\\\"lon\\\", \\\"lat\\\"])\\nds_45rcp2100 = ds_45rcp2100.set_coords([\\\"lon\\\", \\\"lat\\\"])\\nds_85rcp2050 = ds_85rcp2050.set_coords([\\\"lon\\\", \\\"lat\\\"])\\nds_85rcp2100 = ds_85rcp2100.set_coords([\\\"lon\\\", \\\"lat\\\"])\\n\\nds_45rcp2050arr = xr.concat(\\n    [\\n        ds_45rcp2050[\\\"perc1\\\"],\\n        ds_45rcp2050[\\\"perc5\\\"],\\n        ds_45rcp2050[\\\"perc17\\\"],\\n        ds_45rcp2050[\\\"perc50\\\"],\\n        ds_45rcp2050[\\\"perc83\\\"],\\n        ds_45rcp2050[\\\"perc95\\\"],\\n        ds_45rcp2050[\\\"perc99\\\"],\\n    ],\\n    dim=\\\"nensemble\\\",\\n)\\n\\nds_45rcp2050arr = ds_45rcp2050arr.assign_coords(\\n    {\\n        \\\"ensemble\\\": (\\n            \\\"nensemble\\\",\\n            np.array([\\\"1%\\\", \\\"5%\\\", \\\"17%\\\", \\\"50%\\\", \\\"83%\\\", \\\"95%\\\", \\\"99%\\\"], dtype=\\\"S\\\"),\\n        )\\n    }\\n)\\nds_45rcp2050_new = ds_45rcp2050arr.to_dataset(name=\\\"shoreline_change\\\")\\nds_45rcp2050_new.shoreline_change.attrs[\\\"long_name\\\"] = \\\"shoreline_change\\\"\\nds_45rcp2050_new.ensemble.attrs[\\\"long_name\\\"] = \\\"ensemble\\\"\\n\\nds_45rcp2100arr = xr.concat(\\n    [\\n        ds_45rcp2100[\\\"perc1\\\"],\\n        ds_45rcp2100[\\\"perc5\\\"],\\n        ds_45rcp2100[\\\"perc17\\\"],\\n        ds_45rcp2100[\\\"perc50\\\"],\\n        ds_45rcp2100[\\\"perc83\\\"],\\n        ds_45rcp2100[\\\"perc95\\\"],\\n        ds_45rcp2100[\\\"perc99\\\"],\\n    ],\\n    dim=\\\"nensemble\\\",\\n)\\n\\nds_45rcp2100arr = ds_45rcp2100arr.assign_coords(\\n    {\\n        \\\"ensemble\\\": (\\n            \\\"nensemble\\\",\\n            np.array([\\\"1%\\\", \\\"5%\\\", \\\"17%\\\", \\\"50%\\\", \\\"83%\\\", \\\"95%\\\", \\\"99%\\\"], dtype=\\\"S\\\"),\\n        )\\n    }\\n)\\nds_45rcp2100_new = ds_45rcp2100arr.to_dataset(name=\\\"shoreline_change\\\")\\nds_45rcp2100_new.shoreline_change.attrs[\\\"long_name\\\"] = \\\"shoreline_change\\\"\\nds_45rcp2100_new.ensemble.attrs[\\\"long_name\\\"] = \\\"ensemble\\\"\\n\\nds_85rcp2050arr = xr.concat(\\n    [\\n        ds_85rcp2050[\\\"perc1\\\"],\\n        ds_85rcp2050[\\\"perc5\\\"],\\n        ds_85rcp2050[\\\"perc17\\\"],\\n        ds_85rcp2050[\\\"perc50\\\"],\\n        ds_85rcp2050[\\\"perc83\\\"],\\n        ds_85rcp2050[\\\"perc95\\\"],\\n        ds_85rcp2050[\\\"perc99\\\"],\\n    ],\\n    dim=\\\"nensemble\\\",\\n)\\n\\nds_85rcp2050arr = ds_85rcp2050arr.assign_coords(\\n    {\\n        \\\"ensemble\\\": (\\n            \\\"nensemble\\\",\\n            np.array([\\\"1%\\\", \\\"5%\\\", \\\"17%\\\", \\\"50%\\\", \\\"83%\\\", \\\"95%\\\", \\\"99%\\\"], dtype=\\\"S\\\"),\\n        )\\n    }\\n)\\nds_85rcp2050_new = ds_85rcp2050arr.to_dataset(name=\\\"shoreline_change\\\")\\nds_85rcp2050_new.shoreline_change.attrs[\\\"long_name\\\"] = \\\"shoreline_change\\\"\\nds_85rcp2050_new.ensemble.attrs[\\\"long_name\\\"] = \\\"ensemble\\\"\\n\\nds_85rcp2100arr = xr.concat(\\n    [\\n        ds_85rcp2100[\\\"perc1\\\"],\\n        ds_85rcp2100[\\\"perc5\\\"],\\n        ds_85rcp2100[\\\"perc17\\\"],\\n        ds_85rcp2100[\\\"perc50\\\"],\\n        ds_85rcp2100[\\\"perc83\\\"],\\n        ds_85rcp2100[\\\"perc95\\\"],\\n        ds_85rcp2100[\\\"perc99\\\"],\\n    ],\\n    dim=\\\"nensemble\\\",\\n)\\n\\nds_85rcp2100arr = ds_85rcp2100arr.assign_coords(\\n    {\\n        \\\"ensemble\\\": (\\n            \\\"nensemble\\\",\\n            np.array([\\\"1%\\\", \\\"5%\\\", \\\"17%\\\", \\\"50%\\\", \\\"83%\\\", \\\"95%\\\", \\\"99%\\\"], dtype=\\\"S\\\"),\\n        )\\n    }\\n)\\nds_85rcp2100_new = ds_85rcp2100arr.to_dataset(name=\\\"shoreline_change\\\")\\nds_85rcp2100_new.shoreline_change.attrs[\\\"long_name\\\"] = \\\"shoreline_change\\\"\\nds_85rcp2100_new.ensemble.attrs[\\\"long_name\\\"] = \\\"ensemble\\\"\";\n",
       "                var nbb_formatted_code = \"# NetCDF variable and dimension alterations\\nds_45rcp2050 = ds_45rcp2050.set_coords([\\\"lon\\\", \\\"lat\\\"])\\nds_45rcp2100 = ds_45rcp2100.set_coords([\\\"lon\\\", \\\"lat\\\"])\\nds_85rcp2050 = ds_85rcp2050.set_coords([\\\"lon\\\", \\\"lat\\\"])\\nds_85rcp2100 = ds_85rcp2100.set_coords([\\\"lon\\\", \\\"lat\\\"])\\n\\nds_45rcp2050arr = xr.concat(\\n    [\\n        ds_45rcp2050[\\\"perc1\\\"],\\n        ds_45rcp2050[\\\"perc5\\\"],\\n        ds_45rcp2050[\\\"perc17\\\"],\\n        ds_45rcp2050[\\\"perc50\\\"],\\n        ds_45rcp2050[\\\"perc83\\\"],\\n        ds_45rcp2050[\\\"perc95\\\"],\\n        ds_45rcp2050[\\\"perc99\\\"],\\n    ],\\n    dim=\\\"nensemble\\\",\\n)\\n\\nds_45rcp2050arr = ds_45rcp2050arr.assign_coords(\\n    {\\n        \\\"ensemble\\\": (\\n            \\\"nensemble\\\",\\n            np.array([\\\"1%\\\", \\\"5%\\\", \\\"17%\\\", \\\"50%\\\", \\\"83%\\\", \\\"95%\\\", \\\"99%\\\"], dtype=\\\"S\\\"),\\n        )\\n    }\\n)\\nds_45rcp2050_new = ds_45rcp2050arr.to_dataset(name=\\\"shoreline_change\\\")\\nds_45rcp2050_new.shoreline_change.attrs[\\\"long_name\\\"] = \\\"shoreline_change\\\"\\nds_45rcp2050_new.ensemble.attrs[\\\"long_name\\\"] = \\\"ensemble\\\"\\n\\nds_45rcp2100arr = xr.concat(\\n    [\\n        ds_45rcp2100[\\\"perc1\\\"],\\n        ds_45rcp2100[\\\"perc5\\\"],\\n        ds_45rcp2100[\\\"perc17\\\"],\\n        ds_45rcp2100[\\\"perc50\\\"],\\n        ds_45rcp2100[\\\"perc83\\\"],\\n        ds_45rcp2100[\\\"perc95\\\"],\\n        ds_45rcp2100[\\\"perc99\\\"],\\n    ],\\n    dim=\\\"nensemble\\\",\\n)\\n\\nds_45rcp2100arr = ds_45rcp2100arr.assign_coords(\\n    {\\n        \\\"ensemble\\\": (\\n            \\\"nensemble\\\",\\n            np.array([\\\"1%\\\", \\\"5%\\\", \\\"17%\\\", \\\"50%\\\", \\\"83%\\\", \\\"95%\\\", \\\"99%\\\"], dtype=\\\"S\\\"),\\n        )\\n    }\\n)\\nds_45rcp2100_new = ds_45rcp2100arr.to_dataset(name=\\\"shoreline_change\\\")\\nds_45rcp2100_new.shoreline_change.attrs[\\\"long_name\\\"] = \\\"shoreline_change\\\"\\nds_45rcp2100_new.ensemble.attrs[\\\"long_name\\\"] = \\\"ensemble\\\"\\n\\nds_85rcp2050arr = xr.concat(\\n    [\\n        ds_85rcp2050[\\\"perc1\\\"],\\n        ds_85rcp2050[\\\"perc5\\\"],\\n        ds_85rcp2050[\\\"perc17\\\"],\\n        ds_85rcp2050[\\\"perc50\\\"],\\n        ds_85rcp2050[\\\"perc83\\\"],\\n        ds_85rcp2050[\\\"perc95\\\"],\\n        ds_85rcp2050[\\\"perc99\\\"],\\n    ],\\n    dim=\\\"nensemble\\\",\\n)\\n\\nds_85rcp2050arr = ds_85rcp2050arr.assign_coords(\\n    {\\n        \\\"ensemble\\\": (\\n            \\\"nensemble\\\",\\n            np.array([\\\"1%\\\", \\\"5%\\\", \\\"17%\\\", \\\"50%\\\", \\\"83%\\\", \\\"95%\\\", \\\"99%\\\"], dtype=\\\"S\\\"),\\n        )\\n    }\\n)\\nds_85rcp2050_new = ds_85rcp2050arr.to_dataset(name=\\\"shoreline_change\\\")\\nds_85rcp2050_new.shoreline_change.attrs[\\\"long_name\\\"] = \\\"shoreline_change\\\"\\nds_85rcp2050_new.ensemble.attrs[\\\"long_name\\\"] = \\\"ensemble\\\"\\n\\nds_85rcp2100arr = xr.concat(\\n    [\\n        ds_85rcp2100[\\\"perc1\\\"],\\n        ds_85rcp2100[\\\"perc5\\\"],\\n        ds_85rcp2100[\\\"perc17\\\"],\\n        ds_85rcp2100[\\\"perc50\\\"],\\n        ds_85rcp2100[\\\"perc83\\\"],\\n        ds_85rcp2100[\\\"perc95\\\"],\\n        ds_85rcp2100[\\\"perc99\\\"],\\n    ],\\n    dim=\\\"nensemble\\\",\\n)\\n\\nds_85rcp2100arr = ds_85rcp2100arr.assign_coords(\\n    {\\n        \\\"ensemble\\\": (\\n            \\\"nensemble\\\",\\n            np.array([\\\"1%\\\", \\\"5%\\\", \\\"17%\\\", \\\"50%\\\", \\\"83%\\\", \\\"95%\\\", \\\"99%\\\"], dtype=\\\"S\\\"),\\n        )\\n    }\\n)\\nds_85rcp2100_new = ds_85rcp2100arr.to_dataset(name=\\\"shoreline_change\\\")\\nds_85rcp2100_new.shoreline_change.attrs[\\\"long_name\\\"] = \\\"shoreline_change\\\"\\nds_85rcp2100_new.ensemble.attrs[\\\"long_name\\\"] = \\\"ensemble\\\"\";\n",
       "                var nbb_cells = Jupyter.notebook.get_cells();\n",
       "                for (var i = 0; i < nbb_cells.length; ++i) {\n",
       "                    if (nbb_cells[i].input_prompt_number == nbb_cell_id) {\n",
       "                        if (nbb_cells[i].get_text() == nbb_unformatted_code) {\n",
       "                             nbb_cells[i].set_text(nbb_formatted_code);\n",
       "                        }\n",
       "                        break;\n",
       "                    }\n",
       "                }\n",
       "            }, 500);\n",
       "            "
      ],
      "text/plain": [
       "<IPython.core.display.Javascript object>"
      ]
     },
     "metadata": {},
     "output_type": "display_data"
    }
   ],
   "source": [
    "# NetCDF variable and dimension alterations\n",
    "ds_45rcp2050 = ds_45rcp2050.set_coords([\"lon\", \"lat\"])\n",
    "ds_45rcp2100 = ds_45rcp2100.set_coords([\"lon\", \"lat\"])\n",
    "ds_85rcp2050 = ds_85rcp2050.set_coords([\"lon\", \"lat\"])\n",
    "ds_85rcp2100 = ds_85rcp2100.set_coords([\"lon\", \"lat\"])\n",
    "\n",
    "ds_45rcp2050arr = xr.concat(\n",
    "    [\n",
    "        ds_45rcp2050[\"perc1\"],\n",
    "        ds_45rcp2050[\"perc5\"],\n",
    "        ds_45rcp2050[\"perc17\"],\n",
    "        ds_45rcp2050[\"perc50\"],\n",
    "        ds_45rcp2050[\"perc83\"],\n",
    "        ds_45rcp2050[\"perc95\"],\n",
    "        ds_45rcp2050[\"perc99\"],\n",
    "    ],\n",
    "    dim=\"nensemble\",\n",
    ")\n",
    "\n",
    "ds_45rcp2050arr = ds_45rcp2050arr.assign_coords(\n",
    "    {\n",
    "        \"ensemble\": (\n",
    "            \"nensemble\",\n",
    "            np.array([\"1%\", \"5%\", \"17%\", \"50%\", \"83%\", \"95%\", \"99%\"], dtype=\"S\"),\n",
    "        )\n",
    "    }\n",
    ")\n",
    "ds_45rcp2050_new = ds_45rcp2050arr.to_dataset(name=\"shoreline_change\")\n",
    "ds_45rcp2050_new.shoreline_change.attrs[\"long_name\"] = \"shoreline_change\"\n",
    "ds_45rcp2050_new.ensemble.attrs[\"long_name\"] = \"ensemble\"\n",
    "\n",
    "ds_45rcp2100arr = xr.concat(\n",
    "    [\n",
    "        ds_45rcp2100[\"perc1\"],\n",
    "        ds_45rcp2100[\"perc5\"],\n",
    "        ds_45rcp2100[\"perc17\"],\n",
    "        ds_45rcp2100[\"perc50\"],\n",
    "        ds_45rcp2100[\"perc83\"],\n",
    "        ds_45rcp2100[\"perc95\"],\n",
    "        ds_45rcp2100[\"perc99\"],\n",
    "    ],\n",
    "    dim=\"nensemble\",\n",
    ")\n",
    "\n",
    "ds_45rcp2100arr = ds_45rcp2100arr.assign_coords(\n",
    "    {\n",
    "        \"ensemble\": (\n",
    "            \"nensemble\",\n",
    "            np.array([\"1%\", \"5%\", \"17%\", \"50%\", \"83%\", \"95%\", \"99%\"], dtype=\"S\"),\n",
    "        )\n",
    "    }\n",
    ")\n",
    "ds_45rcp2100_new = ds_45rcp2100arr.to_dataset(name=\"shoreline_change\")\n",
    "ds_45rcp2100_new.shoreline_change.attrs[\"long_name\"] = \"shoreline_change\"\n",
    "ds_45rcp2100_new.ensemble.attrs[\"long_name\"] = \"ensemble\"\n",
    "\n",
    "ds_85rcp2050arr = xr.concat(\n",
    "    [\n",
    "        ds_85rcp2050[\"perc1\"],\n",
    "        ds_85rcp2050[\"perc5\"],\n",
    "        ds_85rcp2050[\"perc17\"],\n",
    "        ds_85rcp2050[\"perc50\"],\n",
    "        ds_85rcp2050[\"perc83\"],\n",
    "        ds_85rcp2050[\"perc95\"],\n",
    "        ds_85rcp2050[\"perc99\"],\n",
    "    ],\n",
    "    dim=\"nensemble\",\n",
    ")\n",
    "\n",
    "ds_85rcp2050arr = ds_85rcp2050arr.assign_coords(\n",
    "    {\n",
    "        \"ensemble\": (\n",
    "            \"nensemble\",\n",
    "            np.array([\"1%\", \"5%\", \"17%\", \"50%\", \"83%\", \"95%\", \"99%\"], dtype=\"S\"),\n",
    "        )\n",
    "    }\n",
    ")\n",
    "ds_85rcp2050_new = ds_85rcp2050arr.to_dataset(name=\"shoreline_change\")\n",
    "ds_85rcp2050_new.shoreline_change.attrs[\"long_name\"] = \"shoreline_change\"\n",
    "ds_85rcp2050_new.ensemble.attrs[\"long_name\"] = \"ensemble\"\n",
    "\n",
    "ds_85rcp2100arr = xr.concat(\n",
    "    [\n",
    "        ds_85rcp2100[\"perc1\"],\n",
    "        ds_85rcp2100[\"perc5\"],\n",
    "        ds_85rcp2100[\"perc17\"],\n",
    "        ds_85rcp2100[\"perc50\"],\n",
    "        ds_85rcp2100[\"perc83\"],\n",
    "        ds_85rcp2100[\"perc95\"],\n",
    "        ds_85rcp2100[\"perc99\"],\n",
    "    ],\n",
    "    dim=\"nensemble\",\n",
    ")\n",
    "\n",
    "ds_85rcp2100arr = ds_85rcp2100arr.assign_coords(\n",
    "    {\n",
    "        \"ensemble\": (\n",
    "            \"nensemble\",\n",
    "            np.array([\"1%\", \"5%\", \"17%\", \"50%\", \"83%\", \"95%\", \"99%\"], dtype=\"S\"),\n",
    "        )\n",
    "    }\n",
    ")\n",
    "ds_85rcp2100_new = ds_85rcp2100arr.to_dataset(name=\"shoreline_change\")\n",
    "ds_85rcp2100_new.shoreline_change.attrs[\"long_name\"] = \"shoreline_change\"\n",
    "ds_85rcp2100_new.ensemble.attrs[\"long_name\"] = \"ensemble\""
   ]
  },
  {
   "cell_type": "code",
   "execution_count": 161,
   "id": "60313698",
   "metadata": {},
   "outputs": [
    {
     "data": {
      "application/javascript": [
       "\n",
       "            setTimeout(function() {\n",
       "                var nbb_cell_id = 161;\n",
       "                var nbb_unformatted_code = \"# add or change certain variable / coordinate attributes\\ndataset_attributes = {\\n    \\\"title\\\": \\\"Global shoreline change projections for the year 2050 under RCP4.5\\\",\\n    \\\"description\\\": \\\"Projections of global shoreline change in view of climate change considering the combined effects of ambient change, sea level rise and storm driven erosion\\\",\\n    \\\"source\\\": 'The procedure to produce the dataset and the findings are discussed in the paper: \\\"Vousdoukas, M.I., Ranasinghe, R., Mentaschi, L., Plomaritis, T.P., Athanasiou, P., Luijendijk, A., and Feyen, L. (2020). Sandy coastlines under threat of erosion. Nature Communications. https://www.nature.com/articles/s41558-020-0697-0,\\\"',\\n    \\\"Conventions\\\": \\\"CF-1.8\\\",\\n}  # specify custom (CF convention) attributes\\n\\n# add / overwrite attributes\\nfor k, v in dataset_attributes.items():\\n    try:\\n        ds_45rcp2050_new.attrs = dataset_attributes\\n        ds_45rcp2100_new.attrs = dataset_attributes\\n        ds_85rcp2050_new.attrs = dataset_attributes\\n        ds_85rcp2100_new.attrs = dataset_attributes\\n    except:\\n        continue\\n\\n# rename or swap dimension names, the latter in case the name already exists as coordinate\\nds_45rcp2050_new = ds_45rcp2050_new.rename_dims({\\\"row\\\": \\\"stations\\\"})\\nds_45rcp2100_new = ds_45rcp2100_new.rename_dims({\\\"row\\\": \\\"stations\\\"})\\nds_85rcp2050_new = ds_85rcp2050_new.rename_dims({\\\"row\\\": \\\"stations\\\"})\\nds_85rcp2100_new = ds_85rcp2100_new.rename_dims({\\\"row\\\": \\\"stations\\\"})\";\n",
       "                var nbb_formatted_code = \"# add or change certain variable / coordinate attributes\\ndataset_attributes = {\\n    \\\"title\\\": \\\"Global shoreline change projections for the year 2050 under RCP4.5\\\",\\n    \\\"description\\\": \\\"Projections of global shoreline change in view of climate change considering the combined effects of ambient change, sea level rise and storm driven erosion\\\",\\n    \\\"source\\\": 'The procedure to produce the dataset and the findings are discussed in the paper: \\\"Vousdoukas, M.I., Ranasinghe, R., Mentaschi, L., Plomaritis, T.P., Athanasiou, P., Luijendijk, A., and Feyen, L. (2020). Sandy coastlines under threat of erosion. Nature Communications. https://www.nature.com/articles/s41558-020-0697-0,\\\"',\\n    \\\"Conventions\\\": \\\"CF-1.8\\\",\\n}  # specify custom (CF convention) attributes\\n\\n# add / overwrite attributes\\nfor k, v in dataset_attributes.items():\\n    try:\\n        ds_45rcp2050_new.attrs = dataset_attributes\\n        ds_45rcp2100_new.attrs = dataset_attributes\\n        ds_85rcp2050_new.attrs = dataset_attributes\\n        ds_85rcp2100_new.attrs = dataset_attributes\\n    except:\\n        continue\\n\\n# rename or swap dimension names, the latter in case the name already exists as coordinate\\nds_45rcp2050_new = ds_45rcp2050_new.rename_dims({\\\"row\\\": \\\"stations\\\"})\\nds_45rcp2100_new = ds_45rcp2100_new.rename_dims({\\\"row\\\": \\\"stations\\\"})\\nds_85rcp2050_new = ds_85rcp2050_new.rename_dims({\\\"row\\\": \\\"stations\\\"})\\nds_85rcp2100_new = ds_85rcp2100_new.rename_dims({\\\"row\\\": \\\"stations\\\"})\";\n",
       "                var nbb_cells = Jupyter.notebook.get_cells();\n",
       "                for (var i = 0; i < nbb_cells.length; ++i) {\n",
       "                    if (nbb_cells[i].input_prompt_number == nbb_cell_id) {\n",
       "                        if (nbb_cells[i].get_text() == nbb_unformatted_code) {\n",
       "                             nbb_cells[i].set_text(nbb_formatted_code);\n",
       "                        }\n",
       "                        break;\n",
       "                    }\n",
       "                }\n",
       "            }, 500);\n",
       "            "
      ],
      "text/plain": [
       "<IPython.core.display.Javascript object>"
      ]
     },
     "metadata": {},
     "output_type": "display_data"
    }
   ],
   "source": [
    "# add or change certain variable / coordinate attributes\n",
    "dataset_attributes = {\n",
    "    \"title\": \"Global shoreline change projections for the year 2050 under RCP4.5\",\n",
    "    \"description\": \"Projections of global shoreline change in view of climate change considering the combined effects of ambient change, sea level rise and storm driven erosion\",\n",
    "    \"source\": 'The procedure to produce the dataset and the findings are discussed in the paper: \"Vousdoukas, M.I., Ranasinghe, R., Mentaschi, L., Plomaritis, T.P., Athanasiou, P., Luijendijk, A., and Feyen, L. (2020). Sandy coastlines under threat of erosion. Nature Communications. https://www.nature.com/articles/s41558-020-0697-0,\"',\n",
    "    \"Conventions\": \"CF-1.8\",\n",
    "}  # specify custom (CF convention) attributes\n",
    "\n",
    "# add / overwrite attributes\n",
    "for k, v in dataset_attributes.items():\n",
    "    try:\n",
    "        ds_45rcp2050_new.attrs = dataset_attributes\n",
    "        ds_45rcp2100_new.attrs = dataset_attributes\n",
    "        ds_85rcp2050_new.attrs = dataset_attributes\n",
    "        ds_85rcp2100_new.attrs = dataset_attributes\n",
    "    except:\n",
    "        continue\n",
    "\n",
    "# rename or swap dimension names, the latter in case the name already exists as coordinate\n",
    "ds_45rcp2050_new = ds_45rcp2050_new.rename_dims({\"row\": \"stations\"})\n",
    "ds_45rcp2100_new = ds_45rcp2100_new.rename_dims({\"row\": \"stations\"})\n",
    "ds_85rcp2050_new = ds_85rcp2050_new.rename_dims({\"row\": \"stations\"})\n",
    "ds_85rcp2100_new = ds_85rcp2100_new.rename_dims({\"row\": \"stations\"})"
   ]
  },
  {
   "cell_type": "code",
   "execution_count": 162,
   "id": "e89f9950",
   "metadata": {},
   "outputs": [
    {
     "data": {
      "application/javascript": [
       "\n",
       "            setTimeout(function() {\n",
       "                var nbb_cell_id = 162;\n",
       "                var nbb_unformatted_code = \"# concat datasets along new dimension with index values and name derived from pandas index object, if necessary\\nds_45rcp = xr.concat([ds_45rcp2050_new, ds_45rcp2100_new], dim=\\\"time\\\")\\nds_45rcp = ds_45rcp.assign_coords(time=(\\\"time\\\", np.array([2050, 2100])))\\nds_45rcp.time.attrs[\\\"long_name\\\"] = \\\"time\\\"\\nds_45rcp.time.attrs[\\\"units\\\"] = \\\"yr\\\"\\n\\nds_85rcp = xr.concat([ds_85rcp2050_new, ds_85rcp2100_new], dim=\\\"time\\\")\\nds_85rcp = ds_85rcp.assign_coords(time=(\\\"time\\\", np.array([2050, 2100])))\\nds_85rcp.time.attrs[\\\"long_name\\\"] = \\\"time\\\"\\nds_85rcp.time.attrs[\\\"units\\\"] = \\\"yr\\\"\\n\\ndataset = xr.concat([ds_45rcp, ds_85rcp], dim=\\\"nscenarios\\\")\\ndataset = dataset.assign_coords(\\n    scenarios=(\\\"nscenarios\\\", np.array([\\\"RCP45\\\", \\\"RCP85\\\"], dtype=\\\"S\\\"))\\n)\\ndataset.scenarios.attrs[\\\"long_name\\\"] = \\\"climate scenarios\\\"\\n\\n# dataset[\\\"scenarios\\\"].values.astype(\\\"U\\\") # retrieve scenarios as string\";\n",
       "                var nbb_formatted_code = \"# concat datasets along new dimension with index values and name derived from pandas index object, if necessary\\nds_45rcp = xr.concat([ds_45rcp2050_new, ds_45rcp2100_new], dim=\\\"time\\\")\\nds_45rcp = ds_45rcp.assign_coords(time=(\\\"time\\\", np.array([2050, 2100])))\\nds_45rcp.time.attrs[\\\"long_name\\\"] = \\\"time\\\"\\nds_45rcp.time.attrs[\\\"units\\\"] = \\\"yr\\\"\\n\\nds_85rcp = xr.concat([ds_85rcp2050_new, ds_85rcp2100_new], dim=\\\"time\\\")\\nds_85rcp = ds_85rcp.assign_coords(time=(\\\"time\\\", np.array([2050, 2100])))\\nds_85rcp.time.attrs[\\\"long_name\\\"] = \\\"time\\\"\\nds_85rcp.time.attrs[\\\"units\\\"] = \\\"yr\\\"\\n\\ndataset = xr.concat([ds_45rcp, ds_85rcp], dim=\\\"nscenarios\\\")\\ndataset = dataset.assign_coords(\\n    scenarios=(\\\"nscenarios\\\", np.array([\\\"RCP45\\\", \\\"RCP85\\\"], dtype=\\\"S\\\"))\\n)\\ndataset.scenarios.attrs[\\\"long_name\\\"] = \\\"climate scenarios\\\"\\n\\n# dataset[\\\"scenarios\\\"].values.astype(\\\"U\\\") # retrieve scenarios as string\";\n",
       "                var nbb_cells = Jupyter.notebook.get_cells();\n",
       "                for (var i = 0; i < nbb_cells.length; ++i) {\n",
       "                    if (nbb_cells[i].input_prompt_number == nbb_cell_id) {\n",
       "                        if (nbb_cells[i].get_text() == nbb_unformatted_code) {\n",
       "                             nbb_cells[i].set_text(nbb_formatted_code);\n",
       "                        }\n",
       "                        break;\n",
       "                    }\n",
       "                }\n",
       "            }, 500);\n",
       "            "
      ],
      "text/plain": [
       "<IPython.core.display.Javascript object>"
      ]
     },
     "metadata": {},
     "output_type": "display_data"
    }
   ],
   "source": [
    "# concat datasets along new dimension with index values and name derived from pandas index object, if necessary\n",
    "ds_45rcp = xr.concat([ds_45rcp2050_new, ds_45rcp2100_new], dim=\"time\")\n",
    "ds_45rcp = ds_45rcp.assign_coords(time=(\"time\", np.array([2050, 2100])))\n",
    "ds_45rcp.time.attrs[\"long_name\"] = \"time\"\n",
    "ds_45rcp.time.attrs[\"units\"] = \"yr\"\n",
    "\n",
    "ds_85rcp = xr.concat([ds_85rcp2050_new, ds_85rcp2100_new], dim=\"time\")\n",
    "ds_85rcp = ds_85rcp.assign_coords(time=(\"time\", np.array([2050, 2100])))\n",
    "ds_85rcp.time.attrs[\"long_name\"] = \"time\"\n",
    "ds_85rcp.time.attrs[\"units\"] = \"yr\"\n",
    "\n",
    "dataset = xr.concat([ds_45rcp, ds_85rcp], dim=\"nscenarios\")\n",
    "dataset = dataset.assign_coords(\n",
    "    scenarios=(\"nscenarios\", np.array([\"RCP45\", \"RCP85\"], dtype=\"S\"))\n",
    ")\n",
    "dataset.scenarios.attrs[\"long_name\"] = \"climate scenarios\"\n",
    "\n",
    "# dataset[\"scenarios\"].values.astype(\"U\") # retrieve scenarios as string"
   ]
  },
  {
   "cell_type": "code",
   "execution_count": 163,
   "id": "7ada3ac9",
   "metadata": {},
   "outputs": [
    {
     "data": {
      "application/javascript": [
       "\n",
       "            setTimeout(function() {\n",
       "                var nbb_cell_id = 163;\n",
       "                var nbb_unformatted_code = \"# re-order shape of the data variables\\nds_45rcp2050_new = ds_45rcp2050_new.transpose(\\\"stations\\\", \\\"nensemble\\\")\\nds_45rcp2100_new = ds_45rcp2100_new.transpose(\\\"stations\\\", \\\"nensemble\\\")\\nds_85rcp2050_new = ds_85rcp2050_new.transpose(\\\"stations\\\", \\\"nensemble\\\")\\nds_85rcp2100_new = ds_85rcp2100_new.transpose(\\\"stations\\\", \\\"nensemble\\\")\\ndataset = dataset.transpose(\\\"nscenarios\\\", \\\"stations\\\", \\\"time\\\", \\\"nensemble\\\")\";\n",
       "                var nbb_formatted_code = \"# re-order shape of the data variables\\nds_45rcp2050_new = ds_45rcp2050_new.transpose(\\\"stations\\\", \\\"nensemble\\\")\\nds_45rcp2100_new = ds_45rcp2100_new.transpose(\\\"stations\\\", \\\"nensemble\\\")\\nds_85rcp2050_new = ds_85rcp2050_new.transpose(\\\"stations\\\", \\\"nensemble\\\")\\nds_85rcp2100_new = ds_85rcp2100_new.transpose(\\\"stations\\\", \\\"nensemble\\\")\\ndataset = dataset.transpose(\\\"nscenarios\\\", \\\"stations\\\", \\\"time\\\", \\\"nensemble\\\")\";\n",
       "                var nbb_cells = Jupyter.notebook.get_cells();\n",
       "                for (var i = 0; i < nbb_cells.length; ++i) {\n",
       "                    if (nbb_cells[i].input_prompt_number == nbb_cell_id) {\n",
       "                        if (nbb_cells[i].get_text() == nbb_unformatted_code) {\n",
       "                             nbb_cells[i].set_text(nbb_formatted_code);\n",
       "                        }\n",
       "                        break;\n",
       "                    }\n",
       "                }\n",
       "            }, 500);\n",
       "            "
      ],
      "text/plain": [
       "<IPython.core.display.Javascript object>"
      ]
     },
     "metadata": {},
     "output_type": "display_data"
    }
   ],
   "source": [
    "# re-order shape of the data variables\n",
    "ds_45rcp2050_new = ds_45rcp2050_new.transpose(\"stations\", \"nensemble\")\n",
    "ds_45rcp2100_new = ds_45rcp2100_new.transpose(\"stations\", \"nensemble\")\n",
    "ds_85rcp2050_new = ds_85rcp2050_new.transpose(\"stations\", \"nensemble\")\n",
    "ds_85rcp2100_new = ds_85rcp2100_new.transpose(\"stations\", \"nensemble\")\n",
    "dataset = dataset.transpose(\"nscenarios\", \"stations\", \"time\", \"nensemble\")"
   ]
  },
  {
   "cell_type": "code",
   "execution_count": 164,
   "id": "47662719",
   "metadata": {},
   "outputs": [
    {
     "data": {
      "text/html": [
       "<div><svg style=\"position: absolute; width: 0; height: 0; overflow: hidden\">\n",
       "<defs>\n",
       "<symbol id=\"icon-database\" viewBox=\"0 0 32 32\">\n",
       "<path d=\"M16 0c-8.837 0-16 2.239-16 5v4c0 2.761 7.163 5 16 5s16-2.239 16-5v-4c0-2.761-7.163-5-16-5z\"></path>\n",
       "<path d=\"M16 17c-8.837 0-16-2.239-16-5v6c0 2.761 7.163 5 16 5s16-2.239 16-5v-6c0 2.761-7.163 5-16 5z\"></path>\n",
       "<path d=\"M16 26c-8.837 0-16-2.239-16-5v6c0 2.761 7.163 5 16 5s16-2.239 16-5v-6c0 2.761-7.163 5-16 5z\"></path>\n",
       "</symbol>\n",
       "<symbol id=\"icon-file-text2\" viewBox=\"0 0 32 32\">\n",
       "<path d=\"M28.681 7.159c-0.694-0.947-1.662-2.053-2.724-3.116s-2.169-2.030-3.116-2.724c-1.612-1.182-2.393-1.319-2.841-1.319h-15.5c-1.378 0-2.5 1.121-2.5 2.5v27c0 1.378 1.122 2.5 2.5 2.5h23c1.378 0 2.5-1.122 2.5-2.5v-19.5c0-0.448-0.137-1.23-1.319-2.841zM24.543 5.457c0.959 0.959 1.712 1.825 2.268 2.543h-4.811v-4.811c0.718 0.556 1.584 1.309 2.543 2.268zM28 29.5c0 0.271-0.229 0.5-0.5 0.5h-23c-0.271 0-0.5-0.229-0.5-0.5v-27c0-0.271 0.229-0.5 0.5-0.5 0 0 15.499-0 15.5 0v7c0 0.552 0.448 1 1 1h7v19.5z\"></path>\n",
       "<path d=\"M23 26h-14c-0.552 0-1-0.448-1-1s0.448-1 1-1h14c0.552 0 1 0.448 1 1s-0.448 1-1 1z\"></path>\n",
       "<path d=\"M23 22h-14c-0.552 0-1-0.448-1-1s0.448-1 1-1h14c0.552 0 1 0.448 1 1s-0.448 1-1 1z\"></path>\n",
       "<path d=\"M23 18h-14c-0.552 0-1-0.448-1-1s0.448-1 1-1h14c0.552 0 1 0.448 1 1s-0.448 1-1 1z\"></path>\n",
       "</symbol>\n",
       "</defs>\n",
       "</svg>\n",
       "<style>/* CSS stylesheet for displaying xarray objects in jupyterlab.\n",
       " *\n",
       " */\n",
       "\n",
       ":root {\n",
       "  --xr-font-color0: var(--jp-content-font-color0, rgba(0, 0, 0, 1));\n",
       "  --xr-font-color2: var(--jp-content-font-color2, rgba(0, 0, 0, 0.54));\n",
       "  --xr-font-color3: var(--jp-content-font-color3, rgba(0, 0, 0, 0.38));\n",
       "  --xr-border-color: var(--jp-border-color2, #e0e0e0);\n",
       "  --xr-disabled-color: var(--jp-layout-color3, #bdbdbd);\n",
       "  --xr-background-color: var(--jp-layout-color0, white);\n",
       "  --xr-background-color-row-even: var(--jp-layout-color1, white);\n",
       "  --xr-background-color-row-odd: var(--jp-layout-color2, #eeeeee);\n",
       "}\n",
       "\n",
       "html[theme=dark],\n",
       "body.vscode-dark {\n",
       "  --xr-font-color0: rgba(255, 255, 255, 1);\n",
       "  --xr-font-color2: rgba(255, 255, 255, 0.54);\n",
       "  --xr-font-color3: rgba(255, 255, 255, 0.38);\n",
       "  --xr-border-color: #1F1F1F;\n",
       "  --xr-disabled-color: #515151;\n",
       "  --xr-background-color: #111111;\n",
       "  --xr-background-color-row-even: #111111;\n",
       "  --xr-background-color-row-odd: #313131;\n",
       "}\n",
       "\n",
       ".xr-wrap {\n",
       "  display: block !important;\n",
       "  min-width: 300px;\n",
       "  max-width: 700px;\n",
       "}\n",
       "\n",
       ".xr-text-repr-fallback {\n",
       "  /* fallback to plain text repr when CSS is not injected (untrusted notebook) */\n",
       "  display: none;\n",
       "}\n",
       "\n",
       ".xr-header {\n",
       "  padding-top: 6px;\n",
       "  padding-bottom: 6px;\n",
       "  margin-bottom: 4px;\n",
       "  border-bottom: solid 1px var(--xr-border-color);\n",
       "}\n",
       "\n",
       ".xr-header > div,\n",
       ".xr-header > ul {\n",
       "  display: inline;\n",
       "  margin-top: 0;\n",
       "  margin-bottom: 0;\n",
       "}\n",
       "\n",
       ".xr-obj-type,\n",
       ".xr-array-name {\n",
       "  margin-left: 2px;\n",
       "  margin-right: 10px;\n",
       "}\n",
       "\n",
       ".xr-obj-type {\n",
       "  color: var(--xr-font-color2);\n",
       "}\n",
       "\n",
       ".xr-sections {\n",
       "  padding-left: 0 !important;\n",
       "  display: grid;\n",
       "  grid-template-columns: 150px auto auto 1fr 20px 20px;\n",
       "}\n",
       "\n",
       ".xr-section-item {\n",
       "  display: contents;\n",
       "}\n",
       "\n",
       ".xr-section-item input {\n",
       "  display: none;\n",
       "}\n",
       "\n",
       ".xr-section-item input + label {\n",
       "  color: var(--xr-disabled-color);\n",
       "}\n",
       "\n",
       ".xr-section-item input:enabled + label {\n",
       "  cursor: pointer;\n",
       "  color: var(--xr-font-color2);\n",
       "}\n",
       "\n",
       ".xr-section-item input:enabled + label:hover {\n",
       "  color: var(--xr-font-color0);\n",
       "}\n",
       "\n",
       ".xr-section-summary {\n",
       "  grid-column: 1;\n",
       "  color: var(--xr-font-color2);\n",
       "  font-weight: 500;\n",
       "}\n",
       "\n",
       ".xr-section-summary > span {\n",
       "  display: inline-block;\n",
       "  padding-left: 0.5em;\n",
       "}\n",
       "\n",
       ".xr-section-summary-in:disabled + label {\n",
       "  color: var(--xr-font-color2);\n",
       "}\n",
       "\n",
       ".xr-section-summary-in + label:before {\n",
       "  display: inline-block;\n",
       "  content: '►';\n",
       "  font-size: 11px;\n",
       "  width: 15px;\n",
       "  text-align: center;\n",
       "}\n",
       "\n",
       ".xr-section-summary-in:disabled + label:before {\n",
       "  color: var(--xr-disabled-color);\n",
       "}\n",
       "\n",
       ".xr-section-summary-in:checked + label:before {\n",
       "  content: '▼';\n",
       "}\n",
       "\n",
       ".xr-section-summary-in:checked + label > span {\n",
       "  display: none;\n",
       "}\n",
       "\n",
       ".xr-section-summary,\n",
       ".xr-section-inline-details {\n",
       "  padding-top: 4px;\n",
       "  padding-bottom: 4px;\n",
       "}\n",
       "\n",
       ".xr-section-inline-details {\n",
       "  grid-column: 2 / -1;\n",
       "}\n",
       "\n",
       ".xr-section-details {\n",
       "  display: none;\n",
       "  grid-column: 1 / -1;\n",
       "  margin-bottom: 5px;\n",
       "}\n",
       "\n",
       ".xr-section-summary-in:checked ~ .xr-section-details {\n",
       "  display: contents;\n",
       "}\n",
       "\n",
       ".xr-array-wrap {\n",
       "  grid-column: 1 / -1;\n",
       "  display: grid;\n",
       "  grid-template-columns: 20px auto;\n",
       "}\n",
       "\n",
       ".xr-array-wrap > label {\n",
       "  grid-column: 1;\n",
       "  vertical-align: top;\n",
       "}\n",
       "\n",
       ".xr-preview {\n",
       "  color: var(--xr-font-color3);\n",
       "}\n",
       "\n",
       ".xr-array-preview,\n",
       ".xr-array-data {\n",
       "  padding: 0 5px !important;\n",
       "  grid-column: 2;\n",
       "}\n",
       "\n",
       ".xr-array-data,\n",
       ".xr-array-in:checked ~ .xr-array-preview {\n",
       "  display: none;\n",
       "}\n",
       "\n",
       ".xr-array-in:checked ~ .xr-array-data,\n",
       ".xr-array-preview {\n",
       "  display: inline-block;\n",
       "}\n",
       "\n",
       ".xr-dim-list {\n",
       "  display: inline-block !important;\n",
       "  list-style: none;\n",
       "  padding: 0 !important;\n",
       "  margin: 0;\n",
       "}\n",
       "\n",
       ".xr-dim-list li {\n",
       "  display: inline-block;\n",
       "  padding: 0;\n",
       "  margin: 0;\n",
       "}\n",
       "\n",
       ".xr-dim-list:before {\n",
       "  content: '(';\n",
       "}\n",
       "\n",
       ".xr-dim-list:after {\n",
       "  content: ')';\n",
       "}\n",
       "\n",
       ".xr-dim-list li:not(:last-child):after {\n",
       "  content: ',';\n",
       "  padding-right: 5px;\n",
       "}\n",
       "\n",
       ".xr-has-index {\n",
       "  font-weight: bold;\n",
       "}\n",
       "\n",
       ".xr-var-list,\n",
       ".xr-var-item {\n",
       "  display: contents;\n",
       "}\n",
       "\n",
       ".xr-var-item > div,\n",
       ".xr-var-item label,\n",
       ".xr-var-item > .xr-var-name span {\n",
       "  background-color: var(--xr-background-color-row-even);\n",
       "  margin-bottom: 0;\n",
       "}\n",
       "\n",
       ".xr-var-item > .xr-var-name:hover span {\n",
       "  padding-right: 5px;\n",
       "}\n",
       "\n",
       ".xr-var-list > li:nth-child(odd) > div,\n",
       ".xr-var-list > li:nth-child(odd) > label,\n",
       ".xr-var-list > li:nth-child(odd) > .xr-var-name span {\n",
       "  background-color: var(--xr-background-color-row-odd);\n",
       "}\n",
       "\n",
       ".xr-var-name {\n",
       "  grid-column: 1;\n",
       "}\n",
       "\n",
       ".xr-var-dims {\n",
       "  grid-column: 2;\n",
       "}\n",
       "\n",
       ".xr-var-dtype {\n",
       "  grid-column: 3;\n",
       "  text-align: right;\n",
       "  color: var(--xr-font-color2);\n",
       "}\n",
       "\n",
       ".xr-var-preview {\n",
       "  grid-column: 4;\n",
       "}\n",
       "\n",
       ".xr-var-name,\n",
       ".xr-var-dims,\n",
       ".xr-var-dtype,\n",
       ".xr-preview,\n",
       ".xr-attrs dt {\n",
       "  white-space: nowrap;\n",
       "  overflow: hidden;\n",
       "  text-overflow: ellipsis;\n",
       "  padding-right: 10px;\n",
       "}\n",
       "\n",
       ".xr-var-name:hover,\n",
       ".xr-var-dims:hover,\n",
       ".xr-var-dtype:hover,\n",
       ".xr-attrs dt:hover {\n",
       "  overflow: visible;\n",
       "  width: auto;\n",
       "  z-index: 1;\n",
       "}\n",
       "\n",
       ".xr-var-attrs,\n",
       ".xr-var-data {\n",
       "  display: none;\n",
       "  background-color: var(--xr-background-color) !important;\n",
       "  padding-bottom: 5px !important;\n",
       "}\n",
       "\n",
       ".xr-var-attrs-in:checked ~ .xr-var-attrs,\n",
       ".xr-var-data-in:checked ~ .xr-var-data {\n",
       "  display: block;\n",
       "}\n",
       "\n",
       ".xr-var-data > table {\n",
       "  float: right;\n",
       "}\n",
       "\n",
       ".xr-var-name span,\n",
       ".xr-var-data,\n",
       ".xr-attrs {\n",
       "  padding-left: 25px !important;\n",
       "}\n",
       "\n",
       ".xr-attrs,\n",
       ".xr-var-attrs,\n",
       ".xr-var-data {\n",
       "  grid-column: 1 / -1;\n",
       "}\n",
       "\n",
       "dl.xr-attrs {\n",
       "  padding: 0;\n",
       "  margin: 0;\n",
       "  display: grid;\n",
       "  grid-template-columns: 125px auto;\n",
       "}\n",
       "\n",
       ".xr-attrs dt,\n",
       ".xr-attrs dd {\n",
       "  padding: 0;\n",
       "  margin: 0;\n",
       "  float: left;\n",
       "  padding-right: 10px;\n",
       "  width: auto;\n",
       "}\n",
       "\n",
       ".xr-attrs dt {\n",
       "  font-weight: normal;\n",
       "  grid-column: 1;\n",
       "}\n",
       "\n",
       ".xr-attrs dt:hover span {\n",
       "  display: inline-block;\n",
       "  background: var(--xr-background-color);\n",
       "  padding-right: 10px;\n",
       "}\n",
       "\n",
       ".xr-attrs dd {\n",
       "  grid-column: 2;\n",
       "  white-space: pre-wrap;\n",
       "  word-break: break-all;\n",
       "}\n",
       "\n",
       ".xr-icon-database,\n",
       ".xr-icon-file-text2 {\n",
       "  display: inline-block;\n",
       "  vertical-align: middle;\n",
       "  width: 1em;\n",
       "  height: 1.5em !important;\n",
       "  stroke-width: 0;\n",
       "  stroke: currentColor;\n",
       "  fill: currentColor;\n",
       "}\n",
       "</style><pre class='xr-text-repr-fallback'>&lt;xarray.Dataset&gt;\n",
       "Dimensions:           (stations: 518005, nensemble: 7, nscenarios: 2, time: 2)\n",
       "Coordinates:\n",
       "    lat               (stations) float64 -50.38 -50.39 -50.48 ... 64.7 64.7 64.7\n",
       "    lon               (stations) float64 -74.39 -74.3 -74.18 ... 39.88 39.87\n",
       "    ensemble          (nensemble) |S3 b&#x27;1%&#x27; b&#x27;5%&#x27; b&#x27;17%&#x27; ... b&#x27;95%&#x27; b&#x27;99%&#x27;\n",
       "  * time              (time) int32 2050 2100\n",
       "    scenarios         (nscenarios) |S5 b&#x27;RCP45&#x27; b&#x27;RCP85&#x27;\n",
       "Dimensions without coordinates: stations, nensemble, nscenarios\n",
       "Data variables:\n",
       "    shoreline_change  (nscenarios, stations, time, nensemble) float64 11.95 ....\n",
       "Attributes:\n",
       "    title:        Global shoreline change projections for the year 2050 under...\n",
       "    description:  Projections of global shoreline change in view of climate c...\n",
       "    source:       The procedure to produce the dataset and the findings are d...\n",
       "    Conventions:  CF-1.8</pre><div class='xr-wrap' style='display:none'><div class='xr-header'><div class='xr-obj-type'>xarray.Dataset</div></div><ul class='xr-sections'><li class='xr-section-item'><input id='section-02de2b42-1a1d-4a02-884d-1a949907e140' class='xr-section-summary-in' type='checkbox' disabled ><label for='section-02de2b42-1a1d-4a02-884d-1a949907e140' class='xr-section-summary'  title='Expand/collapse section'>Dimensions:</label><div class='xr-section-inline-details'><ul class='xr-dim-list'><li><span>stations</span>: 518005</li><li><span>nensemble</span>: 7</li><li><span>nscenarios</span>: 2</li><li><span class='xr-has-index'>time</span>: 2</li></ul></div><div class='xr-section-details'></div></li><li class='xr-section-item'><input id='section-d90f22c8-02f2-4a51-ab2a-0ff341a76ba1' class='xr-section-summary-in' type='checkbox'  checked><label for='section-d90f22c8-02f2-4a51-ab2a-0ff341a76ba1' class='xr-section-summary' >Coordinates: <span>(5)</span></label><div class='xr-section-inline-details'></div><div class='xr-section-details'><ul class='xr-var-list'><li class='xr-var-item'><div class='xr-var-name'><span>lat</span></div><div class='xr-var-dims'>(stations)</div><div class='xr-var-dtype'>float64</div><div class='xr-var-preview xr-preview'>-50.38 -50.39 -50.48 ... 64.7 64.7</div><input id='attrs-683b974a-f22b-4230-8607-56cd9616d579' class='xr-var-attrs-in' type='checkbox' ><label for='attrs-683b974a-f22b-4230-8607-56cd9616d579' title='Show/Hide attributes'><svg class='icon xr-icon-file-text2'><use xlink:href='#icon-file-text2'></use></svg></label><input id='data-6d06deda-3ca5-40e8-b514-0bfdcf010f43' class='xr-var-data-in' type='checkbox'><label for='data-6d06deda-3ca5-40e8-b514-0bfdcf010f43' title='Show/Hide data repr'><svg class='icon xr-icon-database'><use xlink:href='#icon-database'></use></svg></label><div class='xr-var-attrs'><dl class='xr-attrs'><dt><span>units :</span></dt><dd>degrees_north</dd><dt><span>long_name :</span></dt><dd>latitude</dd><dt><span>standard_name :</span></dt><dd>latitude</dd></dl></div><div class='xr-var-data'><pre>array([-50.378, -50.386, -50.485, ...,  64.7  ,  64.699,  64.697])</pre></div></li><li class='xr-var-item'><div class='xr-var-name'><span>lon</span></div><div class='xr-var-dims'>(stations)</div><div class='xr-var-dtype'>float64</div><div class='xr-var-preview xr-preview'>-74.39 -74.3 -74.18 ... 39.88 39.87</div><input id='attrs-5ece3a6a-5f14-47c3-a649-f9171c7f78f6' class='xr-var-attrs-in' type='checkbox' ><label for='attrs-5ece3a6a-5f14-47c3-a649-f9171c7f78f6' title='Show/Hide attributes'><svg class='icon xr-icon-file-text2'><use xlink:href='#icon-file-text2'></use></svg></label><input id='data-80f99f91-22ce-4ed6-9a3a-7ee86874362b' class='xr-var-data-in' type='checkbox'><label for='data-80f99f91-22ce-4ed6-9a3a-7ee86874362b' title='Show/Hide data repr'><svg class='icon xr-icon-database'><use xlink:href='#icon-database'></use></svg></label><div class='xr-var-attrs'><dl class='xr-attrs'><dt><span>units :</span></dt><dd>degrees_east</dd><dt><span>long_name :</span></dt><dd>longitude</dd><dt><span>standard_name :</span></dt><dd>longitude</dd></dl></div><div class='xr-var-data'><pre>array([-74.386, -74.303, -74.18 , ...,  39.88 ,  39.877,  39.874])</pre></div></li><li class='xr-var-item'><div class='xr-var-name'><span>ensemble</span></div><div class='xr-var-dims'>(nensemble)</div><div class='xr-var-dtype'>|S3</div><div class='xr-var-preview xr-preview'>b&#x27;1%&#x27; b&#x27;5%&#x27; ... b&#x27;95%&#x27; b&#x27;99%&#x27;</div><input id='attrs-27f1df3b-b9dd-49ec-962a-15763aae2173' class='xr-var-attrs-in' type='checkbox' ><label for='attrs-27f1df3b-b9dd-49ec-962a-15763aae2173' title='Show/Hide attributes'><svg class='icon xr-icon-file-text2'><use xlink:href='#icon-file-text2'></use></svg></label><input id='data-d329e3a0-ae21-4775-8cd5-8543346a7fde' class='xr-var-data-in' type='checkbox'><label for='data-d329e3a0-ae21-4775-8cd5-8543346a7fde' title='Show/Hide data repr'><svg class='icon xr-icon-database'><use xlink:href='#icon-database'></use></svg></label><div class='xr-var-attrs'><dl class='xr-attrs'><dt><span>long_name :</span></dt><dd>ensemble</dd></dl></div><div class='xr-var-data'><pre>array([b&#x27;1%&#x27;, b&#x27;5%&#x27;, b&#x27;17%&#x27;, b&#x27;50%&#x27;, b&#x27;83%&#x27;, b&#x27;95%&#x27;, b&#x27;99%&#x27;], dtype=&#x27;|S3&#x27;)</pre></div></li><li class='xr-var-item'><div class='xr-var-name'><span class='xr-has-index'>time</span></div><div class='xr-var-dims'>(time)</div><div class='xr-var-dtype'>int32</div><div class='xr-var-preview xr-preview'>2050 2100</div><input id='attrs-3b28b16b-ca54-4e1b-9761-1bb1971493c6' class='xr-var-attrs-in' type='checkbox' ><label for='attrs-3b28b16b-ca54-4e1b-9761-1bb1971493c6' title='Show/Hide attributes'><svg class='icon xr-icon-file-text2'><use xlink:href='#icon-file-text2'></use></svg></label><input id='data-100ac8c2-b230-4457-8f4c-c54050fe3783' class='xr-var-data-in' type='checkbox'><label for='data-100ac8c2-b230-4457-8f4c-c54050fe3783' title='Show/Hide data repr'><svg class='icon xr-icon-database'><use xlink:href='#icon-database'></use></svg></label><div class='xr-var-attrs'><dl class='xr-attrs'><dt><span>long_name :</span></dt><dd>time</dd><dt><span>units :</span></dt><dd>yr</dd></dl></div><div class='xr-var-data'><pre>array([2050, 2100])</pre></div></li><li class='xr-var-item'><div class='xr-var-name'><span>scenarios</span></div><div class='xr-var-dims'>(nscenarios)</div><div class='xr-var-dtype'>|S5</div><div class='xr-var-preview xr-preview'>b&#x27;RCP45&#x27; b&#x27;RCP85&#x27;</div><input id='attrs-44336d8b-a1a7-4df1-b76a-76508a64da5f' class='xr-var-attrs-in' type='checkbox' ><label for='attrs-44336d8b-a1a7-4df1-b76a-76508a64da5f' title='Show/Hide attributes'><svg class='icon xr-icon-file-text2'><use xlink:href='#icon-file-text2'></use></svg></label><input id='data-73833436-0a4c-4c97-a9f8-557bbae7196d' class='xr-var-data-in' type='checkbox'><label for='data-73833436-0a4c-4c97-a9f8-557bbae7196d' title='Show/Hide data repr'><svg class='icon xr-icon-database'><use xlink:href='#icon-database'></use></svg></label><div class='xr-var-attrs'><dl class='xr-attrs'><dt><span>long_name :</span></dt><dd>climate scenarios</dd></dl></div><div class='xr-var-data'><pre>array([b&#x27;RCP45&#x27;, b&#x27;RCP85&#x27;], dtype=&#x27;|S5&#x27;)</pre></div></li></ul></div></li><li class='xr-section-item'><input id='section-36cfb915-48e3-478a-9ae2-28f950683daa' class='xr-section-summary-in' type='checkbox'  checked><label for='section-36cfb915-48e3-478a-9ae2-28f950683daa' class='xr-section-summary' >Data variables: <span>(1)</span></label><div class='xr-section-inline-details'></div><div class='xr-section-details'><ul class='xr-var-list'><li class='xr-var-item'><div class='xr-var-name'><span>shoreline_change</span></div><div class='xr-var-dims'>(nscenarios, stations, time, nensemble)</div><div class='xr-var-dtype'>float64</div><div class='xr-var-preview xr-preview'>11.95 13.41 13.76 ... -12.49 7.889</div><input id='attrs-3c4eecdc-4937-4736-b068-096ada798d0b' class='xr-var-attrs-in' type='checkbox' ><label for='attrs-3c4eecdc-4937-4736-b068-096ada798d0b' title='Show/Hide attributes'><svg class='icon xr-icon-file-text2'><use xlink:href='#icon-file-text2'></use></svg></label><input id='data-859a5df1-68f6-4f2d-8433-5fd00a84f3b7' class='xr-var-data-in' type='checkbox'><label for='data-859a5df1-68f6-4f2d-8433-5fd00a84f3b7' title='Show/Hide data repr'><svg class='icon xr-icon-database'><use xlink:href='#icon-database'></use></svg></label><div class='xr-var-attrs'><dl class='xr-attrs'><dt><span>units :</span></dt><dd>m</dd><dt><span>long_name :</span></dt><dd>shoreline_change</dd><dt><span>contents :</span></dt><dd>Global average long-term shoreline change</dd></dl></div><div class='xr-var-data'><pre>array([[[[  11.945 ,   13.411 ,   13.755 , ...,   15.816 ,   16.467 ,\n",
       "            17.391 ],\n",
       "         [  29.621 ,   30.732 ,   31.927 , ...,   35.065 ,   36.01  ,\n",
       "            36.653 ]],\n",
       "\n",
       "        [[ -26.371 ,  -25.529 ,  -24.667 , ...,  -22.261 ,  -21.539 ,\n",
       "           -21.667 ],\n",
       "         [ -56.742 ,  -55.648 ,  -54.527 , ...,  -51.399 ,  -50.461 ,\n",
       "           -49.823 ]],\n",
       "\n",
       "        [[-115.93  ,  -98.874 ,  -78.452 , ...,  -27.581 ,  -17.677 ,\n",
       "           -10.172 ],\n",
       "         [-287.9   , -245.95  , -191.82  , ...,  -71.864 ,  -50.486 ,\n",
       "           -43.671 ]],\n",
       "\n",
       "        ...,\n",
       "\n",
       "        [[ -91.95  ,  -86.705 ,  -58.655 , ...,    4.9323,   16.617 ,\n",
       "            24.101 ],\n",
       "         [-155.49  , -121.67  ,  -85.203 , ...,   -2.5397,   12.65  ,\n",
       "...\n",
       "           -14.385 ],\n",
       "         [-574.65  , -438.66  , -310.67  , ..., -110.72  ,  -70.967 ,\n",
       "           -58.539 ]],\n",
       "\n",
       "        ...,\n",
       "\n",
       "        [[-245.34  , -194.3   , -143.44  , ...,   10.06  ,   41.742 ,\n",
       "            68.285 ],\n",
       "         [-657.28  , -477.21  , -325.89  , ...,  -80.59  ,  -33.647 ,\n",
       "           -13.268 ]],\n",
       "\n",
       "        [[-245.34  , -194.3   , -143.44  , ...,   10.06  ,   41.742 ,\n",
       "            68.285 ],\n",
       "         [-657.28  , -477.21  , -325.89  , ...,  -80.59  ,  -33.647 ,\n",
       "           -13.268 ]],\n",
       "\n",
       "        [[-235.93  , -184.9   , -134.04  , ...,   19.463 ,   51.146 ,\n",
       "            77.688 ],\n",
       "         [-636.12  , -456.05  , -304.73  , ...,  -59.432 ,  -12.489 ,\n",
       "             7.8892]]]])</pre></div></li></ul></div></li><li class='xr-section-item'><input id='section-f15657b4-d0c6-4a72-9275-6c60e51991fb' class='xr-section-summary-in' type='checkbox'  checked><label for='section-f15657b4-d0c6-4a72-9275-6c60e51991fb' class='xr-section-summary' >Attributes: <span>(4)</span></label><div class='xr-section-inline-details'></div><div class='xr-section-details'><dl class='xr-attrs'><dt><span>title :</span></dt><dd>Global shoreline change projections for the year 2050 under RCP4.5</dd><dt><span>description :</span></dt><dd>Projections of global shoreline change in view of climate change considering the combined effects of ambient change, sea level rise and storm driven erosion</dd><dt><span>source :</span></dt><dd>The procedure to produce the dataset and the findings are discussed in the paper: &quot;Vousdoukas, M.I., Ranasinghe, R., Mentaschi, L., Plomaritis, T.P., Athanasiou, P., Luijendijk, A., and Feyen, L. (2020). Sandy coastlines under threat of erosion. Nature Communications. https://www.nature.com/articles/s41558-020-0697-0,&quot;</dd><dt><span>Conventions :</span></dt><dd>CF-1.8</dd></dl></div></li></ul></div></div>"
      ],
      "text/plain": [
       "<xarray.Dataset>\n",
       "Dimensions:           (stations: 518005, nensemble: 7, nscenarios: 2, time: 2)\n",
       "Coordinates:\n",
       "    lat               (stations) float64 -50.38 -50.39 -50.48 ... 64.7 64.7 64.7\n",
       "    lon               (stations) float64 -74.39 -74.3 -74.18 ... 39.88 39.87\n",
       "    ensemble          (nensemble) |S3 b'1%' b'5%' b'17%' ... b'95%' b'99%'\n",
       "  * time              (time) int32 2050 2100\n",
       "    scenarios         (nscenarios) |S5 b'RCP45' b'RCP85'\n",
       "Dimensions without coordinates: stations, nensemble, nscenarios\n",
       "Data variables:\n",
       "    shoreline_change  (nscenarios, stations, time, nensemble) float64 11.95 ....\n",
       "Attributes:\n",
       "    title:        Global shoreline change projections for the year 2050 under...\n",
       "    description:  Projections of global shoreline change in view of climate c...\n",
       "    source:       The procedure to produce the dataset and the findings are d...\n",
       "    Conventions:  CF-1.8"
      ]
     },
     "execution_count": 164,
     "metadata": {},
     "output_type": "execute_result"
    },
    {
     "data": {
      "application/javascript": [
       "\n",
       "            setTimeout(function() {\n",
       "                var nbb_cell_id = 164;\n",
       "                var nbb_unformatted_code = \"# check the xarray dataset, best practice is to have as many as possible bold dimensions (dimension == coordinate name).\\n# in this way, the Front-End can access the variable directly without having to index the variable first\\n\\ndataset\\n# dataset[\\\"scenarios\\\"]\";\n",
       "                var nbb_formatted_code = \"# check the xarray dataset, best practice is to have as many as possible bold dimensions (dimension == coordinate name).\\n# in this way, the Front-End can access the variable directly without having to index the variable first\\n\\ndataset\\n# dataset[\\\"scenarios\\\"]\";\n",
       "                var nbb_cells = Jupyter.notebook.get_cells();\n",
       "                for (var i = 0; i < nbb_cells.length; ++i) {\n",
       "                    if (nbb_cells[i].input_prompt_number == nbb_cell_id) {\n",
       "                        if (nbb_cells[i].get_text() == nbb_unformatted_code) {\n",
       "                             nbb_cells[i].set_text(nbb_formatted_code);\n",
       "                        }\n",
       "                        break;\n",
       "                    }\n",
       "                }\n",
       "            }, 500);\n",
       "            "
      ],
      "text/plain": [
       "<IPython.core.display.Javascript object>"
      ]
     },
     "metadata": {},
     "output_type": "display_data"
    }
   ],
   "source": [
    "# check the xarray dataset, best practice is to have as many as possible bold dimensions (dimension == coordinate name).\n",
    "# in this way, the Front-End can access the variable directly without having to index the variable first\n",
    "\n",
    "dataset\n",
    "# dataset[\"scenarios\"]"
   ]
  },
  {
   "cell_type": "code",
   "execution_count": 165,
   "id": "20ebbe83",
   "metadata": {},
   "outputs": [
    {
     "data": {
      "application/javascript": [
       "\n",
       "            setTimeout(function() {\n",
       "                var nbb_cell_id = 165;\n",
       "                var nbb_unformatted_code = \"# save new .nc files\\nds_45rcp2050_new.to_netcdf(path=str(ds_rcp45_2050path).replace(\\\".nc\\\", \\\"_CF.nc\\\"))\\nds_45rcp2100_new.to_netcdf(path=str(ds_rcp45_2100path).replace(\\\".nc\\\", \\\"_CF.nc\\\"))\\nds_85rcp2050_new.to_netcdf(path=str(ds_rcp85_2050path).replace(\\\".nc\\\", \\\"_CF.nc\\\"))\\nds_85rcp2100_new.to_netcdf(path=str(ds_rcp85_2100path).replace(\\\".nc\\\", \\\"_CF.nc\\\"))\\ndataset.to_netcdf(path=ds_dir.joinpath(ds_out_file + \\\"_CF.nc\\\"))\";\n",
       "                var nbb_formatted_code = \"# save new .nc files\\nds_45rcp2050_new.to_netcdf(path=str(ds_rcp45_2050path).replace(\\\".nc\\\", \\\"_CF.nc\\\"))\\nds_45rcp2100_new.to_netcdf(path=str(ds_rcp45_2100path).replace(\\\".nc\\\", \\\"_CF.nc\\\"))\\nds_85rcp2050_new.to_netcdf(path=str(ds_rcp85_2050path).replace(\\\".nc\\\", \\\"_CF.nc\\\"))\\nds_85rcp2100_new.to_netcdf(path=str(ds_rcp85_2100path).replace(\\\".nc\\\", \\\"_CF.nc\\\"))\\ndataset.to_netcdf(path=ds_dir.joinpath(ds_out_file + \\\"_CF.nc\\\"))\";\n",
       "                var nbb_cells = Jupyter.notebook.get_cells();\n",
       "                for (var i = 0; i < nbb_cells.length; ++i) {\n",
       "                    if (nbb_cells[i].input_prompt_number == nbb_cell_id) {\n",
       "                        if (nbb_cells[i].get_text() == nbb_unformatted_code) {\n",
       "                             nbb_cells[i].set_text(nbb_formatted_code);\n",
       "                        }\n",
       "                        break;\n",
       "                    }\n",
       "                }\n",
       "            }, 500);\n",
       "            "
      ],
      "text/plain": [
       "<IPython.core.display.Javascript object>"
      ]
     },
     "metadata": {},
     "output_type": "display_data"
    }
   ],
   "source": [
    "# save new .nc files\n",
    "ds_45rcp2050_new.to_netcdf(path=str(ds_rcp45_2050path).replace(\".nc\", \"_CF.nc\"))\n",
    "ds_45rcp2100_new.to_netcdf(path=str(ds_rcp45_2100path).replace(\".nc\", \"_CF.nc\"))\n",
    "ds_85rcp2050_new.to_netcdf(path=str(ds_rcp85_2050path).replace(\".nc\", \"_CF.nc\"))\n",
    "ds_85rcp2100_new.to_netcdf(path=str(ds_rcp85_2100path).replace(\".nc\", \"_CF.nc\"))\n",
    "dataset.to_netcdf(path=ds_dir.joinpath(ds_out_file + \"_CF.nc\"))"
   ]
  },
  {
   "cell_type": "markdown",
   "id": "59e7b37d",
   "metadata": {},
   "source": [
    "### Check CF compliancy altered NetCDF files"
   ]
  },
  {
   "cell_type": "code",
   "execution_count": 166,
   "id": "a4f992f4",
   "metadata": {},
   "outputs": [
    {
     "data": {
      "application/javascript": [
       "\n",
       "            setTimeout(function() {\n",
       "                var nbb_cell_id = 166;\n",
       "                var nbb_unformatted_code = \"%%capture cap --no-stderr\\n# check altered CF compliancy\\n\\ncheck_compliancy(testfile=str(ds_rcp45_2050path).replace(\\\".nc\\\", \\\"_CF.nc\\\"), working_dir=CF_dir)\";\n",
       "                var nbb_formatted_code = \"%%capture cap --no-stderr\\n# check altered CF compliancy\\n\\ncheck_compliancy(testfile=str(ds_rcp45_2050path).replace(\\\".nc\\\", \\\"_CF.nc\\\"), working_dir=CF_dir)\";\n",
       "                var nbb_cells = Jupyter.notebook.get_cells();\n",
       "                for (var i = 0; i < nbb_cells.length; ++i) {\n",
       "                    if (nbb_cells[i].input_prompt_number == nbb_cell_id) {\n",
       "                        if (nbb_cells[i].get_text() == nbb_unformatted_code) {\n",
       "                             nbb_cells[i].set_text(nbb_formatted_code);\n",
       "                        }\n",
       "                        break;\n",
       "                    }\n",
       "                }\n",
       "            }, 500);\n",
       "            "
      ],
      "text/plain": [
       "<IPython.core.display.Javascript object>"
      ]
     },
     "metadata": {},
     "output_type": "display_data"
    }
   ],
   "source": [
    "%%capture cap --no-stderr\n",
    "# check altered CF compliancy\n",
    "\n",
    "check_compliancy(testfile=str(ds_rcp45_2050path).replace(\".nc\", \"_CF.nc\"), working_dir=CF_dir)"
   ]
  },
  {
   "cell_type": "code",
   "execution_count": 167,
   "id": "fc6ba94f",
   "metadata": {},
   "outputs": [
    {
     "name": "stdout",
     "output_type": "stream",
     "text": [
      "{'P:\\\\11205479-coclico\\\\data\\\\05_erosion_projections_jrc\\\\globalErosionProjections_Long_Term_Change_RCP45_2050_CF.nc': {'warnings': '0', 'errors': '0'}}\n"
     ]
    },
    {
     "data": {
      "application/javascript": [
       "\n",
       "            setTimeout(function() {\n",
       "                var nbb_cell_id = 167;\n",
       "                var nbb_unformatted_code = \"# save altered CF compliancy\\nsave_compliancy(\\n    cap, testfile=str(ds_rcp45_2050path).replace(\\\".nc\\\", \\\"_CF.nc\\\"), working_dir=CF_dir,\\n)\";\n",
       "                var nbb_formatted_code = \"# save altered CF compliancy\\nsave_compliancy(\\n    cap, testfile=str(ds_rcp45_2050path).replace(\\\".nc\\\", \\\"_CF.nc\\\"), working_dir=CF_dir,\\n)\";\n",
       "                var nbb_cells = Jupyter.notebook.get_cells();\n",
       "                for (var i = 0; i < nbb_cells.length; ++i) {\n",
       "                    if (nbb_cells[i].input_prompt_number == nbb_cell_id) {\n",
       "                        if (nbb_cells[i].get_text() == nbb_unformatted_code) {\n",
       "                             nbb_cells[i].set_text(nbb_formatted_code);\n",
       "                        }\n",
       "                        break;\n",
       "                    }\n",
       "                }\n",
       "            }, 500);\n",
       "            "
      ],
      "text/plain": [
       "<IPython.core.display.Javascript object>"
      ]
     },
     "metadata": {},
     "output_type": "display_data"
    }
   ],
   "source": [
    "# save altered CF compliancy\n",
    "save_compliancy(\n",
    "    cap, testfile=str(ds_rcp45_2050path).replace(\".nc\", \"_CF.nc\"), working_dir=CF_dir,\n",
    ")"
   ]
  },
  {
   "cell_type": "code",
   "execution_count": 168,
   "id": "13fd035f",
   "metadata": {},
   "outputs": [
    {
     "data": {
      "application/javascript": [
       "\n",
       "            setTimeout(function() {\n",
       "                var nbb_cell_id = 168;\n",
       "                var nbb_unformatted_code = \"%%capture cap --no-stderr\\n# check altered CF compliancy\\n\\ncheck_compliancy(testfile=str(ds_rcp45_2100path).replace(\\\".nc\\\", \\\"_CF.nc\\\"), working_dir=CF_dir)\";\n",
       "                var nbb_formatted_code = \"%%capture cap --no-stderr\\n# check altered CF compliancy\\n\\ncheck_compliancy(testfile=str(ds_rcp45_2100path).replace(\\\".nc\\\", \\\"_CF.nc\\\"), working_dir=CF_dir)\";\n",
       "                var nbb_cells = Jupyter.notebook.get_cells();\n",
       "                for (var i = 0; i < nbb_cells.length; ++i) {\n",
       "                    if (nbb_cells[i].input_prompt_number == nbb_cell_id) {\n",
       "                        if (nbb_cells[i].get_text() == nbb_unformatted_code) {\n",
       "                             nbb_cells[i].set_text(nbb_formatted_code);\n",
       "                        }\n",
       "                        break;\n",
       "                    }\n",
       "                }\n",
       "            }, 500);\n",
       "            "
      ],
      "text/plain": [
       "<IPython.core.display.Javascript object>"
      ]
     },
     "metadata": {},
     "output_type": "display_data"
    }
   ],
   "source": [
    "%%capture cap --no-stderr\n",
    "# check altered CF compliancy\n",
    "\n",
    "check_compliancy(testfile=str(ds_rcp45_2100path).replace(\".nc\", \"_CF.nc\"), working_dir=CF_dir)"
   ]
  },
  {
   "cell_type": "code",
   "execution_count": 169,
   "id": "bc254b0d",
   "metadata": {},
   "outputs": [
    {
     "name": "stdout",
     "output_type": "stream",
     "text": [
      "{'P:\\\\11205479-coclico\\\\data\\\\05_erosion_projections_jrc\\\\globalErosionProjections_Long_Term_Change_RCP45_2100_CF.nc': {'warnings': '0', 'errors': '0'}}\n"
     ]
    },
    {
     "data": {
      "application/javascript": [
       "\n",
       "            setTimeout(function() {\n",
       "                var nbb_cell_id = 169;\n",
       "                var nbb_unformatted_code = \"# save altered CF compliancy\\nsave_compliancy(\\n    cap, testfile=str(ds_rcp45_2100path).replace(\\\".nc\\\", \\\"_CF.nc\\\"), working_dir=CF_dir,\\n)\";\n",
       "                var nbb_formatted_code = \"# save altered CF compliancy\\nsave_compliancy(\\n    cap, testfile=str(ds_rcp45_2100path).replace(\\\".nc\\\", \\\"_CF.nc\\\"), working_dir=CF_dir,\\n)\";\n",
       "                var nbb_cells = Jupyter.notebook.get_cells();\n",
       "                for (var i = 0; i < nbb_cells.length; ++i) {\n",
       "                    if (nbb_cells[i].input_prompt_number == nbb_cell_id) {\n",
       "                        if (nbb_cells[i].get_text() == nbb_unformatted_code) {\n",
       "                             nbb_cells[i].set_text(nbb_formatted_code);\n",
       "                        }\n",
       "                        break;\n",
       "                    }\n",
       "                }\n",
       "            }, 500);\n",
       "            "
      ],
      "text/plain": [
       "<IPython.core.display.Javascript object>"
      ]
     },
     "metadata": {},
     "output_type": "display_data"
    }
   ],
   "source": [
    "# save altered CF compliancy\n",
    "save_compliancy(\n",
    "    cap, testfile=str(ds_rcp45_2100path).replace(\".nc\", \"_CF.nc\"), working_dir=CF_dir,\n",
    ")"
   ]
  },
  {
   "cell_type": "code",
   "execution_count": 170,
   "id": "beef9525",
   "metadata": {},
   "outputs": [
    {
     "data": {
      "application/javascript": [
       "\n",
       "            setTimeout(function() {\n",
       "                var nbb_cell_id = 170;\n",
       "                var nbb_unformatted_code = \"%%capture cap --no-stderr\\n# check altered CF compliancy\\n\\ncheck_compliancy(testfile=str(ds_rcp85_2050path).replace(\\\".nc\\\", \\\"_CF.nc\\\"), working_dir=CF_dir)\";\n",
       "                var nbb_formatted_code = \"%%capture cap --no-stderr\\n# check altered CF compliancy\\n\\ncheck_compliancy(testfile=str(ds_rcp85_2050path).replace(\\\".nc\\\", \\\"_CF.nc\\\"), working_dir=CF_dir)\";\n",
       "                var nbb_cells = Jupyter.notebook.get_cells();\n",
       "                for (var i = 0; i < nbb_cells.length; ++i) {\n",
       "                    if (nbb_cells[i].input_prompt_number == nbb_cell_id) {\n",
       "                        if (nbb_cells[i].get_text() == nbb_unformatted_code) {\n",
       "                             nbb_cells[i].set_text(nbb_formatted_code);\n",
       "                        }\n",
       "                        break;\n",
       "                    }\n",
       "                }\n",
       "            }, 500);\n",
       "            "
      ],
      "text/plain": [
       "<IPython.core.display.Javascript object>"
      ]
     },
     "metadata": {},
     "output_type": "display_data"
    }
   ],
   "source": [
    "%%capture cap --no-stderr\n",
    "# check altered CF compliancy\n",
    "\n",
    "check_compliancy(testfile=str(ds_rcp85_2050path).replace(\".nc\", \"_CF.nc\"), working_dir=CF_dir)"
   ]
  },
  {
   "cell_type": "code",
   "execution_count": 171,
   "id": "598cbc67",
   "metadata": {},
   "outputs": [
    {
     "name": "stdout",
     "output_type": "stream",
     "text": [
      "{'P:\\\\11205479-coclico\\\\data\\\\05_erosion_projections_jrc\\\\globalErosionProjections_Long_Term_Change_RCP85_2050_CF.nc': {'warnings': '0', 'errors': '0'}}\n"
     ]
    },
    {
     "data": {
      "application/javascript": [
       "\n",
       "            setTimeout(function() {\n",
       "                var nbb_cell_id = 171;\n",
       "                var nbb_unformatted_code = \"# save altered CF compliancy\\nsave_compliancy(\\n    cap, testfile=str(ds_rcp85_2050path).replace(\\\".nc\\\", \\\"_CF.nc\\\"), working_dir=CF_dir,\\n)\";\n",
       "                var nbb_formatted_code = \"# save altered CF compliancy\\nsave_compliancy(\\n    cap, testfile=str(ds_rcp85_2050path).replace(\\\".nc\\\", \\\"_CF.nc\\\"), working_dir=CF_dir,\\n)\";\n",
       "                var nbb_cells = Jupyter.notebook.get_cells();\n",
       "                for (var i = 0; i < nbb_cells.length; ++i) {\n",
       "                    if (nbb_cells[i].input_prompt_number == nbb_cell_id) {\n",
       "                        if (nbb_cells[i].get_text() == nbb_unformatted_code) {\n",
       "                             nbb_cells[i].set_text(nbb_formatted_code);\n",
       "                        }\n",
       "                        break;\n",
       "                    }\n",
       "                }\n",
       "            }, 500);\n",
       "            "
      ],
      "text/plain": [
       "<IPython.core.display.Javascript object>"
      ]
     },
     "metadata": {},
     "output_type": "display_data"
    }
   ],
   "source": [
    "# save altered CF compliancy\n",
    "save_compliancy(\n",
    "    cap, testfile=str(ds_rcp85_2050path).replace(\".nc\", \"_CF.nc\"), working_dir=CF_dir,\n",
    ")"
   ]
  },
  {
   "cell_type": "code",
   "execution_count": 172,
   "id": "d77e4ec5",
   "metadata": {},
   "outputs": [
    {
     "data": {
      "application/javascript": [
       "\n",
       "            setTimeout(function() {\n",
       "                var nbb_cell_id = 172;\n",
       "                var nbb_unformatted_code = \"%%capture cap --no-stderr\\n# check altered CF compliancy\\n\\ncheck_compliancy(testfile=str(ds_rcp85_2100path).replace(\\\".nc\\\", \\\"_CF.nc\\\"), working_dir=CF_dir)\";\n",
       "                var nbb_formatted_code = \"%%capture cap --no-stderr\\n# check altered CF compliancy\\n\\ncheck_compliancy(testfile=str(ds_rcp85_2100path).replace(\\\".nc\\\", \\\"_CF.nc\\\"), working_dir=CF_dir)\";\n",
       "                var nbb_cells = Jupyter.notebook.get_cells();\n",
       "                for (var i = 0; i < nbb_cells.length; ++i) {\n",
       "                    if (nbb_cells[i].input_prompt_number == nbb_cell_id) {\n",
       "                        if (nbb_cells[i].get_text() == nbb_unformatted_code) {\n",
       "                             nbb_cells[i].set_text(nbb_formatted_code);\n",
       "                        }\n",
       "                        break;\n",
       "                    }\n",
       "                }\n",
       "            }, 500);\n",
       "            "
      ],
      "text/plain": [
       "<IPython.core.display.Javascript object>"
      ]
     },
     "metadata": {},
     "output_type": "display_data"
    }
   ],
   "source": [
    "%%capture cap --no-stderr\n",
    "# check altered CF compliancy\n",
    "\n",
    "check_compliancy(testfile=str(ds_rcp85_2100path).replace(\".nc\", \"_CF.nc\"), working_dir=CF_dir)"
   ]
  },
  {
   "cell_type": "code",
   "execution_count": 173,
   "id": "4e82dbd0",
   "metadata": {},
   "outputs": [
    {
     "name": "stdout",
     "output_type": "stream",
     "text": [
      "{'P:\\\\11205479-coclico\\\\data\\\\05_erosion_projections_jrc\\\\globalErosionProjections_Long_Term_Change_RCP85_2100_CF.nc': {'warnings': '0', 'errors': '0'}}\n"
     ]
    },
    {
     "data": {
      "application/javascript": [
       "\n",
       "            setTimeout(function() {\n",
       "                var nbb_cell_id = 173;\n",
       "                var nbb_unformatted_code = \"# save altered CF compliancy\\nsave_compliancy(\\n    cap, testfile=str(ds_rcp85_2100path).replace(\\\".nc\\\", \\\"_CF.nc\\\"), working_dir=CF_dir,\\n)\";\n",
       "                var nbb_formatted_code = \"# save altered CF compliancy\\nsave_compliancy(\\n    cap, testfile=str(ds_rcp85_2100path).replace(\\\".nc\\\", \\\"_CF.nc\\\"), working_dir=CF_dir,\\n)\";\n",
       "                var nbb_cells = Jupyter.notebook.get_cells();\n",
       "                for (var i = 0; i < nbb_cells.length; ++i) {\n",
       "                    if (nbb_cells[i].input_prompt_number == nbb_cell_id) {\n",
       "                        if (nbb_cells[i].get_text() == nbb_unformatted_code) {\n",
       "                             nbb_cells[i].set_text(nbb_formatted_code);\n",
       "                        }\n",
       "                        break;\n",
       "                    }\n",
       "                }\n",
       "            }, 500);\n",
       "            "
      ],
      "text/plain": [
       "<IPython.core.display.Javascript object>"
      ]
     },
     "metadata": {},
     "output_type": "display_data"
    }
   ],
   "source": [
    "# save altered CF compliancy\n",
    "save_compliancy(\n",
    "    cap, testfile=str(ds_rcp85_2100path).replace(\".nc\", \"_CF.nc\"), working_dir=CF_dir,\n",
    ")"
   ]
  },
  {
   "cell_type": "code",
   "execution_count": 174,
   "id": "8fb764dd",
   "metadata": {},
   "outputs": [
    {
     "data": {
      "application/javascript": [
       "\n",
       "            setTimeout(function() {\n",
       "                var nbb_cell_id = 174;\n",
       "                var nbb_unformatted_code = \"%%capture cap --no-stderr\\n# check altered CF compliancy\\n\\ncheck_compliancy(testfile=ds_dir.joinpath(ds_out_file + \\\"_CF.nc\\\"), working_dir=CF_dir)\";\n",
       "                var nbb_formatted_code = \"%%capture cap --no-stderr\\n# check altered CF compliancy\\n\\ncheck_compliancy(testfile=ds_dir.joinpath(ds_out_file + \\\"_CF.nc\\\"), working_dir=CF_dir)\";\n",
       "                var nbb_cells = Jupyter.notebook.get_cells();\n",
       "                for (var i = 0; i < nbb_cells.length; ++i) {\n",
       "                    if (nbb_cells[i].input_prompt_number == nbb_cell_id) {\n",
       "                        if (nbb_cells[i].get_text() == nbb_unformatted_code) {\n",
       "                             nbb_cells[i].set_text(nbb_formatted_code);\n",
       "                        }\n",
       "                        break;\n",
       "                    }\n",
       "                }\n",
       "            }, 500);\n",
       "            "
      ],
      "text/plain": [
       "<IPython.core.display.Javascript object>"
      ]
     },
     "metadata": {},
     "output_type": "display_data"
    }
   ],
   "source": [
    "%%capture cap --no-stderr\n",
    "# check altered CF compliancy\n",
    "\n",
    "check_compliancy(testfile=ds_dir.joinpath(ds_out_file + \"_CF.nc\"), working_dir=CF_dir)"
   ]
  },
  {
   "cell_type": "code",
   "execution_count": 175,
   "id": "037decf1",
   "metadata": {},
   "outputs": [
    {
     "name": "stdout",
     "output_type": "stream",
     "text": [
      "{'P:\\\\11205479-coclico\\\\data\\\\05_erosion_projections_jrc\\\\globalErosionProjections_Long_Term_Change_CF.nc': {'warnings': '0', 'errors': '0'}}\n"
     ]
    },
    {
     "data": {
      "application/javascript": [
       "\n",
       "            setTimeout(function() {\n",
       "                var nbb_cell_id = 175;\n",
       "                var nbb_unformatted_code = \"# save altered CF compliancy\\nsave_compliancy(\\n    cap, testfile=ds_dir.joinpath(ds_out_file + \\\"_CF.nc\\\"), working_dir=CF_dir,\\n)\";\n",
       "                var nbb_formatted_code = \"# save altered CF compliancy\\nsave_compliancy(\\n    cap, testfile=ds_dir.joinpath(ds_out_file + \\\"_CF.nc\\\"), working_dir=CF_dir,\\n)\";\n",
       "                var nbb_cells = Jupyter.notebook.get_cells();\n",
       "                for (var i = 0; i < nbb_cells.length; ++i) {\n",
       "                    if (nbb_cells[i].input_prompt_number == nbb_cell_id) {\n",
       "                        if (nbb_cells[i].get_text() == nbb_unformatted_code) {\n",
       "                             nbb_cells[i].set_text(nbb_formatted_code);\n",
       "                        }\n",
       "                        break;\n",
       "                    }\n",
       "                }\n",
       "            }, 500);\n",
       "            "
      ],
      "text/plain": [
       "<IPython.core.display.Javascript object>"
      ]
     },
     "metadata": {},
     "output_type": "display_data"
    }
   ],
   "source": [
    "# save altered CF compliancy\n",
    "save_compliancy(\n",
    "    cap, testfile=ds_dir.joinpath(ds_out_file + \"_CF.nc\"), working_dir=CF_dir,\n",
    ")"
   ]
  },
  {
   "cell_type": "markdown",
   "id": "beec081e",
   "metadata": {},
   "source": [
    "### write data to Zarr files"
   ]
  },
  {
   "cell_type": "code",
   "execution_count": 183,
   "id": "6ba75d19",
   "metadata": {},
   "outputs": [
    {
     "data": {
      "text/plain": [
       "<xarray.backends.zarr.ZarrStore at 0x15005fb9c80>"
      ]
     },
     "execution_count": 183,
     "metadata": {},
     "output_type": "execute_result"
    },
    {
     "data": {
      "application/javascript": [
       "\n",
       "            setTimeout(function() {\n",
       "                var nbb_cell_id = 183;\n",
       "                var nbb_unformatted_code = \"# export to zarr in write mode (to overwrite if exists)\\ndataset.to_zarr(ds_dir.joinpath(\\\"%s.zarr\\\" % ds_out_file), mode=\\\"w\\\")\";\n",
       "                var nbb_formatted_code = \"# export to zarr in write mode (to overwrite if exists)\\ndataset.to_zarr(ds_dir.joinpath(\\\"%s.zarr\\\" % ds_out_file), mode=\\\"w\\\")\";\n",
       "                var nbb_cells = Jupyter.notebook.get_cells();\n",
       "                for (var i = 0; i < nbb_cells.length; ++i) {\n",
       "                    if (nbb_cells[i].input_prompt_number == nbb_cell_id) {\n",
       "                        if (nbb_cells[i].get_text() == nbb_unformatted_code) {\n",
       "                             nbb_cells[i].set_text(nbb_formatted_code);\n",
       "                        }\n",
       "                        break;\n",
       "                    }\n",
       "                }\n",
       "            }, 500);\n",
       "            "
      ],
      "text/plain": [
       "<IPython.core.display.Javascript object>"
      ]
     },
     "metadata": {},
     "output_type": "display_data"
    }
   ],
   "source": [
    "# export to zarr in write mode (to overwrite if exists)\n",
    "dataset.to_zarr(ds_dir.joinpath(\"%s.zarr\" % ds_out_file), mode=\"w\")"
   ]
  },
  {
   "cell_type": "code",
   "execution_count": null,
   "id": "d9ce96dd",
   "metadata": {},
   "outputs": [],
   "source": []
  }
 ],
 "metadata": {
  "kernelspec": {
   "display_name": "Python 3 (ipykernel)",
   "language": "python",
   "name": "python3"
  },
  "language_info": {
   "codemirror_mode": {
    "name": "ipython",
    "version": 3
   },
   "file_extension": ".py",
   "mimetype": "text/x-python",
   "name": "python",
   "nbconvert_exporter": "python",
   "pygments_lexer": "ipython3",
   "version": "3.8.12"
  },
  "vscode": {
   "interpreter": {
    "hash": "d52b8dfbdab1c939c3c4b10b0d762f4c8139583e350f28e123ee37db8f80dd50"
   }
  }
 },
 "nbformat": 4,
 "nbformat_minor": 5
}
