{
 "cells": [
  {
   "cell_type": "markdown",
   "id": "fa33a9ce-c5ee-455d-85d8-b75f2a44ee31",
   "metadata": {},
   "source": [
    "# Cost and Benefit Coastal Adaptation\n",
    "\n",
    "Notebook environment to migrate netcdf files to zarr and geojson"
   ]
  },
  {
   "cell_type": "code",
   "execution_count": 1,
   "id": "241c25cd-7a92-4123-b7ad-26468459bf49",
   "metadata": {},
   "outputs": [],
   "source": [
    "# Use the black code formatter\n",
    "%load_ext lab_black"
   ]
  },
  {
   "cell_type": "markdown",
   "id": "7fd0662f-d6ca-4fd2-97fe-3806ff4f90e9",
   "metadata": {},
   "source": [
    "### Configure OS independent paths"
   ]
  },
  {
   "cell_type": "code",
   "execution_count": 2,
   "id": "59ccd64b-b885-4bac-b157-90035272c5f6",
   "metadata": {},
   "outputs": [],
   "source": [
    "import os\n",
    "import pathlib\n",
    "import sys\n",
    "\n",
    "# Make root directories importable by appending root to path\n",
    "cwd = pathlib.Path().resolve()\n",
    "sys.path.append(os.path.dirname(cwd))\n",
    "\n",
    "\n",
    "# Get root paths\n",
    "home = pathlib.Path().home()\n",
    "root = home.root\n",
    "\n",
    "# Define both local and remote drives\n",
    "local_data_dir = home.joinpath(\"ddata\")\n",
    "local_temp_dir = local_data_dir.joinpath(\"tmp\")\n",
    "p_dir = pathlib.Path(root, \"p\")\n",
    "coclico_data_dir = p_dir.joinpath(\"11205479-coclico\", \"data\")\n",
    "coclico_cf_dir = coclico_data_dir.joinpath(\"CF\")\n",
    "ds_dirname = \"06_adaptation_jrc\"\n",
    "\n",
    "# Project paths\n",
    "local_auth_dir = local_data_dir.joinpath(\"AUTH_files\")\n",
    "remote_auth_dir = coclico_data_dir.joinpath(\"AUTH_files\")\n",
    "netcdf_dir = pathlib.Path(\"netcdf_files\", \"06.Coast and benefits of coastal adaptation\")\n",
    "json_dir = pathlib.Path(\"json_files\", \"06.Coast and benefits of coastal adaptation\")"
   ]
  },
  {
   "cell_type": "code",
   "execution_count": 3,
   "id": "b6d018d0-d37c-4974-aede-9ff3de0addc0",
   "metadata": {},
   "outputs": [],
   "source": [
    "import numpy as np\n",
    "import geopandas as gpd\n",
    "import pandas as pd\n",
    "import matplotlib.pyplot as plt\n",
    "import xarray as xr"
   ]
  },
  {
   "cell_type": "code",
   "execution_count": 4,
   "id": "d760f01d-247a-4997-81c3-bd61f783c25e",
   "metadata": {},
   "outputs": [],
   "source": [
    "def get_fp(fn, suffix, remote_drive=True):\n",
    "    file_dirs = {\n",
    "        \".json\": pathlib.Path(\n",
    "            \"json_files\", \"06.Coast and benefits of coastal adaptation\"\n",
    "        ),\n",
    "        \".nc\": pathlib.Path(\n",
    "            \"netcdf_files\", \"06.Coast and benefits of coastal adaptation\"\n",
    "        ),\n",
    "    }\n",
    "    local_auth_dir = local_data_dir.joinpath(\"tmp\", \"AUTH_files\")\n",
    "    remote_auth_dir = coclico_data_dir.joinpath(\"temp\", \"AUTH_files\")\n",
    "\n",
    "    if not remote_drive:\n",
    "        return local_auth_dir.joinpath(file_dirs[suffix]).joinpath(fn + suffix)\n",
    "    return remote_auth_dir.joinpath(file_dirs[suffix]).joinpath(fn + suffix)"
   ]
  },
  {
   "cell_type": "code",
   "execution_count": 5,
   "id": "59975c47-72fc-449e-92d7-273f9ebea8a8",
   "metadata": {},
   "outputs": [],
   "source": [
    "fn_benefit = \"benefitNoDiscounting\"\n",
    "fn_cost = \"costNoDiscounting\"\n",
    "fn_cbr = \"cbr\"\n",
    "fn_protection = \"dZprotectionMean\"\n",
    "\n",
    "files = [fn_benefit, fn_cost, fn_cbr, fn_protection]"
   ]
  },
  {
   "cell_type": "code",
   "execution_count": 6,
   "id": "03312ba0-9b9b-4f6d-8665-88eed3117563",
   "metadata": {},
   "outputs": [],
   "source": [
    "ds_benefit, ds_cost, ds_cbr, ds_protection = [\n",
    "    xr.load_dataset(get_fp(fn, suffix=\".nc\", remote_drive=False)) for fn in files\n",
    "]"
   ]
  },
  {
   "cell_type": "code",
   "execution_count": 7,
   "id": "e45a4ec3-d9fe-4a44-aed7-f38ad31a4608",
   "metadata": {},
   "outputs": [],
   "source": [
    "df_benefit, df_cost, df_cbr, df_protection = [\n",
    "    pd.read_json(get_fp(fn, suffix=\".json\", remote_drive=False)) for fn in files\n",
    "]"
   ]
  },
  {
   "cell_type": "markdown",
   "id": "017728d6-9c89-458a-8f8c-5927f8fdbf1b",
   "metadata": {},
   "source": [
    "### Load in raw data from p drive (excel sheets)\n",
    "\n",
    "The nuts regions are not included as attributes in the netcdf files. The ones from the excel sheet are not present in recent nuts regsion shapefile by the EU. Therefore, project coordinates from data into current nuts regions. "
   ]
  },
  {
   "cell_type": "code",
   "execution_count": 8,
   "id": "054d646e-9c55-4138-9cc9-20be0cbba23f",
   "metadata": {},
   "outputs": [
    {
     "name": "stderr",
     "output_type": "stream",
     "text": [
      "/home/calkoen/miniconda3/envs/coclico/lib/python3.10/site-packages/openpyxl/styles/stylesheet.py:226: UserWarning: Workbook contains no default style, apply openpyxl's default\n",
      "  warn(\"Workbook contains no default style, apply openpyxl's default\")\n",
      "/home/calkoen/miniconda3/envs/coclico/lib/python3.10/site-packages/openpyxl/styles/stylesheet.py:226: UserWarning: Workbook contains no default style, apply openpyxl's default\n",
      "  warn(\"Workbook contains no default style, apply openpyxl's default\")\n",
      "/home/calkoen/miniconda3/envs/coclico/lib/python3.10/site-packages/openpyxl/styles/stylesheet.py:226: UserWarning: Workbook contains no default style, apply openpyxl's default\n",
      "  warn(\"Workbook contains no default style, apply openpyxl's default\")\n",
      "/home/calkoen/miniconda3/envs/coclico/lib/python3.10/site-packages/openpyxl/styles/stylesheet.py:226: UserWarning: Workbook contains no default style, apply openpyxl's default\n",
      "  warn(\"Workbook contains no default style, apply openpyxl's default\")\n"
     ]
    }
   ],
   "source": [
    "xlsx_benefit, xlsx_cost, xlsx_cbr, xlsx_protection = [\n",
    "    pd.read_excel(local_temp_dir.joinpath(\"06_adaptation_jrc\", f\"{fn}.xlsx\"))\n",
    "    for fn in files\n",
    "]"
   ]
  },
  {
   "cell_type": "code",
   "execution_count": 9,
   "id": "6ec47579-19a2-4f89-82e7-38d2d88ae828",
   "metadata": {},
   "outputs": [
    {
     "name": "stderr",
     "output_type": "stream",
     "text": [
      "/tmp/ipykernel_3388/4095977648.py:5: FutureWarning: Passing 'suffixes' which cause duplicate columns {'Fossil Fuel Development_x', 'Sustainability_x'} in the result is deprecated and will raise a MergeError in a future version.\n",
      "  lambda l, r: pd.merge(l, r, on=[\"NUTS2 ID\"], how=\"outer\"), xlsx_dfs\n"
     ]
    }
   ],
   "source": [
    "from functools import reduce\n",
    "\n",
    "xlsx_dfs = xlsx_benefit, xlsx_cost, xlsx_cbr, xlsx_protection\n",
    "xlsx_merged = reduce(\n",
    "    lambda l, r: pd.merge(l, r, on=[\"NUTS2 ID\"], how=\"outer\"), xlsx_dfs\n",
    ")"
   ]
  },
  {
   "cell_type": "markdown",
   "id": "c85055e6-8e63-4b3e-a553-a6615b13ff2c",
   "metadata": {},
   "source": [
    "### Add nuts region\n",
    "\n",
    "Nuts regions are obtained from eurostat, but the most recent nuts regions files do not\n",
    "match the ones which are used in the datasets. The files describing the 2010 nuts regions\n",
    "seem to match with the regions used in the studies. "
   ]
  },
  {
   "cell_type": "code",
   "execution_count": 10,
   "id": "4f49f8bd-ccf2-4bda-8e19-bdf53bb13f0b",
   "metadata": {},
   "outputs": [],
   "source": [
    "nuts_regions = gpd.read_file(\n",
    "    local_data_dir.joinpath(\"tmp\", \"NUTS_RG_20M_2010_3857.shp\")\n",
    ")\n",
    "nuts_regions = nuts_regions.to_crs(\"EPSG:4326\")"
   ]
  },
  {
   "cell_type": "code",
   "execution_count": 11,
   "id": "e51c4e7c",
   "metadata": {},
   "outputs": [
    {
     "data": {
      "text/html": [
       "<div>\n",
       "<style scoped>\n",
       "    .dataframe tbody tr th:only-of-type {\n",
       "        vertical-align: middle;\n",
       "    }\n",
       "\n",
       "    .dataframe tbody tr th {\n",
       "        vertical-align: top;\n",
       "    }\n",
       "\n",
       "    .dataframe thead th {\n",
       "        text-align: right;\n",
       "    }\n",
       "</style>\n",
       "<table border=\"1\" class=\"dataframe\">\n",
       "  <thead>\n",
       "    <tr style=\"text-align: right;\">\n",
       "      <th></th>\n",
       "      <th>instance</th>\n",
       "      <th>acronym</th>\n",
       "      <th>name</th>\n",
       "      <th>country</th>\n",
       "      <th>geometry</th>\n",
       "    </tr>\n",
       "  </thead>\n",
       "  <tbody>\n",
       "    <tr>\n",
       "      <th>0</th>\n",
       "      <td>0</td>\n",
       "      <td>BE23</td>\n",
       "      <td>Prov. Oost-Vlaanderen</td>\n",
       "      <td>BE</td>\n",
       "      <td>POLYGON ((4.31117 51.12615, 4.17579 51.10121, ...</td>\n",
       "    </tr>\n",
       "    <tr>\n",
       "      <th>1</th>\n",
       "      <td>1</td>\n",
       "      <td>BE25</td>\n",
       "      <td>Prov. West-Vlaanderen</td>\n",
       "      <td>BE</td>\n",
       "      <td>POLYGON ((3.45973 50.76597, 3.45535 50.76456, ...</td>\n",
       "    </tr>\n",
       "    <tr>\n",
       "      <th>2</th>\n",
       "      <td>2</td>\n",
       "      <td>BG33</td>\n",
       "      <td>Severoiztochen</td>\n",
       "      <td>BG</td>\n",
       "      <td>POLYGON ((28.57888 43.73874, 28.60746 43.53937...</td>\n",
       "    </tr>\n",
       "    <tr>\n",
       "      <th>3</th>\n",
       "      <td>3</td>\n",
       "      <td>BG34</td>\n",
       "      <td>Yugoiztochen</td>\n",
       "      <td>BG</td>\n",
       "      <td>POLYGON ((26.98672 42.95232, 27.09443 42.95391...</td>\n",
       "    </tr>\n",
       "    <tr>\n",
       "      <th>4</th>\n",
       "      <td>4</td>\n",
       "      <td>CY00</td>\n",
       "      <td>Kýpros</td>\n",
       "      <td>CY</td>\n",
       "      <td>POLYGON ((33.00572 34.61297, 33.02382 34.58560...</td>\n",
       "    </tr>\n",
       "  </tbody>\n",
       "</table>\n",
       "</div>"
      ],
      "text/plain": [
       "   instance acronym                   name country  \\\n",
       "0         0    BE23  Prov. Oost-Vlaanderen      BE   \n",
       "1         1    BE25  Prov. West-Vlaanderen      BE   \n",
       "2         2    BG33         Severoiztochen      BG   \n",
       "3         3    BG34           Yugoiztochen      BG   \n",
       "4         4    CY00                 Kýpros      CY   \n",
       "\n",
       "                                            geometry  \n",
       "0  POLYGON ((4.31117 51.12615, 4.17579 51.10121, ...  \n",
       "1  POLYGON ((3.45973 50.76597, 3.45535 50.76456, ...  \n",
       "2  POLYGON ((28.57888 43.73874, 28.60746 43.53937...  \n",
       "3  POLYGON ((26.98672 42.95232, 27.09443 42.95391...  \n",
       "4  POLYGON ((33.00572 34.61297, 33.02382 34.58560...  "
      ]
     },
     "execution_count": 11,
     "metadata": {},
     "output_type": "execute_result"
    }
   ],
   "source": [
    "# use one of the datasets to create a geodataframe\n",
    "df_cost = df_cost.rename(\n",
    "    {\n",
    "        \"latitude(degrees north of the NUTS2 regions centroid)\": \"latitude\",\n",
    "        \"longitude(degrees east of the NUTS2 regions centroid)\": \"longitude\",\n",
    "    },\n",
    "    axis=\"columns\",\n",
    ")\n",
    "\n",
    "gdf_cost = gpd.GeoDataFrame(\n",
    "    df_cost,\n",
    "    geometry=gpd.points_from_xy(df_cost.longitude, df_cost.latitude),\n",
    "    crs=\"EPSG:4326\",\n",
    ")\n",
    "\n",
    "# Add nuts column from excel data\n",
    "gdf_cost[\"NUTS_ID\"] = xlsx_cost[\"NUTS2 ID\"]\n",
    "\n",
    "# inner join to keep only nuts regions used in dataset\n",
    "nuts_regions = nuts_regions.merge(gdf_cost, on=[\"NUTS_ID\"], how=\"inner\")\n",
    "\n",
    "# format dataframe\n",
    "nuts_regions[\"instance\"] = nuts_regions.index.values\n",
    "nuts_regions = nuts_regions[\n",
    "    [\"instance\", \"NUTS_ID\", \"NAME_LATN\", \"CNTR_CODE\", \"geometry_x\"]\n",
    "]\n",
    "nuts_regions = nuts_regions.rename(\n",
    "    {\n",
    "        \"NUTS_ID\": \"acronym\",\n",
    "        \"NAME_LATN\": \"name\",\n",
    "        \"CNTR_CODE\": \"country\",\n",
    "        \"geometry_x\": \"geometry\",\n",
    "    },\n",
    "    axis=\"columns\",\n",
    ")\n",
    "nuts_regions = gpd.GeoDataFrame(nuts_regions, crs=\"EPSG:4326\")\n",
    "nuts_regions.head()\n",
    "\n",
    "# write result to geojson\n",
    "# nuts_regions.to_file(\n",
    "#     coclico_data_dir.joinpath(\"06_adaptation_jrc\", \"nuts_regions.geojson\"),\n",
    "#     driver=\"GeoJSON\",\n",
    "# )"
   ]
  },
  {
   "cell_type": "markdown",
   "id": "2c1639c9-c6f7-49ec-96cf-5babad7ad31b",
   "metadata": {},
   "source": [
    "## Make datasets CF compliant "
   ]
  },
  {
   "cell_type": "code",
   "execution_count": 12,
   "id": "7f22d1a7-6e1b-4ee8-89e1-f1a06e5b6be7",
   "metadata": {},
   "outputs": [],
   "source": [
    "# set lon/lat coordinates for each of the datasets\n",
    "ds_benefit, ds_cost, ds_cbr, ds_protection = [\n",
    "    ds.set_coords([\"lon\", \"lat\"]) for ds in [ds_benefit, ds_cost, ds_cbr, ds_protection]\n",
    "]"
   ]
  },
  {
   "cell_type": "code",
   "execution_count": 14,
   "id": "974da67c",
   "metadata": {},
   "outputs": [],
   "source": [
    "# concat along a new layer dimension. The labels of this dimension are set as zero-terminated\n",
    "# bytes\n",
    "ds = xr.concat([ds_benefit, ds_cost, ds_cbr, ds_protection], dim=\"nlayers\")\n",
    "ds = ds.assign_coords(\n",
    "    {\n",
    "        \"layers\": (\n",
    "            \"nlayers\",\n",
    "            np.array(\n",
    "                [\"benefit\", \"cost\", \"cost_benefit_ratio\", \"protection\"], dtype=\"S\"\n",
    "            ),\n",
    "        )\n",
    "    }\n",
    ")"
   ]
  },
  {
   "cell_type": "code",
   "execution_count": 15,
   "id": "00a0640b",
   "metadata": {},
   "outputs": [],
   "source": [
    "from shapely import wkb\n",
    "\n",
    "# extract geometries of nut2 regions in well-known binary format\n",
    "geoms = nuts_regions[\"geometry\"].apply(lambda x: wkb.dumps(x))\n",
    "\n",
    "# rename dims and add new data to dataset\n",
    "ds = ds.rename({\"row\": \"instance\"})\n",
    "ds = ds.assign_coords({\"geometry\": (\"instance\", geoms)})\n",
    "# ds = ds.assign({\"name\": xr.Variable(\"instance\", nuts_regions[\"name\"].to_list())})"
   ]
  },
  {
   "cell_type": "code",
   "execution_count": 19,
   "id": "1ab2f0a8-469e-4055-8cee-bc9a9bdf3549",
   "metadata": {},
   "outputs": [],
   "source": [
    "add_ds_attrs = {\n",
    "    \"geometry\": {\n",
    "        \"long_name\": \"NUTS2 regions (polygons) in well-known binary format (wkb).\",\n",
    "        \"geometry_type\": \"polygon\",\n",
    "        \"units\": \"degree\",\n",
    "        \"comment\": \"These NUTS2 regions (2010 version) are available at Eurostat.\",\n",
    "        \"crs_wkt\": f\"{nuts_regions.crs.to_epsg()}\",\n",
    "    },\n",
    "    \"layers\": {\"long_name\": \"Socioeconomic layer.\"},\n",
    "    # \"name\": {\n",
    "    #     \"long_name\": \"NUTS2 region names (2010 version).\",\n",
    "    #     \"source\": \"NUTS2 regions (2010 version) are available at Eurostat.\",\n",
    "    # },\n",
    "}"
   ]
  },
  {
   "cell_type": "code",
   "execution_count": 20,
   "id": "e99611b2",
   "metadata": {},
   "outputs": [
    {
     "ename": "KeyError",
     "evalue": "'_CoordinateAxisType'",
     "output_type": "error",
     "traceback": [
      "\u001b[0;31m---------------------------------------------------------------------------\u001b[0m",
      "\u001b[0;31mKeyError\u001b[0m                                  Traceback (most recent call last)",
      "\u001b[1;32m/home/calkoen/dev/coclicodata/notebooks/06_coastal_adaptation.ipynb Cell 21\u001b[0m in \u001b[0;36m<cell line: 10>\u001b[0;34m()\u001b[0m\n\u001b[1;32m      <a href='vscode-notebook-cell://wsl%2Bubuntu-20.04/home/calkoen/dev/coclicodata/notebooks/06_coastal_adaptation.ipynb#ch0000020vscode-remote?line=5'>6</a>\u001b[0m ds[\u001b[39m\"\u001b[39m\u001b[39mlon\u001b[39m\u001b[39m\"\u001b[39m]\u001b[39m.\u001b[39mattrs[\u001b[39m\"\u001b[39m\u001b[39munits\u001b[39m\u001b[39m\"\u001b[39m] \u001b[39m=\u001b[39m \u001b[39m\"\u001b[39m\u001b[39mdegrees_east\u001b[39m\u001b[39m\"\u001b[39m\n\u001b[1;32m      <a href='vscode-notebook-cell://wsl%2Bubuntu-20.04/home/calkoen/dev/coclicodata/notebooks/06_coastal_adaptation.ipynb#ch0000020vscode-remote?line=6'>7</a>\u001b[0m ds[\u001b[39m\"\u001b[39m\u001b[39mlon\u001b[39m\u001b[39m\"\u001b[39m]\u001b[39m.\u001b[39mattrs[\n\u001b[1;32m      <a href='vscode-notebook-cell://wsl%2Bubuntu-20.04/home/calkoen/dev/coclicodata/notebooks/06_coastal_adaptation.ipynb#ch0000020vscode-remote?line=7'>8</a>\u001b[0m     \u001b[39m\"\u001b[39m\u001b[39mlong_name\u001b[39m\u001b[39m\"\u001b[39m\n\u001b[1;32m      <a href='vscode-notebook-cell://wsl%2Bubuntu-20.04/home/calkoen/dev/coclicodata/notebooks/06_coastal_adaptation.ipynb#ch0000020vscode-remote?line=8'>9</a>\u001b[0m ] \u001b[39m=\u001b[39m \u001b[39m\"\u001b[39m\u001b[39mLongitude of the centroid of the NUTS2 region (2010 version).\u001b[39m\u001b[39m\"\u001b[39m\n\u001b[0;32m---> <a href='vscode-notebook-cell://wsl%2Bubuntu-20.04/home/calkoen/dev/coclicodata/notebooks/06_coastal_adaptation.ipynb#ch0000020vscode-remote?line=9'>10</a>\u001b[0m \u001b[39mdel\u001b[39;00m ds[\u001b[39m\"\u001b[39m\u001b[39mlon\u001b[39m\u001b[39m\"\u001b[39m]\u001b[39m.\u001b[39mattrs[\u001b[39m\"\u001b[39m\u001b[39m_CoordinateAxisType\u001b[39m\u001b[39m\"\u001b[39m]\n\u001b[1;32m     <a href='vscode-notebook-cell://wsl%2Bubuntu-20.04/home/calkoen/dev/coclicodata/notebooks/06_coastal_adaptation.ipynb#ch0000020vscode-remote?line=11'>12</a>\u001b[0m \u001b[39m# latitude attrs\u001b[39;00m\n\u001b[1;32m     <a href='vscode-notebook-cell://wsl%2Bubuntu-20.04/home/calkoen/dev/coclicodata/notebooks/06_coastal_adaptation.ipynb#ch0000020vscode-remote?line=12'>13</a>\u001b[0m ds[\u001b[39m\"\u001b[39m\u001b[39mlat\u001b[39m\u001b[39m\"\u001b[39m]\u001b[39m.\u001b[39mattrs[\u001b[39m\"\u001b[39m\u001b[39mstandard_name\u001b[39m\u001b[39m\"\u001b[39m] \u001b[39m=\u001b[39m \u001b[39m\"\u001b[39m\u001b[39mlatitude\u001b[39m\u001b[39m\"\u001b[39m\n",
      "\u001b[0;31mKeyError\u001b[0m: '_CoordinateAxisType'"
     ]
    }
   ],
   "source": [
    "# global attrs\n",
    "ds.attrs[\"Conventions\"] = \"CF-1.8\"\n",
    "\n",
    "# longitude attrs\n",
    "ds[\"lon\"].attrs[\"standard_name\"] = \"longitude\"\n",
    "ds[\"lon\"].attrs[\"units\"] = \"degrees_east\"\n",
    "ds[\"lon\"].attrs[\n",
    "    \"long_name\"\n",
    "] = \"Longitude of the centroid of the NUTS2 region (2010 version).\"\n",
    "del ds[\"lon\"].attrs[\"_CoordinateAxisType\"]\n",
    "\n",
    "# latitude attrs\n",
    "ds[\"lat\"].attrs[\"standard_name\"] = \"latitude\"\n",
    "ds[\"lat\"].attrs[\"units\"] = \"degrees_north\"\n",
    "ds[\"lat\"].attrs[\n",
    "    \"long_name\"\n",
    "] = \"Latitude of the centroid of the NUTS2 region (2010 version).\"\n",
    "del ds[\"lat\"].attrs[\"_CoordinateAxisType\"]\n",
    "\n",
    "# sustainability\n",
    "ds[\"sustain\"].attrs[\"long_name\"] = \"Sustainability\"\n",
    "ds[\"sustain\"].attrs[\"units\"] = \"EUR 1 000 000\"\n",
    "del ds[\"sustain\"].attrs[\"standard_name\"]\n",
    "\n",
    "# fossil fuel development\n",
    "ds[\"ffd\"].attrs[\"long_name\"] = \"Fossil fuel development\"\n",
    "ds[\"ffd\"].attrs[\"units\"] = \"EUR 1 000 000\"\n",
    "del ds[\"ffd\"].attrs[\"standard_name\"]"
   ]
  },
  {
   "cell_type": "code",
   "execution_count": 21,
   "id": "df2d713a-c589-495c-87d5-22d863e5c784",
   "metadata": {},
   "outputs": [],
   "source": [
    "for k, v in add_ds_attrs.items():\n",
    "    ds[k].attrs = add_ds_attrs[k]"
   ]
  },
  {
   "cell_type": "markdown",
   "id": "4eeaa4af",
   "metadata": {},
   "source": [
    "### Run CF checker"
   ]
  },
  {
   "cell_type": "code",
   "execution_count": 22,
   "id": "8a4c0a3e",
   "metadata": {},
   "outputs": [],
   "source": [
    "# save current dataset as netcdf in tmp directory\n",
    "ds_outpath = local_temp_dir.joinpath(\"cbca_CF.nc\")\n",
    "ds.to_netcdf(path=ds_outpath)"
   ]
  },
  {
   "cell_type": "code",
   "execution_count": 32,
   "id": "be8f6665",
   "metadata": {},
   "outputs": [
    {
     "data": {
      "text/plain": [
       "PosixPath('/home/calkoen/ddata/tmp/cbca_CF.nc')"
      ]
     },
     "execution_count": 32,
     "metadata": {},
     "output_type": "execute_result"
    }
   ],
   "source": [
    "ds_outpath"
   ]
  },
  {
   "cell_type": "code",
   "execution_count": 23,
   "id": "3af2b0d3",
   "metadata": {},
   "outputs": [
    {
     "name": "stdout",
     "output_type": "stream",
     "text": [
      "CHECKING NetCDF FILE: /home/calkoen/ddata/tmp/cbca_CF.nc\n",
      "=====================\n",
      "Using CF Checker Version 4.1.0\n",
      "Checking against CF Version CF-1.8\n",
      "Using Standard Name Table Version 79 (2022-03-19T15:25:54Z)\n",
      "Using Area Type Table Version 10 (23 June 2020)\n",
      "Using Standardized Region Name Table Version 4 (18 December 2018)\n",
      "\n",
      "\n",
      "------------------\n",
      "Checking variable: lat\n",
      "------------------\n",
      "\n",
      "------------------\n",
      "Checking variable: lon\n",
      "------------------\n",
      "\n",
      "------------------\n",
      "Checking variable: sustain\n",
      "------------------\n",
      "ERROR: (3.1): Invalid units: EUR 1 000 000\n",
      "\n",
      "------------------\n",
      "Checking variable: ffd\n",
      "------------------\n",
      "ERROR: (3.1): Invalid units: EUR 1 000 000\n",
      "\n",
      "------------------\n",
      "Checking variable: layers\n",
      "------------------\n",
      "\n",
      "------------------\n",
      "Checking variable: geometry\n",
      "------------------\n",
      "INFO: attribute geometry_type is being used in a non-standard way\n",
      "\n",
      "ERRORS detected: 2\n",
      "WARNINGS given: 0\n",
      "INFORMATION messages: 1\n"
     ]
    },
    {
     "data": {
      "text/plain": [
       "{'global': {'FATAL': [],\n",
       "  'ERROR': [],\n",
       "  'WARN': [],\n",
       "  'INFO': [],\n",
       "  'VERSION': ['CHECKING NetCDF FILE: /home/calkoen/ddata/tmp/cbca_CF.nc',\n",
       "   'Using CF Checker Version 4.1.0',\n",
       "   'Checking against CF Version CF-1.8',\n",
       "   'Using Standard Name Table Version 79 (2022-03-19T15:25:54Z)',\n",
       "   'Using Area Type Table Version 10 (23 June 2020)',\n",
       "   'Using Standardized Region Name Table Version 4 (18 December 2018)']},\n",
       " 'variables': OrderedDict([('lat',\n",
       "               {'FATAL': [],\n",
       "                'ERROR': [],\n",
       "                'WARN': [],\n",
       "                'INFO': [],\n",
       "                'VERSION': []}),\n",
       "              ('lon',\n",
       "               {'FATAL': [],\n",
       "                'ERROR': [],\n",
       "                'WARN': [],\n",
       "                'INFO': [],\n",
       "                'VERSION': []}),\n",
       "              ('sustain',\n",
       "               {'FATAL': [],\n",
       "                'ERROR': ['(3.1): Invalid units: EUR 1 000 000'],\n",
       "                'WARN': [],\n",
       "                'INFO': [],\n",
       "                'VERSION': []}),\n",
       "              ('ffd',\n",
       "               {'FATAL': [],\n",
       "                'ERROR': ['(3.1): Invalid units: EUR 1 000 000'],\n",
       "                'WARN': [],\n",
       "                'INFO': [],\n",
       "                'VERSION': []}),\n",
       "              ('layers',\n",
       "               {'FATAL': [],\n",
       "                'ERROR': [],\n",
       "                'WARN': [],\n",
       "                'INFO': [],\n",
       "                'VERSION': []}),\n",
       "              ('geometry',\n",
       "               {'FATAL': [],\n",
       "                'ERROR': [],\n",
       "                'WARN': [],\n",
       "                'INFO': ['attribute geometry_type is being used in a non-standard way'],\n",
       "                'VERSION': []})])}"
      ]
     },
     "execution_count": 23,
     "metadata": {},
     "output_type": "execute_result"
    }
   ],
   "source": [
    "# check using cfecker python library (default settings, hence, most current var, region, ..., etc. names)\n",
    "from cfchecker.cfchecks import CFChecker\n",
    "\n",
    "CFChecker().checker(str(ds_outpath))"
   ]
  },
  {
   "cell_type": "markdown",
   "id": "a2ef42b8",
   "metadata": {},
   "source": [
    "### Write CF logs to p_drive as backlog"
   ]
  },
  {
   "cell_type": "code",
   "execution_count": 26,
   "id": "8f52e127",
   "metadata": {},
   "outputs": [],
   "source": [
    "# define paths to save log files\n",
    "\n",
    "cf_dir = coclico_cf_dir.joinpath(ds_dirname)\n",
    "if not cf_dir.exists():\n",
    "    cf_dir.mkdir()"
   ]
  },
  {
   "cell_type": "code",
   "execution_count": 28,
   "id": "f992b4fc",
   "metadata": {},
   "outputs": [],
   "source": [
    "from contextlib import redirect_stdout\n",
    "\n",
    "# write CF logs to p_drive\n",
    "with open(cf_dir.joinpath(ds_outpath.stem).with_suffix(\".check\"), \"w\") as f:\n",
    "    with redirect_stdout(f):\n",
    "        CFChecker().checker(str(ds_outpath))"
   ]
  },
  {
   "cell_type": "markdown",
   "id": "5a1bb63b",
   "metadata": {},
   "source": [
    "### Copy files from local to p_drive"
   ]
  },
  {
   "cell_type": "code",
   "execution_count": 34,
   "id": "50359df3",
   "metadata": {},
   "outputs": [
    {
     "name": "stdout",
     "output_type": "stream",
     "text": [
      "cp '/home/calkoen/ddata/tmp/cbca_CF.nc' '/p/11205479-coclico/data/06_adaptation_jrc/cbca_CF.nc'\n"
     ]
    }
   ],
   "source": [
    "import shutil\n",
    "\n",
    "# #TODO: fix permission error when copying to p_drive\n",
    "# shutil.copy(ds_outpath, coclico_data_dir.joinpath(ds_dirname, ds_outpath.name))\n",
    "\n",
    "# workaround: print cp command to use in shell\n",
    "print(f\"cp '{ds_outpath}' '{coclico_data_dir.joinpath(ds_dirname, ds_outpath.name)}'\")"
   ]
  },
  {
   "cell_type": "code",
   "execution_count": 55,
   "id": "7fa8bc78",
   "metadata": {},
   "outputs": [
    {
     "data": {
      "text/plain": [
       "True"
      ]
     },
     "execution_count": 55,
     "metadata": {},
     "output_type": "execute_result"
    }
   ],
   "source": [
    "pathlib.Path(\"/p/11205479-coclico/data/06_adaptation_jrc/cbca_CF.nc\").exists()"
   ]
  }
 ],
 "metadata": {
  "interpreter": {
   "hash": "d52b8dfbdab1c939c3c4b10b0d762f4c8139583e350f28e123ee37db8f80dd50"
  },
  "kernelspec": {
   "display_name": "Python 3.10.4 ('base')",
   "language": "python",
   "name": "python3"
  },
  "language_info": {
   "codemirror_mode": {
    "name": "ipython",
    "version": 3
   },
   "file_extension": ".py",
   "mimetype": "text/x-python",
   "name": "python",
   "nbconvert_exporter": "python",
   "pygments_lexer": "ipython3",
   "version": "3.10.4"
  }
 },
 "nbformat": 4,
 "nbformat_minor": 5
}
