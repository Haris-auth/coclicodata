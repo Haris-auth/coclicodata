{
 "cells": [
  {
   "attachments": {},
   "cell_type": "markdown",
   "id": "c91b40e6",
   "metadata": {},
   "source": [
    "# Sea Level Rise AR5\n",
    "Notebook environment to migrate netcdf files to CF compliant zarr & CoG"
   ]
  },
  {
   "cell_type": "code",
   "execution_count": 1,
   "id": "f1aef40e",
   "metadata": {},
   "outputs": [
    {
     "data": {
      "application/javascript": "\n            setTimeout(function() {\n                var nbb_cell_id = 1;\n                var nbb_unformatted_code = \"# Optional; code formatter, installed as jupyter lab extension\\n#%load_ext lab_black\\n# Optional; code formatter, installed as jupyter notebook extension\\n%load_ext nb_black\";\n                var nbb_formatted_code = \"# Optional; code formatter, installed as jupyter lab extension\\n# %load_ext lab_black\\n# Optional; code formatter, installed as jupyter notebook extension\\n%load_ext nb_black\";\n                var nbb_cells = Jupyter.notebook.get_cells();\n                for (var i = 0; i < nbb_cells.length; ++i) {\n                    if (nbb_cells[i].input_prompt_number == nbb_cell_id) {\n                        if (nbb_cells[i].get_text() == nbb_unformatted_code) {\n                             nbb_cells[i].set_text(nbb_formatted_code);\n                        }\n                        break;\n                    }\n                }\n            }, 500);\n            ",
      "text/plain": [
       "<IPython.core.display.Javascript object>"
      ]
     },
     "metadata": {},
     "output_type": "display_data"
    }
   ],
   "source": [
    "# Optional; code formatter, installed as jupyter lab extension\n",
    "#%load_ext lab_black\n",
    "# Optional; code formatter, installed as jupyter notebook extension\n",
    "%load_ext nb_black"
   ]
  },
  {
   "cell_type": "markdown",
   "id": "f3f67518",
   "metadata": {},
   "source": [
    "### Configure OS independent paths"
   ]
  },
  {
   "cell_type": "code",
   "execution_count": 2,
   "id": "77b089ea",
   "metadata": {},
   "outputs": [
    {
     "name": "stderr",
     "output_type": "stream",
     "text": [
      "C:\\Users\\kras\\AppData\\Local\\Temp\\ipykernel_9136\\407989714.py:6: UserWarning: Shapely 2.0 is installed, but because PyGEOS is also installed, GeoPandas will still use PyGEOS by default for now. To force to use and test Shapely 2.0, you have to set the environment variable USE_PYGEOS=0. You can do this before starting the Python process, or in your code before importing geopandas:\n",
      "\n",
      "import os\n",
      "os.environ['USE_PYGEOS'] = '0'\n",
      "import geopandas\n",
      "\n",
      "In a future release, GeoPandas will switch to using Shapely by default. If you are using PyGEOS directly (calling PyGEOS functions on geometries from GeoPandas), this will then stop working and you are encouraged to migrate from PyGEOS to Shapely 2.0 (https://shapely.readthedocs.io/en/latest/migration_pygeos.html).\n",
      "  import geopandas as gpd\n"
     ]
    },
    {
     "data": {
      "application/javascript": "\n            setTimeout(function() {\n                var nbb_cell_id = 2;\n                var nbb_unformatted_code = \"# Import standard packages\\nimport os\\nimport pathlib\\nimport sys\\nimport numpy as np\\nimport geopandas as gpd\\nimport pandas as pd\\nimport matplotlib.pyplot as plt\\nimport xarray as xr\\nimport netCDF4 as nc\\nimport numpy.ma as ma\\nimport rasterio\\nimport rioxarray as rio\\n\\n\\n# Make root directories importable by appending root to path\\ncwd = pathlib.Path().resolve()\\nsys.path.append(os.path.dirname(cwd))\\n\\n# Get root paths\\nhome = pathlib.Path().home()\\nroot = home.root\\ntmp_dir = home.joinpath(\\\"data\\\", \\\"tmp\\\")\\n\\n# Import custom functionality\\nfrom etl import p_drive\\nfrom etl.CF_compliancy_checker import check_compliancy, save_compliancy\\n\\n# Define (local and) remote drives\\ncoclico_data_dir = p_drive.joinpath(\\\"11205479-coclico\\\", \\\"FASTTRACK_DATA\\\")\\n\\n# Workaround to the Windows OS (10) udunits error after installation of cfchecker: https://github.com/SciTools/iris/issues/404\\nos.environ[\\\"UDUNITS2_XML_PATH\\\"] = str(\\n    home.joinpath(  # change to the udunits2.xml file dir in your Python installation\\n        r\\\"Anaconda3\\\\pkgs\\\\udunits2-2.2.28-h892ecd3_0\\\\Library\\\\share\\\\udunits\\\\udunits2.xml\\\"\\n    )\\n)\\n\\n# use local or remote data dir\\nuse_local_data = False\\nds_dirname = \\\"18_AR5_SLP_IPCC\\\"\\n\\nif use_local_data: \\n    ds_dir = tmp_dir.joinpath(ds_dirname)\\nelse: \\n    ds_dir = coclico_data_dir.joinpath(ds_dirname)\\n\\nif not ds_dir.exists():\\n    raise FileNotFoundError(\\\"Directory with data does not exist.\\\")\\n\\n# directory to export result (make if not exists)\\ncog_dir = ds_dir.joinpath(\\\"cog\\\")\\ncog_dir.mkdir(parents=True, exist_ok=True)\";\n                var nbb_formatted_code = \"# Import standard packages\\nimport os\\nimport pathlib\\nimport sys\\nimport numpy as np\\nimport geopandas as gpd\\nimport pandas as pd\\nimport matplotlib.pyplot as plt\\nimport xarray as xr\\nimport netCDF4 as nc\\nimport numpy.ma as ma\\nimport rasterio\\nimport rioxarray as rio\\n\\n\\n# Make root directories importable by appending root to path\\ncwd = pathlib.Path().resolve()\\nsys.path.append(os.path.dirname(cwd))\\n\\n# Get root paths\\nhome = pathlib.Path().home()\\nroot = home.root\\ntmp_dir = home.joinpath(\\\"data\\\", \\\"tmp\\\")\\n\\n# Import custom functionality\\nfrom etl import p_drive\\nfrom etl.CF_compliancy_checker import check_compliancy, save_compliancy\\n\\n# Define (local and) remote drives\\ncoclico_data_dir = p_drive.joinpath(\\\"11205479-coclico\\\", \\\"FASTTRACK_DATA\\\")\\n\\n# Workaround to the Windows OS (10) udunits error after installation of cfchecker: https://github.com/SciTools/iris/issues/404\\nos.environ[\\\"UDUNITS2_XML_PATH\\\"] = str(\\n    home.joinpath(  # change to the udunits2.xml file dir in your Python installation\\n        r\\\"Anaconda3\\\\pkgs\\\\udunits2-2.2.28-h892ecd3_0\\\\Library\\\\share\\\\udunits\\\\udunits2.xml\\\"\\n    )\\n)\\n\\n# use local or remote data dir\\nuse_local_data = False\\nds_dirname = \\\"18_AR5_SLP_IPCC\\\"\\n\\nif use_local_data:\\n    ds_dir = tmp_dir.joinpath(ds_dirname)\\nelse:\\n    ds_dir = coclico_data_dir.joinpath(ds_dirname)\\n\\nif not ds_dir.exists():\\n    raise FileNotFoundError(\\\"Directory with data does not exist.\\\")\\n\\n# directory to export result (make if not exists)\\ncog_dir = ds_dir.joinpath(\\\"cog\\\")\\ncog_dir.mkdir(parents=True, exist_ok=True)\";\n                var nbb_cells = Jupyter.notebook.get_cells();\n                for (var i = 0; i < nbb_cells.length; ++i) {\n                    if (nbb_cells[i].input_prompt_number == nbb_cell_id) {\n                        if (nbb_cells[i].get_text() == nbb_unformatted_code) {\n                             nbb_cells[i].set_text(nbb_formatted_code);\n                        }\n                        break;\n                    }\n                }\n            }, 500);\n            ",
      "text/plain": [
       "<IPython.core.display.Javascript object>"
      ]
     },
     "metadata": {},
     "output_type": "display_data"
    }
   ],
   "source": [
    "# Import standard packages\n",
    "import os\n",
    "import pathlib\n",
    "import sys\n",
    "import numpy as np\n",
    "import geopandas as gpd\n",
    "import pandas as pd\n",
    "import matplotlib.pyplot as plt\n",
    "import xarray as xr\n",
    "import netCDF4 as nc\n",
    "import numpy.ma as ma\n",
    "import rasterio\n",
    "import rioxarray as rio\n",
    "\n",
    "\n",
    "# Make root directories importable by appending root to path\n",
    "cwd = pathlib.Path().resolve()\n",
    "sys.path.append(os.path.dirname(cwd))\n",
    "\n",
    "# Get root paths\n",
    "home = pathlib.Path().home()\n",
    "root = home.root\n",
    "tmp_dir = home.joinpath(\"data\", \"tmp\")\n",
    "\n",
    "# Import custom functionality\n",
    "from etl import p_drive\n",
    "from etl.CF_compliancy_checker import check_compliancy, save_compliancy\n",
    "\n",
    "# Define (local and) remote drives\n",
    "coclico_data_dir = p_drive.joinpath(\"11205479-coclico\", \"FASTTRACK_DATA\")\n",
    "\n",
    "# Workaround to the Windows OS (10) udunits error after installation of cfchecker: https://github.com/SciTools/iris/issues/404\n",
    "os.environ[\"UDUNITS2_XML_PATH\"] = str(\n",
    "    home.joinpath(  # change to the udunits2.xml file dir in your Python installation\n",
    "        r\"Anaconda3\\pkgs\\udunits2-2.2.28-h892ecd3_0\\Library\\share\\udunits\\udunits2.xml\"\n",
    "    )\n",
    ")\n",
    "\n",
    "# use local or remote data dir\n",
    "use_local_data = False\n",
    "ds_dirname = \"18_AR5_SLP_IPCC\"\n",
    "\n",
    "if use_local_data: \n",
    "    ds_dir = tmp_dir.joinpath(ds_dirname)\n",
    "else: \n",
    "    ds_dir = coclico_data_dir.joinpath(ds_dirname)\n",
    "\n",
    "if not ds_dir.exists():\n",
    "    raise FileNotFoundError(\"Directory with data does not exist.\")\n",
    "\n",
    "# directory to export result (make if not exists)\n",
    "cog_dir = ds_dir.joinpath(\"cog\")\n",
    "cog_dir.mkdir(parents=True, exist_ok=True)"
   ]
  },
  {
   "cell_type": "code",
   "execution_count": 3,
   "id": "aef15534",
   "metadata": {},
   "outputs": [
    {
     "data": {
      "application/javascript": "\n            setTimeout(function() {\n                var nbb_cell_id = 3;\n                var nbb_unformatted_code = \"# Project paths & files (manual input)\\nds_dir = coclico_data_dir.joinpath(\\\"18_AR5_SLP_IPCC\\\")\\nds_rcp26_path = ds_dir.joinpath(\\\"total-ens-slr-26-5.nc\\\")\\nds_rcp45_path = ds_dir.joinpath(\\\"total-ens-slr-45-5.nc\\\")\\nds_rcp85_path = ds_dir.joinpath(\\\"total-ens-slr-85-5.nc\\\")\\nds_out_file = \\\"total-ens-slr\\\"\\nCF_dir = coclico_data_dir.joinpath(r\\\"CF\\\")  # directory to save output CF check files\";\n                var nbb_formatted_code = \"# Project paths & files (manual input)\\nds_dir = coclico_data_dir.joinpath(\\\"18_AR5_SLP_IPCC\\\")\\nds_rcp26_path = ds_dir.joinpath(\\\"total-ens-slr-26-5.nc\\\")\\nds_rcp45_path = ds_dir.joinpath(\\\"total-ens-slr-45-5.nc\\\")\\nds_rcp85_path = ds_dir.joinpath(\\\"total-ens-slr-85-5.nc\\\")\\nds_out_file = \\\"total-ens-slr\\\"\\nCF_dir = coclico_data_dir.joinpath(r\\\"CF\\\")  # directory to save output CF check files\";\n                var nbb_cells = Jupyter.notebook.get_cells();\n                for (var i = 0; i < nbb_cells.length; ++i) {\n                    if (nbb_cells[i].input_prompt_number == nbb_cell_id) {\n                        if (nbb_cells[i].get_text() == nbb_unformatted_code) {\n                             nbb_cells[i].set_text(nbb_formatted_code);\n                        }\n                        break;\n                    }\n                }\n            }, 500);\n            ",
      "text/plain": [
       "<IPython.core.display.Javascript object>"
      ]
     },
     "metadata": {},
     "output_type": "display_data"
    }
   ],
   "source": [
    "# Project paths & files (manual input)\n",
    "ds_dir = coclico_data_dir.joinpath(\"18_AR5_SLP_IPCC\")\n",
    "ds_rcp26_path = ds_dir.joinpath(\"total-ens-slr-26-5.nc\")\n",
    "ds_rcp45_path = ds_dir.joinpath(\"total-ens-slr-45-5.nc\")\n",
    "ds_rcp85_path = ds_dir.joinpath(\"total-ens-slr-85-5.nc\")\n",
    "ds_out_file = \"total-ens-slr\"\n",
    "CF_dir = coclico_data_dir.joinpath(r\"CF\")  # directory to save output CF check files"
   ]
  },
  {
   "cell_type": "markdown",
   "id": "4d9d1359",
   "metadata": {},
   "source": [
    "### Check CF compliancy original NetCDF files"
   ]
  },
  {
   "cell_type": "code",
   "execution_count": 4,
   "id": "4e88de5e",
   "metadata": {},
   "outputs": [
    {
     "name": "stderr",
     "output_type": "stream",
     "text": [
      "c:\\Users\\kras\\Anaconda3\\envs\\geo_env\\lib\\site-packages\\xarray\\conventions.py:551: SerializationWarning: variable 'totslr_ens' has multiple fill values {1e+20, 1e+20}, decoding all values to NaN.\n",
      "  new_vars[k] = decode_cf_variable(\n",
      "c:\\Users\\kras\\Anaconda3\\envs\\geo_env\\lib\\site-packages\\xarray\\conventions.py:551: SerializationWarning: variable 'totslr' has multiple fill values {1e+20, 1e+20}, decoding all values to NaN.\n",
      "  new_vars[k] = decode_cf_variable(\n",
      "c:\\Users\\kras\\Anaconda3\\envs\\geo_env\\lib\\site-packages\\xarray\\conventions.py:551: SerializationWarning: variable 'loerr' has multiple fill values {1e+20, 1e+20}, decoding all values to NaN.\n",
      "  new_vars[k] = decode_cf_variable(\n",
      "c:\\Users\\kras\\Anaconda3\\envs\\geo_env\\lib\\site-packages\\xarray\\conventions.py:551: SerializationWarning: variable 'hierr' has multiple fill values {1e+20, 1e+20}, decoding all values to NaN.\n",
      "  new_vars[k] = decode_cf_variable(\n",
      "c:\\Users\\kras\\Anaconda3\\envs\\geo_env\\lib\\site-packages\\xarray\\conventions.py:551: SerializationWarning: variable 'totslr_ens' has multiple fill values {1e+20, 1e+20}, decoding all values to NaN.\n",
      "  new_vars[k] = decode_cf_variable(\n",
      "c:\\Users\\kras\\Anaconda3\\envs\\geo_env\\lib\\site-packages\\xarray\\conventions.py:551: SerializationWarning: variable 'totslr' has multiple fill values {1e+20, 1e+20}, decoding all values to NaN.\n",
      "  new_vars[k] = decode_cf_variable(\n",
      "c:\\Users\\kras\\Anaconda3\\envs\\geo_env\\lib\\site-packages\\xarray\\conventions.py:551: SerializationWarning: variable 'loerr' has multiple fill values {1e+20, 1e+20}, decoding all values to NaN.\n",
      "  new_vars[k] = decode_cf_variable(\n",
      "c:\\Users\\kras\\Anaconda3\\envs\\geo_env\\lib\\site-packages\\xarray\\conventions.py:551: SerializationWarning: variable 'hierr' has multiple fill values {1e+20, 1e+20}, decoding all values to NaN.\n",
      "  new_vars[k] = decode_cf_variable(\n"
     ]
    },
    {
     "data": {
      "text/html": [
       "<div><svg style=\"position: absolute; width: 0; height: 0; overflow: hidden\">\n",
       "<defs>\n",
       "<symbol id=\"icon-database\" viewBox=\"0 0 32 32\">\n",
       "<path d=\"M16 0c-8.837 0-16 2.239-16 5v4c0 2.761 7.163 5 16 5s16-2.239 16-5v-4c0-2.761-7.163-5-16-5z\"></path>\n",
       "<path d=\"M16 17c-8.837 0-16-2.239-16-5v6c0 2.761 7.163 5 16 5s16-2.239 16-5v-6c0 2.761-7.163 5-16 5z\"></path>\n",
       "<path d=\"M16 26c-8.837 0-16-2.239-16-5v6c0 2.761 7.163 5 16 5s16-2.239 16-5v-6c0 2.761-7.163 5-16 5z\"></path>\n",
       "</symbol>\n",
       "<symbol id=\"icon-file-text2\" viewBox=\"0 0 32 32\">\n",
       "<path d=\"M28.681 7.159c-0.694-0.947-1.662-2.053-2.724-3.116s-2.169-2.030-3.116-2.724c-1.612-1.182-2.393-1.319-2.841-1.319h-15.5c-1.378 0-2.5 1.121-2.5 2.5v27c0 1.378 1.122 2.5 2.5 2.5h23c1.378 0 2.5-1.122 2.5-2.5v-19.5c0-0.448-0.137-1.23-1.319-2.841zM24.543 5.457c0.959 0.959 1.712 1.825 2.268 2.543h-4.811v-4.811c0.718 0.556 1.584 1.309 2.543 2.268zM28 29.5c0 0.271-0.229 0.5-0.5 0.5h-23c-0.271 0-0.5-0.229-0.5-0.5v-27c0-0.271 0.229-0.5 0.5-0.5 0 0 15.499-0 15.5 0v7c0 0.552 0.448 1 1 1h7v19.5z\"></path>\n",
       "<path d=\"M23 26h-14c-0.552 0-1-0.448-1-1s0.448-1 1-1h14c0.552 0 1 0.448 1 1s-0.448 1-1 1z\"></path>\n",
       "<path d=\"M23 22h-14c-0.552 0-1-0.448-1-1s0.448-1 1-1h14c0.552 0 1 0.448 1 1s-0.448 1-1 1z\"></path>\n",
       "<path d=\"M23 18h-14c-0.552 0-1-0.448-1-1s0.448-1 1-1h14c0.552 0 1 0.448 1 1s-0.448 1-1 1z\"></path>\n",
       "</symbol>\n",
       "</defs>\n",
       "</svg>\n",
       "<style>/* CSS stylesheet for displaying xarray objects in jupyterlab.\n",
       " *\n",
       " */\n",
       "\n",
       ":root {\n",
       "  --xr-font-color0: var(--jp-content-font-color0, rgba(0, 0, 0, 1));\n",
       "  --xr-font-color2: var(--jp-content-font-color2, rgba(0, 0, 0, 0.54));\n",
       "  --xr-font-color3: var(--jp-content-font-color3, rgba(0, 0, 0, 0.38));\n",
       "  --xr-border-color: var(--jp-border-color2, #e0e0e0);\n",
       "  --xr-disabled-color: var(--jp-layout-color3, #bdbdbd);\n",
       "  --xr-background-color: var(--jp-layout-color0, white);\n",
       "  --xr-background-color-row-even: var(--jp-layout-color1, white);\n",
       "  --xr-background-color-row-odd: var(--jp-layout-color2, #eeeeee);\n",
       "}\n",
       "\n",
       "html[theme=dark],\n",
       "body[data-theme=dark],\n",
       "body.vscode-dark {\n",
       "  --xr-font-color0: rgba(255, 255, 255, 1);\n",
       "  --xr-font-color2: rgba(255, 255, 255, 0.54);\n",
       "  --xr-font-color3: rgba(255, 255, 255, 0.38);\n",
       "  --xr-border-color: #1F1F1F;\n",
       "  --xr-disabled-color: #515151;\n",
       "  --xr-background-color: #111111;\n",
       "  --xr-background-color-row-even: #111111;\n",
       "  --xr-background-color-row-odd: #313131;\n",
       "}\n",
       "\n",
       ".xr-wrap {\n",
       "  display: block !important;\n",
       "  min-width: 300px;\n",
       "  max-width: 700px;\n",
       "}\n",
       "\n",
       ".xr-text-repr-fallback {\n",
       "  /* fallback to plain text repr when CSS is not injected (untrusted notebook) */\n",
       "  display: none;\n",
       "}\n",
       "\n",
       ".xr-header {\n",
       "  padding-top: 6px;\n",
       "  padding-bottom: 6px;\n",
       "  margin-bottom: 4px;\n",
       "  border-bottom: solid 1px var(--xr-border-color);\n",
       "}\n",
       "\n",
       ".xr-header > div,\n",
       ".xr-header > ul {\n",
       "  display: inline;\n",
       "  margin-top: 0;\n",
       "  margin-bottom: 0;\n",
       "}\n",
       "\n",
       ".xr-obj-type,\n",
       ".xr-array-name {\n",
       "  margin-left: 2px;\n",
       "  margin-right: 10px;\n",
       "}\n",
       "\n",
       ".xr-obj-type {\n",
       "  color: var(--xr-font-color2);\n",
       "}\n",
       "\n",
       ".xr-sections {\n",
       "  padding-left: 0 !important;\n",
       "  display: grid;\n",
       "  grid-template-columns: 150px auto auto 1fr 20px 20px;\n",
       "}\n",
       "\n",
       ".xr-section-item {\n",
       "  display: contents;\n",
       "}\n",
       "\n",
       ".xr-section-item input {\n",
       "  display: none;\n",
       "}\n",
       "\n",
       ".xr-section-item input + label {\n",
       "  color: var(--xr-disabled-color);\n",
       "}\n",
       "\n",
       ".xr-section-item input:enabled + label {\n",
       "  cursor: pointer;\n",
       "  color: var(--xr-font-color2);\n",
       "}\n",
       "\n",
       ".xr-section-item input:enabled + label:hover {\n",
       "  color: var(--xr-font-color0);\n",
       "}\n",
       "\n",
       ".xr-section-summary {\n",
       "  grid-column: 1;\n",
       "  color: var(--xr-font-color2);\n",
       "  font-weight: 500;\n",
       "}\n",
       "\n",
       ".xr-section-summary > span {\n",
       "  display: inline-block;\n",
       "  padding-left: 0.5em;\n",
       "}\n",
       "\n",
       ".xr-section-summary-in:disabled + label {\n",
       "  color: var(--xr-font-color2);\n",
       "}\n",
       "\n",
       ".xr-section-summary-in + label:before {\n",
       "  display: inline-block;\n",
       "  content: '►';\n",
       "  font-size: 11px;\n",
       "  width: 15px;\n",
       "  text-align: center;\n",
       "}\n",
       "\n",
       ".xr-section-summary-in:disabled + label:before {\n",
       "  color: var(--xr-disabled-color);\n",
       "}\n",
       "\n",
       ".xr-section-summary-in:checked + label:before {\n",
       "  content: '▼';\n",
       "}\n",
       "\n",
       ".xr-section-summary-in:checked + label > span {\n",
       "  display: none;\n",
       "}\n",
       "\n",
       ".xr-section-summary,\n",
       ".xr-section-inline-details {\n",
       "  padding-top: 4px;\n",
       "  padding-bottom: 4px;\n",
       "}\n",
       "\n",
       ".xr-section-inline-details {\n",
       "  grid-column: 2 / -1;\n",
       "}\n",
       "\n",
       ".xr-section-details {\n",
       "  display: none;\n",
       "  grid-column: 1 / -1;\n",
       "  margin-bottom: 5px;\n",
       "}\n",
       "\n",
       ".xr-section-summary-in:checked ~ .xr-section-details {\n",
       "  display: contents;\n",
       "}\n",
       "\n",
       ".xr-array-wrap {\n",
       "  grid-column: 1 / -1;\n",
       "  display: grid;\n",
       "  grid-template-columns: 20px auto;\n",
       "}\n",
       "\n",
       ".xr-array-wrap > label {\n",
       "  grid-column: 1;\n",
       "  vertical-align: top;\n",
       "}\n",
       "\n",
       ".xr-preview {\n",
       "  color: var(--xr-font-color3);\n",
       "}\n",
       "\n",
       ".xr-array-preview,\n",
       ".xr-array-data {\n",
       "  padding: 0 5px !important;\n",
       "  grid-column: 2;\n",
       "}\n",
       "\n",
       ".xr-array-data,\n",
       ".xr-array-in:checked ~ .xr-array-preview {\n",
       "  display: none;\n",
       "}\n",
       "\n",
       ".xr-array-in:checked ~ .xr-array-data,\n",
       ".xr-array-preview {\n",
       "  display: inline-block;\n",
       "}\n",
       "\n",
       ".xr-dim-list {\n",
       "  display: inline-block !important;\n",
       "  list-style: none;\n",
       "  padding: 0 !important;\n",
       "  margin: 0;\n",
       "}\n",
       "\n",
       ".xr-dim-list li {\n",
       "  display: inline-block;\n",
       "  padding: 0;\n",
       "  margin: 0;\n",
       "}\n",
       "\n",
       ".xr-dim-list:before {\n",
       "  content: '(';\n",
       "}\n",
       "\n",
       ".xr-dim-list:after {\n",
       "  content: ')';\n",
       "}\n",
       "\n",
       ".xr-dim-list li:not(:last-child):after {\n",
       "  content: ',';\n",
       "  padding-right: 5px;\n",
       "}\n",
       "\n",
       ".xr-has-index {\n",
       "  font-weight: bold;\n",
       "}\n",
       "\n",
       ".xr-var-list,\n",
       ".xr-var-item {\n",
       "  display: contents;\n",
       "}\n",
       "\n",
       ".xr-var-item > div,\n",
       ".xr-var-item label,\n",
       ".xr-var-item > .xr-var-name span {\n",
       "  background-color: var(--xr-background-color-row-even);\n",
       "  margin-bottom: 0;\n",
       "}\n",
       "\n",
       ".xr-var-item > .xr-var-name:hover span {\n",
       "  padding-right: 5px;\n",
       "}\n",
       "\n",
       ".xr-var-list > li:nth-child(odd) > div,\n",
       ".xr-var-list > li:nth-child(odd) > label,\n",
       ".xr-var-list > li:nth-child(odd) > .xr-var-name span {\n",
       "  background-color: var(--xr-background-color-row-odd);\n",
       "}\n",
       "\n",
       ".xr-var-name {\n",
       "  grid-column: 1;\n",
       "}\n",
       "\n",
       ".xr-var-dims {\n",
       "  grid-column: 2;\n",
       "}\n",
       "\n",
       ".xr-var-dtype {\n",
       "  grid-column: 3;\n",
       "  text-align: right;\n",
       "  color: var(--xr-font-color2);\n",
       "}\n",
       "\n",
       ".xr-var-preview {\n",
       "  grid-column: 4;\n",
       "}\n",
       "\n",
       ".xr-index-preview {\n",
       "  grid-column: 2 / 5;\n",
       "  color: var(--xr-font-color2);\n",
       "}\n",
       "\n",
       ".xr-var-name,\n",
       ".xr-var-dims,\n",
       ".xr-var-dtype,\n",
       ".xr-preview,\n",
       ".xr-attrs dt {\n",
       "  white-space: nowrap;\n",
       "  overflow: hidden;\n",
       "  text-overflow: ellipsis;\n",
       "  padding-right: 10px;\n",
       "}\n",
       "\n",
       ".xr-var-name:hover,\n",
       ".xr-var-dims:hover,\n",
       ".xr-var-dtype:hover,\n",
       ".xr-attrs dt:hover {\n",
       "  overflow: visible;\n",
       "  width: auto;\n",
       "  z-index: 1;\n",
       "}\n",
       "\n",
       ".xr-var-attrs,\n",
       ".xr-var-data,\n",
       ".xr-index-data {\n",
       "  display: none;\n",
       "  background-color: var(--xr-background-color) !important;\n",
       "  padding-bottom: 5px !important;\n",
       "}\n",
       "\n",
       ".xr-var-attrs-in:checked ~ .xr-var-attrs,\n",
       ".xr-var-data-in:checked ~ .xr-var-data,\n",
       ".xr-index-data-in:checked ~ .xr-index-data {\n",
       "  display: block;\n",
       "}\n",
       "\n",
       ".xr-var-data > table {\n",
       "  float: right;\n",
       "}\n",
       "\n",
       ".xr-var-name span,\n",
       ".xr-var-data,\n",
       ".xr-index-name div,\n",
       ".xr-index-data,\n",
       ".xr-attrs {\n",
       "  padding-left: 25px !important;\n",
       "}\n",
       "\n",
       ".xr-attrs,\n",
       ".xr-var-attrs,\n",
       ".xr-var-data,\n",
       ".xr-index-data {\n",
       "  grid-column: 1 / -1;\n",
       "}\n",
       "\n",
       "dl.xr-attrs {\n",
       "  padding: 0;\n",
       "  margin: 0;\n",
       "  display: grid;\n",
       "  grid-template-columns: 125px auto;\n",
       "}\n",
       "\n",
       ".xr-attrs dt,\n",
       ".xr-attrs dd {\n",
       "  padding: 0;\n",
       "  margin: 0;\n",
       "  float: left;\n",
       "  padding-right: 10px;\n",
       "  width: auto;\n",
       "}\n",
       "\n",
       ".xr-attrs dt {\n",
       "  font-weight: normal;\n",
       "  grid-column: 1;\n",
       "}\n",
       "\n",
       ".xr-attrs dt:hover span {\n",
       "  display: inline-block;\n",
       "  background: var(--xr-background-color);\n",
       "  padding-right: 10px;\n",
       "}\n",
       "\n",
       ".xr-attrs dd {\n",
       "  grid-column: 2;\n",
       "  white-space: pre-wrap;\n",
       "  word-break: break-all;\n",
       "}\n",
       "\n",
       ".xr-icon-database,\n",
       ".xr-icon-file-text2,\n",
       ".xr-no-icon {\n",
       "  display: inline-block;\n",
       "  vertical-align: middle;\n",
       "  width: 1em;\n",
       "  height: 1.5em !important;\n",
       "  stroke-width: 0;\n",
       "  stroke: currentColor;\n",
       "  fill: currentColor;\n",
       "}\n",
       "</style><pre class='xr-text-repr-fallback'>&lt;xarray.Dataset&gt;\n",
       "Dimensions:     (time: 94, bnds: 2, lat: 180, lon: 360, ens: 16)\n",
       "Coordinates:\n",
       "  * time        (time) object 2007-07-02 12:00:00 ... 2100-07-02 12:00:00\n",
       "  * lat         (lat) float64 -89.5 -88.5 -87.5 -86.5 ... 86.5 87.5 88.5 89.5\n",
       "  * lon         (lon) float64 0.5 1.5 2.5 3.5 4.5 ... 356.5 357.5 358.5 359.5\n",
       "Dimensions without coordinates: bnds, ens\n",
       "Data variables:\n",
       "    time_bnds   (time, bnds) object ...\n",
       "    totslr_ens  (ens, time, lat, lon) float32 ...\n",
       "    totslr      (time, lat, lon) float32 ...\n",
       "    loerr       (time, lat, lon) float32 ...\n",
       "    hierr       (time, lat, lon) float32 ...\n",
       "    modelname   (ens) |S16 ...\n",
       "Attributes:\n",
       "    history:     version 5, 27-March-2014\n",
       "    contact:     mark.carson@zmaw.de\n",
       "    references:  IPCC AR5 WGI, Chapter 13, and Chapter 13: Supplementary Mate...</pre><div class='xr-wrap' style='display:none'><div class='xr-header'><div class='xr-obj-type'>xarray.Dataset</div></div><ul class='xr-sections'><li class='xr-section-item'><input id='section-0f13d7d7-ddca-46f8-849c-a0c1ef410382' class='xr-section-summary-in' type='checkbox' disabled ><label for='section-0f13d7d7-ddca-46f8-849c-a0c1ef410382' class='xr-section-summary'  title='Expand/collapse section'>Dimensions:</label><div class='xr-section-inline-details'><ul class='xr-dim-list'><li><span class='xr-has-index'>time</span>: 94</li><li><span>bnds</span>: 2</li><li><span class='xr-has-index'>lat</span>: 180</li><li><span class='xr-has-index'>lon</span>: 360</li><li><span>ens</span>: 16</li></ul></div><div class='xr-section-details'></div></li><li class='xr-section-item'><input id='section-7ab0970b-2d2e-4cff-929b-0da4c53531c7' class='xr-section-summary-in' type='checkbox'  checked><label for='section-7ab0970b-2d2e-4cff-929b-0da4c53531c7' class='xr-section-summary' >Coordinates: <span>(3)</span></label><div class='xr-section-inline-details'></div><div class='xr-section-details'><ul class='xr-var-list'><li class='xr-var-item'><div class='xr-var-name'><span class='xr-has-index'>time</span></div><div class='xr-var-dims'>(time)</div><div class='xr-var-dtype'>object</div><div class='xr-var-preview xr-preview'>2007-07-02 12:00:00 ... 2100-07-...</div><input id='attrs-aaf6f3c1-bac0-41e7-8227-6c08e67dd7ff' class='xr-var-attrs-in' type='checkbox' ><label for='attrs-aaf6f3c1-bac0-41e7-8227-6c08e67dd7ff' title='Show/Hide attributes'><svg class='icon xr-icon-file-text2'><use xlink:href='#icon-file-text2'></use></svg></label><input id='data-90e8a064-10e8-4f66-9ed9-53178254ba13' class='xr-var-data-in' type='checkbox'><label for='data-90e8a064-10e8-4f66-9ed9-53178254ba13' title='Show/Hide data repr'><svg class='icon xr-icon-database'><use xlink:href='#icon-database'></use></svg></label><div class='xr-var-attrs'><dl class='xr-attrs'><dt><span>long_name :</span></dt><dd>time</dd><dt><span>bounds :</span></dt><dd>time_bnds</dd><dt><span>axis :</span></dt><dd>T</dd></dl></div><div class='xr-var-data'><pre>array([cftime.DatetimeNoLeap(2007, 7, 2, 12, 0, 0, 0, has_year_zero=True),\n",
       "       cftime.DatetimeNoLeap(2008, 7, 2, 0, 0, 0, 0, has_year_zero=True),\n",
       "       cftime.DatetimeNoLeap(2009, 7, 2, 12, 0, 0, 0, has_year_zero=True),\n",
       "       cftime.DatetimeNoLeap(2010, 7, 2, 12, 0, 0, 0, has_year_zero=True),\n",
       "       cftime.DatetimeNoLeap(2011, 7, 2, 12, 0, 0, 0, has_year_zero=True),\n",
       "       cftime.DatetimeNoLeap(2012, 7, 2, 0, 0, 0, 0, has_year_zero=True),\n",
       "       cftime.DatetimeNoLeap(2013, 7, 2, 12, 0, 0, 0, has_year_zero=True),\n",
       "       cftime.DatetimeNoLeap(2014, 7, 2, 12, 0, 0, 0, has_year_zero=True),\n",
       "       cftime.DatetimeNoLeap(2015, 7, 2, 12, 0, 0, 0, has_year_zero=True),\n",
       "       cftime.DatetimeNoLeap(2016, 7, 2, 0, 0, 0, 0, has_year_zero=True),\n",
       "       cftime.DatetimeNoLeap(2017, 7, 2, 12, 0, 0, 0, has_year_zero=True),\n",
       "       cftime.DatetimeNoLeap(2018, 7, 2, 12, 0, 0, 0, has_year_zero=True),\n",
       "       cftime.DatetimeNoLeap(2019, 7, 2, 12, 0, 0, 0, has_year_zero=True),\n",
       "       cftime.DatetimeNoLeap(2020, 7, 2, 0, 0, 0, 0, has_year_zero=True),\n",
       "       cftime.DatetimeNoLeap(2021, 7, 2, 12, 0, 0, 0, has_year_zero=True),\n",
       "       cftime.DatetimeNoLeap(2022, 7, 2, 12, 0, 0, 0, has_year_zero=True),\n",
       "       cftime.DatetimeNoLeap(2023, 7, 2, 12, 0, 0, 0, has_year_zero=True),\n",
       "       cftime.DatetimeNoLeap(2024, 7, 2, 0, 0, 0, 0, has_year_zero=True),\n",
       "       cftime.DatetimeNoLeap(2025, 7, 2, 12, 0, 0, 0, has_year_zero=True),\n",
       "       cftime.DatetimeNoLeap(2026, 7, 2, 12, 0, 0, 0, has_year_zero=True),\n",
       "       cftime.DatetimeNoLeap(2027, 7, 2, 12, 0, 0, 0, has_year_zero=True),\n",
       "       cftime.DatetimeNoLeap(2028, 7, 2, 0, 0, 0, 0, has_year_zero=True),\n",
       "       cftime.DatetimeNoLeap(2029, 7, 2, 12, 0, 0, 0, has_year_zero=True),\n",
       "       cftime.DatetimeNoLeap(2030, 7, 2, 12, 0, 0, 0, has_year_zero=True),\n",
       "       cftime.DatetimeNoLeap(2031, 7, 2, 12, 0, 0, 0, has_year_zero=True),\n",
       "       cftime.DatetimeNoLeap(2032, 7, 2, 0, 0, 0, 0, has_year_zero=True),\n",
       "       cftime.DatetimeNoLeap(2033, 7, 2, 12, 0, 0, 0, has_year_zero=True),\n",
       "       cftime.DatetimeNoLeap(2034, 7, 2, 12, 0, 0, 0, has_year_zero=True),\n",
       "       cftime.DatetimeNoLeap(2035, 7, 2, 12, 0, 0, 0, has_year_zero=True),\n",
       "       cftime.DatetimeNoLeap(2036, 7, 2, 0, 0, 0, 0, has_year_zero=True),\n",
       "       cftime.DatetimeNoLeap(2037, 7, 2, 12, 0, 0, 0, has_year_zero=True),\n",
       "       cftime.DatetimeNoLeap(2038, 7, 2, 12, 0, 0, 0, has_year_zero=True),\n",
       "       cftime.DatetimeNoLeap(2039, 7, 2, 12, 0, 0, 0, has_year_zero=True),\n",
       "       cftime.DatetimeNoLeap(2040, 7, 2, 0, 0, 0, 0, has_year_zero=True),\n",
       "       cftime.DatetimeNoLeap(2041, 7, 2, 12, 0, 0, 0, has_year_zero=True),\n",
       "       cftime.DatetimeNoLeap(2042, 7, 2, 12, 0, 0, 0, has_year_zero=True),\n",
       "       cftime.DatetimeNoLeap(2043, 7, 2, 12, 0, 0, 0, has_year_zero=True),\n",
       "       cftime.DatetimeNoLeap(2044, 7, 2, 0, 0, 0, 0, has_year_zero=True),\n",
       "       cftime.DatetimeNoLeap(2045, 7, 2, 12, 0, 0, 0, has_year_zero=True),\n",
       "       cftime.DatetimeNoLeap(2046, 7, 2, 12, 0, 0, 0, has_year_zero=True),\n",
       "       cftime.DatetimeNoLeap(2047, 7, 2, 12, 0, 0, 0, has_year_zero=True),\n",
       "       cftime.DatetimeNoLeap(2048, 7, 2, 0, 0, 0, 0, has_year_zero=True),\n",
       "       cftime.DatetimeNoLeap(2049, 7, 2, 12, 0, 0, 0, has_year_zero=True),\n",
       "       cftime.DatetimeNoLeap(2050, 7, 2, 12, 0, 0, 0, has_year_zero=True),\n",
       "       cftime.DatetimeNoLeap(2051, 7, 2, 12, 0, 0, 0, has_year_zero=True),\n",
       "       cftime.DatetimeNoLeap(2052, 7, 2, 0, 0, 0, 0, has_year_zero=True),\n",
       "       cftime.DatetimeNoLeap(2053, 7, 2, 12, 0, 0, 0, has_year_zero=True),\n",
       "       cftime.DatetimeNoLeap(2054, 7, 2, 12, 0, 0, 0, has_year_zero=True),\n",
       "       cftime.DatetimeNoLeap(2055, 7, 2, 12, 0, 0, 0, has_year_zero=True),\n",
       "       cftime.DatetimeNoLeap(2056, 7, 2, 0, 0, 0, 0, has_year_zero=True),\n",
       "       cftime.DatetimeNoLeap(2057, 7, 2, 12, 0, 0, 0, has_year_zero=True),\n",
       "       cftime.DatetimeNoLeap(2058, 7, 2, 12, 0, 0, 0, has_year_zero=True),\n",
       "       cftime.DatetimeNoLeap(2059, 7, 2, 12, 0, 0, 0, has_year_zero=True),\n",
       "       cftime.DatetimeNoLeap(2060, 7, 2, 0, 0, 0, 0, has_year_zero=True),\n",
       "       cftime.DatetimeNoLeap(2061, 7, 2, 12, 0, 0, 0, has_year_zero=True),\n",
       "       cftime.DatetimeNoLeap(2062, 7, 2, 12, 0, 0, 0, has_year_zero=True),\n",
       "       cftime.DatetimeNoLeap(2063, 7, 2, 12, 0, 0, 0, has_year_zero=True),\n",
       "       cftime.DatetimeNoLeap(2064, 7, 2, 0, 0, 0, 0, has_year_zero=True),\n",
       "       cftime.DatetimeNoLeap(2065, 7, 2, 12, 0, 0, 0, has_year_zero=True),\n",
       "       cftime.DatetimeNoLeap(2066, 7, 2, 12, 0, 0, 0, has_year_zero=True),\n",
       "       cftime.DatetimeNoLeap(2067, 7, 2, 12, 0, 0, 0, has_year_zero=True),\n",
       "       cftime.DatetimeNoLeap(2068, 7, 2, 0, 0, 0, 0, has_year_zero=True),\n",
       "       cftime.DatetimeNoLeap(2069, 7, 2, 12, 0, 0, 0, has_year_zero=True),\n",
       "       cftime.DatetimeNoLeap(2070, 7, 2, 12, 0, 0, 0, has_year_zero=True),\n",
       "       cftime.DatetimeNoLeap(2071, 7, 2, 12, 0, 0, 0, has_year_zero=True),\n",
       "       cftime.DatetimeNoLeap(2072, 7, 2, 0, 0, 0, 0, has_year_zero=True),\n",
       "       cftime.DatetimeNoLeap(2073, 7, 2, 12, 0, 0, 0, has_year_zero=True),\n",
       "       cftime.DatetimeNoLeap(2074, 7, 2, 12, 0, 0, 0, has_year_zero=True),\n",
       "       cftime.DatetimeNoLeap(2075, 7, 2, 12, 0, 0, 0, has_year_zero=True),\n",
       "       cftime.DatetimeNoLeap(2076, 7, 2, 0, 0, 0, 0, has_year_zero=True),\n",
       "       cftime.DatetimeNoLeap(2077, 7, 2, 12, 0, 0, 0, has_year_zero=True),\n",
       "       cftime.DatetimeNoLeap(2078, 7, 2, 12, 0, 0, 0, has_year_zero=True),\n",
       "       cftime.DatetimeNoLeap(2079, 7, 2, 12, 0, 0, 0, has_year_zero=True),\n",
       "       cftime.DatetimeNoLeap(2080, 7, 2, 0, 0, 0, 0, has_year_zero=True),\n",
       "       cftime.DatetimeNoLeap(2081, 7, 2, 12, 0, 0, 0, has_year_zero=True),\n",
       "       cftime.DatetimeNoLeap(2082, 7, 2, 12, 0, 0, 0, has_year_zero=True),\n",
       "       cftime.DatetimeNoLeap(2083, 7, 2, 12, 0, 0, 0, has_year_zero=True),\n",
       "       cftime.DatetimeNoLeap(2084, 7, 2, 0, 0, 0, 0, has_year_zero=True),\n",
       "       cftime.DatetimeNoLeap(2085, 7, 2, 12, 0, 0, 0, has_year_zero=True),\n",
       "       cftime.DatetimeNoLeap(2086, 7, 2, 12, 0, 0, 0, has_year_zero=True),\n",
       "       cftime.DatetimeNoLeap(2087, 7, 2, 12, 0, 0, 0, has_year_zero=True),\n",
       "       cftime.DatetimeNoLeap(2088, 7, 2, 0, 0, 0, 0, has_year_zero=True),\n",
       "       cftime.DatetimeNoLeap(2089, 7, 2, 12, 0, 0, 0, has_year_zero=True),\n",
       "       cftime.DatetimeNoLeap(2090, 7, 2, 12, 0, 0, 0, has_year_zero=True),\n",
       "       cftime.DatetimeNoLeap(2091, 7, 2, 12, 0, 0, 0, has_year_zero=True),\n",
       "       cftime.DatetimeNoLeap(2092, 7, 2, 0, 0, 0, 0, has_year_zero=True),\n",
       "       cftime.DatetimeNoLeap(2093, 7, 2, 12, 0, 0, 0, has_year_zero=True),\n",
       "       cftime.DatetimeNoLeap(2094, 7, 2, 12, 0, 0, 0, has_year_zero=True),\n",
       "       cftime.DatetimeNoLeap(2095, 7, 2, 12, 0, 0, 0, has_year_zero=True),\n",
       "       cftime.DatetimeNoLeap(2096, 7, 2, 0, 0, 0, 0, has_year_zero=True),\n",
       "       cftime.DatetimeNoLeap(2097, 7, 2, 12, 0, 0, 0, has_year_zero=True),\n",
       "       cftime.DatetimeNoLeap(2098, 7, 2, 12, 0, 0, 0, has_year_zero=True),\n",
       "       cftime.DatetimeNoLeap(2099, 7, 2, 12, 0, 0, 0, has_year_zero=True),\n",
       "       cftime.DatetimeNoLeap(2100, 7, 2, 12, 0, 0, 0, has_year_zero=True)],\n",
       "      dtype=object)</pre></div></li><li class='xr-var-item'><div class='xr-var-name'><span class='xr-has-index'>lat</span></div><div class='xr-var-dims'>(lat)</div><div class='xr-var-dtype'>float64</div><div class='xr-var-preview xr-preview'>-89.5 -88.5 -87.5 ... 88.5 89.5</div><input id='attrs-3be26be3-42ad-486b-931d-840b420f68d4' class='xr-var-attrs-in' type='checkbox' ><label for='attrs-3be26be3-42ad-486b-931d-840b420f68d4' title='Show/Hide attributes'><svg class='icon xr-icon-file-text2'><use xlink:href='#icon-file-text2'></use></svg></label><input id='data-591751fb-1ce5-4c91-abbf-ede91f9fe3b2' class='xr-var-data-in' type='checkbox'><label for='data-591751fb-1ce5-4c91-abbf-ede91f9fe3b2' title='Show/Hide data repr'><svg class='icon xr-icon-database'><use xlink:href='#icon-database'></use></svg></label><div class='xr-var-attrs'><dl class='xr-attrs'><dt><span>standard_name :</span></dt><dd>latitude</dd><dt><span>long_name :</span></dt><dd>latitude coordinate</dd><dt><span>units :</span></dt><dd>degrees_north</dd><dt><span>axis :</span></dt><dd>Y</dd></dl></div><div class='xr-var-data'><pre>array([-89.5, -88.5, -87.5, -86.5, -85.5, -84.5, -83.5, -82.5, -81.5, -80.5,\n",
       "       -79.5, -78.5, -77.5, -76.5, -75.5, -74.5, -73.5, -72.5, -71.5, -70.5,\n",
       "       -69.5, -68.5, -67.5, -66.5, -65.5, -64.5, -63.5, -62.5, -61.5, -60.5,\n",
       "       -59.5, -58.5, -57.5, -56.5, -55.5, -54.5, -53.5, -52.5, -51.5, -50.5,\n",
       "       -49.5, -48.5, -47.5, -46.5, -45.5, -44.5, -43.5, -42.5, -41.5, -40.5,\n",
       "       -39.5, -38.5, -37.5, -36.5, -35.5, -34.5, -33.5, -32.5, -31.5, -30.5,\n",
       "       -29.5, -28.5, -27.5, -26.5, -25.5, -24.5, -23.5, -22.5, -21.5, -20.5,\n",
       "       -19.5, -18.5, -17.5, -16.5, -15.5, -14.5, -13.5, -12.5, -11.5, -10.5,\n",
       "        -9.5,  -8.5,  -7.5,  -6.5,  -5.5,  -4.5,  -3.5,  -2.5,  -1.5,  -0.5,\n",
       "         0.5,   1.5,   2.5,   3.5,   4.5,   5.5,   6.5,   7.5,   8.5,   9.5,\n",
       "        10.5,  11.5,  12.5,  13.5,  14.5,  15.5,  16.5,  17.5,  18.5,  19.5,\n",
       "        20.5,  21.5,  22.5,  23.5,  24.5,  25.5,  26.5,  27.5,  28.5,  29.5,\n",
       "        30.5,  31.5,  32.5,  33.5,  34.5,  35.5,  36.5,  37.5,  38.5,  39.5,\n",
       "        40.5,  41.5,  42.5,  43.5,  44.5,  45.5,  46.5,  47.5,  48.5,  49.5,\n",
       "        50.5,  51.5,  52.5,  53.5,  54.5,  55.5,  56.5,  57.5,  58.5,  59.5,\n",
       "        60.5,  61.5,  62.5,  63.5,  64.5,  65.5,  66.5,  67.5,  68.5,  69.5,\n",
       "        70.5,  71.5,  72.5,  73.5,  74.5,  75.5,  76.5,  77.5,  78.5,  79.5,\n",
       "        80.5,  81.5,  82.5,  83.5,  84.5,  85.5,  86.5,  87.5,  88.5,  89.5])</pre></div></li><li class='xr-var-item'><div class='xr-var-name'><span class='xr-has-index'>lon</span></div><div class='xr-var-dims'>(lon)</div><div class='xr-var-dtype'>float64</div><div class='xr-var-preview xr-preview'>0.5 1.5 2.5 ... 357.5 358.5 359.5</div><input id='attrs-a86bc14a-d249-4e12-b1b2-144bf4524a8e' class='xr-var-attrs-in' type='checkbox' ><label for='attrs-a86bc14a-d249-4e12-b1b2-144bf4524a8e' title='Show/Hide attributes'><svg class='icon xr-icon-file-text2'><use xlink:href='#icon-file-text2'></use></svg></label><input id='data-84bf2048-f7c7-4559-b83a-669c70aee81a' class='xr-var-data-in' type='checkbox'><label for='data-84bf2048-f7c7-4559-b83a-669c70aee81a' title='Show/Hide data repr'><svg class='icon xr-icon-database'><use xlink:href='#icon-database'></use></svg></label><div class='xr-var-attrs'><dl class='xr-attrs'><dt><span>standard_name :</span></dt><dd>longitude</dd><dt><span>long_name :</span></dt><dd>longitude coordinate</dd><dt><span>units :</span></dt><dd>degrees_east</dd><dt><span>axis :</span></dt><dd>X</dd></dl></div><div class='xr-var-data'><pre>array([  0.5,   1.5,   2.5, ..., 357.5, 358.5, 359.5])</pre></div></li></ul></div></li><li class='xr-section-item'><input id='section-6e976ea9-be7f-4197-91e7-6664dd2909ab' class='xr-section-summary-in' type='checkbox'  checked><label for='section-6e976ea9-be7f-4197-91e7-6664dd2909ab' class='xr-section-summary' >Data variables: <span>(6)</span></label><div class='xr-section-inline-details'></div><div class='xr-section-details'><ul class='xr-var-list'><li class='xr-var-item'><div class='xr-var-name'><span>time_bnds</span></div><div class='xr-var-dims'>(time, bnds)</div><div class='xr-var-dtype'>object</div><div class='xr-var-preview xr-preview'>...</div><input id='attrs-2be03bfa-c43d-4569-8773-340e514e7df7' class='xr-var-attrs-in' type='checkbox' disabled><label for='attrs-2be03bfa-c43d-4569-8773-340e514e7df7' title='Show/Hide attributes'><svg class='icon xr-icon-file-text2'><use xlink:href='#icon-file-text2'></use></svg></label><input id='data-132ca78c-b436-4137-9452-5c37c51815a3' class='xr-var-data-in' type='checkbox'><label for='data-132ca78c-b436-4137-9452-5c37c51815a3' title='Show/Hide data repr'><svg class='icon xr-icon-database'><use xlink:href='#icon-database'></use></svg></label><div class='xr-var-attrs'><dl class='xr-attrs'></dl></div><div class='xr-var-data'><pre>[188 values with dtype=object]</pre></div></li><li class='xr-var-item'><div class='xr-var-name'><span>totslr_ens</span></div><div class='xr-var-dims'>(ens, time, lat, lon)</div><div class='xr-var-dtype'>float32</div><div class='xr-var-preview xr-preview'>...</div><input id='attrs-bab7309d-d704-4410-8e09-7edb8396e5bf' class='xr-var-attrs-in' type='checkbox' ><label for='attrs-bab7309d-d704-4410-8e09-7edb8396e5bf' title='Show/Hide attributes'><svg class='icon xr-icon-file-text2'><use xlink:href='#icon-file-text2'></use></svg></label><input id='data-af077f76-d69f-4d0c-88fb-384ac8f983eb' class='xr-var-data-in' type='checkbox'><label for='data-af077f76-d69f-4d0c-88fb-384ac8f983eb' title='Show/Hide data repr'><svg class='icon xr-icon-database'><use xlink:href='#icon-database'></use></svg></label><div class='xr-var-attrs'><dl class='xr-attrs'><dt><span>long_name :</span></dt><dd>RCP2.6 ensemble ssh ts</dd><dt><span>units :</span></dt><dd>m</dd><dt><span>comment :</span></dt><dd>orig. global mean removed; zossga, historical added back in; ocean-only data + jmg ice and groundwater</dd></dl></div><div class='xr-var-data'><pre>[97459200 values with dtype=float32]</pre></div></li><li class='xr-var-item'><div class='xr-var-name'><span>totslr</span></div><div class='xr-var-dims'>(time, lat, lon)</div><div class='xr-var-dtype'>float32</div><div class='xr-var-preview xr-preview'>...</div><input id='attrs-40db35f2-8e73-45af-b842-c2904a4f609d' class='xr-var-attrs-in' type='checkbox' ><label for='attrs-40db35f2-8e73-45af-b842-c2904a4f609d' title='Show/Hide attributes'><svg class='icon xr-icon-file-text2'><use xlink:href='#icon-file-text2'></use></svg></label><input id='data-dc088735-c2af-483c-aeb8-f59a92f0d846' class='xr-var-data-in' type='checkbox'><label for='data-dc088735-c2af-483c-aeb8-f59a92f0d846' title='Show/Hide data repr'><svg class='icon xr-icon-database'><use xlink:href='#icon-database'></use></svg></label><div class='xr-var-attrs'><dl class='xr-attrs'><dt><span>long_name :</span></dt><dd>total RCP2.6 ensemble mean ssh ts</dd><dt><span>units :</span></dt><dd>m</dd><dt><span>comment :</span></dt><dd>orig. global mean removed; zossga, historical added back in; ocean-only data + jmg ice and groundwater</dd></dl></div><div class='xr-var-data'><pre>[6091200 values with dtype=float32]</pre></div></li><li class='xr-var-item'><div class='xr-var-name'><span>loerr</span></div><div class='xr-var-dims'>(time, lat, lon)</div><div class='xr-var-dtype'>float32</div><div class='xr-var-preview xr-preview'>...</div><input id='attrs-0638763a-c797-4311-af9f-8351578a771b' class='xr-var-attrs-in' type='checkbox' ><label for='attrs-0638763a-c797-4311-af9f-8351578a771b' title='Show/Hide attributes'><svg class='icon xr-icon-file-text2'><use xlink:href='#icon-file-text2'></use></svg></label><input id='data-e5d45b63-e267-4b70-b52d-352c9acf94a8' class='xr-var-data-in' type='checkbox'><label for='data-e5d45b63-e267-4b70-b52d-352c9acf94a8' title='Show/Hide data repr'><svg class='icon xr-icon-database'><use xlink:href='#icon-database'></use></svg></label><div class='xr-var-attrs'><dl class='xr-attrs'><dt><span>long_name :</span></dt><dd>RCP2.6 5% uncertainty ssh ts</dd><dt><span>units :</span></dt><dd>m</dd><dt><span>comment :</span></dt><dd>orig. global mean removed; zossga, historical added back in; ocean-only data + jmg ice and groundwater</dd></dl></div><div class='xr-var-data'><pre>[6091200 values with dtype=float32]</pre></div></li><li class='xr-var-item'><div class='xr-var-name'><span>hierr</span></div><div class='xr-var-dims'>(time, lat, lon)</div><div class='xr-var-dtype'>float32</div><div class='xr-var-preview xr-preview'>...</div><input id='attrs-6e581b4f-c082-4ab9-b04f-9d9d1b126145' class='xr-var-attrs-in' type='checkbox' ><label for='attrs-6e581b4f-c082-4ab9-b04f-9d9d1b126145' title='Show/Hide attributes'><svg class='icon xr-icon-file-text2'><use xlink:href='#icon-file-text2'></use></svg></label><input id='data-20119bbf-b16e-4ab1-8f46-e3beb1b889b1' class='xr-var-data-in' type='checkbox'><label for='data-20119bbf-b16e-4ab1-8f46-e3beb1b889b1' title='Show/Hide data repr'><svg class='icon xr-icon-database'><use xlink:href='#icon-database'></use></svg></label><div class='xr-var-attrs'><dl class='xr-attrs'><dt><span>long_name :</span></dt><dd>RCP2.6 95% uncertainty ssh ts</dd><dt><span>units :</span></dt><dd>m</dd><dt><span>comment :</span></dt><dd>orig. global mean removed; zossga, historical added back in; ocean-only data + jmg ice and groundwater</dd></dl></div><div class='xr-var-data'><pre>[6091200 values with dtype=float32]</pre></div></li><li class='xr-var-item'><div class='xr-var-name'><span>modelname</span></div><div class='xr-var-dims'>(ens)</div><div class='xr-var-dtype'>|S16</div><div class='xr-var-preview xr-preview'>...</div><input id='attrs-43bc7a9d-3aac-4feb-b6f4-43be04e613a0' class='xr-var-attrs-in' type='checkbox' ><label for='attrs-43bc7a9d-3aac-4feb-b6f4-43be04e613a0' title='Show/Hide attributes'><svg class='icon xr-icon-file-text2'><use xlink:href='#icon-file-text2'></use></svg></label><input id='data-e8bc77b3-063c-45fc-879a-e1d59939a31d' class='xr-var-data-in' type='checkbox'><label for='data-e8bc77b3-063c-45fc-879a-e1d59939a31d' title='Show/Hide data repr'><svg class='icon xr-icon-database'><use xlink:href='#icon-database'></use></svg></label><div class='xr-var-attrs'><dl class='xr-attrs'><dt><span>long_name :</span></dt><dd>Model names in the same order as in totslr_ens var</dd></dl></div><div class='xr-var-data'><pre>[16 values with dtype=|S16]</pre></div></li></ul></div></li><li class='xr-section-item'><input id='section-af638344-e00d-48f5-ba0d-6d9c8a62eb49' class='xr-section-summary-in' type='checkbox'  ><label for='section-af638344-e00d-48f5-ba0d-6d9c8a62eb49' class='xr-section-summary' >Indexes: <span>(3)</span></label><div class='xr-section-inline-details'></div><div class='xr-section-details'><ul class='xr-var-list'><li class='xr-var-item'><div class='xr-index-name'><div>time</div></div><div class='xr-index-preview'>PandasIndex</div><div></div><input id='index-a0b91bc3-716b-4da9-a87e-49d18591041c' class='xr-index-data-in' type='checkbox'/><label for='index-a0b91bc3-716b-4da9-a87e-49d18591041c' title='Show/Hide index repr'><svg class='icon xr-icon-database'><use xlink:href='#icon-database'></use></svg></label><div class='xr-index-data'><pre>PandasIndex(CFTimeIndex([2007-07-02 12:00:00, 2008-07-02 00:00:00, 2009-07-02 12:00:00,\n",
       "             2010-07-02 12:00:00, 2011-07-02 12:00:00, 2012-07-02 00:00:00,\n",
       "             2013-07-02 12:00:00, 2014-07-02 12:00:00, 2015-07-02 12:00:00,\n",
       "             2016-07-02 00:00:00, 2017-07-02 12:00:00, 2018-07-02 12:00:00,\n",
       "             2019-07-02 12:00:00, 2020-07-02 00:00:00, 2021-07-02 12:00:00,\n",
       "             2022-07-02 12:00:00, 2023-07-02 12:00:00, 2024-07-02 00:00:00,\n",
       "             2025-07-02 12:00:00, 2026-07-02 12:00:00, 2027-07-02 12:00:00,\n",
       "             2028-07-02 00:00:00, 2029-07-02 12:00:00, 2030-07-02 12:00:00,\n",
       "             2031-07-02 12:00:00, 2032-07-02 00:00:00, 2033-07-02 12:00:00,\n",
       "             2034-07-02 12:00:00, 2035-07-02 12:00:00, 2036-07-02 00:00:00,\n",
       "             2037-07-02 12:00:00, 2038-07-02 12:00:00, 2039-07-02 12:00:00,\n",
       "             2040-07-02 00:00:00, 2041-07-02 12:00:00, 2042-07-02 12:00:00,\n",
       "             2043-07-02 12:00:00, 2044-07-02 00:00:00, 2045-07-02 12:00:00,\n",
       "             2046-07-02 12:00:00, 2047-07-02 12:00:00, 2048-07-02 00:00:00,\n",
       "             2049-07-02 12:00:00, 2050-07-02 12:00:00, 2051-07-02 12:00:00,\n",
       "             2052-07-02 00:00:00, 2053-07-02 12:00:00, 2054-07-02 12:00:00,\n",
       "             2055-07-02 12:00:00, 2056-07-02 00:00:00, 2057-07-02 12:00:00,\n",
       "             2058-07-02 12:00:00, 2059-07-02 12:00:00, 2060-07-02 00:00:00,\n",
       "             2061-07-02 12:00:00, 2062-07-02 12:00:00, 2063-07-02 12:00:00,\n",
       "             2064-07-02 00:00:00, 2065-07-02 12:00:00, 2066-07-02 12:00:00,\n",
       "             2067-07-02 12:00:00, 2068-07-02 00:00:00, 2069-07-02 12:00:00,\n",
       "             2070-07-02 12:00:00, 2071-07-02 12:00:00, 2072-07-02 00:00:00,\n",
       "             2073-07-02 12:00:00, 2074-07-02 12:00:00, 2075-07-02 12:00:00,\n",
       "             2076-07-02 00:00:00, 2077-07-02 12:00:00, 2078-07-02 12:00:00,\n",
       "             2079-07-02 12:00:00, 2080-07-02 00:00:00, 2081-07-02 12:00:00,\n",
       "             2082-07-02 12:00:00, 2083-07-02 12:00:00, 2084-07-02 00:00:00,\n",
       "             2085-07-02 12:00:00, 2086-07-02 12:00:00, 2087-07-02 12:00:00,\n",
       "             2088-07-02 00:00:00, 2089-07-02 12:00:00, 2090-07-02 12:00:00,\n",
       "             2091-07-02 12:00:00, 2092-07-02 00:00:00, 2093-07-02 12:00:00,\n",
       "             2094-07-02 12:00:00, 2095-07-02 12:00:00, 2096-07-02 00:00:00,\n",
       "             2097-07-02 12:00:00, 2098-07-02 12:00:00, 2099-07-02 12:00:00,\n",
       "             2100-07-02 12:00:00],\n",
       "            dtype=&#x27;object&#x27;, length=94, calendar=&#x27;noleap&#x27;, freq=&#x27;None&#x27;))</pre></div></li><li class='xr-var-item'><div class='xr-index-name'><div>lat</div></div><div class='xr-index-preview'>PandasIndex</div><div></div><input id='index-86094c7a-781b-4598-9c28-ab31793612ee' class='xr-index-data-in' type='checkbox'/><label for='index-86094c7a-781b-4598-9c28-ab31793612ee' title='Show/Hide index repr'><svg class='icon xr-icon-database'><use xlink:href='#icon-database'></use></svg></label><div class='xr-index-data'><pre>PandasIndex(Float64Index([-89.5, -88.5, -87.5, -86.5, -85.5, -84.5, -83.5, -82.5, -81.5,\n",
       "              -80.5,\n",
       "              ...\n",
       "               80.5,  81.5,  82.5,  83.5,  84.5,  85.5,  86.5,  87.5,  88.5,\n",
       "               89.5],\n",
       "             dtype=&#x27;float64&#x27;, name=&#x27;lat&#x27;, length=180))</pre></div></li><li class='xr-var-item'><div class='xr-index-name'><div>lon</div></div><div class='xr-index-preview'>PandasIndex</div><div></div><input id='index-ec1ae103-2847-4c70-bd8d-bcd20dfccdd1' class='xr-index-data-in' type='checkbox'/><label for='index-ec1ae103-2847-4c70-bd8d-bcd20dfccdd1' title='Show/Hide index repr'><svg class='icon xr-icon-database'><use xlink:href='#icon-database'></use></svg></label><div class='xr-index-data'><pre>PandasIndex(Float64Index([  0.5,   1.5,   2.5,   3.5,   4.5,   5.5,   6.5,   7.5,   8.5,\n",
       "                9.5,\n",
       "              ...\n",
       "              350.5, 351.5, 352.5, 353.5, 354.5, 355.5, 356.5, 357.5, 358.5,\n",
       "              359.5],\n",
       "             dtype=&#x27;float64&#x27;, name=&#x27;lon&#x27;, length=360))</pre></div></li></ul></div></li><li class='xr-section-item'><input id='section-61f8d094-8915-4ecb-8c47-59f540c44d8a' class='xr-section-summary-in' type='checkbox'  checked><label for='section-61f8d094-8915-4ecb-8c47-59f540c44d8a' class='xr-section-summary' >Attributes: <span>(3)</span></label><div class='xr-section-inline-details'></div><div class='xr-section-details'><dl class='xr-attrs'><dt><span>history :</span></dt><dd>version 5, 27-March-2014</dd><dt><span>contact :</span></dt><dd>mark.carson@zmaw.de</dd><dt><span>references :</span></dt><dd>IPCC AR5 WGI, Chapter 13, and Chapter 13: Supplementary Material; www.climatechange2013.org</dd></dl></div></li></ul></div></div>"
      ],
      "text/plain": [
       "<xarray.Dataset>\n",
       "Dimensions:     (time: 94, bnds: 2, lat: 180, lon: 360, ens: 16)\n",
       "Coordinates:\n",
       "  * time        (time) object 2007-07-02 12:00:00 ... 2100-07-02 12:00:00\n",
       "  * lat         (lat) float64 -89.5 -88.5 -87.5 -86.5 ... 86.5 87.5 88.5 89.5\n",
       "  * lon         (lon) float64 0.5 1.5 2.5 3.5 4.5 ... 356.5 357.5 358.5 359.5\n",
       "Dimensions without coordinates: bnds, ens\n",
       "Data variables:\n",
       "    time_bnds   (time, bnds) object ...\n",
       "    totslr_ens  (ens, time, lat, lon) float32 ...\n",
       "    totslr      (time, lat, lon) float32 ...\n",
       "    loerr       (time, lat, lon) float32 ...\n",
       "    hierr       (time, lat, lon) float32 ...\n",
       "    modelname   (ens) |S16 ...\n",
       "Attributes:\n",
       "    history:     version 5, 27-March-2014\n",
       "    contact:     mark.carson@zmaw.de\n",
       "    references:  IPCC AR5 WGI, Chapter 13, and Chapter 13: Supplementary Mate..."
      ]
     },
     "execution_count": 4,
     "metadata": {},
     "output_type": "execute_result"
    },
    {
     "data": {
      "application/javascript": "\n            setTimeout(function() {\n                var nbb_cell_id = 4;\n                var nbb_unformatted_code = \"# open datasets\\nds_26rcp = xr.open_dataset(ds_rcp26_path)\\nds_45rcp = xr.open_dataset(ds_rcp45_path)\\nds_85rcp = xr.open_dataset(ds_rcp85_path)\\n\\n# check original dataset\\nds_26rcp\";\n                var nbb_formatted_code = \"# open datasets\\nds_26rcp = xr.open_dataset(ds_rcp26_path)\\nds_45rcp = xr.open_dataset(ds_rcp45_path)\\nds_85rcp = xr.open_dataset(ds_rcp85_path)\\n\\n# check original dataset\\nds_26rcp\";\n                var nbb_cells = Jupyter.notebook.get_cells();\n                for (var i = 0; i < nbb_cells.length; ++i) {\n                    if (nbb_cells[i].input_prompt_number == nbb_cell_id) {\n                        if (nbb_cells[i].get_text() == nbb_unformatted_code) {\n                             nbb_cells[i].set_text(nbb_formatted_code);\n                        }\n                        break;\n                    }\n                }\n            }, 500);\n            ",
      "text/plain": [
       "<IPython.core.display.Javascript object>"
      ]
     },
     "metadata": {},
     "output_type": "display_data"
    }
   ],
   "source": [
    "# open datasets\n",
    "ds_26rcp = xr.open_dataset(ds_rcp26_path)\n",
    "ds_45rcp = xr.open_dataset(ds_rcp45_path)\n",
    "ds_85rcp = xr.open_dataset(ds_rcp85_path)\n",
    "\n",
    "# check original dataset\n",
    "ds_26rcp"
   ]
  },
  {
   "cell_type": "code",
   "execution_count": 5,
   "id": "d19468d7",
   "metadata": {},
   "outputs": [
    {
     "data": {
      "application/javascript": "\n            setTimeout(function() {\n                var nbb_cell_id = 5;\n                var nbb_unformatted_code = \"%%capture cap --no-stderr\\n# check original CF compliancy\\n\\ncheck_compliancy(testfile=ds_rcp26_path, working_dir=CF_dir)\";\n                var nbb_formatted_code = \"%%capture cap --no-stderr\\n# check original CF compliancy\\n\\ncheck_compliancy(testfile=ds_rcp26_path, working_dir=CF_dir)\";\n                var nbb_cells = Jupyter.notebook.get_cells();\n                for (var i = 0; i < nbb_cells.length; ++i) {\n                    if (nbb_cells[i].input_prompt_number == nbb_cell_id) {\n                        if (nbb_cells[i].get_text() == nbb_unformatted_code) {\n                             nbb_cells[i].set_text(nbb_formatted_code);\n                        }\n                        break;\n                    }\n                }\n            }, 500);\n            ",
      "text/plain": [
       "<IPython.core.display.Javascript object>"
      ]
     },
     "metadata": {},
     "output_type": "display_data"
    }
   ],
   "source": [
    "%%capture cap --no-stderr\n",
    "# check original CF compliancy\n",
    "\n",
    "check_compliancy(testfile=ds_rcp26_path, working_dir=CF_dir)"
   ]
  },
  {
   "cell_type": "code",
   "execution_count": 6,
   "id": "71a038bc",
   "metadata": {},
   "outputs": [
    {
     "name": "stdout",
     "output_type": "stream",
     "text": [
      "{'P:\\\\11205479-coclico\\\\FASTTRACK_DATA\\\\18_AR5_SLP_IPCC\\\\total-ens-slr-26-5.nc': {'warnings': '1', 'errors': '0'}}\n"
     ]
    },
    {
     "data": {
      "application/javascript": "\n            setTimeout(function() {\n                var nbb_cell_id = 6;\n                var nbb_unformatted_code = \"# save original CF compliancy\\nsave_compliancy(cap, testfile=ds_rcp26_path, working_dir=CF_dir)\";\n                var nbb_formatted_code = \"# save original CF compliancy\\nsave_compliancy(cap, testfile=ds_rcp26_path, working_dir=CF_dir)\";\n                var nbb_cells = Jupyter.notebook.get_cells();\n                for (var i = 0; i < nbb_cells.length; ++i) {\n                    if (nbb_cells[i].input_prompt_number == nbb_cell_id) {\n                        if (nbb_cells[i].get_text() == nbb_unformatted_code) {\n                             nbb_cells[i].set_text(nbb_formatted_code);\n                        }\n                        break;\n                    }\n                }\n            }, 500);\n            ",
      "text/plain": [
       "<IPython.core.display.Javascript object>"
      ]
     },
     "metadata": {},
     "output_type": "display_data"
    }
   ],
   "source": [
    "# save original CF compliancy\n",
    "save_compliancy(cap, testfile=ds_rcp26_path, working_dir=CF_dir)"
   ]
  },
  {
   "cell_type": "code",
   "execution_count": 7,
   "id": "238f34a2",
   "metadata": {},
   "outputs": [
    {
     "data": {
      "application/javascript": "\n            setTimeout(function() {\n                var nbb_cell_id = 7;\n                var nbb_unformatted_code = \"%%capture cap --no-stderr\\n# check original CF compliancy\\n\\ncheck_compliancy(testfile=ds_rcp45_path, working_dir=CF_dir)\";\n                var nbb_formatted_code = \"%%capture cap --no-stderr\\n# check original CF compliancy\\n\\ncheck_compliancy(testfile=ds_rcp45_path, working_dir=CF_dir)\";\n                var nbb_cells = Jupyter.notebook.get_cells();\n                for (var i = 0; i < nbb_cells.length; ++i) {\n                    if (nbb_cells[i].input_prompt_number == nbb_cell_id) {\n                        if (nbb_cells[i].get_text() == nbb_unformatted_code) {\n                             nbb_cells[i].set_text(nbb_formatted_code);\n                        }\n                        break;\n                    }\n                }\n            }, 500);\n            ",
      "text/plain": [
       "<IPython.core.display.Javascript object>"
      ]
     },
     "metadata": {},
     "output_type": "display_data"
    }
   ],
   "source": [
    "%%capture cap --no-stderr\n",
    "# check original CF compliancy\n",
    "\n",
    "check_compliancy(testfile=ds_rcp45_path, working_dir=CF_dir)"
   ]
  },
  {
   "cell_type": "code",
   "execution_count": 8,
   "id": "9cadb3d4",
   "metadata": {},
   "outputs": [
    {
     "name": "stdout",
     "output_type": "stream",
     "text": [
      "{'P:\\\\11205479-coclico\\\\FASTTRACK_DATA\\\\18_AR5_SLP_IPCC\\\\total-ens-slr-45-5.nc': {'warnings': '5', 'errors': '4'}}\n"
     ]
    },
    {
     "data": {
      "application/javascript": "\n            setTimeout(function() {\n                var nbb_cell_id = 8;\n                var nbb_unformatted_code = \"# save original CF compliancy\\nsave_compliancy(cap, testfile=ds_rcp45_path, working_dir=CF_dir)\";\n                var nbb_formatted_code = \"# save original CF compliancy\\nsave_compliancy(cap, testfile=ds_rcp45_path, working_dir=CF_dir)\";\n                var nbb_cells = Jupyter.notebook.get_cells();\n                for (var i = 0; i < nbb_cells.length; ++i) {\n                    if (nbb_cells[i].input_prompt_number == nbb_cell_id) {\n                        if (nbb_cells[i].get_text() == nbb_unformatted_code) {\n                             nbb_cells[i].set_text(nbb_formatted_code);\n                        }\n                        break;\n                    }\n                }\n            }, 500);\n            ",
      "text/plain": [
       "<IPython.core.display.Javascript object>"
      ]
     },
     "metadata": {},
     "output_type": "display_data"
    }
   ],
   "source": [
    "# save original CF compliancy\n",
    "save_compliancy(cap, testfile=ds_rcp45_path, working_dir=CF_dir)"
   ]
  },
  {
   "cell_type": "code",
   "execution_count": 9,
   "id": "8720145b",
   "metadata": {},
   "outputs": [
    {
     "data": {
      "application/javascript": "\n            setTimeout(function() {\n                var nbb_cell_id = 9;\n                var nbb_unformatted_code = \"%%capture cap --no-stderr\\n# check original CF compliancy\\n\\ncheck_compliancy(testfile=ds_rcp85_path, working_dir=CF_dir)\";\n                var nbb_formatted_code = \"%%capture cap --no-stderr\\n# check original CF compliancy\\n\\ncheck_compliancy(testfile=ds_rcp85_path, working_dir=CF_dir)\";\n                var nbb_cells = Jupyter.notebook.get_cells();\n                for (var i = 0; i < nbb_cells.length; ++i) {\n                    if (nbb_cells[i].input_prompt_number == nbb_cell_id) {\n                        if (nbb_cells[i].get_text() == nbb_unformatted_code) {\n                             nbb_cells[i].set_text(nbb_formatted_code);\n                        }\n                        break;\n                    }\n                }\n            }, 500);\n            ",
      "text/plain": [
       "<IPython.core.display.Javascript object>"
      ]
     },
     "metadata": {},
     "output_type": "display_data"
    }
   ],
   "source": [
    "%%capture cap --no-stderr\n",
    "# check original CF compliancy\n",
    "\n",
    "check_compliancy(testfile=ds_rcp85_path, working_dir=CF_dir)"
   ]
  },
  {
   "cell_type": "code",
   "execution_count": 10,
   "id": "c310346a",
   "metadata": {},
   "outputs": [
    {
     "name": "stdout",
     "output_type": "stream",
     "text": [
      "{'P:\\\\11205479-coclico\\\\FASTTRACK_DATA\\\\18_AR5_SLP_IPCC\\\\total-ens-slr-85-5.nc': {'warnings': '5', 'errors': '4'}}\n"
     ]
    },
    {
     "data": {
      "application/javascript": "\n            setTimeout(function() {\n                var nbb_cell_id = 10;\n                var nbb_unformatted_code = \"# save original CF compliancy\\nsave_compliancy(cap, testfile=ds_rcp85_path, working_dir=CF_dir)\";\n                var nbb_formatted_code = \"# save original CF compliancy\\nsave_compliancy(cap, testfile=ds_rcp85_path, working_dir=CF_dir)\";\n                var nbb_cells = Jupyter.notebook.get_cells();\n                for (var i = 0; i < nbb_cells.length; ++i) {\n                    if (nbb_cells[i].input_prompt_number == nbb_cell_id) {\n                        if (nbb_cells[i].get_text() == nbb_unformatted_code) {\n                             nbb_cells[i].set_text(nbb_formatted_code);\n                        }\n                        break;\n                    }\n                }\n            }, 500);\n            ",
      "text/plain": [
       "<IPython.core.display.Javascript object>"
      ]
     },
     "metadata": {},
     "output_type": "display_data"
    }
   ],
   "source": [
    "# save original CF compliancy\n",
    "save_compliancy(cap, testfile=ds_rcp85_path, working_dir=CF_dir)"
   ]
  },
  {
   "cell_type": "markdown",
   "id": "0c557e90",
   "metadata": {},
   "source": [
    "### Make CF compliant alterations to the NetCDF files (dataset dependent)"
   ]
  },
  {
   "cell_type": "code",
   "execution_count": 11,
   "id": "2e406b6a",
   "metadata": {},
   "outputs": [
    {
     "data": {
      "application/javascript": "\n            setTimeout(function() {\n                var nbb_cell_id = 11;\n                var nbb_unformatted_code = \"# NetCDF attribute alterations\\n\\n# # add global attributes\\nds_26rcp.attrs[\\\"Conventions\\\"] = \\\"CF-1.8\\\"\\nds_45rcp.attrs[\\\"Conventions\\\"] = \\\"CF-1.8\\\"\\nds_85rcp.attrs[\\\"Conventions\\\"] = \\\"CF-1.8\\\"\";\n                var nbb_formatted_code = \"# NetCDF attribute alterations\\n\\n# # add global attributes\\nds_26rcp.attrs[\\\"Conventions\\\"] = \\\"CF-1.8\\\"\\nds_45rcp.attrs[\\\"Conventions\\\"] = \\\"CF-1.8\\\"\\nds_85rcp.attrs[\\\"Conventions\\\"] = \\\"CF-1.8\\\"\";\n                var nbb_cells = Jupyter.notebook.get_cells();\n                for (var i = 0; i < nbb_cells.length; ++i) {\n                    if (nbb_cells[i].input_prompt_number == nbb_cell_id) {\n                        if (nbb_cells[i].get_text() == nbb_unformatted_code) {\n                             nbb_cells[i].set_text(nbb_formatted_code);\n                        }\n                        break;\n                    }\n                }\n            }, 500);\n            ",
      "text/plain": [
       "<IPython.core.display.Javascript object>"
      ]
     },
     "metadata": {},
     "output_type": "display_data"
    }
   ],
   "source": [
    "# NetCDF attribute alterations\n",
    "\n",
    "# # add global attributes\n",
    "ds_26rcp.attrs[\"Conventions\"] = \"CF-1.8\"\n",
    "ds_45rcp.attrs[\"Conventions\"] = \"CF-1.8\"\n",
    "ds_85rcp.attrs[\"Conventions\"] = \"CF-1.8\""
   ]
  },
  {
   "cell_type": "code",
   "execution_count": 12,
   "id": "51642e7d",
   "metadata": {},
   "outputs": [
    {
     "data": {
      "application/javascript": "\n            setTimeout(function() {\n                var nbb_cell_id = 12;\n                var nbb_unformatted_code = \"# NetCDF variable and dimension alterations\\n\\n# rename or swap dimension names, the latter in case the name already exists as coordinate\\nds_26rcp = ds_26rcp.rename_dims(\\n    {\\\"ens\\\": \\\"nmodelname\\\", \\\"bnds\\\": \\\"nv\\\"}  # nv = number of vertices\\n)\\nds_45rcp = ds_45rcp.rename_dims({\\\"ens\\\": \\\"nmodelname\\\", \\\"bnds\\\": \\\"nv\\\"})\\nds_85rcp = ds_85rcp.rename_dims({\\\"ens\\\": \\\"nmodelname\\\", \\\"bnds\\\": \\\"nv\\\"})\\n\\n# # rename variables, if necessary\\n# ds_26rcp = ds_26rcp.rename_vars({\\\"modelname\\\": \\\"ensemble\\\"})\\n# ds_45rcp = ds_45rcp.rename_vars({\\\"modelname\\\": \\\"ensemble\\\"})\\n# ds_85rcp = ds_85rcp.rename_vars({\\\"modelname\\\": \\\"ensemble\\\"})\\n\\n# # set some data variables to coordinates to avoid duplication of dimensions in later stage\\nds_26rcp = ds_26rcp.set_coords([\\\"modelname\\\", \\\"time_bnds\\\"])\\nds_45rcp = ds_45rcp.set_coords([\\\"modelname\\\", \\\"time_bnds\\\"])\\nds_85rcp = ds_85rcp.set_coords([\\\"modelname\\\", \\\"time_bnds\\\"])\\n\\n# encoding settings\\nds_26rcp.time_bnds.encoding[\\n    \\\"_FillValue\\\"\\n] = None  # xarray sets _FillValue automatically to None for float types, prevent this when needed\\nds_45rcp.time_bnds.encoding[\\n    \\\"_FillValue\\\"\\n] = None  # xarray sets _FillValue automatically to None for float types, prevent this when needed\\nds_85rcp.time_bnds.encoding[\\n    \\\"_FillValue\\\"\\n] = None  # xarray sets _FillValue automatically to None for float types, prevent this when needed\\n\\n# construct equal dimensions in ensembles\\n# note, has to be partly manual as nensemble has to be indexed by ensemble strings\\nstrip_ensembles = list(\\n    set([s.strip() for s in ds_85rcp[\\\"modelname\\\"].astype(str).values]).difference(\\n        [s.strip() for s in ds_26rcp[\\\"modelname\\\"].astype(str).values]\\n    )\\n)  # remove these at correct positions in the data from RCP45 & RCP85\\nstrip_ensembles_idx = [\\n    idx\\n    for idx, j in enumerate(\\n        [s.strip() for s in ds_85rcp[\\\"modelname\\\"].astype(str).values]\\n    )\\n    if j in strip_ensembles\\n]\\nds_45rcp = ds_45rcp.drop_sel(\\n    nmodelname=strip_ensembles_idx\\n)  # remove indixed ensembles from RCP45\\nds_85rcp = ds_85rcp.drop_sel(\\n    nmodelname=strip_ensembles_idx\\n)  # remove indixed ensembles from RCP85\\n\\n# rework ensemble lists to get rid of excessive spaces\\nds_26rcp[\\\"modelname\\\"] = np.array(\\n    [s.strip() for s in ds_26rcp[\\\"modelname\\\"].astype(str).values], dtype=\\\"S\\\"\\n)\\nds_26rcp = ds_26rcp.swap_dims({\\\"modelname\\\": \\\"nmodelname\\\"})\\nds_45rcp[\\\"modelname\\\"] = np.array(\\n    [s.strip() for s in ds_45rcp[\\\"modelname\\\"].astype(str).values], dtype=\\\"S\\\"\\n)\\nds_45rcp = ds_45rcp.swap_dims({\\\"modelname\\\": \\\"nmodelname\\\"})\\nds_85rcp[\\\"modelname\\\"] = np.array(\\n    [s.strip() for s in ds_85rcp[\\\"modelname\\\"].astype(str).values], dtype=\\\"S\\\"\\n)\\nds_85rcp = ds_85rcp.swap_dims({\\\"modelname\\\": \\\"nmodelname\\\"})\\nds_26rcp[\\\"modelname\\\"].attrs[\\n    \\\"long_name\\\"\\n] = \\\"Model names in the same order as in totslr_ens var\\\"\\nds_45rcp[\\\"modelname\\\"].attrs[\\n    \\\"long_name\\\"\\n] = \\\"Model names in the same order as in totslr_ens var\\\"\\nds_85rcp[\\\"modelname\\\"].attrs[\\n    \\\"long_name\\\"\\n] = \\\"Model names in the same order as in totslr_ens var\\\"\\n\\n# info on all attributes\\n# !ncinfo -v totslr {ds_rcp26_path}\";\n                var nbb_formatted_code = \"# NetCDF variable and dimension alterations\\n\\n# rename or swap dimension names, the latter in case the name already exists as coordinate\\nds_26rcp = ds_26rcp.rename_dims(\\n    {\\\"ens\\\": \\\"nmodelname\\\", \\\"bnds\\\": \\\"nv\\\"}  # nv = number of vertices\\n)\\nds_45rcp = ds_45rcp.rename_dims({\\\"ens\\\": \\\"nmodelname\\\", \\\"bnds\\\": \\\"nv\\\"})\\nds_85rcp = ds_85rcp.rename_dims({\\\"ens\\\": \\\"nmodelname\\\", \\\"bnds\\\": \\\"nv\\\"})\\n\\n# # rename variables, if necessary\\n# ds_26rcp = ds_26rcp.rename_vars({\\\"modelname\\\": \\\"ensemble\\\"})\\n# ds_45rcp = ds_45rcp.rename_vars({\\\"modelname\\\": \\\"ensemble\\\"})\\n# ds_85rcp = ds_85rcp.rename_vars({\\\"modelname\\\": \\\"ensemble\\\"})\\n\\n# # set some data variables to coordinates to avoid duplication of dimensions in later stage\\nds_26rcp = ds_26rcp.set_coords([\\\"modelname\\\", \\\"time_bnds\\\"])\\nds_45rcp = ds_45rcp.set_coords([\\\"modelname\\\", \\\"time_bnds\\\"])\\nds_85rcp = ds_85rcp.set_coords([\\\"modelname\\\", \\\"time_bnds\\\"])\\n\\n# encoding settings\\nds_26rcp.time_bnds.encoding[\\n    \\\"_FillValue\\\"\\n] = None  # xarray sets _FillValue automatically to None for float types, prevent this when needed\\nds_45rcp.time_bnds.encoding[\\n    \\\"_FillValue\\\"\\n] = None  # xarray sets _FillValue automatically to None for float types, prevent this when needed\\nds_85rcp.time_bnds.encoding[\\n    \\\"_FillValue\\\"\\n] = None  # xarray sets _FillValue automatically to None for float types, prevent this when needed\\n\\n# construct equal dimensions in ensembles\\n# note, has to be partly manual as nensemble has to be indexed by ensemble strings\\nstrip_ensembles = list(\\n    set([s.strip() for s in ds_85rcp[\\\"modelname\\\"].astype(str).values]).difference(\\n        [s.strip() for s in ds_26rcp[\\\"modelname\\\"].astype(str).values]\\n    )\\n)  # remove these at correct positions in the data from RCP45 & RCP85\\nstrip_ensembles_idx = [\\n    idx\\n    for idx, j in enumerate(\\n        [s.strip() for s in ds_85rcp[\\\"modelname\\\"].astype(str).values]\\n    )\\n    if j in strip_ensembles\\n]\\nds_45rcp = ds_45rcp.drop_sel(\\n    nmodelname=strip_ensembles_idx\\n)  # remove indixed ensembles from RCP45\\nds_85rcp = ds_85rcp.drop_sel(\\n    nmodelname=strip_ensembles_idx\\n)  # remove indixed ensembles from RCP85\\n\\n# rework ensemble lists to get rid of excessive spaces\\nds_26rcp[\\\"modelname\\\"] = np.array(\\n    [s.strip() for s in ds_26rcp[\\\"modelname\\\"].astype(str).values], dtype=\\\"S\\\"\\n)\\nds_26rcp = ds_26rcp.swap_dims({\\\"modelname\\\": \\\"nmodelname\\\"})\\nds_45rcp[\\\"modelname\\\"] = np.array(\\n    [s.strip() for s in ds_45rcp[\\\"modelname\\\"].astype(str).values], dtype=\\\"S\\\"\\n)\\nds_45rcp = ds_45rcp.swap_dims({\\\"modelname\\\": \\\"nmodelname\\\"})\\nds_85rcp[\\\"modelname\\\"] = np.array(\\n    [s.strip() for s in ds_85rcp[\\\"modelname\\\"].astype(str).values], dtype=\\\"S\\\"\\n)\\nds_85rcp = ds_85rcp.swap_dims({\\\"modelname\\\": \\\"nmodelname\\\"})\\nds_26rcp[\\\"modelname\\\"].attrs[\\n    \\\"long_name\\\"\\n] = \\\"Model names in the same order as in totslr_ens var\\\"\\nds_45rcp[\\\"modelname\\\"].attrs[\\n    \\\"long_name\\\"\\n] = \\\"Model names in the same order as in totslr_ens var\\\"\\nds_85rcp[\\\"modelname\\\"].attrs[\\n    \\\"long_name\\\"\\n] = \\\"Model names in the same order as in totslr_ens var\\\"\\n\\n# info on all attributes\\n# !ncinfo -v totslr {ds_rcp26_path}\";\n                var nbb_cells = Jupyter.notebook.get_cells();\n                for (var i = 0; i < nbb_cells.length; ++i) {\n                    if (nbb_cells[i].input_prompt_number == nbb_cell_id) {\n                        if (nbb_cells[i].get_text() == nbb_unformatted_code) {\n                             nbb_cells[i].set_text(nbb_formatted_code);\n                        }\n                        break;\n                    }\n                }\n            }, 500);\n            ",
      "text/plain": [
       "<IPython.core.display.Javascript object>"
      ]
     },
     "metadata": {},
     "output_type": "display_data"
    }
   ],
   "source": [
    "# NetCDF variable and dimension alterations\n",
    "\n",
    "# rename or swap dimension names, the latter in case the name already exists as coordinate\n",
    "ds_26rcp = ds_26rcp.rename_dims(\n",
    "    {\"ens\": \"nmodelname\", \"bnds\": \"nv\"}  # nv = number of vertices\n",
    ")\n",
    "ds_45rcp = ds_45rcp.rename_dims({\"ens\": \"nmodelname\", \"bnds\": \"nv\"})\n",
    "ds_85rcp = ds_85rcp.rename_dims({\"ens\": \"nmodelname\", \"bnds\": \"nv\"})\n",
    "\n",
    "# # rename variables, if necessary\n",
    "# ds_26rcp = ds_26rcp.rename_vars({\"modelname\": \"ensemble\"})\n",
    "# ds_45rcp = ds_45rcp.rename_vars({\"modelname\": \"ensemble\"})\n",
    "# ds_85rcp = ds_85rcp.rename_vars({\"modelname\": \"ensemble\"})\n",
    "\n",
    "# # set some data variables to coordinates to avoid duplication of dimensions in later stage\n",
    "ds_26rcp = ds_26rcp.set_coords([\"modelname\", \"time_bnds\"])\n",
    "ds_45rcp = ds_45rcp.set_coords([\"modelname\", \"time_bnds\"])\n",
    "ds_85rcp = ds_85rcp.set_coords([\"modelname\", \"time_bnds\"])\n",
    "\n",
    "# encoding settings\n",
    "ds_26rcp.time_bnds.encoding[\n",
    "    \"_FillValue\"\n",
    "] = None  # xarray sets _FillValue automatically to None for float types, prevent this when needed\n",
    "ds_45rcp.time_bnds.encoding[\n",
    "    \"_FillValue\"\n",
    "] = None  # xarray sets _FillValue automatically to None for float types, prevent this when needed\n",
    "ds_85rcp.time_bnds.encoding[\n",
    "    \"_FillValue\"\n",
    "] = None  # xarray sets _FillValue automatically to None for float types, prevent this when needed\n",
    "\n",
    "# construct equal dimensions in ensembles\n",
    "# note, has to be partly manual as nensemble has to be indexed by ensemble strings\n",
    "strip_ensembles = list(\n",
    "    set([s.strip() for s in ds_85rcp[\"modelname\"].astype(str).values]).difference(\n",
    "        [s.strip() for s in ds_26rcp[\"modelname\"].astype(str).values]\n",
    "    )\n",
    ")  # remove these at correct positions in the data from RCP45 & RCP85\n",
    "strip_ensembles_idx = [\n",
    "    idx\n",
    "    for idx, j in enumerate(\n",
    "        [s.strip() for s in ds_85rcp[\"modelname\"].astype(str).values]\n",
    "    )\n",
    "    if j in strip_ensembles\n",
    "]\n",
    "ds_45rcp = ds_45rcp.drop_sel(\n",
    "    nmodelname=strip_ensembles_idx\n",
    ")  # remove indixed ensembles from RCP45\n",
    "ds_85rcp = ds_85rcp.drop_sel(\n",
    "    nmodelname=strip_ensembles_idx\n",
    ")  # remove indixed ensembles from RCP85\n",
    "\n",
    "# rework ensemble lists to get rid of excessive spaces\n",
    "ds_26rcp[\"modelname\"] = np.array(\n",
    "    [s.strip() for s in ds_26rcp[\"modelname\"].astype(str).values], dtype=\"S\"\n",
    ")\n",
    "ds_26rcp = ds_26rcp.swap_dims({\"modelname\": \"nmodelname\"})\n",
    "ds_45rcp[\"modelname\"] = np.array(\n",
    "    [s.strip() for s in ds_45rcp[\"modelname\"].astype(str).values], dtype=\"S\"\n",
    ")\n",
    "ds_45rcp = ds_45rcp.swap_dims({\"modelname\": \"nmodelname\"})\n",
    "ds_85rcp[\"modelname\"] = np.array(\n",
    "    [s.strip() for s in ds_85rcp[\"modelname\"].astype(str).values], dtype=\"S\"\n",
    ")\n",
    "ds_85rcp = ds_85rcp.swap_dims({\"modelname\": \"nmodelname\"})\n",
    "ds_26rcp[\"modelname\"].attrs[\n",
    "    \"long_name\"\n",
    "] = \"Model names in the same order as in totslr_ens var\"\n",
    "ds_45rcp[\"modelname\"].attrs[\n",
    "    \"long_name\"\n",
    "] = \"Model names in the same order as in totslr_ens var\"\n",
    "ds_85rcp[\"modelname\"].attrs[\n",
    "    \"long_name\"\n",
    "] = \"Model names in the same order as in totslr_ens var\"\n",
    "\n",
    "# info on all attributes\n",
    "# !ncinfo -v totslr {ds_rcp26_path}"
   ]
  },
  {
   "cell_type": "code",
   "execution_count": 13,
   "id": "00c63076",
   "metadata": {},
   "outputs": [
    {
     "data": {
      "application/javascript": "\n            setTimeout(function() {\n                var nbb_cell_id = 13;\n                var nbb_unformatted_code = \"# concat datasets along new dimension with index values and name derived from pandas index object, if necessary\\ndataset = xr.concat([ds_26rcp, ds_45rcp, ds_85rcp], dim=\\\"nscenarios\\\")\\ndataset = dataset.assign_coords(\\n    scenarios=(\\\"nscenarios\\\", np.array([\\\"RCP26\\\", \\\"RCP45\\\", \\\"RCP85\\\"], dtype=\\\"S\\\"))\\n)\\n\\n# dataset = xr.concat(\\n#     [dataset_historical, dataset_45rcp, dataset_85rcp],\\n#     pd.Index([\\\"historical\\\", \\\"rcp45\\\", \\\"rcp85\\\"], name=\\\"scenarios\\\"),\\n# )\\n\\n# dataset[\\\"scenarios\\\"].values.astype(\\\"U\\\") # retrieve scenarios as string\";\n                var nbb_formatted_code = \"# concat datasets along new dimension with index values and name derived from pandas index object, if necessary\\ndataset = xr.concat([ds_26rcp, ds_45rcp, ds_85rcp], dim=\\\"nscenarios\\\")\\ndataset = dataset.assign_coords(\\n    scenarios=(\\\"nscenarios\\\", np.array([\\\"RCP26\\\", \\\"RCP45\\\", \\\"RCP85\\\"], dtype=\\\"S\\\"))\\n)\\n\\n# dataset = xr.concat(\\n#     [dataset_historical, dataset_45rcp, dataset_85rcp],\\n#     pd.Index([\\\"historical\\\", \\\"rcp45\\\", \\\"rcp85\\\"], name=\\\"scenarios\\\"),\\n# )\\n\\n# dataset[\\\"scenarios\\\"].values.astype(\\\"U\\\") # retrieve scenarios as string\";\n                var nbb_cells = Jupyter.notebook.get_cells();\n                for (var i = 0; i < nbb_cells.length; ++i) {\n                    if (nbb_cells[i].input_prompt_number == nbb_cell_id) {\n                        if (nbb_cells[i].get_text() == nbb_unformatted_code) {\n                             nbb_cells[i].set_text(nbb_formatted_code);\n                        }\n                        break;\n                    }\n                }\n            }, 500);\n            ",
      "text/plain": [
       "<IPython.core.display.Javascript object>"
      ]
     },
     "metadata": {},
     "output_type": "display_data"
    }
   ],
   "source": [
    "# concat datasets along new dimension with index values and name derived from pandas index object, if necessary\n",
    "dataset = xr.concat([ds_26rcp, ds_45rcp, ds_85rcp], dim=\"nscenarios\")\n",
    "dataset = dataset.assign_coords(\n",
    "    scenarios=(\"nscenarios\", np.array([\"RCP26\", \"RCP45\", \"RCP85\"], dtype=\"S\"))\n",
    ")\n",
    "\n",
    "# dataset = xr.concat(\n",
    "#     [dataset_historical, dataset_45rcp, dataset_85rcp],\n",
    "#     pd.Index([\"historical\", \"rcp45\", \"rcp85\"], name=\"scenarios\"),\n",
    "# )\n",
    "\n",
    "# dataset[\"scenarios\"].values.astype(\"U\") # retrieve scenarios as string"
   ]
  },
  {
   "cell_type": "code",
   "execution_count": 14,
   "id": "d46c44d5",
   "metadata": {},
   "outputs": [
    {
     "data": {
      "application/javascript": "\n            setTimeout(function() {\n                var nbb_cell_id = 14;\n                var nbb_unformatted_code = \"# re-order shape of the data variables\\nds_26rcp = ds_26rcp.transpose(\\\"time\\\", \\\"lat\\\", \\\"lon\\\", \\\"nv\\\", \\\"nmodelname\\\")\\nds_45rcp = ds_45rcp.transpose(\\\"time\\\", \\\"lat\\\", \\\"lon\\\", \\\"nv\\\", \\\"nmodelname\\\")\\nds_85rcp = ds_85rcp.transpose(\\\"time\\\", \\\"lat\\\", \\\"lon\\\", \\\"nv\\\", \\\"nmodelname\\\")\\ndataset = dataset.transpose(\\\"nscenarios\\\", \\\"time\\\", \\\"lat\\\", \\\"lon\\\", \\\"nv\\\", \\\"nmodelname\\\")\\n\\n# add or change certain variable / coordinate attributes\\ndataset_attributes = {\\n    \\\"scenarios\\\": {\\\"long_name\\\": \\\"climate scenarios\\\"},\\n    \\\"modelname\\\": {\\\"long_name\\\": \\\"Model names in the same order as in totslr_ens var\\\"},\\n}  # specify custom (CF convention) attributes\\n\\n# add / overwrite attributes\\nfor k, v in dataset_attributes.items():\\n    try:\\n        dataset[k].attrs = dataset_attributes[k]\\n    except:\\n        continue\\n\\n# add epsg\\nds_26rcp.attrs[\\\"crs\\\"] = 4326\\nds_45rcp.attrs[\\\"crs\\\"] = 4326\\nds_85rcp.attrs[\\\"crs\\\"] = 4326\\ndataset.attrs[\\\"crs\\\"] = 4326\\n\\n# add additional info\\ndataset.attrs[\\\"title\\\"] = \\\"Sea level rise from AR5\\\"\\ndataset.attrs[\\\"institution\\\"] = \\\"Institute of Oceanography / CEN / University of Hamburg\\\"\\ndataset.attrs[\\\"comment\\\"] = (\\n    \\\"Here are the files which contain the ocean and ice components, sums and\\\"\\n    \\\" uncertainties as used in preparing the IPCC AR5 report (2014), with some\\\"\\n    \\\" slight modifications.  One small choice I made here was to combine the ocean\\\"\\n    \\\" and inverse barometer effect into one field, both for the mean and the\\\"\\n    \\\" uncertainty.  I also have provided better smoothed maps for the *time series*\\\"\\n    \\\" (the 20-mean-difference maps are the same as in the report).  This actually\\\"\\n    \\\" shouldn't be the cause for any difference in the report figures, as I didn't\\\"\\n    \\\" use this field for anything but the coastal stations in Fig. 13.23, and they\\\"\\n    \\\" have the same interpolation scheme at the coast now, just a better\\\"\\n    \\\" interpolation scheme in the open ocean (bilinear; not shown in any figure in\\\"\\n    \\\" the report). \\\"\\n    \\\"\\\\n\\\"\\n    \\\"One thing to note: I made a choice as to how to provide the 5%\\\"\\n    \\\" and 95% (upper and lower 90 %% confidence interval) uncertainty estimates for\\\"\\n    \\\" the various fields.  I have provided the maps of these similar to the way\\\"\\n    \\\" Jonathan Gregory provided the time series to me, as the individual component\\\"\\n    \\\" upper and lower bounds. However, to combine these errors in the same way as\\\"\\n    \\\" in the report, you will need to take the difference between the upper bound\\\"\\n    \\\" and the middle value (for combining the upper uncertainty total estimate) or\\\"\\n    \\\" the lower bound and middle value (for combining the lower uncertainty total\\\"\\n    \\\" estimate), and use the formula shown in the Supplementary Material for\\\"\\n    \\\" Chapter 13 of the AR5 (SM13) - minus the IBE which is combined with the ocean\\\"\\n    \\\" field here.\\\"\\n)\\ndataset.attrs[\\\"references\\\"] = (\\n    \\\"Chapter 13 paper: Church, J. A., P. Clark, A. Cazenave, J. Gregory, S.\\\"\\n    \\\" Jevrejeva, A. Levermann, M. Merrifield, G. Milne, R.S.Nerem, P. Nunn, A.\\\"\\n    \\\" Payne, W. Pfeffer, D. Stammer, and A. Unnikrishnan (2013), Sea level change,\\\"\\n    \\\" in Climate Change 2013: The Physical Science Basis, edited by T. F. Stocker,\\\"\\n    \\\" D. Qin, G.-K. Plattner, M. Tignor, S. Allen, J. Boschung, A. Nauels, Y. Xia,\\\"\\n    \\\" V. Bex, and P. Midgley, Cambridge University Press, Cambridge, UK and New\\\"\\n    \\\" York, NY. USA.\\\"\\n)\";\n                var nbb_formatted_code = \"# re-order shape of the data variables\\nds_26rcp = ds_26rcp.transpose(\\\"time\\\", \\\"lat\\\", \\\"lon\\\", \\\"nv\\\", \\\"nmodelname\\\")\\nds_45rcp = ds_45rcp.transpose(\\\"time\\\", \\\"lat\\\", \\\"lon\\\", \\\"nv\\\", \\\"nmodelname\\\")\\nds_85rcp = ds_85rcp.transpose(\\\"time\\\", \\\"lat\\\", \\\"lon\\\", \\\"nv\\\", \\\"nmodelname\\\")\\ndataset = dataset.transpose(\\\"nscenarios\\\", \\\"time\\\", \\\"lat\\\", \\\"lon\\\", \\\"nv\\\", \\\"nmodelname\\\")\\n\\n# add or change certain variable / coordinate attributes\\ndataset_attributes = {\\n    \\\"scenarios\\\": {\\\"long_name\\\": \\\"climate scenarios\\\"},\\n    \\\"modelname\\\": {\\\"long_name\\\": \\\"Model names in the same order as in totslr_ens var\\\"},\\n}  # specify custom (CF convention) attributes\\n\\n# add / overwrite attributes\\nfor k, v in dataset_attributes.items():\\n    try:\\n        dataset[k].attrs = dataset_attributes[k]\\n    except:\\n        continue\\n\\n# add epsg\\nds_26rcp.attrs[\\\"crs\\\"] = 4326\\nds_45rcp.attrs[\\\"crs\\\"] = 4326\\nds_85rcp.attrs[\\\"crs\\\"] = 4326\\ndataset.attrs[\\\"crs\\\"] = 4326\\n\\n# add additional info\\ndataset.attrs[\\\"title\\\"] = \\\"Sea level rise from AR5\\\"\\ndataset.attrs[\\\"institution\\\"] = \\\"Institute of Oceanography / CEN / University of Hamburg\\\"\\ndataset.attrs[\\\"comment\\\"] = (\\n    \\\"Here are the files which contain the ocean and ice components, sums and\\\"\\n    \\\" uncertainties as used in preparing the IPCC AR5 report (2014), with some\\\"\\n    \\\" slight modifications.  One small choice I made here was to combine the ocean\\\"\\n    \\\" and inverse barometer effect into one field, both for the mean and the\\\"\\n    \\\" uncertainty.  I also have provided better smoothed maps for the *time series*\\\"\\n    \\\" (the 20-mean-difference maps are the same as in the report).  This actually\\\"\\n    \\\" shouldn't be the cause for any difference in the report figures, as I didn't\\\"\\n    \\\" use this field for anything but the coastal stations in Fig. 13.23, and they\\\"\\n    \\\" have the same interpolation scheme at the coast now, just a better\\\"\\n    \\\" interpolation scheme in the open ocean (bilinear; not shown in any figure in\\\"\\n    \\\" the report). \\\"\\n    \\\"\\\\n\\\"\\n    \\\"One thing to note: I made a choice as to how to provide the 5%\\\"\\n    \\\" and 95% (upper and lower 90 %% confidence interval) uncertainty estimates for\\\"\\n    \\\" the various fields.  I have provided the maps of these similar to the way\\\"\\n    \\\" Jonathan Gregory provided the time series to me, as the individual component\\\"\\n    \\\" upper and lower bounds. However, to combine these errors in the same way as\\\"\\n    \\\" in the report, you will need to take the difference between the upper bound\\\"\\n    \\\" and the middle value (for combining the upper uncertainty total estimate) or\\\"\\n    \\\" the lower bound and middle value (for combining the lower uncertainty total\\\"\\n    \\\" estimate), and use the formula shown in the Supplementary Material for\\\"\\n    \\\" Chapter 13 of the AR5 (SM13) - minus the IBE which is combined with the ocean\\\"\\n    \\\" field here.\\\"\\n)\\ndataset.attrs[\\\"references\\\"] = (\\n    \\\"Chapter 13 paper: Church, J. A., P. Clark, A. Cazenave, J. Gregory, S.\\\"\\n    \\\" Jevrejeva, A. Levermann, M. Merrifield, G. Milne, R.S.Nerem, P. Nunn, A.\\\"\\n    \\\" Payne, W. Pfeffer, D. Stammer, and A. Unnikrishnan (2013), Sea level change,\\\"\\n    \\\" in Climate Change 2013: The Physical Science Basis, edited by T. F. Stocker,\\\"\\n    \\\" D. Qin, G.-K. Plattner, M. Tignor, S. Allen, J. Boschung, A. Nauels, Y. Xia,\\\"\\n    \\\" V. Bex, and P. Midgley, Cambridge University Press, Cambridge, UK and New\\\"\\n    \\\" York, NY. USA.\\\"\\n)\";\n                var nbb_cells = Jupyter.notebook.get_cells();\n                for (var i = 0; i < nbb_cells.length; ++i) {\n                    if (nbb_cells[i].input_prompt_number == nbb_cell_id) {\n                        if (nbb_cells[i].get_text() == nbb_unformatted_code) {\n                             nbb_cells[i].set_text(nbb_formatted_code);\n                        }\n                        break;\n                    }\n                }\n            }, 500);\n            ",
      "text/plain": [
       "<IPython.core.display.Javascript object>"
      ]
     },
     "metadata": {},
     "output_type": "display_data"
    }
   ],
   "source": [
    "# re-order shape of the data variables\n",
    "ds_26rcp = ds_26rcp.transpose(\"time\", \"lat\", \"lon\", \"nv\", \"nmodelname\")\n",
    "ds_45rcp = ds_45rcp.transpose(\"time\", \"lat\", \"lon\", \"nv\", \"nmodelname\")\n",
    "ds_85rcp = ds_85rcp.transpose(\"time\", \"lat\", \"lon\", \"nv\", \"nmodelname\")\n",
    "dataset = dataset.transpose(\"nscenarios\", \"time\", \"lat\", \"lon\", \"nv\", \"nmodelname\")\n",
    "\n",
    "# add or change certain variable / coordinate attributes\n",
    "dataset_attributes = {\n",
    "    \"scenarios\": {\"long_name\": \"climate scenarios\"},\n",
    "    \"modelname\": {\"long_name\": \"Model names in the same order as in totslr_ens var\"},\n",
    "}  # specify custom (CF convention) attributes\n",
    "\n",
    "# add / overwrite attributes\n",
    "for k, v in dataset_attributes.items():\n",
    "    try:\n",
    "        dataset[k].attrs = dataset_attributes[k]\n",
    "    except:\n",
    "        continue\n",
    "\n",
    "# add epsg\n",
    "ds_26rcp.attrs[\"crs\"] = 4326\n",
    "ds_45rcp.attrs[\"crs\"] = 4326\n",
    "ds_85rcp.attrs[\"crs\"] = 4326\n",
    "dataset.attrs[\"crs\"] = 4326\n",
    "\n",
    "# add additional info\n",
    "dataset.attrs[\"title\"] = \"Sea level rise from AR5\"\n",
    "dataset.attrs[\"institution\"] = \"Institute of Oceanography / CEN / University of Hamburg\"\n",
    "dataset.attrs[\"comment\"] = (\n",
    "    \"Here are the files which contain the ocean and ice components, sums and\"\n",
    "    \" uncertainties as used in preparing the IPCC AR5 report (2014), with some\"\n",
    "    \" slight modifications.  One small choice I made here was to combine the ocean\"\n",
    "    \" and inverse barometer effect into one field, both for the mean and the\"\n",
    "    \" uncertainty.  I also have provided better smoothed maps for the *time series*\"\n",
    "    \" (the 20-mean-difference maps are the same as in the report).  This actually\"\n",
    "    \" shouldn't be the cause for any difference in the report figures, as I didn't\"\n",
    "    \" use this field for anything but the coastal stations in Fig. 13.23, and they\"\n",
    "    \" have the same interpolation scheme at the coast now, just a better\"\n",
    "    \" interpolation scheme in the open ocean (bilinear; not shown in any figure in\"\n",
    "    \" the report). \"\n",
    "    \"\\n\"\n",
    "    \"One thing to note: I made a choice as to how to provide the 5%\"\n",
    "    \" and 95% (upper and lower 90 %% confidence interval) uncertainty estimates for\"\n",
    "    \" the various fields.  I have provided the maps of these similar to the way\"\n",
    "    \" Jonathan Gregory provided the time series to me, as the individual component\"\n",
    "    \" upper and lower bounds. However, to combine these errors in the same way as\"\n",
    "    \" in the report, you will need to take the difference between the upper bound\"\n",
    "    \" and the middle value (for combining the upper uncertainty total estimate) or\"\n",
    "    \" the lower bound and middle value (for combining the lower uncertainty total\"\n",
    "    \" estimate), and use the formula shown in the Supplementary Material for\"\n",
    "    \" Chapter 13 of the AR5 (SM13) - minus the IBE which is combined with the ocean\"\n",
    "    \" field here.\"\n",
    ")\n",
    "dataset.attrs[\"references\"] = (\n",
    "    \"Chapter 13 paper: Church, J. A., P. Clark, A. Cazenave, J. Gregory, S.\"\n",
    "    \" Jevrejeva, A. Levermann, M. Merrifield, G. Milne, R.S.Nerem, P. Nunn, A.\"\n",
    "    \" Payne, W. Pfeffer, D. Stammer, and A. Unnikrishnan (2013), Sea level change,\"\n",
    "    \" in Climate Change 2013: The Physical Science Basis, edited by T. F. Stocker,\"\n",
    "    \" D. Qin, G.-K. Plattner, M. Tignor, S. Allen, J. Boschung, A. Nauels, Y. Xia,\"\n",
    "    \" V. Bex, and P. Midgley, Cambridge University Press, Cambridge, UK and New\"\n",
    "    \" York, NY. USA.\"\n",
    ")"
   ]
  },
  {
   "cell_type": "code",
   "execution_count": 15,
   "id": "9fbc61af",
   "metadata": {},
   "outputs": [
    {
     "data": {
      "text/html": [
       "<div><svg style=\"position: absolute; width: 0; height: 0; overflow: hidden\">\n",
       "<defs>\n",
       "<symbol id=\"icon-database\" viewBox=\"0 0 32 32\">\n",
       "<path d=\"M16 0c-8.837 0-16 2.239-16 5v4c0 2.761 7.163 5 16 5s16-2.239 16-5v-4c0-2.761-7.163-5-16-5z\"></path>\n",
       "<path d=\"M16 17c-8.837 0-16-2.239-16-5v6c0 2.761 7.163 5 16 5s16-2.239 16-5v-6c0 2.761-7.163 5-16 5z\"></path>\n",
       "<path d=\"M16 26c-8.837 0-16-2.239-16-5v6c0 2.761 7.163 5 16 5s16-2.239 16-5v-6c0 2.761-7.163 5-16 5z\"></path>\n",
       "</symbol>\n",
       "<symbol id=\"icon-file-text2\" viewBox=\"0 0 32 32\">\n",
       "<path d=\"M28.681 7.159c-0.694-0.947-1.662-2.053-2.724-3.116s-2.169-2.030-3.116-2.724c-1.612-1.182-2.393-1.319-2.841-1.319h-15.5c-1.378 0-2.5 1.121-2.5 2.5v27c0 1.378 1.122 2.5 2.5 2.5h23c1.378 0 2.5-1.122 2.5-2.5v-19.5c0-0.448-0.137-1.23-1.319-2.841zM24.543 5.457c0.959 0.959 1.712 1.825 2.268 2.543h-4.811v-4.811c0.718 0.556 1.584 1.309 2.543 2.268zM28 29.5c0 0.271-0.229 0.5-0.5 0.5h-23c-0.271 0-0.5-0.229-0.5-0.5v-27c0-0.271 0.229-0.5 0.5-0.5 0 0 15.499-0 15.5 0v7c0 0.552 0.448 1 1 1h7v19.5z\"></path>\n",
       "<path d=\"M23 26h-14c-0.552 0-1-0.448-1-1s0.448-1 1-1h14c0.552 0 1 0.448 1 1s-0.448 1-1 1z\"></path>\n",
       "<path d=\"M23 22h-14c-0.552 0-1-0.448-1-1s0.448-1 1-1h14c0.552 0 1 0.448 1 1s-0.448 1-1 1z\"></path>\n",
       "<path d=\"M23 18h-14c-0.552 0-1-0.448-1-1s0.448-1 1-1h14c0.552 0 1 0.448 1 1s-0.448 1-1 1z\"></path>\n",
       "</symbol>\n",
       "</defs>\n",
       "</svg>\n",
       "<style>/* CSS stylesheet for displaying xarray objects in jupyterlab.\n",
       " *\n",
       " */\n",
       "\n",
       ":root {\n",
       "  --xr-font-color0: var(--jp-content-font-color0, rgba(0, 0, 0, 1));\n",
       "  --xr-font-color2: var(--jp-content-font-color2, rgba(0, 0, 0, 0.54));\n",
       "  --xr-font-color3: var(--jp-content-font-color3, rgba(0, 0, 0, 0.38));\n",
       "  --xr-border-color: var(--jp-border-color2, #e0e0e0);\n",
       "  --xr-disabled-color: var(--jp-layout-color3, #bdbdbd);\n",
       "  --xr-background-color: var(--jp-layout-color0, white);\n",
       "  --xr-background-color-row-even: var(--jp-layout-color1, white);\n",
       "  --xr-background-color-row-odd: var(--jp-layout-color2, #eeeeee);\n",
       "}\n",
       "\n",
       "html[theme=dark],\n",
       "body[data-theme=dark],\n",
       "body.vscode-dark {\n",
       "  --xr-font-color0: rgba(255, 255, 255, 1);\n",
       "  --xr-font-color2: rgba(255, 255, 255, 0.54);\n",
       "  --xr-font-color3: rgba(255, 255, 255, 0.38);\n",
       "  --xr-border-color: #1F1F1F;\n",
       "  --xr-disabled-color: #515151;\n",
       "  --xr-background-color: #111111;\n",
       "  --xr-background-color-row-even: #111111;\n",
       "  --xr-background-color-row-odd: #313131;\n",
       "}\n",
       "\n",
       ".xr-wrap {\n",
       "  display: block !important;\n",
       "  min-width: 300px;\n",
       "  max-width: 700px;\n",
       "}\n",
       "\n",
       ".xr-text-repr-fallback {\n",
       "  /* fallback to plain text repr when CSS is not injected (untrusted notebook) */\n",
       "  display: none;\n",
       "}\n",
       "\n",
       ".xr-header {\n",
       "  padding-top: 6px;\n",
       "  padding-bottom: 6px;\n",
       "  margin-bottom: 4px;\n",
       "  border-bottom: solid 1px var(--xr-border-color);\n",
       "}\n",
       "\n",
       ".xr-header > div,\n",
       ".xr-header > ul {\n",
       "  display: inline;\n",
       "  margin-top: 0;\n",
       "  margin-bottom: 0;\n",
       "}\n",
       "\n",
       ".xr-obj-type,\n",
       ".xr-array-name {\n",
       "  margin-left: 2px;\n",
       "  margin-right: 10px;\n",
       "}\n",
       "\n",
       ".xr-obj-type {\n",
       "  color: var(--xr-font-color2);\n",
       "}\n",
       "\n",
       ".xr-sections {\n",
       "  padding-left: 0 !important;\n",
       "  display: grid;\n",
       "  grid-template-columns: 150px auto auto 1fr 20px 20px;\n",
       "}\n",
       "\n",
       ".xr-section-item {\n",
       "  display: contents;\n",
       "}\n",
       "\n",
       ".xr-section-item input {\n",
       "  display: none;\n",
       "}\n",
       "\n",
       ".xr-section-item input + label {\n",
       "  color: var(--xr-disabled-color);\n",
       "}\n",
       "\n",
       ".xr-section-item input:enabled + label {\n",
       "  cursor: pointer;\n",
       "  color: var(--xr-font-color2);\n",
       "}\n",
       "\n",
       ".xr-section-item input:enabled + label:hover {\n",
       "  color: var(--xr-font-color0);\n",
       "}\n",
       "\n",
       ".xr-section-summary {\n",
       "  grid-column: 1;\n",
       "  color: var(--xr-font-color2);\n",
       "  font-weight: 500;\n",
       "}\n",
       "\n",
       ".xr-section-summary > span {\n",
       "  display: inline-block;\n",
       "  padding-left: 0.5em;\n",
       "}\n",
       "\n",
       ".xr-section-summary-in:disabled + label {\n",
       "  color: var(--xr-font-color2);\n",
       "}\n",
       "\n",
       ".xr-section-summary-in + label:before {\n",
       "  display: inline-block;\n",
       "  content: '►';\n",
       "  font-size: 11px;\n",
       "  width: 15px;\n",
       "  text-align: center;\n",
       "}\n",
       "\n",
       ".xr-section-summary-in:disabled + label:before {\n",
       "  color: var(--xr-disabled-color);\n",
       "}\n",
       "\n",
       ".xr-section-summary-in:checked + label:before {\n",
       "  content: '▼';\n",
       "}\n",
       "\n",
       ".xr-section-summary-in:checked + label > span {\n",
       "  display: none;\n",
       "}\n",
       "\n",
       ".xr-section-summary,\n",
       ".xr-section-inline-details {\n",
       "  padding-top: 4px;\n",
       "  padding-bottom: 4px;\n",
       "}\n",
       "\n",
       ".xr-section-inline-details {\n",
       "  grid-column: 2 / -1;\n",
       "}\n",
       "\n",
       ".xr-section-details {\n",
       "  display: none;\n",
       "  grid-column: 1 / -1;\n",
       "  margin-bottom: 5px;\n",
       "}\n",
       "\n",
       ".xr-section-summary-in:checked ~ .xr-section-details {\n",
       "  display: contents;\n",
       "}\n",
       "\n",
       ".xr-array-wrap {\n",
       "  grid-column: 1 / -1;\n",
       "  display: grid;\n",
       "  grid-template-columns: 20px auto;\n",
       "}\n",
       "\n",
       ".xr-array-wrap > label {\n",
       "  grid-column: 1;\n",
       "  vertical-align: top;\n",
       "}\n",
       "\n",
       ".xr-preview {\n",
       "  color: var(--xr-font-color3);\n",
       "}\n",
       "\n",
       ".xr-array-preview,\n",
       ".xr-array-data {\n",
       "  padding: 0 5px !important;\n",
       "  grid-column: 2;\n",
       "}\n",
       "\n",
       ".xr-array-data,\n",
       ".xr-array-in:checked ~ .xr-array-preview {\n",
       "  display: none;\n",
       "}\n",
       "\n",
       ".xr-array-in:checked ~ .xr-array-data,\n",
       ".xr-array-preview {\n",
       "  display: inline-block;\n",
       "}\n",
       "\n",
       ".xr-dim-list {\n",
       "  display: inline-block !important;\n",
       "  list-style: none;\n",
       "  padding: 0 !important;\n",
       "  margin: 0;\n",
       "}\n",
       "\n",
       ".xr-dim-list li {\n",
       "  display: inline-block;\n",
       "  padding: 0;\n",
       "  margin: 0;\n",
       "}\n",
       "\n",
       ".xr-dim-list:before {\n",
       "  content: '(';\n",
       "}\n",
       "\n",
       ".xr-dim-list:after {\n",
       "  content: ')';\n",
       "}\n",
       "\n",
       ".xr-dim-list li:not(:last-child):after {\n",
       "  content: ',';\n",
       "  padding-right: 5px;\n",
       "}\n",
       "\n",
       ".xr-has-index {\n",
       "  font-weight: bold;\n",
       "}\n",
       "\n",
       ".xr-var-list,\n",
       ".xr-var-item {\n",
       "  display: contents;\n",
       "}\n",
       "\n",
       ".xr-var-item > div,\n",
       ".xr-var-item label,\n",
       ".xr-var-item > .xr-var-name span {\n",
       "  background-color: var(--xr-background-color-row-even);\n",
       "  margin-bottom: 0;\n",
       "}\n",
       "\n",
       ".xr-var-item > .xr-var-name:hover span {\n",
       "  padding-right: 5px;\n",
       "}\n",
       "\n",
       ".xr-var-list > li:nth-child(odd) > div,\n",
       ".xr-var-list > li:nth-child(odd) > label,\n",
       ".xr-var-list > li:nth-child(odd) > .xr-var-name span {\n",
       "  background-color: var(--xr-background-color-row-odd);\n",
       "}\n",
       "\n",
       ".xr-var-name {\n",
       "  grid-column: 1;\n",
       "}\n",
       "\n",
       ".xr-var-dims {\n",
       "  grid-column: 2;\n",
       "}\n",
       "\n",
       ".xr-var-dtype {\n",
       "  grid-column: 3;\n",
       "  text-align: right;\n",
       "  color: var(--xr-font-color2);\n",
       "}\n",
       "\n",
       ".xr-var-preview {\n",
       "  grid-column: 4;\n",
       "}\n",
       "\n",
       ".xr-index-preview {\n",
       "  grid-column: 2 / 5;\n",
       "  color: var(--xr-font-color2);\n",
       "}\n",
       "\n",
       ".xr-var-name,\n",
       ".xr-var-dims,\n",
       ".xr-var-dtype,\n",
       ".xr-preview,\n",
       ".xr-attrs dt {\n",
       "  white-space: nowrap;\n",
       "  overflow: hidden;\n",
       "  text-overflow: ellipsis;\n",
       "  padding-right: 10px;\n",
       "}\n",
       "\n",
       ".xr-var-name:hover,\n",
       ".xr-var-dims:hover,\n",
       ".xr-var-dtype:hover,\n",
       ".xr-attrs dt:hover {\n",
       "  overflow: visible;\n",
       "  width: auto;\n",
       "  z-index: 1;\n",
       "}\n",
       "\n",
       ".xr-var-attrs,\n",
       ".xr-var-data,\n",
       ".xr-index-data {\n",
       "  display: none;\n",
       "  background-color: var(--xr-background-color) !important;\n",
       "  padding-bottom: 5px !important;\n",
       "}\n",
       "\n",
       ".xr-var-attrs-in:checked ~ .xr-var-attrs,\n",
       ".xr-var-data-in:checked ~ .xr-var-data,\n",
       ".xr-index-data-in:checked ~ .xr-index-data {\n",
       "  display: block;\n",
       "}\n",
       "\n",
       ".xr-var-data > table {\n",
       "  float: right;\n",
       "}\n",
       "\n",
       ".xr-var-name span,\n",
       ".xr-var-data,\n",
       ".xr-index-name div,\n",
       ".xr-index-data,\n",
       ".xr-attrs {\n",
       "  padding-left: 25px !important;\n",
       "}\n",
       "\n",
       ".xr-attrs,\n",
       ".xr-var-attrs,\n",
       ".xr-var-data,\n",
       ".xr-index-data {\n",
       "  grid-column: 1 / -1;\n",
       "}\n",
       "\n",
       "dl.xr-attrs {\n",
       "  padding: 0;\n",
       "  margin: 0;\n",
       "  display: grid;\n",
       "  grid-template-columns: 125px auto;\n",
       "}\n",
       "\n",
       ".xr-attrs dt,\n",
       ".xr-attrs dd {\n",
       "  padding: 0;\n",
       "  margin: 0;\n",
       "  float: left;\n",
       "  padding-right: 10px;\n",
       "  width: auto;\n",
       "}\n",
       "\n",
       ".xr-attrs dt {\n",
       "  font-weight: normal;\n",
       "  grid-column: 1;\n",
       "}\n",
       "\n",
       ".xr-attrs dt:hover span {\n",
       "  display: inline-block;\n",
       "  background: var(--xr-background-color);\n",
       "  padding-right: 10px;\n",
       "}\n",
       "\n",
       ".xr-attrs dd {\n",
       "  grid-column: 2;\n",
       "  white-space: pre-wrap;\n",
       "  word-break: break-all;\n",
       "}\n",
       "\n",
       ".xr-icon-database,\n",
       ".xr-icon-file-text2,\n",
       ".xr-no-icon {\n",
       "  display: inline-block;\n",
       "  vertical-align: middle;\n",
       "  width: 1em;\n",
       "  height: 1.5em !important;\n",
       "  stroke-width: 0;\n",
       "  stroke: currentColor;\n",
       "  fill: currentColor;\n",
       "}\n",
       "</style><pre class='xr-text-repr-fallback'>&lt;xarray.Dataset&gt;\n",
       "Dimensions:     (time: 94, nv: 2, lat: 180, lon: 360, nscenarios: 3,\n",
       "                 nmodelname: 16)\n",
       "Coordinates:\n",
       "  * time        (time) object 2007-07-02 12:00:00 ... 2100-07-02 12:00:00\n",
       "    time_bnds   (time, nv) object 2007-01-01 00:00:00 ... 2101-01-01 00:00:00\n",
       "  * lat         (lat) float64 -89.5 -88.5 -87.5 -86.5 ... 86.5 87.5 88.5 89.5\n",
       "  * lon         (lon) float64 0.5 1.5 2.5 3.5 4.5 ... 356.5 357.5 358.5 359.5\n",
       "    modelname   (nmodelname) |S14 b&#x27;GISS-E2-R&#x27; b&#x27;NorESM1-M&#x27; ... b&#x27;BCC-CSM1-1&#x27;\n",
       "    scenarios   (nscenarios) |S5 b&#x27;RCP26&#x27; b&#x27;RCP45&#x27; b&#x27;RCP85&#x27;\n",
       "Dimensions without coordinates: nv, nscenarios, nmodelname\n",
       "Data variables:\n",
       "    totslr_ens  (nscenarios, time, lat, lon, nmodelname) float32 nan nan ... nan\n",
       "    totslr      (nscenarios, time, lat, lon) float32 nan nan nan ... nan nan nan\n",
       "    loerr       (nscenarios, time, lat, lon) float32 nan nan nan ... nan nan nan\n",
       "    hierr       (nscenarios, time, lat, lon) float32 nan nan nan ... nan nan nan\n",
       "Attributes:\n",
       "    history:      version 5, 27-March-2014\n",
       "    contact:      mark.carson@zmaw.de\n",
       "    references:   Chapter 13 paper: Church, J. A., P. Clark, A. Cazenave, J. ...\n",
       "    Conventions:  CF-1.8\n",
       "    crs:          4326\n",
       "    title:        Sea level rise from AR5\n",
       "    institution:  Institute of Oceanography / CEN / University of Hamburg\n",
       "    comment:      Here are the files which contain the ocean and ice componen...</pre><div class='xr-wrap' style='display:none'><div class='xr-header'><div class='xr-obj-type'>xarray.Dataset</div></div><ul class='xr-sections'><li class='xr-section-item'><input id='section-da216cdf-33ac-448d-8c1e-083aec7a3f87' class='xr-section-summary-in' type='checkbox' disabled ><label for='section-da216cdf-33ac-448d-8c1e-083aec7a3f87' class='xr-section-summary'  title='Expand/collapse section'>Dimensions:</label><div class='xr-section-inline-details'><ul class='xr-dim-list'><li><span class='xr-has-index'>time</span>: 94</li><li><span>nv</span>: 2</li><li><span class='xr-has-index'>lat</span>: 180</li><li><span class='xr-has-index'>lon</span>: 360</li><li><span>nscenarios</span>: 3</li><li><span>nmodelname</span>: 16</li></ul></div><div class='xr-section-details'></div></li><li class='xr-section-item'><input id='section-44699776-cbe5-469c-97b1-cbd94c7ba0d7' class='xr-section-summary-in' type='checkbox'  checked><label for='section-44699776-cbe5-469c-97b1-cbd94c7ba0d7' class='xr-section-summary' >Coordinates: <span>(6)</span></label><div class='xr-section-inline-details'></div><div class='xr-section-details'><ul class='xr-var-list'><li class='xr-var-item'><div class='xr-var-name'><span class='xr-has-index'>time</span></div><div class='xr-var-dims'>(time)</div><div class='xr-var-dtype'>object</div><div class='xr-var-preview xr-preview'>2007-07-02 12:00:00 ... 2100-07-...</div><input id='attrs-d4c415f5-32a9-4469-b656-1329b77e8134' class='xr-var-attrs-in' type='checkbox' ><label for='attrs-d4c415f5-32a9-4469-b656-1329b77e8134' title='Show/Hide attributes'><svg class='icon xr-icon-file-text2'><use xlink:href='#icon-file-text2'></use></svg></label><input id='data-6acd6b98-cb87-455b-ac32-1f26443102d8' class='xr-var-data-in' type='checkbox'><label for='data-6acd6b98-cb87-455b-ac32-1f26443102d8' title='Show/Hide data repr'><svg class='icon xr-icon-database'><use xlink:href='#icon-database'></use></svg></label><div class='xr-var-attrs'><dl class='xr-attrs'><dt><span>long_name :</span></dt><dd>time</dd><dt><span>bounds :</span></dt><dd>time_bnds</dd><dt><span>axis :</span></dt><dd>T</dd></dl></div><div class='xr-var-data'><pre>array([cftime.DatetimeNoLeap(2007, 7, 2, 12, 0, 0, 0, has_year_zero=True),\n",
       "       cftime.DatetimeNoLeap(2008, 7, 2, 0, 0, 0, 0, has_year_zero=True),\n",
       "       cftime.DatetimeNoLeap(2009, 7, 2, 12, 0, 0, 0, has_year_zero=True),\n",
       "       cftime.DatetimeNoLeap(2010, 7, 2, 12, 0, 0, 0, has_year_zero=True),\n",
       "       cftime.DatetimeNoLeap(2011, 7, 2, 12, 0, 0, 0, has_year_zero=True),\n",
       "       cftime.DatetimeNoLeap(2012, 7, 2, 0, 0, 0, 0, has_year_zero=True),\n",
       "       cftime.DatetimeNoLeap(2013, 7, 2, 12, 0, 0, 0, has_year_zero=True),\n",
       "       cftime.DatetimeNoLeap(2014, 7, 2, 12, 0, 0, 0, has_year_zero=True),\n",
       "       cftime.DatetimeNoLeap(2015, 7, 2, 12, 0, 0, 0, has_year_zero=True),\n",
       "       cftime.DatetimeNoLeap(2016, 7, 2, 0, 0, 0, 0, has_year_zero=True),\n",
       "       cftime.DatetimeNoLeap(2017, 7, 2, 12, 0, 0, 0, has_year_zero=True),\n",
       "       cftime.DatetimeNoLeap(2018, 7, 2, 12, 0, 0, 0, has_year_zero=True),\n",
       "       cftime.DatetimeNoLeap(2019, 7, 2, 12, 0, 0, 0, has_year_zero=True),\n",
       "       cftime.DatetimeNoLeap(2020, 7, 2, 0, 0, 0, 0, has_year_zero=True),\n",
       "       cftime.DatetimeNoLeap(2021, 7, 2, 12, 0, 0, 0, has_year_zero=True),\n",
       "       cftime.DatetimeNoLeap(2022, 7, 2, 12, 0, 0, 0, has_year_zero=True),\n",
       "       cftime.DatetimeNoLeap(2023, 7, 2, 12, 0, 0, 0, has_year_zero=True),\n",
       "       cftime.DatetimeNoLeap(2024, 7, 2, 0, 0, 0, 0, has_year_zero=True),\n",
       "       cftime.DatetimeNoLeap(2025, 7, 2, 12, 0, 0, 0, has_year_zero=True),\n",
       "       cftime.DatetimeNoLeap(2026, 7, 2, 12, 0, 0, 0, has_year_zero=True),\n",
       "       cftime.DatetimeNoLeap(2027, 7, 2, 12, 0, 0, 0, has_year_zero=True),\n",
       "       cftime.DatetimeNoLeap(2028, 7, 2, 0, 0, 0, 0, has_year_zero=True),\n",
       "       cftime.DatetimeNoLeap(2029, 7, 2, 12, 0, 0, 0, has_year_zero=True),\n",
       "       cftime.DatetimeNoLeap(2030, 7, 2, 12, 0, 0, 0, has_year_zero=True),\n",
       "       cftime.DatetimeNoLeap(2031, 7, 2, 12, 0, 0, 0, has_year_zero=True),\n",
       "       cftime.DatetimeNoLeap(2032, 7, 2, 0, 0, 0, 0, has_year_zero=True),\n",
       "       cftime.DatetimeNoLeap(2033, 7, 2, 12, 0, 0, 0, has_year_zero=True),\n",
       "       cftime.DatetimeNoLeap(2034, 7, 2, 12, 0, 0, 0, has_year_zero=True),\n",
       "       cftime.DatetimeNoLeap(2035, 7, 2, 12, 0, 0, 0, has_year_zero=True),\n",
       "       cftime.DatetimeNoLeap(2036, 7, 2, 0, 0, 0, 0, has_year_zero=True),\n",
       "       cftime.DatetimeNoLeap(2037, 7, 2, 12, 0, 0, 0, has_year_zero=True),\n",
       "       cftime.DatetimeNoLeap(2038, 7, 2, 12, 0, 0, 0, has_year_zero=True),\n",
       "       cftime.DatetimeNoLeap(2039, 7, 2, 12, 0, 0, 0, has_year_zero=True),\n",
       "       cftime.DatetimeNoLeap(2040, 7, 2, 0, 0, 0, 0, has_year_zero=True),\n",
       "       cftime.DatetimeNoLeap(2041, 7, 2, 12, 0, 0, 0, has_year_zero=True),\n",
       "       cftime.DatetimeNoLeap(2042, 7, 2, 12, 0, 0, 0, has_year_zero=True),\n",
       "       cftime.DatetimeNoLeap(2043, 7, 2, 12, 0, 0, 0, has_year_zero=True),\n",
       "       cftime.DatetimeNoLeap(2044, 7, 2, 0, 0, 0, 0, has_year_zero=True),\n",
       "       cftime.DatetimeNoLeap(2045, 7, 2, 12, 0, 0, 0, has_year_zero=True),\n",
       "       cftime.DatetimeNoLeap(2046, 7, 2, 12, 0, 0, 0, has_year_zero=True),\n",
       "       cftime.DatetimeNoLeap(2047, 7, 2, 12, 0, 0, 0, has_year_zero=True),\n",
       "       cftime.DatetimeNoLeap(2048, 7, 2, 0, 0, 0, 0, has_year_zero=True),\n",
       "       cftime.DatetimeNoLeap(2049, 7, 2, 12, 0, 0, 0, has_year_zero=True),\n",
       "       cftime.DatetimeNoLeap(2050, 7, 2, 12, 0, 0, 0, has_year_zero=True),\n",
       "       cftime.DatetimeNoLeap(2051, 7, 2, 12, 0, 0, 0, has_year_zero=True),\n",
       "       cftime.DatetimeNoLeap(2052, 7, 2, 0, 0, 0, 0, has_year_zero=True),\n",
       "       cftime.DatetimeNoLeap(2053, 7, 2, 12, 0, 0, 0, has_year_zero=True),\n",
       "       cftime.DatetimeNoLeap(2054, 7, 2, 12, 0, 0, 0, has_year_zero=True),\n",
       "       cftime.DatetimeNoLeap(2055, 7, 2, 12, 0, 0, 0, has_year_zero=True),\n",
       "       cftime.DatetimeNoLeap(2056, 7, 2, 0, 0, 0, 0, has_year_zero=True),\n",
       "       cftime.DatetimeNoLeap(2057, 7, 2, 12, 0, 0, 0, has_year_zero=True),\n",
       "       cftime.DatetimeNoLeap(2058, 7, 2, 12, 0, 0, 0, has_year_zero=True),\n",
       "       cftime.DatetimeNoLeap(2059, 7, 2, 12, 0, 0, 0, has_year_zero=True),\n",
       "       cftime.DatetimeNoLeap(2060, 7, 2, 0, 0, 0, 0, has_year_zero=True),\n",
       "       cftime.DatetimeNoLeap(2061, 7, 2, 12, 0, 0, 0, has_year_zero=True),\n",
       "       cftime.DatetimeNoLeap(2062, 7, 2, 12, 0, 0, 0, has_year_zero=True),\n",
       "       cftime.DatetimeNoLeap(2063, 7, 2, 12, 0, 0, 0, has_year_zero=True),\n",
       "       cftime.DatetimeNoLeap(2064, 7, 2, 0, 0, 0, 0, has_year_zero=True),\n",
       "       cftime.DatetimeNoLeap(2065, 7, 2, 12, 0, 0, 0, has_year_zero=True),\n",
       "       cftime.DatetimeNoLeap(2066, 7, 2, 12, 0, 0, 0, has_year_zero=True),\n",
       "       cftime.DatetimeNoLeap(2067, 7, 2, 12, 0, 0, 0, has_year_zero=True),\n",
       "       cftime.DatetimeNoLeap(2068, 7, 2, 0, 0, 0, 0, has_year_zero=True),\n",
       "       cftime.DatetimeNoLeap(2069, 7, 2, 12, 0, 0, 0, has_year_zero=True),\n",
       "       cftime.DatetimeNoLeap(2070, 7, 2, 12, 0, 0, 0, has_year_zero=True),\n",
       "       cftime.DatetimeNoLeap(2071, 7, 2, 12, 0, 0, 0, has_year_zero=True),\n",
       "       cftime.DatetimeNoLeap(2072, 7, 2, 0, 0, 0, 0, has_year_zero=True),\n",
       "       cftime.DatetimeNoLeap(2073, 7, 2, 12, 0, 0, 0, has_year_zero=True),\n",
       "       cftime.DatetimeNoLeap(2074, 7, 2, 12, 0, 0, 0, has_year_zero=True),\n",
       "       cftime.DatetimeNoLeap(2075, 7, 2, 12, 0, 0, 0, has_year_zero=True),\n",
       "       cftime.DatetimeNoLeap(2076, 7, 2, 0, 0, 0, 0, has_year_zero=True),\n",
       "       cftime.DatetimeNoLeap(2077, 7, 2, 12, 0, 0, 0, has_year_zero=True),\n",
       "       cftime.DatetimeNoLeap(2078, 7, 2, 12, 0, 0, 0, has_year_zero=True),\n",
       "       cftime.DatetimeNoLeap(2079, 7, 2, 12, 0, 0, 0, has_year_zero=True),\n",
       "       cftime.DatetimeNoLeap(2080, 7, 2, 0, 0, 0, 0, has_year_zero=True),\n",
       "       cftime.DatetimeNoLeap(2081, 7, 2, 12, 0, 0, 0, has_year_zero=True),\n",
       "       cftime.DatetimeNoLeap(2082, 7, 2, 12, 0, 0, 0, has_year_zero=True),\n",
       "       cftime.DatetimeNoLeap(2083, 7, 2, 12, 0, 0, 0, has_year_zero=True),\n",
       "       cftime.DatetimeNoLeap(2084, 7, 2, 0, 0, 0, 0, has_year_zero=True),\n",
       "       cftime.DatetimeNoLeap(2085, 7, 2, 12, 0, 0, 0, has_year_zero=True),\n",
       "       cftime.DatetimeNoLeap(2086, 7, 2, 12, 0, 0, 0, has_year_zero=True),\n",
       "       cftime.DatetimeNoLeap(2087, 7, 2, 12, 0, 0, 0, has_year_zero=True),\n",
       "       cftime.DatetimeNoLeap(2088, 7, 2, 0, 0, 0, 0, has_year_zero=True),\n",
       "       cftime.DatetimeNoLeap(2089, 7, 2, 12, 0, 0, 0, has_year_zero=True),\n",
       "       cftime.DatetimeNoLeap(2090, 7, 2, 12, 0, 0, 0, has_year_zero=True),\n",
       "       cftime.DatetimeNoLeap(2091, 7, 2, 12, 0, 0, 0, has_year_zero=True),\n",
       "       cftime.DatetimeNoLeap(2092, 7, 2, 0, 0, 0, 0, has_year_zero=True),\n",
       "       cftime.DatetimeNoLeap(2093, 7, 2, 12, 0, 0, 0, has_year_zero=True),\n",
       "       cftime.DatetimeNoLeap(2094, 7, 2, 12, 0, 0, 0, has_year_zero=True),\n",
       "       cftime.DatetimeNoLeap(2095, 7, 2, 12, 0, 0, 0, has_year_zero=True),\n",
       "       cftime.DatetimeNoLeap(2096, 7, 2, 0, 0, 0, 0, has_year_zero=True),\n",
       "       cftime.DatetimeNoLeap(2097, 7, 2, 12, 0, 0, 0, has_year_zero=True),\n",
       "       cftime.DatetimeNoLeap(2098, 7, 2, 12, 0, 0, 0, has_year_zero=True),\n",
       "       cftime.DatetimeNoLeap(2099, 7, 2, 12, 0, 0, 0, has_year_zero=True),\n",
       "       cftime.DatetimeNoLeap(2100, 7, 2, 12, 0, 0, 0, has_year_zero=True)],\n",
       "      dtype=object)</pre></div></li><li class='xr-var-item'><div class='xr-var-name'><span>time_bnds</span></div><div class='xr-var-dims'>(time, nv)</div><div class='xr-var-dtype'>object</div><div class='xr-var-preview xr-preview'>2007-01-01 00:00:00 ... 2101-01-...</div><input id='attrs-417d8bf5-3ba1-4def-a43a-70cd2eed48a3' class='xr-var-attrs-in' type='checkbox' disabled><label for='attrs-417d8bf5-3ba1-4def-a43a-70cd2eed48a3' title='Show/Hide attributes'><svg class='icon xr-icon-file-text2'><use xlink:href='#icon-file-text2'></use></svg></label><input id='data-7ebb494b-9114-435c-990a-be62b1c4a5b7' class='xr-var-data-in' type='checkbox'><label for='data-7ebb494b-9114-435c-990a-be62b1c4a5b7' title='Show/Hide data repr'><svg class='icon xr-icon-database'><use xlink:href='#icon-database'></use></svg></label><div class='xr-var-attrs'><dl class='xr-attrs'></dl></div><div class='xr-var-data'><pre>array([[cftime.DatetimeNoLeap(2007, 1, 1, 0, 0, 0, 0, has_year_zero=True),\n",
       "        cftime.DatetimeNoLeap(2008, 1, 1, 0, 0, 0, 0, has_year_zero=True)],\n",
       "       [cftime.DatetimeNoLeap(2008, 1, 1, 0, 0, 0, 0, has_year_zero=True),\n",
       "        cftime.DatetimeNoLeap(2009, 1, 1, 0, 0, 0, 0, has_year_zero=True)],\n",
       "       [cftime.DatetimeNoLeap(2009, 1, 1, 0, 0, 0, 0, has_year_zero=True),\n",
       "        cftime.DatetimeNoLeap(2010, 1, 1, 0, 0, 0, 0, has_year_zero=True)],\n",
       "       [cftime.DatetimeNoLeap(2010, 1, 1, 0, 0, 0, 0, has_year_zero=True),\n",
       "        cftime.DatetimeNoLeap(2011, 1, 1, 0, 0, 0, 0, has_year_zero=True)],\n",
       "       [cftime.DatetimeNoLeap(2011, 1, 1, 0, 0, 0, 0, has_year_zero=True),\n",
       "        cftime.DatetimeNoLeap(2012, 1, 1, 0, 0, 0, 0, has_year_zero=True)],\n",
       "       [cftime.DatetimeNoLeap(2012, 1, 1, 0, 0, 0, 0, has_year_zero=True),\n",
       "        cftime.DatetimeNoLeap(2013, 1, 1, 0, 0, 0, 0, has_year_zero=True)],\n",
       "       [cftime.DatetimeNoLeap(2013, 1, 1, 0, 0, 0, 0, has_year_zero=True),\n",
       "        cftime.DatetimeNoLeap(2014, 1, 1, 0, 0, 0, 0, has_year_zero=True)],\n",
       "       [cftime.DatetimeNoLeap(2014, 1, 1, 0, 0, 0, 0, has_year_zero=True),\n",
       "        cftime.DatetimeNoLeap(2015, 1, 1, 0, 0, 0, 0, has_year_zero=True)],\n",
       "       [cftime.DatetimeNoLeap(2015, 1, 1, 0, 0, 0, 0, has_year_zero=True),\n",
       "        cftime.DatetimeNoLeap(2016, 1, 1, 0, 0, 0, 0, has_year_zero=True)],\n",
       "       [cftime.DatetimeNoLeap(2016, 1, 1, 0, 0, 0, 0, has_year_zero=True),\n",
       "        cftime.DatetimeNoLeap(2017, 1, 1, 0, 0, 0, 0, has_year_zero=True)],\n",
       "...\n",
       "        cftime.DatetimeNoLeap(2092, 1, 1, 0, 0, 0, 0, has_year_zero=True)],\n",
       "       [cftime.DatetimeNoLeap(2092, 1, 1, 0, 0, 0, 0, has_year_zero=True),\n",
       "        cftime.DatetimeNoLeap(2093, 1, 1, 0, 0, 0, 0, has_year_zero=True)],\n",
       "       [cftime.DatetimeNoLeap(2093, 1, 1, 0, 0, 0, 0, has_year_zero=True),\n",
       "        cftime.DatetimeNoLeap(2094, 1, 1, 0, 0, 0, 0, has_year_zero=True)],\n",
       "       [cftime.DatetimeNoLeap(2094, 1, 1, 0, 0, 0, 0, has_year_zero=True),\n",
       "        cftime.DatetimeNoLeap(2095, 1, 1, 0, 0, 0, 0, has_year_zero=True)],\n",
       "       [cftime.DatetimeNoLeap(2095, 1, 1, 0, 0, 0, 0, has_year_zero=True),\n",
       "        cftime.DatetimeNoLeap(2096, 1, 1, 0, 0, 0, 0, has_year_zero=True)],\n",
       "       [cftime.DatetimeNoLeap(2096, 1, 1, 0, 0, 0, 0, has_year_zero=True),\n",
       "        cftime.DatetimeNoLeap(2097, 1, 1, 0, 0, 0, 0, has_year_zero=True)],\n",
       "       [cftime.DatetimeNoLeap(2097, 1, 1, 0, 0, 0, 0, has_year_zero=True),\n",
       "        cftime.DatetimeNoLeap(2098, 1, 1, 0, 0, 0, 0, has_year_zero=True)],\n",
       "       [cftime.DatetimeNoLeap(2098, 1, 1, 0, 0, 0, 0, has_year_zero=True),\n",
       "        cftime.DatetimeNoLeap(2099, 1, 1, 0, 0, 0, 0, has_year_zero=True)],\n",
       "       [cftime.DatetimeNoLeap(2099, 1, 1, 0, 0, 0, 0, has_year_zero=True),\n",
       "        cftime.DatetimeNoLeap(2100, 1, 1, 0, 0, 0, 0, has_year_zero=True)],\n",
       "       [cftime.DatetimeNoLeap(2100, 1, 1, 0, 0, 0, 0, has_year_zero=True),\n",
       "        cftime.DatetimeNoLeap(2101, 1, 1, 0, 0, 0, 0, has_year_zero=True)]],\n",
       "      dtype=object)</pre></div></li><li class='xr-var-item'><div class='xr-var-name'><span class='xr-has-index'>lat</span></div><div class='xr-var-dims'>(lat)</div><div class='xr-var-dtype'>float64</div><div class='xr-var-preview xr-preview'>-89.5 -88.5 -87.5 ... 88.5 89.5</div><input id='attrs-99ef29f1-699a-4d87-b6ef-6f61f63e5939' class='xr-var-attrs-in' type='checkbox' ><label for='attrs-99ef29f1-699a-4d87-b6ef-6f61f63e5939' title='Show/Hide attributes'><svg class='icon xr-icon-file-text2'><use xlink:href='#icon-file-text2'></use></svg></label><input id='data-8c918bfc-9aee-40d2-899d-fae2d7d7b683' class='xr-var-data-in' type='checkbox'><label for='data-8c918bfc-9aee-40d2-899d-fae2d7d7b683' title='Show/Hide data repr'><svg class='icon xr-icon-database'><use xlink:href='#icon-database'></use></svg></label><div class='xr-var-attrs'><dl class='xr-attrs'><dt><span>standard_name :</span></dt><dd>latitude</dd><dt><span>long_name :</span></dt><dd>latitude coordinate</dd><dt><span>units :</span></dt><dd>degrees_north</dd><dt><span>axis :</span></dt><dd>Y</dd></dl></div><div class='xr-var-data'><pre>array([-89.5, -88.5, -87.5, -86.5, -85.5, -84.5, -83.5, -82.5, -81.5, -80.5,\n",
       "       -79.5, -78.5, -77.5, -76.5, -75.5, -74.5, -73.5, -72.5, -71.5, -70.5,\n",
       "       -69.5, -68.5, -67.5, -66.5, -65.5, -64.5, -63.5, -62.5, -61.5, -60.5,\n",
       "       -59.5, -58.5, -57.5, -56.5, -55.5, -54.5, -53.5, -52.5, -51.5, -50.5,\n",
       "       -49.5, -48.5, -47.5, -46.5, -45.5, -44.5, -43.5, -42.5, -41.5, -40.5,\n",
       "       -39.5, -38.5, -37.5, -36.5, -35.5, -34.5, -33.5, -32.5, -31.5, -30.5,\n",
       "       -29.5, -28.5, -27.5, -26.5, -25.5, -24.5, -23.5, -22.5, -21.5, -20.5,\n",
       "       -19.5, -18.5, -17.5, -16.5, -15.5, -14.5, -13.5, -12.5, -11.5, -10.5,\n",
       "        -9.5,  -8.5,  -7.5,  -6.5,  -5.5,  -4.5,  -3.5,  -2.5,  -1.5,  -0.5,\n",
       "         0.5,   1.5,   2.5,   3.5,   4.5,   5.5,   6.5,   7.5,   8.5,   9.5,\n",
       "        10.5,  11.5,  12.5,  13.5,  14.5,  15.5,  16.5,  17.5,  18.5,  19.5,\n",
       "        20.5,  21.5,  22.5,  23.5,  24.5,  25.5,  26.5,  27.5,  28.5,  29.5,\n",
       "        30.5,  31.5,  32.5,  33.5,  34.5,  35.5,  36.5,  37.5,  38.5,  39.5,\n",
       "        40.5,  41.5,  42.5,  43.5,  44.5,  45.5,  46.5,  47.5,  48.5,  49.5,\n",
       "        50.5,  51.5,  52.5,  53.5,  54.5,  55.5,  56.5,  57.5,  58.5,  59.5,\n",
       "        60.5,  61.5,  62.5,  63.5,  64.5,  65.5,  66.5,  67.5,  68.5,  69.5,\n",
       "        70.5,  71.5,  72.5,  73.5,  74.5,  75.5,  76.5,  77.5,  78.5,  79.5,\n",
       "        80.5,  81.5,  82.5,  83.5,  84.5,  85.5,  86.5,  87.5,  88.5,  89.5])</pre></div></li><li class='xr-var-item'><div class='xr-var-name'><span class='xr-has-index'>lon</span></div><div class='xr-var-dims'>(lon)</div><div class='xr-var-dtype'>float64</div><div class='xr-var-preview xr-preview'>0.5 1.5 2.5 ... 357.5 358.5 359.5</div><input id='attrs-b9834bc1-4853-4816-a662-b26f16582fab' class='xr-var-attrs-in' type='checkbox' ><label for='attrs-b9834bc1-4853-4816-a662-b26f16582fab' title='Show/Hide attributes'><svg class='icon xr-icon-file-text2'><use xlink:href='#icon-file-text2'></use></svg></label><input id='data-a1bfcad1-9bcf-43a6-a792-b76630e14e41' class='xr-var-data-in' type='checkbox'><label for='data-a1bfcad1-9bcf-43a6-a792-b76630e14e41' title='Show/Hide data repr'><svg class='icon xr-icon-database'><use xlink:href='#icon-database'></use></svg></label><div class='xr-var-attrs'><dl class='xr-attrs'><dt><span>standard_name :</span></dt><dd>longitude</dd><dt><span>long_name :</span></dt><dd>longitude coordinate</dd><dt><span>units :</span></dt><dd>degrees_east</dd><dt><span>axis :</span></dt><dd>X</dd></dl></div><div class='xr-var-data'><pre>array([  0.5,   1.5,   2.5, ..., 357.5, 358.5, 359.5])</pre></div></li><li class='xr-var-item'><div class='xr-var-name'><span>modelname</span></div><div class='xr-var-dims'>(nmodelname)</div><div class='xr-var-dtype'>|S14</div><div class='xr-var-preview xr-preview'>b&#x27;GISS-E2-R&#x27; ... b&#x27;BCC-CSM1-1&#x27;</div><input id='attrs-c8480983-4063-4646-b84c-a373cb61bdd4' class='xr-var-attrs-in' type='checkbox' ><label for='attrs-c8480983-4063-4646-b84c-a373cb61bdd4' title='Show/Hide attributes'><svg class='icon xr-icon-file-text2'><use xlink:href='#icon-file-text2'></use></svg></label><input id='data-47676e47-57d9-493e-a9ea-188712d94ef7' class='xr-var-data-in' type='checkbox'><label for='data-47676e47-57d9-493e-a9ea-188712d94ef7' title='Show/Hide data repr'><svg class='icon xr-icon-database'><use xlink:href='#icon-database'></use></svg></label><div class='xr-var-attrs'><dl class='xr-attrs'><dt><span>long_name :</span></dt><dd>Model names in the same order as in totslr_ens var</dd></dl></div><div class='xr-var-data'><pre>array([b&#x27;GISS-E2-R&#x27;, b&#x27;NorESM1-M&#x27;, b&#x27;MPI-ESM-LR&#x27;, b&#x27;GFDL-ESM2M&#x27;,\n",
       "       b&#x27;MIROC-ESM&#x27;, b&#x27;HadGEM2-ES&#x27;, b&#x27;NorESM1-ME&#x27;, b&#x27;IPSL-CM5A-LR&#x27;,\n",
       "       b&#x27;CSIRO-Mk3-6-0&#x27;, b&#x27;MIROC-ESM-CHEM&#x27;, b&#x27;GFDL-ESM2G&#x27;, b&#x27;MPI-ESM-MR&#x27;,\n",
       "       b&#x27;IPSL-CM5A-MR&#x27;, b&#x27;MRI-CGCM3&#x27;, b&#x27;MIROC5&#x27;, b&#x27;BCC-CSM1-1&#x27;],\n",
       "      dtype=&#x27;|S14&#x27;)</pre></div></li><li class='xr-var-item'><div class='xr-var-name'><span>scenarios</span></div><div class='xr-var-dims'>(nscenarios)</div><div class='xr-var-dtype'>|S5</div><div class='xr-var-preview xr-preview'>b&#x27;RCP26&#x27; b&#x27;RCP45&#x27; b&#x27;RCP85&#x27;</div><input id='attrs-6f05d72d-1989-45da-a64b-59d312ea8150' class='xr-var-attrs-in' type='checkbox' ><label for='attrs-6f05d72d-1989-45da-a64b-59d312ea8150' title='Show/Hide attributes'><svg class='icon xr-icon-file-text2'><use xlink:href='#icon-file-text2'></use></svg></label><input id='data-d00bb6be-cfdb-4021-8ac2-32caa230e137' class='xr-var-data-in' type='checkbox'><label for='data-d00bb6be-cfdb-4021-8ac2-32caa230e137' title='Show/Hide data repr'><svg class='icon xr-icon-database'><use xlink:href='#icon-database'></use></svg></label><div class='xr-var-attrs'><dl class='xr-attrs'><dt><span>long_name :</span></dt><dd>climate scenarios</dd></dl></div><div class='xr-var-data'><pre>array([b&#x27;RCP26&#x27;, b&#x27;RCP45&#x27;, b&#x27;RCP85&#x27;], dtype=&#x27;|S5&#x27;)</pre></div></li></ul></div></li><li class='xr-section-item'><input id='section-5a653247-0a38-4ff9-bacb-9e67ace6aae1' class='xr-section-summary-in' type='checkbox'  checked><label for='section-5a653247-0a38-4ff9-bacb-9e67ace6aae1' class='xr-section-summary' >Data variables: <span>(4)</span></label><div class='xr-section-inline-details'></div><div class='xr-section-details'><ul class='xr-var-list'><li class='xr-var-item'><div class='xr-var-name'><span>totslr_ens</span></div><div class='xr-var-dims'>(nscenarios, time, lat, lon, nmodelname)</div><div class='xr-var-dtype'>float32</div><div class='xr-var-preview xr-preview'>nan nan nan nan ... nan nan nan nan</div><input id='attrs-c89c5178-e4bb-4a9f-b934-9f4f65ccc230' class='xr-var-attrs-in' type='checkbox' ><label for='attrs-c89c5178-e4bb-4a9f-b934-9f4f65ccc230' title='Show/Hide attributes'><svg class='icon xr-icon-file-text2'><use xlink:href='#icon-file-text2'></use></svg></label><input id='data-d8ed2202-37fc-4648-88b9-639d3d89f9d9' class='xr-var-data-in' type='checkbox'><label for='data-d8ed2202-37fc-4648-88b9-639d3d89f9d9' title='Show/Hide data repr'><svg class='icon xr-icon-database'><use xlink:href='#icon-database'></use></svg></label><div class='xr-var-attrs'><dl class='xr-attrs'><dt><span>long_name :</span></dt><dd>RCP2.6 ensemble ssh ts</dd><dt><span>units :</span></dt><dd>m</dd><dt><span>comment :</span></dt><dd>orig. global mean removed; zossga, historical added back in; ocean-only data + jmg ice and groundwater</dd></dl></div><div class='xr-var-data'><pre>array([[[[[            nan,             nan,             nan, ...,\n",
       "                       nan,             nan,             nan],\n",
       "          [            nan,             nan,             nan, ...,\n",
       "                       nan,             nan,             nan],\n",
       "          [            nan,             nan,             nan, ...,\n",
       "                       nan,             nan,             nan],\n",
       "          ...,\n",
       "          [            nan,             nan,             nan, ...,\n",
       "                       nan,             nan,             nan],\n",
       "          [            nan,             nan,             nan, ...,\n",
       "                       nan,             nan,             nan],\n",
       "          [            nan,             nan,             nan, ...,\n",
       "                       nan,             nan,             nan]],\n",
       "\n",
       "         [[            nan,             nan,             nan, ...,\n",
       "                       nan,             nan,             nan],\n",
       "          [            nan,             nan,             nan, ...,\n",
       "                       nan,             nan,             nan],\n",
       "          [            nan,             nan,             nan, ...,\n",
       "                       nan,             nan,             nan],\n",
       "...\n",
       "            3.49677593e-01,  3.26468885e-01,  4.29675698e-01],\n",
       "          [ 3.17555219e-01,  4.48137134e-01,  5.69718957e-01, ...,\n",
       "            3.50716114e-01,  3.27854037e-01,  4.30383533e-01],\n",
       "          [ 3.19531828e-01,  4.49600488e-01,  5.72545350e-01, ...,\n",
       "            3.52161288e-01,  3.29641581e-01,  4.31451857e-01]],\n",
       "\n",
       "         [[            nan,             nan,             nan, ...,\n",
       "                       nan,             nan,             nan],\n",
       "          [            nan,             nan,             nan, ...,\n",
       "                       nan,             nan,             nan],\n",
       "          [            nan,             nan,             nan, ...,\n",
       "                       nan,             nan,             nan],\n",
       "          ...,\n",
       "          [            nan,             nan,             nan, ...,\n",
       "                       nan,             nan,             nan],\n",
       "          [            nan,             nan,             nan, ...,\n",
       "                       nan,             nan,             nan],\n",
       "          [            nan,             nan,             nan, ...,\n",
       "                       nan,             nan,             nan]]]]],\n",
       "      dtype=float32)</pre></div></li><li class='xr-var-item'><div class='xr-var-name'><span>totslr</span></div><div class='xr-var-dims'>(nscenarios, time, lat, lon)</div><div class='xr-var-dtype'>float32</div><div class='xr-var-preview xr-preview'>nan nan nan nan ... nan nan nan nan</div><input id='attrs-f8754e64-5f0b-48b0-a3ae-3559a2954d4e' class='xr-var-attrs-in' type='checkbox' ><label for='attrs-f8754e64-5f0b-48b0-a3ae-3559a2954d4e' title='Show/Hide attributes'><svg class='icon xr-icon-file-text2'><use xlink:href='#icon-file-text2'></use></svg></label><input id='data-5527a688-c487-4fbb-9cd9-822f1f6b2742' class='xr-var-data-in' type='checkbox'><label for='data-5527a688-c487-4fbb-9cd9-822f1f6b2742' title='Show/Hide data repr'><svg class='icon xr-icon-database'><use xlink:href='#icon-database'></use></svg></label><div class='xr-var-attrs'><dl class='xr-attrs'><dt><span>long_name :</span></dt><dd>total RCP2.6 ensemble mean ssh ts</dd><dt><span>units :</span></dt><dd>m</dd><dt><span>comment :</span></dt><dd>orig. global mean removed; zossga, historical added back in; ocean-only data + jmg ice and groundwater</dd></dl></div><div class='xr-var-data'><pre>array([[[[       nan,        nan,        nan, ...,        nan,\n",
       "                 nan,        nan],\n",
       "         [       nan,        nan,        nan, ...,        nan,\n",
       "                 nan,        nan],\n",
       "         [       nan,        nan,        nan, ...,        nan,\n",
       "                 nan,        nan],\n",
       "         ...,\n",
       "         [0.0455741 , 0.04561494, 0.04557919, ..., 0.04549273,\n",
       "          0.04558763, 0.04566004],\n",
       "         [0.04155973, 0.04145543, 0.04129333, ..., 0.04188512,\n",
       "          0.04189255, 0.04188345],\n",
       "         [       nan,        nan,        nan, ...,        nan,\n",
       "                 nan,        nan]],\n",
       "\n",
       "        [[       nan,        nan,        nan, ...,        nan,\n",
       "                 nan,        nan],\n",
       "         [       nan,        nan,        nan, ...,        nan,\n",
       "                 nan,        nan],\n",
       "         [       nan,        nan,        nan, ...,        nan,\n",
       "                 nan,        nan],\n",
       "...\n",
       "         [0.437698  , 0.43822518, 0.4391967 , ..., 0.43433833,\n",
       "          0.43529534, 0.43739384],\n",
       "         [0.46138722, 0.46094495, 0.4598778 , ..., 0.45952588,\n",
       "          0.46010062, 0.46137086],\n",
       "         [       nan,        nan,        nan, ...,        nan,\n",
       "                 nan,        nan]],\n",
       "\n",
       "        [[       nan,        nan,        nan, ...,        nan,\n",
       "                 nan,        nan],\n",
       "         [       nan,        nan,        nan, ...,        nan,\n",
       "                 nan,        nan],\n",
       "         [       nan,        nan,        nan, ...,        nan,\n",
       "                 nan,        nan],\n",
       "         ...,\n",
       "         [0.44341448, 0.44424272, 0.44541386, ..., 0.4389884 ,\n",
       "          0.4407277 , 0.44346845],\n",
       "         [0.4657502 , 0.4656641 , 0.4641501 , ..., 0.46423078,\n",
       "          0.46502608, 0.46626613],\n",
       "         [       nan,        nan,        nan, ...,        nan,\n",
       "                 nan,        nan]]]], dtype=float32)</pre></div></li><li class='xr-var-item'><div class='xr-var-name'><span>loerr</span></div><div class='xr-var-dims'>(nscenarios, time, lat, lon)</div><div class='xr-var-dtype'>float32</div><div class='xr-var-preview xr-preview'>nan nan nan nan ... nan nan nan nan</div><input id='attrs-c84f1cee-edb7-41c3-a662-414457a31d81' class='xr-var-attrs-in' type='checkbox' ><label for='attrs-c84f1cee-edb7-41c3-a662-414457a31d81' title='Show/Hide attributes'><svg class='icon xr-icon-file-text2'><use xlink:href='#icon-file-text2'></use></svg></label><input id='data-90af7da4-2a6f-4b0d-b4a4-6dcfa366f412' class='xr-var-data-in' type='checkbox'><label for='data-90af7da4-2a6f-4b0d-b4a4-6dcfa366f412' title='Show/Hide data repr'><svg class='icon xr-icon-database'><use xlink:href='#icon-database'></use></svg></label><div class='xr-var-attrs'><dl class='xr-attrs'><dt><span>long_name :</span></dt><dd>RCP2.6 5% uncertainty ssh ts</dd><dt><span>units :</span></dt><dd>m</dd><dt><span>comment :</span></dt><dd>orig. global mean removed; zossga, historical added back in; ocean-only data + jmg ice and groundwater</dd></dl></div><div class='xr-var-data'><pre>array([[[[        nan,         nan,         nan, ...,         nan,\n",
       "                  nan,         nan],\n",
       "         [        nan,         nan,         nan, ...,         nan,\n",
       "                  nan,         nan],\n",
       "         [        nan,         nan,         nan, ...,         nan,\n",
       "                  nan,         nan],\n",
       "         ...,\n",
       "         [-0.02127824, -0.0213043 , -0.0215933 , ..., -0.0204746 ,\n",
       "          -0.02056034, -0.02054567],\n",
       "         [-0.01991306, -0.01986303, -0.01999669, ..., -0.01964312,\n",
       "          -0.01956466, -0.01954124],\n",
       "         [        nan,         nan,         nan, ...,         nan,\n",
       "                  nan,         nan]],\n",
       "\n",
       "        [[        nan,         nan,         nan, ...,         nan,\n",
       "                  nan,         nan],\n",
       "         [        nan,         nan,         nan, ...,         nan,\n",
       "                  nan,         nan],\n",
       "         [        nan,         nan,         nan, ...,         nan,\n",
       "                  nan,         nan],\n",
       "...\n",
       "         [-0.16672309, -0.16522394, -0.16431972, ..., -0.16992873,\n",
       "          -0.1684951 , -0.16589403],\n",
       "         [-0.15230508, -0.15196171, -0.15268528, ..., -0.15407372,\n",
       "          -0.15314344, -0.15175788],\n",
       "         [        nan,         nan,         nan, ...,         nan,\n",
       "                  nan,         nan]],\n",
       "\n",
       "        [[        nan,         nan,         nan, ...,         nan,\n",
       "                  nan,         nan],\n",
       "         [        nan,         nan,         nan, ...,         nan,\n",
       "                  nan,         nan],\n",
       "         [        nan,         nan,         nan, ...,         nan,\n",
       "                  nan,         nan],\n",
       "         ...,\n",
       "         [-0.19636966, -0.1953231 , -0.19421747, ..., -0.20074144,\n",
       "          -0.19888225, -0.19568194],\n",
       "         [-0.17892346, -0.1786893 , -0.1801046 , ..., -0.18064229,\n",
       "          -0.17976928, -0.17844707],\n",
       "         [        nan,         nan,         nan, ...,         nan,\n",
       "                  nan,         nan]]]], dtype=float32)</pre></div></li><li class='xr-var-item'><div class='xr-var-name'><span>hierr</span></div><div class='xr-var-dims'>(nscenarios, time, lat, lon)</div><div class='xr-var-dtype'>float32</div><div class='xr-var-preview xr-preview'>nan nan nan nan ... nan nan nan nan</div><input id='attrs-c9c5abee-9aab-46d4-ba43-e6506aa873f5' class='xr-var-attrs-in' type='checkbox' ><label for='attrs-c9c5abee-9aab-46d4-ba43-e6506aa873f5' title='Show/Hide attributes'><svg class='icon xr-icon-file-text2'><use xlink:href='#icon-file-text2'></use></svg></label><input id='data-dc8da8cc-4c2d-41ac-bf53-114433725a88' class='xr-var-data-in' type='checkbox'><label for='data-dc8da8cc-4c2d-41ac-bf53-114433725a88' title='Show/Hide data repr'><svg class='icon xr-icon-database'><use xlink:href='#icon-database'></use></svg></label><div class='xr-var-attrs'><dl class='xr-attrs'><dt><span>long_name :</span></dt><dd>RCP2.6 95% uncertainty ssh ts</dd><dt><span>units :</span></dt><dd>m</dd><dt><span>comment :</span></dt><dd>orig. global mean removed; zossga, historical added back in; ocean-only data + jmg ice and groundwater</dd></dl></div><div class='xr-var-data'><pre>array([[[[       nan,        nan,        nan, ...,        nan,\n",
       "                 nan,        nan],\n",
       "         [       nan,        nan,        nan, ...,        nan,\n",
       "                 nan,        nan],\n",
       "         [       nan,        nan,        nan, ...,        nan,\n",
       "                 nan,        nan],\n",
       "         ...,\n",
       "         [0.11252499, 0.11263151, 0.11284778, ..., 0.11156213,\n",
       "          0.11183652, 0.1119655 ],\n",
       "         [0.10311058, 0.10285143, 0.10266031, ..., 0.10349306,\n",
       "          0.10342892, 0.10338674],\n",
       "         [       nan,        nan,        nan, ...,        nan,\n",
       "                 nan,        nan]],\n",
       "\n",
       "        [[       nan,        nan,        nan, ...,        nan,\n",
       "                 nan,        nan],\n",
       "         [       nan,        nan,        nan, ...,        nan,\n",
       "                 nan,        nan],\n",
       "         [       nan,        nan,        nan, ...,        nan,\n",
       "                 nan,        nan],\n",
       "...\n",
       "         [1.1418867 , 1.1405321 , 1.140659  , ..., 1.1410086 ,\n",
       "          1.1406195 , 1.1413287 ],\n",
       "         [1.1591828 , 1.157534  , 1.1556998 , ..., 1.1584815 ,\n",
       "          1.1582817 , 1.1590093 ],\n",
       "         [       nan,        nan,        nan, ...,        nan,\n",
       "                 nan,        nan]],\n",
       "\n",
       "        [[       nan,        nan,        nan, ...,        nan,\n",
       "                 nan,        nan],\n",
       "         [       nan,        nan,        nan, ...,        nan,\n",
       "                 nan,        nan],\n",
       "         [       nan,        nan,        nan, ...,        nan,\n",
       "                 nan,        nan],\n",
       "         ...,\n",
       "         [1.186549  , 1.1862228 , 1.186516  , ..., 1.1847955 ,\n",
       "          1.1855184 , 1.1868833 ],\n",
       "         [1.1975597 , 1.1967202 , 1.1946703 , ..., 1.1975368 ,\n",
       "          1.1978233 , 1.1985402 ],\n",
       "         [       nan,        nan,        nan, ...,        nan,\n",
       "                 nan,        nan]]]], dtype=float32)</pre></div></li></ul></div></li><li class='xr-section-item'><input id='section-7c2e6443-5cc3-490c-acff-c689e2cf12f2' class='xr-section-summary-in' type='checkbox'  ><label for='section-7c2e6443-5cc3-490c-acff-c689e2cf12f2' class='xr-section-summary' >Indexes: <span>(3)</span></label><div class='xr-section-inline-details'></div><div class='xr-section-details'><ul class='xr-var-list'><li class='xr-var-item'><div class='xr-index-name'><div>time</div></div><div class='xr-index-preview'>PandasIndex</div><div></div><input id='index-e8d2acb2-bb7b-4cdc-993b-3f39bc73660c' class='xr-index-data-in' type='checkbox'/><label for='index-e8d2acb2-bb7b-4cdc-993b-3f39bc73660c' title='Show/Hide index repr'><svg class='icon xr-icon-database'><use xlink:href='#icon-database'></use></svg></label><div class='xr-index-data'><pre>PandasIndex(CFTimeIndex([2007-07-02 12:00:00, 2008-07-02 00:00:00, 2009-07-02 12:00:00,\n",
       "             2010-07-02 12:00:00, 2011-07-02 12:00:00, 2012-07-02 00:00:00,\n",
       "             2013-07-02 12:00:00, 2014-07-02 12:00:00, 2015-07-02 12:00:00,\n",
       "             2016-07-02 00:00:00, 2017-07-02 12:00:00, 2018-07-02 12:00:00,\n",
       "             2019-07-02 12:00:00, 2020-07-02 00:00:00, 2021-07-02 12:00:00,\n",
       "             2022-07-02 12:00:00, 2023-07-02 12:00:00, 2024-07-02 00:00:00,\n",
       "             2025-07-02 12:00:00, 2026-07-02 12:00:00, 2027-07-02 12:00:00,\n",
       "             2028-07-02 00:00:00, 2029-07-02 12:00:00, 2030-07-02 12:00:00,\n",
       "             2031-07-02 12:00:00, 2032-07-02 00:00:00, 2033-07-02 12:00:00,\n",
       "             2034-07-02 12:00:00, 2035-07-02 12:00:00, 2036-07-02 00:00:00,\n",
       "             2037-07-02 12:00:00, 2038-07-02 12:00:00, 2039-07-02 12:00:00,\n",
       "             2040-07-02 00:00:00, 2041-07-02 12:00:00, 2042-07-02 12:00:00,\n",
       "             2043-07-02 12:00:00, 2044-07-02 00:00:00, 2045-07-02 12:00:00,\n",
       "             2046-07-02 12:00:00, 2047-07-02 12:00:00, 2048-07-02 00:00:00,\n",
       "             2049-07-02 12:00:00, 2050-07-02 12:00:00, 2051-07-02 12:00:00,\n",
       "             2052-07-02 00:00:00, 2053-07-02 12:00:00, 2054-07-02 12:00:00,\n",
       "             2055-07-02 12:00:00, 2056-07-02 00:00:00, 2057-07-02 12:00:00,\n",
       "             2058-07-02 12:00:00, 2059-07-02 12:00:00, 2060-07-02 00:00:00,\n",
       "             2061-07-02 12:00:00, 2062-07-02 12:00:00, 2063-07-02 12:00:00,\n",
       "             2064-07-02 00:00:00, 2065-07-02 12:00:00, 2066-07-02 12:00:00,\n",
       "             2067-07-02 12:00:00, 2068-07-02 00:00:00, 2069-07-02 12:00:00,\n",
       "             2070-07-02 12:00:00, 2071-07-02 12:00:00, 2072-07-02 00:00:00,\n",
       "             2073-07-02 12:00:00, 2074-07-02 12:00:00, 2075-07-02 12:00:00,\n",
       "             2076-07-02 00:00:00, 2077-07-02 12:00:00, 2078-07-02 12:00:00,\n",
       "             2079-07-02 12:00:00, 2080-07-02 00:00:00, 2081-07-02 12:00:00,\n",
       "             2082-07-02 12:00:00, 2083-07-02 12:00:00, 2084-07-02 00:00:00,\n",
       "             2085-07-02 12:00:00, 2086-07-02 12:00:00, 2087-07-02 12:00:00,\n",
       "             2088-07-02 00:00:00, 2089-07-02 12:00:00, 2090-07-02 12:00:00,\n",
       "             2091-07-02 12:00:00, 2092-07-02 00:00:00, 2093-07-02 12:00:00,\n",
       "             2094-07-02 12:00:00, 2095-07-02 12:00:00, 2096-07-02 00:00:00,\n",
       "             2097-07-02 12:00:00, 2098-07-02 12:00:00, 2099-07-02 12:00:00,\n",
       "             2100-07-02 12:00:00],\n",
       "            dtype=&#x27;object&#x27;, length=94, calendar=&#x27;noleap&#x27;, freq=&#x27;None&#x27;))</pre></div></li><li class='xr-var-item'><div class='xr-index-name'><div>lat</div></div><div class='xr-index-preview'>PandasIndex</div><div></div><input id='index-61afeafe-8422-48fd-abdc-a568320f784e' class='xr-index-data-in' type='checkbox'/><label for='index-61afeafe-8422-48fd-abdc-a568320f784e' title='Show/Hide index repr'><svg class='icon xr-icon-database'><use xlink:href='#icon-database'></use></svg></label><div class='xr-index-data'><pre>PandasIndex(Float64Index([-89.5, -88.5, -87.5, -86.5, -85.5, -84.5, -83.5, -82.5, -81.5,\n",
       "              -80.5,\n",
       "              ...\n",
       "               80.5,  81.5,  82.5,  83.5,  84.5,  85.5,  86.5,  87.5,  88.5,\n",
       "               89.5],\n",
       "             dtype=&#x27;float64&#x27;, name=&#x27;lat&#x27;, length=180))</pre></div></li><li class='xr-var-item'><div class='xr-index-name'><div>lon</div></div><div class='xr-index-preview'>PandasIndex</div><div></div><input id='index-531fa899-a205-4d30-a2b9-690745447b78' class='xr-index-data-in' type='checkbox'/><label for='index-531fa899-a205-4d30-a2b9-690745447b78' title='Show/Hide index repr'><svg class='icon xr-icon-database'><use xlink:href='#icon-database'></use></svg></label><div class='xr-index-data'><pre>PandasIndex(Float64Index([  0.5,   1.5,   2.5,   3.5,   4.5,   5.5,   6.5,   7.5,   8.5,\n",
       "                9.5,\n",
       "              ...\n",
       "              350.5, 351.5, 352.5, 353.5, 354.5, 355.5, 356.5, 357.5, 358.5,\n",
       "              359.5],\n",
       "             dtype=&#x27;float64&#x27;, name=&#x27;lon&#x27;, length=360))</pre></div></li></ul></div></li><li class='xr-section-item'><input id='section-14736f56-0a3a-4c5f-a92d-1cbcd006e0d7' class='xr-section-summary-in' type='checkbox'  checked><label for='section-14736f56-0a3a-4c5f-a92d-1cbcd006e0d7' class='xr-section-summary' >Attributes: <span>(8)</span></label><div class='xr-section-inline-details'></div><div class='xr-section-details'><dl class='xr-attrs'><dt><span>history :</span></dt><dd>version 5, 27-March-2014</dd><dt><span>contact :</span></dt><dd>mark.carson@zmaw.de</dd><dt><span>references :</span></dt><dd>Chapter 13 paper: Church, J. A., P. Clark, A. Cazenave, J. Gregory, S. Jevrejeva, A. Levermann, M. Merrifield, G. Milne, R.S.Nerem, P. Nunn, A. Payne, W. Pfeffer, D. Stammer, and A. Unnikrishnan (2013), Sea level change, in Climate Change 2013: The Physical Science Basis, edited by T. F. Stocker, D. Qin, G.-K. Plattner, M. Tignor, S. Allen, J. Boschung, A. Nauels, Y. Xia, V. Bex, and P. Midgley, Cambridge University Press, Cambridge, UK and New York, NY. USA.</dd><dt><span>Conventions :</span></dt><dd>CF-1.8</dd><dt><span>crs :</span></dt><dd>4326</dd><dt><span>title :</span></dt><dd>Sea level rise from AR5</dd><dt><span>institution :</span></dt><dd>Institute of Oceanography / CEN / University of Hamburg</dd><dt><span>comment :</span></dt><dd>Here are the files which contain the ocean and ice components, sums and uncertainties as used in preparing the IPCC AR5 report (2014), with some slight modifications.  One small choice I made here was to combine the ocean and inverse barometer effect into one field, both for the mean and the uncertainty.  I also have provided better smoothed maps for the *time series* (the 20-mean-difference maps are the same as in the report).  This actually shouldn&#x27;t be the cause for any difference in the report figures, as I didn&#x27;t use this field for anything but the coastal stations in Fig. 13.23, and they have the same interpolation scheme at the coast now, just a better interpolation scheme in the open ocean (bilinear; not shown in any figure in the report). \n",
       "One thing to note: I made a choice as to how to provide the 5% and 95% (upper and lower 90 %% confidence interval) uncertainty estimates for the various fields.  I have provided the maps of these similar to the way Jonathan Gregory provided the time series to me, as the individual component upper and lower bounds. However, to combine these errors in the same way as in the report, you will need to take the difference between the upper bound and the middle value (for combining the upper uncertainty total estimate) or the lower bound and middle value (for combining the lower uncertainty total estimate), and use the formula shown in the Supplementary Material for Chapter 13 of the AR5 (SM13) - minus the IBE which is combined with the ocean field here.</dd></dl></div></li></ul></div></div>"
      ],
      "text/plain": [
       "<xarray.Dataset>\n",
       "Dimensions:     (time: 94, nv: 2, lat: 180, lon: 360, nscenarios: 3,\n",
       "                 nmodelname: 16)\n",
       "Coordinates:\n",
       "  * time        (time) object 2007-07-02 12:00:00 ... 2100-07-02 12:00:00\n",
       "    time_bnds   (time, nv) object 2007-01-01 00:00:00 ... 2101-01-01 00:00:00\n",
       "  * lat         (lat) float64 -89.5 -88.5 -87.5 -86.5 ... 86.5 87.5 88.5 89.5\n",
       "  * lon         (lon) float64 0.5 1.5 2.5 3.5 4.5 ... 356.5 357.5 358.5 359.5\n",
       "    modelname   (nmodelname) |S14 b'GISS-E2-R' b'NorESM1-M' ... b'BCC-CSM1-1'\n",
       "    scenarios   (nscenarios) |S5 b'RCP26' b'RCP45' b'RCP85'\n",
       "Dimensions without coordinates: nv, nscenarios, nmodelname\n",
       "Data variables:\n",
       "    totslr_ens  (nscenarios, time, lat, lon, nmodelname) float32 nan nan ... nan\n",
       "    totslr      (nscenarios, time, lat, lon) float32 nan nan nan ... nan nan nan\n",
       "    loerr       (nscenarios, time, lat, lon) float32 nan nan nan ... nan nan nan\n",
       "    hierr       (nscenarios, time, lat, lon) float32 nan nan nan ... nan nan nan\n",
       "Attributes:\n",
       "    history:      version 5, 27-March-2014\n",
       "    contact:      mark.carson@zmaw.de\n",
       "    references:   Chapter 13 paper: Church, J. A., P. Clark, A. Cazenave, J. ...\n",
       "    Conventions:  CF-1.8\n",
       "    crs:          4326\n",
       "    title:        Sea level rise from AR5\n",
       "    institution:  Institute of Oceanography / CEN / University of Hamburg\n",
       "    comment:      Here are the files which contain the ocean and ice componen..."
      ]
     },
     "execution_count": 15,
     "metadata": {},
     "output_type": "execute_result"
    },
    {
     "data": {
      "application/javascript": "\n            setTimeout(function() {\n                var nbb_cell_id = 15;\n                var nbb_unformatted_code = \"# check the xarray dataset, best practice is to have as many as possible bold dimensions (dimension == coordinate name).\\n# in this way, the Front-End can access the variable directly without having to index the variable first\\n\\ndataset\\n# dataset[\\\"nscenarios\\\"]\";\n                var nbb_formatted_code = \"# check the xarray dataset, best practice is to have as many as possible bold dimensions (dimension == coordinate name).\\n# in this way, the Front-End can access the variable directly without having to index the variable first\\n\\ndataset\\n# dataset[\\\"nscenarios\\\"]\";\n                var nbb_cells = Jupyter.notebook.get_cells();\n                for (var i = 0; i < nbb_cells.length; ++i) {\n                    if (nbb_cells[i].input_prompt_number == nbb_cell_id) {\n                        if (nbb_cells[i].get_text() == nbb_unformatted_code) {\n                             nbb_cells[i].set_text(nbb_formatted_code);\n                        }\n                        break;\n                    }\n                }\n            }, 500);\n            ",
      "text/plain": [
       "<IPython.core.display.Javascript object>"
      ]
     },
     "metadata": {},
     "output_type": "display_data"
    }
   ],
   "source": [
    "# check the xarray dataset, best practice is to have as many as possible bold dimensions (dimension == coordinate name).\n",
    "# in this way, the Front-End can access the variable directly without having to index the variable first\n",
    "\n",
    "dataset\n",
    "# dataset[\"nscenarios\"]"
   ]
  },
  {
   "cell_type": "code",
   "execution_count": 16,
   "id": "54b51c64",
   "metadata": {},
   "outputs": [
    {
     "data": {
      "application/javascript": "\n            setTimeout(function() {\n                var nbb_cell_id = 16;\n                var nbb_unformatted_code = \"# save new .nc files\\nds_26rcp.to_netcdf(path=str(ds_rcp26_path).replace(\\\".nc\\\", \\\"_CF.nc\\\"))\\nds_45rcp.to_netcdf(path=str(ds_rcp45_path).replace(\\\".nc\\\", \\\"_CF.nc\\\"))\\nds_85rcp.to_netcdf(path=str(ds_rcp85_path).replace(\\\".nc\\\", \\\"_CF.nc\\\"))\\ndataset.to_netcdf(path=ds_dir.joinpath(ds_out_file + \\\"_CF.nc\\\"))\";\n                var nbb_formatted_code = \"# save new .nc files\\nds_26rcp.to_netcdf(path=str(ds_rcp26_path).replace(\\\".nc\\\", \\\"_CF.nc\\\"))\\nds_45rcp.to_netcdf(path=str(ds_rcp45_path).replace(\\\".nc\\\", \\\"_CF.nc\\\"))\\nds_85rcp.to_netcdf(path=str(ds_rcp85_path).replace(\\\".nc\\\", \\\"_CF.nc\\\"))\\ndataset.to_netcdf(path=ds_dir.joinpath(ds_out_file + \\\"_CF.nc\\\"))\";\n                var nbb_cells = Jupyter.notebook.get_cells();\n                for (var i = 0; i < nbb_cells.length; ++i) {\n                    if (nbb_cells[i].input_prompt_number == nbb_cell_id) {\n                        if (nbb_cells[i].get_text() == nbb_unformatted_code) {\n                             nbb_cells[i].set_text(nbb_formatted_code);\n                        }\n                        break;\n                    }\n                }\n            }, 500);\n            ",
      "text/plain": [
       "<IPython.core.display.Javascript object>"
      ]
     },
     "metadata": {},
     "output_type": "display_data"
    }
   ],
   "source": [
    "# save new .nc files\n",
    "ds_26rcp.to_netcdf(path=str(ds_rcp26_path).replace(\".nc\", \"_CF.nc\"))\n",
    "ds_45rcp.to_netcdf(path=str(ds_rcp45_path).replace(\".nc\", \"_CF.nc\"))\n",
    "ds_85rcp.to_netcdf(path=str(ds_rcp85_path).replace(\".nc\", \"_CF.nc\"))\n",
    "dataset.to_netcdf(path=ds_dir.joinpath(ds_out_file + \"_CF.nc\"))"
   ]
  },
  {
   "cell_type": "markdown",
   "id": "f4db3707",
   "metadata": {},
   "source": [
    "### Check CF compliancy altered NetCDF files"
   ]
  },
  {
   "cell_type": "code",
   "execution_count": 17,
   "id": "088dca7e",
   "metadata": {},
   "outputs": [
    {
     "data": {
      "application/javascript": "\n            setTimeout(function() {\n                var nbb_cell_id = 17;\n                var nbb_unformatted_code = \"%%capture cap --no-stderr\\n# check altered CF compliancy\\n\\ncheck_compliancy(testfile=str(ds_rcp26_path).replace(\\\".nc\\\", \\\"_CF.nc\\\"), working_dir=CF_dir)\";\n                var nbb_formatted_code = \"%%capture cap --no-stderr\\n# check altered CF compliancy\\n\\ncheck_compliancy(testfile=str(ds_rcp26_path).replace(\\\".nc\\\", \\\"_CF.nc\\\"), working_dir=CF_dir)\";\n                var nbb_cells = Jupyter.notebook.get_cells();\n                for (var i = 0; i < nbb_cells.length; ++i) {\n                    if (nbb_cells[i].input_prompt_number == nbb_cell_id) {\n                        if (nbb_cells[i].get_text() == nbb_unformatted_code) {\n                             nbb_cells[i].set_text(nbb_formatted_code);\n                        }\n                        break;\n                    }\n                }\n            }, 500);\n            ",
      "text/plain": [
       "<IPython.core.display.Javascript object>"
      ]
     },
     "metadata": {},
     "output_type": "display_data"
    }
   ],
   "source": [
    "%%capture cap --no-stderr\n",
    "# check altered CF compliancy\n",
    "\n",
    "check_compliancy(testfile=str(ds_rcp26_path).replace(\".nc\", \"_CF.nc\"), working_dir=CF_dir)"
   ]
  },
  {
   "cell_type": "code",
   "execution_count": 18,
   "id": "a9ab416b",
   "metadata": {},
   "outputs": [
    {
     "name": "stdout",
     "output_type": "stream",
     "text": [
      "{'P:\\\\11205479-coclico\\\\FASTTRACK_DATA\\\\18_AR5_SLP_IPCC\\\\total-ens-slr-26-5_CF.nc': {'warnings': '0', 'errors': '0'}}\n"
     ]
    },
    {
     "data": {
      "application/javascript": "\n            setTimeout(function() {\n                var nbb_cell_id = 18;\n                var nbb_unformatted_code = \"# save altered CF compliancy\\nsave_compliancy(\\n    cap, testfile=str(ds_rcp26_path).replace(\\\".nc\\\", \\\"_CF.nc\\\"), working_dir=CF_dir,\\n)\";\n                var nbb_formatted_code = \"# save altered CF compliancy\\nsave_compliancy(\\n    cap,\\n    testfile=str(ds_rcp26_path).replace(\\\".nc\\\", \\\"_CF.nc\\\"),\\n    working_dir=CF_dir,\\n)\";\n                var nbb_cells = Jupyter.notebook.get_cells();\n                for (var i = 0; i < nbb_cells.length; ++i) {\n                    if (nbb_cells[i].input_prompt_number == nbb_cell_id) {\n                        if (nbb_cells[i].get_text() == nbb_unformatted_code) {\n                             nbb_cells[i].set_text(nbb_formatted_code);\n                        }\n                        break;\n                    }\n                }\n            }, 500);\n            ",
      "text/plain": [
       "<IPython.core.display.Javascript object>"
      ]
     },
     "metadata": {},
     "output_type": "display_data"
    }
   ],
   "source": [
    "# save altered CF compliancy\n",
    "save_compliancy(\n",
    "    cap, testfile=str(ds_rcp26_path).replace(\".nc\", \"_CF.nc\"), working_dir=CF_dir,\n",
    ")"
   ]
  },
  {
   "cell_type": "code",
   "execution_count": 19,
   "id": "e95bd5b5",
   "metadata": {},
   "outputs": [
    {
     "data": {
      "application/javascript": "\n            setTimeout(function() {\n                var nbb_cell_id = 19;\n                var nbb_unformatted_code = \"%%capture cap --no-stderr\\n# check altered CF compliancy\\n\\ncheck_compliancy(testfile=str(ds_rcp45_path).replace(\\\".nc\\\", \\\"_CF.nc\\\"), working_dir=CF_dir)\";\n                var nbb_formatted_code = \"%%capture cap --no-stderr\\n# check altered CF compliancy\\n\\ncheck_compliancy(testfile=str(ds_rcp45_path).replace(\\\".nc\\\", \\\"_CF.nc\\\"), working_dir=CF_dir)\";\n                var nbb_cells = Jupyter.notebook.get_cells();\n                for (var i = 0; i < nbb_cells.length; ++i) {\n                    if (nbb_cells[i].input_prompt_number == nbb_cell_id) {\n                        if (nbb_cells[i].get_text() == nbb_unformatted_code) {\n                             nbb_cells[i].set_text(nbb_formatted_code);\n                        }\n                        break;\n                    }\n                }\n            }, 500);\n            ",
      "text/plain": [
       "<IPython.core.display.Javascript object>"
      ]
     },
     "metadata": {},
     "output_type": "display_data"
    }
   ],
   "source": [
    "%%capture cap --no-stderr\n",
    "# check altered CF compliancy\n",
    "\n",
    "check_compliancy(testfile=str(ds_rcp45_path).replace(\".nc\", \"_CF.nc\"), working_dir=CF_dir)"
   ]
  },
  {
   "cell_type": "code",
   "execution_count": 20,
   "id": "213576cb",
   "metadata": {},
   "outputs": [
    {
     "name": "stdout",
     "output_type": "stream",
     "text": [
      "{'P:\\\\11205479-coclico\\\\FASTTRACK_DATA\\\\18_AR5_SLP_IPCC\\\\total-ens-slr-45-5_CF.nc': {'warnings': '0', 'errors': '0'}}\n"
     ]
    },
    {
     "data": {
      "application/javascript": "\n            setTimeout(function() {\n                var nbb_cell_id = 20;\n                var nbb_unformatted_code = \"# save altered CF compliancy\\nsave_compliancy(\\n    cap, testfile=str(ds_rcp45_path).replace(\\\".nc\\\", \\\"_CF.nc\\\"), working_dir=CF_dir,\\n)\";\n                var nbb_formatted_code = \"# save altered CF compliancy\\nsave_compliancy(\\n    cap,\\n    testfile=str(ds_rcp45_path).replace(\\\".nc\\\", \\\"_CF.nc\\\"),\\n    working_dir=CF_dir,\\n)\";\n                var nbb_cells = Jupyter.notebook.get_cells();\n                for (var i = 0; i < nbb_cells.length; ++i) {\n                    if (nbb_cells[i].input_prompt_number == nbb_cell_id) {\n                        if (nbb_cells[i].get_text() == nbb_unformatted_code) {\n                             nbb_cells[i].set_text(nbb_formatted_code);\n                        }\n                        break;\n                    }\n                }\n            }, 500);\n            ",
      "text/plain": [
       "<IPython.core.display.Javascript object>"
      ]
     },
     "metadata": {},
     "output_type": "display_data"
    }
   ],
   "source": [
    "# save altered CF compliancy\n",
    "save_compliancy(\n",
    "    cap, testfile=str(ds_rcp45_path).replace(\".nc\", \"_CF.nc\"), working_dir=CF_dir,\n",
    ")"
   ]
  },
  {
   "cell_type": "code",
   "execution_count": 21,
   "id": "55fb58d8",
   "metadata": {},
   "outputs": [
    {
     "data": {
      "application/javascript": "\n            setTimeout(function() {\n                var nbb_cell_id = 21;\n                var nbb_unformatted_code = \"%%capture cap --no-stderr\\n# check altered CF compliancy\\n\\ncheck_compliancy(testfile=str(ds_rcp85_path).replace(\\\".nc\\\", \\\"_CF.nc\\\"), working_dir=CF_dir)\";\n                var nbb_formatted_code = \"%%capture cap --no-stderr\\n# check altered CF compliancy\\n\\ncheck_compliancy(testfile=str(ds_rcp85_path).replace(\\\".nc\\\", \\\"_CF.nc\\\"), working_dir=CF_dir)\";\n                var nbb_cells = Jupyter.notebook.get_cells();\n                for (var i = 0; i < nbb_cells.length; ++i) {\n                    if (nbb_cells[i].input_prompt_number == nbb_cell_id) {\n                        if (nbb_cells[i].get_text() == nbb_unformatted_code) {\n                             nbb_cells[i].set_text(nbb_formatted_code);\n                        }\n                        break;\n                    }\n                }\n            }, 500);\n            ",
      "text/plain": [
       "<IPython.core.display.Javascript object>"
      ]
     },
     "metadata": {},
     "output_type": "display_data"
    }
   ],
   "source": [
    "%%capture cap --no-stderr\n",
    "# check altered CF compliancy\n",
    "\n",
    "check_compliancy(testfile=str(ds_rcp85_path).replace(\".nc\", \"_CF.nc\"), working_dir=CF_dir)"
   ]
  },
  {
   "cell_type": "code",
   "execution_count": 22,
   "id": "f46a214b",
   "metadata": {},
   "outputs": [
    {
     "name": "stdout",
     "output_type": "stream",
     "text": [
      "{'P:\\\\11205479-coclico\\\\FASTTRACK_DATA\\\\18_AR5_SLP_IPCC\\\\total-ens-slr-85-5_CF.nc': {'warnings': '0', 'errors': '0'}}\n"
     ]
    },
    {
     "data": {
      "application/javascript": "\n            setTimeout(function() {\n                var nbb_cell_id = 22;\n                var nbb_unformatted_code = \"# save altered CF compliancy\\nsave_compliancy(\\n    cap, testfile=str(ds_rcp85_path).replace(\\\".nc\\\", \\\"_CF.nc\\\"), working_dir=CF_dir,\\n)\";\n                var nbb_formatted_code = \"# save altered CF compliancy\\nsave_compliancy(\\n    cap,\\n    testfile=str(ds_rcp85_path).replace(\\\".nc\\\", \\\"_CF.nc\\\"),\\n    working_dir=CF_dir,\\n)\";\n                var nbb_cells = Jupyter.notebook.get_cells();\n                for (var i = 0; i < nbb_cells.length; ++i) {\n                    if (nbb_cells[i].input_prompt_number == nbb_cell_id) {\n                        if (nbb_cells[i].get_text() == nbb_unformatted_code) {\n                             nbb_cells[i].set_text(nbb_formatted_code);\n                        }\n                        break;\n                    }\n                }\n            }, 500);\n            ",
      "text/plain": [
       "<IPython.core.display.Javascript object>"
      ]
     },
     "metadata": {},
     "output_type": "display_data"
    }
   ],
   "source": [
    "# save altered CF compliancy\n",
    "save_compliancy(\n",
    "    cap, testfile=str(ds_rcp85_path).replace(\".nc\", \"_CF.nc\"), working_dir=CF_dir,\n",
    ")"
   ]
  },
  {
   "cell_type": "code",
   "execution_count": 23,
   "id": "93338230",
   "metadata": {},
   "outputs": [
    {
     "data": {
      "application/javascript": "\n            setTimeout(function() {\n                var nbb_cell_id = 23;\n                var nbb_unformatted_code = \"%%capture cap --no-stderr\\n# check altered CF compliancy\\n\\ncheck_compliancy(testfile=ds_dir.joinpath(ds_out_file + \\\"_CF.nc\\\"), working_dir=CF_dir)\";\n                var nbb_formatted_code = \"%%capture cap --no-stderr\\n# check altered CF compliancy\\n\\ncheck_compliancy(testfile=ds_dir.joinpath(ds_out_file + \\\"_CF.nc\\\"), working_dir=CF_dir)\";\n                var nbb_cells = Jupyter.notebook.get_cells();\n                for (var i = 0; i < nbb_cells.length; ++i) {\n                    if (nbb_cells[i].input_prompt_number == nbb_cell_id) {\n                        if (nbb_cells[i].get_text() == nbb_unformatted_code) {\n                             nbb_cells[i].set_text(nbb_formatted_code);\n                        }\n                        break;\n                    }\n                }\n            }, 500);\n            ",
      "text/plain": [
       "<IPython.core.display.Javascript object>"
      ]
     },
     "metadata": {},
     "output_type": "display_data"
    }
   ],
   "source": [
    "%%capture cap --no-stderr\n",
    "# check altered CF compliancy\n",
    "\n",
    "check_compliancy(testfile=ds_dir.joinpath(ds_out_file + \"_CF.nc\"), working_dir=CF_dir)"
   ]
  },
  {
   "cell_type": "code",
   "execution_count": 24,
   "id": "7b988887",
   "metadata": {},
   "outputs": [
    {
     "name": "stdout",
     "output_type": "stream",
     "text": [
      "{'P:\\\\11205479-coclico\\\\FASTTRACK_DATA\\\\18_AR5_SLP_IPCC\\\\total-ens-slr_CF.nc': {'warnings': '0', 'errors': '0'}}\n"
     ]
    },
    {
     "data": {
      "application/javascript": "\n            setTimeout(function() {\n                var nbb_cell_id = 24;\n                var nbb_unformatted_code = \"# save altered CF compliancy\\nsave_compliancy(\\n    cap, testfile=ds_dir.joinpath(ds_out_file + \\\"_CF.nc\\\"), working_dir=CF_dir,\\n)\";\n                var nbb_formatted_code = \"# save altered CF compliancy\\nsave_compliancy(\\n    cap,\\n    testfile=ds_dir.joinpath(ds_out_file + \\\"_CF.nc\\\"),\\n    working_dir=CF_dir,\\n)\";\n                var nbb_cells = Jupyter.notebook.get_cells();\n                for (var i = 0; i < nbb_cells.length; ++i) {\n                    if (nbb_cells[i].input_prompt_number == nbb_cell_id) {\n                        if (nbb_cells[i].get_text() == nbb_unformatted_code) {\n                             nbb_cells[i].set_text(nbb_formatted_code);\n                        }\n                        break;\n                    }\n                }\n            }, 500);\n            ",
      "text/plain": [
       "<IPython.core.display.Javascript object>"
      ]
     },
     "metadata": {},
     "output_type": "display_data"
    }
   ],
   "source": [
    "# save altered CF compliancy\n",
    "save_compliancy(\n",
    "    cap, testfile=ds_dir.joinpath(ds_out_file + \"_CF.nc\"), working_dir=CF_dir,\n",
    ")"
   ]
  },
  {
   "cell_type": "markdown",
   "id": "beec081e",
   "metadata": {},
   "source": [
    "### write data to Zarr files"
   ]
  },
  {
   "cell_type": "code",
   "execution_count": 25,
   "id": "6ba75d19",
   "metadata": {},
   "outputs": [
    {
     "data": {
      "text/plain": [
       "<xarray.backends.zarr.ZarrStore at 0x18d91943dd0>"
      ]
     },
     "execution_count": 25,
     "metadata": {},
     "output_type": "execute_result"
    },
    {
     "data": {
      "application/javascript": "\n            setTimeout(function() {\n                var nbb_cell_id = 25;\n                var nbb_unformatted_code = \"# export to zarr in write mode (to overwrite if exists)\\ndataset.to_zarr(ds_dir.joinpath(\\\"%s.zarr\\\" % ds_out_file), mode=\\\"w\\\")\";\n                var nbb_formatted_code = \"# export to zarr in write mode (to overwrite if exists)\\ndataset.to_zarr(ds_dir.joinpath(\\\"%s.zarr\\\" % ds_out_file), mode=\\\"w\\\")\";\n                var nbb_cells = Jupyter.notebook.get_cells();\n                for (var i = 0; i < nbb_cells.length; ++i) {\n                    if (nbb_cells[i].input_prompt_number == nbb_cell_id) {\n                        if (nbb_cells[i].get_text() == nbb_unformatted_code) {\n                             nbb_cells[i].set_text(nbb_formatted_code);\n                        }\n                        break;\n                    }\n                }\n            }, 500);\n            ",
      "text/plain": [
       "<IPython.core.display.Javascript object>"
      ]
     },
     "metadata": {},
     "output_type": "display_data"
    }
   ],
   "source": [
    "# export to zarr in write mode (to overwrite if exists)\n",
    "dataset.to_zarr(ds_dir.joinpath(\"%s.zarr\" % ds_out_file), mode=\"w\")"
   ]
  },
  {
   "cell_type": "code",
   "execution_count": 26,
   "id": "2b17bcfb",
   "metadata": {},
   "outputs": [
    {
     "data": {
      "application/javascript": "\n            setTimeout(function() {\n                var nbb_cell_id = 26;\n                var nbb_unformatted_code = \"# check dataset\\n#ds_26rcp = xr.open_dataset(r\\\"p:\\\\11205479-coclico\\\\FASTTRACK_DATA\\\\18_AR5_SLP_IPCC\\\\total-ens-slr-26-5_CF.nc\\\")\";\n                var nbb_formatted_code = \"# check dataset\\n# ds_26rcp = xr.open_dataset(r\\\"p:\\\\11205479-coclico\\\\FASTTRACK_DATA\\\\18_AR5_SLP_IPCC\\\\total-ens-slr-26-5_CF.nc\\\")\";\n                var nbb_cells = Jupyter.notebook.get_cells();\n                for (var i = 0; i < nbb_cells.length; ++i) {\n                    if (nbb_cells[i].input_prompt_number == nbb_cell_id) {\n                        if (nbb_cells[i].get_text() == nbb_unformatted_code) {\n                             nbb_cells[i].set_text(nbb_formatted_code);\n                        }\n                        break;\n                    }\n                }\n            }, 500);\n            ",
      "text/plain": [
       "<IPython.core.display.Javascript object>"
      ]
     },
     "metadata": {},
     "output_type": "display_data"
    }
   ],
   "source": [
    "# check dataset\n",
    "#ds_26rcp = xr.open_dataset(r\"p:\\11205479-coclico\\FASTTRACK_DATA\\18_AR5_SLP_IPCC\\total-ens-slr-26-5_CF.nc\")"
   ]
  },
  {
   "attachments": {},
   "cell_type": "markdown",
   "id": "24925bf6",
   "metadata": {},
   "source": [
    "### Write data to CoG"
   ]
  },
  {
   "cell_type": "code",
   "execution_count": 27,
   "id": "d9ce96dd",
   "metadata": {},
   "outputs": [
    {
     "data": {
      "application/javascript": "\n            setTimeout(function() {\n                var nbb_cell_id = 27;\n                var nbb_unformatted_code = \"BOUNDS = 0\\nENSEMBLE = 2\\nTIME = 0\\nVARIABLE = \\\"totslr_ens\\\"\\nRCP = \\\"45\\\"\\n\\ndef get_data_fp(data_dir, rcp_scenario):\\n    \\\"\\\"\\\"Function to get the netcdf dataset fp to also keep track of rcp scenario used. \\\"\\\"\\\"\\n    return data_dir.joinpath(f\\\"total-ens-slr-{rcp_scenario}-5_CF.nc\\\")\\n\\nds_fp = get_data_fp(ds_dir, RCP)\\nds = xr.open_dataset(ds_fp)\\n\\n# make array 2d \\nrds = ds.sel({\\\"nmodelname\\\": ENSEMBLE, \\\"nv\\\":BOUNDS}).isel(time=TIME)[VARIABLE]\\nrds.rio.set_spatial_dims(x_dim=\\\"lon\\\", y_dim=\\\"lat\\\")\\nif not rds.rio.crs:\\n    rds = rds.rio.write_crs(\\\"EPSG:4326\\\")\\n#rds.attrs[\\\"Conventions\\\"] = \\\"CF-1.8\\\"\\n\\nfname = f\\\"{VARIABLE}_rcp{RCP}_bnds{BOUNDS}_ens{ENSEMBLE}_time{TIME}_CF.GeoTiff\\\"\\noutpath = cog_dir.joinpath(fname)\\nrds.rio.to_raster(outpath, driver=\\\"GTiff\\\")\";\n                var nbb_formatted_code = \"BOUNDS = 0\\nENSEMBLE = 2\\nTIME = 0\\nVARIABLE = \\\"totslr_ens\\\"\\nRCP = \\\"45\\\"\\n\\n\\ndef get_data_fp(data_dir, rcp_scenario):\\n    \\\"\\\"\\\"Function to get the netcdf dataset fp to also keep track of rcp scenario used.\\\"\\\"\\\"\\n    return data_dir.joinpath(f\\\"total-ens-slr-{rcp_scenario}-5_CF.nc\\\")\\n\\n\\nds_fp = get_data_fp(ds_dir, RCP)\\nds = xr.open_dataset(ds_fp)\\n\\n# make array 2d\\nrds = ds.sel({\\\"nmodelname\\\": ENSEMBLE, \\\"nv\\\": BOUNDS}).isel(time=TIME)[VARIABLE]\\nrds.rio.set_spatial_dims(x_dim=\\\"lon\\\", y_dim=\\\"lat\\\")\\nif not rds.rio.crs:\\n    rds = rds.rio.write_crs(\\\"EPSG:4326\\\")\\n# rds.attrs[\\\"Conventions\\\"] = \\\"CF-1.8\\\"\\n\\nfname = f\\\"{VARIABLE}_rcp{RCP}_bnds{BOUNDS}_ens{ENSEMBLE}_time{TIME}_CF.GeoTiff\\\"\\noutpath = cog_dir.joinpath(fname)\\nrds.rio.to_raster(outpath, driver=\\\"GTiff\\\")\";\n                var nbb_cells = Jupyter.notebook.get_cells();\n                for (var i = 0; i < nbb_cells.length; ++i) {\n                    if (nbb_cells[i].input_prompt_number == nbb_cell_id) {\n                        if (nbb_cells[i].get_text() == nbb_unformatted_code) {\n                             nbb_cells[i].set_text(nbb_formatted_code);\n                        }\n                        break;\n                    }\n                }\n            }, 500);\n            ",
      "text/plain": [
       "<IPython.core.display.Javascript object>"
      ]
     },
     "metadata": {},
     "output_type": "display_data"
    }
   ],
   "source": [
    "BOUNDS = 0\n",
    "ENSEMBLE = 2\n",
    "TIME = 0\n",
    "VARIABLE = \"totslr_ens\"\n",
    "RCP = \"45\"\n",
    "\n",
    "def get_data_fp(data_dir, rcp_scenario):\n",
    "    \"\"\"Function to get the netcdf dataset fp to also keep track of rcp scenario used. \"\"\"\n",
    "    return data_dir.joinpath(f\"total-ens-slr-{rcp_scenario}-5_CF.nc\")\n",
    "\n",
    "ds_fp = get_data_fp(ds_dir, RCP)\n",
    "ds = xr.open_dataset(ds_fp)\n",
    "\n",
    "# make array 2d \n",
    "rds = ds.sel({\"nmodelname\": ENSEMBLE, \"nv\":BOUNDS}).isel(time=TIME)[VARIABLE]\n",
    "rds.rio.set_spatial_dims(x_dim=\"lon\", y_dim=\"lat\")\n",
    "if not rds.rio.crs:\n",
    "    rds = rds.rio.write_crs(\"EPSG:4326\")\n",
    "#rds.attrs[\"Conventions\"] = \"CF-1.8\"\n",
    "\n",
    "fname = f\"{VARIABLE}_rcp{RCP}_bnds{BOUNDS}_ens{ENSEMBLE}_time{TIME}_CF.GeoTiff\"\n",
    "outpath = cog_dir.joinpath(fname)\n",
    "rds.rio.to_raster(outpath, driver=\"GTiff\")"
   ]
  },
  {
   "cell_type": "code",
   "execution_count": 28,
   "id": "52aa7f13",
   "metadata": {},
   "outputs": [
    {
     "data": {
      "application/javascript": "\n            setTimeout(function() {\n                var nbb_cell_id = 28;\n                var nbb_unformatted_code = \"# export to nc for quick CF compliancy check..\\nrds.to_netcdf(path=cog_dir.joinpath(fname.replace(\\\".GeoTiff\\\", \\\".nc\\\")))\\nCF_dir = coclico_data_dir.joinpath(r\\\"CF\\\")\";\n                var nbb_formatted_code = \"# export to nc for quick CF compliancy check..\\nrds.to_netcdf(path=cog_dir.joinpath(fname.replace(\\\".GeoTiff\\\", \\\".nc\\\")))\\nCF_dir = coclico_data_dir.joinpath(r\\\"CF\\\")\";\n                var nbb_cells = Jupyter.notebook.get_cells();\n                for (var i = 0; i < nbb_cells.length; ++i) {\n                    if (nbb_cells[i].input_prompt_number == nbb_cell_id) {\n                        if (nbb_cells[i].get_text() == nbb_unformatted_code) {\n                             nbb_cells[i].set_text(nbb_formatted_code);\n                        }\n                        break;\n                    }\n                }\n            }, 500);\n            ",
      "text/plain": [
       "<IPython.core.display.Javascript object>"
      ]
     },
     "metadata": {},
     "output_type": "display_data"
    }
   ],
   "source": [
    "# export to nc for quick CF compliancy check..\n",
    "rds.to_netcdf(path=cog_dir.joinpath(fname.replace(\".GeoTiff\", \".nc\")))\n",
    "CF_dir = coclico_data_dir.joinpath(r\"CF\")"
   ]
  },
  {
   "cell_type": "code",
   "execution_count": 29,
   "id": "686e4aaf",
   "metadata": {},
   "outputs": [
    {
     "data": {
      "application/javascript": "\n            setTimeout(function() {\n                var nbb_cell_id = 29;\n                var nbb_unformatted_code = \"%%capture cap --no-stderr\\n# check original CF compliancy\\n\\ncheck_compliancy(testfile=cog_dir.joinpath(fname.replace(\\\".GeoTiff\\\", \\\".nc\\\")), working_dir=CF_dir)\";\n                var nbb_formatted_code = \"%%capture cap --no-stderr\\n# check original CF compliancy\\n\\ncheck_compliancy(testfile=cog_dir.joinpath(fname.replace(\\\".GeoTiff\\\", \\\".nc\\\")), working_dir=CF_dir)\";\n                var nbb_cells = Jupyter.notebook.get_cells();\n                for (var i = 0; i < nbb_cells.length; ++i) {\n                    if (nbb_cells[i].input_prompt_number == nbb_cell_id) {\n                        if (nbb_cells[i].get_text() == nbb_unformatted_code) {\n                             nbb_cells[i].set_text(nbb_formatted_code);\n                        }\n                        break;\n                    }\n                }\n            }, 500);\n            ",
      "text/plain": [
       "<IPython.core.display.Javascript object>"
      ]
     },
     "metadata": {},
     "output_type": "display_data"
    }
   ],
   "source": [
    "%%capture cap --no-stderr\n",
    "# check original CF compliancy\n",
    "\n",
    "check_compliancy(testfile=cog_dir.joinpath(fname.replace(\".GeoTiff\", \".nc\")), working_dir=CF_dir)"
   ]
  },
  {
   "cell_type": "code",
   "execution_count": 30,
   "id": "8d9bfac1",
   "metadata": {},
   "outputs": [
    {
     "name": "stdout",
     "output_type": "stream",
     "text": [
      "{'P:\\\\11205479-coclico\\\\FASTTRACK_DATA\\\\18_AR5_SLP_IPCC\\\\cog\\\\totslr_ens_rcp45_bnds0_ens2_time0_CF.nc': {'warnings': '3', 'errors': '2'}}\n"
     ]
    },
    {
     "data": {
      "application/javascript": "\n            setTimeout(function() {\n                var nbb_cell_id = 30;\n                var nbb_unformatted_code = \"# save original CF compliancy\\nsave_compliancy(cap, testfile=cog_dir.joinpath(fname.replace(\\\".GeoTiff\\\", \\\".nc\\\")), working_dir=CF_dir)\";\n                var nbb_formatted_code = \"# save original CF compliancy\\nsave_compliancy(\\n    cap, testfile=cog_dir.joinpath(fname.replace(\\\".GeoTiff\\\", \\\".nc\\\")), working_dir=CF_dir\\n)\";\n                var nbb_cells = Jupyter.notebook.get_cells();\n                for (var i = 0; i < nbb_cells.length; ++i) {\n                    if (nbb_cells[i].input_prompt_number == nbb_cell_id) {\n                        if (nbb_cells[i].get_text() == nbb_unformatted_code) {\n                             nbb_cells[i].set_text(nbb_formatted_code);\n                        }\n                        break;\n                    }\n                }\n            }, 500);\n            ",
      "text/plain": [
       "<IPython.core.display.Javascript object>"
      ]
     },
     "metadata": {},
     "output_type": "display_data"
    }
   ],
   "source": [
    "# save original CF compliancy\n",
    "save_compliancy(cap, testfile=cog_dir.joinpath(fname.replace(\".GeoTiff\", \".nc\")), working_dir=CF_dir)"
   ]
  },
  {
   "cell_type": "code",
   "execution_count": 31,
   "id": "3f75896d",
   "metadata": {},
   "outputs": [
    {
     "data": {
      "text/plain": [
       "<matplotlib.collections.QuadMesh at 0x18d90a29850>"
      ]
     },
     "execution_count": 31,
     "metadata": {},
     "output_type": "execute_result"
    },
    {
     "data": {
      "image/png": "[encoded data removed]",
      "text/plain": [
       "<Figure size 640x480 with 2 Axes>"
      ]
     },
     "metadata": {},
     "output_type": "display_data"
    },
    {
     "data": {
      "application/javascript": "\n            setTimeout(function() {\n                var nbb_cell_id = 31;\n                var nbb_unformatted_code = \"import rioxarray as rio\\ndata = rio.open_rasterio(outpath, masked=True)\\nrds.plot()\";\n                var nbb_formatted_code = \"import rioxarray as rio\\n\\ndata = rio.open_rasterio(outpath, masked=True)\\nrds.plot()\";\n                var nbb_cells = Jupyter.notebook.get_cells();\n                for (var i = 0; i < nbb_cells.length; ++i) {\n                    if (nbb_cells[i].input_prompt_number == nbb_cell_id) {\n                        if (nbb_cells[i].get_text() == nbb_unformatted_code) {\n                             nbb_cells[i].set_text(nbb_formatted_code);\n                        }\n                        break;\n                    }\n                }\n            }, 500);\n            ",
      "text/plain": [
       "<IPython.core.display.Javascript object>"
      ]
     },
     "metadata": {},
     "output_type": "display_data"
    }
   ],
   "source": [
    "import rioxarray as rio\n",
    "data = rio.open_rasterio(outpath, masked=True)\n",
    "rds.plot()"
   ]
  },
  {
   "cell_type": "code",
   "execution_count": 32,
   "id": "a47b9ec2",
   "metadata": {},
   "outputs": [
    {
     "name": "stdout",
     "output_type": "stream",
     "text": [
      "['time', 'nv', 'lat', 'lon', 'nmodelname']\n",
      "['time', 'time_bnds', 'lat', 'lon', 'modelname']\n",
      "['time', 'time_bnds', 'lat', 'lon', 'totslr_ens', 'totslr', 'loerr', 'hierr', 'modelname']\n"
     ]
    },
    {
     "data": {
      "application/javascript": "\n            setTimeout(function() {\n                var nbb_cell_id = 32;\n                var nbb_unformatted_code = \"import xarray as xr\\nimport rioxarray as rio\\n\\n# data can be downloaded here: https://icdc.cen.uni-hamburg.de/thredds/catalog/ftpthredds/ar5_sea_level_rise/catalog.html?dataset=ftpthreddsscan/ar5_sea_level_rise/total-ens-slr-26-5.nc\\nds_xr = xr.open_dataset(ds_dir.joinpath(\\\"total-ens-slr-26-5.nc\\\"))\\nprint(list(ds.dims))\\nprint(list(ds.coords))\\nprint(list(ds.variables))\";\n                var nbb_formatted_code = \"import xarray as xr\\nimport rioxarray as rio\\n\\n# data can be downloaded here: https://icdc.cen.uni-hamburg.de/thredds/catalog/ftpthredds/ar5_sea_level_rise/catalog.html?dataset=ftpthreddsscan/ar5_sea_level_rise/total-ens-slr-26-5.nc\\nds_xr = xr.open_dataset(ds_dir.joinpath(\\\"total-ens-slr-26-5.nc\\\"))\\nprint(list(ds.dims))\\nprint(list(ds.coords))\\nprint(list(ds.variables))\";\n                var nbb_cells = Jupyter.notebook.get_cells();\n                for (var i = 0; i < nbb_cells.length; ++i) {\n                    if (nbb_cells[i].input_prompt_number == nbb_cell_id) {\n                        if (nbb_cells[i].get_text() == nbb_unformatted_code) {\n                             nbb_cells[i].set_text(nbb_formatted_code);\n                        }\n                        break;\n                    }\n                }\n            }, 500);\n            ",
      "text/plain": [
       "<IPython.core.display.Javascript object>"
      ]
     },
     "metadata": {},
     "output_type": "display_data"
    }
   ],
   "source": [
    "import xarray as xr\n",
    "import rioxarray as rio\n",
    "\n",
    "# data can be downloaded here: https://icdc.cen.uni-hamburg.de/thredds/catalog/ftpthredds/ar5_sea_level_rise/catalog.html?dataset=ftpthreddsscan/ar5_sea_level_rise/total-ens-slr-26-5.nc\n",
    "ds_xr = xr.open_dataset(ds_dir.joinpath(\"total-ens-slr-26-5.nc\"))\n",
    "print(list(ds.dims))\n",
    "print(list(ds.coords))\n",
    "print(list(ds.variables))"
   ]
  }
 ],
 "metadata": {
  "kernelspec": {
   "display_name": "Python 3 (ipykernel)",
   "language": "python",
   "name": "python3"
  },
  "language_info": {
   "codemirror_mode": {
    "name": "ipython",
    "version": 3
   },
   "file_extension": ".py",
   "mimetype": "text/x-python",
   "name": "python",
   "nbconvert_exporter": "python",
   "pygments_lexer": "ipython3",
   "version": "3.8.16"
  },
  "vscode": {
   "interpreter": {
    "hash": "d52b8dfbdab1c939c3c4b10b0d762f4c8139583e350f28e123ee37db8f80dd50"
   }
  }
 },
 "nbformat": 4,
 "nbformat_minor": 5
}
