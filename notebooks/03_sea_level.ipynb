{
 "cells": [
  {
   "cell_type": "markdown",
   "id": "c91b40e6",
   "metadata": {},
   "source": [
    "# Sea Surface Level \n",
    "Notebook environment to migrate netcdf files to CF compliant zarr"
   ]
  },
  {
   "cell_type": "code",
   "execution_count": 1,
   "id": "f1aef40e",
   "metadata": {},
   "outputs": [
    {
     "data": {
      "application/javascript": "\n            setTimeout(function() {\n                var nbb_cell_id = 1;\n                var nbb_unformatted_code = \"# Optional; code formatter, installed as jupyter lab extension\\n#%load_ext lab_black\\n# Optional; code formatter, installed as jupyter notebook extension\\n%load_ext nb_black\";\n                var nbb_formatted_code = \"# Optional; code formatter, installed as jupyter lab extension\\n#%load_ext lab_black\\n# Optional; code formatter, installed as jupyter notebook extension\\n%load_ext nb_black\";\n                var nbb_cells = Jupyter.notebook.get_cells();\n                for (var i = 0; i < nbb_cells.length; ++i) {\n                    if (nbb_cells[i].input_prompt_number == nbb_cell_id) {\n                        if (nbb_cells[i].get_text() == nbb_unformatted_code) {\n                             nbb_cells[i].set_text(nbb_formatted_code);\n                        }\n                        break;\n                    }\n                }\n            }, 500);\n            ",
      "text/plain": [
       "<IPython.core.display.Javascript object>"
      ]
     },
     "metadata": {},
     "output_type": "display_data"
    }
   ],
   "source": [
    "# Optional; code formatter, installed as jupyter lab extension\n",
    "#%load_ext lab_black\n",
    "# Optional; code formatter, installed as jupyter notebook extension\n",
    "%load_ext nb_black"
   ]
  },
  {
   "cell_type": "markdown",
   "id": "f3f67518",
   "metadata": {},
   "source": [
    "### Configure OS independent paths"
   ]
  },
  {
   "cell_type": "code",
   "execution_count": 2,
   "id": "77b089ea",
   "metadata": {},
   "outputs": [
    {
     "name": "stderr",
     "output_type": "stream",
     "text": [
      "C:\\Users\\kras\\Anaconda3\\envs\\bathymetry_env\\lib\\site-packages\\xarray\\backends\\cfgrib_.py:27: UserWarning: Failed to load cfgrib - most likely there is a problem accessing the ecCodes library. Try `import cfgrib` to get the full error message\n",
      "  warnings.warn(\n"
     ]
    },
    {
     "data": {
      "application/javascript": "\n            setTimeout(function() {\n                var nbb_cell_id = 2;\n                var nbb_unformatted_code = \"# Import standard packages\\nimport os\\nimport pathlib\\nimport sys\\nimport numpy as np\\nimport geopandas as gpd\\nimport pandas as pd\\nimport matplotlib.pyplot as plt\\nimport xarray as xr\\nimport netCDF4 as nc\\nimport numpy.ma as ma\\n\\n# Make root directories importable by appending root to path\\ncwd = pathlib.Path().resolve()\\nsys.path.append(os.path.dirname(cwd))\\n\\n# Get root paths\\nhome = pathlib.Path().home()\\nroot = home.root\\n\\n# Import custom functionality\\nfrom etl import p_drive\\nfrom etl.CF_compliancy_checker import check_compliancy, save_compliancy\\n\\n# Define (local and) remote drives\\ncoclico_data_dir = p_drive.joinpath(\\\"11205479-coclico\\\", \\\"data\\\")\\n\\n# Workaround to the Windows OS (10) udunits error after installation of cfchecker: https://github.com/SciTools/iris/issues/404\\nos.environ[\\\"UDUNITS2_XML_PATH\\\"] = str(\\n    home.joinpath(  # change to the udunits2.xml file dir in your Python installation\\n        r\\\"Anaconda3\\\\pkgs\\\\udunits2-2.2.28-h892ecd3_0\\\\Library\\\\share\\\\udunits\\\\udunits2.xml\\\"\\n    )\\n)\";\n                var nbb_formatted_code = \"# Import standard packages\\nimport os\\nimport pathlib\\nimport sys\\nimport numpy as np\\nimport geopandas as gpd\\nimport pandas as pd\\nimport matplotlib.pyplot as plt\\nimport xarray as xr\\nimport netCDF4 as nc\\nimport numpy.ma as ma\\n\\n# Make root directories importable by appending root to path\\ncwd = pathlib.Path().resolve()\\nsys.path.append(os.path.dirname(cwd))\\n\\n# Get root paths\\nhome = pathlib.Path().home()\\nroot = home.root\\n\\n# Import custom functionality\\nfrom etl import p_drive\\nfrom etl.CF_compliancy_checker import check_compliancy, save_compliancy\\n\\n# Define (local and) remote drives\\ncoclico_data_dir = p_drive.joinpath(\\\"11205479-coclico\\\", \\\"data\\\")\\n\\n# Workaround to the Windows OS (10) udunits error after installation of cfchecker: https://github.com/SciTools/iris/issues/404\\nos.environ[\\\"UDUNITS2_XML_PATH\\\"] = str(\\n    home.joinpath(  # change to the udunits2.xml file dir in your Python installation\\n        r\\\"Anaconda3\\\\pkgs\\\\udunits2-2.2.28-h892ecd3_0\\\\Library\\\\share\\\\udunits\\\\udunits2.xml\\\"\\n    )\\n)\";\n                var nbb_cells = Jupyter.notebook.get_cells();\n                for (var i = 0; i < nbb_cells.length; ++i) {\n                    if (nbb_cells[i].input_prompt_number == nbb_cell_id) {\n                        if (nbb_cells[i].get_text() == nbb_unformatted_code) {\n                             nbb_cells[i].set_text(nbb_formatted_code);\n                        }\n                        break;\n                    }\n                }\n            }, 500);\n            ",
      "text/plain": [
       "<IPython.core.display.Javascript object>"
      ]
     },
     "metadata": {},
     "output_type": "display_data"
    }
   ],
   "source": [
    "# Import standard packages\n",
    "import os\n",
    "import pathlib\n",
    "import sys\n",
    "import numpy as np\n",
    "import geopandas as gpd\n",
    "import pandas as pd\n",
    "import matplotlib.pyplot as plt\n",
    "import xarray as xr\n",
    "import netCDF4 as nc\n",
    "import numpy.ma as ma\n",
    "\n",
    "# Make root directories importable by appending root to path\n",
    "cwd = pathlib.Path().resolve()\n",
    "sys.path.append(os.path.dirname(cwd))\n",
    "\n",
    "# Get root paths\n",
    "home = pathlib.Path().home()\n",
    "root = home.root\n",
    "\n",
    "# Import custom functionality\n",
    "from etl import p_drive\n",
    "from etl.CF_compliancy_checker import check_compliancy, save_compliancy\n",
    "\n",
    "# Define (local and) remote drives\n",
    "coclico_data_dir = p_drive.joinpath(\"11205479-coclico\", \"data\")\n",
    "\n",
    "# Workaround to the Windows OS (10) udunits error after installation of cfchecker: https://github.com/SciTools/iris/issues/404\n",
    "os.environ[\"UDUNITS2_XML_PATH\"] = str(\n",
    "    home.joinpath(  # change to the udunits2.xml file dir in your Python installation\n",
    "        r\"Anaconda3\\pkgs\\udunits2-2.2.28-h892ecd3_0\\Library\\share\\udunits\\udunits2.xml\"\n",
    "    )\n",
    ")"
   ]
  },
  {
   "cell_type": "code",
   "execution_count": 3,
   "id": "aef15534",
   "metadata": {},
   "outputs": [
    {
     "data": {
      "application/javascript": "\n            setTimeout(function() {\n                var nbb_cell_id = 3;\n                var nbb_unformatted_code = \"# Project paths & files (manual input)\\nds_dir = coclico_data_dir.joinpath(\\\"03_sea_level_jrc\\\")\\nds_historical_path = ds_dir.joinpath(\\\"CoastAlRisk_Europe_ESL_Historical.nc\\\")\\nds_rcp45_path = ds_dir.joinpath(\\\"CoastAlRisk_Europe_ESL_RCP45.nc\\\")\\nds_rcp85_path = ds_dir.joinpath(\\\"CoastAlRisk_Europe_ESL_RCP85.nc\\\")\\nds_out_file = \\\"CoastAlRisk_Europe_ESL\\\"\\nCF_dir = coclico_data_dir.joinpath(r\\\"CF\\\")  # directory to save output CF check files\";\n                var nbb_formatted_code = \"# Project paths & files (manual input)\\nds_dir = coclico_data_dir.joinpath(\\\"03_sea_level_jrc\\\")\\nds_historical_path = ds_dir.joinpath(\\\"CoastAlRisk_Europe_ESL_Historical.nc\\\")\\nds_rcp45_path = ds_dir.joinpath(\\\"CoastAlRisk_Europe_ESL_RCP45.nc\\\")\\nds_rcp85_path = ds_dir.joinpath(\\\"CoastAlRisk_Europe_ESL_RCP85.nc\\\")\\nds_out_file = \\\"CoastAlRisk_Europe_ESL\\\"\\nCF_dir = coclico_data_dir.joinpath(r\\\"CF\\\")  # directory to save output CF check files\";\n                var nbb_cells = Jupyter.notebook.get_cells();\n                for (var i = 0; i < nbb_cells.length; ++i) {\n                    if (nbb_cells[i].input_prompt_number == nbb_cell_id) {\n                        if (nbb_cells[i].get_text() == nbb_unformatted_code) {\n                             nbb_cells[i].set_text(nbb_formatted_code);\n                        }\n                        break;\n                    }\n                }\n            }, 500);\n            ",
      "text/plain": [
       "<IPython.core.display.Javascript object>"
      ]
     },
     "metadata": {},
     "output_type": "display_data"
    }
   ],
   "source": [
    "# Project paths & files (manual input)\n",
    "ds_dir = coclico_data_dir.joinpath(\"03_sea_level_jrc\")\n",
    "ds_historical_path = ds_dir.joinpath(\"CoastAlRisk_Europe_ESL_Historical.nc\")\n",
    "ds_rcp45_path = ds_dir.joinpath(\"CoastAlRisk_Europe_ESL_RCP45.nc\")\n",
    "ds_rcp85_path = ds_dir.joinpath(\"CoastAlRisk_Europe_ESL_RCP85.nc\")\n",
    "ds_out_file = \"CoastAlRisk_Europe_ESL\"\n",
    "CF_dir = coclico_data_dir.joinpath(r\"CF\")  # directory to save output CF check files"
   ]
  },
  {
   "cell_type": "markdown",
   "id": "dd349bc5",
   "metadata": {},
   "source": [
    "### change NetCDF base files"
   ]
  },
  {
   "cell_type": "code",
   "execution_count": 4,
   "id": "05a4a9c2",
   "metadata": {},
   "outputs": [
    {
     "data": {
      "application/javascript": "\n            setTimeout(function() {\n                var nbb_cell_id = 4;\n                var nbb_unformatted_code = \"# reshaping the historical dataset to merge into the RCP45 and RCP85 one\\ndataset_new = \\\"CoastAlRisk_Europe_ESL_Historical_new.nc\\\"\\nds_new = nc.Dataset(os.path.join(ds_dir, dataset_new), \\\"w\\\")\\n\\n# copy global attributes all at once via dictionary\\nds = nc.Dataset(ds_historical_path)\\nds_new.setncatts(ds.__dict__)\\n\\n# copy dimensions\\nfor name, dimension in ds.dimensions.items():\\n    ds_new.createDimension(\\n        name, (len(dimension) if not dimension.isunlimited() else None)\\n    )\\n\\n# adding a new dimension\\nds_new.createDimension(\\\"nsdec\\\", (1))  # only for 1995\\n\\n# copy all file data and extend for 2 instances\\nextended_var = [\\\"esl\\\", \\\"eewl\\\"]\\nfor name, variable in ds.variables.items():\\n    if name in extended_var:\\n        ds_new.createVariable(\\n            name, variable.datatype, (\\\"npoints\\\", \\\"nrp\\\", \\\"nens\\\", \\\"nsdec\\\")\\n        )\\n        ds_new[name].setncatts(\\n            ds[name].__dict__\\n        )  # copy variable attributes all at once via dictionary\\n        ds_new[name][:] = np.expand_dims(ds[name][:], axis=3)  # data, extended\\n    else:\\n        ds_new.createVariable(name, variable.datatype, variable.dimensions)\\n        ds_new[name].setncatts(\\n            ds[name].__dict__\\n        )  # copy variable attributes all at once via dictionary\\n        ds_new[name][:] = ds[name][:]  # data\\n\\n# adding a new variables\\nds_new.createVariable(\\\"decades\\\", \\\"float32\\\", (\\\"nsdec\\\",))\\nds_new[\\\"decades\\\"][:] = ma.masked_array(int(1995), mask=[0], dtype=\\\"float32\\\")\";\n                var nbb_formatted_code = \"# reshaping the historical dataset to merge into the RCP45 and RCP85 one\\ndataset_new = \\\"CoastAlRisk_Europe_ESL_Historical_new.nc\\\"\\nds_new = nc.Dataset(os.path.join(ds_dir, dataset_new), \\\"w\\\")\\n\\n# copy global attributes all at once via dictionary\\nds = nc.Dataset(ds_historical_path)\\nds_new.setncatts(ds.__dict__)\\n\\n# copy dimensions\\nfor name, dimension in ds.dimensions.items():\\n    ds_new.createDimension(\\n        name, (len(dimension) if not dimension.isunlimited() else None)\\n    )\\n\\n# adding a new dimension\\nds_new.createDimension(\\\"nsdec\\\", (1))  # only for 1995\\n\\n# copy all file data and extend for 2 instances\\nextended_var = [\\\"esl\\\", \\\"eewl\\\"]\\nfor name, variable in ds.variables.items():\\n    if name in extended_var:\\n        ds_new.createVariable(\\n            name, variable.datatype, (\\\"npoints\\\", \\\"nrp\\\", \\\"nens\\\", \\\"nsdec\\\")\\n        )\\n        ds_new[name].setncatts(\\n            ds[name].__dict__\\n        )  # copy variable attributes all at once via dictionary\\n        ds_new[name][:] = np.expand_dims(ds[name][:], axis=3)  # data, extended\\n    else:\\n        ds_new.createVariable(name, variable.datatype, variable.dimensions)\\n        ds_new[name].setncatts(\\n            ds[name].__dict__\\n        )  # copy variable attributes all at once via dictionary\\n        ds_new[name][:] = ds[name][:]  # data\\n\\n# adding a new variables\\nds_new.createVariable(\\\"decades\\\", \\\"float32\\\", (\\\"nsdec\\\",))\\nds_new[\\\"decades\\\"][:] = ma.masked_array(int(1995), mask=[0], dtype=\\\"float32\\\")\";\n                var nbb_cells = Jupyter.notebook.get_cells();\n                for (var i = 0; i < nbb_cells.length; ++i) {\n                    if (nbb_cells[i].input_prompt_number == nbb_cell_id) {\n                        if (nbb_cells[i].get_text() == nbb_unformatted_code) {\n                             nbb_cells[i].set_text(nbb_formatted_code);\n                        }\n                        break;\n                    }\n                }\n            }, 500);\n            ",
      "text/plain": [
       "<IPython.core.display.Javascript object>"
      ]
     },
     "metadata": {},
     "output_type": "display_data"
    }
   ],
   "source": [
    "# reshaping the historical dataset to merge into the RCP45 and RCP85 one\n",
    "dataset_new = \"CoastAlRisk_Europe_ESL_Historical_new.nc\"\n",
    "ds_new = nc.Dataset(os.path.join(ds_dir, dataset_new), \"w\")\n",
    "\n",
    "# copy global attributes all at once via dictionary\n",
    "ds = nc.Dataset(ds_historical_path)\n",
    "ds_new.setncatts(ds.__dict__)\n",
    "\n",
    "# copy dimensions\n",
    "for name, dimension in ds.dimensions.items():\n",
    "    ds_new.createDimension(\n",
    "        name, (len(dimension) if not dimension.isunlimited() else None)\n",
    "    )\n",
    "\n",
    "# adding a new dimension\n",
    "ds_new.createDimension(\"nsdec\", (1))  # only for 1995\n",
    "\n",
    "# copy all file data and extend for 2 instances\n",
    "extended_var = [\"esl\", \"eewl\"]\n",
    "for name, variable in ds.variables.items():\n",
    "    if name in extended_var:\n",
    "        ds_new.createVariable(\n",
    "            name, variable.datatype, (\"npoints\", \"nrp\", \"nens\", \"nsdec\")\n",
    "        )\n",
    "        ds_new[name].setncatts(\n",
    "            ds[name].__dict__\n",
    "        )  # copy variable attributes all at once via dictionary\n",
    "        ds_new[name][:] = np.expand_dims(ds[name][:], axis=3)  # data, extended\n",
    "    else:\n",
    "        ds_new.createVariable(name, variable.datatype, variable.dimensions)\n",
    "        ds_new[name].setncatts(\n",
    "            ds[name].__dict__\n",
    "        )  # copy variable attributes all at once via dictionary\n",
    "        ds_new[name][:] = ds[name][:]  # data\n",
    "\n",
    "# adding a new variables\n",
    "ds_new.createVariable(\"decades\", \"float32\", (\"nsdec\",))\n",
    "ds_new[\"decades\"][:] = ma.masked_array(int(1995), mask=[0], dtype=\"float32\")"
   ]
  },
  {
   "cell_type": "code",
   "execution_count": 5,
   "id": "8f86c833",
   "metadata": {},
   "outputs": [
    {
     "name": "stderr",
     "output_type": "stream",
     "text": [
      "C:\\Users\\kras\\Anaconda3\\envs\\bathymetry_env\\lib\\site-packages\\xarray\\backends\\plugins.py:61: RuntimeWarning: Engine 'cfgrib' loading failed:\n",
      "Cannot find the ecCodes library\n",
      "  warnings.warn(f\"Engine {name!r} loading failed:\\n{ex}\", RuntimeWarning)\n"
     ]
    },
    {
     "data": {
      "application/javascript": "\n            setTimeout(function() {\n                var nbb_cell_id = 5;\n                var nbb_unformatted_code = \"# combining the datasets\\nens_list_45 = [\\n    xr.open_mfdataset(os.path.join(str(ds_historical_path).split(\\\".\\\")[0] + \\\"_new.nc\\\")),\\n    xr.open_mfdataset(ds_rcp45_path),\\n]\\nds_comb_45 = xr.concat(\\n    ens_list_45, data_vars=\\\"different\\\", dim=\\\"nsdec\\\"\\n)  # only concat files that are different\\n\\nens_list_85 = [\\n    xr.open_mfdataset(os.path.join(str(ds_historical_path).split(\\\".\\\")[0] + \\\"_new.nc\\\")),\\n    xr.open_mfdataset(ds_rcp85_path),\\n]\\nds_comb_85 = xr.concat(\\n    ens_list_85, data_vars=\\\"different\\\", dim=\\\"nsdec\\\"\\n)  # only concat files that are different\";\n                var nbb_formatted_code = \"# combining the datasets\\nens_list_45 = [\\n    xr.open_mfdataset(os.path.join(str(ds_historical_path).split(\\\".\\\")[0] + \\\"_new.nc\\\")),\\n    xr.open_mfdataset(ds_rcp45_path),\\n]\\nds_comb_45 = xr.concat(\\n    ens_list_45, data_vars=\\\"different\\\", dim=\\\"nsdec\\\"\\n)  # only concat files that are different\\n\\nens_list_85 = [\\n    xr.open_mfdataset(os.path.join(str(ds_historical_path).split(\\\".\\\")[0] + \\\"_new.nc\\\")),\\n    xr.open_mfdataset(ds_rcp85_path),\\n]\\nds_comb_85 = xr.concat(\\n    ens_list_85, data_vars=\\\"different\\\", dim=\\\"nsdec\\\"\\n)  # only concat files that are different\";\n                var nbb_cells = Jupyter.notebook.get_cells();\n                for (var i = 0; i < nbb_cells.length; ++i) {\n                    if (nbb_cells[i].input_prompt_number == nbb_cell_id) {\n                        if (nbb_cells[i].get_text() == nbb_unformatted_code) {\n                             nbb_cells[i].set_text(nbb_formatted_code);\n                        }\n                        break;\n                    }\n                }\n            }, 500);\n            ",
      "text/plain": [
       "<IPython.core.display.Javascript object>"
      ]
     },
     "metadata": {},
     "output_type": "display_data"
    }
   ],
   "source": [
    "# combining the datasets\n",
    "ens_list_45 = [\n",
    "    xr.open_mfdataset(os.path.join(str(ds_historical_path).split(\".\")[0] + \"_new.nc\")),\n",
    "    xr.open_mfdataset(ds_rcp45_path),\n",
    "]\n",
    "ds_comb_45 = xr.concat(\n",
    "    ens_list_45, data_vars=\"different\", dim=\"nsdec\"\n",
    ")  # only concat files that are different\n",
    "\n",
    "ens_list_85 = [\n",
    "    xr.open_mfdataset(os.path.join(str(ds_historical_path).split(\".\")[0] + \"_new.nc\")),\n",
    "    xr.open_mfdataset(ds_rcp85_path),\n",
    "]\n",
    "ds_comb_85 = xr.concat(\n",
    "    ens_list_85, data_vars=\"different\", dim=\"nsdec\"\n",
    ")  # only concat files that are different"
   ]
  },
  {
   "cell_type": "code",
   "execution_count": 6,
   "id": "811933d0",
   "metadata": {},
   "outputs": [
    {
     "data": {
      "application/javascript": "\n            setTimeout(function() {\n                var nbb_cell_id = 6;\n                var nbb_unformatted_code = \"# saving the new datasets\\nds_comb_45.to_netcdf(\\n    os.path.join(str(ds_rcp45_path).split(\\\".\\\")[0] + \\\"_new.nc\\\")\\n)  # Export netcdf file\\nds_comb_85.to_netcdf(\\n    os.path.join(str(ds_rcp85_path).split(\\\".\\\")[0] + \\\"_new.nc\\\")\\n)  # Export netcdf file\";\n                var nbb_formatted_code = \"# saving the new datasets\\nds_comb_45.to_netcdf(\\n    os.path.join(str(ds_rcp45_path).split(\\\".\\\")[0] + \\\"_new.nc\\\")\\n)  # Export netcdf file\\nds_comb_85.to_netcdf(\\n    os.path.join(str(ds_rcp85_path).split(\\\".\\\")[0] + \\\"_new.nc\\\")\\n)  # Export netcdf file\";\n                var nbb_cells = Jupyter.notebook.get_cells();\n                for (var i = 0; i < nbb_cells.length; ++i) {\n                    if (nbb_cells[i].input_prompt_number == nbb_cell_id) {\n                        if (nbb_cells[i].get_text() == nbb_unformatted_code) {\n                             nbb_cells[i].set_text(nbb_formatted_code);\n                        }\n                        break;\n                    }\n                }\n            }, 500);\n            ",
      "text/plain": [
       "<IPython.core.display.Javascript object>"
      ]
     },
     "metadata": {},
     "output_type": "display_data"
    }
   ],
   "source": [
    "# saving the new datasets\n",
    "ds_comb_45.to_netcdf(\n",
    "    os.path.join(str(ds_rcp45_path).split(\".\")[0] + \"_new.nc\")\n",
    ")  # Export netcdf file\n",
    "ds_comb_85.to_netcdf(\n",
    "    os.path.join(str(ds_rcp85_path).split(\".\")[0] + \"_new.nc\")\n",
    ")  # Export netcdf file"
   ]
  },
  {
   "cell_type": "markdown",
   "id": "4d9d1359",
   "metadata": {},
   "source": [
    "### Check CF compliancy original NetCDF files"
   ]
  },
  {
   "cell_type": "code",
   "execution_count": 7,
   "id": "456f3596",
   "metadata": {},
   "outputs": [
    {
     "data": {
      "application/javascript": "\n            setTimeout(function() {\n                var nbb_cell_id = 7;\n                var nbb_unformatted_code = \"# overwrite paths to load new files\\nds_historical_path = ds_dir.joinpath(\\\"CoastAlRisk_Europe_ESL_Historical_new.nc\\\")\\nds_rcp45_path = ds_dir.joinpath(\\\"CoastAlRisk_Europe_ESL_RCP45_new.nc\\\")\\nds_rcp85_path = ds_dir.joinpath(\\\"CoastAlRisk_Europe_ESL_RCP85_new.nc\\\")\";\n                var nbb_formatted_code = \"# overwrite paths to load new files\\nds_historical_path = ds_dir.joinpath(\\\"CoastAlRisk_Europe_ESL_Historical_new.nc\\\")\\nds_rcp45_path = ds_dir.joinpath(\\\"CoastAlRisk_Europe_ESL_RCP45_new.nc\\\")\\nds_rcp85_path = ds_dir.joinpath(\\\"CoastAlRisk_Europe_ESL_RCP85_new.nc\\\")\";\n                var nbb_cells = Jupyter.notebook.get_cells();\n                for (var i = 0; i < nbb_cells.length; ++i) {\n                    if (nbb_cells[i].input_prompt_number == nbb_cell_id) {\n                        if (nbb_cells[i].get_text() == nbb_unformatted_code) {\n                             nbb_cells[i].set_text(nbb_formatted_code);\n                        }\n                        break;\n                    }\n                }\n            }, 500);\n            ",
      "text/plain": [
       "<IPython.core.display.Javascript object>"
      ]
     },
     "metadata": {},
     "output_type": "display_data"
    }
   ],
   "source": [
    "# overwrite paths to load new files\n",
    "ds_historical_path = ds_dir.joinpath(\"CoastAlRisk_Europe_ESL_Historical_new.nc\")\n",
    "ds_rcp45_path = ds_dir.joinpath(\"CoastAlRisk_Europe_ESL_RCP45_new.nc\")\n",
    "ds_rcp85_path = ds_dir.joinpath(\"CoastAlRisk_Europe_ESL_RCP85_new.nc\")"
   ]
  },
  {
   "cell_type": "code",
   "execution_count": 8,
   "id": "4e88de5e",
   "metadata": {},
   "outputs": [
    {
     "data": {
      "text/html": [
       "<div><svg style=\"position: absolute; width: 0; height: 0; overflow: hidden\">\n",
       "<defs>\n",
       "<symbol id=\"icon-database\" viewBox=\"0 0 32 32\">\n",
       "<path d=\"M16 0c-8.837 0-16 2.239-16 5v4c0 2.761 7.163 5 16 5s16-2.239 16-5v-4c0-2.761-7.163-5-16-5z\"></path>\n",
       "<path d=\"M16 17c-8.837 0-16-2.239-16-5v6c0 2.761 7.163 5 16 5s16-2.239 16-5v-6c0 2.761-7.163 5-16 5z\"></path>\n",
       "<path d=\"M16 26c-8.837 0-16-2.239-16-5v6c0 2.761 7.163 5 16 5s16-2.239 16-5v-6c0 2.761-7.163 5-16 5z\"></path>\n",
       "</symbol>\n",
       "<symbol id=\"icon-file-text2\" viewBox=\"0 0 32 32\">\n",
       "<path d=\"M28.681 7.159c-0.694-0.947-1.662-2.053-2.724-3.116s-2.169-2.030-3.116-2.724c-1.612-1.182-2.393-1.319-2.841-1.319h-15.5c-1.378 0-2.5 1.121-2.5 2.5v27c0 1.378 1.122 2.5 2.5 2.5h23c1.378 0 2.5-1.122 2.5-2.5v-19.5c0-0.448-0.137-1.23-1.319-2.841zM24.543 5.457c0.959 0.959 1.712 1.825 2.268 2.543h-4.811v-4.811c0.718 0.556 1.584 1.309 2.543 2.268zM28 29.5c0 0.271-0.229 0.5-0.5 0.5h-23c-0.271 0-0.5-0.229-0.5-0.5v-27c0-0.271 0.229-0.5 0.5-0.5 0 0 15.499-0 15.5 0v7c0 0.552 0.448 1 1 1h7v19.5z\"></path>\n",
       "<path d=\"M23 26h-14c-0.552 0-1-0.448-1-1s0.448-1 1-1h14c0.552 0 1 0.448 1 1s-0.448 1-1 1z\"></path>\n",
       "<path d=\"M23 22h-14c-0.552 0-1-0.448-1-1s0.448-1 1-1h14c0.552 0 1 0.448 1 1s-0.448 1-1 1z\"></path>\n",
       "<path d=\"M23 18h-14c-0.552 0-1-0.448-1-1s0.448-1 1-1h14c0.552 0 1 0.448 1 1s-0.448 1-1 1z\"></path>\n",
       "</symbol>\n",
       "</defs>\n",
       "</svg>\n",
       "<style>/* CSS stylesheet for displaying xarray objects in jupyterlab.\n",
       " *\n",
       " */\n",
       "\n",
       ":root {\n",
       "  --xr-font-color0: var(--jp-content-font-color0, rgba(0, 0, 0, 1));\n",
       "  --xr-font-color2: var(--jp-content-font-color2, rgba(0, 0, 0, 0.54));\n",
       "  --xr-font-color3: var(--jp-content-font-color3, rgba(0, 0, 0, 0.38));\n",
       "  --xr-border-color: var(--jp-border-color2, #e0e0e0);\n",
       "  --xr-disabled-color: var(--jp-layout-color3, #bdbdbd);\n",
       "  --xr-background-color: var(--jp-layout-color0, white);\n",
       "  --xr-background-color-row-even: var(--jp-layout-color1, white);\n",
       "  --xr-background-color-row-odd: var(--jp-layout-color2, #eeeeee);\n",
       "}\n",
       "\n",
       "html[theme=dark],\n",
       "body.vscode-dark {\n",
       "  --xr-font-color0: rgba(255, 255, 255, 1);\n",
       "  --xr-font-color2: rgba(255, 255, 255, 0.54);\n",
       "  --xr-font-color3: rgba(255, 255, 255, 0.38);\n",
       "  --xr-border-color: #1F1F1F;\n",
       "  --xr-disabled-color: #515151;\n",
       "  --xr-background-color: #111111;\n",
       "  --xr-background-color-row-even: #111111;\n",
       "  --xr-background-color-row-odd: #313131;\n",
       "}\n",
       "\n",
       ".xr-wrap {\n",
       "  display: block !important;\n",
       "  min-width: 300px;\n",
       "  max-width: 700px;\n",
       "}\n",
       "\n",
       ".xr-text-repr-fallback {\n",
       "  /* fallback to plain text repr when CSS is not injected (untrusted notebook) */\n",
       "  display: none;\n",
       "}\n",
       "\n",
       ".xr-header {\n",
       "  padding-top: 6px;\n",
       "  padding-bottom: 6px;\n",
       "  margin-bottom: 4px;\n",
       "  border-bottom: solid 1px var(--xr-border-color);\n",
       "}\n",
       "\n",
       ".xr-header > div,\n",
       ".xr-header > ul {\n",
       "  display: inline;\n",
       "  margin-top: 0;\n",
       "  margin-bottom: 0;\n",
       "}\n",
       "\n",
       ".xr-obj-type,\n",
       ".xr-array-name {\n",
       "  margin-left: 2px;\n",
       "  margin-right: 10px;\n",
       "}\n",
       "\n",
       ".xr-obj-type {\n",
       "  color: var(--xr-font-color2);\n",
       "}\n",
       "\n",
       ".xr-sections {\n",
       "  padding-left: 0 !important;\n",
       "  display: grid;\n",
       "  grid-template-columns: 150px auto auto 1fr 20px 20px;\n",
       "}\n",
       "\n",
       ".xr-section-item {\n",
       "  display: contents;\n",
       "}\n",
       "\n",
       ".xr-section-item input {\n",
       "  display: none;\n",
       "}\n",
       "\n",
       ".xr-section-item input + label {\n",
       "  color: var(--xr-disabled-color);\n",
       "}\n",
       "\n",
       ".xr-section-item input:enabled + label {\n",
       "  cursor: pointer;\n",
       "  color: var(--xr-font-color2);\n",
       "}\n",
       "\n",
       ".xr-section-item input:enabled + label:hover {\n",
       "  color: var(--xr-font-color0);\n",
       "}\n",
       "\n",
       ".xr-section-summary {\n",
       "  grid-column: 1;\n",
       "  color: var(--xr-font-color2);\n",
       "  font-weight: 500;\n",
       "}\n",
       "\n",
       ".xr-section-summary > span {\n",
       "  display: inline-block;\n",
       "  padding-left: 0.5em;\n",
       "}\n",
       "\n",
       ".xr-section-summary-in:disabled + label {\n",
       "  color: var(--xr-font-color2);\n",
       "}\n",
       "\n",
       ".xr-section-summary-in + label:before {\n",
       "  display: inline-block;\n",
       "  content: '►';\n",
       "  font-size: 11px;\n",
       "  width: 15px;\n",
       "  text-align: center;\n",
       "}\n",
       "\n",
       ".xr-section-summary-in:disabled + label:before {\n",
       "  color: var(--xr-disabled-color);\n",
       "}\n",
       "\n",
       ".xr-section-summary-in:checked + label:before {\n",
       "  content: '▼';\n",
       "}\n",
       "\n",
       ".xr-section-summary-in:checked + label > span {\n",
       "  display: none;\n",
       "}\n",
       "\n",
       ".xr-section-summary,\n",
       ".xr-section-inline-details {\n",
       "  padding-top: 4px;\n",
       "  padding-bottom: 4px;\n",
       "}\n",
       "\n",
       ".xr-section-inline-details {\n",
       "  grid-column: 2 / -1;\n",
       "}\n",
       "\n",
       ".xr-section-details {\n",
       "  display: none;\n",
       "  grid-column: 1 / -1;\n",
       "  margin-bottom: 5px;\n",
       "}\n",
       "\n",
       ".xr-section-summary-in:checked ~ .xr-section-details {\n",
       "  display: contents;\n",
       "}\n",
       "\n",
       ".xr-array-wrap {\n",
       "  grid-column: 1 / -1;\n",
       "  display: grid;\n",
       "  grid-template-columns: 20px auto;\n",
       "}\n",
       "\n",
       ".xr-array-wrap > label {\n",
       "  grid-column: 1;\n",
       "  vertical-align: top;\n",
       "}\n",
       "\n",
       ".xr-preview {\n",
       "  color: var(--xr-font-color3);\n",
       "}\n",
       "\n",
       ".xr-array-preview,\n",
       ".xr-array-data {\n",
       "  padding: 0 5px !important;\n",
       "  grid-column: 2;\n",
       "}\n",
       "\n",
       ".xr-array-data,\n",
       ".xr-array-in:checked ~ .xr-array-preview {\n",
       "  display: none;\n",
       "}\n",
       "\n",
       ".xr-array-in:checked ~ .xr-array-data,\n",
       ".xr-array-preview {\n",
       "  display: inline-block;\n",
       "}\n",
       "\n",
       ".xr-dim-list {\n",
       "  display: inline-block !important;\n",
       "  list-style: none;\n",
       "  padding: 0 !important;\n",
       "  margin: 0;\n",
       "}\n",
       "\n",
       ".xr-dim-list li {\n",
       "  display: inline-block;\n",
       "  padding: 0;\n",
       "  margin: 0;\n",
       "}\n",
       "\n",
       ".xr-dim-list:before {\n",
       "  content: '(';\n",
       "}\n",
       "\n",
       ".xr-dim-list:after {\n",
       "  content: ')';\n",
       "}\n",
       "\n",
       ".xr-dim-list li:not(:last-child):after {\n",
       "  content: ',';\n",
       "  padding-right: 5px;\n",
       "}\n",
       "\n",
       ".xr-has-index {\n",
       "  font-weight: bold;\n",
       "}\n",
       "\n",
       ".xr-var-list,\n",
       ".xr-var-item {\n",
       "  display: contents;\n",
       "}\n",
       "\n",
       ".xr-var-item > div,\n",
       ".xr-var-item label,\n",
       ".xr-var-item > .xr-var-name span {\n",
       "  background-color: var(--xr-background-color-row-even);\n",
       "  margin-bottom: 0;\n",
       "}\n",
       "\n",
       ".xr-var-item > .xr-var-name:hover span {\n",
       "  padding-right: 5px;\n",
       "}\n",
       "\n",
       ".xr-var-list > li:nth-child(odd) > div,\n",
       ".xr-var-list > li:nth-child(odd) > label,\n",
       ".xr-var-list > li:nth-child(odd) > .xr-var-name span {\n",
       "  background-color: var(--xr-background-color-row-odd);\n",
       "}\n",
       "\n",
       ".xr-var-name {\n",
       "  grid-column: 1;\n",
       "}\n",
       "\n",
       ".xr-var-dims {\n",
       "  grid-column: 2;\n",
       "}\n",
       "\n",
       ".xr-var-dtype {\n",
       "  grid-column: 3;\n",
       "  text-align: right;\n",
       "  color: var(--xr-font-color2);\n",
       "}\n",
       "\n",
       ".xr-var-preview {\n",
       "  grid-column: 4;\n",
       "}\n",
       "\n",
       ".xr-var-name,\n",
       ".xr-var-dims,\n",
       ".xr-var-dtype,\n",
       ".xr-preview,\n",
       ".xr-attrs dt {\n",
       "  white-space: nowrap;\n",
       "  overflow: hidden;\n",
       "  text-overflow: ellipsis;\n",
       "  padding-right: 10px;\n",
       "}\n",
       "\n",
       ".xr-var-name:hover,\n",
       ".xr-var-dims:hover,\n",
       ".xr-var-dtype:hover,\n",
       ".xr-attrs dt:hover {\n",
       "  overflow: visible;\n",
       "  width: auto;\n",
       "  z-index: 1;\n",
       "}\n",
       "\n",
       ".xr-var-attrs,\n",
       ".xr-var-data {\n",
       "  display: none;\n",
       "  background-color: var(--xr-background-color) !important;\n",
       "  padding-bottom: 5px !important;\n",
       "}\n",
       "\n",
       ".xr-var-attrs-in:checked ~ .xr-var-attrs,\n",
       ".xr-var-data-in:checked ~ .xr-var-data {\n",
       "  display: block;\n",
       "}\n",
       "\n",
       ".xr-var-data > table {\n",
       "  float: right;\n",
       "}\n",
       "\n",
       ".xr-var-name span,\n",
       ".xr-var-data,\n",
       ".xr-attrs {\n",
       "  padding-left: 25px !important;\n",
       "}\n",
       "\n",
       ".xr-attrs,\n",
       ".xr-var-attrs,\n",
       ".xr-var-data {\n",
       "  grid-column: 1 / -1;\n",
       "}\n",
       "\n",
       "dl.xr-attrs {\n",
       "  padding: 0;\n",
       "  margin: 0;\n",
       "  display: grid;\n",
       "  grid-template-columns: 125px auto;\n",
       "}\n",
       "\n",
       ".xr-attrs dt,\n",
       ".xr-attrs dd {\n",
       "  padding: 0;\n",
       "  margin: 0;\n",
       "  float: left;\n",
       "  padding-right: 10px;\n",
       "  width: auto;\n",
       "}\n",
       "\n",
       ".xr-attrs dt {\n",
       "  font-weight: normal;\n",
       "  grid-column: 1;\n",
       "}\n",
       "\n",
       ".xr-attrs dt:hover span {\n",
       "  display: inline-block;\n",
       "  background: var(--xr-background-color);\n",
       "  padding-right: 10px;\n",
       "}\n",
       "\n",
       ".xr-attrs dd {\n",
       "  grid-column: 2;\n",
       "  white-space: pre-wrap;\n",
       "  word-break: break-all;\n",
       "}\n",
       "\n",
       ".xr-icon-database,\n",
       ".xr-icon-file-text2 {\n",
       "  display: inline-block;\n",
       "  vertical-align: middle;\n",
       "  width: 1em;\n",
       "  height: 1.5em !important;\n",
       "  stroke-width: 0;\n",
       "  stroke: currentColor;\n",
       "  fill: currentColor;\n",
       "}\n",
       "</style><pre class='xr-text-repr-fallback'>&lt;xarray.Dataset&gt;\n",
       "Dimensions:    (npoints: 11014, nrp: 8, nens: 3, nsdec: 1)\n",
       "Dimensions without coordinates: npoints, nrp, nens, nsdec\n",
       "Data variables:\n",
       "    longitude  (npoints) float64 -8.991 -9.493 -9.472 ... 41.55 41.68 41.72\n",
       "    latitude   (npoints) float64 37.03 38.78 38.75 37.02 ... 41.52 41.67 41.7\n",
       "    esl        (npoints, nrp, nens, nsdec) float64 ...\n",
       "    eewl       (npoints, nrp, nens, nsdec) float64 ...\n",
       "    rp         (nrp) float32 5.0 10.0 20.0 50.0 100.0 200.0 500.0 1e+03\n",
       "    ensmbl     (nens) float32 1.0 2.0 3.0\n",
       "    decades    (nsdec) float32 1.995e+03\n",
       "Attributes:\n",
       "    title:            Extreme Sea Levels\n",
       "    Institution:      Joint European Research Center, Directorate for Space, ...\n",
       "    Project Name:     Prototype of a first Global Integrated Coastal Impact-b...\n",
       "    Project Acronym:  CoastAlRisk\n",
       "    reference:         Vousdoukas MI., Mentaschi L., Voukouvalas E., Verlaan ...\n",
       "    email:            michail.vousdoukas@ec.europa.eu\n",
       "    version:          1.2\n",
       "    terms_for_use:    European Union, 1995-2015.\\nReuse is authorised, provid...\n",
       "    disclaimer:       Unless the following would not be permitted or valid un...</pre><div class='xr-wrap' style='display:none'><div class='xr-header'><div class='xr-obj-type'>xarray.Dataset</div></div><ul class='xr-sections'><li class='xr-section-item'><input id='section-c86da0ed-039b-4e06-92c1-b201f201d6f7' class='xr-section-summary-in' type='checkbox' disabled ><label for='section-c86da0ed-039b-4e06-92c1-b201f201d6f7' class='xr-section-summary'  title='Expand/collapse section'>Dimensions:</label><div class='xr-section-inline-details'><ul class='xr-dim-list'><li><span>npoints</span>: 11014</li><li><span>nrp</span>: 8</li><li><span>nens</span>: 3</li><li><span>nsdec</span>: 1</li></ul></div><div class='xr-section-details'></div></li><li class='xr-section-item'><input id='section-5b897eef-717e-4e17-8ed6-a3ae3ace9b11' class='xr-section-summary-in' type='checkbox' disabled ><label for='section-5b897eef-717e-4e17-8ed6-a3ae3ace9b11' class='xr-section-summary'  title='Expand/collapse section'>Coordinates: <span>(0)</span></label><div class='xr-section-inline-details'></div><div class='xr-section-details'><ul class='xr-var-list'></ul></div></li><li class='xr-section-item'><input id='section-f366b6f3-fe01-48a5-b0d8-4bf29b00dd0f' class='xr-section-summary-in' type='checkbox'  checked><label for='section-f366b6f3-fe01-48a5-b0d8-4bf29b00dd0f' class='xr-section-summary' >Data variables: <span>(7)</span></label><div class='xr-section-inline-details'></div><div class='xr-section-details'><ul class='xr-var-list'><li class='xr-var-item'><div class='xr-var-name'><span>longitude</span></div><div class='xr-var-dims'>(npoints)</div><div class='xr-var-dtype'>float64</div><div class='xr-var-preview xr-preview'>...</div><input id='attrs-fdc90885-da6b-4525-b5e5-93bce9dcff13' class='xr-var-attrs-in' type='checkbox' ><label for='attrs-fdc90885-da6b-4525-b5e5-93bce9dcff13' title='Show/Hide attributes'><svg class='icon xr-icon-file-text2'><use xlink:href='#icon-file-text2'></use></svg></label><input id='data-b1050c41-4371-4c10-96e7-387f0f7fcd5e' class='xr-var-data-in' type='checkbox'><label for='data-b1050c41-4371-4c10-96e7-387f0f7fcd5e' title='Show/Hide data repr'><svg class='icon xr-icon-database'><use xlink:href='#icon-database'></use></svg></label><div class='xr-var-attrs'><dl class='xr-attrs'><dt><span>long_name :</span></dt><dd>longitude</dd><dt><span>units :</span></dt><dd>degrees_east</dd><dt><span>standard_name :</span></dt><dd>longitude</dd></dl></div><div class='xr-var-data'><pre>array([-8.991017, -9.493332, -9.472104, ..., 41.547617, 41.681992, 41.715657])</pre></div></li><li class='xr-var-item'><div class='xr-var-name'><span>latitude</span></div><div class='xr-var-dims'>(npoints)</div><div class='xr-var-dtype'>float64</div><div class='xr-var-preview xr-preview'>...</div><input id='attrs-9a056e08-4907-4185-b9d8-b45b8548949b' class='xr-var-attrs-in' type='checkbox' ><label for='attrs-9a056e08-4907-4185-b9d8-b45b8548949b' title='Show/Hide attributes'><svg class='icon xr-icon-file-text2'><use xlink:href='#icon-file-text2'></use></svg></label><input id='data-fbce2943-a20f-46a2-905c-08c62711afe8' class='xr-var-data-in' type='checkbox'><label for='data-fbce2943-a20f-46a2-905c-08c62711afe8' title='Show/Hide data repr'><svg class='icon xr-icon-database'><use xlink:href='#icon-database'></use></svg></label><div class='xr-var-attrs'><dl class='xr-attrs'><dt><span>long_name :</span></dt><dd>latitude</dd><dt><span>units :</span></dt><dd>degrees_north</dd><dt><span>standard_name :</span></dt><dd>latitude</dd></dl></div><div class='xr-var-data'><pre>array([37.030349, 38.775557, 38.748394, ..., 41.523451, 41.666119, 41.702245])</pre></div></li><li class='xr-var-item'><div class='xr-var-name'><span>esl</span></div><div class='xr-var-dims'>(npoints, nrp, nens, nsdec)</div><div class='xr-var-dtype'>float64</div><div class='xr-var-preview xr-preview'>...</div><input id='attrs-257c5ddb-1170-4b12-9ac5-da791fd68e78' class='xr-var-attrs-in' type='checkbox' ><label for='attrs-257c5ddb-1170-4b12-9ac5-da791fd68e78' title='Show/Hide attributes'><svg class='icon xr-icon-file-text2'><use xlink:href='#icon-file-text2'></use></svg></label><input id='data-08378e42-9465-4301-b56e-62b59f77f1fe' class='xr-var-data-in' type='checkbox'><label for='data-08378e42-9465-4301-b56e-62b59f77f1fe' title='Show/Hide data repr'><svg class='icon xr-icon-database'><use xlink:href='#icon-database'></use></svg></label><div class='xr-var-attrs'><dl class='xr-attrs'><dt><span>long_name :</span></dt><dd>extreme sea level</dd><dt><span>units :</span></dt><dd>m</dd></dl></div><div class='xr-var-data'><pre>[264336 values with dtype=float64]</pre></div></li><li class='xr-var-item'><div class='xr-var-name'><span>eewl</span></div><div class='xr-var-dims'>(npoints, nrp, nens, nsdec)</div><div class='xr-var-dtype'>float64</div><div class='xr-var-preview xr-preview'>...</div><input id='attrs-7f0f8a71-b9fb-4e3c-b257-75b995b991b9' class='xr-var-attrs-in' type='checkbox' ><label for='attrs-7f0f8a71-b9fb-4e3c-b257-75b995b991b9' title='Show/Hide attributes'><svg class='icon xr-icon-file-text2'><use xlink:href='#icon-file-text2'></use></svg></label><input id='data-60177b1b-4cc7-4d59-bc2a-73c51394592b' class='xr-var-data-in' type='checkbox'><label for='data-60177b1b-4cc7-4d59-bc2a-73c51394592b' title='Show/Hide data repr'><svg class='icon xr-icon-database'><use xlink:href='#icon-database'></use></svg></label><div class='xr-var-attrs'><dl class='xr-attrs'><dt><span>long_name :</span></dt><dd>episodic extreme water level</dd><dt><span>units :</span></dt><dd>m</dd></dl></div><div class='xr-var-data'><pre>[264336 values with dtype=float64]</pre></div></li><li class='xr-var-item'><div class='xr-var-name'><span>rp</span></div><div class='xr-var-dims'>(nrp)</div><div class='xr-var-dtype'>float32</div><div class='xr-var-preview xr-preview'>...</div><input id='attrs-9280c5a3-1bfb-4f50-834a-858cc3efcd8a' class='xr-var-attrs-in' type='checkbox' ><label for='attrs-9280c5a3-1bfb-4f50-834a-858cc3efcd8a' title='Show/Hide attributes'><svg class='icon xr-icon-file-text2'><use xlink:href='#icon-file-text2'></use></svg></label><input id='data-acb5052e-78b4-4028-9193-78e170cc4e1a' class='xr-var-data-in' type='checkbox'><label for='data-acb5052e-78b4-4028-9193-78e170cc4e1a' title='Show/Hide data repr'><svg class='icon xr-icon-database'><use xlink:href='#icon-database'></use></svg></label><div class='xr-var-attrs'><dl class='xr-attrs'><dt><span>long_name :</span></dt><dd>return period</dd><dt><span>units :</span></dt><dd>years</dd><dt><span>Starting date :</span></dt><dd>01-Dec-1969</dd><dt><span>End date :</span></dt><dd>30-Nov-2004 21:00:00</dd></dl></div><div class='xr-var-data'><pre>array([   5.,   10.,   20.,   50.,  100.,  200.,  500., 1000.], dtype=float32)</pre></div></li><li class='xr-var-item'><div class='xr-var-name'><span>ensmbl</span></div><div class='xr-var-dims'>(nens)</div><div class='xr-var-dtype'>float32</div><div class='xr-var-preview xr-preview'>...</div><input id='attrs-1cc96cb1-624e-4224-82c4-122ed9a4c8f9' class='xr-var-attrs-in' type='checkbox' ><label for='attrs-1cc96cb1-624e-4224-82c4-122ed9a4c8f9' title='Show/Hide attributes'><svg class='icon xr-icon-file-text2'><use xlink:href='#icon-file-text2'></use></svg></label><input id='data-62c55f60-78cc-454f-97f8-0d449f2244e0' class='xr-var-data-in' type='checkbox'><label for='data-62c55f60-78cc-454f-97f8-0d449f2244e0' title='Show/Hide data repr'><svg class='icon xr-icon-database'><use xlink:href='#icon-database'></use></svg></label><div class='xr-var-attrs'><dl class='xr-attrs'><dt><span>long_name :</span></dt><dd>Relative Sea Level Rise ensemble</dd><dt><span>Contents :</span></dt><dd>1: min, 2: mean, 3: max</dd></dl></div><div class='xr-var-data'><pre>array([1., 2., 3.], dtype=float32)</pre></div></li><li class='xr-var-item'><div class='xr-var-name'><span>decades</span></div><div class='xr-var-dims'>(nsdec)</div><div class='xr-var-dtype'>float32</div><div class='xr-var-preview xr-preview'>...</div><input id='attrs-868599fd-ebc3-4125-bff9-a4572b409410' class='xr-var-attrs-in' type='checkbox' disabled><label for='attrs-868599fd-ebc3-4125-bff9-a4572b409410' title='Show/Hide attributes'><svg class='icon xr-icon-file-text2'><use xlink:href='#icon-file-text2'></use></svg></label><input id='data-c8bf8cbc-f9a1-4e64-abf9-f579d1073451' class='xr-var-data-in' type='checkbox'><label for='data-c8bf8cbc-f9a1-4e64-abf9-f579d1073451' title='Show/Hide data repr'><svg class='icon xr-icon-database'><use xlink:href='#icon-database'></use></svg></label><div class='xr-var-attrs'><dl class='xr-attrs'></dl></div><div class='xr-var-data'><pre>array([1995.], dtype=float32)</pre></div></li></ul></div></li><li class='xr-section-item'><input id='section-0b0ac67c-aca2-4393-8ee7-15941c31b871' class='xr-section-summary-in' type='checkbox'  checked><label for='section-0b0ac67c-aca2-4393-8ee7-15941c31b871' class='xr-section-summary' >Attributes: <span>(9)</span></label><div class='xr-section-inline-details'></div><div class='xr-section-details'><dl class='xr-attrs'><dt><span>title :</span></dt><dd>Extreme Sea Levels</dd><dt><span>Institution :</span></dt><dd>Joint European Research Center, Directorate for Space, Security and Migration, Via Enrico Fermi 2749, I-21027-Ispra</dd><dt><span>Project Name :</span></dt><dd>Prototype of a first Global Integrated Coastal Impact-based Flood Alert and Risk Assessment Tool</dd><dt><span>Project Acronym :</span></dt><dd>CoastAlRisk</dd><dt><span>reference :</span></dt><dd> Vousdoukas MI., Mentaschi L., Voukouvalas E., Verlaan M., Feyen L. (2017). Extreme sea levels on the rise along Europe&#x27;s coasts. Earth&#x27;s Future. doi:10.1002/2016EF000505 </dd><dt><span>email :</span></dt><dd>michail.vousdoukas@ec.europa.eu</dd><dt><span>version :</span></dt><dd>1.2</dd><dt><span>terms_for_use :</span></dt><dd>European Union, 1995-2015.\n",
       "Reuse is authorised, provided the source is acknowledged. The reuse policy of the European Commission is implemented by a Decision of 12 December 2011.</dd><dt><span>disclaimer :</span></dt><dd>Unless the following would not be permitted or valid under applicable law, the following applies to the data/information provided by the JRC:\n",
       "\n",
       "1. The JRC data are provided &quot;as is&quot; and &quot;as available&quot; without warranty of any kind, either express or implied, including, but not limited to, any implied warranty against infringement of third parties&#x27; property rights, or merchantability, integration, absence of latent or other defects, satisfactory quality and fitness for a particular purpose. The JRC data do not constitute professional or legal advice (if you need specific advice, you should always consult a suitably qualified professional).\n",
       "2. The JRC has no obligation to provide technical support or remedies for the data. The JRC does not represent or warrant that the data will be error free or uninterrupted, or that all non-conformities can or will be corrected, or that any data are accurate or complete, or that they are of a satisfactory technical or scientific quality.\n",
       "3. The JRC or as the case may be the European Commission shall not be held liable for any direct or indirect, incidental, consequential or other damages, including but not limited to the loss of data, loss of profits, or any other financial loss arising from the use of the JRC data, or inability to use them, even if the JRC is notified of the possibility of such damages.</dd></dl></div></li></ul></div></div>"
      ],
      "text/plain": [
       "<xarray.Dataset>\n",
       "Dimensions:    (npoints: 11014, nrp: 8, nens: 3, nsdec: 1)\n",
       "Dimensions without coordinates: npoints, nrp, nens, nsdec\n",
       "Data variables:\n",
       "    longitude  (npoints) float64 ...\n",
       "    latitude   (npoints) float64 ...\n",
       "    esl        (npoints, nrp, nens, nsdec) float64 ...\n",
       "    eewl       (npoints, nrp, nens, nsdec) float64 ...\n",
       "    rp         (nrp) float32 ...\n",
       "    ensmbl     (nens) float32 ...\n",
       "    decades    (nsdec) float32 ...\n",
       "Attributes:\n",
       "    title:            Extreme Sea Levels\n",
       "    Institution:      Joint European Research Center, Directorate for Space, ...\n",
       "    Project Name:     Prototype of a first Global Integrated Coastal Impact-b...\n",
       "    Project Acronym:  CoastAlRisk\n",
       "    reference:         Vousdoukas MI., Mentaschi L., Voukouvalas E., Verlaan ...\n",
       "    email:            michail.vousdoukas@ec.europa.eu\n",
       "    version:          1.2\n",
       "    terms_for_use:    European Union, 1995-2015.\\nReuse is authorised, provid...\n",
       "    disclaimer:       Unless the following would not be permitted or valid un..."
      ]
     },
     "execution_count": 8,
     "metadata": {},
     "output_type": "execute_result"
    },
    {
     "data": {
      "application/javascript": "\n            setTimeout(function() {\n                var nbb_cell_id = 8;\n                var nbb_unformatted_code = \"# open datasets\\nds_hist = xr.open_dataset(ds_historical_path)\\nds_45rcp = xr.open_dataset(ds_rcp45_path)\\nds_85rcp = xr.open_dataset(ds_rcp85_path)\\n\\n# check original dataset\\nds_hist\";\n                var nbb_formatted_code = \"# open datasets\\nds_hist = xr.open_dataset(ds_historical_path)\\nds_45rcp = xr.open_dataset(ds_rcp45_path)\\nds_85rcp = xr.open_dataset(ds_rcp85_path)\\n\\n# check original dataset\\nds_hist\";\n                var nbb_cells = Jupyter.notebook.get_cells();\n                for (var i = 0; i < nbb_cells.length; ++i) {\n                    if (nbb_cells[i].input_prompt_number == nbb_cell_id) {\n                        if (nbb_cells[i].get_text() == nbb_unformatted_code) {\n                             nbb_cells[i].set_text(nbb_formatted_code);\n                        }\n                        break;\n                    }\n                }\n            }, 500);\n            ",
      "text/plain": [
       "<IPython.core.display.Javascript object>"
      ]
     },
     "metadata": {},
     "output_type": "display_data"
    }
   ],
   "source": [
    "# open datasets\n",
    "ds_hist = xr.open_dataset(ds_historical_path)\n",
    "ds_45rcp = xr.open_dataset(ds_rcp45_path)\n",
    "ds_85rcp = xr.open_dataset(ds_rcp85_path)\n",
    "\n",
    "# check original dataset\n",
    "ds_hist"
   ]
  },
  {
   "cell_type": "code",
   "execution_count": 9,
   "id": "a4057296",
   "metadata": {},
   "outputs": [
    {
     "data": {
      "application/javascript": "\n            setTimeout(function() {\n                var nbb_cell_id = 9;\n                var nbb_unformatted_code = \"%%capture cap --no-stderr\\n# check original CF compliancy\\n\\ncheck_compliancy(testfile=ds_historical_path, working_dir=CF_dir)\";\n                var nbb_formatted_code = \"%%capture cap --no-stderr\\n# check original CF compliancy\\n\\ncheck_compliancy(testfile=ds_historical_path, working_dir=CF_dir)\";\n                var nbb_cells = Jupyter.notebook.get_cells();\n                for (var i = 0; i < nbb_cells.length; ++i) {\n                    if (nbb_cells[i].input_prompt_number == nbb_cell_id) {\n                        if (nbb_cells[i].get_text() == nbb_unformatted_code) {\n                             nbb_cells[i].set_text(nbb_formatted_code);\n                        }\n                        break;\n                    }\n                }\n            }, 500);\n            ",
      "text/plain": [
       "<IPython.core.display.Javascript object>"
      ]
     },
     "metadata": {},
     "output_type": "display_data"
    }
   ],
   "source": [
    "%%capture cap --no-stderr\n",
    "# check original CF compliancy\n",
    "\n",
    "check_compliancy(testfile=ds_historical_path, working_dir=CF_dir)"
   ]
  },
  {
   "cell_type": "code",
   "execution_count": 10,
   "id": "89ab2b07",
   "metadata": {},
   "outputs": [
    {
     "name": "stdout",
     "output_type": "stream",
     "text": [
      "{'P:\\\\11205479-coclico\\\\data\\\\03_sea_level_jrc\\\\CoastAlRisk_Europe_ESL_Historical_new.nc': {'warnings': '4', 'errors': '2'}}\n"
     ]
    },
    {
     "data": {
      "application/javascript": "\n            setTimeout(function() {\n                var nbb_cell_id = 10;\n                var nbb_unformatted_code = \"# save original CF compliancy\\nsave_compliancy(cap, testfile=ds_historical_path, working_dir=CF_dir)\";\n                var nbb_formatted_code = \"# save original CF compliancy\\nsave_compliancy(cap, testfile=ds_historical_path, working_dir=CF_dir)\";\n                var nbb_cells = Jupyter.notebook.get_cells();\n                for (var i = 0; i < nbb_cells.length; ++i) {\n                    if (nbb_cells[i].input_prompt_number == nbb_cell_id) {\n                        if (nbb_cells[i].get_text() == nbb_unformatted_code) {\n                             nbb_cells[i].set_text(nbb_formatted_code);\n                        }\n                        break;\n                    }\n                }\n            }, 500);\n            ",
      "text/plain": [
       "<IPython.core.display.Javascript object>"
      ]
     },
     "metadata": {},
     "output_type": "display_data"
    }
   ],
   "source": [
    "# save original CF compliancy\n",
    "save_compliancy(cap, testfile=ds_historical_path, working_dir=CF_dir)"
   ]
  },
  {
   "cell_type": "code",
   "execution_count": 11,
   "id": "7f569418",
   "metadata": {},
   "outputs": [
    {
     "data": {
      "application/javascript": "\n            setTimeout(function() {\n                var nbb_cell_id = 11;\n                var nbb_unformatted_code = \"%%capture cap --no-stderr\\n# check original CF compliancy\\n\\ncheck_compliancy(testfile=ds_rcp45_path, working_dir=CF_dir)\";\n                var nbb_formatted_code = \"%%capture cap --no-stderr\\n# check original CF compliancy\\n\\ncheck_compliancy(testfile=ds_rcp45_path, working_dir=CF_dir)\";\n                var nbb_cells = Jupyter.notebook.get_cells();\n                for (var i = 0; i < nbb_cells.length; ++i) {\n                    if (nbb_cells[i].input_prompt_number == nbb_cell_id) {\n                        if (nbb_cells[i].get_text() == nbb_unformatted_code) {\n                             nbb_cells[i].set_text(nbb_formatted_code);\n                        }\n                        break;\n                    }\n                }\n            }, 500);\n            ",
      "text/plain": [
       "<IPython.core.display.Javascript object>"
      ]
     },
     "metadata": {},
     "output_type": "display_data"
    }
   ],
   "source": [
    "%%capture cap --no-stderr\n",
    "# check original CF compliancy\n",
    "\n",
    "check_compliancy(testfile=ds_rcp45_path, working_dir=CF_dir)"
   ]
  },
  {
   "cell_type": "code",
   "execution_count": 12,
   "id": "69d2e3fa",
   "metadata": {},
   "outputs": [
    {
     "name": "stdout",
     "output_type": "stream",
     "text": [
      "{'P:\\\\11205479-coclico\\\\data\\\\03_sea_level_jrc\\\\CoastAlRisk_Europe_ESL_RCP45_new.nc': {'warnings': '4', 'errors': '2'}}\n"
     ]
    },
    {
     "data": {
      "application/javascript": "\n            setTimeout(function() {\n                var nbb_cell_id = 12;\n                var nbb_unformatted_code = \"# save original CF compliancy\\nsave_compliancy(cap, testfile=ds_rcp45_path, working_dir=CF_dir)\";\n                var nbb_formatted_code = \"# save original CF compliancy\\nsave_compliancy(cap, testfile=ds_rcp45_path, working_dir=CF_dir)\";\n                var nbb_cells = Jupyter.notebook.get_cells();\n                for (var i = 0; i < nbb_cells.length; ++i) {\n                    if (nbb_cells[i].input_prompt_number == nbb_cell_id) {\n                        if (nbb_cells[i].get_text() == nbb_unformatted_code) {\n                             nbb_cells[i].set_text(nbb_formatted_code);\n                        }\n                        break;\n                    }\n                }\n            }, 500);\n            ",
      "text/plain": [
       "<IPython.core.display.Javascript object>"
      ]
     },
     "metadata": {},
     "output_type": "display_data"
    }
   ],
   "source": [
    "# save original CF compliancy\n",
    "save_compliancy(cap, testfile=ds_rcp45_path, working_dir=CF_dir)"
   ]
  },
  {
   "cell_type": "code",
   "execution_count": 13,
   "id": "c60b15e5",
   "metadata": {},
   "outputs": [
    {
     "data": {
      "application/javascript": "\n            setTimeout(function() {\n                var nbb_cell_id = 13;\n                var nbb_unformatted_code = \"%%capture cap --no-stderr\\n# check original CF compliancy\\n\\ncheck_compliancy(testfile=ds_rcp85_path, working_dir=CF_dir)\";\n                var nbb_formatted_code = \"%%capture cap --no-stderr\\n# check original CF compliancy\\n\\ncheck_compliancy(testfile=ds_rcp85_path, working_dir=CF_dir)\";\n                var nbb_cells = Jupyter.notebook.get_cells();\n                for (var i = 0; i < nbb_cells.length; ++i) {\n                    if (nbb_cells[i].input_prompt_number == nbb_cell_id) {\n                        if (nbb_cells[i].get_text() == nbb_unformatted_code) {\n                             nbb_cells[i].set_text(nbb_formatted_code);\n                        }\n                        break;\n                    }\n                }\n            }, 500);\n            ",
      "text/plain": [
       "<IPython.core.display.Javascript object>"
      ]
     },
     "metadata": {},
     "output_type": "display_data"
    }
   ],
   "source": [
    "%%capture cap --no-stderr\n",
    "# check original CF compliancy\n",
    "\n",
    "check_compliancy(testfile=ds_rcp85_path, working_dir=CF_dir)"
   ]
  },
  {
   "cell_type": "code",
   "execution_count": 14,
   "id": "978ae0cb",
   "metadata": {},
   "outputs": [
    {
     "name": "stdout",
     "output_type": "stream",
     "text": [
      "{'P:\\\\11205479-coclico\\\\data\\\\03_sea_level_jrc\\\\CoastAlRisk_Europe_ESL_RCP85_new.nc': {'warnings': '4', 'errors': '2'}}\n"
     ]
    },
    {
     "data": {
      "application/javascript": "\n            setTimeout(function() {\n                var nbb_cell_id = 14;\n                var nbb_unformatted_code = \"# save original CF compliancy\\nsave_compliancy(cap, testfile=ds_rcp85_path, working_dir=CF_dir)\";\n                var nbb_formatted_code = \"# save original CF compliancy\\nsave_compliancy(cap, testfile=ds_rcp85_path, working_dir=CF_dir)\";\n                var nbb_cells = Jupyter.notebook.get_cells();\n                for (var i = 0; i < nbb_cells.length; ++i) {\n                    if (nbb_cells[i].input_prompt_number == nbb_cell_id) {\n                        if (nbb_cells[i].get_text() == nbb_unformatted_code) {\n                             nbb_cells[i].set_text(nbb_formatted_code);\n                        }\n                        break;\n                    }\n                }\n            }, 500);\n            ",
      "text/plain": [
       "<IPython.core.display.Javascript object>"
      ]
     },
     "metadata": {},
     "output_type": "display_data"
    }
   ],
   "source": [
    "# save original CF compliancy\n",
    "save_compliancy(cap, testfile=ds_rcp85_path, working_dir=CF_dir)"
   ]
  },
  {
   "cell_type": "markdown",
   "id": "77a9150b",
   "metadata": {},
   "source": [
    "### Make CF compliant alterations to the NetCDF files (dataset dependent)"
   ]
  },
  {
   "cell_type": "code",
   "execution_count": 15,
   "id": "41aebd95",
   "metadata": {},
   "outputs": [
    {
     "data": {
      "application/javascript": "\n            setTimeout(function() {\n                var nbb_cell_id = 15;\n                var nbb_unformatted_code = \"# NetCDF attribute alterations\\n\\n# rename global attribute names\\nds_hist.attrs[\\\"Project_Name\\\"] = ds_hist.attrs.pop(\\\"Project Name\\\")\\nds_hist.attrs[\\\"Project_Acronym\\\"] = ds_hist.attrs.pop(\\\"Project Acronym\\\")\\nds_45rcp.attrs[\\\"Project_Name\\\"] = ds_45rcp.attrs.pop(\\\"Project Name\\\")\\nds_45rcp.attrs[\\\"Project_Acronym\\\"] = ds_45rcp.attrs.pop(\\\"Project Acronym\\\")\\nds_85rcp.attrs[\\\"Project_Name\\\"] = ds_85rcp.attrs.pop(\\\"Project Name\\\")\\nds_85rcp.attrs[\\\"Project_Acronym\\\"] = ds_85rcp.attrs.pop(\\\"Project Acronym\\\")\\n\\n# add global attributes\\nds_hist.attrs[\\\"Conventions\\\"] = \\\"CF-1.8\\\"\\nds_45rcp.attrs[\\\"Conventions\\\"] = \\\"CF-1.8\\\"\\nds_85rcp.attrs[\\\"Conventions\\\"] = \\\"CF-1.8\\\"\\nds_hist.attrs[\\\"Starting_date\\\"] = \\\"01-Dec-1969\\\"\\nds_hist.attrs[\\\"End_date\\\"] = \\\"30-Nov-2004 21:00:00\\\"\\nds_45rcp.attrs[\\\"Starting_date\\\"] = \\\"01-Dec-2009\\\"\\nds_45rcp.attrs[\\\"End_date\\\"] = \\\"30-Nov-2099 21:00:00\\\"\\nds_85rcp.attrs[\\\"Starting_date\\\"] = \\\"01-Dec-2009\\\"\\nds_85rcp.attrs[\\\"End_date\\\"] = \\\"30-Nov-2099 21:00:00\\\"\\n\\n# remove certain variable attributes\\ndel ds_hist[\\\"rp\\\"].attrs[\\\"Starting date\\\"]\\ndel ds_hist[\\\"rp\\\"].attrs[\\\"End date\\\"]\\ndel ds_45rcp[\\\"rp\\\"].attrs[\\\"Starting date\\\"]\\ndel ds_45rcp[\\\"rp\\\"].attrs[\\\"End date\\\"]\\ndel ds_85rcp[\\\"rp\\\"].attrs[\\\"Starting date\\\"]\\ndel ds_85rcp[\\\"rp\\\"].attrs[\\\"End date\\\"]\\n\\n# add or change certain variable / coordinate attributes\\ndataset_attributes = {\\n    \\\"decades\\\": {\\\"long_name\\\": \\\"decade window\\\", \\\"Format\\\": \\\"YYYY\\\", \\\"units\\\": \\\"yr\\\"}\\n}  # specify custom (CF convention) attributes\\n\\n# add / overwrite attributes\\nfor k, v in dataset_attributes.items():\\n    try:\\n        ds_hist[k].attrs = dataset_attributes[k]\\n        ds_45rcp[k].attrs = dataset_attributes[k]\\n        ds_85rcp[k].attrs = dataset_attributes[k]\\n    except:\\n        continue\";\n                var nbb_formatted_code = \"# NetCDF attribute alterations\\n\\n# rename global attribute names\\nds_hist.attrs[\\\"Project_Name\\\"] = ds_hist.attrs.pop(\\\"Project Name\\\")\\nds_hist.attrs[\\\"Project_Acronym\\\"] = ds_hist.attrs.pop(\\\"Project Acronym\\\")\\nds_45rcp.attrs[\\\"Project_Name\\\"] = ds_45rcp.attrs.pop(\\\"Project Name\\\")\\nds_45rcp.attrs[\\\"Project_Acronym\\\"] = ds_45rcp.attrs.pop(\\\"Project Acronym\\\")\\nds_85rcp.attrs[\\\"Project_Name\\\"] = ds_85rcp.attrs.pop(\\\"Project Name\\\")\\nds_85rcp.attrs[\\\"Project_Acronym\\\"] = ds_85rcp.attrs.pop(\\\"Project Acronym\\\")\\n\\n# add global attributes\\nds_hist.attrs[\\\"Conventions\\\"] = \\\"CF-1.8\\\"\\nds_45rcp.attrs[\\\"Conventions\\\"] = \\\"CF-1.8\\\"\\nds_85rcp.attrs[\\\"Conventions\\\"] = \\\"CF-1.8\\\"\\nds_hist.attrs[\\\"Starting_date\\\"] = \\\"01-Dec-1969\\\"\\nds_hist.attrs[\\\"End_date\\\"] = \\\"30-Nov-2004 21:00:00\\\"\\nds_45rcp.attrs[\\\"Starting_date\\\"] = \\\"01-Dec-2009\\\"\\nds_45rcp.attrs[\\\"End_date\\\"] = \\\"30-Nov-2099 21:00:00\\\"\\nds_85rcp.attrs[\\\"Starting_date\\\"] = \\\"01-Dec-2009\\\"\\nds_85rcp.attrs[\\\"End_date\\\"] = \\\"30-Nov-2099 21:00:00\\\"\\n\\n# remove certain variable attributes\\ndel ds_hist[\\\"rp\\\"].attrs[\\\"Starting date\\\"]\\ndel ds_hist[\\\"rp\\\"].attrs[\\\"End date\\\"]\\ndel ds_45rcp[\\\"rp\\\"].attrs[\\\"Starting date\\\"]\\ndel ds_45rcp[\\\"rp\\\"].attrs[\\\"End date\\\"]\\ndel ds_85rcp[\\\"rp\\\"].attrs[\\\"Starting date\\\"]\\ndel ds_85rcp[\\\"rp\\\"].attrs[\\\"End date\\\"]\\n\\n# add or change certain variable / coordinate attributes\\ndataset_attributes = {\\n    \\\"decades\\\": {\\\"long_name\\\": \\\"decade window\\\", \\\"Format\\\": \\\"YYYY\\\", \\\"units\\\": \\\"yr\\\"}\\n}  # specify custom (CF convention) attributes\\n\\n# add / overwrite attributes\\nfor k, v in dataset_attributes.items():\\n    try:\\n        ds_hist[k].attrs = dataset_attributes[k]\\n        ds_45rcp[k].attrs = dataset_attributes[k]\\n        ds_85rcp[k].attrs = dataset_attributes[k]\\n    except:\\n        continue\";\n                var nbb_cells = Jupyter.notebook.get_cells();\n                for (var i = 0; i < nbb_cells.length; ++i) {\n                    if (nbb_cells[i].input_prompt_number == nbb_cell_id) {\n                        if (nbb_cells[i].get_text() == nbb_unformatted_code) {\n                             nbb_cells[i].set_text(nbb_formatted_code);\n                        }\n                        break;\n                    }\n                }\n            }, 500);\n            ",
      "text/plain": [
       "<IPython.core.display.Javascript object>"
      ]
     },
     "metadata": {},
     "output_type": "display_data"
    }
   ],
   "source": [
    "# NetCDF attribute alterations\n",
    "\n",
    "# rename global attribute names\n",
    "ds_hist.attrs[\"Project_Name\"] = ds_hist.attrs.pop(\"Project Name\")\n",
    "ds_hist.attrs[\"Project_Acronym\"] = ds_hist.attrs.pop(\"Project Acronym\")\n",
    "ds_45rcp.attrs[\"Project_Name\"] = ds_45rcp.attrs.pop(\"Project Name\")\n",
    "ds_45rcp.attrs[\"Project_Acronym\"] = ds_45rcp.attrs.pop(\"Project Acronym\")\n",
    "ds_85rcp.attrs[\"Project_Name\"] = ds_85rcp.attrs.pop(\"Project Name\")\n",
    "ds_85rcp.attrs[\"Project_Acronym\"] = ds_85rcp.attrs.pop(\"Project Acronym\")\n",
    "\n",
    "# add global attributes\n",
    "ds_hist.attrs[\"Conventions\"] = \"CF-1.8\"\n",
    "ds_45rcp.attrs[\"Conventions\"] = \"CF-1.8\"\n",
    "ds_85rcp.attrs[\"Conventions\"] = \"CF-1.8\"\n",
    "ds_hist.attrs[\"Starting_date\"] = \"01-Dec-1969\"\n",
    "ds_hist.attrs[\"End_date\"] = \"30-Nov-2004 21:00:00\"\n",
    "ds_45rcp.attrs[\"Starting_date\"] = \"01-Dec-2009\"\n",
    "ds_45rcp.attrs[\"End_date\"] = \"30-Nov-2099 21:00:00\"\n",
    "ds_85rcp.attrs[\"Starting_date\"] = \"01-Dec-2009\"\n",
    "ds_85rcp.attrs[\"End_date\"] = \"30-Nov-2099 21:00:00\"\n",
    "\n",
    "# remove certain variable attributes\n",
    "del ds_hist[\"rp\"].attrs[\"Starting date\"]\n",
    "del ds_hist[\"rp\"].attrs[\"End date\"]\n",
    "del ds_45rcp[\"rp\"].attrs[\"Starting date\"]\n",
    "del ds_45rcp[\"rp\"].attrs[\"End date\"]\n",
    "del ds_85rcp[\"rp\"].attrs[\"Starting date\"]\n",
    "del ds_85rcp[\"rp\"].attrs[\"End date\"]\n",
    "\n",
    "# add or change certain variable / coordinate attributes\n",
    "dataset_attributes = {\n",
    "    \"decades\": {\"long_name\": \"decade window\", \"Format\": \"YYYY\", \"units\": \"yr\"}\n",
    "}  # specify custom (CF convention) attributes\n",
    "\n",
    "# add / overwrite attributes\n",
    "for k, v in dataset_attributes.items():\n",
    "    try:\n",
    "        ds_hist[k].attrs = dataset_attributes[k]\n",
    "        ds_45rcp[k].attrs = dataset_attributes[k]\n",
    "        ds_85rcp[k].attrs = dataset_attributes[k]\n",
    "    except:\n",
    "        continue"
   ]
  },
  {
   "cell_type": "code",
   "execution_count": 16,
   "id": "41053533",
   "metadata": {},
   "outputs": [
    {
     "data": {
      "application/javascript": "\n            setTimeout(function() {\n                var nbb_cell_id = 16;\n                var nbb_unformatted_code = \"# NetCDF variable and dimension alterations\\n\\n# rename or swap dimension names, the latter in case the name already exists as coordinate\\nds_hist = ds_hist.rename_dims(\\n    {\\\"npoints\\\": \\\"stations\\\", \\\"nens\\\": \\\"nensemble\\\", \\\"nsdec\\\": \\\"time\\\"}\\n)\\nds_45rcp = ds_45rcp.rename_dims(\\n    {\\\"npoints\\\": \\\"stations\\\", \\\"nens\\\": \\\"nensemble\\\", \\\"nsdec\\\": \\\"time\\\"}\\n)\\nds_85rcp = ds_85rcp.rename_dims(\\n    {\\\"npoints\\\": \\\"stations\\\", \\\"nens\\\": \\\"nensemble\\\", \\\"nsdec\\\": \\\"time\\\"}\\n)\\nds_hist = ds_hist.swap_dims({\\\"nrp\\\": \\\"rp\\\"})\\nds_45rcp = ds_45rcp.swap_dims({\\\"nrp\\\": \\\"rp\\\"})\\nds_85rcp = ds_85rcp.swap_dims({\\\"nrp\\\": \\\"rp\\\"})\\n\\n# rename variables, if necessary\\nds_hist = ds_hist.rename_vars(\\n    {\\\"longitude\\\": \\\"lon\\\", \\\"latitude\\\": \\\"lat\\\", \\\"ensmbl\\\": \\\"ensemble\\\", \\\"decades\\\": \\\"time\\\"}\\n)\\nds_45rcp = ds_45rcp.rename_vars(\\n    {\\\"longitude\\\": \\\"lon\\\", \\\"latitude\\\": \\\"lat\\\", \\\"ensmbl\\\": \\\"ensemble\\\", \\\"decades\\\": \\\"time\\\"}\\n)\\nds_85rcp = ds_85rcp.rename_vars(\\n    {\\\"longitude\\\": \\\"lon\\\", \\\"latitude\\\": \\\"lat\\\", \\\"ensmbl\\\": \\\"ensemble\\\", \\\"decades\\\": \\\"time\\\"}\\n)\\n\\n# set some data variables to coordinates to avoid duplication of dimensions in later stage\\nds_hist = ds_hist.set_coords([\\\"lon\\\", \\\"lat\\\", \\\"rp\\\", \\\"time\\\"])\\nds_45rcp = ds_45rcp.set_coords([\\\"lon\\\", \\\"lat\\\", \\\"rp\\\", \\\"time\\\"])\\nds_85rcp = ds_85rcp.set_coords([\\\"lon\\\", \\\"lat\\\", \\\"rp\\\", \\\"time\\\"])\\n\\n# assign coordinate strings i.s.o. integers (and copy along the attributes)\\nds_hist = ds_hist.assign_coords(\\n    {\\n        \\\"ensemble\\\": (\\n            \\\"nensemble\\\",\\n            np.array([\\\"min\\\", \\\"mean\\\", \\\"max\\\"], dtype=\\\"S\\\"),\\n            ds_hist.ensemble.attrs,\\n        )\\n    }\\n)\\nds_45rcp = ds_45rcp.assign_coords(\\n    {\\n        \\\"ensemble\\\": (\\n            \\\"nensemble\\\",\\n            np.array([\\\"min\\\", \\\"mean\\\", \\\"max\\\"], dtype=\\\"S\\\"),\\n            ds_45rcp.ensemble.attrs,\\n        )\\n    }\\n)\\nds_85rcp = ds_85rcp.assign_coords(\\n    {\\n        \\\"ensemble\\\": (\\n            \\\"nensemble\\\",\\n            np.array([\\\"min\\\", \\\"mean\\\", \\\"max\\\"], dtype=\\\"S\\\"),\\n            ds_85rcp.ensemble.attrs,\\n        )\\n    }\\n)\\n\\n# remove attributes in copied entries\\ndel ds_hist[\\\"ensemble\\\"].attrs[\\\"Contents\\\"]\\ndel ds_45rcp[\\\"ensemble\\\"].attrs[\\\"Contents\\\"]\\ndel ds_85rcp[\\\"ensemble\\\"].attrs[\\\"Contents\\\"]\";\n                var nbb_formatted_code = \"# NetCDF variable and dimension alterations\\n\\n# rename or swap dimension names, the latter in case the name already exists as coordinate\\nds_hist = ds_hist.rename_dims(\\n    {\\\"npoints\\\": \\\"stations\\\", \\\"nens\\\": \\\"nensemble\\\", \\\"nsdec\\\": \\\"time\\\"}\\n)\\nds_45rcp = ds_45rcp.rename_dims(\\n    {\\\"npoints\\\": \\\"stations\\\", \\\"nens\\\": \\\"nensemble\\\", \\\"nsdec\\\": \\\"time\\\"}\\n)\\nds_85rcp = ds_85rcp.rename_dims(\\n    {\\\"npoints\\\": \\\"stations\\\", \\\"nens\\\": \\\"nensemble\\\", \\\"nsdec\\\": \\\"time\\\"}\\n)\\nds_hist = ds_hist.swap_dims({\\\"nrp\\\": \\\"rp\\\"})\\nds_45rcp = ds_45rcp.swap_dims({\\\"nrp\\\": \\\"rp\\\"})\\nds_85rcp = ds_85rcp.swap_dims({\\\"nrp\\\": \\\"rp\\\"})\\n\\n# rename variables, if necessary\\nds_hist = ds_hist.rename_vars(\\n    {\\\"longitude\\\": \\\"lon\\\", \\\"latitude\\\": \\\"lat\\\", \\\"ensmbl\\\": \\\"ensemble\\\", \\\"decades\\\": \\\"time\\\"}\\n)\\nds_45rcp = ds_45rcp.rename_vars(\\n    {\\\"longitude\\\": \\\"lon\\\", \\\"latitude\\\": \\\"lat\\\", \\\"ensmbl\\\": \\\"ensemble\\\", \\\"decades\\\": \\\"time\\\"}\\n)\\nds_85rcp = ds_85rcp.rename_vars(\\n    {\\\"longitude\\\": \\\"lon\\\", \\\"latitude\\\": \\\"lat\\\", \\\"ensmbl\\\": \\\"ensemble\\\", \\\"decades\\\": \\\"time\\\"}\\n)\\n\\n# set some data variables to coordinates to avoid duplication of dimensions in later stage\\nds_hist = ds_hist.set_coords([\\\"lon\\\", \\\"lat\\\", \\\"rp\\\", \\\"time\\\"])\\nds_45rcp = ds_45rcp.set_coords([\\\"lon\\\", \\\"lat\\\", \\\"rp\\\", \\\"time\\\"])\\nds_85rcp = ds_85rcp.set_coords([\\\"lon\\\", \\\"lat\\\", \\\"rp\\\", \\\"time\\\"])\\n\\n# assign coordinate strings i.s.o. integers (and copy along the attributes)\\nds_hist = ds_hist.assign_coords(\\n    {\\n        \\\"ensemble\\\": (\\n            \\\"nensemble\\\",\\n            np.array([\\\"min\\\", \\\"mean\\\", \\\"max\\\"], dtype=\\\"S\\\"),\\n            ds_hist.ensemble.attrs,\\n        )\\n    }\\n)\\nds_45rcp = ds_45rcp.assign_coords(\\n    {\\n        \\\"ensemble\\\": (\\n            \\\"nensemble\\\",\\n            np.array([\\\"min\\\", \\\"mean\\\", \\\"max\\\"], dtype=\\\"S\\\"),\\n            ds_45rcp.ensemble.attrs,\\n        )\\n    }\\n)\\nds_85rcp = ds_85rcp.assign_coords(\\n    {\\n        \\\"ensemble\\\": (\\n            \\\"nensemble\\\",\\n            np.array([\\\"min\\\", \\\"mean\\\", \\\"max\\\"], dtype=\\\"S\\\"),\\n            ds_85rcp.ensemble.attrs,\\n        )\\n    }\\n)\\n\\n# remove attributes in copied entries\\ndel ds_hist[\\\"ensemble\\\"].attrs[\\\"Contents\\\"]\\ndel ds_45rcp[\\\"ensemble\\\"].attrs[\\\"Contents\\\"]\\ndel ds_85rcp[\\\"ensemble\\\"].attrs[\\\"Contents\\\"]\";\n                var nbb_cells = Jupyter.notebook.get_cells();\n                for (var i = 0; i < nbb_cells.length; ++i) {\n                    if (nbb_cells[i].input_prompt_number == nbb_cell_id) {\n                        if (nbb_cells[i].get_text() == nbb_unformatted_code) {\n                             nbb_cells[i].set_text(nbb_formatted_code);\n                        }\n                        break;\n                    }\n                }\n            }, 500);\n            ",
      "text/plain": [
       "<IPython.core.display.Javascript object>"
      ]
     },
     "metadata": {},
     "output_type": "display_data"
    }
   ],
   "source": [
    "# NetCDF variable and dimension alterations\n",
    "\n",
    "# rename or swap dimension names, the latter in case the name already exists as coordinate\n",
    "ds_hist = ds_hist.rename_dims(\n",
    "    {\"npoints\": \"stations\", \"nens\": \"nensemble\", \"nsdec\": \"time\"}\n",
    ")\n",
    "ds_45rcp = ds_45rcp.rename_dims(\n",
    "    {\"npoints\": \"stations\", \"nens\": \"nensemble\", \"nsdec\": \"time\"}\n",
    ")\n",
    "ds_85rcp = ds_85rcp.rename_dims(\n",
    "    {\"npoints\": \"stations\", \"nens\": \"nensemble\", \"nsdec\": \"time\"}\n",
    ")\n",
    "ds_hist = ds_hist.swap_dims({\"nrp\": \"rp\"})\n",
    "ds_45rcp = ds_45rcp.swap_dims({\"nrp\": \"rp\"})\n",
    "ds_85rcp = ds_85rcp.swap_dims({\"nrp\": \"rp\"})\n",
    "\n",
    "# rename variables, if necessary\n",
    "ds_hist = ds_hist.rename_vars(\n",
    "    {\"longitude\": \"lon\", \"latitude\": \"lat\", \"ensmbl\": \"ensemble\", \"decades\": \"time\"}\n",
    ")\n",
    "ds_45rcp = ds_45rcp.rename_vars(\n",
    "    {\"longitude\": \"lon\", \"latitude\": \"lat\", \"ensmbl\": \"ensemble\", \"decades\": \"time\"}\n",
    ")\n",
    "ds_85rcp = ds_85rcp.rename_vars(\n",
    "    {\"longitude\": \"lon\", \"latitude\": \"lat\", \"ensmbl\": \"ensemble\", \"decades\": \"time\"}\n",
    ")\n",
    "\n",
    "# set some data variables to coordinates to avoid duplication of dimensions in later stage\n",
    "ds_hist = ds_hist.set_coords([\"lon\", \"lat\", \"rp\", \"time\"])\n",
    "ds_45rcp = ds_45rcp.set_coords([\"lon\", \"lat\", \"rp\", \"time\"])\n",
    "ds_85rcp = ds_85rcp.set_coords([\"lon\", \"lat\", \"rp\", \"time\"])\n",
    "\n",
    "# assign coordinate strings i.s.o. integers (and copy along the attributes)\n",
    "ds_hist = ds_hist.assign_coords(\n",
    "    {\n",
    "        \"ensemble\": (\n",
    "            \"nensemble\",\n",
    "            np.array([\"min\", \"mean\", \"max\"], dtype=\"S\"),\n",
    "            ds_hist.ensemble.attrs,\n",
    "        )\n",
    "    }\n",
    ")\n",
    "ds_45rcp = ds_45rcp.assign_coords(\n",
    "    {\n",
    "        \"ensemble\": (\n",
    "            \"nensemble\",\n",
    "            np.array([\"min\", \"mean\", \"max\"], dtype=\"S\"),\n",
    "            ds_45rcp.ensemble.attrs,\n",
    "        )\n",
    "    }\n",
    ")\n",
    "ds_85rcp = ds_85rcp.assign_coords(\n",
    "    {\n",
    "        \"ensemble\": (\n",
    "            \"nensemble\",\n",
    "            np.array([\"min\", \"mean\", \"max\"], dtype=\"S\"),\n",
    "            ds_85rcp.ensemble.attrs,\n",
    "        )\n",
    "    }\n",
    ")\n",
    "\n",
    "# remove attributes in copied entries\n",
    "del ds_hist[\"ensemble\"].attrs[\"Contents\"]\n",
    "del ds_45rcp[\"ensemble\"].attrs[\"Contents\"]\n",
    "del ds_85rcp[\"ensemble\"].attrs[\"Contents\"]"
   ]
  },
  {
   "cell_type": "code",
   "execution_count": 17,
   "id": "e89f9950",
   "metadata": {},
   "outputs": [
    {
     "data": {
      "application/javascript": "\n            setTimeout(function() {\n                var nbb_cell_id = 17;\n                var nbb_unformatted_code = \"# concat datasets along new dimension with index values and name derived from pandas index object, if necessary\\ndataset = xr.concat([ds_45rcp, ds_85rcp], dim=\\\"nscenarios\\\")\\ndataset = dataset.assign_coords(\\n    scenarios=(\\\"nscenarios\\\", np.array([\\\"RCP45\\\", \\\"RCP85\\\"], dtype=\\\"S\\\"))\\n)\\n\\n# dataset = xr.concat(\\n#     [dataset_historical, dataset_45rcp, dataset_85rcp],\\n#     pd.Index([\\\"historical\\\", \\\"rcp45\\\", \\\"rcp85\\\"], name=\\\"scenarios\\\"),\\n# )\\n\\n# dataset[\\\"scenarios\\\"].values.astype(\\\"U\\\") # retrieve scenarios as string\";\n                var nbb_formatted_code = \"# concat datasets along new dimension with index values and name derived from pandas index object, if necessary\\ndataset = xr.concat([ds_45rcp, ds_85rcp], dim=\\\"nscenarios\\\")\\ndataset = dataset.assign_coords(\\n    scenarios=(\\\"nscenarios\\\", np.array([\\\"RCP45\\\", \\\"RCP85\\\"], dtype=\\\"S\\\"))\\n)\\n\\n# dataset = xr.concat(\\n#     [dataset_historical, dataset_45rcp, dataset_85rcp],\\n#     pd.Index([\\\"historical\\\", \\\"rcp45\\\", \\\"rcp85\\\"], name=\\\"scenarios\\\"),\\n# )\\n\\n# dataset[\\\"scenarios\\\"].values.astype(\\\"U\\\") # retrieve scenarios as string\";\n                var nbb_cells = Jupyter.notebook.get_cells();\n                for (var i = 0; i < nbb_cells.length; ++i) {\n                    if (nbb_cells[i].input_prompt_number == nbb_cell_id) {\n                        if (nbb_cells[i].get_text() == nbb_unformatted_code) {\n                             nbb_cells[i].set_text(nbb_formatted_code);\n                        }\n                        break;\n                    }\n                }\n            }, 500);\n            ",
      "text/plain": [
       "<IPython.core.display.Javascript object>"
      ]
     },
     "metadata": {},
     "output_type": "display_data"
    }
   ],
   "source": [
    "# concat datasets along new dimension with index values and name derived from pandas index object, if necessary\n",
    "dataset = xr.concat([ds_45rcp, ds_85rcp], dim=\"nscenarios\")\n",
    "dataset = dataset.assign_coords(\n",
    "    scenarios=(\"nscenarios\", np.array([\"RCP45\", \"RCP85\"], dtype=\"S\"))\n",
    ")\n",
    "\n",
    "# dataset = xr.concat(\n",
    "#     [dataset_historical, dataset_45rcp, dataset_85rcp],\n",
    "#     pd.Index([\"historical\", \"rcp45\", \"rcp85\"], name=\"scenarios\"),\n",
    "# )\n",
    "\n",
    "# dataset[\"scenarios\"].values.astype(\"U\") # retrieve scenarios as string"
   ]
  },
  {
   "cell_type": "code",
   "execution_count": 18,
   "id": "7ada3ac9",
   "metadata": {},
   "outputs": [
    {
     "data": {
      "application/javascript": "\n            setTimeout(function() {\n                var nbb_cell_id = 18;\n                var nbb_unformatted_code = \"# re-order shape of the data variables\\nds_hist = ds_hist.transpose(\\\"stations\\\", \\\"rp\\\", \\\"time\\\", \\\"nensemble\\\")\\nds_45rcp = ds_45rcp.transpose(\\\"stations\\\", \\\"rp\\\", \\\"time\\\", \\\"nensemble\\\")\\nds_85rcp = ds_85rcp.transpose(\\\"stations\\\", \\\"rp\\\", \\\"time\\\", \\\"nensemble\\\")\\ndataset = dataset.transpose(\\\"nscenarios\\\", \\\"stations\\\", \\\"rp\\\", \\\"time\\\", \\\"nensemble\\\")\\n\\n# add or change certain variable / coordinate attributes\\ndataset_attributes = {\\n    \\\"scenarios\\\": {\\\"long_name\\\": \\\"climate scenarios\\\"}\\n}  # specify custom (CF convention) attributes\\n\\n# add / overwrite attributes\\nfor k, v in dataset_attributes.items():\\n    try:\\n        dataset[k].attrs = dataset_attributes[k]\\n    except:\\n        continue\\n        \\n# add epsg\\nds_hist.attrs[\\\"crs\\\"] = 4326\\nds_45rcp.attrs[\\\"crs\\\"] = 4326\\nds_85rcp.attrs[\\\"crs\\\"] = 4326\\ndataset.attrs[\\\"crs\\\"] = 4326\";\n                var nbb_formatted_code = \"# re-order shape of the data variables\\nds_hist = ds_hist.transpose(\\\"stations\\\", \\\"rp\\\", \\\"time\\\", \\\"nensemble\\\")\\nds_45rcp = ds_45rcp.transpose(\\\"stations\\\", \\\"rp\\\", \\\"time\\\", \\\"nensemble\\\")\\nds_85rcp = ds_85rcp.transpose(\\\"stations\\\", \\\"rp\\\", \\\"time\\\", \\\"nensemble\\\")\\ndataset = dataset.transpose(\\\"nscenarios\\\", \\\"stations\\\", \\\"rp\\\", \\\"time\\\", \\\"nensemble\\\")\\n\\n# add or change certain variable / coordinate attributes\\ndataset_attributes = {\\n    \\\"scenarios\\\": {\\\"long_name\\\": \\\"climate scenarios\\\"}\\n}  # specify custom (CF convention) attributes\\n\\n# add / overwrite attributes\\nfor k, v in dataset_attributes.items():\\n    try:\\n        dataset[k].attrs = dataset_attributes[k]\\n    except:\\n        continue\\n\\n# add epsg\\nds_hist.attrs[\\\"crs\\\"] = 4326\\nds_45rcp.attrs[\\\"crs\\\"] = 4326\\nds_85rcp.attrs[\\\"crs\\\"] = 4326\\ndataset.attrs[\\\"crs\\\"] = 4326\";\n                var nbb_cells = Jupyter.notebook.get_cells();\n                for (var i = 0; i < nbb_cells.length; ++i) {\n                    if (nbb_cells[i].input_prompt_number == nbb_cell_id) {\n                        if (nbb_cells[i].get_text() == nbb_unformatted_code) {\n                             nbb_cells[i].set_text(nbb_formatted_code);\n                        }\n                        break;\n                    }\n                }\n            }, 500);\n            ",
      "text/plain": [
       "<IPython.core.display.Javascript object>"
      ]
     },
     "metadata": {},
     "output_type": "display_data"
    }
   ],
   "source": [
    "# re-order shape of the data variables\n",
    "ds_hist = ds_hist.transpose(\"stations\", \"rp\", \"time\", \"nensemble\")\n",
    "ds_45rcp = ds_45rcp.transpose(\"stations\", \"rp\", \"time\", \"nensemble\")\n",
    "ds_85rcp = ds_85rcp.transpose(\"stations\", \"rp\", \"time\", \"nensemble\")\n",
    "dataset = dataset.transpose(\"nscenarios\", \"stations\", \"rp\", \"time\", \"nensemble\")\n",
    "\n",
    "# add or change certain variable / coordinate attributes\n",
    "dataset_attributes = {\n",
    "    \"scenarios\": {\"long_name\": \"climate scenarios\"}\n",
    "}  # specify custom (CF convention) attributes\n",
    "\n",
    "# add / overwrite attributes\n",
    "for k, v in dataset_attributes.items():\n",
    "    try:\n",
    "        dataset[k].attrs = dataset_attributes[k]\n",
    "    except:\n",
    "        continue\n",
    "\n",
    "# add epsg\n",
    "ds_hist.attrs[\"crs\"] = 4326\n",
    "ds_45rcp.attrs[\"crs\"] = 4326\n",
    "ds_85rcp.attrs[\"crs\"] = 4326\n",
    "dataset.attrs[\"crs\"] = 4326"
   ]
  },
  {
   "cell_type": "code",
   "execution_count": 19,
   "id": "47662719",
   "metadata": {},
   "outputs": [
    {
     "data": {
      "text/html": [
       "<div><svg style=\"position: absolute; width: 0; height: 0; overflow: hidden\">\n",
       "<defs>\n",
       "<symbol id=\"icon-database\" viewBox=\"0 0 32 32\">\n",
       "<path d=\"M16 0c-8.837 0-16 2.239-16 5v4c0 2.761 7.163 5 16 5s16-2.239 16-5v-4c0-2.761-7.163-5-16-5z\"></path>\n",
       "<path d=\"M16 17c-8.837 0-16-2.239-16-5v6c0 2.761 7.163 5 16 5s16-2.239 16-5v-6c0 2.761-7.163 5-16 5z\"></path>\n",
       "<path d=\"M16 26c-8.837 0-16-2.239-16-5v6c0 2.761 7.163 5 16 5s16-2.239 16-5v-6c0 2.761-7.163 5-16 5z\"></path>\n",
       "</symbol>\n",
       "<symbol id=\"icon-file-text2\" viewBox=\"0 0 32 32\">\n",
       "<path d=\"M28.681 7.159c-0.694-0.947-1.662-2.053-2.724-3.116s-2.169-2.030-3.116-2.724c-1.612-1.182-2.393-1.319-2.841-1.319h-15.5c-1.378 0-2.5 1.121-2.5 2.5v27c0 1.378 1.122 2.5 2.5 2.5h23c1.378 0 2.5-1.122 2.5-2.5v-19.5c0-0.448-0.137-1.23-1.319-2.841zM24.543 5.457c0.959 0.959 1.712 1.825 2.268 2.543h-4.811v-4.811c0.718 0.556 1.584 1.309 2.543 2.268zM28 29.5c0 0.271-0.229 0.5-0.5 0.5h-23c-0.271 0-0.5-0.229-0.5-0.5v-27c0-0.271 0.229-0.5 0.5-0.5 0 0 15.499-0 15.5 0v7c0 0.552 0.448 1 1 1h7v19.5z\"></path>\n",
       "<path d=\"M23 26h-14c-0.552 0-1-0.448-1-1s0.448-1 1-1h14c0.552 0 1 0.448 1 1s-0.448 1-1 1z\"></path>\n",
       "<path d=\"M23 22h-14c-0.552 0-1-0.448-1-1s0.448-1 1-1h14c0.552 0 1 0.448 1 1s-0.448 1-1 1z\"></path>\n",
       "<path d=\"M23 18h-14c-0.552 0-1-0.448-1-1s0.448-1 1-1h14c0.552 0 1 0.448 1 1s-0.448 1-1 1z\"></path>\n",
       "</symbol>\n",
       "</defs>\n",
       "</svg>\n",
       "<style>/* CSS stylesheet for displaying xarray objects in jupyterlab.\n",
       " *\n",
       " */\n",
       "\n",
       ":root {\n",
       "  --xr-font-color0: var(--jp-content-font-color0, rgba(0, 0, 0, 1));\n",
       "  --xr-font-color2: var(--jp-content-font-color2, rgba(0, 0, 0, 0.54));\n",
       "  --xr-font-color3: var(--jp-content-font-color3, rgba(0, 0, 0, 0.38));\n",
       "  --xr-border-color: var(--jp-border-color2, #e0e0e0);\n",
       "  --xr-disabled-color: var(--jp-layout-color3, #bdbdbd);\n",
       "  --xr-background-color: var(--jp-layout-color0, white);\n",
       "  --xr-background-color-row-even: var(--jp-layout-color1, white);\n",
       "  --xr-background-color-row-odd: var(--jp-layout-color2, #eeeeee);\n",
       "}\n",
       "\n",
       "html[theme=dark],\n",
       "body.vscode-dark {\n",
       "  --xr-font-color0: rgba(255, 255, 255, 1);\n",
       "  --xr-font-color2: rgba(255, 255, 255, 0.54);\n",
       "  --xr-font-color3: rgba(255, 255, 255, 0.38);\n",
       "  --xr-border-color: #1F1F1F;\n",
       "  --xr-disabled-color: #515151;\n",
       "  --xr-background-color: #111111;\n",
       "  --xr-background-color-row-even: #111111;\n",
       "  --xr-background-color-row-odd: #313131;\n",
       "}\n",
       "\n",
       ".xr-wrap {\n",
       "  display: block !important;\n",
       "  min-width: 300px;\n",
       "  max-width: 700px;\n",
       "}\n",
       "\n",
       ".xr-text-repr-fallback {\n",
       "  /* fallback to plain text repr when CSS is not injected (untrusted notebook) */\n",
       "  display: none;\n",
       "}\n",
       "\n",
       ".xr-header {\n",
       "  padding-top: 6px;\n",
       "  padding-bottom: 6px;\n",
       "  margin-bottom: 4px;\n",
       "  border-bottom: solid 1px var(--xr-border-color);\n",
       "}\n",
       "\n",
       ".xr-header > div,\n",
       ".xr-header > ul {\n",
       "  display: inline;\n",
       "  margin-top: 0;\n",
       "  margin-bottom: 0;\n",
       "}\n",
       "\n",
       ".xr-obj-type,\n",
       ".xr-array-name {\n",
       "  margin-left: 2px;\n",
       "  margin-right: 10px;\n",
       "}\n",
       "\n",
       ".xr-obj-type {\n",
       "  color: var(--xr-font-color2);\n",
       "}\n",
       "\n",
       ".xr-sections {\n",
       "  padding-left: 0 !important;\n",
       "  display: grid;\n",
       "  grid-template-columns: 150px auto auto 1fr 20px 20px;\n",
       "}\n",
       "\n",
       ".xr-section-item {\n",
       "  display: contents;\n",
       "}\n",
       "\n",
       ".xr-section-item input {\n",
       "  display: none;\n",
       "}\n",
       "\n",
       ".xr-section-item input + label {\n",
       "  color: var(--xr-disabled-color);\n",
       "}\n",
       "\n",
       ".xr-section-item input:enabled + label {\n",
       "  cursor: pointer;\n",
       "  color: var(--xr-font-color2);\n",
       "}\n",
       "\n",
       ".xr-section-item input:enabled + label:hover {\n",
       "  color: var(--xr-font-color0);\n",
       "}\n",
       "\n",
       ".xr-section-summary {\n",
       "  grid-column: 1;\n",
       "  color: var(--xr-font-color2);\n",
       "  font-weight: 500;\n",
       "}\n",
       "\n",
       ".xr-section-summary > span {\n",
       "  display: inline-block;\n",
       "  padding-left: 0.5em;\n",
       "}\n",
       "\n",
       ".xr-section-summary-in:disabled + label {\n",
       "  color: var(--xr-font-color2);\n",
       "}\n",
       "\n",
       ".xr-section-summary-in + label:before {\n",
       "  display: inline-block;\n",
       "  content: '►';\n",
       "  font-size: 11px;\n",
       "  width: 15px;\n",
       "  text-align: center;\n",
       "}\n",
       "\n",
       ".xr-section-summary-in:disabled + label:before {\n",
       "  color: var(--xr-disabled-color);\n",
       "}\n",
       "\n",
       ".xr-section-summary-in:checked + label:before {\n",
       "  content: '▼';\n",
       "}\n",
       "\n",
       ".xr-section-summary-in:checked + label > span {\n",
       "  display: none;\n",
       "}\n",
       "\n",
       ".xr-section-summary,\n",
       ".xr-section-inline-details {\n",
       "  padding-top: 4px;\n",
       "  padding-bottom: 4px;\n",
       "}\n",
       "\n",
       ".xr-section-inline-details {\n",
       "  grid-column: 2 / -1;\n",
       "}\n",
       "\n",
       ".xr-section-details {\n",
       "  display: none;\n",
       "  grid-column: 1 / -1;\n",
       "  margin-bottom: 5px;\n",
       "}\n",
       "\n",
       ".xr-section-summary-in:checked ~ .xr-section-details {\n",
       "  display: contents;\n",
       "}\n",
       "\n",
       ".xr-array-wrap {\n",
       "  grid-column: 1 / -1;\n",
       "  display: grid;\n",
       "  grid-template-columns: 20px auto;\n",
       "}\n",
       "\n",
       ".xr-array-wrap > label {\n",
       "  grid-column: 1;\n",
       "  vertical-align: top;\n",
       "}\n",
       "\n",
       ".xr-preview {\n",
       "  color: var(--xr-font-color3);\n",
       "}\n",
       "\n",
       ".xr-array-preview,\n",
       ".xr-array-data {\n",
       "  padding: 0 5px !important;\n",
       "  grid-column: 2;\n",
       "}\n",
       "\n",
       ".xr-array-data,\n",
       ".xr-array-in:checked ~ .xr-array-preview {\n",
       "  display: none;\n",
       "}\n",
       "\n",
       ".xr-array-in:checked ~ .xr-array-data,\n",
       ".xr-array-preview {\n",
       "  display: inline-block;\n",
       "}\n",
       "\n",
       ".xr-dim-list {\n",
       "  display: inline-block !important;\n",
       "  list-style: none;\n",
       "  padding: 0 !important;\n",
       "  margin: 0;\n",
       "}\n",
       "\n",
       ".xr-dim-list li {\n",
       "  display: inline-block;\n",
       "  padding: 0;\n",
       "  margin: 0;\n",
       "}\n",
       "\n",
       ".xr-dim-list:before {\n",
       "  content: '(';\n",
       "}\n",
       "\n",
       ".xr-dim-list:after {\n",
       "  content: ')';\n",
       "}\n",
       "\n",
       ".xr-dim-list li:not(:last-child):after {\n",
       "  content: ',';\n",
       "  padding-right: 5px;\n",
       "}\n",
       "\n",
       ".xr-has-index {\n",
       "  font-weight: bold;\n",
       "}\n",
       "\n",
       ".xr-var-list,\n",
       ".xr-var-item {\n",
       "  display: contents;\n",
       "}\n",
       "\n",
       ".xr-var-item > div,\n",
       ".xr-var-item label,\n",
       ".xr-var-item > .xr-var-name span {\n",
       "  background-color: var(--xr-background-color-row-even);\n",
       "  margin-bottom: 0;\n",
       "}\n",
       "\n",
       ".xr-var-item > .xr-var-name:hover span {\n",
       "  padding-right: 5px;\n",
       "}\n",
       "\n",
       ".xr-var-list > li:nth-child(odd) > div,\n",
       ".xr-var-list > li:nth-child(odd) > label,\n",
       ".xr-var-list > li:nth-child(odd) > .xr-var-name span {\n",
       "  background-color: var(--xr-background-color-row-odd);\n",
       "}\n",
       "\n",
       ".xr-var-name {\n",
       "  grid-column: 1;\n",
       "}\n",
       "\n",
       ".xr-var-dims {\n",
       "  grid-column: 2;\n",
       "}\n",
       "\n",
       ".xr-var-dtype {\n",
       "  grid-column: 3;\n",
       "  text-align: right;\n",
       "  color: var(--xr-font-color2);\n",
       "}\n",
       "\n",
       ".xr-var-preview {\n",
       "  grid-column: 4;\n",
       "}\n",
       "\n",
       ".xr-var-name,\n",
       ".xr-var-dims,\n",
       ".xr-var-dtype,\n",
       ".xr-preview,\n",
       ".xr-attrs dt {\n",
       "  white-space: nowrap;\n",
       "  overflow: hidden;\n",
       "  text-overflow: ellipsis;\n",
       "  padding-right: 10px;\n",
       "}\n",
       "\n",
       ".xr-var-name:hover,\n",
       ".xr-var-dims:hover,\n",
       ".xr-var-dtype:hover,\n",
       ".xr-attrs dt:hover {\n",
       "  overflow: visible;\n",
       "  width: auto;\n",
       "  z-index: 1;\n",
       "}\n",
       "\n",
       ".xr-var-attrs,\n",
       ".xr-var-data {\n",
       "  display: none;\n",
       "  background-color: var(--xr-background-color) !important;\n",
       "  padding-bottom: 5px !important;\n",
       "}\n",
       "\n",
       ".xr-var-attrs-in:checked ~ .xr-var-attrs,\n",
       ".xr-var-data-in:checked ~ .xr-var-data {\n",
       "  display: block;\n",
       "}\n",
       "\n",
       ".xr-var-data > table {\n",
       "  float: right;\n",
       "}\n",
       "\n",
       ".xr-var-name span,\n",
       ".xr-var-data,\n",
       ".xr-attrs {\n",
       "  padding-left: 25px !important;\n",
       "}\n",
       "\n",
       ".xr-attrs,\n",
       ".xr-var-attrs,\n",
       ".xr-var-data {\n",
       "  grid-column: 1 / -1;\n",
       "}\n",
       "\n",
       "dl.xr-attrs {\n",
       "  padding: 0;\n",
       "  margin: 0;\n",
       "  display: grid;\n",
       "  grid-template-columns: 125px auto;\n",
       "}\n",
       "\n",
       ".xr-attrs dt,\n",
       ".xr-attrs dd {\n",
       "  padding: 0;\n",
       "  margin: 0;\n",
       "  float: left;\n",
       "  padding-right: 10px;\n",
       "  width: auto;\n",
       "}\n",
       "\n",
       ".xr-attrs dt {\n",
       "  font-weight: normal;\n",
       "  grid-column: 1;\n",
       "}\n",
       "\n",
       ".xr-attrs dt:hover span {\n",
       "  display: inline-block;\n",
       "  background: var(--xr-background-color);\n",
       "  padding-right: 10px;\n",
       "}\n",
       "\n",
       ".xr-attrs dd {\n",
       "  grid-column: 2;\n",
       "  white-space: pre-wrap;\n",
       "  word-break: break-all;\n",
       "}\n",
       "\n",
       ".xr-icon-database,\n",
       ".xr-icon-file-text2 {\n",
       "  display: inline-block;\n",
       "  vertical-align: middle;\n",
       "  width: 1em;\n",
       "  height: 1.5em !important;\n",
       "  stroke-width: 0;\n",
       "  stroke: currentColor;\n",
       "  fill: currentColor;\n",
       "}\n",
       "</style><pre class='xr-text-repr-fallback'>&lt;xarray.Dataset&gt;\n",
       "Dimensions:    (stations: 11014, nscenarios: 2, rp: 8, nensemble: 3, time: 11)\n",
       "Coordinates:\n",
       "    lon        (stations) float64 -8.991 -9.493 -9.472 ... 41.55 41.68 41.72\n",
       "    lat        (stations) float64 37.03 38.78 38.75 37.02 ... 41.52 41.67 41.7\n",
       "  * rp         (rp) float32 5.0 10.0 20.0 50.0 100.0 200.0 500.0 1e+03\n",
       "    ensemble   (nensemble) |S4 b&#x27;min&#x27; b&#x27;mean&#x27; b&#x27;max&#x27;\n",
       "  * time       (time) float32 1.995e+03 2.01e+03 2.02e+03 ... 2.09e+03 2.1e+03\n",
       "    scenarios  (nscenarios) |S5 b&#x27;RCP45&#x27; b&#x27;RCP85&#x27;\n",
       "Dimensions without coordinates: stations, nscenarios, nensemble\n",
       "Data variables:\n",
       "    esl        (nscenarios, stations, rp, time, nensemble) float64 3.302 ... ...\n",
       "    eewl       (nscenarios, stations, rp, time, nensemble) float64 1.535 ... ...\n",
       "Attributes: (12/13)\n",
       "    title:            Extreme Sea Levels\n",
       "    Institution:      Joint European Research Center, Directorate for Space, ...\n",
       "    reference:         Vousdoukas MI., Mentaschi L., Voukouvalas E., Verlaan ...\n",
       "    email:            michail.vousdoukas@ec.europa.eu\n",
       "    version:          1.2\n",
       "    terms_for_use:    European Union, 1995-2015.\\nReuse is authorised, provid...\n",
       "    ...               ...\n",
       "    Project_Name:     Prototype of a first Global Integrated Coastal Impact-b...\n",
       "    Project_Acronym:  CoastAlRisk\n",
       "    Conventions:      CF-1.8\n",
       "    Starting_date:    01-Dec-2009\n",
       "    End_date:         30-Nov-2099 21:00:00\n",
       "    crs:              4326</pre><div class='xr-wrap' style='display:none'><div class='xr-header'><div class='xr-obj-type'>xarray.Dataset</div></div><ul class='xr-sections'><li class='xr-section-item'><input id='section-5e61fd18-cc87-412d-ac8d-1377f1681f24' class='xr-section-summary-in' type='checkbox' disabled ><label for='section-5e61fd18-cc87-412d-ac8d-1377f1681f24' class='xr-section-summary'  title='Expand/collapse section'>Dimensions:</label><div class='xr-section-inline-details'><ul class='xr-dim-list'><li><span>stations</span>: 11014</li><li><span>nscenarios</span>: 2</li><li><span class='xr-has-index'>rp</span>: 8</li><li><span>nensemble</span>: 3</li><li><span class='xr-has-index'>time</span>: 11</li></ul></div><div class='xr-section-details'></div></li><li class='xr-section-item'><input id='section-24321b91-46e1-46ab-86b0-48ea8a78dc91' class='xr-section-summary-in' type='checkbox'  checked><label for='section-24321b91-46e1-46ab-86b0-48ea8a78dc91' class='xr-section-summary' >Coordinates: <span>(6)</span></label><div class='xr-section-inline-details'></div><div class='xr-section-details'><ul class='xr-var-list'><li class='xr-var-item'><div class='xr-var-name'><span>lon</span></div><div class='xr-var-dims'>(stations)</div><div class='xr-var-dtype'>float64</div><div class='xr-var-preview xr-preview'>-8.991 -9.493 ... 41.68 41.72</div><input id='attrs-4b6be967-71bd-489e-9848-0be01218dd74' class='xr-var-attrs-in' type='checkbox' ><label for='attrs-4b6be967-71bd-489e-9848-0be01218dd74' title='Show/Hide attributes'><svg class='icon xr-icon-file-text2'><use xlink:href='#icon-file-text2'></use></svg></label><input id='data-9bd040b4-225f-496b-a9d1-19fd9e1cf316' class='xr-var-data-in' type='checkbox'><label for='data-9bd040b4-225f-496b-a9d1-19fd9e1cf316' title='Show/Hide data repr'><svg class='icon xr-icon-database'><use xlink:href='#icon-database'></use></svg></label><div class='xr-var-attrs'><dl class='xr-attrs'><dt><span>long_name :</span></dt><dd>longitude</dd><dt><span>units :</span></dt><dd>degrees_east</dd><dt><span>standard_name :</span></dt><dd>longitude</dd></dl></div><div class='xr-var-data'><pre>array([-8.99101745, -9.49333243, -9.47210442, ..., 41.54761719,\n",
       "       41.68199201, 41.71565683])</pre></div></li><li class='xr-var-item'><div class='xr-var-name'><span>lat</span></div><div class='xr-var-dims'>(stations)</div><div class='xr-var-dtype'>float64</div><div class='xr-var-preview xr-preview'>37.03 38.78 38.75 ... 41.67 41.7</div><input id='attrs-90f6f099-305f-431e-acdb-2534c9f1d80f' class='xr-var-attrs-in' type='checkbox' ><label for='attrs-90f6f099-305f-431e-acdb-2534c9f1d80f' title='Show/Hide attributes'><svg class='icon xr-icon-file-text2'><use xlink:href='#icon-file-text2'></use></svg></label><input id='data-56d95e86-33b6-472e-b6d6-a408d4ac6bed' class='xr-var-data-in' type='checkbox'><label for='data-56d95e86-33b6-472e-b6d6-a408d4ac6bed' title='Show/Hide data repr'><svg class='icon xr-icon-database'><use xlink:href='#icon-database'></use></svg></label><div class='xr-var-attrs'><dl class='xr-attrs'><dt><span>long_name :</span></dt><dd>latitude</dd><dt><span>units :</span></dt><dd>degrees_north</dd><dt><span>standard_name :</span></dt><dd>latitude</dd></dl></div><div class='xr-var-data'><pre>array([37.03034945, 38.77555727, 38.74839359, ..., 41.52345122,\n",
       "       41.66611911, 41.70224537])</pre></div></li><li class='xr-var-item'><div class='xr-var-name'><span class='xr-has-index'>rp</span></div><div class='xr-var-dims'>(rp)</div><div class='xr-var-dtype'>float32</div><div class='xr-var-preview xr-preview'>5.0 10.0 20.0 ... 200.0 500.0 1e+03</div><input id='attrs-d754d694-4c59-4ed7-8e17-63f229ce9b3f' class='xr-var-attrs-in' type='checkbox' ><label for='attrs-d754d694-4c59-4ed7-8e17-63f229ce9b3f' title='Show/Hide attributes'><svg class='icon xr-icon-file-text2'><use xlink:href='#icon-file-text2'></use></svg></label><input id='data-db125835-e2a6-4f86-a0f9-a479d2f0ac51' class='xr-var-data-in' type='checkbox'><label for='data-db125835-e2a6-4f86-a0f9-a479d2f0ac51' title='Show/Hide data repr'><svg class='icon xr-icon-database'><use xlink:href='#icon-database'></use></svg></label><div class='xr-var-attrs'><dl class='xr-attrs'><dt><span>long_name :</span></dt><dd>return period</dd><dt><span>units :</span></dt><dd>years</dd></dl></div><div class='xr-var-data'><pre>array([   5.,   10.,   20.,   50.,  100.,  200.,  500., 1000.], dtype=float32)</pre></div></li><li class='xr-var-item'><div class='xr-var-name'><span>ensemble</span></div><div class='xr-var-dims'>(nensemble)</div><div class='xr-var-dtype'>|S4</div><div class='xr-var-preview xr-preview'>b&#x27;min&#x27; b&#x27;mean&#x27; b&#x27;max&#x27;</div><input id='attrs-af50d0bc-240f-406b-9442-f1fe1b0bd9ef' class='xr-var-attrs-in' type='checkbox' ><label for='attrs-af50d0bc-240f-406b-9442-f1fe1b0bd9ef' title='Show/Hide attributes'><svg class='icon xr-icon-file-text2'><use xlink:href='#icon-file-text2'></use></svg></label><input id='data-71de9d13-1e2b-4aa3-abe1-130bd721ab7c' class='xr-var-data-in' type='checkbox'><label for='data-71de9d13-1e2b-4aa3-abe1-130bd721ab7c' title='Show/Hide data repr'><svg class='icon xr-icon-database'><use xlink:href='#icon-database'></use></svg></label><div class='xr-var-attrs'><dl class='xr-attrs'><dt><span>long_name :</span></dt><dd>Relative Sea Level Rise ensemble</dd></dl></div><div class='xr-var-data'><pre>array([b&#x27;min&#x27;, b&#x27;mean&#x27;, b&#x27;max&#x27;], dtype=&#x27;|S4&#x27;)</pre></div></li><li class='xr-var-item'><div class='xr-var-name'><span class='xr-has-index'>time</span></div><div class='xr-var-dims'>(time)</div><div class='xr-var-dtype'>float32</div><div class='xr-var-preview xr-preview'>1.995e+03 2.01e+03 ... 2.1e+03</div><input id='attrs-aa35a754-13d5-4310-abc1-faf3253af5d2' class='xr-var-attrs-in' type='checkbox' ><label for='attrs-aa35a754-13d5-4310-abc1-faf3253af5d2' title='Show/Hide attributes'><svg class='icon xr-icon-file-text2'><use xlink:href='#icon-file-text2'></use></svg></label><input id='data-9c8c7099-f51f-4ded-acb1-0080bcef2638' class='xr-var-data-in' type='checkbox'><label for='data-9c8c7099-f51f-4ded-acb1-0080bcef2638' title='Show/Hide data repr'><svg class='icon xr-icon-database'><use xlink:href='#icon-database'></use></svg></label><div class='xr-var-attrs'><dl class='xr-attrs'><dt><span>long_name :</span></dt><dd>decade window</dd><dt><span>Format :</span></dt><dd>YYYY</dd><dt><span>units :</span></dt><dd>yr</dd></dl></div><div class='xr-var-data'><pre>array([1995., 2010., 2020., 2030., 2040., 2050., 2060., 2070., 2080., 2090.,\n",
       "       2100.], dtype=float32)</pre></div></li><li class='xr-var-item'><div class='xr-var-name'><span>scenarios</span></div><div class='xr-var-dims'>(nscenarios)</div><div class='xr-var-dtype'>|S5</div><div class='xr-var-preview xr-preview'>b&#x27;RCP45&#x27; b&#x27;RCP85&#x27;</div><input id='attrs-0cc22868-0343-494e-a72d-a1a1ea0ca4f1' class='xr-var-attrs-in' type='checkbox' ><label for='attrs-0cc22868-0343-494e-a72d-a1a1ea0ca4f1' title='Show/Hide attributes'><svg class='icon xr-icon-file-text2'><use xlink:href='#icon-file-text2'></use></svg></label><input id='data-2605e085-e626-45c8-aabb-82d4f6715d9d' class='xr-var-data-in' type='checkbox'><label for='data-2605e085-e626-45c8-aabb-82d4f6715d9d' title='Show/Hide data repr'><svg class='icon xr-icon-database'><use xlink:href='#icon-database'></use></svg></label><div class='xr-var-attrs'><dl class='xr-attrs'><dt><span>long_name :</span></dt><dd>climate scenarios</dd></dl></div><div class='xr-var-data'><pre>array([b&#x27;RCP45&#x27;, b&#x27;RCP85&#x27;], dtype=&#x27;|S5&#x27;)</pre></div></li></ul></div></li><li class='xr-section-item'><input id='section-8d9c14e9-9c2d-4ace-a972-9f34c1c5b431' class='xr-section-summary-in' type='checkbox'  checked><label for='section-8d9c14e9-9c2d-4ace-a972-9f34c1c5b431' class='xr-section-summary' >Data variables: <span>(2)</span></label><div class='xr-section-inline-details'></div><div class='xr-section-details'><ul class='xr-var-list'><li class='xr-var-item'><div class='xr-var-name'><span>esl</span></div><div class='xr-var-dims'>(nscenarios, stations, rp, time, nensemble)</div><div class='xr-var-dtype'>float64</div><div class='xr-var-preview xr-preview'>3.302 3.302 3.302 ... 1.959 2.33</div><input id='attrs-bf17b210-c1e8-46d3-ad4c-756132899bb4' class='xr-var-attrs-in' type='checkbox' ><label for='attrs-bf17b210-c1e8-46d3-ad4c-756132899bb4' title='Show/Hide attributes'><svg class='icon xr-icon-file-text2'><use xlink:href='#icon-file-text2'></use></svg></label><input id='data-87daebd7-fe1f-416d-9409-8f66ec231d16' class='xr-var-data-in' type='checkbox'><label for='data-87daebd7-fe1f-416d-9409-8f66ec231d16' title='Show/Hide data repr'><svg class='icon xr-icon-database'><use xlink:href='#icon-database'></use></svg></label><div class='xr-var-attrs'><dl class='xr-attrs'><dt><span>long_name :</span></dt><dd>extreme sea level</dd><dt><span>units :</span></dt><dd>m</dd></dl></div><div class='xr-var-data'><pre>array([[[[[3.30205426, 3.30205426, 3.30205426],\n",
       "          [3.25903904, 3.31157279, 3.34768987],\n",
       "          [3.28155298, 3.33149535, 3.40704089],\n",
       "          ...,\n",
       "          [3.38370448, 3.66623606, 3.92259912],\n",
       "          [3.40662023, 3.7036934 , 3.98525352],\n",
       "          [3.43428399, 3.79413494, 4.106737  ]],\n",
       "\n",
       "         [[3.41486462, 3.41486462, 3.41486462],\n",
       "          [3.36995696, 3.42625365, 3.46515366],\n",
       "          [3.3927563 , 3.4451324 , 3.52600758],\n",
       "          ...,\n",
       "          [3.48696891, 3.77652158, 4.0424846 ],\n",
       "          [3.50854855, 3.81292168, 4.10378633],\n",
       "          [3.53476368, 3.90257618, 4.2247934 ]],\n",
       "\n",
       "         [[3.52046817, 3.52046817, 3.52046817],\n",
       "          [3.47438654, 3.5342216 , 3.57574735],\n",
       "          [3.49745648, 3.55211627, 3.63800619],\n",
       "          ...,\n",
       "...\n",
       "          ...,\n",
       "          [1.38624361, 1.57234532, 1.79570705],\n",
       "          [1.4724548 , 1.69238811, 1.98011108],\n",
       "          [1.56581061, 1.8294945 , 2.19204041]],\n",
       "\n",
       "         [[1.01912664, 1.01912664, 1.01912664],\n",
       "          [1.0703039 , 1.10296202, 1.13153566],\n",
       "          [1.09814812, 1.15950449, 1.20115313],\n",
       "          ...,\n",
       "          [1.45292483, 1.64325277, 1.86921583],\n",
       "          [1.53896786, 1.76378767, 2.05516614],\n",
       "          [1.63217309, 1.90116755, 2.26826935]],\n",
       "\n",
       "         [[1.05994169, 1.05994169, 1.05994169],\n",
       "          [1.12276794, 1.15718329, 1.1871043 ],\n",
       "          [1.15051676, 1.21434484, 1.25819741],\n",
       "          ...,\n",
       "          [1.50665115, 1.70036083, 1.93123788],\n",
       "          [1.59255693, 1.82129049, 2.11567802],\n",
       "          [1.68563776, 1.95888927, 2.329728  ]]]]])</pre></div></li><li class='xr-var-item'><div class='xr-var-name'><span>eewl</span></div><div class='xr-var-dims'>(nscenarios, stations, rp, time, nensemble)</div><div class='xr-var-dtype'>float64</div><div class='xr-var-preview xr-preview'>1.535 1.535 1.535 ... 0.9353 1.008</div><input id='attrs-0dfc4a62-7cd0-49e7-a3ff-d9058a68194a' class='xr-var-attrs-in' type='checkbox' ><label for='attrs-0dfc4a62-7cd0-49e7-a3ff-d9058a68194a' title='Show/Hide attributes'><svg class='icon xr-icon-file-text2'><use xlink:href='#icon-file-text2'></use></svg></label><input id='data-bd660e88-2fef-43c1-af3a-59cc5250b6b0' class='xr-var-data-in' type='checkbox'><label for='data-bd660e88-2fef-43c1-af3a-59cc5250b6b0' title='Show/Hide data repr'><svg class='icon xr-icon-database'><use xlink:href='#icon-database'></use></svg></label><div class='xr-var-attrs'><dl class='xr-attrs'><dt><span>long_name :</span></dt><dd>episodic extreme water level</dd><dt><span>units :</span></dt><dd>m</dd></dl></div><div class='xr-var-data'><pre>array([[[[[1.53546676, 1.53546676, 1.53546676],\n",
       "          [1.47919767, 1.52451982, 1.55351578],\n",
       "          [1.47999284, 1.51095705, 1.56930167],\n",
       "          ...,\n",
       "          [1.37382526, 1.461939  , 1.56935768],\n",
       "          [1.3595888 , 1.44974164, 1.55455476],\n",
       "          [1.34666273, 1.44169654, 1.54886275]],\n",
       "\n",
       "         [[1.64827712, 1.64827712, 1.64827712],\n",
       "          [1.59011559, 1.63920067, 1.67097956],\n",
       "          [1.59119616, 1.62459409, 1.68826836],\n",
       "          ...,\n",
       "          [1.47708969, 1.57222453, 1.68924316],\n",
       "          [1.46151712, 1.55896992, 1.67308756],\n",
       "          [1.44714241, 1.55013778, 1.66691915]],\n",
       "\n",
       "         [[1.75388067, 1.75388067, 1.75388067],\n",
       "          [1.69454516, 1.74716863, 1.78157325],\n",
       "          [1.69589634, 1.73157796, 1.80026697],\n",
       "          ...,\n",
       "...\n",
       "          ...,\n",
       "          [0.75609857, 0.79792742, 0.83886103],\n",
       "          [0.75394051, 0.8030865 , 0.85723726],\n",
       "          [0.75179142, 0.80589888, 0.87070102]],\n",
       "\n",
       "         [[0.77039505, 0.77039505, 0.77039505],\n",
       "          [0.80367479, 0.82956735, 0.85134177],\n",
       "          [0.80246494, 0.83812112, 0.86287729],\n",
       "          ...,\n",
       "          [0.8227798 , 0.86883487, 0.91236981],\n",
       "          [0.82045356, 0.87448606, 0.93229232],\n",
       "          [0.81815389, 0.87757192, 0.94692995]],\n",
       "\n",
       "         [[0.8112101 , 0.8112101 , 0.8112101 ],\n",
       "          [0.85613883, 0.88378862, 0.9069104 ],\n",
       "          [0.85483358, 0.89296147, 0.91992156],\n",
       "          ...,\n",
       "          [0.87650612, 0.92594293, 0.97439185],\n",
       "          [0.87404264, 0.93198888, 0.99280421],\n",
       "          [0.87161857, 0.93529364, 1.0083886 ]]]]])</pre></div></li></ul></div></li><li class='xr-section-item'><input id='section-efaf0b4a-0457-4193-8544-484a2071e033' class='xr-section-summary-in' type='checkbox'  ><label for='section-efaf0b4a-0457-4193-8544-484a2071e033' class='xr-section-summary' >Attributes: <span>(13)</span></label><div class='xr-section-inline-details'></div><div class='xr-section-details'><dl class='xr-attrs'><dt><span>title :</span></dt><dd>Extreme Sea Levels</dd><dt><span>Institution :</span></dt><dd>Joint European Research Center, Directorate for Space, Security and Migration, Via Enrico Fermi 2749, I-21027-Ispra</dd><dt><span>reference :</span></dt><dd> Vousdoukas MI., Mentaschi L., Voukouvalas E., Verlaan M., Feyen L. (2017). Extreme sea levels on the rise along Europe&#x27;s coasts. Earth&#x27;s Future. doi:10.1002/2016EF000505 </dd><dt><span>email :</span></dt><dd>michail.vousdoukas@ec.europa.eu</dd><dt><span>version :</span></dt><dd>1.2</dd><dt><span>terms_for_use :</span></dt><dd>European Union, 1995-2015.\n",
       "Reuse is authorised, provided the source is acknowledged. The reuse policy of the European Commission is implemented by a Decision of 12 December 2011.</dd><dt><span>disclaimer :</span></dt><dd>Unless the following would not be permitted or valid under applicable law, the following applies to the data/information provided by the JRC:\n",
       "\n",
       "1. The JRC data are provided &quot;as is&quot; and &quot;as available&quot; without warranty of any kind, either express or implied, including, but not limited to, any implied warranty against infringement of third parties&#x27; property rights, or merchantability, integration, absence of latent or other defects, satisfactory quality and fitness for a particular purpose. The JRC data do not constitute professional or legal advice (if you need specific advice, you should always consult a suitably qualified professional).\n",
       "2. The JRC has no obligation to provide technical support or remedies for the data. The JRC does not represent or warrant that the data will be error free or uninterrupted, or that all non-conformities can or will be corrected, or that any data are accurate or complete, or that they are of a satisfactory technical or scientific quality.\n",
       "3. The JRC or as the case may be the European Commission shall not be held liable for any direct or indirect, incidental, consequential or other damages, including but not limited to the loss of data, loss of profits, or any other financial loss arising from the use of the JRC data, or inability to use them, even if the JRC is notified of the possibility of such damages.</dd><dt><span>Project_Name :</span></dt><dd>Prototype of a first Global Integrated Coastal Impact-based Flood Alert and Risk Assessment Tool</dd><dt><span>Project_Acronym :</span></dt><dd>CoastAlRisk</dd><dt><span>Conventions :</span></dt><dd>CF-1.8</dd><dt><span>Starting_date :</span></dt><dd>01-Dec-2009</dd><dt><span>End_date :</span></dt><dd>30-Nov-2099 21:00:00</dd><dt><span>crs :</span></dt><dd>4326</dd></dl></div></li></ul></div></div>"
      ],
      "text/plain": [
       "<xarray.Dataset>\n",
       "Dimensions:    (stations: 11014, nscenarios: 2, rp: 8, nensemble: 3, time: 11)\n",
       "Coordinates:\n",
       "    lon        (stations) float64 -8.991 -9.493 -9.472 ... 41.55 41.68 41.72\n",
       "    lat        (stations) float64 37.03 38.78 38.75 37.02 ... 41.52 41.67 41.7\n",
       "  * rp         (rp) float32 5.0 10.0 20.0 50.0 100.0 200.0 500.0 1e+03\n",
       "    ensemble   (nensemble) |S4 b'min' b'mean' b'max'\n",
       "  * time       (time) float32 1.995e+03 2.01e+03 2.02e+03 ... 2.09e+03 2.1e+03\n",
       "    scenarios  (nscenarios) |S5 b'RCP45' b'RCP85'\n",
       "Dimensions without coordinates: stations, nscenarios, nensemble\n",
       "Data variables:\n",
       "    esl        (nscenarios, stations, rp, time, nensemble) float64 3.302 ... ...\n",
       "    eewl       (nscenarios, stations, rp, time, nensemble) float64 1.535 ... ...\n",
       "Attributes: (12/13)\n",
       "    title:            Extreme Sea Levels\n",
       "    Institution:      Joint European Research Center, Directorate for Space, ...\n",
       "    reference:         Vousdoukas MI., Mentaschi L., Voukouvalas E., Verlaan ...\n",
       "    email:            michail.vousdoukas@ec.europa.eu\n",
       "    version:          1.2\n",
       "    terms_for_use:    European Union, 1995-2015.\\nReuse is authorised, provid...\n",
       "    ...               ...\n",
       "    Project_Name:     Prototype of a first Global Integrated Coastal Impact-b...\n",
       "    Project_Acronym:  CoastAlRisk\n",
       "    Conventions:      CF-1.8\n",
       "    Starting_date:    01-Dec-2009\n",
       "    End_date:         30-Nov-2099 21:00:00\n",
       "    crs:              4326"
      ]
     },
     "execution_count": 19,
     "metadata": {},
     "output_type": "execute_result"
    },
    {
     "data": {
      "application/javascript": "\n            setTimeout(function() {\n                var nbb_cell_id = 19;\n                var nbb_unformatted_code = \"# check the xarray dataset, best practice is to have as many as possible bold dimensions (dimension == coordinate name).\\n# in this way, the Front-End can access the variable directly without having to index the variable first\\n\\ndataset\\n# dataset[\\\"scenarios\\\"]\";\n                var nbb_formatted_code = \"# check the xarray dataset, best practice is to have as many as possible bold dimensions (dimension == coordinate name).\\n# in this way, the Front-End can access the variable directly without having to index the variable first\\n\\ndataset\\n# dataset[\\\"scenarios\\\"]\";\n                var nbb_cells = Jupyter.notebook.get_cells();\n                for (var i = 0; i < nbb_cells.length; ++i) {\n                    if (nbb_cells[i].input_prompt_number == nbb_cell_id) {\n                        if (nbb_cells[i].get_text() == nbb_unformatted_code) {\n                             nbb_cells[i].set_text(nbb_formatted_code);\n                        }\n                        break;\n                    }\n                }\n            }, 500);\n            ",
      "text/plain": [
       "<IPython.core.display.Javascript object>"
      ]
     },
     "metadata": {},
     "output_type": "display_data"
    }
   ],
   "source": [
    "# check the xarray dataset, best practice is to have as many as possible bold dimensions (dimension == coordinate name).\n",
    "# in this way, the Front-End can access the variable directly without having to index the variable first\n",
    "\n",
    "dataset\n",
    "# dataset[\"scenarios\"]"
   ]
  },
  {
   "cell_type": "code",
   "execution_count": 20,
   "id": "20ebbe83",
   "metadata": {},
   "outputs": [
    {
     "data": {
      "application/javascript": "\n            setTimeout(function() {\n                var nbb_cell_id = 20;\n                var nbb_unformatted_code = \"# save new .nc files\\nds_hist.to_netcdf(path=str(ds_historical_path).replace(\\\".nc\\\", \\\"_CF.nc\\\"))\\nds_45rcp.to_netcdf(path=str(ds_rcp45_path).replace(\\\".nc\\\", \\\"_CF.nc\\\"))\\nds_85rcp.to_netcdf(path=str(ds_rcp85_path).replace(\\\".nc\\\", \\\"_CF.nc\\\"))\\ndataset.to_netcdf(path=ds_dir.joinpath(ds_out_file + \\\"_CF.nc\\\"))\";\n                var nbb_formatted_code = \"# save new .nc files\\nds_hist.to_netcdf(path=str(ds_historical_path).replace(\\\".nc\\\", \\\"_CF.nc\\\"))\\nds_45rcp.to_netcdf(path=str(ds_rcp45_path).replace(\\\".nc\\\", \\\"_CF.nc\\\"))\\nds_85rcp.to_netcdf(path=str(ds_rcp85_path).replace(\\\".nc\\\", \\\"_CF.nc\\\"))\\ndataset.to_netcdf(path=ds_dir.joinpath(ds_out_file + \\\"_CF.nc\\\"))\";\n                var nbb_cells = Jupyter.notebook.get_cells();\n                for (var i = 0; i < nbb_cells.length; ++i) {\n                    if (nbb_cells[i].input_prompt_number == nbb_cell_id) {\n                        if (nbb_cells[i].get_text() == nbb_unformatted_code) {\n                             nbb_cells[i].set_text(nbb_formatted_code);\n                        }\n                        break;\n                    }\n                }\n            }, 500);\n            ",
      "text/plain": [
       "<IPython.core.display.Javascript object>"
      ]
     },
     "metadata": {},
     "output_type": "display_data"
    }
   ],
   "source": [
    "# save new .nc files\n",
    "ds_hist.to_netcdf(path=str(ds_historical_path).replace(\".nc\", \"_CF.nc\"))\n",
    "ds_45rcp.to_netcdf(path=str(ds_rcp45_path).replace(\".nc\", \"_CF.nc\"))\n",
    "ds_85rcp.to_netcdf(path=str(ds_rcp85_path).replace(\".nc\", \"_CF.nc\"))\n",
    "dataset.to_netcdf(path=ds_dir.joinpath(ds_out_file + \"_CF.nc\"))"
   ]
  },
  {
   "cell_type": "markdown",
   "id": "59e7b37d",
   "metadata": {},
   "source": [
    "### Check CF compliancy altered NetCDF files"
   ]
  },
  {
   "cell_type": "code",
   "execution_count": 21,
   "id": "a4f992f4",
   "metadata": {},
   "outputs": [
    {
     "data": {
      "application/javascript": "\n            setTimeout(function() {\n                var nbb_cell_id = 21;\n                var nbb_unformatted_code = \"%%capture cap --no-stderr\\n# check altered CF compliancy\\n\\ncheck_compliancy(testfile=str(ds_historical_path).replace(\\\".nc\\\", \\\"_CF.nc\\\"), working_dir=CF_dir)\";\n                var nbb_formatted_code = \"%%capture cap --no-stderr\\n# check altered CF compliancy\\n\\ncheck_compliancy(testfile=str(ds_historical_path).replace(\\\".nc\\\", \\\"_CF.nc\\\"), working_dir=CF_dir)\";\n                var nbb_cells = Jupyter.notebook.get_cells();\n                for (var i = 0; i < nbb_cells.length; ++i) {\n                    if (nbb_cells[i].input_prompt_number == nbb_cell_id) {\n                        if (nbb_cells[i].get_text() == nbb_unformatted_code) {\n                             nbb_cells[i].set_text(nbb_formatted_code);\n                        }\n                        break;\n                    }\n                }\n            }, 500);\n            ",
      "text/plain": [
       "<IPython.core.display.Javascript object>"
      ]
     },
     "metadata": {},
     "output_type": "display_data"
    }
   ],
   "source": [
    "%%capture cap --no-stderr\n",
    "# check altered CF compliancy\n",
    "\n",
    "check_compliancy(testfile=str(ds_historical_path).replace(\".nc\", \"_CF.nc\"), working_dir=CF_dir)"
   ]
  },
  {
   "cell_type": "code",
   "execution_count": 22,
   "id": "fc6ba94f",
   "metadata": {},
   "outputs": [
    {
     "name": "stdout",
     "output_type": "stream",
     "text": [
      "{'P:\\\\11205479-coclico\\\\data\\\\03_sea_level_jrc\\\\CoastAlRisk_Europe_ESL_Historical_new_CF.nc': {'warnings': '0', 'errors': '0'}}\n"
     ]
    },
    {
     "data": {
      "application/javascript": "\n            setTimeout(function() {\n                var nbb_cell_id = 22;\n                var nbb_unformatted_code = \"# save altered CF compliancy\\nsave_compliancy(\\n    cap, testfile=str(ds_historical_path).replace(\\\".nc\\\", \\\"_CF.nc\\\"), working_dir=CF_dir,\\n)\";\n                var nbb_formatted_code = \"# save altered CF compliancy\\nsave_compliancy(\\n    cap, testfile=str(ds_historical_path).replace(\\\".nc\\\", \\\"_CF.nc\\\"), working_dir=CF_dir,\\n)\";\n                var nbb_cells = Jupyter.notebook.get_cells();\n                for (var i = 0; i < nbb_cells.length; ++i) {\n                    if (nbb_cells[i].input_prompt_number == nbb_cell_id) {\n                        if (nbb_cells[i].get_text() == nbb_unformatted_code) {\n                             nbb_cells[i].set_text(nbb_formatted_code);\n                        }\n                        break;\n                    }\n                }\n            }, 500);\n            ",
      "text/plain": [
       "<IPython.core.display.Javascript object>"
      ]
     },
     "metadata": {},
     "output_type": "display_data"
    }
   ],
   "source": [
    "# save altered CF compliancy\n",
    "save_compliancy(\n",
    "    cap, testfile=str(ds_historical_path).replace(\".nc\", \"_CF.nc\"), working_dir=CF_dir,\n",
    ")"
   ]
  },
  {
   "cell_type": "code",
   "execution_count": 23,
   "id": "13fd035f",
   "metadata": {},
   "outputs": [
    {
     "data": {
      "application/javascript": "\n            setTimeout(function() {\n                var nbb_cell_id = 23;\n                var nbb_unformatted_code = \"%%capture cap --no-stderr\\n# check altered CF compliancy\\n\\ncheck_compliancy(testfile=str(ds_rcp45_path).replace(\\\".nc\\\", \\\"_CF.nc\\\"), working_dir=CF_dir)\";\n                var nbb_formatted_code = \"%%capture cap --no-stderr\\n# check altered CF compliancy\\n\\ncheck_compliancy(testfile=str(ds_rcp45_path).replace(\\\".nc\\\", \\\"_CF.nc\\\"), working_dir=CF_dir)\";\n                var nbb_cells = Jupyter.notebook.get_cells();\n                for (var i = 0; i < nbb_cells.length; ++i) {\n                    if (nbb_cells[i].input_prompt_number == nbb_cell_id) {\n                        if (nbb_cells[i].get_text() == nbb_unformatted_code) {\n                             nbb_cells[i].set_text(nbb_formatted_code);\n                        }\n                        break;\n                    }\n                }\n            }, 500);\n            ",
      "text/plain": [
       "<IPython.core.display.Javascript object>"
      ]
     },
     "metadata": {},
     "output_type": "display_data"
    }
   ],
   "source": [
    "%%capture cap --no-stderr\n",
    "# check altered CF compliancy\n",
    "\n",
    "check_compliancy(testfile=str(ds_rcp45_path).replace(\".nc\", \"_CF.nc\"), working_dir=CF_dir)"
   ]
  },
  {
   "cell_type": "code",
   "execution_count": 24,
   "id": "bc254b0d",
   "metadata": {},
   "outputs": [
    {
     "name": "stdout",
     "output_type": "stream",
     "text": [
      "{'P:\\\\11205479-coclico\\\\data\\\\03_sea_level_jrc\\\\CoastAlRisk_Europe_ESL_RCP45_new_CF.nc': {'warnings': '0', 'errors': '0'}}\n"
     ]
    },
    {
     "data": {
      "application/javascript": "\n            setTimeout(function() {\n                var nbb_cell_id = 24;\n                var nbb_unformatted_code = \"# save altered CF compliancy\\nsave_compliancy(\\n    cap, testfile=str(ds_rcp45_path).replace(\\\".nc\\\", \\\"_CF.nc\\\"), working_dir=CF_dir,\\n)\";\n                var nbb_formatted_code = \"# save altered CF compliancy\\nsave_compliancy(\\n    cap, testfile=str(ds_rcp45_path).replace(\\\".nc\\\", \\\"_CF.nc\\\"), working_dir=CF_dir,\\n)\";\n                var nbb_cells = Jupyter.notebook.get_cells();\n                for (var i = 0; i < nbb_cells.length; ++i) {\n                    if (nbb_cells[i].input_prompt_number == nbb_cell_id) {\n                        if (nbb_cells[i].get_text() == nbb_unformatted_code) {\n                             nbb_cells[i].set_text(nbb_formatted_code);\n                        }\n                        break;\n                    }\n                }\n            }, 500);\n            ",
      "text/plain": [
       "<IPython.core.display.Javascript object>"
      ]
     },
     "metadata": {},
     "output_type": "display_data"
    }
   ],
   "source": [
    "# save altered CF compliancy\n",
    "save_compliancy(\n",
    "    cap, testfile=str(ds_rcp45_path).replace(\".nc\", \"_CF.nc\"), working_dir=CF_dir,\n",
    ")"
   ]
  },
  {
   "cell_type": "code",
   "execution_count": 25,
   "id": "beef9525",
   "metadata": {},
   "outputs": [
    {
     "data": {
      "application/javascript": "\n            setTimeout(function() {\n                var nbb_cell_id = 25;\n                var nbb_unformatted_code = \"%%capture cap --no-stderr\\n# check altered CF compliancy\\n\\ncheck_compliancy(testfile=str(ds_rcp85_path).replace(\\\".nc\\\", \\\"_CF.nc\\\"), working_dir=CF_dir)\";\n                var nbb_formatted_code = \"%%capture cap --no-stderr\\n# check altered CF compliancy\\n\\ncheck_compliancy(testfile=str(ds_rcp85_path).replace(\\\".nc\\\", \\\"_CF.nc\\\"), working_dir=CF_dir)\";\n                var nbb_cells = Jupyter.notebook.get_cells();\n                for (var i = 0; i < nbb_cells.length; ++i) {\n                    if (nbb_cells[i].input_prompt_number == nbb_cell_id) {\n                        if (nbb_cells[i].get_text() == nbb_unformatted_code) {\n                             nbb_cells[i].set_text(nbb_formatted_code);\n                        }\n                        break;\n                    }\n                }\n            }, 500);\n            ",
      "text/plain": [
       "<IPython.core.display.Javascript object>"
      ]
     },
     "metadata": {},
     "output_type": "display_data"
    }
   ],
   "source": [
    "%%capture cap --no-stderr\n",
    "# check altered CF compliancy\n",
    "\n",
    "check_compliancy(testfile=str(ds_rcp85_path).replace(\".nc\", \"_CF.nc\"), working_dir=CF_dir)"
   ]
  },
  {
   "cell_type": "code",
   "execution_count": 26,
   "id": "598cbc67",
   "metadata": {},
   "outputs": [
    {
     "name": "stdout",
     "output_type": "stream",
     "text": [
      "{'P:\\\\11205479-coclico\\\\data\\\\03_sea_level_jrc\\\\CoastAlRisk_Europe_ESL_RCP85_new_CF.nc': {'warnings': '0', 'errors': '0'}}\n"
     ]
    },
    {
     "data": {
      "application/javascript": "\n            setTimeout(function() {\n                var nbb_cell_id = 26;\n                var nbb_unformatted_code = \"# save altered CF compliancy\\nsave_compliancy(\\n    cap, testfile=str(ds_rcp85_path).replace(\\\".nc\\\", \\\"_CF.nc\\\"), working_dir=CF_dir,\\n)\";\n                var nbb_formatted_code = \"# save altered CF compliancy\\nsave_compliancy(\\n    cap, testfile=str(ds_rcp85_path).replace(\\\".nc\\\", \\\"_CF.nc\\\"), working_dir=CF_dir,\\n)\";\n                var nbb_cells = Jupyter.notebook.get_cells();\n                for (var i = 0; i < nbb_cells.length; ++i) {\n                    if (nbb_cells[i].input_prompt_number == nbb_cell_id) {\n                        if (nbb_cells[i].get_text() == nbb_unformatted_code) {\n                             nbb_cells[i].set_text(nbb_formatted_code);\n                        }\n                        break;\n                    }\n                }\n            }, 500);\n            ",
      "text/plain": [
       "<IPython.core.display.Javascript object>"
      ]
     },
     "metadata": {},
     "output_type": "display_data"
    }
   ],
   "source": [
    "# save altered CF compliancy\n",
    "save_compliancy(\n",
    "    cap, testfile=str(ds_rcp85_path).replace(\".nc\", \"_CF.nc\"), working_dir=CF_dir,\n",
    ")"
   ]
  },
  {
   "cell_type": "code",
   "execution_count": 27,
   "id": "8fb764dd",
   "metadata": {},
   "outputs": [
    {
     "data": {
      "application/javascript": "\n            setTimeout(function() {\n                var nbb_cell_id = 27;\n                var nbb_unformatted_code = \"%%capture cap --no-stderr\\n# check altered CF compliancy\\n\\ncheck_compliancy(testfile=ds_dir.joinpath(ds_out_file + \\\"_CF.nc\\\"), working_dir=CF_dir)\";\n                var nbb_formatted_code = \"%%capture cap --no-stderr\\n# check altered CF compliancy\\n\\ncheck_compliancy(testfile=ds_dir.joinpath(ds_out_file + \\\"_CF.nc\\\"), working_dir=CF_dir)\";\n                var nbb_cells = Jupyter.notebook.get_cells();\n                for (var i = 0; i < nbb_cells.length; ++i) {\n                    if (nbb_cells[i].input_prompt_number == nbb_cell_id) {\n                        if (nbb_cells[i].get_text() == nbb_unformatted_code) {\n                             nbb_cells[i].set_text(nbb_formatted_code);\n                        }\n                        break;\n                    }\n                }\n            }, 500);\n            ",
      "text/plain": [
       "<IPython.core.display.Javascript object>"
      ]
     },
     "metadata": {},
     "output_type": "display_data"
    }
   ],
   "source": [
    "%%capture cap --no-stderr\n",
    "# check altered CF compliancy\n",
    "\n",
    "check_compliancy(testfile=ds_dir.joinpath(ds_out_file + \"_CF.nc\"), working_dir=CF_dir)"
   ]
  },
  {
   "cell_type": "code",
   "execution_count": 28,
   "id": "037decf1",
   "metadata": {},
   "outputs": [
    {
     "name": "stdout",
     "output_type": "stream",
     "text": [
      "{'P:\\\\11205479-coclico\\\\data\\\\03_sea_level_jrc\\\\CoastAlRisk_Europe_ESL_CF.nc': {'warnings': '0', 'errors': '0'}}\n"
     ]
    },
    {
     "data": {
      "application/javascript": "\n            setTimeout(function() {\n                var nbb_cell_id = 28;\n                var nbb_unformatted_code = \"# save altered CF compliancy\\nsave_compliancy(\\n    cap, testfile=ds_dir.joinpath(ds_out_file + \\\"_CF.nc\\\"), working_dir=CF_dir,\\n)\";\n                var nbb_formatted_code = \"# save altered CF compliancy\\nsave_compliancy(\\n    cap, testfile=ds_dir.joinpath(ds_out_file + \\\"_CF.nc\\\"), working_dir=CF_dir,\\n)\";\n                var nbb_cells = Jupyter.notebook.get_cells();\n                for (var i = 0; i < nbb_cells.length; ++i) {\n                    if (nbb_cells[i].input_prompt_number == nbb_cell_id) {\n                        if (nbb_cells[i].get_text() == nbb_unformatted_code) {\n                             nbb_cells[i].set_text(nbb_formatted_code);\n                        }\n                        break;\n                    }\n                }\n            }, 500);\n            ",
      "text/plain": [
       "<IPython.core.display.Javascript object>"
      ]
     },
     "metadata": {},
     "output_type": "display_data"
    }
   ],
   "source": [
    "# save altered CF compliancy\n",
    "save_compliancy(\n",
    "    cap, testfile=ds_dir.joinpath(ds_out_file + \"_CF.nc\"), working_dir=CF_dir,\n",
    ")"
   ]
  },
  {
   "cell_type": "markdown",
   "id": "beec081e",
   "metadata": {},
   "source": [
    "### write data to Zarr files"
   ]
  },
  {
   "cell_type": "code",
   "execution_count": 29,
   "id": "6ba75d19",
   "metadata": {},
   "outputs": [
    {
     "data": {
      "text/plain": [
       "<xarray.backends.zarr.ZarrStore at 0x19782b22d60>"
      ]
     },
     "execution_count": 29,
     "metadata": {},
     "output_type": "execute_result"
    },
    {
     "data": {
      "application/javascript": "\n            setTimeout(function() {\n                var nbb_cell_id = 29;\n                var nbb_unformatted_code = \"# export to zarr in write mode (to overwrite if exists)\\ndataset.to_zarr(ds_dir.joinpath(\\\"%s.zarr\\\" % ds_out_file), mode=\\\"w\\\")\";\n                var nbb_formatted_code = \"# export to zarr in write mode (to overwrite if exists)\\ndataset.to_zarr(ds_dir.joinpath(\\\"%s.zarr\\\" % ds_out_file), mode=\\\"w\\\")\";\n                var nbb_cells = Jupyter.notebook.get_cells();\n                for (var i = 0; i < nbb_cells.length; ++i) {\n                    if (nbb_cells[i].input_prompt_number == nbb_cell_id) {\n                        if (nbb_cells[i].get_text() == nbb_unformatted_code) {\n                             nbb_cells[i].set_text(nbb_formatted_code);\n                        }\n                        break;\n                    }\n                }\n            }, 500);\n            ",
      "text/plain": [
       "<IPython.core.display.Javascript object>"
      ]
     },
     "metadata": {},
     "output_type": "display_data"
    }
   ],
   "source": [
    "# export to zarr in write mode (to overwrite if exists)\n",
    "dataset.to_zarr(ds_dir.joinpath(\"%s.zarr\" % ds_out_file), mode=\"w\")"
   ]
  },
  {
   "cell_type": "code",
   "execution_count": null,
   "id": "d9ce96dd",
   "metadata": {},
   "outputs": [],
   "source": []
  }
 ],
 "metadata": {
  "kernelspec": {
   "display_name": "geo_env",
   "language": "python",
   "name": "python3"
  },
  "language_info": {
   "codemirror_mode": {
    "name": "ipython",
    "version": 3
   },
   "file_extension": ".py",
   "mimetype": "text/x-python",
   "name": "python",
   "nbconvert_exporter": "python",
   "pygments_lexer": "ipython3",
   "version": "3.8.16"
  },
  "vscode": {
   "interpreter": {
    "hash": "87ae0984f36d95e078b67bd2b4bbb116aebe2e74206b8dbadfa9fc4cbc2b2df2"
   }
  }
 },
 "nbformat": 4,
 "nbformat_minor": 5
}
