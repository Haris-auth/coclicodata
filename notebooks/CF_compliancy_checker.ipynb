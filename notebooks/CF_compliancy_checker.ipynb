{
 "cells": [
  {
   "cell_type": "code",
   "execution_count": 20,
   "id": "72908177",
   "metadata": {},
   "outputs": [
    {
     "name": "stdout",
     "output_type": "stream",
     "text": [
      "The nb_black extension is already loaded. To reload it, use:\n",
      "  %reload_ext nb_black\n"
     ]
    },
    {
     "data": {
      "application/javascript": "\n            setTimeout(function() {\n                var nbb_cell_id = 20;\n                var nbb_unformatted_code = \"# -*- coding: utf-8 -*-\\n\\\"\\\"\\\"\\nCreated on Thu Jun 14 08:22:35 2022\\n\\n@author: kras\\n\\\"\\\"\\\"\\n\\n# NOTE, this notebook functioned as basis for CF_compliancy_checker.py in coclicodata/etl and is outdated per 19/7/2022 \\n\\n# Optional; code formatter, installed as jupyter lab extension\\n#%load_ext lab_black\\n# Optional; code formatter, installed as jupyter notebook extension\\n%load_ext nb_black\\n\\n# imports\\nimport mock\\nimport requests\\nfrom bs4 import BeautifulSoup\\nimport re\\nimport os\\nimport pathlib\\nfrom ctypes import CDLL\\nimport platform\\n\\n# OS configurations\\nif platform.system() == \\\"Windows\\\":\\n    p_drive = pathlib.Path(\\\"P:/\\\")\\nelse:  # linux or other\\n    p_drive = pathlib.Path(\\\"/p/\\\")\\n\\n# # another CF tester (https://github.com/ioos/compliance-checker)\\n# from compliance_checker.runner import ComplianceChecker, CheckSuite\";\n                var nbb_formatted_code = \"# -*- coding: utf-8 -*-\\n\\\"\\\"\\\"\\nCreated on Thu Jun 14 08:22:35 2022\\n\\n@author: kras\\n\\\"\\\"\\\"\\n\\n# NOTE, this notebook functioned as basis for CF_compliancy_checker.py in coclicodata/etl and is outdated per 19/7/2022\\n\\n# Optional; code formatter, installed as jupyter lab extension\\n# %load_ext lab_black\\n# Optional; code formatter, installed as jupyter notebook extension\\n%load_ext nb_black\\n\\n# imports\\nimport mock\\nimport requests\\nfrom bs4 import BeautifulSoup\\nimport re\\nimport os\\nimport pathlib\\nfrom ctypes import CDLL\\nimport platform\\n\\n# OS configurations\\nif platform.system() == \\\"Windows\\\":\\n    p_drive = pathlib.Path(\\\"P:/\\\")\\nelse:  # linux or other\\n    p_drive = pathlib.Path(\\\"/p/\\\")\\n\\n# # another CF tester (https://github.com/ioos/compliance-checker)\\n# from compliance_checker.runner import ComplianceChecker, CheckSuite\";\n                var nbb_cells = Jupyter.notebook.get_cells();\n                for (var i = 0; i < nbb_cells.length; ++i) {\n                    if (nbb_cells[i].input_prompt_number == nbb_cell_id) {\n                        if (nbb_cells[i].get_text() == nbb_unformatted_code) {\n                             nbb_cells[i].set_text(nbb_formatted_code);\n                        }\n                        break;\n                    }\n                }\n            }, 500);\n            ",
      "text/plain": [
       "<IPython.core.display.Javascript object>"
      ]
     },
     "metadata": {},
     "output_type": "display_data"
    }
   ],
   "source": [
    "# -*- coding: utf-8 -*-\n",
    "\"\"\"\n",
    "Created on Thu Jun 14 08:22:35 2022\n",
    "\n",
    "@author: kras\n",
    "\"\"\"\n",
    "\n",
    "# NOTE, this notebook functioned as basis for CF_compliancy_checker.py in coclicodata/etl and is outdated per 19/7/2022 \n",
    "\n",
    "# Optional; code formatter, installed as jupyter lab extension\n",
    "#%load_ext lab_black\n",
    "# Optional; code formatter, installed as jupyter notebook extension\n",
    "%load_ext nb_black\n",
    "\n",
    "# imports\n",
    "import mock\n",
    "import requests\n",
    "from bs4 import BeautifulSoup\n",
    "import re\n",
    "import os\n",
    "import pathlib\n",
    "from ctypes import CDLL\n",
    "import platform\n",
    "\n",
    "# OS configurations\n",
    "if platform.system() == \"Windows\":\n",
    "    p_drive = pathlib.Path(\"P:/\")\n",
    "else:  # linux or other\n",
    "    p_drive = pathlib.Path(\"/p/\")\n",
    "\n",
    "# # another CF tester (https://github.com/ioos/compliance-checker)\n",
    "# from compliance_checker.runner import ComplianceChecker, CheckSuite"
   ]
  },
  {
   "cell_type": "code",
   "execution_count": 21,
   "id": "65ec5c85",
   "metadata": {},
   "outputs": [
    {
     "data": {
      "application/javascript": "\n            setTimeout(function() {\n                var nbb_cell_id = 21;\n                var nbb_unformatted_code = \"# toggles\\nmain_folder = p_drive.joinpath(r\\\"11205479-coclico\\\\data\\\")  # local data folder\\ntestfile = main_folder.joinpath(\\n    r\\\"18_AR5_SLP_IPCC\\\\total-ens-slr-26-5.nc\\\"\\n)  # file to be tested in this script\\nworking_folder = main_folder.joinpath(r\\\"CF\\\")  # directory to save output check files\";\n                var nbb_formatted_code = \"# toggles\\nmain_folder = p_drive.joinpath(r\\\"11205479-coclico\\\\data\\\")  # local data folder\\ntestfile = main_folder.joinpath(\\n    r\\\"18_AR5_SLP_IPCC\\\\total-ens-slr-26-5.nc\\\"\\n)  # file to be tested in this script\\nworking_folder = main_folder.joinpath(r\\\"CF\\\")  # directory to save output check files\";\n                var nbb_cells = Jupyter.notebook.get_cells();\n                for (var i = 0; i < nbb_cells.length; ++i) {\n                    if (nbb_cells[i].input_prompt_number == nbb_cell_id) {\n                        if (nbb_cells[i].get_text() == nbb_unformatted_code) {\n                             nbb_cells[i].set_text(nbb_formatted_code);\n                        }\n                        break;\n                    }\n                }\n            }, 500);\n            ",
      "text/plain": [
       "<IPython.core.display.Javascript object>"
      ]
     },
     "metadata": {},
     "output_type": "display_data"
    }
   ],
   "source": [
    "# toggles\n",
    "main_folder = p_drive.joinpath(r\"11205479-coclico\\data\")  # local data folder\n",
    "testfile = main_folder.joinpath(\n",
    "    r\"18_AR5_SLP_IPCC\\total-ens-slr-26-5.nc\"\n",
    ")  # file to be tested in this script\n",
    "working_folder = main_folder.joinpath(r\"CF\")  # directory to save output check files"
   ]
  },
  {
   "cell_type": "code",
   "execution_count": 22,
   "id": "554f87a1",
   "metadata": {},
   "outputs": [
    {
     "data": {
      "application/javascript": "\n            setTimeout(function() {\n                var nbb_cell_id = 22;\n                var nbb_unformatted_code = \"# workaround to the Windows OS (10) udunits error after installation of cfchecker: https://github.com/SciTools/iris/issues/404\\nhome = pathlib.Path().home()\\nos.environ[\\\"UDUNITS2_XML_PATH\\\"] = str(\\n    home.joinpath(  # change to the udunits2.xml file dir in your Python installation\\n        r\\\"Anaconda3\\\\pkgs\\\\udunits2-2.2.28-h892ecd3_0\\\\Library\\\\share\\\\udunits\\\\udunits2.xml\\\"\\n    )\\n)\";\n                var nbb_formatted_code = \"# workaround to the Windows OS (10) udunits error after installation of cfchecker: https://github.com/SciTools/iris/issues/404\\nhome = pathlib.Path().home()\\nos.environ[\\\"UDUNITS2_XML_PATH\\\"] = str(\\n    home.joinpath(  # change to the udunits2.xml file dir in your Python installation\\n        r\\\"Anaconda3\\\\pkgs\\\\udunits2-2.2.28-h892ecd3_0\\\\Library\\\\share\\\\udunits\\\\udunits2.xml\\\"\\n    )\\n)\";\n                var nbb_cells = Jupyter.notebook.get_cells();\n                for (var i = 0; i < nbb_cells.length; ++i) {\n                    if (nbb_cells[i].input_prompt_number == nbb_cell_id) {\n                        if (nbb_cells[i].get_text() == nbb_unformatted_code) {\n                             nbb_cells[i].set_text(nbb_formatted_code);\n                        }\n                        break;\n                    }\n                }\n            }, 500);\n            ",
      "text/plain": [
       "<IPython.core.display.Javascript object>"
      ]
     },
     "metadata": {},
     "output_type": "display_data"
    }
   ],
   "source": [
    "# workaround to the Windows OS (10) udunits error after installation of cfchecker: https://github.com/SciTools/iris/issues/404\n",
    "home = pathlib.Path().home()\n",
    "os.environ[\"UDUNITS2_XML_PATH\"] = str(\n",
    "    home.joinpath(  # change to the udunits2.xml file dir in your Python installation\n",
    "        r\"Anaconda3\\pkgs\\udunits2-2.2.28-h892ecd3_0\\Library\\share\\udunits\\udunits2.xml\"\n",
    "    )\n",
    ")"
   ]
  },
  {
   "cell_type": "code",
   "execution_count": 29,
   "id": "e8dd3ce0",
   "metadata": {},
   "outputs": [
    {
     "data": {
      "application/javascript": "\n            setTimeout(function() {\n                var nbb_cell_id = 29;\n                var nbb_unformatted_code = \"# CF check initialization\\nupdate_versions = (\\n    True  # search for most recent CF tables if True, if False use default numbers\\n)\\ndownload_tables = (\\n    False  # download and save tables if True, else only use them from source\\n)\\n\\ntable_dict = {\\n    \\\"cf-standard-name-table\\\": {\\n        \\\"version\\\": 76,\\n        \\\"page\\\": \\\"http://cfconventions.org/Data/cf-standard-names/current/build/cf-standard-name-table.html\\\", # default number\\n    },\\n    \\\"area-type-table\\\": {\\n        \\\"version\\\": 9,\\n        \\\"page\\\": \\\"http://cfconventions.org/Data/area-type-table/current/build/area-type-table.html\\\", # default number\\n    },\\n    \\\"standardized-region-list\\\": {\\n        \\\"version\\\": 4,\\n        \\\"page\\\": \\\"http://cfconventions.org/Data/standardized-region-list/standardized-region-list.current.html\\\", # default number\\n    },\\n}\\n\\n# function to retrieve recent CF tables from the CF convention website if update_versions == True\\ndef get_recent_versions(page):\\n    response = requests.get(page)\\n    parsed_html = BeautifulSoup(response.content)\\n    return int(str(parsed_html).split(\\\"Version\\\")[1].split(\\\",\\\")[0])\\n\\n# update table_dict if update_version == True\\nif update_versions:\\n    for idx, key in enumerate(table_dict.keys()):\\n        table_dict[key][\\\"version\\\"] = get_recent_versions(table_dict[key][\\\"page\\\"])\";\n                var nbb_formatted_code = \"# CF check initialization\\nupdate_versions = (\\n    True  # search for most recent CF tables if True, if False use default numbers\\n)\\ndownload_tables = (\\n    False  # download and save tables if True, else only use them from source\\n)\\n\\ntable_dict = {\\n    \\\"cf-standard-name-table\\\": {\\n        \\\"version\\\": 76,\\n        \\\"page\\\": \\\"http://cfconventions.org/Data/cf-standard-names/current/build/cf-standard-name-table.html\\\",  # default number\\n    },\\n    \\\"area-type-table\\\": {\\n        \\\"version\\\": 9,\\n        \\\"page\\\": \\\"http://cfconventions.org/Data/area-type-table/current/build/area-type-table.html\\\",  # default number\\n    },\\n    \\\"standardized-region-list\\\": {\\n        \\\"version\\\": 4,\\n        \\\"page\\\": \\\"http://cfconventions.org/Data/standardized-region-list/standardized-region-list.current.html\\\",  # default number\\n    },\\n}\\n\\n\\n# function to retrieve recent CF tables from the CF convention website if update_versions == True\\ndef get_recent_versions(page):\\n    response = requests.get(page)\\n    parsed_html = BeautifulSoup(response.content)\\n    return int(str(parsed_html).split(\\\"Version\\\")[1].split(\\\",\\\")[0])\\n\\n\\n# update table_dict if update_version == True\\nif update_versions:\\n    for idx, key in enumerate(table_dict.keys()):\\n        table_dict[key][\\\"version\\\"] = get_recent_versions(table_dict[key][\\\"page\\\"])\";\n                var nbb_cells = Jupyter.notebook.get_cells();\n                for (var i = 0; i < nbb_cells.length; ++i) {\n                    if (nbb_cells[i].input_prompt_number == nbb_cell_id) {\n                        if (nbb_cells[i].get_text() == nbb_unformatted_code) {\n                             nbb_cells[i].set_text(nbb_formatted_code);\n                        }\n                        break;\n                    }\n                }\n            }, 500);\n            ",
      "text/plain": [
       "<IPython.core.display.Javascript object>"
      ]
     },
     "metadata": {},
     "output_type": "display_data"
    }
   ],
   "source": [
    "# CF check initialization\n",
    "update_versions = (\n",
    "    True  # search for most recent CF tables if True, if False use default numbers\n",
    ")\n",
    "download_tables = (\n",
    "    False  # download and save tables if True, else only use them from source\n",
    ")\n",
    "\n",
    "table_dict = {\n",
    "    \"cf-standard-name-table\": {\n",
    "        \"version\": 76,\n",
    "        \"page\": \"http://cfconventions.org/Data/cf-standard-names/current/build/cf-standard-name-table.html\", # default number\n",
    "    },\n",
    "    \"area-type-table\": {\n",
    "        \"version\": 9,\n",
    "        \"page\": \"http://cfconventions.org/Data/area-type-table/current/build/area-type-table.html\", # default number\n",
    "    },\n",
    "    \"standardized-region-list\": {\n",
    "        \"version\": 4,\n",
    "        \"page\": \"http://cfconventions.org/Data/standardized-region-list/standardized-region-list.current.html\", # default number\n",
    "    },\n",
    "}\n",
    "\n",
    "# function to retrieve recent CF tables from the CF convention website if update_versions == True\n",
    "def get_recent_versions(page):\n",
    "    response = requests.get(page)\n",
    "    parsed_html = BeautifulSoup(response.content)\n",
    "    return int(str(parsed_html).split(\"Version\")[1].split(\",\")[0])\n",
    "\n",
    "# update table_dict if update_version == True\n",
    "if update_versions:\n",
    "    for idx, key in enumerate(table_dict.keys()):\n",
    "        table_dict[key][\"version\"] = get_recent_versions(table_dict[key][\"page\"])"
   ]
  },
  {
   "cell_type": "code",
   "execution_count": 30,
   "id": "6e24cbd6",
   "metadata": {},
   "outputs": [
    {
     "data": {
      "application/javascript": "\n            setTimeout(function() {\n                var nbb_cell_id = 30;\n                var nbb_unformatted_code = \"# extend table_dict with CF tables URL from CF conventions website\\ntable_dict[\\\"cf-standard-name-table\\\"][\\n    \\\"url\\\"\\n] = \\\"http://cfconventions.org/Data/cf-standard-names/{0}/src/cf-standard-name-table.xml\\\".format(\\n    table_dict[\\\"cf-standard-name-table\\\"][\\\"version\\\"]\\n)\\ntable_dict[\\\"area-type-table\\\"][\\n    \\\"url\\\"\\n] = \\\"http://cfconventions.org/Data/area-type-table/{0}/src/area-type-table.xml\\\".format(\\n    table_dict[\\\"area-type-table\\\"][\\\"version\\\"]\\n)\\ntable_dict[\\\"standardized-region-list\\\"][\\n    \\\"url\\\"\\n] = \\\"http://cfconventions.org/Data/standardized-region-list/standardized-region-list.{0}.xml\\\".format(\\n    table_dict[\\\"standardized-region-list\\\"][\\\"version\\\"]\\n)\\n\\n# extend table_dict with local path to save downloaded CF tables, if enabled\\nif download_tables:  # save CF tables to working folder if download_tables == True\\n    for tablename in table_dict.keys():\\n        table_dict[tablename][\\\"local_path\\\"] = \\\"{0}\\\\{1}-{2}.xml\\\".format(\\n            working_folder, tablename, table_dict[tablename][\\\"version\\\"]\\n        )\\n    \\n        response = requests.get(table_dict[tablename][\\\"url\\\"])\\n        with open(table_dict[tablename][\\\"local_path\\\"], \\\"wb\\\",) as file:\\n            file.write(response.content)\";\n                var nbb_formatted_code = \"# extend table_dict with CF tables URL from CF conventions website\\ntable_dict[\\\"cf-standard-name-table\\\"][\\n    \\\"url\\\"\\n] = \\\"http://cfconventions.org/Data/cf-standard-names/{0}/src/cf-standard-name-table.xml\\\".format(\\n    table_dict[\\\"cf-standard-name-table\\\"][\\\"version\\\"]\\n)\\ntable_dict[\\\"area-type-table\\\"][\\n    \\\"url\\\"\\n] = \\\"http://cfconventions.org/Data/area-type-table/{0}/src/area-type-table.xml\\\".format(\\n    table_dict[\\\"area-type-table\\\"][\\\"version\\\"]\\n)\\ntable_dict[\\\"standardized-region-list\\\"][\\n    \\\"url\\\"\\n] = \\\"http://cfconventions.org/Data/standardized-region-list/standardized-region-list.{0}.xml\\\".format(\\n    table_dict[\\\"standardized-region-list\\\"][\\\"version\\\"]\\n)\\n\\n# extend table_dict with local path to save downloaded CF tables, if enabled\\nif download_tables:  # save CF tables to working folder if download_tables == True\\n    for tablename in table_dict.keys():\\n        table_dict[tablename][\\\"local_path\\\"] = \\\"{0}\\\\{1}-{2}.xml\\\".format(\\n            working_folder, tablename, table_dict[tablename][\\\"version\\\"]\\n        )\\n\\n        response = requests.get(table_dict[tablename][\\\"url\\\"])\\n        with open(\\n            table_dict[tablename][\\\"local_path\\\"],\\n            \\\"wb\\\",\\n        ) as file:\\n            file.write(response.content)\";\n                var nbb_cells = Jupyter.notebook.get_cells();\n                for (var i = 0; i < nbb_cells.length; ++i) {\n                    if (nbb_cells[i].input_prompt_number == nbb_cell_id) {\n                        if (nbb_cells[i].get_text() == nbb_unformatted_code) {\n                             nbb_cells[i].set_text(nbb_formatted_code);\n                        }\n                        break;\n                    }\n                }\n            }, 500);\n            ",
      "text/plain": [
       "<IPython.core.display.Javascript object>"
      ]
     },
     "metadata": {},
     "output_type": "display_data"
    }
   ],
   "source": [
    "# extend table_dict with CF tables URL from CF conventions website\n",
    "table_dict[\"cf-standard-name-table\"][\n",
    "    \"url\"\n",
    "] = \"http://cfconventions.org/Data/cf-standard-names/{0}/src/cf-standard-name-table.xml\".format(\n",
    "    table_dict[\"cf-standard-name-table\"][\"version\"]\n",
    ")\n",
    "table_dict[\"area-type-table\"][\n",
    "    \"url\"\n",
    "] = \"http://cfconventions.org/Data/area-type-table/{0}/src/area-type-table.xml\".format(\n",
    "    table_dict[\"area-type-table\"][\"version\"]\n",
    ")\n",
    "table_dict[\"standardized-region-list\"][\n",
    "    \"url\"\n",
    "] = \"http://cfconventions.org/Data/standardized-region-list/standardized-region-list.{0}.xml\".format(\n",
    "    table_dict[\"standardized-region-list\"][\"version\"]\n",
    ")\n",
    "\n",
    "# extend table_dict with local path to save downloaded CF tables, if enabled\n",
    "if download_tables:  # save CF tables to working folder if download_tables == True\n",
    "    for tablename in table_dict.keys():\n",
    "        table_dict[tablename][\"local_path\"] = \"{0}\\{1}-{2}.xml\".format(\n",
    "            working_folder, tablename, table_dict[tablename][\"version\"]\n",
    "        )\n",
    "    \n",
    "        response = requests.get(table_dict[tablename][\"url\"])\n",
    "        with open(table_dict[tablename][\"local_path\"], \"wb\",) as file:\n",
    "            file.write(response.content)"
   ]
  },
  {
   "cell_type": "code",
   "execution_count": 32,
   "id": "4e30799e",
   "metadata": {},
   "outputs": [
    {
     "data": {
      "application/javascript": "\n            setTimeout(function() {\n                var nbb_cell_id = 32;\n                var nbb_unformatted_code = \"%%capture cap --no-stderr\\n\\n# check CF compliancy within the testfile\\nwith mock.patch.object(\\n    CDLL.__init__, \\\"__defaults__\\\", (0, None, False, False, 0)\\n):  # monkeypatch workaround for the Windows OS (10) ctypes.dll error: https://stackoverflow.com/questions/59330863/cant-import-dll-module-in-python\\n    from cfchecker.cfchecks import (\\n        CFChecker,\\n    )  # import the cfchecker package i.s.o. subprocess application as in https://cmip-data-pool.dkrz.de/quality-assurance-cfchecker-ceda.html\\n\\n    inst = CFChecker(\\n        useFileName=\\\"yes\\\",\\n        cfStandardNamesXML=table_dict[\\\"cf-standard-name-table\\\"][\\\"url\\\"],\\n        cfAreaTypesXML=table_dict[\\\"area-type-table\\\"][\\\"url\\\"],\\n        cfRegionNamesXML=table_dict[\\\"standardized-region-list\\\"][\\\"url\\\"],\\n        debug=False,\\n        silent=False,\\n    )\\n    inst.checker(str(testfile))\";\n                var nbb_formatted_code = \"%%capture cap --no-stderr\\n\\n# check CF compliancy within the testfile\\nwith mock.patch.object(\\n    CDLL.__init__, \\\"__defaults__\\\", (0, None, False, False, 0)\\n):  # monkeypatch workaround for the Windows OS (10) ctypes.dll error: https://stackoverflow.com/questions/59330863/cant-import-dll-module-in-python\\n    from cfchecker.cfchecks import (\\n        CFChecker,\\n    )  # import the cfchecker package i.s.o. subprocess application as in https://cmip-data-pool.dkrz.de/quality-assurance-cfchecker-ceda.html\\n\\n    inst = CFChecker(\\n        useFileName=\\\"yes\\\",\\n        cfStandardNamesXML=table_dict[\\\"cf-standard-name-table\\\"][\\\"url\\\"],\\n        cfAreaTypesXML=table_dict[\\\"area-type-table\\\"][\\\"url\\\"],\\n        cfRegionNamesXML=table_dict[\\\"standardized-region-list\\\"][\\\"url\\\"],\\n        debug=False,\\n        silent=False,\\n    )\\n    inst.checker(str(testfile))\";\n                var nbb_cells = Jupyter.notebook.get_cells();\n                for (var i = 0; i < nbb_cells.length; ++i) {\n                    if (nbb_cells[i].input_prompt_number == nbb_cell_id) {\n                        if (nbb_cells[i].get_text() == nbb_unformatted_code) {\n                             nbb_cells[i].set_text(nbb_formatted_code);\n                        }\n                        break;\n                    }\n                }\n            }, 500);\n            ",
      "text/plain": [
       "<IPython.core.display.Javascript object>"
      ]
     },
     "metadata": {},
     "output_type": "display_data"
    }
   ],
   "source": [
    "%%capture cap --no-stderr\n",
    "\n",
    "# check CF compliancy within the testfile\n",
    "with mock.patch.object(\n",
    "    CDLL.__init__, \"__defaults__\", (0, None, False, False, 0)\n",
    "):  # monkeypatch workaround for the Windows OS (10) ctypes.dll error: https://stackoverflow.com/questions/59330863/cant-import-dll-module-in-python\n",
    "    from cfchecker.cfchecks import (\n",
    "        CFChecker,\n",
    "    )  # import the cfchecker package i.s.o. subprocess application as in https://cmip-data-pool.dkrz.de/quality-assurance-cfchecker-ceda.html\n",
    "\n",
    "    inst = CFChecker(\n",
    "        useFileName=\"yes\",\n",
    "        cfStandardNamesXML=table_dict[\"cf-standard-name-table\"][\"url\"],\n",
    "        cfAreaTypesXML=table_dict[\"area-type-table\"][\"url\"],\n",
    "        cfRegionNamesXML=table_dict[\"standardized-region-list\"][\"url\"],\n",
    "        debug=False,\n",
    "        silent=False,\n",
    "    )\n",
    "    inst.checker(str(testfile))"
   ]
  },
  {
   "cell_type": "code",
   "execution_count": 37,
   "id": "12247ec4",
   "metadata": {},
   "outputs": [
    {
     "name": "stdout",
     "output_type": "stream",
     "text": [
      "{'P:\\\\11205479-coclico\\\\data\\\\18_AR5_SLP_IPCC\\\\total-ens-slr-26-5.nc': {'warnings': '1', 'errors': '0'}}\n"
     ]
    },
    {
     "data": {
      "application/javascript": "\n            setTimeout(function() {\n                var nbb_cell_id = 37;\n                var nbb_unformatted_code = \"# create directory and save captured cell output to a .check file\\nworking_folder.joinpath(str(testfile).split(\\\"\\\\\\\\\\\")[-2]).mkdir(\\n    parents=True, exist_ok=True\\n)\\n\\nwith open(\\n    working_folder.joinpath(\\n        str(testfile).split(\\\"\\\\\\\\\\\")[-2],\\n        str(testfile).split(\\\"\\\\\\\\\\\")[-1].replace(\\\".nc\\\", \\\"n.check\\\"),\\n    ),\\n    \\\"w\\\",\\n) as f:\\n    f.write(cap.stdout)\\n\\n# open the created file\\nwith open(\\n    working_folder.joinpath(\\n        str(testfile).split(\\\"\\\\\\\\\\\")[-2],\\n        str(testfile).split(\\\"\\\\\\\\\\\")[-1].replace(\\\".nc\\\", \\\"n.check\\\"),\\n    )\\n) as f:\\n    file = f.read()\\n\\n# print an in-line summary of the CF checker\\nfiles = [\\n    fileline.split(\\\": \\\")[1]\\n    for fileline in file.split(\\\"\\\\n\\\")\\n    if \\\"CHECKING NetCDF FILE\\\" in fileline\\n]\\nwarnings = [\\n    warningline.split(\\\": \\\")[1]\\n    for warningline in file.split(\\\"\\\\n\\\")\\n    if \\\"WARNINGS given\\\" in warningline\\n]\\nerrors = [\\n    errorline.split(\\\": \\\")[1]\\n    for errorline in file.split(\\\"\\\\n\\\")\\n    if \\\"ERRORS detected\\\" in errorline\\n]\\n\\nresult_dict = {}\\nfor idx, f in enumerate(files):\\n    result_dict[f] = {\\\"warnings\\\": warnings[idx], \\\"errors\\\": errors[idx]}\\nprint(result_dict)\";\n                var nbb_formatted_code = \"# create directory and save captured cell output to a .check file\\nworking_folder.joinpath(str(testfile).split(\\\"\\\\\\\\\\\")[-2]).mkdir(\\n    parents=True, exist_ok=True\\n)\\n\\nwith open(\\n    working_folder.joinpath(\\n        str(testfile).split(\\\"\\\\\\\\\\\")[-2],\\n        str(testfile).split(\\\"\\\\\\\\\\\")[-1].replace(\\\".nc\\\", \\\"n.check\\\"),\\n    ),\\n    \\\"w\\\",\\n) as f:\\n    f.write(cap.stdout)\\n\\n# open the created file\\nwith open(\\n    working_folder.joinpath(\\n        str(testfile).split(\\\"\\\\\\\\\\\")[-2],\\n        str(testfile).split(\\\"\\\\\\\\\\\")[-1].replace(\\\".nc\\\", \\\"n.check\\\"),\\n    )\\n) as f:\\n    file = f.read()\\n\\n# print an in-line summary of the CF checker\\nfiles = [\\n    fileline.split(\\\": \\\")[1]\\n    for fileline in file.split(\\\"\\\\n\\\")\\n    if \\\"CHECKING NetCDF FILE\\\" in fileline\\n]\\nwarnings = [\\n    warningline.split(\\\": \\\")[1]\\n    for warningline in file.split(\\\"\\\\n\\\")\\n    if \\\"WARNINGS given\\\" in warningline\\n]\\nerrors = [\\n    errorline.split(\\\": \\\")[1]\\n    for errorline in file.split(\\\"\\\\n\\\")\\n    if \\\"ERRORS detected\\\" in errorline\\n]\\n\\nresult_dict = {}\\nfor idx, f in enumerate(files):\\n    result_dict[f] = {\\\"warnings\\\": warnings[idx], \\\"errors\\\": errors[idx]}\\nprint(result_dict)\";\n                var nbb_cells = Jupyter.notebook.get_cells();\n                for (var i = 0; i < nbb_cells.length; ++i) {\n                    if (nbb_cells[i].input_prompt_number == nbb_cell_id) {\n                        if (nbb_cells[i].get_text() == nbb_unformatted_code) {\n                             nbb_cells[i].set_text(nbb_formatted_code);\n                        }\n                        break;\n                    }\n                }\n            }, 500);\n            ",
      "text/plain": [
       "<IPython.core.display.Javascript object>"
      ]
     },
     "metadata": {},
     "output_type": "display_data"
    }
   ],
   "source": [
    "# create directory and save captured cell output to a .check file\n",
    "working_folder.joinpath(str(testfile).split(\"\\\\\")[-2]).mkdir(\n",
    "    parents=True, exist_ok=True\n",
    ")\n",
    "\n",
    "with open(\n",
    "    working_folder.joinpath(\n",
    "        str(testfile).split(\"\\\\\")[-2],\n",
    "        str(testfile).split(\"\\\\\")[-1].replace(\".nc\", \"n.check\"),\n",
    "    ),\n",
    "    \"w\",\n",
    ") as f:\n",
    "    f.write(cap.stdout)\n",
    "\n",
    "# open the created file\n",
    "with open(\n",
    "    working_folder.joinpath(\n",
    "        str(testfile).split(\"\\\\\")[-2],\n",
    "        str(testfile).split(\"\\\\\")[-1].replace(\".nc\", \"n.check\"),\n",
    "    )\n",
    ") as f:\n",
    "    file = f.read()\n",
    "\n",
    "# print an in-line summary of the CF checker\n",
    "files = [\n",
    "    fileline.split(\": \")[1]\n",
    "    for fileline in file.split(\"\\n\")\n",
    "    if \"CHECKING NetCDF FILE\" in fileline\n",
    "]\n",
    "warnings = [\n",
    "    warningline.split(\": \")[1]\n",
    "    for warningline in file.split(\"\\n\")\n",
    "    if \"WARNINGS given\" in warningline\n",
    "]\n",
    "errors = [\n",
    "    errorline.split(\": \")[1]\n",
    "    for errorline in file.split(\"\\n\")\n",
    "    if \"ERRORS detected\" in errorline\n",
    "]\n",
    "\n",
    "result_dict = {}\n",
    "for idx, f in enumerate(files):\n",
    "    result_dict[f] = {\"warnings\": warnings[idx], \"errors\": errors[idx]}\n",
    "print(result_dict)"
   ]
  }
 ],
 "metadata": {
  "kernelspec": {
   "display_name": "geo_env",
   "language": "python",
   "name": "python3"
  },
  "language_info": {
   "codemirror_mode": {
    "name": "ipython",
    "version": 3
   },
   "file_extension": ".py",
   "mimetype": "text/x-python",
   "name": "python",
   "nbconvert_exporter": "python",
   "pygments_lexer": "ipython3",
   "version": "3.8.16"
  },
  "vscode": {
   "interpreter": {
    "hash": "92590b8b61d447ec77a1c897af89012828c879bd382a813b35f1d19994b1169c"
   }
  }
 },
 "nbformat": 4,
 "nbformat_minor": 5
}
